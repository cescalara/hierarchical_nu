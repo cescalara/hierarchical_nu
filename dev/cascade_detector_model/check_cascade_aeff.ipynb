{
 "cells": [
  {
   "cell_type": "code",
   "execution_count": 2,
   "metadata": {
    "ExecuteTime": {
     "end_time": "2021-01-05T15:54:51.658632Z",
     "start_time": "2021-01-05T15:54:50.990319Z"
    }
   },
   "outputs": [],
   "source": [
    "import numpy as np\n",
    "from matplotlib import pyplot as plt\n",
    "import pandas as pd\n",
    "import os"
   ]
  },
  {
   "cell_type": "markdown",
   "metadata": {},
   "source": [
    "## HESE Aeffs from cascade model"
   ]
  },
  {
   "cell_type": "code",
   "execution_count": 3,
   "metadata": {
    "ExecuteTime": {
     "end_time": "2021-01-05T15:54:51.981394Z",
     "start_time": "2021-01-05T15:54:51.977624Z"
    }
   },
   "outputs": [],
   "source": [
    "path = \"../../cascade_model/aeff_HESE/\"\n",
    "names = os.listdir(path)"
   ]
  },
  {
   "cell_type": "code",
   "execution_count": 4,
   "metadata": {
    "ExecuteTime": {
     "end_time": "2021-01-05T15:54:52.331308Z",
     "start_time": "2021-01-05T15:54:52.292891Z"
    }
   },
   "outputs": [],
   "source": [
    "aeffs = []\n",
    "for name in names:  \n",
    "    df = pd.read_csv(path+name, sep=\" \")\n",
    "    ebin_cen = (df.ebin_low.unique() + df.ebin_high.unique())/2\n",
    "    costhbin_cen = (df.costhbin_low.unique() + df.costhbin_high.unique())/2\n",
    "    aeff = df.aeff.values.reshape(len(ebin_cen), len(costhbin_cen))\n",
    "    aeffs.append(aeff)"
   ]
  },
  {
   "cell_type": "code",
   "execution_count": 5,
   "metadata": {
    "ExecuteTime": {
     "end_time": "2021-01-05T15:54:52.654616Z",
     "start_time": "2021-01-05T15:54:52.651793Z"
    }
   },
   "outputs": [],
   "source": [
    "# sum\n",
    "total_aeff = np.zeros_like(aeffs[0])\n",
    "for aeff in aeffs:\n",
    "    total_aeff += aeff"
   ]
  },
  {
   "cell_type": "code",
   "execution_count": 6,
   "metadata": {
    "ExecuteTime": {
     "end_time": "2021-01-05T15:54:53.340282Z",
     "start_time": "2021-01-05T15:54:53.148719Z"
    }
   },
   "outputs": [
    {
     "data": {
      "text/plain": [
       "<matplotlib.contour.QuadContourSet at 0x104b06ac0>"
      ]
     },
     "execution_count": 6,
     "metadata": {},
     "output_type": "execute_result"
    },
    {
     "data": {
      "image/png": "[encoded data removed]",
      "text/plain": [
       "<Figure size 432x288 with 1 Axes>"
      ]
     },
     "metadata": {
      "needs_background": "light"
     },
     "output_type": "display_data"
    }
   ],
   "source": [
    "fig, ax = plt.subplots()\n",
    "ax.contourf(ebin_cen, costhbin_cen, total_aeff.T,\n",
    "            levels=20)"
   ]
  },
  {
   "cell_type": "code",
   "execution_count": 7,
   "metadata": {
    "ExecuteTime": {
     "end_time": "2021-01-05T15:54:53.801497Z",
     "start_time": "2021-01-05T15:54:53.796880Z"
    }
   },
   "outputs": [
    {
     "data": {
      "text/plain": [
       "13.00824896983286"
      ]
     },
     "execution_count": 7,
     "metadata": {},
     "output_type": "execute_result"
    }
   ],
   "source": [
    "np.max(aeffs[names==\"effective_area.HESE.nue.CC.txt\"])"
   ]
  },
  {
   "cell_type": "code",
   "execution_count": 8,
   "metadata": {
    "ExecuteTime": {
     "end_time": "2021-01-05T15:54:54.346847Z",
     "start_time": "2021-01-05T15:54:54.342263Z"
    }
   },
   "outputs": [
    {
     "data": {
      "text/plain": [
       "181.19080029648822"
      ]
     },
     "execution_count": 8,
     "metadata": {},
     "output_type": "execute_result"
    }
   ],
   "source": [
    "np.max(total_aeff) # units?"
   ]
  },
  {
   "cell_type": "markdown",
   "metadata": {},
   "source": [
    "## Compare with current version of CascadeDetectorModel"
   ]
  },
  {
   "cell_type": "code",
   "execution_count": 43,
   "metadata": {
    "ExecuteTime": {
     "end_time": "2021-01-05T16:41:00.429521Z",
     "start_time": "2021-01-05T16:41:00.426883Z"
    }
   },
   "outputs": [],
   "source": [
    "from python.detector_model import CascadesDetectorModel\n",
    "from python.backend.stan_generator import StanGenerator"
   ]
  },
  {
   "cell_type": "code",
   "execution_count": 44,
   "metadata": {
    "ExecuteTime": {
     "end_time": "2021-01-05T16:41:00.899395Z",
     "start_time": "2021-01-05T16:41:00.768757Z"
    }
   },
   "outputs": [],
   "source": [
    "with StanGenerator():\n",
    "    dm = CascadesDetectorModel()\n",
    "    effective_area = dm.effective_area\n",
    "    energy_resolution = dm.energy_resolution"
   ]
  },
  {
   "cell_type": "code",
   "execution_count": 45,
   "metadata": {
    "ExecuteTime": {
     "end_time": "2021-01-05T16:41:01.139331Z",
     "start_time": "2021-01-05T16:41:01.136102Z"
    }
   },
   "outputs": [],
   "source": [
    "ebin_edges = effective_area._tE_bin_edges\n",
    "cosz_edges = effective_area._cosz_bin_edges\n",
    "ebin_cen = (ebin_edges[:-1] + ebin_edges[1:])/2\n",
    "cosz_cen = (cosz_edges[:-1] + cosz_edges[1:])/2"
   ]
  },
  {
   "cell_type": "code",
   "execution_count": 49,
   "metadata": {
    "ExecuteTime": {
     "end_time": "2021-01-05T16:41:43.633878Z",
     "start_time": "2021-01-05T16:41:43.470008Z"
    }
   },
   "outputs": [
    {
     "data": {
      "text/plain": [
       "(3.0, 7.0)"
      ]
     },
     "execution_count": 49,
     "metadata": {},
     "output_type": "execute_result"
    },
    {
     "data": {
      "image/png": "[encoded data removed]",
      "text/plain": [
       "<Figure size 432x288 with 1 Axes>"
      ]
     },
     "metadata": {
      "needs_background": "light"
     },
     "output_type": "display_data"
    }
   ],
   "source": [
    "fig, ax = plt.subplots()\n",
    "ax.contourf(np.log10(ebin_cen), cosz_cen, effective_area._eff_area.T, levels=20)\n",
    "ax.set_xlim(3, 7)"
   ]
  },
  {
   "cell_type": "code",
   "execution_count": 24,
   "metadata": {
    "ExecuteTime": {
     "end_time": "2021-01-05T15:56:39.859648Z",
     "start_time": "2021-01-05T15:56:39.855525Z"
    }
   },
   "outputs": [
    {
     "data": {
      "text/plain": [
       "145.08302545007166"
      ]
     },
     "execution_count": 24,
     "metadata": {},
     "output_type": "execute_result"
    }
   ],
   "source": [
    "np.max(effective_area._eff_area)"
   ]
  },
  {
   "cell_type": "code",
   "execution_count": 14,
   "metadata": {
    "ExecuteTime": {
     "end_time": "2021-01-05T15:54:58.757866Z",
     "start_time": "2021-01-05T15:54:58.754189Z"
    }
   },
   "outputs": [
    {
     "data": {
      "text/plain": [
       "4.778151250383644"
      ]
     },
     "execution_count": 14,
     "metadata": {},
     "output_type": "execute_result"
    }
   ],
   "source": [
    "np.log10(60*1e3)"
   ]
  },
  {
   "cell_type": "markdown",
   "metadata": {},
   "source": [
    "## Files from server"
   ]
  },
  {
   "cell_type": "code",
   "execution_count": 15,
   "metadata": {
    "ExecuteTime": {
     "end_time": "2021-01-05T15:55:02.021828Z",
     "start_time": "2021-01-05T15:55:01.962144Z"
    }
   },
   "outputs": [],
   "source": [
    "import h5py"
   ]
  },
  {
   "cell_type": "code",
   "execution_count": 52,
   "metadata": {
    "ExecuteTime": {
     "end_time": "2021-01-05T17:14:10.711749Z",
     "start_time": "2021-01-05T17:14:09.133346Z"
    }
   },
   "outputs": [],
   "source": [
    "name = \"nue_CC_simulation_gamma_1.0_lEmin_4.477121254719663_lEmax_7.0_cascades_conv.h5\"\n",
    "df = pd.read_hdf(name)   "
   ]
  },
  {
   "cell_type": "code",
   "execution_count": 53,
   "metadata": {
    "ExecuteTime": {
     "end_time": "2021-01-05T17:14:16.582818Z",
     "start_time": "2021-01-05T17:14:16.579255Z"
    }
   },
   "outputs": [
    {
     "data": {
      "text/plain": [
       "1.0"
      ]
     },
     "execution_count": 53,
     "metadata": {},
     "output_type": "execute_result"
    }
   ],
   "source": [
    "len(df.generation_weight)/1e7"
   ]
  },
  {
   "cell_type": "code",
   "execution_count": 54,
   "metadata": {
    "ExecuteTime": {
     "end_time": "2021-01-05T17:14:18.585075Z",
     "start_time": "2021-01-05T17:14:17.343777Z"
    }
   },
   "outputs": [
    {
     "data": {
      "image/png": "[encoded data removed]",
      "text/plain": [
       "<Figure size 432x288 with 2 Axes>"
      ]
     },
     "metadata": {
      "needs_background": "light"
     },
     "output_type": "display_data"
    }
   ],
   "source": [
    "binc_CC, eprim_edges_CC, erec_edges_CC, _ = plt.hist2d(np.log10(df['prim_energy']), np.log10(df['rec_energy']), bins=[100, 100])\n",
    "cb = plt.colorbar()\n",
    "cb.set_label('Number of simulated events')\n",
    "plt.xlabel('log10[Enu (GeV)]')\n",
    "plt.ylabel('log10[Erec (GeV)]')\n",
    "plt.show()"
   ]
  },
  {
   "cell_type": "code",
   "execution_count": 19,
   "metadata": {
    "ExecuteTime": {
     "end_time": "2021-01-05T15:55:07.692161Z",
     "start_time": "2021-01-05T15:55:07.688487Z"
    }
   },
   "outputs": [
    {
     "data": {
      "text/plain": [
       "Index(['generation_weight', 'prim_coszenith', 'rec_coszenith', 'dep_energy',\n",
       "       'prim_type', 'rec_energy', 'prim_energy', 'prim_azimuth', 'rec_azimuth',\n",
       "       'bjorken_y', 'conv_flux'],\n",
       "      dtype='object')"
      ]
     },
     "execution_count": 19,
     "metadata": {},
     "output_type": "execute_result"
    }
   ],
   "source": [
    "df.columns"
   ]
  },
  {
   "cell_type": "code",
   "execution_count": 20,
   "metadata": {
    "ExecuteTime": {
     "end_time": "2021-01-05T15:55:08.404371Z",
     "start_time": "2021-01-05T15:55:08.401537Z"
    }
   },
   "outputs": [],
   "source": [
    "from matplotlib.colors import LogNorm"
   ]
  },
  {
   "cell_type": "code",
   "execution_count": 30,
   "metadata": {
    "ExecuteTime": {
     "end_time": "2021-01-05T15:57:40.027652Z",
     "start_time": "2021-01-05T15:57:38.969037Z"
    }
   },
   "outputs": [
    {
     "data": {
      "image/png": "[encoded data removed]",
      "text/plain": [
       "<Figure size 432x288 with 1 Axes>"
      ]
     },
     "metadata": {
      "needs_background": "light"
     },
     "output_type": "display_data"
    }
   ],
   "source": [
    "weights_plot=df['generation_weight'] * 1e-4 / (2.*np.pi)\n",
    "contents, _, _, _ = plt.hist2d(np.log10(df['prim_energy']), df['prim_coszenith'], weights = weights_plot, bins=[100, 50], norm=LogNorm())"
   ]
  },
  {
   "cell_type": "code",
   "execution_count": 31,
   "metadata": {
    "ExecuteTime": {
     "end_time": "2021-01-05T15:57:40.530844Z",
     "start_time": "2021-01-05T15:57:40.528403Z"
    }
   },
   "outputs": [],
   "source": [
    "# rescale as in aeff_HESE.ipynb to correct for bin areas"
   ]
  },
  {
   "cell_type": "code",
   "execution_count": 41,
   "metadata": {
    "ExecuteTime": {
     "end_time": "2021-01-05T16:39:42.993993Z",
     "start_time": "2021-01-05T16:39:42.989794Z"
    }
   },
   "outputs": [
    {
     "data": {
      "text/plain": [
       "716645.1799006662"
      ]
     },
     "execution_count": 41,
     "metadata": {},
     "output_type": "execute_result"
    }
   ],
   "source": [
    "np.max(contents)"
   ]
  },
  {
   "cell_type": "code",
   "execution_count": 42,
   "metadata": {
    "ExecuteTime": {
     "end_time": "2021-01-05T16:40:07.982331Z",
     "start_time": "2021-01-05T16:40:07.976945Z"
    }
   },
   "outputs": [
    {
     "data": {
      "text/plain": [
       "0    1.338766e+05\n",
       "1    4.770609e+04\n",
       "2    3.163177e+06\n",
       "3    9.477678e+06\n",
       "4    3.317877e+05\n",
       "5    5.421535e+04\n",
       "6    2.533296e+05\n",
       "7    1.097212e+04\n",
       "8    3.044346e+04\n",
       "9    5.803414e+04\n",
       "Name: generation_weight, dtype: float64"
      ]
     },
     "execution_count": 42,
     "metadata": {},
     "output_type": "execute_result"
    }
   ],
   "source": [
    "df['generation_weight'][0:10]"
   ]
  },
  {
   "cell_type": "markdown",
   "metadata": {},
   "source": [
    "## Tracks Aeff"
   ]
  },
  {
   "cell_type": "code",
   "execution_count": 38,
   "metadata": {
    "ExecuteTime": {
     "end_time": "2021-01-05T16:04:57.636267Z",
     "start_time": "2021-01-05T16:04:57.625893Z"
    }
   },
   "outputs": [],
   "source": [
    "with h5py.File(\"input/tracks/effective_area.h5\", 'r') as f:\n",
    "    \n",
    "    a = f[\"2010/nu_mu/area\"][()]"
   ]
  },
  {
   "cell_type": "code",
   "execution_count": 40,
   "metadata": {
    "ExecuteTime": {
     "end_time": "2021-01-05T16:39:21.609642Z",
     "start_time": "2021-01-05T16:39:21.605291Z"
    }
   },
   "outputs": [
    {
     "data": {
      "text/plain": [
       "58140.32297558405"
      ]
     },
     "execution_count": 40,
     "metadata": {},
     "output_type": "execute_result"
    }
   ],
   "source": [
    "np.max(a)"
   ]
  },
  {
   "cell_type": "code",
   "execution_count": null,
   "metadata": {},
   "outputs": [],
   "source": []
  }
 ],
 "metadata": {
  "kernelspec": {
   "display_name": "bayes",
   "language": "python",
   "name": "bayes"
  },
  "language_info": {
   "codemirror_mode": {
    "name": "ipython",
    "version": 3
   },
   "file_extension": ".py",
   "mimetype": "text/x-python",
   "name": "python",
   "nbconvert_exporter": "python",
   "pygments_lexer": "ipython3",
   "version": "3.8.5"
  }
 },
 "nbformat": 4,
 "nbformat_minor": 4
}
