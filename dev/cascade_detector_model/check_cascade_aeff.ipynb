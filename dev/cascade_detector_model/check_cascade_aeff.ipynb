{
 "cells": [
  {
   "cell_type": "code",
   "execution_count": 10,
   "metadata": {
    "ExecuteTime": {
     "end_time": "2021-01-09T14:38:03.951599Z",
     "start_time": "2021-01-09T14:38:03.948753Z"
    }
   },
   "outputs": [],
   "source": [
    "import numpy as np\n",
    "from matplotlib import pyplot as plt\n",
    "from matplotlib.colors import LogNorm\n",
    "import pandas as pd\n",
    "import os"
   ]
  },
  {
   "cell_type": "markdown",
   "metadata": {},
   "source": [
    "## HESE Aeffs from cascade model"
   ]
  },
  {
   "cell_type": "code",
   "execution_count": 315,
   "metadata": {
    "ExecuteTime": {
     "end_time": "2021-01-10T10:06:50.313601Z",
     "start_time": "2021-01-10T10:06:50.310560Z"
    }
   },
   "outputs": [],
   "source": [
    "path = \"../../../cascade_model/aeff_HESE/\"\n",
    "names = os.listdir(path)\n",
    "name = 'effective_area.HESE.nutaubar.NC.txt'"
   ]
  },
  {
   "cell_type": "code",
   "execution_count": 316,
   "metadata": {
    "ExecuteTime": {
     "end_time": "2021-01-10T10:06:50.811034Z",
     "start_time": "2021-01-10T10:06:50.766251Z"
    }
   },
   "outputs": [],
   "source": [
    "#aeffs = []\n",
    "#for name in names:  \n",
    "df = pd.read_csv(path+name, sep=\" \")\n",
    "e_bins = np.append(df.ebin_low.unique(), df.ebin_high.unique()[-1])\n",
    "cosz_bins = np.append(df.costhbin_low.unique(), df. costhbin_high.unique()[-1])\n",
    "aeff = df.aeff.values.reshape(len(e_bins[:-1]), len(cosz_bins[:-1]))\n",
    "#aeffs.append(aeff)"
   ]
  },
  {
   "cell_type": "code",
   "execution_count": 317,
   "metadata": {
    "ExecuteTime": {
     "end_time": "2021-01-10T10:06:51.530107Z",
     "start_time": "2021-01-10T10:06:51.527667Z"
    }
   },
   "outputs": [],
   "source": [
    "# sum\n",
    "#total_aeff = np.zeros_like(aeffs[0])\n",
    "#for aeff in aeffs:\n",
    "#    total_aeff += aeff"
   ]
  },
  {
   "cell_type": "code",
   "execution_count": 318,
   "metadata": {
    "ExecuteTime": {
     "end_time": "2021-01-10T10:06:52.871448Z",
     "start_time": "2021-01-10T10:06:52.703662Z"
    }
   },
   "outputs": [
    {
     "data": {
      "text/plain": [
       "<matplotlib.contour.QuadContourSet at 0x134aa4670>"
      ]
     },
     "execution_count": 318,
     "metadata": {},
     "output_type": "execute_result"
    },
    {
     "data": {
      "image/png": "[encoded data removed]",
      "text/plain": [
       "<Figure size 432x288 with 1 Axes>"
      ]
     },
     "metadata": {
      "needs_background": "light"
     },
     "output_type": "display_data"
    }
   ],
   "source": [
    "fig, ax = plt.subplots()\n",
    "ax.contourf(e_bins[:-1], cosz_bins[:-1], aeff.T,\n",
    "            levels=20)"
   ]
  },
  {
   "cell_type": "code",
   "execution_count": 319,
   "metadata": {
    "ExecuteTime": {
     "end_time": "2021-01-10T10:06:53.194455Z",
     "start_time": "2021-01-10T10:06:53.189916Z"
    }
   },
   "outputs": [
    {
     "data": {
      "text/plain": [
       "11.754803815986078"
      ]
     },
     "execution_count": 319,
     "metadata": {},
     "output_type": "execute_result"
    }
   ],
   "source": [
    "np.max(aeff) "
   ]
  },
  {
   "cell_type": "markdown",
   "metadata": {},
   "source": [
    "## Generate Aeff from simulation files"
   ]
  },
  {
   "cell_type": "code",
   "execution_count": 320,
   "metadata": {
    "ExecuteTime": {
     "end_time": "2021-01-10T10:06:56.834106Z",
     "start_time": "2021-01-10T10:06:56.831385Z"
    }
   },
   "outputs": [],
   "source": [
    "filename = \"nutaubar_NC_simulation_gamma_1.0_lEmin_4.477121254719663_lEmax_7.0_cascades_conv.h5\""
   ]
  },
  {
   "cell_type": "code",
   "execution_count": 321,
   "metadata": {
    "ExecuteTime": {
     "end_time": "2021-01-10T10:06:58.857119Z",
     "start_time": "2021-01-10T10:06:57.127589Z"
    }
   },
   "outputs": [],
   "source": [
    "path = \"simulation_files\"\n",
    "#filenames = os.listdir(path)\n",
    "#filename = filenames[7] # nue_CC\n",
    "\n",
    "df = pd.read_hdf(os.path.join(path, filename))   "
   ]
  },
  {
   "cell_type": "code",
   "execution_count": 322,
   "metadata": {
    "ExecuteTime": {
     "end_time": "2021-01-10T10:06:58.861889Z",
     "start_time": "2021-01-10T10:06:58.859622Z"
    }
   },
   "outputs": [],
   "source": [
    "#e_bins = np.linspace(3, 7, 20+1)\n",
    "#cosz_bins = np.linspace(-1, 1, 10+1)"
   ]
  },
  {
   "cell_type": "code",
   "execution_count": 323,
   "metadata": {
    "ExecuteTime": {
     "end_time": "2021-01-10T10:06:59.752312Z",
     "start_time": "2021-01-10T10:06:58.864596Z"
    }
   },
   "outputs": [
    {
     "data": {
      "image/png": "[encoded data removed]",
      "text/plain": [
       "<Figure size 432x288 with 1 Axes>"
      ]
     },
     "metadata": {
      "needs_background": "light"
     },
     "output_type": "display_data"
    }
   ],
   "source": [
    "weights_plot=df['generation_weight'] * 1e-4 / (2.*np.pi)\n",
    "contents, xbins, ybins, _ = plt.hist2d(np.log10(df['prim_energy']), df['prim_coszenith'], weights = weights_plot, bins=[e_bins, cosz_bins], norm=LogNorm())"
   ]
  },
  {
   "cell_type": "code",
   "execution_count": 324,
   "metadata": {
    "ExecuteTime": {
     "end_time": "2021-01-10T10:06:59.759940Z",
     "start_time": "2021-01-10T10:06:59.755061Z"
    }
   },
   "outputs": [],
   "source": [
    "aeff = np.zeros_like(contents)\n",
    "for i, l10E in enumerate(xbins[:-1]):\n",
    "    for j, cosz in enumerate(ybins[:-1]):\n",
    "        bin_area = ((10**xbins[i+1] - 10**l10E) * (ybins[j+1] - cosz))\n",
    "        aeff[i][j] = contents[i][j] / bin_area"
   ]
  },
  {
   "cell_type": "code",
   "execution_count": 325,
   "metadata": {
    "ExecuteTime": {
     "end_time": "2021-01-10T10:06:59.922735Z",
     "start_time": "2021-01-10T10:06:59.761572Z"
    }
   },
   "outputs": [
    {
     "data": {
      "text/plain": [
       "<matplotlib.contour.QuadContourSet at 0x13525f400>"
      ]
     },
     "execution_count": 325,
     "metadata": {},
     "output_type": "execute_result"
    },
    {
     "data": {
      "image/png": "[encoded data removed]",
      "text/plain": [
       "<Figure size 432x288 with 1 Axes>"
      ]
     },
     "metadata": {
      "needs_background": "light"
     },
     "output_type": "display_data"
    }
   ],
   "source": [
    "fig, ax = plt.subplots()\n",
    "ax.contourf(xbins[:-1], ybins[:-1], aeff.T, levels=20)"
   ]
  },
  {
   "cell_type": "code",
   "execution_count": 326,
   "metadata": {
    "ExecuteTime": {
     "end_time": "2021-01-10T10:07:00.265270Z",
     "start_time": "2021-01-10T10:07:00.261498Z"
    }
   },
   "outputs": [
    {
     "data": {
      "text/plain": [
       "12.427928141699766"
      ]
     },
     "execution_count": 326,
     "metadata": {},
     "output_type": "execute_result"
    }
   ],
   "source": [
    "np.max(aeff)"
   ]
  },
  {
   "cell_type": "markdown",
   "metadata": {},
   "source": [
    "## Compare with current version of CascadeDetectorModel"
   ]
  },
  {
   "cell_type": "code",
   "execution_count": 43,
   "metadata": {
    "ExecuteTime": {
     "end_time": "2021-01-05T16:41:00.429521Z",
     "start_time": "2021-01-05T16:41:00.426883Z"
    }
   },
   "outputs": [],
   "source": [
    "from python.detector_model import CascadesDetectorModel\n",
    "from python.backend.stan_generator import StanGenerator"
   ]
  },
  {
   "cell_type": "code",
   "execution_count": 44,
   "metadata": {
    "ExecuteTime": {
     "end_time": "2021-01-05T16:41:00.899395Z",
     "start_time": "2021-01-05T16:41:00.768757Z"
    }
   },
   "outputs": [],
   "source": [
    "with StanGenerator():\n",
    "    dm = CascadesDetectorModel()\n",
    "    effective_area = dm.effective_area\n",
    "    energy_resolution = dm.energy_resolution"
   ]
  },
  {
   "cell_type": "code",
   "execution_count": 45,
   "metadata": {
    "ExecuteTime": {
     "end_time": "2021-01-05T16:41:01.139331Z",
     "start_time": "2021-01-05T16:41:01.136102Z"
    }
   },
   "outputs": [],
   "source": [
    "ebin_edges = effective_area._tE_bin_edges\n",
    "cosz_edges = effective_area._cosz_bin_edges\n",
    "ebin_cen = (ebin_edges[:-1] + ebin_edges[1:])/2\n",
    "cosz_cen = (cosz_edges[:-1] + cosz_edges[1:])/2"
   ]
  },
  {
   "cell_type": "code",
   "execution_count": 49,
   "metadata": {
    "ExecuteTime": {
     "end_time": "2021-01-05T16:41:43.633878Z",
     "start_time": "2021-01-05T16:41:43.470008Z"
    }
   },
   "outputs": [
    {
     "data": {
      "text/plain": [
       "(3.0, 7.0)"
      ]
     },
     "execution_count": 49,
     "metadata": {},
     "output_type": "execute_result"
    },
    {
     "data": {
      "image/png": "[encoded data removed]",
      "text/plain": [
       "<Figure size 432x288 with 1 Axes>"
      ]
     },
     "metadata": {
      "needs_background": "light"
     },
     "output_type": "display_data"
    }
   ],
   "source": [
    "fig, ax = plt.subplots()\n",
    "ax.contourf(np.log10(ebin_cen), cosz_cen, effective_area._eff_area.T, levels=20)\n",
    "ax.set_xlim(3, 7)"
   ]
  },
  {
   "cell_type": "code",
   "execution_count": 24,
   "metadata": {
    "ExecuteTime": {
     "end_time": "2021-01-05T15:56:39.859648Z",
     "start_time": "2021-01-05T15:56:39.855525Z"
    }
   },
   "outputs": [
    {
     "data": {
      "text/plain": [
       "145.08302545007166"
      ]
     },
     "execution_count": 24,
     "metadata": {},
     "output_type": "execute_result"
    }
   ],
   "source": [
    "np.max(effective_area._eff_area)"
   ]
  },
  {
   "cell_type": "code",
   "execution_count": 14,
   "metadata": {
    "ExecuteTime": {
     "end_time": "2021-01-05T15:54:58.757866Z",
     "start_time": "2021-01-05T15:54:58.754189Z"
    }
   },
   "outputs": [
    {
     "data": {
      "text/plain": [
       "4.778151250383644"
      ]
     },
     "execution_count": 14,
     "metadata": {},
     "output_type": "execute_result"
    }
   ],
   "source": [
    "np.log10(60*1e3)"
   ]
  },
  {
   "cell_type": "markdown",
   "metadata": {},
   "source": [
    "## Files from server"
   ]
  },
  {
   "cell_type": "code",
   "execution_count": 15,
   "metadata": {
    "ExecuteTime": {
     "end_time": "2021-01-05T15:55:02.021828Z",
     "start_time": "2021-01-05T15:55:01.962144Z"
    }
   },
   "outputs": [],
   "source": [
    "import h5py"
   ]
  },
  {
   "cell_type": "code",
   "execution_count": 52,
   "metadata": {
    "ExecuteTime": {
     "end_time": "2021-01-05T17:14:10.711749Z",
     "start_time": "2021-01-05T17:14:09.133346Z"
    }
   },
   "outputs": [],
   "source": [
    "name = \"nue_CC_simulation_gamma_1.0_lEmin_4.477121254719663_lEmax_7.0_cascades_conv.h5\"\n",
    "df = pd.read_hdf(name)   "
   ]
  },
  {
   "cell_type": "code",
   "execution_count": 53,
   "metadata": {
    "ExecuteTime": {
     "end_time": "2021-01-05T17:14:16.582818Z",
     "start_time": "2021-01-05T17:14:16.579255Z"
    }
   },
   "outputs": [
    {
     "data": {
      "text/plain": [
       "1.0"
      ]
     },
     "execution_count": 53,
     "metadata": {},
     "output_type": "execute_result"
    }
   ],
   "source": [
    "len(df.generation_weight)/1e7"
   ]
  },
  {
   "cell_type": "code",
   "execution_count": 54,
   "metadata": {
    "ExecuteTime": {
     "end_time": "2021-01-05T17:14:18.585075Z",
     "start_time": "2021-01-05T17:14:17.343777Z"
    }
   },
   "outputs": [
    {
     "data": {
      "image/png": "[encoded data removed]",
      "text/plain": [
       "<Figure size 432x288 with 2 Axes>"
      ]
     },
     "metadata": {
      "needs_background": "light"
     },
     "output_type": "display_data"
    }
   ],
   "source": [
    "binc_CC, eprim_edges_CC, erec_edges_CC, _ = plt.hist2d(np.log10(df['prim_energy']), np.log10(df['rec_energy']), bins=[100, 100])\n",
    "cb = plt.colorbar()\n",
    "cb.set_label('Number of simulated events')\n",
    "plt.xlabel('log10[Enu (GeV)]')\n",
    "plt.ylabel('log10[Erec (GeV)]')\n",
    "plt.show()"
   ]
  },
  {
   "cell_type": "code",
   "execution_count": 19,
   "metadata": {
    "ExecuteTime": {
     "end_time": "2021-01-05T15:55:07.692161Z",
     "start_time": "2021-01-05T15:55:07.688487Z"
    }
   },
   "outputs": [
    {
     "data": {
      "text/plain": [
       "Index(['generation_weight', 'prim_coszenith', 'rec_coszenith', 'dep_energy',\n",
       "       'prim_type', 'rec_energy', 'prim_energy', 'prim_azimuth', 'rec_azimuth',\n",
       "       'bjorken_y', 'conv_flux'],\n",
       "      dtype='object')"
      ]
     },
     "execution_count": 19,
     "metadata": {},
     "output_type": "execute_result"
    }
   ],
   "source": [
    "df.columns"
   ]
  },
  {
   "cell_type": "code",
   "execution_count": 20,
   "metadata": {
    "ExecuteTime": {
     "end_time": "2021-01-05T15:55:08.404371Z",
     "start_time": "2021-01-05T15:55:08.401537Z"
    }
   },
   "outputs": [],
   "source": [
    "from matplotlib.colors import LogNorm"
   ]
  },
  {
   "cell_type": "code",
   "execution_count": 30,
   "metadata": {
    "ExecuteTime": {
     "end_time": "2021-01-05T15:57:40.027652Z",
     "start_time": "2021-01-05T15:57:38.969037Z"
    }
   },
   "outputs": [
    {
     "data": {
      "image/png": "[encoded data removed]",
      "text/plain": [
       "<Figure size 432x288 with 1 Axes>"
      ]
     },
     "metadata": {
      "needs_background": "light"
     },
     "output_type": "display_data"
    }
   ],
   "source": [
    "weights_plot=df['generation_weight'] * 1e-4 / (2.*np.pi)\n",
    "contents, _, _, _ = plt.hist2d(np.log10(df['prim_energy']), df['prim_coszenith'], weights = weights_plot, bins=[100, 50], norm=LogNorm())"
   ]
  },
  {
   "cell_type": "code",
   "execution_count": 31,
   "metadata": {
    "ExecuteTime": {
     "end_time": "2021-01-05T15:57:40.530844Z",
     "start_time": "2021-01-05T15:57:40.528403Z"
    }
   },
   "outputs": [],
   "source": [
    "# rescale as in aeff_HESE.ipynb to correct for bin areas"
   ]
  },
  {
   "cell_type": "code",
   "execution_count": 41,
   "metadata": {
    "ExecuteTime": {
     "end_time": "2021-01-05T16:39:42.993993Z",
     "start_time": "2021-01-05T16:39:42.989794Z"
    }
   },
   "outputs": [
    {
     "data": {
      "text/plain": [
       "716645.1799006662"
      ]
     },
     "execution_count": 41,
     "metadata": {},
     "output_type": "execute_result"
    }
   ],
   "source": [
    "np.max(contents)"
   ]
  },
  {
   "cell_type": "code",
   "execution_count": 42,
   "metadata": {
    "ExecuteTime": {
     "end_time": "2021-01-05T16:40:07.982331Z",
     "start_time": "2021-01-05T16:40:07.976945Z"
    }
   },
   "outputs": [
    {
     "data": {
      "text/plain": [
       "0    1.338766e+05\n",
       "1    4.770609e+04\n",
       "2    3.163177e+06\n",
       "3    9.477678e+06\n",
       "4    3.317877e+05\n",
       "5    5.421535e+04\n",
       "6    2.533296e+05\n",
       "7    1.097212e+04\n",
       "8    3.044346e+04\n",
       "9    5.803414e+04\n",
       "Name: generation_weight, dtype: float64"
      ]
     },
     "execution_count": 42,
     "metadata": {},
     "output_type": "execute_result"
    }
   ],
   "source": [
    "df['generation_weight'][0:10]"
   ]
  },
  {
   "cell_type": "markdown",
   "metadata": {},
   "source": [
    "## Tracks Aeff"
   ]
  },
  {
   "cell_type": "code",
   "execution_count": 38,
   "metadata": {
    "ExecuteTime": {
     "end_time": "2021-01-05T16:04:57.636267Z",
     "start_time": "2021-01-05T16:04:57.625893Z"
    }
   },
   "outputs": [],
   "source": [
    "with h5py.File(\"input/tracks/effective_area.h5\", 'r') as f:\n",
    "    \n",
    "    a = f[\"2010/nu_mu/area\"][()]"
   ]
  },
  {
   "cell_type": "code",
   "execution_count": 40,
   "metadata": {
    "ExecuteTime": {
     "end_time": "2021-01-05T16:39:21.609642Z",
     "start_time": "2021-01-05T16:39:21.605291Z"
    }
   },
   "outputs": [
    {
     "data": {
      "text/plain": [
       "58140.32297558405"
      ]
     },
     "execution_count": 40,
     "metadata": {},
     "output_type": "execute_result"
    }
   ],
   "source": [
    "np.max(a)"
   ]
  },
  {
   "cell_type": "code",
   "execution_count": null,
   "metadata": {},
   "outputs": [],
   "source": []
  }
 ],
 "metadata": {
  "kernelspec": {
   "display_name": "bayes",
   "language": "python",
   "name": "bayes"
  },
  "language_info": {
   "codemirror_mode": {
    "name": "ipython",
    "version": 3
   },
   "file_extension": ".py",
   "mimetype": "text/x-python",
   "name": "python",
   "nbconvert_exporter": "python",
   "pygments_lexer": "ipython3",
   "version": "3.8.5"
  }
 },
 "nbformat": 4,
 "nbformat_minor": 4
}
