{
 "cells": [
  {
   "cell_type": "code",
   "execution_count": null,
   "metadata": {},
   "outputs": [],
   "source": [
    "import logging\n",
    "mpl_logger = logging.getLogger('matplotlib')\n",
    "mpl_logger.setLevel(logging.WARNING)\n",
    "\n",
    "# using high level interface\n",
    "from cascade_model import cascade_sim\n",
    "pars = {}\n",
    "pars['neutrino_type']='nue'\n",
    "pars['interaction_type']='CC'\n",
    "pars['gamma']=1.1\n",
    "pars['lEmin']=3.0\n",
    "pars['lEmax']=7.0\n",
    "s = cascade_sim(pars)\n",
    "\n",
    "nsamples = int(1.e6)\n",
    "outfile = './output/'+pars['neutrino_type']+'_'+pars['interaction_type']+'_simulation_gamma_'+str(pars['gamma'])+'_lEmin_'+str(pars['lEmin'])+'_lEmax_'+str(pars['lEmax'])+'_test_y.h5'\n",
    "#s.run_simulation(nsamples, outfile)"
   ]
  },
  {
   "cell_type": "code",
   "execution_count": 8,
   "metadata": {},
   "outputs": [
    {
     "name": "stdout",
     "output_type": "stream",
     "text": [
      "['generation_weight' 'prim_coszenith' 'rec_coszenith' 'dep_energy'\n",
      " 'rec_energy' 'prim_energy' 'prim_azimuth' 'rec_azimuth' 'bjorken_y']\n",
      "rate: 22.61 pm 0.03\n"
     ]
    },
    {
     "data": {
      "image/png": "[encoded data removed]",
      "text/plain": [
       "<Figure size 432x288 with 1 Axes>"
      ]
     },
     "metadata": {
      "needs_background": "light"
     },
     "output_type": "display_data"
    },
    {
     "data": {
      "image/png": "[encoded data removed]",
      "text/plain": [
       "<Figure size 432x288 with 1 Axes>"
      ]
     },
     "metadata": {
      "needs_background": "light"
     },
     "output_type": "display_data"
    },
    {
     "data": {
      "image/png": "[encoded data removed]",
      "text/plain": [
       "<Figure size 432x288 with 1 Axes>"
      ]
     },
     "metadata": {
      "needs_background": "light"
     },
     "output_type": "display_data"
    },
    {
     "data": {
      "image/png": "[encoded data removed]",
      "text/plain": [
       "<Figure size 432x288 with 1 Axes>"
      ]
     },
     "metadata": {
      "needs_background": "light"
     },
     "output_type": "display_data"
    }
   ],
   "source": [
    "import pandas\n",
    "import numpy as np\n",
    "\n",
    "df = pandas.read_hdf(outfile)\n",
    "print df.columns.values\n",
    "\n",
    "# plot results \n",
    "from matplotlib import pyplot as plt\n",
    "gamma = 2.5\n",
    "norm = 1.*10**(-18)\n",
    "ltime = 365. * 24. * 3600. * 2. # assume 2 years of livetime for rate\n",
    "\n",
    "weights_plot=df['generation_weight']*np.power(df['prim_energy']/1.e5,-gamma)* norm * ltime\n",
    "\n",
    "rate = np.sum(weights_plot)\n",
    "rate_err = np.sqrt(np.sum((df['generation_weight']*np.power(df['prim_energy']/1.e5,-gamma) * norm * ltime)**2))\n",
    "print \"rate:\", np.round(rate, 2), \"pm\", np.round(rate_err,2)\n",
    "\n",
    "\n",
    "\n",
    "plt.hist(np.log10(df['prim_energy']), bins=50, weights=weights_plot, normed=True)\n",
    "plt.ylim([1.e-3, 1.0])\n",
    "plt.xlim([3.0, 7.0])\n",
    "plt.yscale('log')\n",
    "plt.show()\n",
    "\n",
    "plt.hist(df['rec_coszenith'], bins=50, weights=weights_plot, normed=True)\n",
    "plt.ylim([0.1,1])\n",
    "plt.yscale('log')\n",
    "plt.show()\n",
    "\n",
    "plt.hist(df['rec_azimuth'], bins=50, weights=weights_plot, normed=True)\n",
    "plt.ylim([0.1,0.4])\n",
    "plt.yscale('log')\n",
    "plt.show()\n",
    "\n",
    "plt.hist(df['bjorken_y'], bins=50, weights=weights_plot, normed=True)\n",
    "plt.ylim([0.1,3.0])\n",
    "plt.yscale('log')\n",
    "plt.show()"
   ]
  },
  {
   "cell_type": "code",
   "execution_count": 117,
   "metadata": {},
   "outputs": [
    {
     "name": "stdout",
     "output_type": "stream",
     "text": [
      "./output/nue_CC_simulation_gamma_1.0_lEmin_3.0_lEmax_7.0.h5\n"
     ]
    }
   ],
   "source": [
    "import logging\n",
    "mpl_logger = logging.getLogger('matplotlib')\n",
    "mpl_logger.setLevel(logging.WARNING)\n",
    "\n",
    "import pandas as pd\n",
    "import numpy as np\n",
    "\n",
    "neutrino_interaction = 'CC'\n",
    "neutrino_flavor = 'nue'\n",
    "nsamples = int(1.e6)\n",
    "show = int(1.e1)\n",
    "\n",
    "lEmin = 3.0\n",
    "lEmax = 7.0\n",
    "gamma_inj = 1.0\n",
    "\n",
    "\n",
    "sim_component = neutrino_flavor + '_' + neutrino_interaction                                                        \n",
    "\n",
    "if 'bar' in neutrino_flavor:\n",
    "    ytype = 'nubar_'+neutrino_interaction\n",
    "else:\n",
    "    ytype = 'nu_'+neutrino_interaction\n",
    "\n",
    "\n",
    "outfile = './output/'+sim_component+'_simulation_gamma_'+str(gamma_inj)+'_lEmin_'+str(lEmin)+'_lEmax_'+str(lEmax)+'.h5'\n",
    "print outfile"
   ]
  },
  {
   "cell_type": "code",
   "execution_count": 95,
   "metadata": {
    "scrolled": true
   },
   "outputs": [
    {
     "name": "stdout",
     "output_type": "stream",
     "text": [
      "[4.3307643  3.40537726 3.8776867  3.54448671 3.02584623 3.25869316\n",
      " 3.13768348 3.70190326 3.03882038 4.33495296]\n"
     ]
    }
   ],
   "source": [
    "# sample neutrino energies from powerlaw\n",
    "from pareto_sampler.pareto import truncated_pareto\n",
    "pareto = truncated_pareto(gamma, 10**lEmin, 10**lEmax)\n",
    "neutrino_energies = pareto.samples(nsamples)\n",
    "neutrino_energies_log = np.log10(neutrino_energies)\n",
    "print neutrino_energies_log[:show]"
   ]
  },
  {
   "cell_type": "code",
   "execution_count": 96,
   "metadata": {},
   "outputs": [
    {
     "name": "stdout",
     "output_type": "stream",
     "text": [
      "[-0.28620141  0.79309703 -0.71801382 -0.08467633  0.48628468  0.05280389\n",
      " -0.09828795  0.17925679  0.13619678  0.81560081]\n"
     ]
    }
   ],
   "source": [
    "# sample neutrino directions uniformly across sky\n",
    "from recodir_sampler.uniform_sampler import uniform_from_sphere, transform_to_cartesian, transform_to_spherical     \n",
    "neutrino_directions = uniform_from_sphere(nsamples)\n",
    "neutrino_directions_cartesian = transform_to_cartesian(neutrino_directions)                                         \n",
    "neutrino_cos_thetas = np.asarray(neutrino_directions[:,0])\n",
    "print neutrino_cos_thetas[:show]"
   ]
  },
  {
   "cell_type": "code",
   "execution_count": 105,
   "metadata": {},
   "outputs": [
    {
     "name": "stdout",
     "output_type": "stream",
     "text": [
      "[0.02008067 0.01473626 0.34154286 0.02325939 0.08585389 0.21982758\n",
      " 0.20135233 0.59749751 0.0780586  0.03147813]\n"
     ]
    }
   ],
   "source": [
    "# setup y sampler and create y_samples\n",
    "from inelasticity_sampler.draw_inelasticity import inelasticity_sampler                                             \n",
    "from inelasticity_sampler.interaction_info import interaction_source_files                                          \n",
    "source = interaction_source_files()\n",
    "pickledir = './inelasticity_sampler/pickle/'\n",
    "\n",
    "log_central_energy = 5.\n",
    "kinematics_sampler = inelasticity_sampler(source, pickledir)                                                        \n",
    "y_samples =  kinematics_sampler.sample_y(log_central_energy, ytype, nsamples)                                       \n",
    "print y_samples[:show]"
   ]
  },
  {
   "cell_type": "code",
   "execution_count": 97,
   "metadata": {},
   "outputs": [
    {
     "name": "stdout",
     "output_type": "stream",
     "text": [
      "... creating effective area spline for interaction nue_CC , done!\n",
      "[8.44428242e-01 8.68601716e-03 1.63763874e-01 3.10265867e-02\n",
      " 3.23687333e-04 4.18595346e-03 1.75583498e-03 7.06802618e-02\n",
      " 5.76060212e-04 8.63555219e-01]\n",
      "[4.86696008e+04 7.05897495e+00 1.17154218e+03 4.78491092e+01\n",
      " 4.58125638e-02 1.73119964e+00 4.15926970e-01 2.25045894e+02\n",
      " 8.65515954e-02 5.07414031e+04]\n"
     ]
    }
   ],
   "source": [
    "# calculate weights\n",
    "from aeff_calculator.aeff_calculator import effective_area\n",
    "aeff = effective_area(sim_component)\n",
    "\n",
    "effective_areas = np.power(10, np.asarray([aeff.eval(lE, ct) for lE,ct in zip(neutrino_energies_log, neutrino_cos_thetas)]))\n",
    "effective_areas = effective_areas.flatten()\n",
    "print effective_areas[:show]\n",
    "\n",
    "weights = 1./nsamples * effective_areas / pareto.pdf(neutrino_energies) * 4. * np.pi * 10.**4\n",
    "print weights[:show]"
   ]
  },
  {
   "cell_type": "code",
   "execution_count": 106,
   "metadata": {},
   "outputs": [
    {
     "name": "stdout",
     "output_type": "stream",
     "text": [
      "[24665.18989852  2268.80285577  8563.3015722   3342.18877021\n",
      "  1345.72068448  2089.8489361   1493.10000894  5436.02557601\n",
      "  1075.46855948 21271.32332753]\n"
     ]
    }
   ],
   "source": [
    "# calculate energy deposit as function of interaction type and inelasticity\n",
    "# this needs to be a function of the interaction type (NC, CC, hadronic light scale etc)\n",
    "energy_deposits = neutrino_energies\n",
    "\n",
    "# dummy energy resolution\n",
    "# relative resolution needs to be a function of energy deposit\n",
    "relative_resolution = 0.1\n",
    "energy_resolutions = energy_deposits * relative_resolution\n",
    "reconstructed_energies = np.random.normal(energy_deposits, energy_resolutions)\n",
    "print reconstructed_energies[:show]"
   ]
  },
  {
   "cell_type": "code",
   "execution_count": 99,
   "metadata": {},
   "outputs": [
    {
     "name": "stdout",
     "output_type": "stream",
     "text": [
      "[array([-0.22436195,  3.14071824]), array([0.86994836, 3.45562844]), array([-0.78355607,  0.911079  ]), array([0.06404752, 0.164083  ]), array([0.44631244, 4.31862908]), array([-0.08322258,  5.84601154]), array([-0.23921637,  1.71800708]), array([0.21008971, 5.78129402]), array([0.11707758, 4.19195605]), array([0.7886023 , 5.40096157])]\n"
     ]
    }
   ],
   "source": [
    "# dummy angular resolution\n",
    "# concentration as function of energy deposit\n",
    "from recodir_sampler.vMF_sampler import VonMisesFisher\n",
    "err = 10. / 180. * np.pi\n",
    "var = err**2\n",
    "kappa = 2.3 / var\n",
    "reconstructed_directions = []\n",
    "vMF = VonMisesFisher()\n",
    "for mu in neutrino_directions_cartesian:\n",
    "    tdis = vMF.randomize_about_point(np.asarray([mu]), kappa=kappa, num_samples=1)\n",
    "    reconstructed_directions.append(transform_to_spherical(tdis)[0])\n",
    "print reconstructed_directions[:show]"
   ]
  },
  {
   "cell_type": "code",
   "execution_count": 121,
   "metadata": {},
   "outputs": [
    {
     "name": "stdout",
     "output_type": "stream",
     "text": [
      "rate: 22.7 pm 0.06\n"
     ]
    },
    {
     "data": {
      "image/png": "[encoded data removed]",
      "text/plain": [
       "<Figure size 432x288 with 1 Axes>"
      ]
     },
     "metadata": {
      "needs_background": "light"
     },
     "output_type": "display_data"
    },
    {
     "data": {
      "image/png": "[encoded data removed]",
      "text/plain": [
       "<Figure size 432x288 with 1 Axes>"
      ]
     },
     "metadata": {
      "needs_background": "light"
     },
     "output_type": "display_data"
    },
    {
     "data": {
      "image/png": "[encoded data removed]",
      "text/plain": [
       "<Figure size 432x288 with 1 Axes>"
      ]
     },
     "metadata": {
      "needs_background": "light"
     },
     "output_type": "display_data"
    }
   ],
   "source": [
    "# plot results \n",
    "from matplotlib import pyplot as plt\n",
    "gamma = 2.5\n",
    "norm = 1.*10**(-18)\n",
    "ltime = 365. * 24. * 3600. * 2. # assume 2 years of livetime for rate\n",
    "\n",
    "weights_plot=weights*np.power(neutrino_energies/1.e5,-gamma)* norm * ltime\n",
    "\n",
    "rate = np.sum(weights_plot)\n",
    "rate_err = np.sqrt(np.sum((weights*np.power(neutrino_energies/1.e5,-gamma) * norm * ltime)**2))\n",
    "print \"rate:\", np.round(rate, 2), \"pm\", np.round(rate_err,2)\n",
    "\n",
    "\n",
    "\n",
    "plt.hist(neutrino_energies_log, bins=20, weights=weights_plot, normed=True)\n",
    "plt.ylim([1.e-3, 1.0])\n",
    "plt.xlim([3.0, 7.0])\n",
    "plt.yscale('log')\n",
    "plt.show()\n",
    "\n",
    "dirs = np.vstack(reconstructed_directions)\n",
    "plt.hist(dirs[:,0], bins=20, weights=weights_plot, normed=True)\n",
    "plt.ylim([0.1,1])\n",
    "plt.yscale('log')\n",
    "plt.show()\n",
    "\n",
    "dirs = np.vstack(reconstructed_directions)\n",
    "plt.hist(dirs[:,1], bins=20, weights=weights_plot, normed=True)\n",
    "plt.ylim([0.1,0.4])\n",
    "plt.yscale('log')\n",
    "plt.show()"
   ]
  },
  {
   "cell_type": "code",
   "execution_count": 120,
   "metadata": {},
   "outputs": [
    {
     "name": "stdout",
     "output_type": "stream",
     "text": [
      "1000000 589.0607464375191 10460518.107152205\n",
      "1000000 1000.0015856561567 9937354.15266665\n",
      "1000000 -0.9999997895895614 0.9999944180282598\n",
      "1000000 8.903794644131903e-07 6.283167601776304\n",
      "1000000 -0.9999985506277503 0.999998770229043\n",
      "1000000 4.523910606124559e-06 6.283168608407917\n",
      "1000000 0.018279950201248896 341938826345.39246\n",
      "1000000 1000.0015856561567 9937354.15266665\n",
      "1000000 9.881588726287432e-16 0.9999998160983923\n"
     ]
    }
   ],
   "source": [
    "# check all variables\n",
    "print len(reconstructed_energies), np.amin(reconstructed_energies), np.amax(reconstructed_energies)\n",
    "print len(neutrino_energies), np.amin(neutrino_energies), np.amax(neutrino_energies)\n",
    "print len(neutrino_directions[:,0]), np.amin(neutrino_directions[:,0]),np.amax(neutrino_directions[:,0])\n",
    "print len(neutrino_directions[:,1]), np.amin(neutrino_directions[:,1]),np.amax(neutrino_directions[:,1])\n",
    "print len(dirs[:,0]), np.amin(dirs[:,0]),np.amax(dirs[:,0])\n",
    "print len(dirs[:,1]), np.amin(dirs[:,1]),np.amax(dirs[:,1])\n",
    "print len(weights), np.amin(weights),np.amax(weights)\n",
    "print len(energy_deposits), np.amin(energy_deposits), np.amax(energy_deposits)\n",
    "print len(y_samples), np.amin(y_samples), np.amax(y_samples)"
   ]
  },
  {
   "cell_type": "code",
   "execution_count": 125,
   "metadata": {},
   "outputs": [],
   "source": [
    "# write to pandas data frame\n",
    "\n",
    "to_store={}\n",
    "to_store[\"prim_energy\"]=np.asarray(neutrino_energies)\n",
    "to_store[\"prim_coszenith\"]=np.asarray(neutrino_directions[:,0])\n",
    "to_store[\"prim_azimuth\"]=np.asarray(neutrino_directions[:,1])\n",
    "to_store[\"rec_energy\"]=np.asarray(reconstructed_energies)\n",
    "to_store[\"rec_coszenith\"]=np.asarray(dirs[:,0])\n",
    "to_store[\"rec_azimuth\"]=np.asarray(dirs[:,1])\n",
    "to_store[\"generation_weight\"]=np.asarray(weights)\n",
    "to_store[\"dep_energy\"]=np.asarray(energy_deposits)\n",
    "to_store[\"bjorken_y\"]=np.asarray(y_samples)\n",
    "\n",
    "names = to_store.keys()\n",
    "X = np.hstack(tuple([to_store[key].reshape(to_store[key].shape[0], -1) for key in names]))\n",
    "df = pd.DataFrame(X, columns=names)\n",
    "store = pd.HDFStore(outfile)\n",
    "store[sim_component]=df\n",
    "store.close()"
   ]
  },
  {
   "cell_type": "code",
   "execution_count": 132,
   "metadata": {},
   "outputs": [
    {
     "name": "stdout",
     "output_type": "stream",
     "text": [
      "1000000 [21417.2793305   2543.18095539  7545.47693299 ...  5911.77664653\n",
      "  1412.44882916  6839.24133303]\n",
      "1000000 [0.02630842 0.74809005 4.10895873 ... 2.21414588 4.23535106 0.16224532]\n"
     ]
    }
   ],
   "source": [
    "# read pd frame back in\n",
    "\n",
    "df = pd.read_hdf(outfile)\n",
    "print len(df['prim_energy'].values), df['prim_energy'].values\n",
    "print len(df['prim_azimuth'].values), df['prim_azimuth'].values"
   ]
  },
  {
   "cell_type": "code",
   "execution_count": 129,
   "metadata": {},
   "outputs": [
    {
     "name": "stdout",
     "output_type": "stream",
     "text": [
      "\u001b[0m\u001b[01;34maeff_calculator\u001b[0m/  \u001b[01;34mcsms_input\u001b[0m/            \u001b[01;34moutput\u001b[0m/           \u001b[01;34mtemp\u001b[0m/\r\n",
      "\u001b[01;34maeff_input\u001b[0m/       example.ipynb          \u001b[01;34mpareto_sampler\u001b[0m/   TODO\r\n",
      "cascade_model.py  \u001b[01;34minelasticity_sampler\u001b[0m/  \u001b[01;34mrecodir_sampler\u001b[0m/  Untitled.ipynb\r\n"
     ]
    }
   ],
   "source": [
    "ls"
   ]
  },
  {
   "cell_type": "code",
   "execution_count": 130,
   "metadata": {},
   "outputs": [
    {
     "name": "stdout",
     "output_type": "stream",
     "text": [
      "nue_CC_simulation_gamma_1.0_lEmin_3.0_lEmax_7.0.h5\r\n"
     ]
    }
   ],
   "source": []
  },
  {
   "cell_type": "code",
   "execution_count": 1,
   "metadata": {},
   "outputs": [
    {
     "name": "stdout",
     "output_type": "stream",
     "text": [
      "Welcome to JupyROOT 6.14/04\n",
      "... setting up all samplers\n",
      "... setting up powerlaw sampler\n",
      "done.\n",
      "... setting up effective area\n",
      "... creating effective area spline for interaction nue_CC , done!\n",
      "done.\n",
      "... setting up inelasticity sampler\n",
      "done\n",
      "... setting up directional sampler\n",
      "all done!\n",
      "... starting simulation for 1000000 events\n",
      "... writing output to file\n",
      "done!\n"
     ]
    }
   ],
   "source": [
    "# using high level interface\n",
    "from cascade_model import cascade_sim\n",
    "pars = {}\n",
    "pars['neutrino_type']='nue'\n",
    "pars['interaction_type']='CC'\n",
    "pars['gamma']=1.1\n",
    "pars['lEmin']=3.0\n",
    "pars['lEmax']=7.0\n",
    "s = cascade_sim(pars)\n",
    "\n",
    "nsamples = int(1.e6)\n",
    "outfile = './output/'+pars['neutrino_type']+'_'+pars['interaction_type']+'_simulation_gamma_'+str(pars['gamma'])+'_lEmin_'+str(pars['lEmin'])+'_lEmax_'+str(pars['lEmax'])+'_test_y.h5'\n",
    "s.run_simulation(nsamples, outfile)"
   ]
  },
  {
   "cell_type": "code",
   "execution_count": 4,
   "metadata": {},
   "outputs": [
    {
     "name": "stdout",
     "output_type": "stream",
     "text": [
      "['generation_weight' 'prim_coszenith' 'rec_coszenith' 'dep_energy'\n",
      " 'rec_energy' 'prim_energy' 'prim_azimuth' 'rec_azimuth' 'bjorken_y']\n",
      "rate: 22.61 pm 0.03\n"
     ]
    },
    {
     "data": {
      "image/png": "[encoded data removed]",
      "text/plain": [
       "<Figure size 432x288 with 1 Axes>"
      ]
     },
     "metadata": {
      "needs_background": "light"
     },
     "output_type": "display_data"
    },
    {
     "data": {
      "image/png": "[encoded data removed]",
      "text/plain": [
       "<Figure size 432x288 with 1 Axes>"
      ]
     },
     "metadata": {
      "needs_background": "light"
     },
     "output_type": "display_data"
    },
    {
     "data": {
      "image/png": "[encoded data removed]",
      "text/plain": [
       "<Figure size 432x288 with 1 Axes>"
      ]
     },
     "metadata": {
      "needs_background": "light"
     },
     "output_type": "display_data"
    }
   ],
   "source": [
    "import pandas\n",
    "import numpy as np\n",
    "\n",
    "df = pandas.read_hdf(outfile)\n",
    "print df.columns.values\n",
    "\n",
    "# plot results \n",
    "from matplotlib import pyplot as plt\n",
    "gamma = 2.5\n",
    "norm = 1.*10**(-18)\n",
    "ltime = 365. * 24. * 3600. * 2. # assume 2 years of livetime for rate\n",
    "\n",
    "weights_plot=df['generation_weight']*np.power(df['prim_energy']/1.e5,-gamma)* norm * ltime\n",
    "\n",
    "rate = np.sum(weights_plot)\n",
    "rate_err = np.sqrt(np.sum((df['generation_weight']*np.power(df['prim_energy']/1.e5,-gamma) * norm * ltime)**2))\n",
    "print \"rate:\", np.round(rate, 2), \"pm\", np.round(rate_err,2)\n",
    "\n",
    "\n",
    "\n",
    "plt.hist(np.log10(df['prim_energy']), bins=50, weights=weights_plot, normed=True)\n",
    "plt.ylim([1.e-3, 1.0])\n",
    "plt.xlim([3.0, 7.0])\n",
    "plt.yscale('log')\n",
    "plt.show()\n",
    "\n",
    "plt.hist(df['rec_coszenith'], bins=50, weights=weights_plot, normed=True)\n",
    "plt.ylim([0.1,1])\n",
    "plt.yscale('log')\n",
    "plt.show()\n",
    "\n",
    "plt.hist(df['rec_azimuth'], bins=50, weights=weights_plot, normed=True)\n",
    "plt.ylim([0.1,0.4])\n",
    "plt.yscale('log')\n",
    "plt.show()"
   ]
  },
  {
   "cell_type": "code",
   "execution_count": null,
   "metadata": {},
   "outputs": [],
   "source": []
  }
 ],
 "metadata": {
  "kernelspec": {
   "display_name": "Python 2",
   "language": "python",
   "name": "python2"
  },
  "language_info": {
   "codemirror_mode": {
    "name": "ipython",
    "version": 2
   },
   "file_extension": ".py",
   "mimetype": "text/x-python",
   "name": "python",
   "nbconvert_exporter": "python",
   "pygments_lexer": "ipython2",
   "version": "2.7.15+"
  }
 },
 "nbformat": 4,
 "nbformat_minor": 2
}
