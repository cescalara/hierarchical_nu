{
 "cells": [
  {
   "cell_type": "code",
   "execution_count": 2,
   "metadata": {},
   "outputs": [],
   "source": [
    "%matplotlib inline"
   ]
  },
  {
   "cell_type": "code",
   "execution_count": 5,
   "metadata": {
    "scrolled": true
   },
   "outputs": [
    {
     "name": "stdout",
     "output_type": "stream",
     "text": [
      "... setting up all samplers\n",
      "... setting up powerlaw sampler\n",
      "done.\n",
      "... setting up effective area\n",
      "... creating effective area spline for interaction nue_NC , done!\n",
      "done.\n",
      "... setting up inelasticity sampler\n",
      "done\n",
      "... setting up directional sampler\n",
      "all done!\n",
      "... starting simulation for 1000000 events\n"
     ]
    },
    {
     "ename": "KeyboardInterrupt",
     "evalue": "",
     "output_type": "error",
     "traceback": [
      "\u001b[0;31m---------------------------------------------------------------------------\u001b[0m",
      "\u001b[0;31mKeyboardInterrupt\u001b[0m                         Traceback (most recent call last)",
      "\u001b[0;32m<ipython-input-5-66e3d900a95e>\u001b[0m in \u001b[0;36m<module>\u001b[0;34m()\u001b[0m\n\u001b[1;32m     17\u001b[0m \u001b[0;34m\u001b[0m\u001b[0m\n\u001b[1;32m     18\u001b[0m \u001b[0;31m# To run the simulation, uncomment here\u001b[0m\u001b[0;34m\u001b[0m\u001b[0;34m\u001b[0m\u001b[0m\n\u001b[0;32m---> 19\u001b[0;31m \u001b[0ms\u001b[0m\u001b[0;34m.\u001b[0m\u001b[0mrun_simulation\u001b[0m\u001b[0;34m(\u001b[0m\u001b[0mnsamples\u001b[0m\u001b[0;34m,\u001b[0m \u001b[0moutfile\u001b[0m\u001b[0;34m)\u001b[0m\u001b[0;34m\u001b[0m\u001b[0m\n\u001b[0m\u001b[1;32m     20\u001b[0m \u001b[0;34m\u001b[0m\u001b[0m\n\u001b[1;32m     21\u001b[0m \u001b[0;31m# plot assumed efficiency correction for deposited energies\u001b[0m\u001b[0;34m\u001b[0m\u001b[0;34m\u001b[0m\u001b[0m\n",
      "\u001b[0;32m/Users/fran/projects/hierarchical_nu/dev/cascade_model/cascade_model.py\u001b[0m in \u001b[0;36mrun_simulation\u001b[0;34m(self, nsamples, outfile)\u001b[0m\n\u001b[1;32m    101\u001b[0m             \u001b[0mN_not_accepted\u001b[0m \u001b[0;34m=\u001b[0m \u001b[0;36m0\u001b[0m\u001b[0;34m\u001b[0m\u001b[0m\n\u001b[1;32m    102\u001b[0m             \u001b[0;32mfor\u001b[0m \u001b[0mi\u001b[0m \u001b[0;32min\u001b[0m \u001b[0mrange\u001b[0m\u001b[0;34m(\u001b[0m\u001b[0mnmax\u001b[0m\u001b[0;34m)\u001b[0m\u001b[0;34m:\u001b[0m\u001b[0;34m\u001b[0m\u001b[0m\n\u001b[0;32m--> 103\u001b[0;31m                 \u001b[0mby\u001b[0m \u001b[0;34m=\u001b[0m \u001b[0mself\u001b[0m\u001b[0;34m.\u001b[0m\u001b[0mkinematics_sampler\u001b[0m\u001b[0;34m.\u001b[0m\u001b[0msample_y\u001b[0m\u001b[0;34m(\u001b[0m\u001b[0mlog_enu\u001b[0m\u001b[0;34m,\u001b[0m \u001b[0mself\u001b[0m\u001b[0;34m.\u001b[0m\u001b[0mytable\u001b[0m\u001b[0;34m,\u001b[0m \u001b[0;36m1\u001b[0m\u001b[0;34m)\u001b[0m\u001b[0;34m[\u001b[0m\u001b[0;36m0\u001b[0m\u001b[0;34m]\u001b[0m\u001b[0;34m\u001b[0m\u001b[0m\n\u001b[0m\u001b[1;32m    104\u001b[0m \u001b[0;34m\u001b[0m\u001b[0m\n\u001b[1;32m    105\u001b[0m                 \u001b[0me_had\u001b[0m \u001b[0;34m=\u001b[0m \u001b[0mby\u001b[0m \u001b[0;34m*\u001b[0m \u001b[0menu\u001b[0m\u001b[0;34m\u001b[0m\u001b[0m\n",
      "\u001b[0;32m/Users/fran/projects/hierarchical_nu/dev/cascade_model/inelasticity_sampler/draw_inelasticity.py\u001b[0m in \u001b[0;36msample_y\u001b[0;34m(self, lE, interaction_type, nsamples)\u001b[0m\n\u001b[1;32m    138\u001b[0m \u001b[0;34m\u001b[0m\u001b[0m\n\u001b[1;32m    139\u001b[0m     \u001b[0;32mdef\u001b[0m \u001b[0msample_y\u001b[0m\u001b[0;34m(\u001b[0m\u001b[0mself\u001b[0m\u001b[0;34m,\u001b[0m \u001b[0mlE\u001b[0m\u001b[0;34m,\u001b[0m \u001b[0minteraction_type\u001b[0m\u001b[0;34m,\u001b[0m \u001b[0mnsamples\u001b[0m\u001b[0;34m=\u001b[0m\u001b[0;36m1\u001b[0m\u001b[0;34m)\u001b[0m\u001b[0;34m:\u001b[0m\u001b[0;34m\u001b[0m\u001b[0m\n\u001b[0;32m--> 140\u001b[0;31m         \u001b[0;32mreturn\u001b[0m \u001b[0mself\u001b[0m\u001b[0;34m.\u001b[0m\u001b[0msampler_type\u001b[0m\u001b[0;34m[\u001b[0m\u001b[0minteraction_type\u001b[0m\u001b[0;34m]\u001b[0m\u001b[0;34m.\u001b[0m\u001b[0msample_y\u001b[0m\u001b[0;34m(\u001b[0m\u001b[0mlE\u001b[0m\u001b[0;34m,\u001b[0m \u001b[0mnsamples\u001b[0m\u001b[0;34m)\u001b[0m\u001b[0;34m\u001b[0m\u001b[0m\n\u001b[0m\u001b[1;32m    141\u001b[0m \u001b[0;34m\u001b[0m\u001b[0m\n\u001b[1;32m    142\u001b[0m     \u001b[0;32mdef\u001b[0m \u001b[0msample_sqrt_y\u001b[0m\u001b[0;34m(\u001b[0m\u001b[0mself\u001b[0m\u001b[0;34m,\u001b[0m \u001b[0mlE\u001b[0m\u001b[0;34m,\u001b[0m \u001b[0minteraction_type\u001b[0m\u001b[0;34m,\u001b[0m \u001b[0mnsamples\u001b[0m\u001b[0;34m=\u001b[0m\u001b[0;36m1\u001b[0m\u001b[0;34m)\u001b[0m\u001b[0;34m:\u001b[0m\u001b[0;34m\u001b[0m\u001b[0m\n",
      "\u001b[0;32m/Users/fran/projects/hierarchical_nu/dev/cascade_model/inelasticity_sampler/draw_inelasticity.py\u001b[0m in \u001b[0;36msample_y\u001b[0;34m(self, lE, nsamples)\u001b[0m\n\u001b[1;32m    119\u001b[0m \u001b[0;34m\u001b[0m\u001b[0m\n\u001b[1;32m    120\u001b[0m     \u001b[0;32mdef\u001b[0m \u001b[0msample_y\u001b[0m\u001b[0;34m(\u001b[0m\u001b[0mself\u001b[0m\u001b[0;34m,\u001b[0m \u001b[0mlE\u001b[0m\u001b[0;34m,\u001b[0m \u001b[0mnsamples\u001b[0m\u001b[0;34m=\u001b[0m\u001b[0;36m1\u001b[0m\u001b[0;34m)\u001b[0m\u001b[0;34m:\u001b[0m\u001b[0;34m\u001b[0m\u001b[0m\n\u001b[0;32m--> 121\u001b[0;31m         \u001b[0mrandom_sqrt_y\u001b[0m \u001b[0;34m=\u001b[0m \u001b[0mself\u001b[0m\u001b[0;34m.\u001b[0m\u001b[0msample_sqrt_y\u001b[0m\u001b[0;34m(\u001b[0m\u001b[0mlE\u001b[0m\u001b[0;34m,\u001b[0m \u001b[0mnsamples\u001b[0m\u001b[0;34m)\u001b[0m\u001b[0;34m\u001b[0m\u001b[0m\n\u001b[0m\u001b[1;32m    122\u001b[0m         \u001b[0;32mreturn\u001b[0m \u001b[0mrandom_sqrt_y\u001b[0m\u001b[0;34m**\u001b[0m\u001b[0;36m2\u001b[0m\u001b[0;34m\u001b[0m\u001b[0m\n\u001b[1;32m    123\u001b[0m \u001b[0;34m\u001b[0m\u001b[0m\n",
      "\u001b[0;32m/Users/fran/projects/hierarchical_nu/dev/cascade_model/inelasticity_sampler/draw_inelasticity.py\u001b[0m in \u001b[0;36msample_sqrt_y\u001b[0;34m(self, lE, nsamples)\u001b[0m\n\u001b[1;32m    124\u001b[0m     \u001b[0;32mdef\u001b[0m \u001b[0msample_sqrt_y\u001b[0m\u001b[0;34m(\u001b[0m\u001b[0mself\u001b[0m\u001b[0;34m,\u001b[0m \u001b[0mlE\u001b[0m\u001b[0;34m,\u001b[0m \u001b[0mnsamples\u001b[0m\u001b[0;34m=\u001b[0m\u001b[0;36m1\u001b[0m\u001b[0;34m)\u001b[0m\u001b[0;34m:\u001b[0m\u001b[0;34m\u001b[0m\u001b[0m\n\u001b[1;32m    125\u001b[0m         \u001b[0midx\u001b[0m \u001b[0;34m=\u001b[0m \u001b[0mself\u001b[0m\u001b[0;34m.\u001b[0m\u001b[0mget_index\u001b[0m\u001b[0;34m(\u001b[0m\u001b[0mlE\u001b[0m\u001b[0;34m)\u001b[0m\u001b[0;34m\u001b[0m\u001b[0m\n\u001b[0;32m--> 126\u001b[0;31m         \u001b[0mrandom_sqrt_y\u001b[0m \u001b[0;34m=\u001b[0m \u001b[0mself\u001b[0m\u001b[0;34m.\u001b[0m\u001b[0msamplers\u001b[0m\u001b[0;34m[\u001b[0m\u001b[0midx\u001b[0m\u001b[0;34m]\u001b[0m\u001b[0;34m.\u001b[0m\u001b[0msample_y\u001b[0m\u001b[0;34m(\u001b[0m\u001b[0mnsamples\u001b[0m\u001b[0;34m=\u001b[0m\u001b[0mnsamples\u001b[0m\u001b[0;34m)\u001b[0m\u001b[0;34m\u001b[0m\u001b[0m\n\u001b[0m\u001b[1;32m    127\u001b[0m         \u001b[0;32mreturn\u001b[0m \u001b[0mrandom_sqrt_y\u001b[0m\u001b[0;34m\u001b[0m\u001b[0m\n\u001b[1;32m    128\u001b[0m \u001b[0;34m\u001b[0m\u001b[0m\n",
      "\u001b[0;32m/Users/fran/projects/hierarchical_nu/dev/cascade_model/inelasticity_sampler/draw_inelasticity.py\u001b[0m in \u001b[0;36msample_y\u001b[0;34m(self, nsamples)\u001b[0m\n\u001b[1;32m     85\u001b[0m     \u001b[0;32mdef\u001b[0m \u001b[0msample_y\u001b[0m\u001b[0;34m(\u001b[0m\u001b[0mself\u001b[0m\u001b[0;34m,\u001b[0m \u001b[0mnsamples\u001b[0m\u001b[0;34m=\u001b[0m\u001b[0;36m1\u001b[0m\u001b[0;34m)\u001b[0m\u001b[0;34m:\u001b[0m\u001b[0;34m\u001b[0m\u001b[0m\n\u001b[1;32m     86\u001b[0m         \u001b[0mu\u001b[0m \u001b[0;34m=\u001b[0m \u001b[0muniform\u001b[0m\u001b[0;34m(\u001b[0m\u001b[0mself\u001b[0m\u001b[0;34m.\u001b[0m\u001b[0mrange_low\u001b[0m\u001b[0;34m,\u001b[0m \u001b[0mself\u001b[0m\u001b[0;34m.\u001b[0m\u001b[0mrange_high\u001b[0m\u001b[0;34m,\u001b[0m \u001b[0mnsamples\u001b[0m\u001b[0;34m)\u001b[0m\u001b[0;34m\u001b[0m\u001b[0m\n\u001b[0;32m---> 87\u001b[0;31m         \u001b[0;32mreturn\u001b[0m \u001b[0mself\u001b[0m\u001b[0;34m.\u001b[0m\u001b[0minv_cdf\u001b[0m\u001b[0;34m(\u001b[0m\u001b[0mu\u001b[0m\u001b[0;34m)\u001b[0m\u001b[0;34m\u001b[0m\u001b[0m\n\u001b[0m\u001b[1;32m     88\u001b[0m \u001b[0;34m\u001b[0m\u001b[0m\n\u001b[1;32m     89\u001b[0m \u001b[0;34m\u001b[0m\u001b[0m\n",
      "\u001b[0;32m/usr/local/lib/python2.7/site-packages/scipy/interpolate/polyint.pyc\u001b[0m in \u001b[0;36m__call__\u001b[0;34m(self, x)\u001b[0m\n\u001b[1;32m     77\u001b[0m         \"\"\"\n\u001b[1;32m     78\u001b[0m         \u001b[0mx\u001b[0m\u001b[0;34m,\u001b[0m \u001b[0mx_shape\u001b[0m \u001b[0;34m=\u001b[0m \u001b[0mself\u001b[0m\u001b[0;34m.\u001b[0m\u001b[0m_prepare_x\u001b[0m\u001b[0;34m(\u001b[0m\u001b[0mx\u001b[0m\u001b[0;34m)\u001b[0m\u001b[0;34m\u001b[0m\u001b[0m\n\u001b[0;32m---> 79\u001b[0;31m         \u001b[0my\u001b[0m \u001b[0;34m=\u001b[0m \u001b[0mself\u001b[0m\u001b[0;34m.\u001b[0m\u001b[0m_evaluate\u001b[0m\u001b[0;34m(\u001b[0m\u001b[0mx\u001b[0m\u001b[0;34m)\u001b[0m\u001b[0;34m\u001b[0m\u001b[0m\n\u001b[0m\u001b[1;32m     80\u001b[0m         \u001b[0;32mreturn\u001b[0m \u001b[0mself\u001b[0m\u001b[0;34m.\u001b[0m\u001b[0m_finish_y\u001b[0m\u001b[0;34m(\u001b[0m\u001b[0my\u001b[0m\u001b[0;34m,\u001b[0m \u001b[0mx_shape\u001b[0m\u001b[0;34m)\u001b[0m\u001b[0;34m\u001b[0m\u001b[0m\n\u001b[1;32m     81\u001b[0m \u001b[0;34m\u001b[0m\u001b[0m\n",
      "\u001b[0;32m/usr/local/lib/python2.7/site-packages/scipy/interpolate/interpolate.pyc\u001b[0m in \u001b[0;36m_evaluate\u001b[0;34m(self, x_new)\u001b[0m\n\u001b[1;32m    663\u001b[0m         \u001b[0;32mif\u001b[0m \u001b[0;32mnot\u001b[0m \u001b[0mself\u001b[0m\u001b[0;34m.\u001b[0m\u001b[0m_extrapolate\u001b[0m\u001b[0;34m:\u001b[0m\u001b[0;34m\u001b[0m\u001b[0m\n\u001b[1;32m    664\u001b[0m             \u001b[0mbelow_bounds\u001b[0m\u001b[0;34m,\u001b[0m \u001b[0mabove_bounds\u001b[0m \u001b[0;34m=\u001b[0m \u001b[0mself\u001b[0m\u001b[0;34m.\u001b[0m\u001b[0m_check_bounds\u001b[0m\u001b[0;34m(\u001b[0m\u001b[0mx_new\u001b[0m\u001b[0;34m)\u001b[0m\u001b[0;34m\u001b[0m\u001b[0m\n\u001b[0;32m--> 665\u001b[0;31m             \u001b[0;32mif\u001b[0m \u001b[0mlen\u001b[0m\u001b[0;34m(\u001b[0m\u001b[0my_new\u001b[0m\u001b[0;34m)\u001b[0m \u001b[0;34m>\u001b[0m \u001b[0;36m0\u001b[0m\u001b[0;34m:\u001b[0m\u001b[0;34m\u001b[0m\u001b[0m\n\u001b[0m\u001b[1;32m    666\u001b[0m                 \u001b[0;31m# Note fill_value must be broadcast up to the proper size\u001b[0m\u001b[0;34m\u001b[0m\u001b[0;34m\u001b[0m\u001b[0m\n\u001b[1;32m    667\u001b[0m                 \u001b[0;31m# and flattened to work here\u001b[0m\u001b[0;34m\u001b[0m\u001b[0;34m\u001b[0m\u001b[0m\n",
      "\u001b[0;31mKeyboardInterrupt\u001b[0m: "
     ]
    }
   ],
   "source": [
    "import logging\n",
    "mpl_logger = logging.getLogger('matplotlib')\n",
    "mpl_logger.setLevel(logging.WARNING)\n",
    "\n",
    "# using high level interface\n",
    "from cascade_model import cascade_sim\n",
    "pars = {}\n",
    "pars['neutrino_type']='nue' # nuebar, numu, numubar, nutau, nutaubar\n",
    "pars['interaction_type']='NC' # CC, NC\n",
    "pars['gamma']=1.5\n",
    "pars['lEmin']=3.0  # Emin >= 3.0\n",
    "pars['lEmax']=7.0  # Emax <= 7.0\n",
    "s = cascade_sim(pars)\n",
    "\n",
    "nsamples = int(1.e6)\n",
    "outfile = './output/'+pars['neutrino_type']+'_'+pars['interaction_type']+'_simulation_gamma_'+str(pars['gamma'])+'_lEmin_'+str(pars['lEmin'])+'_lEmax_'+str(pars['lEmax'])+'_fixed.h5'\n",
    "\n",
    "# To run the simulation, uncomment here\n",
    "s.run_simulation(nsamples, outfile)\n",
    "\n",
    "# plot assumed efficiency correction for deposited energies\n",
    "import numpy as np\n",
    "from matplotlib import pyplot as plt\n",
    "plt.style.use('ggplot')\n",
    "x_vals = np.logspace(1.0,7.0)\n",
    "y_vals = s.__get_selection_eff__(x_vals)\n",
    "\n",
    "plt.plot(x_vals, y_vals, \"k--\")\n",
    "plt.xscale('log')\n",
    "plt.ylabel('acceptance probability')\n",
    "plt.xlabel('log10(deposited energy / GeV)')\n",
    "plt.show()"
   ]
  },
  {
   "cell_type": "code",
   "execution_count": 4,
   "metadata": {
    "scrolled": false
   },
   "outputs": [
    {
     "ename": "IOError",
     "evalue": "File ./output/nue_NC_simulation_gamma_1.5_lEmin_3.0_lEmax_7.0_fixed.h5 does not exist",
     "output_type": "error",
     "traceback": [
      "\u001b[0;31m---------------------------------------------------------------------------\u001b[0m",
      "\u001b[0;31mIOError\u001b[0m                                   Traceback (most recent call last)",
      "\u001b[0;32m<ipython-input-4-1b3341a327fc>\u001b[0m in \u001b[0;36m<module>\u001b[0;34m()\u001b[0m\n\u001b[1;32m      5\u001b[0m \u001b[0;32mimport\u001b[0m \u001b[0mcPickle\u001b[0m \u001b[0;32mas\u001b[0m \u001b[0mpickle\u001b[0m\u001b[0;34m\u001b[0m\u001b[0m\n\u001b[1;32m      6\u001b[0m \u001b[0;34m\u001b[0m\u001b[0m\n\u001b[0;32m----> 7\u001b[0;31m \u001b[0mdf\u001b[0m \u001b[0;34m=\u001b[0m \u001b[0mpandas\u001b[0m\u001b[0;34m.\u001b[0m\u001b[0mread_hdf\u001b[0m\u001b[0;34m(\u001b[0m\u001b[0moutfile\u001b[0m\u001b[0;34m)\u001b[0m\u001b[0;34m\u001b[0m\u001b[0m\n\u001b[0m\u001b[1;32m      8\u001b[0m \u001b[0;32mprint\u001b[0m \u001b[0mdf\u001b[0m\u001b[0;34m.\u001b[0m\u001b[0mcolumns\u001b[0m\u001b[0;34m.\u001b[0m\u001b[0mvalues\u001b[0m\u001b[0;34m\u001b[0m\u001b[0m\n\u001b[1;32m      9\u001b[0m \u001b[0;34m\u001b[0m\u001b[0m\n",
      "\u001b[0;32m/usr/local/lib/python2.7/site-packages/pandas/io/pytables.pyc\u001b[0m in \u001b[0;36mread_hdf\u001b[0;34m(path_or_buf, key, mode, **kwargs)\u001b[0m\n\u001b[1;32m    364\u001b[0m         \u001b[0;32mif\u001b[0m \u001b[0;32mnot\u001b[0m \u001b[0mexists\u001b[0m\u001b[0;34m:\u001b[0m\u001b[0;34m\u001b[0m\u001b[0m\n\u001b[1;32m    365\u001b[0m             raise compat.FileNotFoundError(\n\u001b[0;32m--> 366\u001b[0;31m                 'File {path} does not exist'.format(path=path_or_buf))\n\u001b[0m\u001b[1;32m    367\u001b[0m \u001b[0;34m\u001b[0m\u001b[0m\n\u001b[1;32m    368\u001b[0m         \u001b[0mstore\u001b[0m \u001b[0;34m=\u001b[0m \u001b[0mHDFStore\u001b[0m\u001b[0;34m(\u001b[0m\u001b[0mpath_or_buf\u001b[0m\u001b[0;34m,\u001b[0m \u001b[0mmode\u001b[0m\u001b[0;34m=\u001b[0m\u001b[0mmode\u001b[0m\u001b[0;34m,\u001b[0m \u001b[0;34m**\u001b[0m\u001b[0mkwargs\u001b[0m\u001b[0;34m)\u001b[0m\u001b[0;34m\u001b[0m\u001b[0m\n",
      "\u001b[0;31mIOError\u001b[0m: File ./output/nue_NC_simulation_gamma_1.5_lEmin_3.0_lEmax_7.0_fixed.h5 does not exist"
     ]
    }
   ],
   "source": [
    "import pandas\n",
    "import numpy as np\n",
    "from matplotlib.colors import LogNorm\n",
    "from scipy.integrate import quad\n",
    "import cPickle as pickle\n",
    "\n",
    "df = pandas.read_hdf(outfile)\n",
    "print df.columns.values\n",
    "\n",
    "# plot results \n",
    "from matplotlib import pyplot as plt\n",
    "plt.style.use('ggplot')\n",
    "\n",
    "gamma = 2.0\n",
    "norm = 1.*10**(-18)\n",
    "ltime = 365. * 24. * 3600. * 2. # assume 2 years of livetime for rate\n",
    "\n",
    "# astro weights\n",
    "weights_plot=df['generation_weight']*np.power(df['prim_energy']/1.e5,-gamma)* norm * ltime\n",
    "rate = np.sum(weights_plot)\n",
    "rate_err = np.sqrt(np.sum((df['generation_weight']*np.power(df['prim_energy']/1.e5,-gamma) * norm * ltime)**2))\n",
    "print \"rate:\", np.round(rate, 2), \"pm\", np.round(rate_err,2)\n",
    "\n",
    "# calculate conventional weights for NuE\n",
    "'''\n",
    "splinedir = '/home/hans/icecube/projects/conventional_flux/splines/'\n",
    "spline_file = splinedir + 'QGSJETII04_MSIS00_IC_SouthPole_January_finebins_corrdetsurface.dat'        \n",
    "inf = open(spline_file, 'r')\n",
    "data_MSI_QGS_Jan = pickle.load(inf)\n",
    "inf.close()\n",
    "spline_file = splinedir + 'QGSJETII04_MSIS00_IC_SouthPole_June_finebins_corrdetsurface.dat'           \n",
    "inf = open(spline_file, 'r')\n",
    "data_MSI_QGS_June = pickle.load(inf)\n",
    "inf.close()\n",
    "def add_mceq_weights(df):\n",
    "        prim_type = {12.0:'NuE', -12.0:'NuEBar', 14.0:'NuMu', -14.0:'NuMuBar', 16.0:'NuTau', -16.0:'NuTauBar'}\n",
    "\n",
    "        def calc_weight(row, spline, flux_type, wcorr=False):                                             \n",
    "            #flux_type = 'conv', 'prompt'\n",
    "            ptype = 12.0 # for NuE\n",
    "            penergy = row['prim_energy']\n",
    "            logpenergy = np.log10(row['prim_energy'])                                     \n",
    "            pzenith = row['prim_coszenith']                                                                                 \n",
    "\n",
    "            comp = prim_type[ptype]+'_'+flux_type\n",
    "            if not comp in spline.keys():\n",
    "                flux = 0.0\n",
    "            else:\n",
    "                flux = spline[comp](pzenith, logpenergy, grid=False)                                      \n",
    "\n",
    "            return flux / penergy**3\n",
    "\n",
    "        def MSI_QGS_JUN_conv(row):\n",
    "            return calc_weight(row, data_MSI_QGS_June, 'conv')                                            \n",
    "        df['conv_weight_MSI_QGS_June_atdet']=df.apply(MSI_QGS_JUN_conv, axis=1)  \n",
    "    \n",
    "        def MSI_QGS_JAN_conv(row):\n",
    "            return calc_weight(row, data_MSI_QGS_Jan, 'conv')                                             \n",
    "        df['conv_weight_MSI_QGS_Jan_atdet']=df.apply(MSI_QGS_JAN_conv, axis=1) \n",
    "\n",
    "add_mceq_weights(df)\n",
    "weights_conv=df['generation_weight']* 0.5 * (df['conv_weight_MSI_QGS_June_atdet']+df['conv_weight_MSI_QGS_Jan_atdet']) * time\n",
    "'''\n",
    "\n",
    "#only exists for NuE CC for now. \n",
    "#weights_plot = np.loadtxt(\"conv_weights_temp.dat\")\n",
    "#rate = np.sum(weights_plot)\n",
    "#print 'rate nue', rate\n",
    "\n",
    "plt.hist(np.log10(df['prim_energy']), bins=50, weights=weights_plot, density=True, label=\"(toy)MC\")\n",
    "plt.ylim([1.e-3, 1.0])\n",
    "plt.xlim([2.8, 7.2])\n",
    "plt.yscale('log')\n",
    "plt.xlabel('log10(neutrino energy / GeV)')\n",
    "plt.ylabel('a.u.')\n",
    "plt.legend()\n",
    "plt.show()\n",
    "\n",
    "plt.hist(np.log10(df['rec_energy']), bins=50, weights=weights_plot, density=True, label=\"(toy)MC\")\n",
    "plt.ylim([1.e-3, 1.0])\n",
    "plt.xlim([2.8, 7.2])\n",
    "plt.yscale('log')\n",
    "plt.xlabel('log10(reco. energy / GeV)')\n",
    "plt.ylabel('a.u.')\n",
    "plt.legend()\n",
    "plt.show()\n",
    "\n",
    "plt.hist(df['prim_coszenith'], bins=50, weights=weights_plot, density=True, label=\"(toy)MC\")\n",
    "plt.ylim([0.1,1])\n",
    "plt.yscale('log')\n",
    "plt.legend()\n",
    "plt.xlabel('cos(neutrino zenith)')\n",
    "plt.ylabel('a.u.')\n",
    "plt.show()\n",
    "\n",
    "plt.hist(df['rec_coszenith'], bins=50, weights=weights_plot, density=True, label=\"(toy)MC\")\n",
    "plt.ylim([0.1,1])\n",
    "plt.yscale('log')\n",
    "plt.legend()\n",
    "plt.xlabel('cos(reco. zenith)')\n",
    "plt.ylabel('a.u.')\n",
    "plt.show()\n",
    "\n",
    "plt.hist(df['prim_azimuth'], bins=50, weights=weights_plot, density=True, label=\"(toy)MC\")\n",
    "plt.ylim([0.1,0.25])\n",
    "plt.yscale('log')\n",
    "plt.legend()\n",
    "plt.xlabel('neutrino azimuth')\n",
    "plt.ylabel('a.u.')\n",
    "plt.show()\n",
    "\n",
    "plt.hist(df['rec_azimuth'], bins=50, weights=weights_plot, density=True, label=\"(toy)MC\")\n",
    "plt.ylim([0.1,0.25])\n",
    "plt.yscale('log')\n",
    "plt.legend()\n",
    "plt.xlabel('reco.  azimuth')\n",
    "plt.ylabel('a.u.')\n",
    "plt.show()\n",
    "\n",
    "plt.hist(df['bjorken_y'], bins=50, weights=weights_plot, density=True, label=\"(toy)MC\")\n",
    "plt.ylim([0.1,3.0])\n",
    "plt.yscale('log')\n",
    "plt.legend()\n",
    "plt.xlabel('bjorken y')\n",
    "plt.ylabel('a.u.')\n",
    "plt.show()\n",
    "\n",
    "\n",
    "plt.hist2d(np.log10(df['prim_energy']), np.log10(df['rec_energy']), weights=weights_plot, bins=50, norm=LogNorm(10**-5,10**0), label=\"(toy)MC\")\n",
    "plt.ylim([1.0, 7.0])\n",
    "plt.xlim([3.0, 7.0])\n",
    "plt.xlabel('log10(neutrino energy / GeV)')\n",
    "plt.ylabel('log10(deposited energy / GeV)')\n",
    "plt.show()"
   ]
  },
  {
   "cell_type": "code",
   "execution_count": 29,
   "metadata": {},
   "outputs": [],
   "source": [
    "cos_true = df['prim_coszenith'].values\n",
    "cos_rec = df['rec_coszenith'].values\n",
    "sin_true = np.sqrt(1.-cos_true**2)\n",
    "sin_rec = np.sqrt(1.-cos_rec**2)\n",
    "\n",
    "rec_az = df['rec_azimuth'].values\n",
    "true_az = df['prim_azimuth'].values\n",
    "cos_diff = np.cos(rec_az-true_az)\n",
    "\n",
    "cos_opening_angle = cos_true * cos_rec + sin_true * sin_rec * cos_diff\n",
    "df['opening_angle']=np.arccos(cos_opening_angle) / np.pi * 180."
   ]
  },
  {
   "cell_type": "code",
   "execution_count": 30,
   "metadata": {
    "scrolled": true
   },
   "outputs": [
    {
     "name": "stdout",
     "output_type": "stream",
     "text": [
      "179.9602249582162\n",
      "72.58324137465023\n"
     ]
    },
    {
     "data": {
      "image/png": "[encoded data removed]",
      "text/plain": [
       "<Figure size 432x288 with 1 Axes>"
      ]
     },
     "metadata": {},
     "output_type": "display_data"
    },
    {
     "name": "stdout",
     "output_type": "stream",
     "text": [
      "0.004468321054969637\n"
     ]
    },
    {
     "data": {
      "image/png": "[encoded data removed]",
      "text/plain": [
       "<Figure size 432x288 with 1 Axes>"
      ]
     },
     "metadata": {},
     "output_type": "display_data"
    },
    {
     "data": {
      "image/png": "[encoded data removed]",
      "text/plain": [
       "<Figure size 432x288 with 1 Axes>"
      ]
     },
     "metadata": {},
     "output_type": "display_data"
    },
    {
     "data": {
      "image/png": "[encoded data removed]",
      "text/plain": [
       "<Figure size 432x288 with 1 Axes>"
      ]
     },
     "metadata": {},
     "output_type": "display_data"
    }
   ],
   "source": [
    "from copy import copy\n",
    "print np.amax(df['opening_angle'])\n",
    "print np.average((df['opening_angle']), weights=weights_plot)\n",
    "plt.hist(df['opening_angle'], bins=50, weights=weights_plot, density=True)\n",
    "#plt.ylim([0.1,3.0])\n",
    "#plt.yscale('log')\n",
    "plt.show()\n",
    "\n",
    "diff_az1 = (true_az - rec_az)/np.pi * 180.\n",
    "idx_neg = diff_az1<0.0\n",
    "idx_pos = diff_az1>=0.0\n",
    "\n",
    "diff_az = copy(diff_az1)\n",
    "diff_az[idx_neg] = np.minimum(360.+true_az[idx_neg]/np.pi*180.-rec_az[idx_neg]/np.pi*180, np.abs(diff_az1[idx_neg]))\n",
    "diff_az[idx_pos] = np.minimum(diff_az1[idx_pos], 360.-diff_az1[idx_pos])\n",
    "idx = diff_az>np.amax(df['opening_angle'])\n",
    "print np.amin(np.abs(cos_true[idx]))\n",
    "\n",
    "plt.hist(diff_az, weights=weights_plot, bins=50, density=True)\n",
    "#plt.ylim([0.1,3.0])\n",
    "#plt.yscale('log')\n",
    "plt.show()\n",
    "\n",
    "diff_zen = (np.arccos(cos_true)-np.arccos(cos_rec))/np.pi*180.\n",
    "plt.hist(diff_zen, weights=weights_plot, bins=50, density=True)\n",
    "#plt.ylim([0.1,3.0])\n",
    "#plt.yscale('log')\n",
    "plt.show()\n",
    "\n",
    "plt.hist(cos_true, weights=weights_plot, bins=50, density=True)\n",
    "#plt.ylim([0.1,3.0])\n",
    "#plt.yscale('log')\n",
    "plt.show()"
   ]
  },
  {
   "cell_type": "code",
   "execution_count": 7,
   "metadata": {},
   "outputs": [
    {
     "name": "stdout",
     "output_type": "stream",
     "text": [
      "./output/nue_CC_simulation_gamma_1.0_lEmin_3.0_lEmax_7.0.h5\n"
     ]
    }
   ],
   "source": [
    "import logging\n",
    "mpl_logger = logging.getLogger('matplotlib')\n",
    "mpl_logger.setLevel(logging.WARNING)\n",
    "\n",
    "import pandas as pd\n",
    "import numpy as np\n",
    "\n",
    "neutrino_interaction = 'CC'\n",
    "neutrino_flavor = 'nue'\n",
    "nsamples = int(1.e6)\n",
    "show = int(1.e1)\n",
    "\n",
    "lEmin = 3.0\n",
    "lEmax = 7.0\n",
    "gamma_inj = 1.0\n",
    "\n",
    "\n",
    "sim_component = neutrino_flavor + '_' + neutrino_interaction                                                        \n",
    "\n",
    "if 'bar' in neutrino_flavor:\n",
    "    ytype = 'nubar_'+neutrino_interaction\n",
    "else:\n",
    "    ytype = 'nu_'+neutrino_interaction\n",
    "\n",
    "\n",
    "outfile = './output/'+sim_component+'_simulation_gamma_'+str(gamma_inj)+'_lEmin_'+str(lEmin)+'_lEmax_'+str(lEmax)+'.h5'\n",
    "print outfile"
   ]
  },
  {
   "cell_type": "code",
   "execution_count": 95,
   "metadata": {
    "scrolled": true
   },
   "outputs": [
    {
     "name": "stdout",
     "output_type": "stream",
     "text": [
      "[4.3307643  3.40537726 3.8776867  3.54448671 3.02584623 3.25869316\n",
      " 3.13768348 3.70190326 3.03882038 4.33495296]\n"
     ]
    }
   ],
   "source": [
    "# sample neutrino energies from powerlaw\n",
    "from pareto_sampler.pareto import truncated_pareto\n",
    "pareto = truncated_pareto(gamma, 10**lEmin, 10**lEmax)\n",
    "neutrino_energies = pareto.samples(nsamples)\n",
    "neutrino_energies_log = np.log10(neutrino_energies)\n",
    "print neutrino_energies_log[:show]"
   ]
  },
  {
   "cell_type": "code",
   "execution_count": 96,
   "metadata": {},
   "outputs": [
    {
     "name": "stdout",
     "output_type": "stream",
     "text": [
      "[-0.28620141  0.79309703 -0.71801382 -0.08467633  0.48628468  0.05280389\n",
      " -0.09828795  0.17925679  0.13619678  0.81560081]\n"
     ]
    }
   ],
   "source": [
    "# sample neutrino directions uniformly across sky\n",
    "from recodir_sampler.uniform_sampler import uniform_from_sphere, transform_to_cartesian, transform_to_spherical     \n",
    "neutrino_directions = uniform_from_sphere(nsamples)\n",
    "neutrino_directions_cartesian = transform_to_cartesian(neutrino_directions)                                         \n",
    "neutrino_cos_thetas = np.asarray(neutrino_directions[:,0])\n",
    "print neutrino_cos_thetas[:show]"
   ]
  },
  {
   "cell_type": "code",
   "execution_count": 105,
   "metadata": {},
   "outputs": [
    {
     "name": "stdout",
     "output_type": "stream",
     "text": [
      "[0.02008067 0.01473626 0.34154286 0.02325939 0.08585389 0.21982758\n",
      " 0.20135233 0.59749751 0.0780586  0.03147813]\n"
     ]
    }
   ],
   "source": [
    "# setup y sampler and create y_samples\n",
    "from inelasticity_sampler.draw_inelasticity import inelasticity_sampler                                             \n",
    "from inelasticity_sampler.interaction_info import interaction_source_files                                          \n",
    "source = interaction_source_files()\n",
    "pickledir = './inelasticity_sampler/pickle/'\n",
    "\n",
    "log_central_energy = 5.\n",
    "kinematics_sampler = inelasticity_sampler(source, pickledir)                                                        \n",
    "y_samples =  kinematics_sampler.sample_y(log_central_energy, ytype, nsamples)                                       \n",
    "print y_samples[:show]"
   ]
  },
  {
   "cell_type": "code",
   "execution_count": 97,
   "metadata": {},
   "outputs": [
    {
     "name": "stdout",
     "output_type": "stream",
     "text": [
      "... creating effective area spline for interaction nue_CC , done!\n",
      "[8.44428242e-01 8.68601716e-03 1.63763874e-01 3.10265867e-02\n",
      " 3.23687333e-04 4.18595346e-03 1.75583498e-03 7.06802618e-02\n",
      " 5.76060212e-04 8.63555219e-01]\n",
      "[4.86696008e+04 7.05897495e+00 1.17154218e+03 4.78491092e+01\n",
      " 4.58125638e-02 1.73119964e+00 4.15926970e-01 2.25045894e+02\n",
      " 8.65515954e-02 5.07414031e+04]\n"
     ]
    }
   ],
   "source": [
    "# calculate weights\n",
    "from aeff_calculator.aeff_calculator import effective_area\n",
    "aeff = effective_area(sim_component)\n",
    "\n",
    "effective_areas = np.power(10, np.asarray([aeff.eval(lE, ct) for lE,ct in zip(neutrino_energies_log, neutrino_cos_thetas)]))\n",
    "effective_areas = effective_areas.flatten()\n",
    "print effective_areas[:show]\n",
    "\n",
    "weights = 1./nsamples * effective_areas / pareto.pdf(neutrino_energies) * 4. * np.pi * 10.**4\n",
    "print weights[:show]"
   ]
  },
  {
   "cell_type": "code",
   "execution_count": 106,
   "metadata": {},
   "outputs": [
    {
     "name": "stdout",
     "output_type": "stream",
     "text": [
      "[24665.18989852  2268.80285577  8563.3015722   3342.18877021\n",
      "  1345.72068448  2089.8489361   1493.10000894  5436.02557601\n",
      "  1075.46855948 21271.32332753]\n"
     ]
    }
   ],
   "source": [
    "# calculate energy deposit as function of interaction type and inelasticity\n",
    "# this needs to be a function of the interaction type (NC, CC, hadronic light scale etc)\n",
    "energy_deposits = neutrino_energies\n",
    "\n",
    "# dummy energy resolution\n",
    "# relative resolution needs to be a function of energy deposit\n",
    "relative_resolution = 0.1\n",
    "energy_resolutions = energy_deposits * relative_resolution\n",
    "reconstructed_energies = np.random.normal(energy_deposits, energy_resolutions)\n",
    "print reconstructed_energies[:show]"
   ]
  },
  {
   "cell_type": "code",
   "execution_count": 99,
   "metadata": {},
   "outputs": [
    {
     "name": "stdout",
     "output_type": "stream",
     "text": [
      "[array([-0.22436195,  3.14071824]), array([0.86994836, 3.45562844]), array([-0.78355607,  0.911079  ]), array([0.06404752, 0.164083  ]), array([0.44631244, 4.31862908]), array([-0.08322258,  5.84601154]), array([-0.23921637,  1.71800708]), array([0.21008971, 5.78129402]), array([0.11707758, 4.19195605]), array([0.7886023 , 5.40096157])]\n"
     ]
    }
   ],
   "source": [
    "# dummy angular resolution\n",
    "# concentration as function of energy deposit\n",
    "from recodir_sampler.vMF_sampler import VonMisesFisher\n",
    "err = 10. / 180. * np.pi\n",
    "var = err**2\n",
    "kappa = 2.3 / var\n",
    "reconstructed_directions = []\n",
    "vMF = VonMisesFisher()\n",
    "for mu in neutrino_directions_cartesian:\n",
    "    tdis = vMF.randomize_about_point(np.asarray([mu]), kappa=kappa, num_samples=1)\n",
    "    reconstructed_directions.append(transform_to_spherical(tdis)[0])\n",
    "print reconstructed_directions[:show]"
   ]
  },
  {
   "cell_type": "code",
   "execution_count": 121,
   "metadata": {},
   "outputs": [
    {
     "name": "stdout",
     "output_type": "stream",
     "text": [
      "rate: 22.7 pm 0.06\n"
     ]
    },
    {
     "data": {
      "image/png": "[encoded data removed]",
      "text/plain": [
       "<Figure size 432x288 with 1 Axes>"
      ]
     },
     "metadata": {
      "needs_background": "light"
     },
     "output_type": "display_data"
    },
    {
     "data": {
      "image/png": "[encoded data removed]",
      "text/plain": [
       "<Figure size 432x288 with 1 Axes>"
      ]
     },
     "metadata": {
      "needs_background": "light"
     },
     "output_type": "display_data"
    },
    {
     "data": {
      "image/png": "[encoded data removed]",
      "text/plain": [
       "<Figure size 432x288 with 1 Axes>"
      ]
     },
     "metadata": {
      "needs_background": "light"
     },
     "output_type": "display_data"
    }
   ],
   "source": [
    "# plot results \n",
    "from matplotlib import pyplot as plt\n",
    "gamma = 2.5\n",
    "norm = 1.*10**(-18)\n",
    "ltime = 365. * 24. * 3600. * 2. # assume 2 years of livetime for rate\n",
    "\n",
    "weights_plot=weights*np.power(neutrino_energies/1.e5,-gamma)* norm * ltime\n",
    "\n",
    "rate = np.sum(weights_plot)\n",
    "rate_err = np.sqrt(np.sum((weights*np.power(neutrino_energies/1.e5,-gamma) * norm * ltime)**2))\n",
    "print \"rate:\", np.round(rate, 2), \"pm\", np.round(rate_err,2)\n",
    "\n",
    "\n",
    "\n",
    "plt.hist(neutrino_energies_log, bins=20, weights=weights_plot, normed=True)\n",
    "plt.ylim([1.e-3, 1.0])\n",
    "plt.xlim([3.0, 7.0])\n",
    "plt.yscale('log')\n",
    "plt.show()\n",
    "\n",
    "dirs = np.vstack(reconstructed_directions)\n",
    "plt.hist(dirs[:,0], bins=20, weights=weights_plot, normed=True)\n",
    "plt.ylim([0.1,1])\n",
    "plt.yscale('log')\n",
    "plt.show()\n",
    "\n",
    "dirs = np.vstack(reconstructed_directions)\n",
    "plt.hist(dirs[:,1], bins=20, weights=weights_plot, normed=True)\n",
    "plt.ylim([0.1,0.4])\n",
    "plt.yscale('log')\n",
    "plt.show()"
   ]
  },
  {
   "cell_type": "code",
   "execution_count": 120,
   "metadata": {},
   "outputs": [
    {
     "name": "stdout",
     "output_type": "stream",
     "text": [
      "1000000 589.0607464375191 10460518.107152205\n",
      "1000000 1000.0015856561567 9937354.15266665\n",
      "1000000 -0.9999997895895614 0.9999944180282598\n",
      "1000000 8.903794644131903e-07 6.283167601776304\n",
      "1000000 -0.9999985506277503 0.999998770229043\n",
      "1000000 4.523910606124559e-06 6.283168608407917\n",
      "1000000 0.018279950201248896 341938826345.39246\n",
      "1000000 1000.0015856561567 9937354.15266665\n",
      "1000000 9.881588726287432e-16 0.9999998160983923\n"
     ]
    }
   ],
   "source": [
    "# check all variables\n",
    "print len(reconstructed_energies), np.amin(reconstructed_energies), np.amax(reconstructed_energies)\n",
    "print len(neutrino_energies), np.amin(neutrino_energies), np.amax(neutrino_energies)\n",
    "print len(neutrino_directions[:,0]), np.amin(neutrino_directions[:,0]),np.amax(neutrino_directions[:,0])\n",
    "print len(neutrino_directions[:,1]), np.amin(neutrino_directions[:,1]),np.amax(neutrino_directions[:,1])\n",
    "print len(dirs[:,0]), np.amin(dirs[:,0]),np.amax(dirs[:,0])\n",
    "print len(dirs[:,1]), np.amin(dirs[:,1]),np.amax(dirs[:,1])\n",
    "print len(weights), np.amin(weights),np.amax(weights)\n",
    "print len(energy_deposits), np.amin(energy_deposits), np.amax(energy_deposits)\n",
    "print len(y_samples), np.amin(y_samples), np.amax(y_samples)"
   ]
  },
  {
   "cell_type": "code",
   "execution_count": 125,
   "metadata": {},
   "outputs": [],
   "source": [
    "# write to pandas data frame\n",
    "\n",
    "to_store={}\n",
    "to_store[\"prim_energy\"]=np.asarray(neutrino_energies)\n",
    "to_store[\"prim_coszenith\"]=np.asarray(neutrino_directions[:,0])\n",
    "to_store[\"prim_azimuth\"]=np.asarray(neutrino_directions[:,1])\n",
    "to_store[\"rec_energy\"]=np.asarray(reconstructed_energies)\n",
    "to_store[\"rec_coszenith\"]=np.asarray(dirs[:,0])\n",
    "to_store[\"rec_azimuth\"]=np.asarray(dirs[:,1])\n",
    "to_store[\"generation_weight\"]=np.asarray(weights)\n",
    "to_store[\"dep_energy\"]=np.asarray(energy_deposits)\n",
    "to_store[\"bjorken_y\"]=np.asarray(y_samples)\n",
    "\n",
    "names = to_store.keys()\n",
    "X = np.hstack(tuple([to_store[key].reshape(to_store[key].shape[0], -1) for key in names]))\n",
    "df = pd.DataFrame(X, columns=names)\n",
    "store = pd.HDFStore(outfile)\n",
    "store[sim_component]=df\n",
    "store.close()"
   ]
  },
  {
   "cell_type": "code",
   "execution_count": 132,
   "metadata": {},
   "outputs": [
    {
     "name": "stdout",
     "output_type": "stream",
     "text": [
      "1000000 [21417.2793305   2543.18095539  7545.47693299 ...  5911.77664653\n",
      "  1412.44882916  6839.24133303]\n",
      "1000000 [0.02630842 0.74809005 4.10895873 ... 2.21414588 4.23535106 0.16224532]\n"
     ]
    }
   ],
   "source": [
    "# read pd frame back in\n",
    "\n",
    "df = pd.read_hdf(outfile)\n",
    "print len(df['prim_energy'].values), df['prim_energy'].values\n",
    "print len(df['prim_azimuth'].values), df['prim_azimuth'].values"
   ]
  },
  {
   "cell_type": "code",
   "execution_count": 129,
   "metadata": {},
   "outputs": [
    {
     "name": "stdout",
     "output_type": "stream",
     "text": [
      "\u001b[0m\u001b[01;34maeff_calculator\u001b[0m/  \u001b[01;34mcsms_input\u001b[0m/            \u001b[01;34moutput\u001b[0m/           \u001b[01;34mtemp\u001b[0m/\r\n",
      "\u001b[01;34maeff_input\u001b[0m/       example.ipynb          \u001b[01;34mpareto_sampler\u001b[0m/   TODO\r\n",
      "cascade_model.py  \u001b[01;34minelasticity_sampler\u001b[0m/  \u001b[01;34mrecodir_sampler\u001b[0m/  Untitled.ipynb\r\n"
     ]
    }
   ],
   "source": [
    "ls"
   ]
  },
  {
   "cell_type": "code",
   "execution_count": 130,
   "metadata": {},
   "outputs": [
    {
     "name": "stdout",
     "output_type": "stream",
     "text": [
      "nue_CC_simulation_gamma_1.0_lEmin_3.0_lEmax_7.0.h5\r\n"
     ]
    }
   ],
   "source": []
  },
  {
   "cell_type": "code",
   "execution_count": 1,
   "metadata": {},
   "outputs": [
    {
     "name": "stdout",
     "output_type": "stream",
     "text": [
      "Welcome to JupyROOT 6.14/04\n",
      "... setting up all samplers\n",
      "... setting up powerlaw sampler\n",
      "done.\n",
      "... setting up effective area\n",
      "... creating effective area spline for interaction nue_CC , done!\n",
      "done.\n",
      "... setting up inelasticity sampler\n",
      "done\n",
      "... setting up directional sampler\n",
      "all done!\n",
      "... starting simulation for 1000000 events\n",
      "... writing output to file\n",
      "done!\n"
     ]
    }
   ],
   "source": [
    "# using high level interface\n",
    "from cascade_model import cascade_sim\n",
    "pars = {}\n",
    "pars['neutrino_type']='nue'\n",
    "pars['interaction_type']='CC'\n",
    "pars['gamma']=1.1\n",
    "pars['lEmin']=3.0\n",
    "pars['lEmax']=7.0\n",
    "s = cascade_sim(pars)\n",
    "\n",
    "nsamples = int(1.e6)\n",
    "outfile = './output/'+pars['neutrino_type']+'_'+pars['interaction_type']+'_simulation_gamma_'+str(pars['gamma'])+'_lEmin_'+str(pars['lEmin'])+'_lEmax_'+str(pars['lEmax'])+'_test_y.h5'\n",
    "s.run_simulation(nsamples, outfile)"
   ]
  },
  {
   "cell_type": "code",
   "execution_count": 4,
   "metadata": {},
   "outputs": [
    {
     "name": "stdout",
     "output_type": "stream",
     "text": [
      "['generation_weight' 'prim_coszenith' 'rec_coszenith' 'dep_energy'\n",
      " 'rec_energy' 'prim_energy' 'prim_azimuth' 'rec_azimuth' 'bjorken_y']\n",
      "rate: 22.61 pm 0.03\n"
     ]
    },
    {
     "data": {
      "image/png": "[encoded data removed]",
      "text/plain": [
       "<Figure size 432x288 with 1 Axes>"
      ]
     },
     "metadata": {
      "needs_background": "light"
     },
     "output_type": "display_data"
    },
    {
     "data": {
      "image/png": "[encoded data removed]",
      "text/plain": [
       "<Figure size 432x288 with 1 Axes>"
      ]
     },
     "metadata": {
      "needs_background": "light"
     },
     "output_type": "display_data"
    },
    {
     "data": {
      "image/png": "[encoded data removed]",
      "text/plain": [
       "<Figure size 432x288 with 1 Axes>"
      ]
     },
     "metadata": {
      "needs_background": "light"
     },
     "output_type": "display_data"
    }
   ],
   "source": [
    "import pandas\n",
    "import numpy as np\n",
    "\n",
    "df = pandas.read_hdf(outfile)\n",
    "print df.columns.values\n",
    "\n",
    "# plot results \n",
    "from matplotlib import pyplot as plt\n",
    "gamma = 2.5\n",
    "norm = 1.*10**(-18)\n",
    "ltime = 365. * 24. * 3600. * 2. # assume 2 years of livetime for rate\n",
    "\n",
    "weights_plot=df['generation_weight']*np.power(df['prim_energy']/1.e5,-gamma)* norm * ltime\n",
    "\n",
    "rate = np.sum(weights_plot)\n",
    "rate_err = np.sqrt(np.sum((df['generation_weight']*np.power(df['prim_energy']/1.e5,-gamma) * norm * ltime)**2))\n",
    "print \"rate:\", np.round(rate, 2), \"pm\", np.round(rate_err,2)\n",
    "\n",
    "\n",
    "\n",
    "plt.hist(np.log10(df['prim_energy']), bins=50, weights=weights_plot, normed=True)\n",
    "plt.ylim([1.e-3, 1.0])\n",
    "plt.xlim([3.0, 7.0])\n",
    "plt.yscale('log')\n",
    "plt.show()\n",
    "\n",
    "plt.hist(df['rec_coszenith'], bins=50, weights=weights_plot, normed=True)\n",
    "plt.ylim([0.1,1])\n",
    "plt.yscale('log')\n",
    "plt.show()\n",
    "\n",
    "plt.hist(df['rec_azimuth'], bins=50, weights=weights_plot, normed=True)\n",
    "plt.ylim([0.1,0.4])\n",
    "plt.yscale('log')\n",
    "plt.show()"
   ]
  },
  {
   "cell_type": "code",
   "execution_count": null,
   "metadata": {},
   "outputs": [],
   "source": []
  }
 ],
 "metadata": {
  "kernelspec": {
   "display_name": "Python 2",
   "language": "python",
   "name": "python2"
  },
  "language_info": {
   "codemirror_mode": {
    "name": "ipython",
    "version": 2
   },
   "file_extension": ".py",
   "mimetype": "text/x-python",
   "name": "python",
   "nbconvert_exporter": "python",
   "pygments_lexer": "ipython2",
   "version": "2.7.16"
  }
 },
 "nbformat": 4,
 "nbformat_minor": 2
}
