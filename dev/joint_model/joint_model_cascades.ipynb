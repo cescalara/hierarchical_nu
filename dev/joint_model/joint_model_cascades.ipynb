{
 "cells": [
  {
   "cell_type": "markdown",
   "metadata": {},
   "source": [
    "# Joint model for cascades"
   ]
  },
  {
   "cell_type": "code",
   "execution_count": 1,
   "metadata": {
    "ExecuteTime": {
     "end_time": "2019-02-18T19:33:20.374414Z",
     "start_time": "2019-02-18T19:33:18.812391Z"
    }
   },
   "outputs": [
    {
     "name": "stderr",
     "output_type": "stream",
     "text": [
      "/Users/fran/projects/bayes/lib/python3.6/site-packages/h5py/__init__.py:36: FutureWarning: Conversion of the second argument of issubdtype from `float` to `np.floating` is deprecated. In future, it will be treated as `np.float64 == np.dtype(float).type`.\n",
      "  from ._conv import register_converters as _register_converters\n"
     ]
    }
   ],
   "source": [
    "import numpy as np\n",
    "import h5py\n",
    "from matplotlib import pyplot as plt\n",
    "import stan_utility\n",
    "from joint_model_cascades import * "
   ]
  },
  {
   "cell_type": "markdown",
   "metadata": {},
   "source": [
    "## Forward model\n",
    "\n",
    "Given a set of $K$ sources with known redshifts $z_k$, positions $\\varpi_k$ and uniform luminosities $L$, simulate a neutrino data set. \n",
    "\n",
    "The neutrinos are produced at the source with spectrum ${\\rm{d}}N/{\\rm{d}}\\tilde{E} \\propto \\tilde{E}^{-\\alpha}$, they lose energy according to adiabatic expansion such that $\\tilde{E} = (1+z)E$ and are detected with a simple uncertainty $\\sigma_E$."
   ]
  },
  {
   "cell_type": "code",
   "execution_count": 11,
   "metadata": {
    "ExecuteTime": {
     "end_time": "2019-02-18T19:40:08.088136Z",
     "start_time": "2019-02-18T19:40:07.993420Z"
    }
   },
   "outputs": [],
   "source": [
    "# Use a set of sources uniform in comoving volume for a lambda-CDM universe.\n",
    "with h5py.File('data/test_SFR_pop.h5', 'r') as f:\n",
    "    Ns = f['output/Ns'].value\n",
    "    redshift = f['output/redshift'].value\n",
    "    position = f['output/position'].value\n",
    "unit_vector = [p / np.linalg.norm(p) for p in position]\n",
    "    \n",
    "# Use simple Aeff calculated in `arrival_direction_model/testing_simple_model.ipynb`.\n",
    "# Just for testing, to be replaced with a better solution...\n",
    "filename = 'data/IC79-2010-TabulatedAeff.txt'\n",
    "effective_area = IceCubeAeff(filename, selected_E = 1E5) # GeV\n",
    "\n",
    "# Exposure factor for sources in catalog\n",
    "T = 1 # yr\n",
    "eps = [] # m^2 yr\n",
    "\n",
    "# Sources\n",
    "for uv in unit_vector:\n",
    "    zenith_angle = np.pi - np.arccos(uv[2])\n",
    "    mk = effective_area.m(zenith_angle)\n",
    "    eps.append(effective_area._Aeff_max * T * mk)   \n",
    "\n",
    "# Isotropic background\n",
    "eps.append(effective_area._Aeff_max * T * (effective_area.M / (4*np.pi)))\n",
    "\n",
    "# Interpolation grid\n",
    "zenith_grid = np.linspace(0, np.pi)\n",
    "m_grid = [effective_area.m(z) for z in zenith_grid]"
   ]
  },
  {
   "cell_type": "code",
   "execution_count": 15,
   "metadata": {
    "ExecuteTime": {
     "end_time": "2019-02-18T19:49:08.898608Z",
     "start_time": "2019-02-18T19:48:24.175812Z"
    }
   },
   "outputs": [
    {
     "name": "stderr",
     "output_type": "stream",
     "text": [
      "INFO:pystan:COMPILING THE C++ CODE FOR MODEL nu_sim_c71afa3ba571147c3c957dbd6d551f90 NOW.\n"
     ]
    }
   ],
   "source": [
    "# Compile Stan model\n",
    "sim = stan_utility.compile_model(filename = 'stan/joint_cascade_sim.stan', \n",
    "                                 model_name = 'nu_sim', include_paths = 'stan/')"
   ]
  },
  {
   "cell_type": "code",
   "execution_count": 16,
   "metadata": {
    "ExecuteTime": {
     "end_time": "2019-02-18T19:50:28.951576Z",
     "start_time": "2019-02-18T19:50:28.890138Z"
    }
   },
   "outputs": [],
   "source": [
    "# Prepare simulation inputs\n",
    "sim_input = {}\n",
    "\n",
    "# Sources\n",
    "sim_input['Ns'] = Ns\n",
    "dl = [luminosity_distance(z) for z in redshift] # Mpc\n",
    "sim_input['D'] = dl # Mpc\n",
    "sim_input['varpi'] = unit_vector\n",
    "\n",
    "# Energies\n",
    "sim_input['alpha'] = 2.0\n",
    "sim_input['Emin'] = 100 # TeV\n",
    "sim_input['sigmaE'] = 10 # TeV\n",
    "\n",
    "# Deflection\n",
    "sim_input['kappa'] = 100 # ~10 deg for cascades\n",
    "\n",
    "# Associated fraction \n",
    "total_flux = 6.0 # m^-2 yr^-1\n",
    "f = 0.5\n",
    "\n",
    "Q = ( (f*total_flux) / (sum([1 / (4*np.pi * (d*Mpc_to_m)**2) for d in dl])) ) # yr^-1\n",
    "F0 = (1 - f) * total_flux # m^-2 yr^-1\n",
    "\n",
    "sim_input['Q'] = Q # yr^-1\n",
    "sim_input['F0'] = F0 # m^-2 yr^-1\n",
    "\n",
    "# Exposure\n",
    "sim_input['eps'] = eps\n",
    "sim_input['Ngrid'] = len(zenith_grid)\n",
    "sim_input['zenith_grid'] = zenith_grid\n",
    "sim_input['m_grid'] = m_grid"
   ]
  },
  {
   "cell_type": "code",
   "execution_count": null,
   "metadata": {},
   "outputs": [],
   "source": []
  }
 ],
 "metadata": {
  "kernelspec": {
   "display_name": "Python (bayes)",
   "language": "python",
   "name": "bayes"
  },
  "language_info": {
   "codemirror_mode": {
    "name": "ipython",
    "version": 3
   },
   "file_extension": ".py",
   "mimetype": "text/x-python",
   "name": "python",
   "nbconvert_exporter": "python",
   "pygments_lexer": "ipython3",
   "version": "3.6.4"
  }
 },
 "nbformat": 4,
 "nbformat_minor": 2
}
