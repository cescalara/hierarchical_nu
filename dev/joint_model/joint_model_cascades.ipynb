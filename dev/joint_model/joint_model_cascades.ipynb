{
 "cells": [
  {
   "cell_type": "markdown",
   "metadata": {},
   "source": [
    "# Joint model for cascades"
   ]
  },
  {
   "cell_type": "code",
   "execution_count": 1,
   "metadata": {
    "ExecuteTime": {
     "end_time": "2019-02-24T15:35:03.321490Z",
     "start_time": "2019-02-24T15:35:01.677541Z"
    }
   },
   "outputs": [
    {
     "name": "stderr",
     "output_type": "stream",
     "text": [
      "/Users/fran/projects/bayes/lib/python3.6/site-packages/h5py/__init__.py:36: FutureWarning: Conversion of the second argument of issubdtype from `float` to `np.floating` is deprecated. In future, it will be treated as `np.float64 == np.dtype(float).type`.\n",
      "  from ._conv import register_converters as _register_converters\n"
     ]
    }
   ],
   "source": [
    "import numpy as np\n",
    "import h5py\n",
    "from matplotlib import pyplot as plt\n",
    "import stan_utility\n",
    "import corner\n",
    "from joint_model_cascades import * "
   ]
  },
  {
   "cell_type": "code",
   "execution_count": 39,
   "metadata": {
    "ExecuteTime": {
     "end_time": "2019-02-24T15:44:22.013466Z",
     "start_time": "2019-02-24T15:44:22.009083Z"
    }
   },
   "outputs": [],
   "source": [
    "plt.style.use(['minimalist', 'blues'])\n",
    "random_seed = 19920715"
   ]
  },
  {
   "cell_type": "markdown",
   "metadata": {},
   "source": [
    "## Forward model\n",
    "\n",
    "Given a set of $K$ sources with known redshifts $z_k$, positions $\\varpi_k$ and uniform luminosities $L$, simulate a neutrino data set. \n",
    "\n",
    "The neutrinos are produced at the source with spectrum ${\\rm{d}}N/{\\rm{d}}\\tilde{E} \\propto \\tilde{E}^{-\\alpha}$, they lose energy according to adiabatic expansion such that $\\tilde{E} = (1+z)E$ and are detected with a simple uncertainty $\\sigma_E$."
   ]
  },
  {
   "cell_type": "code",
   "execution_count": 40,
   "metadata": {
    "ExecuteTime": {
     "end_time": "2019-02-24T15:44:22.900873Z",
     "start_time": "2019-02-24T15:44:22.887861Z"
    }
   },
   "outputs": [],
   "source": [
    "# Use a set of sources uniform in comoving volume for a lambda-CDM universe.\n",
    "with h5py.File('data/test_SFR_pop.h5', 'r') as f:\n",
    "    Ns = f['output/Ns'].value\n",
    "    redshift = f['output/redshift'].value\n",
    "    position = f['output/position'].value\n",
    "    \n",
    "# Select sources within redshift zth to mimic catalogue\n",
    "zth = 1\n",
    "selection = np.where(redshift < zth)[0]\n",
    "\n",
    "# Or randomly select\n",
    "#np.random.seed(1)\n",
    "#selection = np.random.choice(Ns, 10)"
   ]
  },
  {
   "cell_type": "code",
   "execution_count": 41,
   "metadata": {
    "ExecuteTime": {
     "end_time": "2019-02-24T15:44:23.153856Z",
     "start_time": "2019-02-24T15:44:23.139335Z"
    }
   },
   "outputs": [],
   "source": [
    "Ns = len(selection)\n",
    "redshift = np.array([redshift[_] for _ in selection])\n",
    "position = np.array([position[_] for _ in selection])\n",
    "\n",
    "# Try ordering sources by redshift, as larger z => lower F\n",
    "# This could help eliminate degeneracies in the mixture\n",
    "inds = redshift.argsort()[::-1]\n",
    "redshift = redshift[inds]\n",
    "position = position[inds]\n",
    "unit_vector = [p / np.linalg.norm(p) for p in position]\n",
    "\n",
    "# Add background redshift\n",
    "redshift = list(redshift) + [zth]"
   ]
  },
  {
   "cell_type": "code",
   "execution_count": 42,
   "metadata": {
    "ExecuteTime": {
     "end_time": "2019-02-24T15:44:23.613584Z",
     "start_time": "2019-02-24T15:44:23.547701Z"
    }
   },
   "outputs": [],
   "source": [
    "# Use simple Aeff calculated in `arrival_direction_model/testing_simple_model.ipynb`.\n",
    "# Just for testing, to be replaced with a better solution...\n",
    "filename = 'data/IC79-2010-TabulatedAeff.txt'\n",
    "effective_area = IceCubeAeff(filename, selected_E = 1E5) # GeV\n",
    "\n",
    "# Exposure factor for sources in catalog\n",
    "T = 1 # yr\n",
    "eps = [] # m^2 yr\n",
    "\n",
    "# Sources\n",
    "for uv in unit_vector:\n",
    "    zenith_angle = np.pi - np.arccos(uv[2])\n",
    "    mk = effective_area.m(zenith_angle)\n",
    "    eps.append(effective_area._Aeff_max * T * mk)   \n",
    "\n",
    "# Isotropic background\n",
    "eps.append(effective_area._Aeff_max * T * (effective_area.M / (4*np.pi)))\n",
    "    \n",
    "# Interpolation grid\n",
    "zenith_grid = np.linspace(0, np.pi)\n",
    "m_grid = [effective_area.m(z) for z in zenith_grid]"
   ]
  },
  {
   "cell_type": "code",
   "execution_count": 43,
   "metadata": {
    "ExecuteTime": {
     "end_time": "2019-02-24T15:44:23.941256Z",
     "start_time": "2019-02-24T15:44:23.928797Z"
    }
   },
   "outputs": [
    {
     "name": "stdout",
     "output_type": "stream",
     "text": [
      "Using cached StanModel\n"
     ]
    }
   ],
   "source": [
    "# Compile Stan model\n",
    "sim = stan_utility.compile_model(filename = 'stan/joint_cascade_sim.stan', \n",
    "                                 model_name = 'nu_sim', include_paths = 'stan/')"
   ]
  },
  {
   "cell_type": "code",
   "execution_count": 44,
   "metadata": {
    "ExecuteTime": {
     "end_time": "2019-02-24T15:44:24.324823Z",
     "start_time": "2019-02-24T15:44:24.284981Z"
    }
   },
   "outputs": [],
   "source": [
    "# Prepare simulation inputs\n",
    "sim_input = {}\n",
    "\n",
    "# Sources\n",
    "sim_input['Ns'] = Ns\n",
    "sim_input['z'] = redshift\n",
    "dl = [luminosity_distance(z) for z in redshift[:-1]] # Mpc\n",
    "sim_input['D'] = dl # Mpc\n",
    "sim_input['varpi'] = unit_vector\n",
    "\n",
    "# Energies\n",
    "sim_input['alpha'] = 2.0\n",
    "sim_input['Emin'] = 1 # units?\n",
    "sim_input['f_E'] = 0.2\n",
    "\n",
    "# Deflection\n",
    "sim_input['kappa'] = 100 # ~10 deg for cascades\n",
    "\n",
    "# Associated fraction \n",
    "total_flux = 6 # m^-2 yr^-1\n",
    "f = 0.5\n",
    "\n",
    "Q = ( (f*total_flux) / (sum([1 / (4*np.pi * (d*Mpc_to_m)**2) for d in dl])) ) # yr^-1\n",
    "F0 = (1 - f) * total_flux # m^-2 yr^-1\n",
    "\n",
    "sim_input['Q'] = Q # yr^-1\n",
    "sim_input['F0'] = F0 # m^-2 yr^-1\n",
    "\n",
    "# Exposure\n",
    "sim_input['eps'] = eps\n",
    "sim_input['Ngrid'] = len(zenith_grid)\n",
    "sim_input['zenith_grid'] = zenith_grid\n",
    "sim_input['m_grid'] = m_grid"
   ]
  },
  {
   "cell_type": "code",
   "execution_count": 45,
   "metadata": {
    "ExecuteTime": {
     "end_time": "2019-02-24T15:44:24.668408Z",
     "start_time": "2019-02-24T15:44:24.483390Z"
    }
   },
   "outputs": [],
   "source": [
    "# Simulate\n",
    "simulation = sim.sampling(data = sim_input, iter =1, chains = 1, \n",
    "                          algorithm = \"Fixed_param\", seed = random_seed)"
   ]
  },
  {
   "cell_type": "code",
   "execution_count": 46,
   "metadata": {
    "ExecuteTime": {
     "end_time": "2019-02-24T15:44:24.773214Z",
     "start_time": "2019-02-24T15:44:24.670528Z"
    }
   },
   "outputs": [],
   "source": [
    "# Extract output\n",
    "from fancy.interfaces.stan import Direction\n",
    "from fancy.plotting import AllSkyMap\n",
    "\n",
    "# Arrival directions\n",
    "event = simulation.extract(['event'])['event'][0]\n",
    "event = Direction(event)\n",
    "e_ra = event.d.icrs.ra.rad\n",
    "e_dec = event.d.icrs.dec.rad\n",
    "\n",
    "source = Direction(unit_vector)\n",
    "s_ra = source.d.icrs.ra.rad\n",
    "s_dec = source.d.icrs.dec.rad\n",
    "\n",
    "# Energies\n",
    "Esrc = simulation.extract(['Esrc'])['Esrc'][0]\n",
    "E = simulation.extract(['E'])['E'][0]\n",
    "Edet = simulation.extract(['Edet'])['Edet'][0]"
   ]
  },
  {
   "cell_type": "code",
   "execution_count": 47,
   "metadata": {
    "ExecuteTime": {
     "end_time": "2019-02-24T15:44:25.040055Z",
     "start_time": "2019-02-24T15:44:25.023813Z"
    }
   },
   "outputs": [
    {
     "name": "stdout",
     "output_type": "stream",
     "text": [
      "Nsrc:  49\n",
      "Nbg:  52\n"
     ]
    }
   ],
   "source": [
    "# Labels\n",
    "lam = simulation.extract(['lambda'])['lambda'][0] - 1\n",
    "Nc = Ns\n",
    "label_cmap = plt.cm.get_cmap('plasma', Nc+1)\n",
    "\n",
    "lam = list(lam)\n",
    "Nsrc = sum([lam.count(_) for _ in range(int(Nc))])\n",
    "Nbg = lam.count(Nc)\n",
    "print('Nsrc: ', Nsrc)\n",
    "print('Nbg: ', Nbg)"
   ]
  },
  {
   "cell_type": "code",
   "execution_count": 48,
   "metadata": {
    "ExecuteTime": {
     "end_time": "2019-02-24T15:44:26.007938Z",
     "start_time": "2019-02-24T15:44:25.452219Z"
    }
   },
   "outputs": [
    {
     "name": "stdout",
     "output_type": "stream",
     "text": [
      "WARNING: x coordinate not montonically increasing - contour plot\n",
      "may not be what you expect.  If it looks odd, your can either\n",
      "adjust the map projection region to be consistent with your data, or\n",
      "(if your data is on a global lat/lon grid) use the shiftgrid\n",
      "function to adjust the data to be consistent with the map projection\n",
      "region (see examples/contour_demo.py)."
     ]
    },
    {
     "data": {
      "image/png": "[encoded data removed]",
      "text/plain": [
       "<Figure size 720x576 with 1 Axes>"
      ]
     },
     "metadata": {},
     "output_type": "display_data"
    }
   ],
   "source": [
    "from matplotlib.colors import LinearSegmentedColormap\n",
    "# Plot arrival directions\n",
    "ras = np.linspace(-180, 180)\n",
    "decs = np.linspace(-90, 90)\n",
    "Aeff = [effective_area.m(np.pi/2 + np.deg2rad(d)) for d in decs]\n",
    "Aeff = [Aeff for ra in ras]\n",
    "dec, ra = np.meshgrid(decs, ras)\n",
    "exp_cmap = LinearSegmentedColormap.from_list('custom',['#FFFFFF','#BEC1C2'],N=5)\n",
    "fig, ax = plt.subplots()\n",
    "fig.set_size_inches((10, 8))\n",
    "skymap = AllSkyMap(projection = 'hammer', lon_0 = 0, lat_0 = 0);\n",
    "skymap.contourf(ra, dec, Aeff, latlon = True, cmap = exp_cmap)\n",
    "for r, d, l in zip(e_ra, e_dec, lam):\n",
    "    color = label_cmap.colors[int(l)]\n",
    "    skymap.tissot(np.rad2deg(r), np.rad2deg(d), 2, 30, color = color, alpha = 0.7)\n",
    "norm = max([1 - _/zth for _ in redshift])\n",
    "for r, d, z in zip(s_ra, s_dec, redshift):\n",
    "    skymap.tissot(np.rad2deg(r), np.rad2deg(d), 2, 30, color = 'black', \n",
    "                  alpha = (1 - z/zth)/norm)"
   ]
  },
  {
   "cell_type": "code",
   "execution_count": 49,
   "metadata": {
    "ExecuteTime": {
     "end_time": "2019-02-24T15:44:27.226707Z",
     "start_time": "2019-02-24T15:44:26.497066Z"
    }
   },
   "outputs": [
    {
     "data": {
      "image/png": "[encoded data removed]",
      "text/plain": [
       "<Figure size 504x360 with 1 Axes>"
      ]
     },
     "metadata": {},
     "output_type": "display_data"
    }
   ],
   "source": [
    "# Plot energies\n",
    "Emin = sim_input['Emin']\n",
    "bins = np.logspace(np.log(Emin), np.log(1E+2 * Emin), base = np.e)\n",
    "\n",
    "fig, ax = plt.subplots()\n",
    "ax.hist(Esrc, bins = bins, label = '$\\\\tilde{E}$', alpha = 0.7);\n",
    "ax.hist(E, bins = bins, label = '$E$', alpha = 0.7);\n",
    "ax.hist(Edet, bins = bins, label = '$\\hat{E}$', alpha = 0.7);\n",
    "ax.set_xscale('log')\n",
    "ax.set_yscale('log')\n",
    "ax.set_xlabel('$E$ / TeV')\n",
    "ax.legend();"
   ]
  },
  {
   "cell_type": "markdown",
   "metadata": {},
   "source": [
    "## Stan fit"
   ]
  },
  {
   "cell_type": "code",
   "execution_count": 50,
   "metadata": {
    "ExecuteTime": {
     "end_time": "2019-02-24T15:44:31.282305Z",
     "start_time": "2019-02-24T15:44:31.261190Z"
    }
   },
   "outputs": [
    {
     "name": "stdout",
     "output_type": "stream",
     "text": [
      "Using cached StanModel\n"
     ]
    }
   ],
   "source": [
    "# Compile the model\n",
    "model = stan_utility.compile_model(filename = 'stan/joint_cascade_model.stan', \n",
    "                                   model_name = 'neutrino_model', \n",
    "                                   include_paths = 'stan/')"
   ]
  },
  {
   "cell_type": "code",
   "execution_count": 51,
   "metadata": {
    "ExecuteTime": {
     "end_time": "2019-02-24T15:44:32.142483Z",
     "start_time": "2019-02-24T15:44:32.128819Z"
    }
   },
   "outputs": [],
   "source": [
    "# Prepare fit inputs\n",
    "fit_input = {}\n",
    "fit_input['N'] = len(event.unit_vector)\n",
    "fit_input['omega_det'] = event.unit_vector\n",
    "fit_input['Emin'] = sim_input['Emin']\n",
    "fit_input['f_E'] = sim_input['f_E']\n",
    "fit_input['Edet'] = Edet\n",
    "fit_input['Ns'] = len(source.unit_vector)\n",
    "fit_input['varpi'] = source.unit_vector\n",
    "fit_input['D'] = sim_input['D']\n",
    "fit_input['z'] = sim_input['z']\n",
    "fit_input['eps'] = sim_input['eps']\n",
    "fit_input['A_IC'] = effective_area._Aeff_max\n",
    "fit_input['kappa'] = sim_input['kappa']"
   ]
  },
  {
   "cell_type": "code",
   "execution_count": 52,
   "metadata": {
    "ExecuteTime": {
     "end_time": "2019-02-24T15:46:14.600854Z",
     "start_time": "2019-02-24T15:44:32.729376Z"
    }
   },
   "outputs": [],
   "source": [
    "fit = model.sampling(data = fit_input, iter = 1000, chains = 4, seed = random_seed)"
   ]
  },
  {
   "cell_type": "code",
   "execution_count": null,
   "metadata": {
    "ExecuteTime": {
     "end_time": "2019-02-24T14:15:50.784740Z",
     "start_time": "2019-02-24T14:15:46.913407Z"
    }
   },
   "outputs": [],
   "source": [
    "fig = fit.plot(['Q', 'F0', 'alpha', 'F', 'Esrc']);\n",
    "fig.set_size_inches(20, 16)\n",
    "fig.tight_layout()"
   ]
  },
  {
   "cell_type": "code",
   "execution_count": null,
   "metadata": {
    "ExecuteTime": {
     "end_time": "2019-02-24T14:15:52.624659Z",
     "start_time": "2019-02-24T14:15:50.786423Z"
    }
   },
   "outputs": [],
   "source": [
    "chain = fit.extract(permuted = True)\n",
    "key_list = ['F0', 'Q', 'f', 'alpha']\n",
    "labels = [r'$F_0$', r'Q', 'f', r'$\\alpha$']\n",
    "truths = [F0 , Q, f, sim_input['alpha']]\n",
    "\n",
    "corner.corner(np.nan_to_num(np.column_stack([chain[key] for key in key_list])),\n",
    "              labels = labels, \n",
    "              truths = truths);"
   ]
  },
  {
   "cell_type": "markdown",
   "metadata": {},
   "source": [
    "## Association probabilities"
   ]
  },
  {
   "cell_type": "code",
   "execution_count": null,
   "metadata": {
    "ExecuteTime": {
     "end_time": "2019-02-24T14:15:52.632594Z",
     "start_time": "2019-02-24T14:15:52.626526Z"
    }
   },
   "outputs": [],
   "source": [
    "logprob = chain['lp'].transpose(1, 2, 0)\n",
    "N = np.shape(logprob)[0]\n",
    "\n",
    "# Account for background component\n",
    "Ns = np.shape(logprob)[1] - 1"
   ]
  },
  {
   "cell_type": "code",
   "execution_count": null,
   "metadata": {
    "ExecuteTime": {
     "end_time": "2019-02-24T14:15:55.529370Z",
     "start_time": "2019-02-24T14:15:54.963287Z"
    }
   },
   "outputs": [],
   "source": [
    "# Calculate association probabilities for each source-UHECR combo\n",
    "nu_p = []\n",
    "for lp in logprob:\n",
    "    lps = []\n",
    "    for src in range(Ns+1):\n",
    "        lps.append(np.mean(np.exp(lp[src])))\n",
    "\n",
    "    norm = sum(lps)\n",
    "    ps = []\n",
    "    for src in range(Ns+1):\n",
    "        ps.append(lps[src] / norm)\n",
    "    nu_p.append(ps)\n",
    "\n",
    "# Normalise line weights\n",
    "pmax = max(max(nu_p))"
   ]
  },
  {
   "cell_type": "code",
   "execution_count": null,
   "metadata": {
    "ExecuteTime": {
     "end_time": "2019-02-24T14:15:56.301629Z",
     "start_time": "2019-02-24T14:15:55.531760Z"
    }
   },
   "outputs": [],
   "source": [
    "# Figure\n",
    "fig, ax = plt.subplots()\n",
    "fig.set_size_inches((12, 6))\n",
    "skymap = AllSkyMap(projection = 'hammer', lon_0 = 0, lat_0 = 0);\n",
    "\n",
    "# Sources\n",
    "for r, d in zip(s_ra, s_dec):\n",
    "    skymap.tissot(np.rad2deg(r), np.rad2deg(d), 2, 30, color = 'black')\n",
    "    \n",
    "# Neutrinos\n",
    "for r, d, l in zip(e_ra, e_dec, lam):\n",
    "    color = label_cmap.colors[int(l)]\n",
    "    skymap.tissot(np.rad2deg(r), np.rad2deg(d), 2, 30, color = color, alpha = 0.7)\n",
    "    \n",
    "# Association\n",
    "for i, p in enumerate(nu_p):\n",
    "    for j, psrc in enumerate(p[0:Ns]):\n",
    "        if psrc > 0.001:\n",
    "            skymap.geodesic(np.rad2deg(e_ra[i]), np.rad2deg(e_dec[i]), \n",
    "                            np.rad2deg(s_ra[j]), np.rad2deg(s_dec[j]), \n",
    "                            color = 'black', lw = 3, alpha = psrc/pmax, zorder = 10)"
   ]
  },
  {
   "cell_type": "code",
   "execution_count": null,
   "metadata": {},
   "outputs": [],
   "source": []
  }
 ],
 "metadata": {
  "kernelspec": {
   "display_name": "Python (bayes)",
   "language": "python",
   "name": "bayes"
  },
  "language_info": {
   "codemirror_mode": {
    "name": "ipython",
    "version": 3
   },
   "file_extension": ".py",
   "mimetype": "text/x-python",
   "name": "python",
   "nbconvert_exporter": "python",
   "pygments_lexer": "ipython3",
   "version": "3.6.4"
  }
 },
 "nbformat": 4,
 "nbformat_minor": 2
}
