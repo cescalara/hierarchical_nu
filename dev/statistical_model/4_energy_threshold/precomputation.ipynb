{
 "cells": [
  {
   "cell_type": "markdown",
   "metadata": {},
   "source": [
    "# Precomputation of exposure integral\n",
    "\n",
    "Now that we implement the effective area as a function of energy and zenith angle, can keep the fit fast by precomputing the exposure factor for each source. This is possible if assuming *known* source positions and redshifts.\n",
    "\n",
    "For now, we assume that the background has some fixed redshift. This is necessary in order to compute the energy losses in the simulation. This is something that will probably be changed in the next step as we include selection effects and try to do something more realistic. "
   ]
  },
  {
   "cell_type": "markdown",
   "metadata": {},
   "source": [
    "## What is the exposure integral?\n",
    "\n",
    "As part of the simulation and fit, we want to compute the expected number of detected neutrinos from each source component. This can be written as $\\bar{N}_k = F_k \\epsilon_k$ where $F_k = \\frac{Q}{4 \\pi d_l(z_k)^2}$ and the exposure factor is \n",
    "$$\n",
    "\\epsilon_k = T \\frac{(\\alpha-1)}{E_{\\rm{min}}} \\int_{E_{\\rm{min}}}^\\infty {\\rm{d}}E \\ A_{\\rm{eff}}(E, \\varpi_k) \n",
    "\\Bigg( \\frac{(1+z_k)E}{E_{\\rm{min}}} \\Bigg)^{-\\alpha} = T \\frac{(\\alpha-1)}{E_{\\rm{min}}} I_k, \n",
    "$$\n",
    "where $k$ is the index for each source (see likelihood derivation for details).\n",
    "\n",
    "Here we will compute $I_k$ for a range of $\\alpha$ so that we can perform fast linear interpolation in the fit for unknown $\\alpha$.\n",
    "\n",
    "### Background case\n",
    "\n",
    "For the background component, we integrate over the full sky instead of a delta function.\n",
    "\n",
    "$$\n",
    "\\epsilon_{\\rm{bg}} = T \\frac{(\\alpha-1)}{E_{\\rm{min}}} \\frac{2 \\pi}{4 \\pi} \\int_{-1}^{1} d(\\cos{z}) \\ \\int_{E_{\\rm{min}}}^\\infty {\\rm{d}}E \\ A_{\\rm{eff}}(E, \\cos{z}) \n",
    "\\Bigg( \\frac{(1+z_{\\rm{bg}})E}{E_{\\rm{min}}} \\Bigg)^{-\\alpha} = T \\frac{(\\alpha-1)}{E_{\\rm{min}}} I_{\\rm{bg}}, \n",
    "$$\n",
    "\n",
    "where the $2 \\pi$ is from integration over $\\phi$ in sperical coordinates and $4 \\pi$ is from  the vMF distribution in the isotropic case.\n",
    "\n",
    "### Including threshold effects\n",
    "\n",
    "We should add a factor of $P(\\hat{E} > E_{\\rm{th}} | E)$ into the integrands above, and reduce the lower bound of the integral over $E$ accordingly. To simplify, can assume the effective area is 0 below $10^3$ GeV.\n"
   ]
  },
  {
   "cell_type": "code",
   "execution_count": null,
   "metadata": {
    "ExecuteTime": {
     "end_time": "2019-05-12T12:29:34.607092Z",
     "start_time": "2019-05-12T12:29:33.998773Z"
    }
   },
   "outputs": [],
   "source": [
    "import numpy as np\n",
    "import h5py\n",
    "from scipy.interpolate import RectBivariateSpline\n",
    "\n",
    "from matplotlib import pyplot as plt\n",
    "from mpl_toolkits.mplot3d import Axes3D"
   ]
  },
  {
   "cell_type": "markdown",
   "metadata": {},
   "source": [
    "### Effective area\n",
    "\n",
    "Use the module provided by Martin & Hans to produce a spline with scipy (same code, just a few edits to run in python 3)."
   ]
  },
  {
   "cell_type": "code",
   "execution_count": null,
   "metadata": {
    "ExecuteTime": {
     "end_time": "2019-05-12T12:29:35.344289Z",
     "start_time": "2019-05-12T12:29:34.609447Z"
    }
   },
   "outputs": [],
   "source": [
    "from aeff_calculator.aeff_calculator import effective_area\n",
    "\n",
    "aeff = effective_area(\"nue_CC\")"
   ]
  },
  {
   "cell_type": "markdown",
   "metadata": {
    "ExecuteTime": {
     "end_time": "2019-04-26T14:49:58.136132Z",
     "start_time": "2019-04-26T14:49:56.750460Z"
    }
   },
   "source": [
    "### Sources\n",
    "\n",
    "Use a set of sources sampled as having redshift uniform in comoving volume for a $\\Lambda CDM$ universe."
   ]
  },
  {
   "cell_type": "code",
   "execution_count": null,
   "metadata": {
    "ExecuteTime": {
     "end_time": "2019-05-12T12:29:35.364423Z",
     "start_time": "2019-05-12T12:29:35.346445Z"
    }
   },
   "outputs": [],
   "source": [
    "with h5py.File('../data/test_SFR_pop.h5', 'r') as f:\n",
    "    Ns = f['output/Ns'].value\n",
    "    redshift = f['output/redshift'].value\n",
    "    position = f['output/position'].value\n",
    "    \n",
    "# Select sources within redshift zth to mimic catalogue\n",
    "zth = 1\n",
    "selection = np.where(redshift < zth)[0]\n",
    "Ns = len(selection)\n",
    "redshift = np.array([redshift[_] for _ in selection])\n",
    "position = np.array([position[_] for _ in selection])\n",
    "\n",
    "# Add background redshift\n",
    "source_redshift = list(redshift) \n",
    "bg_redshift = zth"
   ]
  },
  {
   "cell_type": "markdown",
   "metadata": {
    "ExecuteTime": {
     "end_time": "2019-04-26T14:55:15.852904Z",
     "start_time": "2019-04-26T14:55:15.849144Z"
    }
   },
   "source": [
    "### Computation"
   ]
  },
  {
   "cell_type": "code",
   "execution_count": null,
   "metadata": {
    "ExecuteTime": {
     "end_time": "2019-05-12T12:29:36.563463Z",
     "start_time": "2019-05-12T12:29:36.413495Z"
    }
   },
   "outputs": [],
   "source": [
    "from exposure_integral import ExposureIntegral"
   ]
  },
  {
   "cell_type": "code",
   "execution_count": null,
   "metadata": {
    "ExecuteTime": {
     "end_time": "2019-05-12T12:40:11.363167Z",
     "start_time": "2019-05-12T12:30:44.036870Z"
    }
   },
   "outputs": [],
   "source": [
    "# Define minimum energy\n",
    "Emin = 1.0E3 # GeV\n",
    "filename = 'data/precomputed_integral_1e3_100_nouncert_testEth.h5'\n",
    "\n",
    "exposure_integral = ExposureIntegral(source_redshift, position, bg_redshift, \n",
    "                                     aeff, Emin,\n",
    "                                     filename=filename,\n",
    "                                     n_points=100)#, f_E=0.5)"
   ]
  },
  {
   "cell_type": "code",
   "execution_count": null,
   "metadata": {
    "ExecuteTime": {
     "end_time": "2019-05-12T12:55:05.377616Z",
     "start_time": "2019-05-12T12:55:05.033609Z"
    }
   },
   "outputs": [],
   "source": [
    "fig, ax = plt.subplots()\n",
    "for I_k in exposure_integral.integral_grid[:-1]:\n",
    "    ax.scatter(exposure_integral.alpha_grid, I_k)\n",
    "ax.scatter(exposure_integral.alpha_grid, exposure_integral.integral_grid[-1], \n",
    "           color='k')"
   ]
  },
  {
   "cell_type": "markdown",
   "metadata": {},
   "source": [
    "## Testing "
   ]
  },
  {
   "cell_type": "code",
   "execution_count": null,
   "metadata": {
    "ExecuteTime": {
     "end_time": "2019-05-10T18:25:31.065240Z",
     "start_time": "2019-05-10T18:25:31.062295Z"
    }
   },
   "outputs": [],
   "source": [
    "from scipy import integrate\n",
    "from scipy.stats import lognorm"
   ]
  },
  {
   "cell_type": "code",
   "execution_count": null,
   "metadata": {
    "ExecuteTime": {
     "end_time": "2019-05-10T18:30:27.566421Z",
     "start_time": "2019-05-10T18:30:27.535569Z"
    }
   },
   "outputs": [],
   "source": [
    "AEFF_EMIN = 1e3\n",
    "AEFF_EMAX = 1e7\n",
    "\n",
    "def _source_integrand_th(E, position, z, alpha, Emin, f_E):\n",
    "    \"\"\"\n",
    "    Integrand for point sources, including energy threshold\n",
    "    effects.\n",
    "    \"\"\"\n",
    "\n",
    "    log10E = np.log10(E)\n",
    "    cosz = unit_vector_to_cosz(position)\n",
    "    Aeff = np.power(10, aeff.eval(log10E, cosz)[0][0]) # m^2\n",
    "    p_gt_th = 1-lognorm.cdf(Emin, f_E, 0, E)\n",
    "\n",
    "    return  p_gt_th * Aeff * ( ((1+z)*E) / Emin )**(-alpha)\n",
    "\n",
    "def _bg_integrand_th(E, cosz, z, alpha, Emin, f_E):\n",
    "    \"\"\"\n",
    "    Integrand for isotropic background at a certain redshift,\n",
    "    including energy threshold effects.\n",
    "    \"\"\"\n",
    "\n",
    "    log10E = np.log10(E) # GeV\n",
    "    Aeff = np.power(10, aeff.eval(log10E, cosz)[0][0])\n",
    "    p_gt_th = 1-lognorm.cdf(Emin, f_E, 0, E)\n",
    "\n",
    "    return p_gt_th * Aeff * ( ((1+z)*E) / Emin )**(-alpha)\n",
    "\n",
    "def unit_vector_to_cosz(unit_vector):\n",
    "    \"\"\"\n",
    "    Convert 3D unit vector to cos(zenith) value.\n",
    "    \"\"\"\n",
    "    return np.cos(np.pi - np.arccos(unit_vector[2]))"
   ]
  },
  {
   "cell_type": "code",
   "execution_count": null,
   "metadata": {
    "ExecuteTime": {
     "end_time": "2019-05-10T18:33:56.319530Z",
     "start_time": "2019-05-10T18:33:06.225574Z"
    }
   },
   "outputs": [],
   "source": [
    "z = bg_redshift\n",
    "p = position[0]\n",
    "alpha = 2.0\n",
    "Emin = 1e4\n",
    "f_E = 0.5\n",
    "\n",
    "I = []\n",
    "integ, err = integrate.dblquad(_bg_integrand_th, -1, 1,\n",
    "                               lambda E: AEFF_EMIN, lambda E: AEFF_EMAX,\n",
    "                               args=(z, alpha, Emin, f_E))\n",
    "#for alpha in np.linspace(1, 4):\n",
    "    #integ, err = integrate.quad(_source_integrand_th, AEFF_EMIN, AEFF_EMAX,\n",
    "    #                            args=(p, z, alpha, Emin, f_E))\n",
    "\n",
    "    #I.append(integ)"
   ]
  },
  {
   "cell_type": "code",
   "execution_count": null,
   "metadata": {
    "ExecuteTime": {
     "end_time": "2019-05-10T18:34:50.152513Z",
     "start_time": "2019-05-10T18:34:50.149461Z"
    }
   },
   "outputs": [],
   "source": [
    "print(integ*0.5)"
   ]
  },
  {
   "cell_type": "code",
   "execution_count": null,
   "metadata": {
    "ExecuteTime": {
     "end_time": "2019-05-10T18:35:01.781101Z",
     "start_time": "2019-05-10T18:35:01.630657Z"
    }
   },
   "outputs": [],
   "source": [
    "fig, ax = plt.subplots()\n",
    "#ax.plot(np.linspace(1, 4), I)\n",
    "ax.plot(exposure_integral.alpha_grid, exposure_integral.integral_grid[-1])\n",
    "ax.axvline(2)\n",
    "ax.axhline(3531)\n",
    "ax.set_ylim(0, 1e4)"
   ]
  },
  {
   "cell_type": "code",
   "execution_count": null,
   "metadata": {},
   "outputs": [],
   "source": []
  }
 ],
 "metadata": {
  "kernelspec": {
   "display_name": "Python (bayes)",
   "language": "python",
   "name": "bayes"
  },
  "language_info": {
   "codemirror_mode": {
    "name": "ipython",
    "version": 3
   },
   "file_extension": ".py",
   "mimetype": "text/x-python",
   "name": "python",
   "nbconvert_exporter": "python",
   "pygments_lexer": "ipython3",
   "version": "3.6.4"
  }
 },
 "nbformat": 4,
 "nbformat_minor": 2
}
