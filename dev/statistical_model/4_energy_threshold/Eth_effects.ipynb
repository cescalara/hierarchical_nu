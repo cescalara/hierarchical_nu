{
 "cells": [
  {
   "cell_type": "markdown",
   "metadata": {},
   "source": [
    "# Investigating the effects of energy threshold and uncertainties"
   ]
  },
  {
   "cell_type": "code",
   "execution_count": 1,
   "metadata": {
    "ExecuteTime": {
     "end_time": "2019-05-10T18:10:45.146155Z",
     "start_time": "2019-05-10T18:10:43.649829Z"
    }
   },
   "outputs": [
    {
     "name": "stderr",
     "output_type": "stream",
     "text": [
      "/Users/fran/projects/bayes/lib/python3.6/site-packages/h5py/__init__.py:36: FutureWarning: Conversion of the second argument of issubdtype from `float` to `np.floating` is deprecated. In future, it will be treated as `np.float64 == np.dtype(float).type`.\n",
      "  from ._conv import register_converters as _register_converters\n"
     ]
    }
   ],
   "source": [
    "import numpy as np\n",
    "import stan_utility\n",
    "import h5py\n",
    "from matplotlib import pyplot as plt\n",
    "\n",
    "from aeff_calculator.aeff_calculator import effective_area\n",
    "from joint_model_cascades import luminosity_distance, Mpc_to_m"
   ]
  },
  {
   "cell_type": "code",
   "execution_count": 2,
   "metadata": {
    "ExecuteTime": {
     "end_time": "2019-05-10T18:10:45.151308Z",
     "start_time": "2019-05-10T18:10:45.148594Z"
    }
   },
   "outputs": [],
   "source": [
    "random_seed = 19920715"
   ]
  },
  {
   "cell_type": "markdown",
   "metadata": {},
   "source": [
    "## Simplified toy model\n",
    "Try to treat Aeff and P(Edet|E) as simple functions to understand and tackle full problem."
   ]
  },
  {
   "cell_type": "code",
   "execution_count": 3,
   "metadata": {
    "ExecuteTime": {
     "end_time": "2019-05-10T18:10:45.181791Z",
     "start_time": "2019-05-10T18:10:45.153775Z"
    }
   },
   "outputs": [],
   "source": [
    "# Functions\n",
    "AEFF_EMAX = 1e5\n",
    "AEFF_EMIN = 2e3\n",
    "\n",
    "def dNdE(E, alpha):\n",
    "    return E**(-alpha)\n",
    "\n",
    "def spectrum_rng(Emin, alpha):\n",
    "    upper_lim = dNdE(Emin, alpha)\n",
    "    lower_lim = dNdE(Emin*1e4, alpha)\n",
    "    accepted = False\n",
    "    while not accepted:\n",
    "        E = np.random.uniform(Emin, Emin*1e4)\n",
    "        p = np.random.uniform(lower_lim, upper_lim)\n",
    "        if (p < dNdE(E, alpha)):\n",
    "            accepted = True           \n",
    "    return E\n",
    "\n",
    "def effective_area(E):\n",
    "    if E < AEFF_EMIN or E > AEFF_EMAX:\n",
    "        return 0\n",
    "    else:\n",
    "        return 5*(E/AEFF_EMIN)**0.5 # m^2\n",
    "    \n",
    "def interaction_probability(E):\n",
    "    return effective_area(E)/effective_area(AEFF_EMAX)"
   ]
  },
  {
   "cell_type": "markdown",
   "metadata": {},
   "source": [
    "### Effective area "
   ]
  },
  {
   "cell_type": "code",
   "execution_count": 4,
   "metadata": {
    "ExecuteTime": {
     "end_time": "2019-05-10T18:10:46.668974Z",
     "start_time": "2019-05-10T18:10:46.129123Z"
    }
   },
   "outputs": [
    {
     "data": {
      "image/png": "[encoded data removed]",
      "text/plain": [
       "<Figure size 432x288 with 1 Axes>"
      ]
     },
     "metadata": {},
     "output_type": "display_data"
    }
   ],
   "source": [
    "Egrid = np.logspace(np.log(AEFF_EMIN/10), np.log(AEFF_EMAX*10), 100, base=np.e)\n",
    "fig, ax = plt.subplots()\n",
    "#ax.plot(Egrid, [effective_area(_) for _ in Egrid])\n",
    "ax.plot(Egrid, [interaction_probability(_) for _ in Egrid])\n",
    "ax.set_xscale('log')"
   ]
  },
  {
   "cell_type": "markdown",
   "metadata": {},
   "source": [
    "### Exposure integral"
   ]
  },
  {
   "cell_type": "code",
   "execution_count": 5,
   "metadata": {
    "ExecuteTime": {
     "end_time": "2019-05-10T18:10:47.620752Z",
     "start_time": "2019-05-10T18:10:47.617655Z"
    }
   },
   "outputs": [],
   "source": [
    "from scipy.stats import lognorm\n",
    "from scipy import integrate"
   ]
  },
  {
   "cell_type": "code",
   "execution_count": 6,
   "metadata": {
    "ExecuteTime": {
     "end_time": "2019-05-10T18:10:48.458850Z",
     "start_time": "2019-05-10T18:10:48.449983Z"
    }
   },
   "outputs": [],
   "source": [
    "# Functions\n",
    "def p_gt_Eth(E, Eth, f_E):\n",
    "    return 1 - lognorm.cdf(Eth, f_E, 0, E)\n",
    "\n",
    "def integrand(E, Eth, f_E, Emin, alpha):\n",
    "    return (  p_gt_Eth(E, Eth, f_E) * effective_area(E) * (E / Emin)**(-alpha)  )\n",
    "\n",
    "def old_integrand(E, Eth, f_E, Emin, alpha):\n",
    "    return ( effective_area(E) * (E / Emin)**(-alpha)  )"
   ]
  },
  {
   "cell_type": "markdown",
   "metadata": {},
   "source": [
    "### Input parameters"
   ]
  },
  {
   "cell_type": "code",
   "execution_count": 33,
   "metadata": {
    "ExecuteTime": {
     "end_time": "2019-05-10T18:15:03.684878Z",
     "start_time": "2019-05-10T18:15:03.679739Z"
    }
   },
   "outputs": [],
   "source": [
    "Emin = 1e3 # GeV\n",
    "Eth = 3e3 # GeV\n",
    "\n",
    "alpha = 2.0\n",
    "T = 1 # yr\n",
    "N = 1000\n",
    "F_N = (N / T) / effective_area(1e5) # m^-2 yr^-1\n",
    "f_E = 0.8"
   ]
  },
  {
   "cell_type": "code",
   "execution_count": 34,
   "metadata": {
    "ExecuteTime": {
     "end_time": "2019-05-10T18:15:04.727818Z",
     "start_time": "2019-05-10T18:15:03.870025Z"
    }
   },
   "outputs": [],
   "source": [
    "# Exposure integral calculation\n",
    "alpha_grid = np.linspace(1.5, 3.5)\n",
    "integral_grid = []\n",
    "for a in alpha_grid:\n",
    "    integ, err = integrate.quad(integrand, AEFF_EMIN, AEFF_EMAX, \n",
    "                                args=(Eth, f_E, Eth, a))\n",
    "    integral_grid.append(integ)"
   ]
  },
  {
   "cell_type": "markdown",
   "metadata": {},
   "source": [
    "### Simulation"
   ]
  },
  {
   "cell_type": "code",
   "execution_count": 35,
   "metadata": {
    "ExecuteTime": {
     "end_time": "2019-05-10T18:15:25.362297Z",
     "start_time": "2019-05-10T18:15:04.729835Z"
    }
   },
   "outputs": [],
   "source": [
    "# Source\n",
    "Esrc = np.array([spectrum_rng(Emin, alpha) for _ in range(N)])\n",
    "\n",
    "# Effective area \n",
    "int_prob = [interaction_probability(_) for _ in Esrc]\n",
    "interacted_in_detector = np.zeros(len(int_prob))\n",
    "for i, p in enumerate(int_prob):\n",
    "    interacted_in_detector[i] = np.random.choice([0, 1], p=[1-p, p])    \n",
    "E = Esrc[np.where(interacted_in_detector == 1.0)]\n",
    "\n",
    "# Detection effects\n",
    "Edet_s = np.array([np.random.lognormal(np.log(_), f_E) for _ in E])\n",
    "\n",
    "# Thresholding\n",
    "Edet = Edet_s[np.where(Edet_s >= Eth)]"
   ]
  },
  {
   "cell_type": "code",
   "execution_count": 36,
   "metadata": {
    "ExecuteTime": {
     "end_time": "2019-05-10T18:15:26.328784Z",
     "start_time": "2019-05-10T18:15:25.364535Z"
    }
   },
   "outputs": [
    {
     "name": "stdout",
     "output_type": "stream",
     "text": [
      "83 events above threshold\n"
     ]
    },
    {
     "data": {
      "image/png": "[encoded data removed]",
      "text/plain": [
       "<Figure size 432x288 with 1 Axes>"
      ]
     },
     "metadata": {},
     "output_type": "display_data"
    }
   ],
   "source": [
    "fig, ax = plt.subplots()\n",
    "bins = np.logspace(np.log(1e2), np.log(1e7), base=np.e)\n",
    "ax.hist(Esrc, bins=bins, alpha=0.7)\n",
    "ax.hist(E, bins=bins, alpha=0.7)\n",
    "ax.hist(Edet_s, bins=bins, alpha=0.7)\n",
    "ax.hist(Edet, bins=bins, alpha=0.7)\n",
    "ax.axvline(Eth, linestyle=':', color='k')\n",
    "ax.plot()\n",
    "ax.set_xscale('log')\n",
    "ax.set_yscale('log')\n",
    "print(len(Edet), 'events above threshold')"
   ]
  },
  {
   "cell_type": "markdown",
   "metadata": {},
   "source": [
    "### Fit"
   ]
  },
  {
   "cell_type": "code",
   "execution_count": 37,
   "metadata": {
    "ExecuteTime": {
     "end_time": "2019-05-10T18:15:35.614634Z",
     "start_time": "2019-05-10T18:15:35.602930Z"
    }
   },
   "outputs": [
    {
     "name": "stdout",
     "output_type": "stream",
     "text": [
      "Using cached StanModel\n"
     ]
    }
   ],
   "source": [
    "# Compile the model\n",
    "model = stan_utility.compile_model(filename = 'stan/test_Eth.stan', \n",
    "                                   model_name = 'test_Eth_model', \n",
    "                                   include_paths = 'stan/')"
   ]
  },
  {
   "cell_type": "code",
   "execution_count": 38,
   "metadata": {
    "ExecuteTime": {
     "end_time": "2019-05-10T18:15:35.770611Z",
     "start_time": "2019-05-10T18:15:35.761539Z"
    }
   },
   "outputs": [],
   "source": [
    "fit_input = {}\n",
    "fit_input['Nevents'] = len(Edet)\n",
    "fit_input['Edet'] = Edet \n",
    "\n",
    "#fit_input['Emin'] = Emin\n",
    "fit_input['Emin'] = Eth # use threshold -> approximate\n",
    "#fit_input['Emin'] = AEFF_EMIN # interp case\n",
    "\n",
    "fit_input['f_E'] = f_E\n",
    "fit_input['T'] = T # yr\n",
    "\n",
    "fit_input['Ngrid'] = len(alpha_grid)\n",
    "fit_input['alpha_grid'] = alpha_grid\n",
    "fit_input['integral_grid'] = integral_grid"
   ]
  },
  {
   "cell_type": "code",
   "execution_count": 39,
   "metadata": {
    "ExecuteTime": {
     "end_time": "2019-05-10T18:15:37.279321Z",
     "start_time": "2019-05-10T18:15:35.920719Z"
    }
   },
   "outputs": [],
   "source": [
    "fit = model.sampling(data = fit_input, iter = 1000, chains = 4, seed = random_seed)"
   ]
  },
  {
   "cell_type": "code",
   "execution_count": 40,
   "metadata": {
    "ExecuteTime": {
     "end_time": "2019-05-10T18:15:37.595216Z",
     "start_time": "2019-05-10T18:15:37.281807Z"
    }
   },
   "outputs": [
    {
     "data": {
      "image/png": "[encoded data removed]",
      "text/plain": [
       "<Figure size 396x396 with 4 Axes>"
      ]
     },
     "metadata": {},
     "output_type": "display_data"
    }
   ],
   "source": [
    "import corner\n",
    "efac = (fit_input['Emin']/Emin)**(1-alpha)\n",
    "chain = fit.extract(permuted = True)\n",
    "key_list = ['F_N', 'alpha']\n",
    "labels = [r'$F_N$', 'alpha']\n",
    "truths = [F_N * efac, alpha]\n",
    "#truths = [F_N, alpha]\n",
    "\n",
    "corner.corner(np.nan_to_num(np.column_stack([chain[key] for key in key_list])),\n",
    "              labels = labels, \n",
    "              truths = truths);"
   ]
  },
  {
   "cell_type": "markdown",
   "metadata": {},
   "source": [
    "### Energy uncertainties"
   ]
  },
  {
   "cell_type": "code",
   "execution_count": null,
   "metadata": {
    "ExecuteTime": {
     "end_time": "2019-05-10T15:01:56.630615Z",
     "start_time": "2019-05-10T15:01:55.747068Z"
    }
   },
   "outputs": [],
   "source": [
    "# P(E>Edet | E)\n",
    "from scipy.stats import norm, lognorm\n",
    "from scipy import optimize\n",
    "\n",
    "def p_gt_Eth(E, f_E, Eth):\n",
    "    return 1 - lognorm.cdf(Eth, f_E, 0, E)\n",
    "\n",
    "def get_min_bound(f_E, Eth):\n",
    "    fac=10*f_E\n",
    "    E = optimize.fsolve(p_gt_Eth, Eth/fac, args=(f_E, Eth))\n",
    "    return round(E[0])\n",
    "\n",
    "f_E = [0.2, 0.5, 1.0]\n",
    "E = np.logspace(np.log(1e-1), np.log(1e5), 1000, base=np.e)\n",
    "\n",
    "fig, ax = plt.subplots()\n",
    "for __ in f_E:\n",
    "    p = [p_gt_Eth(_, __, Eth) for _ in E]\n",
    "    b = get_min_bound(__, Eth)\n",
    "    ax.plot(E, p, label='f_E='+str(__))\n",
    "    ax.axvline(b, linestyle=':', color='k')\n",
    "#ax.axvline(Eth, linestyle=':', color='k')\n",
    "ax.set_xlabel('$E$ / GeV')\n",
    "ax.set_ylabel('P(Edet > Eth | E)')\n",
    "ax.set_xscale('log')\n",
    "ax.legend()"
   ]
  },
  {
   "cell_type": "markdown",
   "metadata": {},
   "source": [
    "# Full simulation down to low energies\n",
    "\n",
    "In order to simulate a realistic scenario, simulate down to low energies, then make a cut on the detected energies."
   ]
  },
  {
   "cell_type": "code",
   "execution_count": null,
   "metadata": {
    "ExecuteTime": {
     "end_time": "2019-05-09T09:07:01.173343Z",
     "start_time": "2019-05-09T09:07:01.153843Z"
    }
   },
   "outputs": [],
   "source": [
    "# Use a set of sources uniform in comoving volume for a lambda-CDM universe.\n",
    "with h5py.File('../data/test_SFR_pop.h5', 'r') as f:\n",
    "    Ns = f['output/Ns'].value\n",
    "    redshift = f['output/redshift'].value\n",
    "    position = f['output/position'].value\n",
    "    \n",
    "# Select sources within redshift zth to mimic catalogue\n",
    "zth = 1.0\n",
    "selection = np.where(redshift < zth)[0]\n",
    "Ns = len(selection)\n",
    "redshift = np.array([redshift[_] for _ in selection])\n",
    "position = np.array([position[_] for _ in selection])\n",
    "unit_vector = [p / np.linalg.norm(p) for p in position]\n",
    "\n",
    "# Add background redshift\n",
    "redshift = list(redshift) + [zth]"
   ]
  },
  {
   "cell_type": "code",
   "execution_count": null,
   "metadata": {
    "ExecuteTime": {
     "end_time": "2019-05-09T09:07:14.141914Z",
     "start_time": "2019-05-09T09:07:13.392769Z"
    }
   },
   "outputs": [],
   "source": [
    "# Effective area\n",
    "from scipy.interpolate import RectBivariateSpline\n",
    "\n",
    "aeff = effective_area(\"nue_CC\")\n",
    "\n",
    "# Get input for spline evaluation in Stan\n",
    "p = 3  # spline degree (default in RectBivariateSpline)\n",
    "xknots, yknots = aeff.spline.get_knots()\n",
    "c = aeff.spline.get_coeffs()\n",
    "\n",
    "xknots = np.unique(xknots)\n",
    "yknots = np.unique(yknots)\n",
    "Nx = len(xknots)+p-1 \n",
    "Ny = len(yknots)+p-1 \n",
    "c = c.reshape(Nx, Ny)\n",
    "\n",
    "# Maximum of the effective area, to scale \n",
    "aeff_max = max(10**aeff.aeff_vals) # m^2"
   ]
  },
  {
   "cell_type": "code",
   "execution_count": null,
   "metadata": {
    "ExecuteTime": {
     "end_time": "2019-05-09T09:07:22.020130Z",
     "start_time": "2019-05-09T09:07:22.013688Z"
    }
   },
   "outputs": [],
   "source": [
    "# Exposure integral (already includes Emin)\n",
    "with h5py.File('data/precomputed_integral_1e3.h5', 'r') as f:\n",
    "    alpha_grid_sim = f['alpha_grid'].value\n",
    "    integral_grid_sim = f['integral_grid'].value\n",
    "    \n",
    "# Could try to do full problem for a simpler case"
   ]
  },
  {
   "cell_type": "code",
   "execution_count": null,
   "metadata": {
    "ExecuteTime": {
     "end_time": "2019-05-09T09:07:22.463494Z",
     "start_time": "2019-05-09T09:07:22.441118Z"
    }
   },
   "outputs": [],
   "source": [
    "# Prepare simulation inputs that are defined above\n",
    "sim_input = {}\n",
    "\n",
    "# Sources\n",
    "sim_input['Ns'] = Ns\n",
    "sim_input['z'] = redshift\n",
    "sim_input['D'] = [luminosity_distance(z) for z in redshift[:-1]] # Mpc\n",
    "sim_input['varpi'] = unit_vector\n",
    "\n",
    "# Exposure integral interpolation grid\n",
    "sim_input['Ngrid'] = len(alpha_grid_sim)\n",
    "sim_input['alpha_grid'] = alpha_grid_sim\n",
    "sim_input['integral_grid'] = integral_grid_sim\n",
    "\n",
    "# Aeff Spline\n",
    "sim_input['p'] = p\n",
    "sim_input['Lknots_x'] = len(xknots)\n",
    "sim_input['Lknots_y'] = len(yknots)\n",
    "sim_input['xknots'] = xknots\n",
    "sim_input['yknots'] = yknots\n",
    "sim_input['c'] = c\n",
    "sim_input['aeff_max'] = aeff_max"
   ]
  },
  {
   "cell_type": "code",
   "execution_count": null,
   "metadata": {
    "ExecuteTime": {
     "end_time": "2019-05-09T09:56:47.763126Z",
     "start_time": "2019-05-09T09:56:47.746465Z"
    }
   },
   "outputs": [],
   "source": [
    "# Energies\n",
    "sim_input['alpha'] = 2.0\n",
    "sim_input['Emin'] = 1.0e3 # Emin_sim\n",
    "Emin = 1e4 # GeV\n",
    "E_scale = (Emin / sim_input['Emin'])**(1-sim_input['alpha'])\n",
    "sim_input['f_E'] = 0.2 \n",
    "\n",
    "# Reconstruction \n",
    "sim_input['kappa'] = 100 # ~10 deg for cascades\n",
    "\n",
    "# Associated fraction  (derived paramaters, but easier to define this way)\n",
    "total_flux = 2e4 # m^-2 yr^-1\n",
    "f = 0.5\n",
    "\n",
    "sim_input['T'] = 1 # yr\n",
    "sim_input['F0'] = (1 - f) * total_flux # m^-2 yr^-1\n",
    "sim_input['Q'] = ( (f*total_flux) / (sum([1 / (4*np.pi * (d*Mpc_to_m)**2) \n",
    "                                          for d in sim_input['D']])) ) # yr^-1 \n",
    "print('F0:', sim_input['F0'])"
   ]
  },
  {
   "cell_type": "code",
   "execution_count": null,
   "metadata": {
    "ExecuteTime": {
     "end_time": "2019-05-09T09:56:48.214701Z",
     "start_time": "2019-05-09T09:56:48.202521Z"
    }
   },
   "outputs": [],
   "source": [
    "# Compile Stan model\n",
    "sim = stan_utility.compile_model(filename = 'stan/joint_cascade_sim_Eth.stan', \n",
    "                                 model_name = 'Eth_sim', include_paths = 'stan/')"
   ]
  },
  {
   "cell_type": "code",
   "execution_count": null,
   "metadata": {
    "ExecuteTime": {
     "end_time": "2019-05-09T10:01:42.560141Z",
     "start_time": "2019-05-09T09:56:48.523079Z"
    }
   },
   "outputs": [],
   "source": [
    "# Simulate\n",
    "simulation = sim.sampling(data=sim_input, iter=1, chains=1, \n",
    "                          algorithm=\"Fixed_param\", seed=random_seed)"
   ]
  },
  {
   "cell_type": "code",
   "execution_count": null,
   "metadata": {
    "ExecuteTime": {
     "end_time": "2019-05-09T10:01:44.450998Z",
     "start_time": "2019-05-09T10:01:42.562924Z"
    }
   },
   "outputs": [],
   "source": [
    "# Energies\n",
    "Esrc = simulation.extract(['Esrc'])['Esrc'][0]\n",
    "E = simulation.extract(['E'])['E'][0]\n",
    "Edet = simulation.extract(['Edet'])['Edet'][0]\n",
    "\n",
    "selection = np.where(Edet >= Emin)[0]\n",
    "Edet_sel = [Edet[_] for _ in selection]\n",
    "E_sel = [E[_] for _ in selection]\n",
    "\n",
    "print(len(Edet_sel), 'events above threshold energy out of', len(Esrc), 'total events')"
   ]
  },
  {
   "cell_type": "code",
   "execution_count": null,
   "metadata": {
    "ExecuteTime": {
     "end_time": "2019-05-09T10:01:45.745266Z",
     "start_time": "2019-05-09T10:01:44.454649Z"
    }
   },
   "outputs": [],
   "source": [
    "# Plot energies\n",
    "Emin_sim = sim_input['Emin']\n",
    "bins = np.logspace(np.log(Emin_sim/10), np.log(1E+5*Emin_sim), base = np.e)\n",
    "\n",
    "fig, ax = plt.subplots()\n",
    "ax.hist(E, bins=bins, label='$\\\\tilde{E}$ total', alpha=0.7);\n",
    "ax.hist(Edet, bins=bins, label='$\\hat{E}$ total', alpha=0.7);\n",
    "ax.set_xscale('log')\n",
    "ax.set_yscale('log')\n",
    "ax.set_xlabel('$E$ / GeV')\n",
    "ax.legend();"
   ]
  },
  {
   "cell_type": "code",
   "execution_count": null,
   "metadata": {
    "ExecuteTime": {
     "end_time": "2019-05-09T10:01:47.089470Z",
     "start_time": "2019-05-09T10:01:45.748413Z"
    }
   },
   "outputs": [],
   "source": [
    "# Plot selected energies\n",
    "fig, ax = plt.subplots()\n",
    "ax.hist(E, bins=bins, label='$E$ total', alpha=0.7);\n",
    "ax.hist(E_sel, bins=bins, label='$E$ selected', alpha=0.7);\n",
    "ax.set_xscale('log')\n",
    "ax.set_yscale('log')\n",
    "ax.set_xlabel('$E$ / GeV')\n",
    "ax.legend();"
   ]
  },
  {
   "cell_type": "code",
   "execution_count": null,
   "metadata": {
    "ExecuteTime": {
     "end_time": "2019-05-09T10:01:48.429840Z",
     "start_time": "2019-05-09T10:01:47.092706Z"
    }
   },
   "outputs": [],
   "source": [
    "# Plot selected energies\n",
    "fig, ax = plt.subplots()\n",
    "ax.hist(E_sel, bins=bins, label='$E$ selected', alpha=0.7);\n",
    "ax.hist(Edet_sel, bins=bins, label='$\\hat{E}$ selected', alpha=0.7);\n",
    "ax.set_xscale('log')\n",
    "ax.set_yscale('log')\n",
    "ax.set_xlabel('$E$ / GeV')\n",
    "ax.legend();"
   ]
  },
  {
   "cell_type": "code",
   "execution_count": null,
   "metadata": {
    "ExecuteTime": {
     "end_time": "2019-05-09T10:03:06.358420Z",
     "start_time": "2019-05-09T10:03:06.350650Z"
    }
   },
   "outputs": [],
   "source": [
    "min(E_sel)"
   ]
  },
  {
   "cell_type": "code",
   "execution_count": null,
   "metadata": {},
   "outputs": [],
   "source": []
  }
 ],
 "metadata": {
  "kernelspec": {
   "display_name": "Python (bayes)",
   "language": "python",
   "name": "bayes"
  },
  "language_info": {
   "codemirror_mode": {
    "name": "ipython",
    "version": 3
   },
   "file_extension": ".py",
   "mimetype": "text/x-python",
   "name": "python",
   "nbconvert_exporter": "python",
   "pygments_lexer": "ipython3",
   "version": "3.6.4"
  }
 },
 "nbformat": 4,
 "nbformat_minor": 2
}
