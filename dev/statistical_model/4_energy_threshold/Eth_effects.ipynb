{
 "cells": [
  {
   "cell_type": "markdown",
   "metadata": {},
   "source": [
    "# Investigating the effects of energy threshold and uncertainties"
   ]
  },
  {
   "cell_type": "code",
   "execution_count": 1,
   "metadata": {
    "ExecuteTime": {
     "end_time": "2019-05-24T11:31:04.698738Z",
     "start_time": "2019-05-24T11:31:03.118491Z"
    }
   },
   "outputs": [
    {
     "name": "stderr",
     "output_type": "stream",
     "text": [
      "/Users/fran/projects/bayes/lib/python3.6/site-packages/h5py/__init__.py:36: FutureWarning: Conversion of the second argument of issubdtype from `float` to `np.floating` is deprecated. In future, it will be treated as `np.float64 == np.dtype(float).type`.\n",
      "  from ._conv import register_converters as _register_converters\n"
     ]
    }
   ],
   "source": [
    "import numpy as np\n",
    "import stan_utility\n",
    "import h5py\n",
    "from matplotlib import pyplot as plt\n",
    "\n",
    "from joint_model_cascades import luminosity_distance, Mpc_to_m"
   ]
  },
  {
   "cell_type": "code",
   "execution_count": 2,
   "metadata": {
    "ExecuteTime": {
     "end_time": "2019-05-24T11:31:04.703551Z",
     "start_time": "2019-05-24T11:31:04.700790Z"
    }
   },
   "outputs": [],
   "source": [
    "random_seed = 19920715"
   ]
  },
  {
   "cell_type": "markdown",
   "metadata": {},
   "source": [
    "## Simplified toy model\n",
    "Try to treat Aeff and P(Edet|E) as simple functions to understand and tackle full problem."
   ]
  },
  {
   "cell_type": "code",
   "execution_count": 3,
   "metadata": {
    "ExecuteTime": {
     "end_time": "2019-05-24T11:31:04.737520Z",
     "start_time": "2019-05-24T11:31:04.706051Z"
    }
   },
   "outputs": [],
   "source": [
    "# Functions\n",
    "AEFF_EMAX = 1e5\n",
    "AEFF_EMIN = 2e3\n",
    "\n",
    "def dNdE(E, alpha):\n",
    "    return E**(-alpha)\n",
    "\n",
    "def spectrum_rng(Emin, alpha):\n",
    "    upper_lim = dNdE(Emin, alpha)\n",
    "    lower_lim = dNdE(Emin*1e4, alpha)\n",
    "    accepted = False\n",
    "    while not accepted:\n",
    "        E = np.random.uniform(Emin, Emin*1e4)\n",
    "        p = np.random.uniform(lower_lim, upper_lim)\n",
    "        if (p < dNdE(E, alpha)):\n",
    "            accepted = True           \n",
    "    return E\n",
    "\n",
    "def effective_area(E):\n",
    "    if E < AEFF_EMIN or E > AEFF_EMAX:\n",
    "        return 0\n",
    "    else:\n",
    "        return 5*(E/AEFF_EMIN)**0.5 # m^2\n",
    "    \n",
    "def interaction_probability(E):\n",
    "    return effective_area(E)/effective_area(AEFF_EMAX)"
   ]
  },
  {
   "cell_type": "markdown",
   "metadata": {},
   "source": [
    "### Effective area "
   ]
  },
  {
   "cell_type": "code",
   "execution_count": 4,
   "metadata": {
    "ExecuteTime": {
     "end_time": "2019-05-24T11:31:05.664780Z",
     "start_time": "2019-05-24T11:31:05.070378Z"
    }
   },
   "outputs": [
    {
     "data": {
      "image/png": "[encoded data removed]",
      "text/plain": [
       "<Figure size 432x288 with 1 Axes>"
      ]
     },
     "metadata": {},
     "output_type": "display_data"
    }
   ],
   "source": [
    "Egrid = np.logspace(np.log(AEFF_EMIN/10), np.log(AEFF_EMAX*10), 100, base=np.e)\n",
    "fig, ax = plt.subplots()\n",
    "#ax.plot(Egrid, [effective_area(_) for _ in Egrid])\n",
    "ax.plot(Egrid, [interaction_probability(_) for _ in Egrid])\n",
    "ax.set_xscale('log')"
   ]
  },
  {
   "cell_type": "markdown",
   "metadata": {},
   "source": [
    "### Exposure integral"
   ]
  },
  {
   "cell_type": "code",
   "execution_count": 5,
   "metadata": {
    "ExecuteTime": {
     "end_time": "2019-05-24T11:31:06.056574Z",
     "start_time": "2019-05-24T11:31:06.053775Z"
    }
   },
   "outputs": [],
   "source": [
    "from scipy.stats import lognorm\n",
    "from scipy import integrate"
   ]
  },
  {
   "cell_type": "code",
   "execution_count": 6,
   "metadata": {
    "ExecuteTime": {
     "end_time": "2019-05-24T11:31:06.557989Z",
     "start_time": "2019-05-24T11:31:06.549581Z"
    }
   },
   "outputs": [],
   "source": [
    "# Functions\n",
    "def p_gt_Eth(E, Eth, f_E):\n",
    "    return 1 - lognorm.cdf(Eth, f_E, 0, E)\n",
    "\n",
    "def integrand(E, Eth, f_E, Emin, alpha):\n",
    "    return (  p_gt_Eth(E, Eth, f_E) * effective_area(E) * (E / Emin)**(-alpha)  )\n",
    "\n",
    "def old_integrand(E, Eth, f_E, Emin, alpha):\n",
    "    return ( effective_area(E) * (E / Emin)**(-alpha)  )"
   ]
  },
  {
   "cell_type": "markdown",
   "metadata": {},
   "source": [
    "### Input parameters"
   ]
  },
  {
   "cell_type": "code",
   "execution_count": 31,
   "metadata": {
    "ExecuteTime": {
     "end_time": "2019-05-24T13:49:18.433106Z",
     "start_time": "2019-05-24T13:49:18.426617Z"
    }
   },
   "outputs": [],
   "source": [
    "Emin = 1e3 # GeV\n",
    "Eth = 5e3 # GeV\n",
    "\n",
    "alpha = 2.5\n",
    "T = 1 # yr\n",
    "N = 1000\n",
    "F_N = (N / T) / effective_area(1e5) # m^-2 yr^-1\n",
    "f_E = 0.5"
   ]
  },
  {
   "cell_type": "code",
   "execution_count": 32,
   "metadata": {
    "ExecuteTime": {
     "end_time": "2019-05-24T13:49:20.623374Z",
     "start_time": "2019-05-24T13:49:18.689675Z"
    }
   },
   "outputs": [],
   "source": [
    "# Exposure integral calculation\n",
    "alpha_grid = np.linspace(1.5, 3.5, 100)\n",
    "integral_grid = []\n",
    "for a in alpha_grid:\n",
    "    integ, err = integrate.quad(integrand, AEFF_EMIN, AEFF_EMAX, \n",
    "                                args=(Eth, f_E, Eth, a))\n",
    "    integral_grid.append(integ)"
   ]
  },
  {
   "cell_type": "markdown",
   "metadata": {},
   "source": [
    "### Simulation"
   ]
  },
  {
   "cell_type": "code",
   "execution_count": 33,
   "metadata": {
    "ExecuteTime": {
     "end_time": "2019-05-24T13:49:53.792081Z",
     "start_time": "2019-05-24T13:49:20.625780Z"
    }
   },
   "outputs": [],
   "source": [
    "# Source\n",
    "Esrc = np.array([spectrum_rng(Emin, alpha) for _ in range(N)])\n",
    "\n",
    "# Effective area \n",
    "int_prob = [interaction_probability(_) for _ in Esrc]\n",
    "interacted_in_detector = np.zeros(len(int_prob))\n",
    "for i, p in enumerate(int_prob):\n",
    "    interacted_in_detector[i] = np.random.choice([0, 1], p=[1-p, p])    \n",
    "E = Esrc[np.where(interacted_in_detector == 1.0)]\n",
    "\n",
    "# Detection effects\n",
    "Edet_s = np.array([np.random.lognormal(np.log(_), f_E) for _ in E])\n",
    "\n",
    "# Thresholding\n",
    "Edet = Edet_s[np.where(Edet_s >= Eth)]"
   ]
  },
  {
   "cell_type": "code",
   "execution_count": 34,
   "metadata": {
    "ExecuteTime": {
     "end_time": "2019-05-24T13:49:54.847942Z",
     "start_time": "2019-05-24T13:49:53.794142Z"
    }
   },
   "outputs": [
    {
     "name": "stdout",
     "output_type": "stream",
     "text": [
      "38 events above threshold\n"
     ]
    },
    {
     "data": {
      "image/png": "[encoded data removed]",
      "text/plain": [
       "<Figure size 432x288 with 1 Axes>"
      ]
     },
     "metadata": {},
     "output_type": "display_data"
    }
   ],
   "source": [
    "fig, ax = plt.subplots()\n",
    "bins = np.logspace(np.log(1e2), np.log(1e7), base=np.e)\n",
    "ax.hist(Esrc, bins=bins, alpha=0.7)\n",
    "ax.hist(E, bins=bins, alpha=0.7)\n",
    "ax.hist(Edet_s, bins=bins, alpha=0.7)\n",
    "ax.hist(Edet, bins=bins, alpha=0.7)\n",
    "ax.axvline(Eth, linestyle=':', color='k')\n",
    "ax.plot()\n",
    "ax.set_xscale('log')\n",
    "ax.set_yscale('log')\n",
    "print(len(Edet), 'events above threshold')"
   ]
  },
  {
   "cell_type": "markdown",
   "metadata": {},
   "source": [
    "### Fit"
   ]
  },
  {
   "cell_type": "code",
   "execution_count": 35,
   "metadata": {
    "ExecuteTime": {
     "end_time": "2019-05-24T13:49:54.861452Z",
     "start_time": "2019-05-24T13:49:54.849867Z"
    }
   },
   "outputs": [
    {
     "name": "stdout",
     "output_type": "stream",
     "text": [
      "Using cached StanModel\n"
     ]
    }
   ],
   "source": [
    "# Compile the model\n",
    "model = stan_utility.compile_model(filename = 'stan/test_Eth.stan', \n",
    "                                   model_name = 'test_Eth_model', \n",
    "                                   include_paths = 'stan/')"
   ]
  },
  {
   "cell_type": "code",
   "execution_count": 36,
   "metadata": {
    "ExecuteTime": {
     "end_time": "2019-05-24T13:49:54.874327Z",
     "start_time": "2019-05-24T13:49:54.864068Z"
    }
   },
   "outputs": [],
   "source": [
    "fit_input = {}\n",
    "fit_input['Nevents'] = len(Edet)\n",
    "fit_input['Edet'] = Edet \n",
    "\n",
    "#fit_input['Emin'] = Emin\n",
    "fit_input['Emin'] = Eth # use threshold -> approximate\n",
    "#fit_input['Emin'] = AEFF_EMIN # interp case\n",
    "\n",
    "fit_input['f_E'] = f_E\n",
    "fit_input['T'] = T # yr\n",
    "\n",
    "fit_input['Ngrid'] = len(alpha_grid)\n",
    "fit_input['alpha_grid'] = alpha_grid\n",
    "fit_input['integral_grid'] = integral_grid"
   ]
  },
  {
   "cell_type": "code",
   "execution_count": 37,
   "metadata": {
    "ExecuteTime": {
     "end_time": "2019-05-24T13:49:55.638124Z",
     "start_time": "2019-05-24T13:49:54.876861Z"
    }
   },
   "outputs": [],
   "source": [
    "fit = model.sampling(data = fit_input, iter = 1000, chains = 4, seed = random_seed)"
   ]
  },
  {
   "cell_type": "code",
   "execution_count": 38,
   "metadata": {
    "ExecuteTime": {
     "end_time": "2019-05-24T13:49:55.975477Z",
     "start_time": "2019-05-24T13:49:55.640905Z"
    }
   },
   "outputs": [
    {
     "data": {
      "image/png": "[encoded data removed]",
      "text/plain": [
       "<Figure size 396x396 with 4 Axes>"
      ]
     },
     "metadata": {},
     "output_type": "display_data"
    }
   ],
   "source": [
    "import corner\n",
    "efac = (fit_input['Emin']/Emin)**(1-alpha)\n",
    "chain = fit.extract(permuted = True)\n",
    "key_list = ['F_N', 'alpha']\n",
    "labels = [r'$F_N$', 'alpha']\n",
    "truths = [F_N * efac, alpha]\n",
    "#truths = [F_N, alpha]\n",
    "\n",
    "corner.corner(np.nan_to_num(np.column_stack([chain[key] for key in key_list])),\n",
    "              labels = labels, \n",
    "              truths = truths);"
   ]
  },
  {
   "cell_type": "markdown",
   "metadata": {},
   "source": [
    "### Energy uncertainties"
   ]
  },
  {
   "cell_type": "code",
   "execution_count": null,
   "metadata": {
    "ExecuteTime": {
     "end_time": "2019-05-24T11:25:05.021842Z",
     "start_time": "2019-05-24T11:25:04.085192Z"
    }
   },
   "outputs": [],
   "source": [
    "# P(E>Edet | E)\n",
    "from scipy.stats import norm, lognorm\n",
    "from scipy import optimize\n",
    "\n",
    "def p_gt_Eth(E, f_E, Eth):\n",
    "    return 1 - lognorm.cdf(Eth, f_E, 0, E)\n",
    "\n",
    "def get_min_bound(f_E, Eth):\n",
    "    fac=10*f_E\n",
    "    E = optimize.fsolve(p_gt_Eth, Eth/fac, args=(f_E, Eth))\n",
    "    return round(E[0])\n",
    "\n",
    "f_E = [0.2, 0.5, 1.0]\n",
    "E = np.logspace(np.log(1e2), np.log(1e5), 1000, base=np.e)\n",
    "\n",
    "fig, ax = plt.subplots()\n",
    "for __ in f_E:\n",
    "    p = [p_gt_Eth(_, __, Eth) for _ in E]\n",
    "    b = get_min_bound(__, Eth)\n",
    "    ax.plot(E, p, label='$\\sigma$ = '+str(__))\n",
    "    #ax.axvline(b, linestyle=':', color='k')\n",
    "ax.axvline(Eth, linestyle=':', color='k', label='$E_\\mathrm{th}$')\n",
    "ax.set_xlabel('$E$ / GeV', fontsize=14)\n",
    "ax.set_ylabel('$P(E_\\mathrm{det} > E_\\mathrm{th} | E)$', fontsize=14)\n",
    "ax.set_xscale('log')\n",
    "ax.legend(fontsize=14)"
   ]
  },
  {
   "cell_type": "markdown",
   "metadata": {},
   "source": [
    "# Full simulation down to low energies\n",
    "\n",
    "In order to simulate a realistic scenario, simulate down to low energies, then make a cut on the detected energies."
   ]
  },
  {
   "cell_type": "code",
   "execution_count": null,
   "metadata": {
    "ExecuteTime": {
     "end_time": "2019-05-12T19:44:36.399426Z",
     "start_time": "2019-05-12T19:44:36.396712Z"
    }
   },
   "outputs": [],
   "source": [
    "from aeff_calculator.aeff_calculator import effective_area"
   ]
  },
  {
   "cell_type": "code",
   "execution_count": null,
   "metadata": {
    "ExecuteTime": {
     "end_time": "2019-05-12T19:44:36.670405Z",
     "start_time": "2019-05-12T19:44:36.651129Z"
    }
   },
   "outputs": [],
   "source": [
    "# Use a set of sources uniform in comoving volume for a lambda-CDM universe.\n",
    "with h5py.File('../data/test_SFR_pop.h5', 'r') as f:\n",
    "    Ns = f['output/Ns'].value\n",
    "    redshift = f['output/redshift'].value\n",
    "    position = f['output/position'].value\n",
    "    \n",
    "# Select sources within redshift zth to mimic catalogue\n",
    "zth = 1\n",
    "selection = np.where(redshift < zth)[0]\n",
    "Ns = len(selection)\n",
    "redshift = np.array([redshift[_] for _ in selection])\n",
    "position = np.array([position[_] for _ in selection])\n",
    "unit_vector = [p / np.linalg.norm(p) for p in position]\n",
    "\n",
    "# Add background redshift\n",
    "redshift = list(redshift) + [zth]"
   ]
  },
  {
   "cell_type": "code",
   "execution_count": null,
   "metadata": {
    "ExecuteTime": {
     "end_time": "2019-05-12T19:44:38.682293Z",
     "start_time": "2019-05-12T19:44:37.963861Z"
    }
   },
   "outputs": [],
   "source": [
    "# Effective area\n",
    "from scipy.interpolate import RectBivariateSpline\n",
    "\n",
    "aeff = effective_area(\"nue_CC\")\n",
    "\n",
    "# Get input for spline evaluation in Stan\n",
    "p = 3  # spline degree (default in RectBivariateSpline)\n",
    "xknots, yknots = aeff.spline.get_knots()\n",
    "c = aeff.spline.get_coeffs()\n",
    "\n",
    "xknots = np.unique(xknots)\n",
    "yknots = np.unique(yknots)\n",
    "Nx = len(xknots)+p-1 \n",
    "Ny = len(yknots)+p-1 \n",
    "c = c.reshape(Nx, Ny)\n",
    "\n",
    "# Maximum of the effective area, to scale \n",
    "aeff_max_tot = max(10**aeff.aeff_vals) # m^2"
   ]
  },
  {
   "cell_type": "code",
   "execution_count": null,
   "metadata": {
    "ExecuteTime": {
     "end_time": "2019-05-12T19:44:39.527471Z",
     "start_time": "2019-05-12T19:44:39.252935Z"
    }
   },
   "outputs": [],
   "source": [
    "Ebins = np.linspace(3.0, 7.0, 1000)\n",
    "aeff_max = []\n",
    "for uv in unit_vector:\n",
    "    cosz = np.cos(np.pi - np.arccos(uv[2]))\n",
    "    aeff_at_uv = [10**aeff.eval(_, cosz)[0][0] for _ in Ebins]\n",
    "    aeff_max.append(max(aeff_at_uv))\n",
    "aeff_max.append(aeff_max_tot)"
   ]
  },
  {
   "cell_type": "code",
   "execution_count": null,
   "metadata": {
    "ExecuteTime": {
     "end_time": "2019-05-12T19:45:06.960645Z",
     "start_time": "2019-05-12T19:45:06.944548Z"
    }
   },
   "outputs": [],
   "source": [
    "# Prepare simulation inputs that are defined above\n",
    "sim_input = {}\n",
    "\n",
    "# Sources\n",
    "sim_input['Ns'] = Ns\n",
    "sim_input['z'] = redshift\n",
    "sim_input['D'] = [luminosity_distance(z) for z in redshift[:-1]] # Mpc\n",
    "sim_input['varpi'] = unit_vector\n",
    "\n",
    "# Aeff Spline\n",
    "sim_input['p'] = p\n",
    "sim_input['Lknots_x'] = len(xknots)\n",
    "sim_input['Lknots_y'] = len(yknots)\n",
    "sim_input['xknots'] = xknots\n",
    "sim_input['yknots'] = yknots\n",
    "sim_input['c'] = c\n",
    "sim_input['aeff_max'] = aeff_max"
   ]
  },
  {
   "cell_type": "code",
   "execution_count": null,
   "metadata": {
    "ExecuteTime": {
     "end_time": "2019-05-12T19:57:47.034316Z",
     "start_time": "2019-05-12T19:57:47.017832Z"
    }
   },
   "outputs": [],
   "source": [
    "# Energies\n",
    "sim_input['alpha'] = 2.0\n",
    "sim_input['Emin'] = 1e4 # Emin_sim\n",
    "Eth = 1e4 # GeV\n",
    "E_scale = (Eth / sim_input['Emin'])**(1-sim_input['alpha'])\n",
    "sim_input['f_E'] = 0.1\n",
    "\n",
    "# Reconstruction \n",
    "sim_input['kappa'] = 100 # ~10 deg for cascades\n",
    "\n",
    "# Associated fraction  (derived paramaters, but easier to define this way)\n",
    "total_flux = 1e2 # m^-2 yr^-1\n",
    "f = 0.5\n",
    "\n",
    "sim_input['T'] = 1 # yr\n",
    "sim_input['F0'] = (1 - f) * total_flux # m^-2 yr^-1\n",
    "sim_input['Q'] = ( (f*total_flux) / (sum([1 / (4*np.pi * (d*Mpc_to_m)**2) \n",
    "                                          for d in sim_input['D']])) ) # yr^-1 \n",
    "print('F0:', sim_input['F0'])"
   ]
  },
  {
   "cell_type": "code",
   "execution_count": null,
   "metadata": {
    "ExecuteTime": {
     "end_time": "2019-05-12T20:02:07.423879Z",
     "start_time": "2019-05-12T20:02:07.411759Z"
    }
   },
   "outputs": [],
   "source": [
    "# Compile Stan model\n",
    "sim = stan_utility.compile_model(filename = 'stan/joint_cascade_sim_Eth_alt.stan', \n",
    "                                 model_name = 'Eth_sim_alt', include_paths = 'stan/')"
   ]
  },
  {
   "cell_type": "code",
   "execution_count": null,
   "metadata": {
    "ExecuteTime": {
     "end_time": "2019-05-12T20:03:46.883770Z",
     "start_time": "2019-05-12T20:03:45.758171Z"
    }
   },
   "outputs": [],
   "source": [
    "# Simulate\n",
    "simulation = sim.sampling(data=sim_input, iter=1, chains=1, \n",
    "                          algorithm=\"Fixed_param\")#, seed=random_seed)\n",
    "# Fast extract\n",
    "N_sim = int(simulation.extract(['N_sim'])['N_sim'])\n",
    "spec = {'lambda': N_sim, 'omega': 3, 'Esrc': N_sim, 'E': N_sim, 'Edet': N_sim,\n",
    "        'zenith': N_sim, 'pdet': N_sim, 'prob': 2, 'event': (3, N_sim), 'Nex_sim': 1, \n",
    "        'N_sim': 1, 'detected': N_sim, 'log10E': 1, 'cosz': 1}\n",
    "chain = stan_utility.utils.fast_extract(simulation, spec)"
   ]
  },
  {
   "cell_type": "code",
   "execution_count": null,
   "metadata": {
    "ExecuteTime": {
     "end_time": "2019-05-12T20:03:46.898073Z",
     "start_time": "2019-05-12T20:03:46.886161Z"
    }
   },
   "outputs": [],
   "source": [
    "# Energies\n",
    "Esrc = chain['Esrc']\n",
    "Edet = chain['Edet']\n",
    "\n",
    "detected = chain['detected']\n",
    "det = np.where(detected == 1)[0]\n",
    "th = np.where(Edet >= Eth)[0]\n",
    "selection = np.intersect1d(det, th)\n",
    "\n",
    "# filter out detected\n",
    "Edet = Edet[selection]\n",
    "\n",
    "print(len(Edet), 'events above threshold energy out of', len(Esrc), 'total events')"
   ]
  },
  {
   "cell_type": "code",
   "execution_count": null,
   "metadata": {
    "ExecuteTime": {
     "end_time": "2019-05-12T20:03:47.038086Z",
     "start_time": "2019-05-12T20:03:46.948952Z"
    }
   },
   "outputs": [],
   "source": [
    "# Arrival directions\n",
    "from fancy.interfaces.stan import Direction\n",
    "from fancy.plotting import AllSkyMap\n",
    "\n",
    "event = chain['event'].T\n",
    "event = event[selection]\n",
    "event = Direction(event)\n",
    "e_ra = event.d.icrs.ra.rad\n",
    "e_dec = event.d.icrs.dec.rad\n",
    "\n",
    "source = Direction(unit_vector)\n",
    "s_ra = source.d.icrs.ra.rad\n",
    "s_dec = source.d.icrs.dec.rad\n",
    "\n",
    "# Labels\n",
    "lam = chain['lambda'] - 1\n",
    "lam = lam[selection]\n",
    "lam = list(lam)\n",
    "Nc = Ns\n",
    "label_cmap = plt.cm.get_cmap('plasma', Nc+1)\n",
    "Nsrc = sum([lam.count(_) for _ in range(int(Nc))])\n",
    "Nbg = lam.count(Nc)\n",
    "print('Nsrc: ', Nsrc)\n",
    "print('Nbg: ', Nbg)\n",
    "print('w_bg: ', Nbg / (Nbg+Nsrc))"
   ]
  },
  {
   "cell_type": "code",
   "execution_count": null,
   "metadata": {
    "ExecuteTime": {
     "end_time": "2019-05-12T20:03:47.504416Z",
     "start_time": "2019-05-12T20:03:47.127479Z"
    }
   },
   "outputs": [],
   "source": [
    "from matplotlib.colors import LinearSegmentedColormap\n",
    "\n",
    "fig, ax = plt.subplots()\n",
    "fig.set_size_inches((10, 8))\n",
    "skymap = AllSkyMap(projection = 'hammer', lon_0 = 0, lat_0 = 0);\n",
    "for r, d, l in zip(e_ra, e_dec, lam):\n",
    "    color = label_cmap.colors[int(l)]\n",
    "    skymap.tissot(np.rad2deg(r), np.rad2deg(d), 2, 30, color = color, alpha = 0.7)\n",
    "norm = max([1 - _/zth for _ in redshift])\n",
    "for r, d, z in zip(s_ra, s_dec, redshift):\n",
    "    skymap.tissot(np.rad2deg(r), np.rad2deg(d), 2, 30, color = 'black', \n",
    "                  alpha = (1 - z/zth)/norm)"
   ]
  },
  {
   "cell_type": "code",
   "execution_count": null,
   "metadata": {
    "ExecuteTime": {
     "end_time": "2019-05-12T20:03:48.514442Z",
     "start_time": "2019-05-12T20:03:47.506811Z"
    }
   },
   "outputs": [],
   "source": [
    "# Plot energies\n",
    "Emin = sim_input['Emin']\n",
    "bins = np.logspace(np.log(Emin), np.log(1E+4*Emin), base = np.e)\n",
    "\n",
    "fig, ax = plt.subplots()\n",
    "ax.hist(Esrc, bins=bins, label='$\\\\tilde{E}$', alpha=0.7);\n",
    "ax.hist(chain['E'][selection], bins=bins, alpha=0.7)\n",
    "ax.hist(Edet, bins=bins, label='$\\hat{E}$', alpha=0.7);\n",
    "ax.axvline(Eth, linestyle=\":\", color='k')\n",
    "ax.set_xscale('log')\n",
    "ax.set_yscale('log')\n",
    "ax.set_xlabel('$E$ / GeV')\n",
    "ax.legend();"
   ]
  },
  {
   "cell_type": "code",
   "execution_count": null,
   "metadata": {
    "ExecuteTime": {
     "end_time": "2019-05-12T20:03:48.520867Z",
     "start_time": "2019-05-12T20:03:48.516835Z"
    }
   },
   "outputs": [],
   "source": [
    "print((1+min(redshift)) * sim_input['Emin'])\n",
    "print(min(Esrc))"
   ]
  },
  {
   "cell_type": "markdown",
   "metadata": {},
   "source": [
    "## Fitting the model"
   ]
  },
  {
   "cell_type": "code",
   "execution_count": null,
   "metadata": {
    "ExecuteTime": {
     "end_time": "2019-05-12T20:03:48.532359Z",
     "start_time": "2019-05-12T20:03:48.523886Z"
    }
   },
   "outputs": [],
   "source": [
    "# Get precomputed eps factor\n",
    "with h5py.File('data/precomputed_integral_1e4_100_nouncert.h5', 'r') as f5:\n",
    "    alpha_grid = f5['alpha_grid'].value\n",
    "    integral_grid = f5['integral_grid'].value"
   ]
  },
  {
   "cell_type": "code",
   "execution_count": null,
   "metadata": {
    "ExecuteTime": {
     "end_time": "2019-05-12T20:03:48.559426Z",
     "start_time": "2019-05-12T20:03:48.535141Z"
    }
   },
   "outputs": [],
   "source": [
    "# Prepare fit inputs\n",
    "fit_input = {}\n",
    "fit_input['N'] = len(event.unit_vector)\n",
    "fit_input['omega_det'] = event.unit_vector\n",
    "fit_input['Emin'] = Eth # Emin as Eth -> approximate!\n",
    "fit_input['f_E'] = sim_input['f_E']\n",
    "fit_input['Edet'] = Edet\n",
    "fit_input['Ns'] = Ns\n",
    "fit_input['varpi'] = source.unit_vector\n",
    "fit_input['D'] = sim_input['D']\n",
    "fit_input['z'] = sim_input['z']\n",
    "fit_input['kappa'] = sim_input['kappa']\n",
    "\n",
    "# Exposure\n",
    "fit_input['Ngrid'] = len(alpha_grid)\n",
    "fit_input['alpha_grid'] = alpha_grid\n",
    "fit_input['integral_grid'] = integral_grid\n",
    "fit_input['T'] = sim_input['T']\n",
    "\n",
    "# Debugging\n",
    "fit_input['Q_scale'] = sim_input['Q'] * E_scale\n",
    "fit_input['F0_scale'] = sim_input['F0'] * E_scale"
   ]
  },
  {
   "cell_type": "code",
   "execution_count": null,
   "metadata": {
    "ExecuteTime": {
     "end_time": "2019-05-12T20:03:48.984933Z",
     "start_time": "2019-05-12T20:03:48.973215Z"
    }
   },
   "outputs": [],
   "source": [
    "# Compile the model\n",
    "model = stan_utility.compile_model(filename = 'stan/joint_cascade_model_Eth.stan', \n",
    "                                   model_name = 'Eth_model', \n",
    "                                   include_paths = 'stan/')"
   ]
  },
  {
   "cell_type": "code",
   "execution_count": null,
   "metadata": {
    "ExecuteTime": {
     "end_time": "2019-05-12T20:04:26.497868Z",
     "start_time": "2019-05-12T20:03:49.372150Z"
    }
   },
   "outputs": [],
   "source": [
    "fit = model.sampling(data = fit_input, iter = 1000, chains = 4, seed = random_seed)"
   ]
  },
  {
   "cell_type": "code",
   "execution_count": null,
   "metadata": {
    "ExecuteTime": {
     "end_time": "2019-05-12T20:04:29.207815Z",
     "start_time": "2019-05-12T20:04:26.500293Z"
    }
   },
   "outputs": [],
   "source": [
    "# View chains\n",
    "fig = fit.plot([r'Q', r'F0', r'f', r'alpha', r'F']);\n",
    "fig.set_size_inches(20, 16)\n",
    "fig.tight_layout()"
   ]
  },
  {
   "cell_type": "code",
   "execution_count": null,
   "metadata": {
    "ExecuteTime": {
     "end_time": "2019-05-12T20:04:31.307866Z",
     "start_time": "2019-05-12T20:04:29.209689Z"
    }
   },
   "outputs": [],
   "source": [
    "import corner\n",
    "# View corner plot\n",
    "chain = fit.extract(permuted = True)\n",
    "key_list = ['F0', 'Q', 'FT', 'f', 'alpha']\n",
    "labels = [r'$F_0$', r'Q', r'FT', r'f', 'alpha']\n",
    "truths = [sim_input['F0'] * E_scale , sim_input['Q'] * E_scale, total_flux * E_scale, f, sim_input['alpha']]\n",
    "\n",
    "corner.corner(np.nan_to_num(np.column_stack([chain[key] for key in key_list])),\n",
    "              labels = labels, \n",
    "              truths = truths);"
   ]
  },
  {
   "cell_type": "code",
   "execution_count": null,
   "metadata": {
    "ExecuteTime": {
     "end_time": "2019-05-12T20:08:51.268594Z",
     "start_time": "2019-05-12T20:08:51.264595Z"
    }
   },
   "outputs": [],
   "source": [
    "# Think relative spectral spacing is the problem...\n",
    "print(1e4*(1+1) - 1e4*(1+0.4))\n",
    "print(1e3*(1+1) - 1e3*(1+0.4))"
   ]
  },
  {
   "cell_type": "code",
   "execution_count": null,
   "metadata": {},
   "outputs": [],
   "source": []
  }
 ],
 "metadata": {
  "kernelspec": {
   "display_name": "Python (bayes)",
   "language": "python",
   "name": "bayes"
  },
  "language_info": {
   "codemirror_mode": {
    "name": "ipython",
    "version": 3
   },
   "file_extension": ".py",
   "mimetype": "text/x-python",
   "name": "python",
   "nbconvert_exporter": "python",
   "pygments_lexer": "ipython3",
   "version": "3.6.4"
  }
 },
 "nbformat": 4,
 "nbformat_minor": 2
}
