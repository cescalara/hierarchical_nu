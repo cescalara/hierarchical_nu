{
 "cells": [
  {
   "cell_type": "markdown",
   "metadata": {},
   "source": [
    "\n",
    "# Joint cascade model with $E_{\\rm{min}}$ handled correctly\n",
    "\n",
    "When including the realistic energy resolution, for certain channels, this means very large energy detection uncertainties. On of the assumptions of the formalism is that a hard cut on the detected energies corresponds to a hard cut on the source energies, which is no longer true in this case. Need to edit to cope. "
   ]
  },
  {
   "cell_type": "code",
   "execution_count": 1,
   "metadata": {
    "ExecuteTime": {
     "end_time": "2019-05-12T12:51:16.263047Z",
     "start_time": "2019-05-12T12:51:14.740885Z"
    }
   },
   "outputs": [
    {
     "name": "stderr",
     "output_type": "stream",
     "text": [
      "/Users/fran/projects/bayes/lib/python3.6/site-packages/h5py/__init__.py:36: FutureWarning: Conversion of the second argument of issubdtype from `float` to `np.floating` is deprecated. In future, it will be treated as `np.float64 == np.dtype(float).type`.\n",
      "  from ._conv import register_converters as _register_converters\n"
     ]
    }
   ],
   "source": [
    "import numpy as np\n",
    "import h5py\n",
    "from matplotlib import pyplot as plt\n",
    "import stan_utility\n",
    "import corner\n",
    "\n",
    "from joint_model_cascades import * \n",
    "from aeff_calculator.aeff_calculator import effective_area\n",
    "from energy_conditional import EnergyConditional"
   ]
  },
  {
   "cell_type": "code",
   "execution_count": 2,
   "metadata": {
    "ExecuteTime": {
     "end_time": "2019-05-12T12:51:16.268035Z",
     "start_time": "2019-05-12T12:51:16.265149Z"
    }
   },
   "outputs": [],
   "source": [
    "random_seed = 19920715"
   ]
  },
  {
   "cell_type": "markdown",
   "metadata": {},
   "source": [
    "## Simulation"
   ]
  },
  {
   "cell_type": "markdown",
   "metadata": {},
   "source": [
    "#### Sources\n",
    "\n",
    "Assume a predefined set of source and background component with fixed redshift, at the source population redshift threshold. This implements a *very crude* selection effect. "
   ]
  },
  {
   "cell_type": "code",
   "execution_count": 3,
   "metadata": {
    "ExecuteTime": {
     "end_time": "2019-05-12T12:51:16.292611Z",
     "start_time": "2019-05-12T12:51:16.270568Z"
    }
   },
   "outputs": [],
   "source": [
    "# Use a set of sources uniform in comoving volume for a lambda-CDM universe.\n",
    "with h5py.File('../data/test_SFR_pop.h5', 'r') as f:\n",
    "    Ns = f['output/Ns'].value\n",
    "    redshift = f['output/redshift'].value\n",
    "    position = f['output/position'].value\n",
    "    \n",
    "# Select sources within redshift zth to mimic catalogue\n",
    "zth = 1.0\n",
    "selection = np.where(redshift < zth)[0]\n",
    "Ns = len(selection)\n",
    "redshift = np.array([redshift[_] for _ in selection])\n",
    "position = np.array([position[_] for _ in selection])\n",
    "unit_vector = [p / np.linalg.norm(p) for p in position]\n",
    "\n",
    "# Add background redshift\n",
    "redshift = list(redshift) + [zth]"
   ]
  },
  {
   "cell_type": "markdown",
   "metadata": {},
   "source": [
    "#### Effective area\n",
    "Use same effective area as in precomputation!"
   ]
  },
  {
   "cell_type": "code",
   "execution_count": 4,
   "metadata": {
    "ExecuteTime": {
     "end_time": "2019-05-12T12:51:18.844475Z",
     "start_time": "2019-05-12T12:51:18.124428Z"
    }
   },
   "outputs": [
    {
     "name": "stdout",
     "output_type": "stream",
     "text": [
      "... creating effective area spline for interaction nue_CC , done!\n"
     ]
    }
   ],
   "source": [
    "from scipy.interpolate import RectBivariateSpline\n",
    "\n",
    "aeff = effective_area(\"nue_CC\")"
   ]
  },
  {
   "cell_type": "code",
   "execution_count": 5,
   "metadata": {
    "ExecuteTime": {
     "end_time": "2019-05-12T12:51:19.616942Z",
     "start_time": "2019-05-12T12:51:19.605704Z"
    }
   },
   "outputs": [],
   "source": [
    "# Get input for spline evaluation in Stan\n",
    "p = 3  # spline degree (default in RectBivariateSpline)\n",
    "xknots, yknots = aeff.spline.get_knots()\n",
    "c = aeff.spline.get_coeffs()\n",
    "\n",
    "xknots = np.unique(xknots)\n",
    "yknots = np.unique(yknots)\n",
    "Nx = len(xknots)+p-1 \n",
    "Ny = len(yknots)+p-1 \n",
    "c = c.reshape(Nx, Ny)\n",
    "\n",
    "# Maximum of the effective area, to scale \n",
    "aeff_max = max(10**aeff.aeff_vals) # m^2"
   ]
  },
  {
   "cell_type": "markdown",
   "metadata": {},
   "source": [
    "#### Precomputed exposure integral\n",
    "See `precomputation.ipynb` for info."
   ]
  },
  {
   "cell_type": "code",
   "execution_count": 6,
   "metadata": {
    "ExecuteTime": {
     "end_time": "2019-05-12T12:51:20.874510Z",
     "start_time": "2019-05-12T12:51:20.868966Z"
    }
   },
   "outputs": [],
   "source": [
    "# Get precomputed eps factor\n",
    "with h5py.File('data/precomputed_integral_1e4_100_nouncert.h5', 'r') as f5:\n",
    "    alpha_grid = f5['alpha_grid'].value\n",
    "    integral_grid = f5['integral_grid'].value"
   ]
  },
  {
   "cell_type": "code",
   "execution_count": 43,
   "metadata": {
    "ExecuteTime": {
     "end_time": "2019-05-12T13:00:50.284097Z",
     "start_time": "2019-05-12T13:00:50.276904Z"
    }
   },
   "outputs": [],
   "source": [
    "# For sim\n",
    "with h5py.File('data/precomputed_integral_1e3_100_nouncert.h5', 'r') as f5:\n",
    "    alpha_grid_sim = f5['alpha_grid'].value\n",
    "    integral_grid_sim = f5['integral_grid'].value"
   ]
  },
  {
   "cell_type": "markdown",
   "metadata": {},
   "source": [
    "#### Input parameters\n",
    "\n",
    "Now define all input parameters, including those that we will fit for."
   ]
  },
  {
   "cell_type": "code",
   "execution_count": 44,
   "metadata": {
    "ExecuteTime": {
     "end_time": "2019-05-12T13:00:54.497904Z",
     "start_time": "2019-05-12T13:00:54.475688Z"
    }
   },
   "outputs": [],
   "source": [
    "# Prepare simulation inputs that are defined above\n",
    "sim_input = {}\n",
    "\n",
    "# Sources\n",
    "sim_input['Ns'] = Ns\n",
    "sim_input['z'] = redshift\n",
    "sim_input['D'] = [luminosity_distance(z) for z in redshift[:-1]] # Mpc\n",
    "sim_input['varpi'] = unit_vector\n",
    "\n",
    "# Exposure integral interpolation grid\n",
    "sim_input['Ngrid'] = len(alpha_grid_sim)\n",
    "sim_input['alpha_grid'] = alpha_grid_sim\n",
    "sim_input['integral_grid'] = integral_grid_sim\n",
    "\n",
    "# Aeff Spline\n",
    "sim_input['p'] = p\n",
    "sim_input['Lknots_x'] = len(xknots)\n",
    "sim_input['Lknots_y'] = len(yknots)\n",
    "sim_input['xknots'] = xknots\n",
    "sim_input['yknots'] = yknots\n",
    "sim_input['c'] = c\n",
    "sim_input['aeff_max'] = aeff_max"
   ]
  },
  {
   "cell_type": "code",
   "execution_count": 73,
   "metadata": {
    "ExecuteTime": {
     "end_time": "2019-05-12T13:04:49.473500Z",
     "start_time": "2019-05-12T13:04:49.455495Z"
    }
   },
   "outputs": [
    {
     "name": "stdout",
     "output_type": "stream",
     "text": [
      "F0: 500.0\n"
     ]
    }
   ],
   "source": [
    "# Define simulation parameters\n",
    "\n",
    "# Energies\n",
    "sim_input['alpha'] = 1.95\n",
    "sim_input['Emin'] = 1.0e3 # Emin_sim\n",
    "Eth = 1.0e4 # GeV\n",
    "E_scale = (Eth / sim_input['Emin'])**(1-sim_input['alpha'])\n",
    "sim_input['f_E'] = 0.5\n",
    "\n",
    "# Reconstruction \n",
    "sim_input['kappa'] = 100 # ~10 deg for cascades\n",
    "\n",
    "# Associated fraction  (derived paramaters, but easier to define this way)\n",
    "total_flux = 1e3 # m^-2 yr^-1\n",
    "f = 0.5\n",
    "\n",
    "sim_input['T'] = 1 # yr\n",
    "sim_input['F0'] = (1 - f) * total_flux # m^-2 yr^-1\n",
    "sim_input['Q'] = ( (f*total_flux) / (sum([1 / (4*np.pi * (d*Mpc_to_m)**2) \n",
    "                                          for d in sim_input['D']])) ) # yr^-1 \n",
    "print('F0:', sim_input['F0'])"
   ]
  },
  {
   "cell_type": "markdown",
   "metadata": {},
   "source": [
    "#### Run simulation"
   ]
  },
  {
   "cell_type": "code",
   "execution_count": 74,
   "metadata": {
    "ExecuteTime": {
     "end_time": "2019-05-12T13:04:49.898568Z",
     "start_time": "2019-05-12T13:04:49.886985Z"
    }
   },
   "outputs": [
    {
     "name": "stdout",
     "output_type": "stream",
     "text": [
      "Using cached StanModel\n"
     ]
    }
   ],
   "source": [
    "# Compile Stan model\n",
    "sim = stan_utility.compile_model(filename = 'stan/joint_cascade_sim_Eth.stan', \n",
    "                                 model_name = 'Eth_sim', include_paths = 'stan/')"
   ]
  },
  {
   "cell_type": "code",
   "execution_count": 75,
   "metadata": {
    "ExecuteTime": {
     "end_time": "2019-05-12T13:04:57.574535Z",
     "start_time": "2019-05-12T13:04:50.062102Z"
    }
   },
   "outputs": [],
   "source": [
    "# Simulate\n",
    "simulation = sim.sampling(data=sim_input, iter=1, chains=1, \n",
    "                          algorithm=\"Fixed_param\", seed=random_seed)"
   ]
  },
  {
   "cell_type": "code",
   "execution_count": 76,
   "metadata": {
    "ExecuteTime": {
     "end_time": "2019-05-12T13:04:57.661685Z",
     "start_time": "2019-05-12T13:04:57.576332Z"
    }
   },
   "outputs": [
    {
     "name": "stdout",
     "output_type": "stream",
     "text": [
      "46 events above threshold energy, out of 55\n"
     ]
    }
   ],
   "source": [
    "# Extract output\n",
    "from fancy.interfaces.stan import Direction\n",
    "from fancy.plotting import AllSkyMap\n",
    "\n",
    "# Energies\n",
    "Esrc = simulation.extract(['Esrc'])['Esrc'][0]\n",
    "E = simulation.extract(['E'])['E'][0]\n",
    "Edet = simulation.extract(['Edet'])['Edet'][0]\n",
    "selection = np.where(Edet >= Eth)[0]\n",
    "Edet = [Edet[_] for _ in selection]\n",
    "print(len(Edet), 'events above threshold energy, out of', len(Esrc))\n",
    "\n",
    "# Arrival directions\n",
    "event = simulation.extract(['event'])['event'][0]\n",
    "event = [event[_] for _ in selection]\n",
    "event = Direction(event)\n",
    "e_ra = event.d.icrs.ra.rad\n",
    "e_dec = event.d.icrs.dec.rad\n",
    "\n",
    "source = Direction(unit_vector)\n",
    "s_ra = source.d.icrs.ra.rad\n",
    "s_dec = source.d.icrs.dec.rad"
   ]
  },
  {
   "cell_type": "code",
   "execution_count": 77,
   "metadata": {
    "ExecuteTime": {
     "end_time": "2019-05-12T13:04:57.680015Z",
     "start_time": "2019-05-12T13:04:57.663767Z"
    }
   },
   "outputs": [
    {
     "name": "stdout",
     "output_type": "stream",
     "text": [
      "Nsrc:  27\n",
      "Nbg:  19\n",
      "w_bg:  0.41304347826086957\n"
     ]
    }
   ],
   "source": [
    "# Labels\n",
    "lam = simulation.extract(['lambda'])['lambda'][0] - 1\n",
    "Nc = Ns\n",
    "label_cmap = plt.cm.get_cmap('plasma', Nc+1)\n",
    "\n",
    "lam = list(lam)\n",
    "lam = [lam[_] for _ in selection]\n",
    "Nsrc = sum([lam.count(_) for _ in range(int(Nc))])\n",
    "Nbg = lam.count(Nc)\n",
    "print('Nsrc: ', Nsrc)\n",
    "print('Nbg: ', Nbg)\n",
    "print('w_bg: ', Nbg / (Nbg+Nsrc))"
   ]
  },
  {
   "cell_type": "code",
   "execution_count": 78,
   "metadata": {
    "ExecuteTime": {
     "end_time": "2019-05-12T13:04:57.984629Z",
     "start_time": "2019-05-12T13:04:57.682875Z"
    }
   },
   "outputs": [
    {
     "data": {
      "image/png": "[encoded data removed]",
      "text/plain": [
       "<Figure size 720x576 with 1 Axes>"
      ]
     },
     "metadata": {},
     "output_type": "display_data"
    }
   ],
   "source": [
    "from matplotlib.colors import LinearSegmentedColormap\n",
    "\n",
    "fig, ax = plt.subplots()\n",
    "fig.set_size_inches((10, 8))\n",
    "skymap = AllSkyMap(projection = 'hammer', lon_0 = 0, lat_0 = 0);\n",
    "for r, d, l in zip(e_ra, e_dec, lam):\n",
    "    color = label_cmap.colors[int(l)]\n",
    "    skymap.tissot(np.rad2deg(r), np.rad2deg(d), 2, 30, color = color, alpha = 0.7)\n",
    "norm = max([1 - _/zth for _ in redshift])\n",
    "for r, d, z in zip(s_ra, s_dec, redshift):\n",
    "    skymap.tissot(np.rad2deg(r), np.rad2deg(d), 2, 30, color = 'black', \n",
    "                  alpha = (1 - z/zth)/norm)"
   ]
  },
  {
   "cell_type": "code",
   "execution_count": 79,
   "metadata": {
    "ExecuteTime": {
     "end_time": "2019-05-12T13:04:58.906547Z",
     "start_time": "2019-05-12T13:04:57.987521Z"
    }
   },
   "outputs": [
    {
     "data": {
      "image/png": "[encoded data removed]",
      "text/plain": [
       "<Figure size 432x288 with 1 Axes>"
      ]
     },
     "metadata": {},
     "output_type": "display_data"
    }
   ],
   "source": [
    "# Plot energies\n",
    "Emin = sim_input['Emin']\n",
    "bins = np.logspace(np.log(Emin), np.log(1E+4*Emin), base = np.e)\n",
    "\n",
    "fig, ax = plt.subplots()\n",
    "ax.hist(Esrc, bins=bins, label='$\\\\tilde{E}$', alpha=0.7);\n",
    "ax.hist(Edet, bins=bins, label='$\\hat{E}$', alpha=0.7);\n",
    "ax.axvline(Eth, linestyle=\":\", color='k')\n",
    "ax.set_xscale('log')\n",
    "ax.set_yscale('log')\n",
    "ax.set_xlabel('$E$ / GeV')\n",
    "ax.legend();"
   ]
  },
  {
   "cell_type": "markdown",
   "metadata": {},
   "source": [
    "## Fitting the model"
   ]
  },
  {
   "cell_type": "code",
   "execution_count": 80,
   "metadata": {
    "ExecuteTime": {
     "end_time": "2019-05-12T13:04:58.931796Z",
     "start_time": "2019-05-12T13:04:58.909121Z"
    }
   },
   "outputs": [],
   "source": [
    "# Prepare fit inputs\n",
    "fit_input = {}\n",
    "fit_input['N'] = len(event.unit_vector)\n",
    "fit_input['omega_det'] = event.unit_vector\n",
    "fit_input['Emin'] = Eth # Emin as Eth -> approximate!\n",
    "fit_input['f_E'] = sim_input['f_E']\n",
    "fit_input['Edet'] = Edet\n",
    "fit_input['Ns'] = Ns\n",
    "fit_input['varpi'] = source.unit_vector\n",
    "fit_input['D'] = sim_input['D']\n",
    "fit_input['z'] = sim_input['z']\n",
    "fit_input['kappa'] = sim_input['kappa']\n",
    "\n",
    "# Exposure\n",
    "fit_input['Ngrid'] = len(alpha_grid)\n",
    "fit_input['alpha_grid'] = alpha_grid\n",
    "fit_input['integral_grid'] = integral_grid\n",
    "fit_input['T'] = sim_input['T']\n",
    "\n",
    "# Debugging\n",
    "fit_input['Q_scale'] = sim_input['Q'] * E_scale\n",
    "fit_input['F0_scale'] = sim_input['F0'] * E_scale"
   ]
  },
  {
   "cell_type": "code",
   "execution_count": 81,
   "metadata": {
    "ExecuteTime": {
     "end_time": "2019-05-12T13:04:58.945609Z",
     "start_time": "2019-05-12T13:04:58.934066Z"
    }
   },
   "outputs": [
    {
     "name": "stdout",
     "output_type": "stream",
     "text": [
      "Using cached StanModel\n"
     ]
    }
   ],
   "source": [
    "# Compile the model\n",
    "model = stan_utility.compile_model(filename = 'stan/joint_cascade_model_Eth.stan', \n",
    "                                   model_name = 'Eth_model', \n",
    "                                   include_paths = 'stan/')"
   ]
  },
  {
   "cell_type": "code",
   "execution_count": null,
   "metadata": {
    "ExecuteTime": {
     "start_time": "2019-05-12T13:04:52.826Z"
    }
   },
   "outputs": [],
   "source": [
    "fit = model.sampling(data = fit_input, iter = 1000, chains = 4, seed = random_seed)"
   ]
  },
  {
   "cell_type": "code",
   "execution_count": null,
   "metadata": {
    "ExecuteTime": {
     "start_time": "2019-05-12T13:04:53.502Z"
    }
   },
   "outputs": [],
   "source": [
    "# View chains\n",
    "fig = fit.plot([r'Q', r'F0', r'f', r'alpha', r'F']);\n",
    "fig.set_size_inches(20, 16)\n",
    "fig.tight_layout()"
   ]
  },
  {
   "cell_type": "code",
   "execution_count": null,
   "metadata": {
    "ExecuteTime": {
     "start_time": "2019-05-12T13:04:54.754Z"
    }
   },
   "outputs": [],
   "source": [
    "# View corner plot\n",
    "chain = fit.extract(permuted = True)\n",
    "key_list = ['F0', 'Q', 'FT', 'f', 'alpha']\n",
    "labels = [r'$F_0$', r'Q', r'FT', r'f', 'alpha']\n",
    "truths = [sim_input['F0'] * E_scale , sim_input['Q'] * E_scale, total_flux * E_scale, f, sim_input['alpha']]\n",
    "\n",
    "corner.corner(np.nan_to_num(np.column_stack([chain[key] for key in key_list])),\n",
    "              labels = labels, \n",
    "              truths = truths);"
   ]
  },
  {
   "cell_type": "markdown",
   "metadata": {},
   "source": [
    "## Association probabilities"
   ]
  },
  {
   "cell_type": "code",
   "execution_count": null,
   "metadata": {
    "ExecuteTime": {
     "end_time": "2019-04-30T16:41:57.505668Z",
     "start_time": "2019-04-30T16:41:57.500021Z"
    }
   },
   "outputs": [],
   "source": [
    "logprob = chain['lp'].transpose(1, 2, 0)\n",
    "N = np.shape(logprob)[0]\n",
    "\n",
    "# Account for background component\n",
    "Ns = np.shape(logprob)[1] - 1"
   ]
  },
  {
   "cell_type": "code",
   "execution_count": null,
   "metadata": {
    "ExecuteTime": {
     "end_time": "2019-04-30T09:11:06.614886Z",
     "start_time": "2019-04-30T09:11:06.322993Z"
    }
   },
   "outputs": [],
   "source": [
    "# Calculate association probabilities for each source-neutrino combo\n",
    "nu_p = []\n",
    "for lp in logprob:\n",
    "    lps = []\n",
    "    for src in range(Ns+1):\n",
    "        lps.append(np.mean(np.exp(lp[src])))\n",
    "\n",
    "    norm = sum(lps)\n",
    "    ps = []\n",
    "    for src in range(Ns+1):\n",
    "        ps.append(lps[src] / norm)\n",
    "    nu_p.append(ps)\n",
    "\n",
    "# Normalise line weights\n",
    "pmax = max(max(nu_p))"
   ]
  },
  {
   "cell_type": "code",
   "execution_count": null,
   "metadata": {
    "ExecuteTime": {
     "end_time": "2019-04-30T09:11:07.240228Z",
     "start_time": "2019-04-30T09:11:06.617998Z"
    }
   },
   "outputs": [],
   "source": [
    "# Figure\n",
    "fig, ax = plt.subplots()\n",
    "fig.set_size_inches((12, 6))\n",
    "skymap = AllSkyMap(projection = 'hammer', lon_0 = 0, lat_0 = 0);\n",
    "\n",
    "# Sources\n",
    "for r, d in zip(s_ra, s_dec):\n",
    "    skymap.tissot(np.rad2deg(r), np.rad2deg(d), 2, 30, color = 'black')\n",
    "    \n",
    "# Neutrinos\n",
    "for r, d, l in zip(e_ra, e_dec, lam):\n",
    "    color = label_cmap.colors[int(l)]\n",
    "    skymap.tissot(np.rad2deg(r), np.rad2deg(d), 2, 30, color = color, alpha = 0.7)\n",
    "    \n",
    "# Association\n",
    "for i, p in enumerate(nu_p):\n",
    "    for j, psrc in enumerate(p[0:Ns]):\n",
    "        if psrc > 0.001:\n",
    "            skymap.geodesic(np.rad2deg(e_ra[i]), np.rad2deg(e_dec[i]), \n",
    "                            np.rad2deg(s_ra[j]), np.rad2deg(s_dec[j]), \n",
    "                            color = 'black', lw = 3, alpha = psrc/pmax, zorder = 10)"
   ]
  },
  {
   "cell_type": "code",
   "execution_count": null,
   "metadata": {},
   "outputs": [],
   "source": []
  }
 ],
 "metadata": {
  "kernelspec": {
   "display_name": "Python (bayes)",
   "language": "python",
   "name": "bayes"
  },
  "language_info": {
   "codemirror_mode": {
    "name": "ipython",
    "version": 3
   },
   "file_extension": ".py",
   "mimetype": "text/x-python",
   "name": "python",
   "nbconvert_exporter": "python",
   "pygments_lexer": "ipython3",
   "version": "3.6.4"
  }
 },
 "nbformat": 4,
 "nbformat_minor": 2
}
