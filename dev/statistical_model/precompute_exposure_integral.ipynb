{
 "cells": [
  {
   "cell_type": "markdown",
   "metadata": {},
   "source": [
    "# Precompute exposure integral\n",
    "\n",
    "In order to add in the 2D Aeff, want to precompute the factor:\n",
    "\n",
    "$$\n",
    "\\epsilon_k = \\int_{E_{\\rm{min}}}^\\infty {\\rm{d}}E \\ A_{\\rm{eff}}(E, \\varpi_k) \n",
    "\\Bigg( \\frac{(1+z_k)E}{E_{\\rm{min}}} \\Bigg)^{-\\alpha}, \n",
    "$$\n",
    "for each source, indexed by $k$. This factor has units of $m^2$, and we consider energy in GeV."
   ]
  },
  {
   "cell_type": "code",
   "execution_count": 12,
   "metadata": {
    "ExecuteTime": {
     "end_time": "2019-03-28T16:50:59.647590Z",
     "start_time": "2019-03-28T16:50:59.636772Z"
    }
   },
   "outputs": [],
   "source": [
    "import numpy as np\n",
    "import h5py\n",
    "from scipy.interpolate import RectBivariateSpline\n",
    "\n",
    "from matplotlib import pyplot as plt\n",
    "from mpl_toolkits.mplot3d import Axes3D"
   ]
  },
  {
   "cell_type": "markdown",
   "metadata": {},
   "source": [
    "## Effective area\n",
    "\n",
    "Use what you have from the `spline_dev/` examples!"
   ]
  },
  {
   "cell_type": "code",
   "execution_count": 5,
   "metadata": {
    "ExecuteTime": {
     "end_time": "2019-03-28T16:45:54.442143Z",
     "start_time": "2019-03-28T16:45:54.433933Z"
    }
   },
   "outputs": [],
   "source": [
    "# First, get the effective area\n",
    "with h5py.File('data/Aeff_shape.h5', 'r') as f:\n",
    "    log10E = f['log10E'].value\n",
    "    cosz = f['cosz'].value\n",
    "    log10Aeff = f['log10Aeff'].value"
   ]
  },
  {
   "cell_type": "code",
   "execution_count": 16,
   "metadata": {
    "ExecuteTime": {
     "end_time": "2019-03-28T16:52:17.370736Z",
     "start_time": "2019-03-28T16:52:17.300752Z"
    }
   },
   "outputs": [],
   "source": [
    "# Spline\n",
    "spline = RectBivariateSpline(log10E, cosz, log10Aeff)\n",
    "\n",
    "output = np.zeros((100,100))\n",
    "for i, E in enumerate(log10E):\n",
    "    for j, c in enumerate(cosz):\n",
    "        output[i][j] = spline(E, c)"
   ]
  },
  {
   "cell_type": "code",
   "execution_count": null,
   "metadata": {
    "ExecuteTime": {
     "end_time": "2019-03-28T16:55:30.499286Z",
     "start_time": "2019-03-28T16:55:30.131226Z"
    }
   },
   "outputs": [],
   "source": [
    "xx, yy = np.meshgrid(log10E, cosz)\n",
    "xx=xx.T\n",
    "yy=yy.T\n",
    "\n",
    "fig = plt.figure(figsize=(12, 8))\n",
    "ax = fig.add_subplot(111, projection='3d')\n",
    "surf = ax.plot_wireframe(xx, yy, output, rstride=5, cstride=5, color='blue')"
   ]
  },
  {
   "cell_type": "markdown",
   "metadata": {},
   "source": [
    "## Sources\n",
    "\n",
    "We can only precompute for a predefined set of redshifts and sky positions. Copy over what you do in the main code for now."
   ]
  },
  {
   "cell_type": "code",
   "execution_count": 27,
   "metadata": {
    "ExecuteTime": {
     "end_time": "2019-03-28T16:58:31.494144Z",
     "start_time": "2019-03-28T16:58:31.485821Z"
    }
   },
   "outputs": [],
   "source": [
    "# Use a set of sources uniform in comoving volume for a lambda-CDM universe.\n",
    "with h5py.File('data/test_SFR_pop.h5', 'r') as f:\n",
    "    Ns = f['output/Ns'].value\n",
    "    redshift = f['output/redshift'].value\n",
    "    position = f['output/position'].value\n",
    "    \n",
    "# Select sources within redshift zth to mimic catalogue\n",
    "zth = 1\n",
    "selection = np.where(redshift < zth)[0]"
   ]
  },
  {
   "cell_type": "code",
   "execution_count": 28,
   "metadata": {
    "ExecuteTime": {
     "end_time": "2019-03-28T16:58:31.810321Z",
     "start_time": "2019-03-28T16:58:31.797335Z"
    }
   },
   "outputs": [],
   "source": [
    "Ns = len(selection)\n",
    "redshift = np.array([redshift[_] for _ in selection])\n",
    "position = np.array([position[_] for _ in selection])\n",
    "\n",
    "# Try ordering sources by redshift, as larger z => lower F\n",
    "# This could help eliminate degeneracies in the mixture\n",
    "inds = redshift.argsort()[::-1]\n",
    "redshift = redshift[inds]\n",
    "position = position[inds]\n",
    "unit_vector = [p / np.linalg.norm(p) for p in position]\n",
    "\n",
    "# Add background redshift\n",
    "redshift = list(redshift) + [zth]"
   ]
  },
  {
   "cell_type": "markdown",
   "metadata": {},
   "source": [
    "## Computation\n",
    "\n",
    "For all the sources in the sample, produce a 1d grid to interpolate over"
   ]
  },
  {
   "cell_type": "code",
   "execution_count": 30,
   "metadata": {
    "ExecuteTime": {
     "end_time": "2019-03-28T17:03:09.697839Z",
     "start_time": "2019-03-28T17:03:09.694804Z"
    }
   },
   "outputs": [],
   "source": [
    "from scipy import integrate"
   ]
  },
  {
   "cell_type": "code",
   "execution_count": 34,
   "metadata": {
    "ExecuteTime": {
     "end_time": "2019-03-28T17:08:07.288093Z",
     "start_time": "2019-03-28T17:08:07.272817Z"
    }
   },
   "outputs": [],
   "source": [
    "def omega_to_cosz(omega):\n",
    "    return np.cos(np.pi - np.arccos(omega[2]))\n",
    "\n",
    "def integrand(E, spline, varpi, z, Emin, alpha):\n",
    "    log10E = np.log10(E) # log10GeV\n",
    "    cosz = omega_to_cosz(varpi)\n",
    "    Aeff = 10**(spline(log10E, cosz)) # m^2\n",
    "    return Aeff * ( ((1+z)*E) / Emin )**(-alpha)\n",
    "\n",
    "def get_eps(spline, varpi, z, Emin, alpha):\n",
    "    \n",
    "    \n",
    "    integ, err = integrate.quad(integrand, Emin, np.inf, \n",
    "                                args=(spline, varpi, z, Emin, alpha))\n",
    "    \n",
    "    return integ"
   ]
  },
  {
   "cell_type": "code",
   "execution_count": 49,
   "metadata": {
    "ExecuteTime": {
     "end_time": "2019-03-28T17:15:53.080431Z",
     "start_time": "2019-03-28T17:15:53.076369Z"
    }
   },
   "outputs": [],
   "source": [
    "# Set up params\n",
    "Emin = 1e3 # GeV, ie. 1 TeV\n",
    "alpha = np.linspace(1.5, 4, 50)"
   ]
  },
  {
   "cell_type": "code",
   "execution_count": 50,
   "metadata": {
    "ExecuteTime": {
     "end_time": "2019-03-28T17:16:21.450212Z",
     "start_time": "2019-03-28T17:15:54.308420Z"
    }
   },
   "outputs": [
    {
     "name": "stderr",
     "output_type": "stream",
     "text": [
      "/Users/fran/projects/bayes/lib/python3.6/site-packages/scipy/integrate/quadpack.py:364: IntegrationWarning: The algorithm does not converge.  Roundoff error is detected\n",
      "  in the extrapolation table.  It is assumed that the requested tolerance\n",
      "  cannot be achieved, and that the returned result (if full_output = 1) is \n",
      "  the best which can be obtained.\n",
      "  warnings.warn(msg, IntegrationWarning)\n",
      "/Users/fran/projects/bayes/lib/python3.6/site-packages/scipy/integrate/quadpack.py:364: IntegrationWarning: The maximum number of subdivisions (50) has been achieved.\n",
      "  If increasing the limit yields no improvement it is advised to analyze \n",
      "  the integrand in order to determine the difficulties.  If the position of a \n",
      "  local difficulty can be determined (singularity, discontinuity) one will \n",
      "  probably gain from splitting up the interval and calling the integrator \n",
      "  on the subranges.  Perhaps a special-purpose integrator should be used.\n",
      "  warnings.warn(msg, IntegrationWarning)\n"
     ]
    }
   ],
   "source": [
    "# Try for one source\n",
    "\n",
    "eps = []\n",
    "for varpi, z in zip(unit_vector, redshift):\n",
    "    eps_k = []\n",
    "    for a in alpha:\n",
    "        eps_k.append(get_eps(spline, varpi, z, Emin, a))\n",
    "    eps.append(eps_k)"
   ]
  },
  {
   "cell_type": "code",
   "execution_count": 51,
   "metadata": {
    "ExecuteTime": {
     "end_time": "2019-03-28T17:16:35.457850Z",
     "start_time": "2019-03-28T17:16:35.248872Z"
    }
   },
   "outputs": [
    {
     "data": {
      "image/png": "[encoded data removed]",
      "text/plain": [
       "<Figure size 432x288 with 1 Axes>"
      ]
     },
     "metadata": {},
     "output_type": "display_data"
    }
   ],
   "source": [
    "fig, ax = plt.subplots()\n",
    "for eps_k in eps:\n",
    "    ax.plot(alpha, eps_k)"
   ]
  },
  {
   "cell_type": "code",
   "execution_count": 52,
   "metadata": {
    "ExecuteTime": {
     "end_time": "2019-03-28T17:18:33.226137Z",
     "start_time": "2019-03-28T17:18:33.207122Z"
    }
   },
   "outputs": [],
   "source": [
    "with h5py.File('precomputed_eps.h5', 'w') as f:\n",
    "    f.create_dataset('alpha_grid', data=alpha)\n",
    "    f.create_dataset('eps', data=eps)\n",
    "    f.create_dataset('varpi', data=unit_vector)\n",
    "    f.create_dataset('redshift', data=redshift)\n",
    "    f.create_dataset('Emin', data=Emin)"
   ]
  },
  {
   "cell_type": "code",
   "execution_count": null,
   "metadata": {},
   "outputs": [],
   "source": []
  }
 ],
 "metadata": {
  "kernelspec": {
   "display_name": "Python (bayes)",
   "language": "python",
   "name": "bayes"
  },
  "language_info": {
   "codemirror_mode": {
    "name": "ipython",
    "version": 3
   },
   "file_extension": ".py",
   "mimetype": "text/x-python",
   "name": "python",
   "nbconvert_exporter": "python",
   "pygments_lexer": "ipython3",
   "version": "3.6.4"
  }
 },
 "nbformat": 4,
 "nbformat_minor": 2
}
