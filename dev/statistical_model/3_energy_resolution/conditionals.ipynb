{
 "cells": [
  {
   "cell_type": "markdown",
   "metadata": {},
   "source": [
    "# $P(E_{\\rm{det}} | E)$\n",
    "\n",
    "Figuring out the implementation in Stan."
   ]
  },
  {
   "cell_type": "code",
   "execution_count": null,
   "metadata": {
    "ExecuteTime": {
     "end_time": "2019-04-30T17:28:05.374925Z",
     "start_time": "2019-04-30T17:28:03.304918Z"
    }
   },
   "outputs": [],
   "source": [
    "import numpy as np\n",
    "from scipy.interpolate import RectBivariateSpline\n",
    "\n",
    "from matplotlib import pyplot as plt\n",
    "import stan_utility"
   ]
  },
  {
   "cell_type": "markdown",
   "metadata": {},
   "source": [
    "## Load input from cascade_model"
   ]
  },
  {
   "cell_type": "code",
   "execution_count": null,
   "metadata": {
    "ExecuteTime": {
     "end_time": "2019-04-30T17:28:05.380836Z",
     "start_time": "2019-04-30T17:28:05.376914Z"
    }
   },
   "outputs": [],
   "source": [
    "from energy_conditional import EnergyConditional"
   ]
  },
  {
   "cell_type": "code",
   "execution_count": null,
   "metadata": {
    "ExecuteTime": {
     "end_time": "2019-04-30T17:28:06.708763Z",
     "start_time": "2019-04-30T17:28:05.383684Z"
    }
   },
   "outputs": [],
   "source": [
    "cond_file = ('data/conditional_2D_nue_CC_simulation_'\n",
    "             +'gamma_1.0_lEmin_3.0_lEmax_7.0_fixed.txt')\n",
    "energy_conditional = EnergyConditional(cond_file)\n",
    "pdf_spline = energy_conditional.spline"
   ]
  },
  {
   "cell_type": "code",
   "execution_count": null,
   "metadata": {
    "ExecuteTime": {
     "end_time": "2019-04-30T17:28:06.982131Z",
     "start_time": "2019-04-30T17:28:06.710612Z"
    }
   },
   "outputs": [],
   "source": [
    "log10_Enu = np.linspace(3.0, 7.0, 100)\n",
    "log10_Edep = np.linspace(1.0, 7.0, 100)\n",
    "\n",
    "spline_val = np.zeros((100, 100))\n",
    "for i, Enu in enumerate(log10_Enu):\n",
    "    for j, Edep in enumerate(log10_Edep):\n",
    "        spline_val[i][j] = pdf_spline(Enu, Edep)\n",
    "        if spline_val[i][j] < -10:\n",
    "            spline_val[i][j] = -10\n",
    "        \n",
    "        \n",
    "fig, ax = plt.subplots()\n",
    "ax.contourf(log10_Enu, log10_Edep, spline_val.T)\n",
    "ax.set_xlabel('log10(Enu / GeV)')\n",
    "ax.set_ylabel('log10(Edep / Gev)')\n",
    "ax.set_title('P(Edep | Enu)');"
   ]
  },
  {
   "cell_type": "markdown",
   "metadata": {},
   "source": [
    "## Normalisation\n",
    "\n",
    "Would want to split into Enu bins and normalise along Edep? Pick Enu = 1e5 GeV as an example."
   ]
  },
  {
   "cell_type": "code",
   "execution_count": 5,
   "metadata": {
    "ExecuteTime": {
     "end_time": "2019-04-30T17:28:07.225491Z",
     "start_time": "2019-04-30T17:28:06.989639Z"
    }
   },
   "outputs": [
    {
     "name": "stderr",
     "output_type": "stream",
     "text": [
      "/Users/fran/projects/bayes/lib/python3.6/site-packages/matplotlib/axes/_axes.py:6462: UserWarning: The 'normed' kwarg is deprecated, and has been replaced by the 'density' kwarg.\n",
      "  warnings.warn(\"The 'normed' kwarg is deprecated, and has been \"\n"
     ]
    },
    {
     "data": {
      "text/plain": [
       "(4.5, 5.5)"
      ]
     },
     "execution_count": 5,
     "metadata": {},
     "output_type": "execute_result"
    },
    {
     "data": {
      "image/png": "[encoded data removed]",
      "text/plain": [
       "<Figure size 432x288 with 1 Axes>"
      ]
     },
     "metadata": {},
     "output_type": "display_data"
    }
   ],
   "source": [
    "log_Enu = 5.0 # Gev\n",
    "log_Edep = np.linspace(1.0, 7.0, 100)\n",
    "\n",
    "prob = []\n",
    "for E in log_Edep:\n",
    "    p = 10**pdf_spline(log_Enu, E)[0][0]\n",
    "    if p < 1e-5:\n",
    "        p = 0\n",
    "    prob.append(p)\n",
    "\n",
    "norm = np.trapz(prob, log10_Edep)\n",
    "    \n",
    "# Compare with width of Gaussian currently used in Stan\n",
    "s = np.random.normal(10**5, 0.2 * 10**5, 1000)\n",
    "\n",
    "fig, ax = plt.subplots()\n",
    "ax.hist(np.log10(s), normed=True, alpha=0.7)\n",
    "ax.plot(log_Edep, np.array(prob) / norm)\n",
    "ax.set_xlim(4.5, 5.5)"
   ]
  },
  {
   "cell_type": "markdown",
   "metadata": {},
   "source": [
    "## Sampling from the distribution\n",
    "Need to have a function which returns normalised dist for a given value of Enu. This is fairly easy in python. Could use spline + np.trapz in Stan to achieve the same?"
   ]
  },
  {
   "cell_type": "code",
   "execution_count": 6,
   "metadata": {
    "ExecuteTime": {
     "end_time": "2019-04-30T17:28:07.262705Z",
     "start_time": "2019-04-30T17:28:07.227340Z"
    }
   },
   "outputs": [],
   "source": [
    "def my_trapz(y_values, x_values):\n",
    "    N = len(x_values)\n",
    "    \n",
    "    I = []\n",
    "    for i in range(N-1):\n",
    "        integ = 0.5 * (x_values[i+1] - x_values[i]) * (y_values[i]+y_values[i+1])\n",
    "        I.append(integ)\n",
    "        \n",
    "    return sum(I)\n",
    "\n",
    "def sample_Edet(Enu):\n",
    "    log10_Enu = np.log10(Enu)\n",
    "    \n",
    "    # Find normalisation and maximum\n",
    "    log10_Edet_grid = np.linspace(1.0, 7.0, 100)\n",
    "    p_grid = [10**pdf_spline(log10_Enu, _)[0][0] for _ in log10_Edet_grid]\n",
    "    norm = my_trapz(p_grid, log10_Edet_grid)\n",
    "    p_max = max(np.array(p_grid) / norm)\n",
    "    \n",
    "    # Sampling\n",
    "    accepted = False\n",
    "    while not accepted:\n",
    "        log10_Edet = np.random.uniform(1, 7)\n",
    "        p = np.random.uniform(0, p_max)\n",
    "        if p <= 10**pdf_spline(log10_Enu, log10_Edet)[0][0] / norm:\n",
    "            accepted = True\n",
    "            \n",
    "    return 10**log10_Edet"
   ]
  },
  {
   "cell_type": "code",
   "execution_count": 7,
   "metadata": {
    "ExecuteTime": {
     "end_time": "2019-04-30T17:28:08.493021Z",
     "start_time": "2019-04-30T17:28:07.265106Z"
    }
   },
   "outputs": [
    {
     "data": {
      "image/png": "[encoded data removed]",
      "text/plain": [
       "<Figure size 432x288 with 1 Axes>"
      ]
     },
     "metadata": {},
     "output_type": "display_data"
    }
   ],
   "source": [
    "# Compare distribution & samples\n",
    "log10_Edet_samples = [np.log10(sample_Edet(1e5)) for i in range(1000)]\n",
    "\n",
    "fig, ax = plt.subplots()\n",
    "ax.hist(log10_Edet_samples, density=True, alpha=0.7)\n",
    "ax.plot(log_Edep, np.array(prob) / norm)\n",
    "ax.set_xlim(4.5, 5.5);"
   ]
  },
  {
   "cell_type": "markdown",
   "metadata": {},
   "source": [
    "## Test stan implementation"
   ]
  },
  {
   "cell_type": "code",
   "execution_count": 8,
   "metadata": {
    "ExecuteTime": {
     "end_time": "2019-04-30T17:28:08.514665Z",
     "start_time": "2019-04-30T17:28:08.495660Z"
    }
   },
   "outputs": [
    {
     "name": "stdout",
     "output_type": "stream",
     "text": [
      "Using cached StanModel\n"
     ]
    }
   ],
   "source": [
    "# Compile Stan model\n",
    "sim = stan_utility.compile_model(filename = 'stan/test_Eres.stan', \n",
    "                                 model_name = 'test_Eres_sim', include_paths = 'stan/')"
   ]
  },
  {
   "cell_type": "code",
   "execution_count": 9,
   "metadata": {
    "ExecuteTime": {
     "end_time": "2019-04-30T17:28:08.526499Z",
     "start_time": "2019-04-30T17:28:08.517664Z"
    }
   },
   "outputs": [],
   "source": [
    "# Get input for spline evaluation in Stan\n",
    "E_p = 1  # spline degree \n",
    "E_xknots, E_yknots = energy_conditional.spline.get_knots()\n",
    "E_xknots = np.unique(E_xknots)\n",
    "E_yknots = np.unique(E_yknots)\n",
    "E_Nx = len(E_xknots)+E_p-1 \n",
    "E_Ny = len(E_yknots)+E_p-1 \n",
    "E_c = energy_conditional.spline.get_coeffs()\n",
    "E_c = E_c.reshape(E_Nx, E_Ny)"
   ]
  },
  {
   "cell_type": "code",
   "execution_count": 21,
   "metadata": {
    "ExecuteTime": {
     "end_time": "2019-04-30T17:30:41.532153Z",
     "start_time": "2019-04-30T17:30:41.524442Z"
    }
   },
   "outputs": [],
   "source": [
    "sim_input = {}\n",
    "sim_input['N'] = 100\n",
    "sim_input['E'] = 1e5\n",
    "sim_input['E_p'] = E_p\n",
    "sim_input['E_Lknots_x'] = len(E_xknots)\n",
    "sim_input['E_Lknots_y'] = len(E_yknots)\n",
    "sim_input['E_xknots'] = E_xknots\n",
    "sim_input['E_yknots'] = E_yknots\n",
    "sim_input['E_c'] = E_c"
   ]
  },
  {
   "cell_type": "code",
   "execution_count": 22,
   "metadata": {
    "ExecuteTime": {
     "end_time": "2019-04-30T17:31:25.420453Z",
     "start_time": "2019-04-30T17:30:42.027999Z"
    }
   },
   "outputs": [],
   "source": [
    "# Simulate\n",
    "simulation = sim.sampling(data=sim_input, iter=1, chains=1, \n",
    "                          algorithm=\"Fixed_param\")"
   ]
  },
  {
   "cell_type": "code",
   "execution_count": 23,
   "metadata": {
    "ExecuteTime": {
     "end_time": "2019-04-30T17:32:39.868663Z",
     "start_time": "2019-04-30T17:32:39.706795Z"
    }
   },
   "outputs": [
    {
     "data": {
      "text/plain": [
       "(4.5, 5.5)"
      ]
     },
     "execution_count": 23,
     "metadata": {},
     "output_type": "execute_result"
    },
    {
     "data": {
      "image/png": "[encoded data removed]",
      "text/plain": [
       "<Figure size 432x288 with 1 Axes>"
      ]
     },
     "metadata": {},
     "output_type": "display_data"
    }
   ],
   "source": [
    "# Extract\n",
    "Edet = simulation.extract(['Edet'])['Edet'][0]\n",
    "lprob = simulation.extract(['lprob'])['lprob'][0]\n",
    "\n",
    "# Sim implementation\n",
    "fig, ax = plt.subplots()\n",
    "ax.hist(np.log10(Edet), density=True, alpha=0.7)\n",
    "ax.plot(log_Edep, np.array(prob) / norm)\n",
    "ax.set_xlim(4.5, 5.5)"
   ]
  },
  {
   "cell_type": "code",
   "execution_count": 25,
   "metadata": {
    "ExecuteTime": {
     "end_time": "2019-04-30T17:33:24.937087Z",
     "start_time": "2019-04-30T17:33:24.792414Z"
    }
   },
   "outputs": [
    {
     "data": {
      "text/plain": [
       "(4.5, 5.5)"
      ]
     },
     "execution_count": 25,
     "metadata": {},
     "output_type": "execute_result"
    },
    {
     "data": {
      "image/png": "[encoded data removed]",
      "text/plain": [
       "<Figure size 432x288 with 1 Axes>"
      ]
     },
     "metadata": {},
     "output_type": "display_data"
    }
   ],
   "source": [
    "# Fit implementation\n",
    "fig, ax = plt.subplots()\n",
    "ax.scatter(np.log10(Edet), np.exp(lprob))\n",
    "ax.set_xlim(4.5, 5.5)"
   ]
  },
  {
   "cell_type": "code",
   "execution_count": null,
   "metadata": {},
   "outputs": [],
   "source": []
  }
 ],
 "metadata": {
  "kernelspec": {
   "display_name": "Python (bayes)",
   "language": "python",
   "name": "bayes"
  },
  "language_info": {
   "codemirror_mode": {
    "name": "ipython",
    "version": 3
   },
   "file_extension": ".py",
   "mimetype": "text/x-python",
   "name": "python",
   "nbconvert_exporter": "python",
   "pygments_lexer": "ipython3",
   "version": "3.6.4"
  }
 },
 "nbformat": 4,
 "nbformat_minor": 2
}
