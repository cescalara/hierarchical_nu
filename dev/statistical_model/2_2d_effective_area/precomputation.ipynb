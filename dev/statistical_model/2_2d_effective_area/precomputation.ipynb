{
 "cells": [
  {
   "cell_type": "markdown",
   "metadata": {},
   "source": [
    "# Precomputation of exposure integral\n",
    "\n",
    "Now that we implement the effective area as a function of energy and zenith angle, can keep the fit fast by precomputing the exposure factor for each source. This is possible if assuming *known* source positions and redshifts.\n",
    "\n",
    "For now, we assume that the background has some fixed redshift. This is necessary in order to compute the energy losses in the simulation. This is something that will probably be changed in the next step as we include selection effects and try to do something more realistic. "
   ]
  },
  {
   "cell_type": "markdown",
   "metadata": {},
   "source": [
    "## What is the exposure integral?\n",
    "\n",
    "As part of the simulation and fit, we want to compute the expected number of detected neutrinos from each source component. This can be written as $\\bar{N}_k = F_k \\epsilon_k$ where $F_k = \\frac{Q}{4 \\pi d_l(z_k)^2}$ and the exposure factor is \n",
    "$$\n",
    "\\epsilon_k = T \\frac{(\\alpha-1)}{E_{\\rm{min}}} \\int_{E_{\\rm{min}}}^\\infty {\\rm{d}}E \\ A_{\\rm{eff}}(E, \\varpi_k) \n",
    "\\Bigg( \\frac{(1+z_k)E}{E_{\\rm{min}}} \\Bigg)^{-\\alpha} = T \\frac{(\\alpha-1)}{E_{\\rm{min}}} I_k, \n",
    "$$\n",
    "where $k$ is the index for each source (see likelihood derivation for details).\n",
    "\n",
    "Here we will compute $I_k$ for a range of $\\alpha$ so that we can perform fast linear interpolation in the fit for unknown $\\alpha$."
   ]
  },
  {
   "cell_type": "code",
   "execution_count": 1,
   "metadata": {
    "ExecuteTime": {
     "end_time": "2019-05-02T17:42:13.524562Z",
     "start_time": "2019-05-02T17:42:12.934872Z"
    }
   },
   "outputs": [
    {
     "name": "stderr",
     "output_type": "stream",
     "text": [
      "/Users/fran/projects/bayes/lib/python3.6/site-packages/h5py/__init__.py:36: FutureWarning: Conversion of the second argument of issubdtype from `float` to `np.floating` is deprecated. In future, it will be treated as `np.float64 == np.dtype(float).type`.\n",
      "  from ._conv import register_converters as _register_converters\n"
     ]
    }
   ],
   "source": [
    "import numpy as np\n",
    "import h5py\n",
    "from scipy.interpolate import RectBivariateSpline\n",
    "\n",
    "from matplotlib import pyplot as plt\n",
    "from mpl_toolkits.mplot3d import Axes3D"
   ]
  },
  {
   "cell_type": "markdown",
   "metadata": {},
   "source": [
    "### Effective area\n",
    "\n",
    "Use the module provided by Martin & Hans to produce a spline with scipy (same code, just a few edits to run in python 3)."
   ]
  },
  {
   "cell_type": "code",
   "execution_count": 2,
   "metadata": {
    "ExecuteTime": {
     "end_time": "2019-05-02T17:42:15.057474Z",
     "start_time": "2019-05-02T17:42:14.325034Z"
    }
   },
   "outputs": [
    {
     "name": "stdout",
     "output_type": "stream",
     "text": [
      "... creating effective area spline for interaction nue_CC , done!\n"
     ]
    }
   ],
   "source": [
    "from aeff_calculator.aeff_calculator import effective_area\n",
    "\n",
    "aeff = effective_area(\"nue_CC\")"
   ]
  },
  {
   "cell_type": "markdown",
   "metadata": {
    "ExecuteTime": {
     "end_time": "2019-04-26T14:49:58.136132Z",
     "start_time": "2019-04-26T14:49:56.750460Z"
    }
   },
   "source": [
    "### Sources\n",
    "\n",
    "Use a set of sources sampled as having redshift uniform in comoving volume for a $\\Lambda CDM$ universe."
   ]
  },
  {
   "cell_type": "code",
   "execution_count": 3,
   "metadata": {
    "ExecuteTime": {
     "end_time": "2019-05-02T17:42:15.950340Z",
     "start_time": "2019-05-02T17:42:15.931374Z"
    }
   },
   "outputs": [],
   "source": [
    "with h5py.File('../data/test_SFR_pop.h5', 'r') as f:\n",
    "    Ns = f['output/Ns'].value\n",
    "    redshift = f['output/redshift'].value\n",
    "    position = f['output/position'].value\n",
    "    \n",
    "# Select sources within redshift zth to mimic catalogue\n",
    "zth = 1\n",
    "selection = np.where(redshift < zth)[0]\n",
    "Ns = len(selection)\n",
    "redshift = np.array([redshift[_] for _ in selection])\n",
    "position = np.array([position[_] for _ in selection])\n",
    "\n",
    "# Add background redshift\n",
    "source_redshift = list(redshift) \n",
    "bg_redshift = zth"
   ]
  },
  {
   "cell_type": "markdown",
   "metadata": {
    "ExecuteTime": {
     "end_time": "2019-04-26T14:55:15.852904Z",
     "start_time": "2019-04-26T14:55:15.849144Z"
    }
   },
   "source": [
    "### Computation"
   ]
  },
  {
   "cell_type": "code",
   "execution_count": 4,
   "metadata": {
    "ExecuteTime": {
     "end_time": "2019-05-02T17:42:18.024981Z",
     "start_time": "2019-05-02T17:42:18.015058Z"
    }
   },
   "outputs": [
    {
     "name": "stderr",
     "output_type": "stream",
     "text": [
      "/Users/fran/projects/bayes/lib/python3.6/site-packages/tqdm/autonotebook/__init__.py:14: TqdmExperimentalWarning: Using `tqdm.autonotebook.tqdm` in notebook mode. Use `tqdm.tqdm` instead to force console mode (e.g. in jupyter console)\n",
      "  \" (e.g. in jupyter console)\", TqdmExperimentalWarning)\n"
     ]
    }
   ],
   "source": [
    "from exposure_integral import ExposureIntegral"
   ]
  },
  {
   "cell_type": "code",
   "execution_count": 5,
   "metadata": {
    "ExecuteTime": {
     "end_time": "2019-05-02T17:46:46.523712Z",
     "start_time": "2019-05-02T17:42:22.304536Z"
    }
   },
   "outputs": [
    {
     "data": {
      "application/vnd.jupyter.widget-view+json": {
       "model_id": "fcfdaffaf9dd490c81168196bbb20b1f",
       "version_major": 2,
       "version_minor": 0
      },
      "text/plain": [
       "HBox(children=(IntProgress(value=0, description='Source integrals', max=37, style=ProgressStyle(description_wi…"
      ]
     },
     "metadata": {},
     "output_type": "display_data"
    },
    {
     "name": "stdout",
     "output_type": "stream",
     "text": [
      "\n"
     ]
    },
    {
     "data": {
      "application/vnd.jupyter.widget-view+json": {
       "model_id": "d2f82e2f2cf0421ca59cb557934e4026",
       "version_major": 2,
       "version_minor": 0
      },
      "text/plain": [
       "HBox(children=(IntProgress(value=0, description='Background integrals', max=50, style=ProgressStyle(descriptio…"
      ]
     },
     "metadata": {},
     "output_type": "display_data"
    },
    {
     "name": "stdout",
     "output_type": "stream",
     "text": [
      "\n"
     ]
    }
   ],
   "source": [
    "# Define minimum energy\n",
    "Emin = 1.0E4 # GeV\n",
    "\n",
    "exposure_integral = ExposureIntegral(source_redshift, position, bg_redshift, \n",
    "                                     aeff, Emin,\n",
    "                                     filename='precomputed_integral.h5',\n",
    "                                     n_points=50)"
   ]
  },
  {
   "cell_type": "code",
   "execution_count": 6,
   "metadata": {
    "ExecuteTime": {
     "end_time": "2019-05-02T17:46:46.802046Z",
     "start_time": "2019-05-02T17:46:46.526305Z"
    }
   },
   "outputs": [
    {
     "data": {
      "image/png": "[encoded data removed]",
      "text/plain": [
       "<Figure size 432x288 with 1 Axes>"
      ]
     },
     "metadata": {},
     "output_type": "display_data"
    }
   ],
   "source": [
    "fig, ax = plt.subplots()\n",
    "for I_k in exposure_integral.integral_grid:\n",
    "    ax.scatter(exposure_integral.alpha_grid, I_k)"
   ]
  }
 ],
 "metadata": {
  "kernelspec": {
   "display_name": "Python (bayes)",
   "language": "python",
   "name": "bayes"
  },
  "language_info": {
   "codemirror_mode": {
    "name": "ipython",
    "version": 3
   },
   "file_extension": ".py",
   "mimetype": "text/x-python",
   "name": "python",
   "nbconvert_exporter": "python",
   "pygments_lexer": "ipython3",
   "version": "3.6.4"
  }
 },
 "nbformat": 4,
 "nbformat_minor": 2
}
