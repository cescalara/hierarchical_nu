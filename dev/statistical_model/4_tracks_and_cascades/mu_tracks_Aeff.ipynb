{
 "cells": [
  {
   "cell_type": "markdown",
   "metadata": {},
   "source": [
    "# Effective area to muon tracks"
   ]
  },
  {
   "cell_type": "code",
   "execution_count": 14,
   "metadata": {
    "ExecuteTime": {
     "end_time": "2019-06-17T16:50:36.438121Z",
     "start_time": "2019-06-17T16:50:36.435230Z"
    }
   },
   "outputs": [],
   "source": [
    "import numpy as np\n",
    "import h5py\n",
    "from matplotlib import pyplot as plt"
   ]
  },
  {
   "cell_type": "code",
   "execution_count": 44,
   "metadata": {
    "ExecuteTime": {
     "end_time": "2019-06-18T06:04:22.454747Z",
     "start_time": "2019-06-18T06:04:22.437492Z"
    }
   },
   "outputs": [],
   "source": [
    "with h5py.File(\"aeff_input_tracks/effective_area.h5\", 'r') as f:\n",
    "    area10 = f['2010/nu_mu/area'][()]\n",
    "    bin_edges_0 = f['2010/nu_mu/bin_edges_0'][()]\n",
    "    bin_edges_1 = f['2010/nu_mu/bin_edges_1'][()]"
   ]
  },
  {
   "cell_type": "code",
   "execution_count": 49,
   "metadata": {
    "ExecuteTime": {
     "end_time": "2019-06-18T06:14:49.927967Z",
     "start_time": "2019-06-18T06:14:49.920599Z"
    }
   },
   "outputs": [
    {
     "data": {
      "text/plain": [
       "array([1.00000000e+02, 1.05925373e+02, 1.12201845e+02, 1.18850223e+02,\n",
       "       1.25892541e+02, 1.33352143e+02, 1.41253754e+02, 1.49623566e+02,\n",
       "       1.58489319e+02, 1.67880402e+02, 1.77827941e+02, 1.88364909e+02,\n",
       "       1.99526231e+02, 2.11348904e+02, 2.23872114e+02, 2.37137371e+02,\n",
       "       2.51188643e+02, 2.66072506e+02, 2.81838293e+02, 2.98538262e+02,\n",
       "       3.16227766e+02, 3.34965439e+02, 3.54813389e+02, 3.75837404e+02,\n",
       "       3.98107171e+02, 4.21696503e+02, 4.46683592e+02, 4.73151259e+02,\n",
       "       5.01187234e+02, 5.30884444e+02, 5.62341325e+02, 5.95662144e+02,\n",
       "       6.30957344e+02, 6.68343918e+02, 7.07945784e+02, 7.49894209e+02,\n",
       "       7.94328235e+02, 8.41395142e+02, 8.91250938e+02, 9.44060876e+02,\n",
       "       1.00000000e+03, 1.05925373e+03, 1.12201845e+03, 1.18850223e+03,\n",
       "       1.25892541e+03, 1.33352143e+03, 1.41253754e+03, 1.49623566e+03,\n",
       "       1.58489319e+03, 1.67880402e+03, 1.77827941e+03, 1.88364909e+03,\n",
       "       1.99526231e+03, 2.11348904e+03, 2.23872114e+03, 2.37137371e+03,\n",
       "       2.51188643e+03, 2.66072506e+03, 2.81838293e+03, 2.98538262e+03,\n",
       "       3.16227766e+03, 3.34965439e+03, 3.54813389e+03, 3.75837404e+03,\n",
       "       3.98107171e+03, 4.21696503e+03, 4.46683592e+03, 4.73151259e+03,\n",
       "       5.01187234e+03, 5.30884444e+03, 5.62341325e+03, 5.95662144e+03,\n",
       "       6.30957344e+03, 6.68343918e+03, 7.07945784e+03, 7.49894209e+03,\n",
       "       7.94328235e+03, 8.41395142e+03, 8.91250938e+03, 9.44060876e+03,\n",
       "       1.00000000e+04, 1.05925373e+04, 1.12201845e+04, 1.18850223e+04,\n",
       "       1.25892541e+04, 1.33352143e+04, 1.41253754e+04, 1.49623566e+04,\n",
       "       1.58489319e+04, 1.67880402e+04, 1.77827941e+04, 1.88364909e+04,\n",
       "       1.99526231e+04, 2.11348904e+04, 2.23872114e+04, 2.37137371e+04,\n",
       "       2.51188643e+04, 2.66072506e+04, 2.81838293e+04, 2.98538262e+04,\n",
       "       3.16227766e+04, 3.34965439e+04, 3.54813389e+04, 3.75837404e+04,\n",
       "       3.98107171e+04, 4.21696503e+04, 4.46683592e+04, 4.73151259e+04,\n",
       "       5.01187234e+04, 5.30884444e+04, 5.62341325e+04, 5.95662144e+04,\n",
       "       6.30957344e+04, 6.68343918e+04, 7.07945784e+04, 7.49894209e+04,\n",
       "       7.94328235e+04, 8.41395142e+04, 8.91250938e+04, 9.44060876e+04,\n",
       "       1.00000000e+05, 1.05925373e+05, 1.12201845e+05, 1.18850223e+05,\n",
       "       1.25892541e+05, 1.33352143e+05, 1.41253754e+05, 1.49623566e+05,\n",
       "       1.58489319e+05, 1.67880402e+05, 1.77827941e+05, 1.88364909e+05,\n",
       "       1.99526231e+05, 2.11348904e+05, 2.23872114e+05, 2.37137371e+05,\n",
       "       2.51188643e+05, 2.66072506e+05, 2.81838293e+05, 2.98538262e+05,\n",
       "       3.16227766e+05, 3.34965439e+05, 3.54813389e+05, 3.75837404e+05,\n",
       "       3.98107171e+05, 4.21696503e+05, 4.46683592e+05, 4.73151259e+05,\n",
       "       5.01187234e+05, 5.30884444e+05, 5.62341325e+05, 5.95662144e+05,\n",
       "       6.30957344e+05, 6.68343918e+05, 7.07945784e+05, 7.49894209e+05,\n",
       "       7.94328235e+05, 8.41395142e+05, 8.91250938e+05, 9.44060876e+05,\n",
       "       1.00000000e+06, 1.05925373e+06, 1.12201845e+06, 1.18850223e+06,\n",
       "       1.25892541e+06, 1.33352143e+06, 1.41253754e+06, 1.49623566e+06,\n",
       "       1.58489319e+06, 1.67880402e+06, 1.77827941e+06, 1.88364909e+06,\n",
       "       1.99526231e+06, 2.11348904e+06, 2.23872114e+06, 2.37137371e+06,\n",
       "       2.51188643e+06, 2.66072506e+06, 2.81838293e+06, 2.98538262e+06,\n",
       "       3.16227766e+06, 3.34965439e+06, 3.54813389e+06, 3.75837404e+06,\n",
       "       3.98107171e+06, 4.21696503e+06, 4.46683592e+06, 4.73151259e+06,\n",
       "       5.01187234e+06, 5.30884444e+06, 5.62341325e+06, 5.95662144e+06,\n",
       "       6.30957344e+06, 6.68343918e+06, 7.07945784e+06, 7.49894209e+06,\n",
       "       7.94328235e+06, 8.41395142e+06, 8.91250938e+06, 9.44060876e+06,\n",
       "       1.00000000e+07, 1.05925373e+07, 1.12201845e+07, 1.18850223e+07,\n",
       "       1.25892541e+07, 1.33352143e+07, 1.41253754e+07, 1.49623566e+07,\n",
       "       1.58489319e+07, 1.67880402e+07, 1.77827941e+07, 1.88364909e+07,\n",
       "       1.99526231e+07, 2.11348904e+07, 2.23872114e+07, 2.37137371e+07,\n",
       "       2.51188643e+07, 2.66072506e+07, 2.81838293e+07, 2.98538262e+07,\n",
       "       3.16227766e+07, 3.34965439e+07, 3.54813389e+07, 3.75837404e+07,\n",
       "       3.98107171e+07, 4.21696503e+07, 4.46683592e+07, 4.73151259e+07,\n",
       "       5.01187234e+07, 5.30884444e+07, 5.62341325e+07, 5.95662144e+07,\n",
       "       6.30957344e+07, 6.68343918e+07, 7.07945784e+07, 7.49894209e+07,\n",
       "       7.94328235e+07, 8.41395142e+07, 8.91250938e+07, 9.44060876e+07,\n",
       "       1.00000000e+08, 1.05925373e+08, 1.12201845e+08, 1.18850223e+08,\n",
       "       1.25892541e+08, 1.33352143e+08, 1.41253754e+08, 1.49623566e+08,\n",
       "       1.58489319e+08, 1.67880402e+08, 1.77827941e+08, 1.88364909e+08,\n",
       "       1.99526231e+08, 2.11348904e+08, 2.23872114e+08, 2.37137371e+08,\n",
       "       2.51188643e+08, 2.66072506e+08, 2.81838293e+08, 2.98538262e+08,\n",
       "       3.16227766e+08, 3.34965439e+08, 3.54813389e+08, 3.75837404e+08,\n",
       "       3.98107171e+08, 4.21696503e+08, 4.46683592e+08, 4.73151259e+08,\n",
       "       5.01187234e+08, 5.30884444e+08, 5.62341325e+08, 5.95662144e+08,\n",
       "       6.30957344e+08, 6.68343918e+08, 7.07945784e+08, 7.49894209e+08,\n",
       "       7.94328235e+08, 8.41395142e+08, 8.91250938e+08, 9.44060876e+08,\n",
       "       1.00000000e+09])"
      ]
     },
     "execution_count": 49,
     "metadata": {},
     "output_type": "execute_result"
    }
   ],
   "source": [
    "bin_edges_0"
   ]
  },
  {
   "cell_type": "code",
   "execution_count": 48,
   "metadata": {
    "ExecuteTime": {
     "end_time": "2019-06-18T06:05:24.989691Z",
     "start_time": "2019-06-18T06:05:24.811718Z"
    }
   },
   "outputs": [
    {
     "name": "stderr",
     "output_type": "stream",
     "text": [
      "/Users/fran/.virtualenvs/bayes/lib/python3.7/site-packages/ipykernel_launcher.py:3: RuntimeWarning: divide by zero encountered in log10\n",
      "  This is separate from the ipykernel package so we can avoid doing imports until\n"
     ]
    },
    {
     "data": {
      "text/plain": [
       "<matplotlib.image.AxesImage at 0x114763128>"
      ]
     },
     "execution_count": 48,
     "metadata": {},
     "output_type": "execute_result"
    },
    {
     "data": {
      "image/png": "[encoded data removed]",
      "text/plain": [
       "<Figure size 360x360 with 1 Axes>"
      ]
     },
     "metadata": {
      "needs_background": "light"
     },
     "output_type": "display_data"
    }
   ],
   "source": [
    "fig, ax = plt.subplots()\n",
    "fig.set_size_inches((5,5))\n",
    "ax.imshow(np.log10(np.sum(area10, axis=2)).T, aspect='auto', origin='lower')\n"
   ]
  },
  {
   "cell_type": "code",
   "execution_count": null,
   "metadata": {},
   "outputs": [],
   "source": []
  },
  {
   "cell_type": "code",
   "execution_count": null,
   "metadata": {},
   "outputs": [],
   "source": []
  }
 ],
 "metadata": {
  "kernelspec": {
   "display_name": "bayes",
   "language": "python",
   "name": "bayes"
  },
  "language_info": {
   "codemirror_mode": {
    "name": "ipython",
    "version": 3
   },
   "file_extension": ".py",
   "mimetype": "text/x-python",
   "name": "python",
   "nbconvert_exporter": "python",
   "pygments_lexer": "ipython3",
   "version": "3.7.3"
  }
 },
 "nbformat": 4,
 "nbformat_minor": 2
}
