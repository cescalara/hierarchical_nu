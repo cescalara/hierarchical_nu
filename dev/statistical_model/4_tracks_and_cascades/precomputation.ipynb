{
 "cells": [
  {
   "cell_type": "markdown",
   "metadata": {},
   "source": [
    "# Precomputation of exposure integral\n",
    "\n",
    "Now that we implement the effective area as a function of energy and zenith angle, can keep the fit fast by precomputing the exposure factor for each source. This is possible if assuming *known* source positions and redshifts.\n",
    "\n",
    "For now, we assume that the background has some fixed redshift. This is necessary in order to compute the energy losses in the simulation. This is something that will probably be changed in the next step as we include selection effects and try to do something more realistic. "
   ]
  },
  {
   "cell_type": "markdown",
   "metadata": {},
   "source": [
    "## What is the exposure integral?\n",
    "\n",
    "As part of the simulation and fit, we want to compute the expected number of detected neutrinos from each source component. This can be written as $\\bar{N}_k = F_k \\epsilon_k$ where $F_k = \\frac{Q}{4 \\pi d_l(z_k)^2}$ and the exposure factor is \n",
    "$$\n",
    "\\epsilon_k = T \\frac{(\\alpha-1)}{E_{\\rm{min}}} \\int_{E_{\\rm{min}}}^\\infty {\\rm{d}}E \\ A_{\\rm{eff}}(E, \\varpi_k) \n",
    "\\Bigg( \\frac{(1+z_k)E}{E_{\\rm{min}}} \\Bigg)^{-\\alpha} = T \\frac{(\\alpha-1)}{E_{\\rm{min}}} I_k, \n",
    "$$\n",
    "where $k$ is the index for each source (see likelihood derivation for details).\n",
    "\n",
    "Here we will compute $I_k$ for a range of $\\alpha$ so that we can perform fast linear interpolation in the fit for unknown $\\alpha$."
   ]
  },
  {
   "cell_type": "code",
   "execution_count": 1,
   "metadata": {
    "ExecuteTime": {
     "end_time": "2019-06-18T13:56:43.682161Z",
     "start_time": "2019-06-18T13:56:43.224374Z"
    }
   },
   "outputs": [],
   "source": [
    "import numpy as np\n",
    "import h5py\n",
    "from scipy.interpolate import RectBivariateSpline\n",
    "\n",
    "from matplotlib import pyplot as plt\n",
    "from mpl_toolkits.mplot3d import Axes3D"
   ]
  },
  {
   "cell_type": "markdown",
   "metadata": {},
   "source": [
    "### Effective area\n",
    "\n",
    "Use the module provided by Martin & Hans to produce a spline with scipy (same code, just a few edits to run in python 3). Also, use a quick spline implementation to tets out the case for muon tracks."
   ]
  },
  {
   "cell_type": "code",
   "execution_count": 2,
   "metadata": {
    "ExecuteTime": {
     "end_time": "2019-06-18T13:56:45.131194Z",
     "start_time": "2019-06-18T13:56:44.323443Z"
    }
   },
   "outputs": [
    {
     "name": "stdout",
     "output_type": "stream",
     "text": [
      "... creating effective area spline for interaction nue_CC , done!\n"
     ]
    }
   ],
   "source": [
    "from aeff_calculator.aeff_calculator import effective_area_tracks, effective_area_cascades\n",
    "\n",
    "aeff_tracks = effective_area_tracks()\n",
    "aeff_cascades = effective_area_cascades(\"nue_CC\")"
   ]
  },
  {
   "cell_type": "markdown",
   "metadata": {
    "ExecuteTime": {
     "end_time": "2019-04-26T14:49:58.136132Z",
     "start_time": "2019-04-26T14:49:56.750460Z"
    }
   },
   "source": [
    "### Sources\n",
    "\n",
    "Use a set of sources sampled as having redshift uniform in comoving volume for a $\\Lambda CDM$ universe."
   ]
  },
  {
   "cell_type": "code",
   "execution_count": 3,
   "metadata": {
    "ExecuteTime": {
     "end_time": "2019-06-18T13:56:45.269183Z",
     "start_time": "2019-06-18T13:56:45.258538Z"
    }
   },
   "outputs": [
    {
     "name": "stderr",
     "output_type": "stream",
     "text": [
      "/Users/fran/.virtualenvs/bayes/lib/python3.7/site-packages/h5py/_hl/dataset.py:313: H5pyDeprecationWarning: dataset.value has been deprecated. Use dataset[()] instead.\n",
      "  \"Use dataset[()] instead.\", H5pyDeprecationWarning)\n"
     ]
    }
   ],
   "source": [
    "with h5py.File('../data/test_SFR_pop.h5', 'r') as f:\n",
    "    Ns = f['output/Ns'].value\n",
    "    redshift = f['output/redshift'][()]\n",
    "    position = f['output/position'][()]\n",
    "    \n",
    "# Select sources within redshift zth to mimic catalogue\n",
    "zth = 1\n",
    "selection = np.where(redshift < zth)[0]\n",
    "Ns = len(selection)\n",
    "redshift = np.array([redshift[_] for _ in selection])\n",
    "position = np.array([position[_] for _ in selection])\n",
    "\n",
    "# Add background redshift\n",
    "source_redshift = list(redshift) \n",
    "bg_redshift = zth"
   ]
  },
  {
   "cell_type": "markdown",
   "metadata": {
    "ExecuteTime": {
     "end_time": "2019-04-26T14:55:15.852904Z",
     "start_time": "2019-04-26T14:55:15.849144Z"
    }
   },
   "source": [
    "### Computation"
   ]
  },
  {
   "cell_type": "code",
   "execution_count": 4,
   "metadata": {
    "ExecuteTime": {
     "end_time": "2019-06-18T13:56:47.179015Z",
     "start_time": "2019-06-18T13:56:47.116989Z"
    }
   },
   "outputs": [
    {
     "name": "stderr",
     "output_type": "stream",
     "text": [
      "/Users/fran/.virtualenvs/bayes/lib/python3.7/site-packages/tqdm/autonotebook/__init__.py:14: TqdmExperimentalWarning: Using `tqdm.autonotebook.tqdm` in notebook mode. Use `tqdm.tqdm` instead to force console mode (e.g. in jupyter console)\n",
      "  \" (e.g. in jupyter console)\", TqdmExperimentalWarning)\n"
     ]
    }
   ],
   "source": [
    "from exposure_integral import ExposureIntegral"
   ]
  },
  {
   "cell_type": "markdown",
   "metadata": {},
   "source": [
    "#### Cascades"
   ]
  },
  {
   "cell_type": "code",
   "execution_count": null,
   "metadata": {
    "ExecuteTime": {
     "end_time": "2019-06-18T13:27:29.032910Z",
     "start_time": "2019-06-18T13:20:40.516382Z"
    }
   },
   "outputs": [],
   "source": [
    "# Define minimum energy\n",
    "Emin = 6.0E4 # GeV\n",
    "\n",
    "exposure_integral = ExposureIntegral(source_redshift, position, bg_redshift, \n",
    "                                     aeff_cascades, Emin,\n",
    "                                    filename='data/precomputed_integral_cascades_6e4.h5',\n",
    "                                     n_points=100)"
   ]
  },
  {
   "cell_type": "code",
   "execution_count": null,
   "metadata": {
    "ExecuteTime": {
     "end_time": "2019-06-18T13:27:29.405043Z",
     "start_time": "2019-06-18T13:27:29.035921Z"
    }
   },
   "outputs": [],
   "source": [
    "fig, ax = plt.subplots()\n",
    "for I_k in exposure_integral.integral_grid[:-1]:\n",
    "    ax.scatter(exposure_integral.alpha_grid, I_k)\n",
    "ax.scatter(exposure_integral.alpha_grid, exposure_integral.integral_grid[-1], \n",
    "           color='k')"
   ]
  },
  {
   "cell_type": "markdown",
   "metadata": {},
   "source": [
    "#### Tracks"
   ]
  },
  {
   "cell_type": "code",
   "execution_count": 5,
   "metadata": {
    "ExecuteTime": {
     "end_time": "2019-06-18T14:16:08.505723Z",
     "start_time": "2019-06-18T13:56:49.813615Z"
    }
   },
   "outputs": [
    {
     "data": {
      "application/vnd.jupyter.widget-view+json": {
       "model_id": "9d0fcaeb725e40c2b3b808347c2a74b1",
       "version_major": 2,
       "version_minor": 0
      },
      "text/plain": [
       "HBox(children=(IntProgress(value=0, description='Source integrals', max=37, style=ProgressStyle(description_wi…"
      ]
     },
     "metadata": {},
     "output_type": "display_data"
    },
    {
     "name": "stderr",
     "output_type": "stream",
     "text": [
      "/Users/fran/projects/astroparticle/hierarchical_nu/dev/statistical_model/4_tracks_and_cascades/aeff_calculator/aeff_calculator.py:172: RuntimeWarning: invalid value encountered in log10\n",
      "  return np.log10(self.spline(lE, cos_zenith))\n",
      "/Users/fran/projects/astroparticle/hierarchical_nu/dev/statistical_model/4_tracks_and_cascades/exposure_integral.py:73: IntegrationWarning: The occurrence of roundoff error is detected, which prevents \n",
      "  the requested tolerance from being achieved.  The error may be \n",
      "  underestimated.\n",
      "  args=(position, z, alpha))\n",
      "/Users/fran/projects/astroparticle/hierarchical_nu/dev/statistical_model/4_tracks_and_cascades/exposure_integral.py:73: IntegrationWarning: The maximum number of subdivisions (50) has been achieved.\n",
      "  If increasing the limit yields no improvement it is advised to analyze \n",
      "  the integrand in order to determine the difficulties.  If the position of a \n",
      "  local difficulty can be determined (singularity, discontinuity) one will \n",
      "  probably gain from splitting up the interval and calling the integrator \n",
      "  on the subranges.  Perhaps a special-purpose integrator should be used.\n",
      "  args=(position, z, alpha))\n"
     ]
    },
    {
     "name": "stdout",
     "output_type": "stream",
     "text": [
      "\n"
     ]
    },
    {
     "data": {
      "application/vnd.jupyter.widget-view+json": {
       "model_id": "fa120d37e99f4cd3907d072f688c034c",
       "version_major": 2,
       "version_minor": 0
      },
      "text/plain": [
       "HBox(children=(IntProgress(value=0, description='Background integrals', style=ProgressStyle(description_width=…"
      ]
     },
     "metadata": {},
     "output_type": "display_data"
    },
    {
     "name": "stderr",
     "output_type": "stream",
     "text": [
      "/Users/fran/.virtualenvs/bayes/lib/python3.7/site-packages/scipy/integrate/quadpack.py:860: IntegrationWarning: The occurrence of roundoff error is detected, which prevents \n",
      "  the requested tolerance from being achieved.  The error may be \n",
      "  underestimated.\n",
      "  **opt)\n",
      "/Users/fran/.virtualenvs/bayes/lib/python3.7/site-packages/scipy/integrate/quadpack.py:860: IntegrationWarning: The maximum number of subdivisions (50) has been achieved.\n",
      "  If increasing the limit yields no improvement it is advised to analyze \n",
      "  the integrand in order to determine the difficulties.  If the position of a \n",
      "  local difficulty can be determined (singularity, discontinuity) one will \n",
      "  probably gain from splitting up the interval and calling the integrator \n",
      "  on the subranges.  Perhaps a special-purpose integrator should be used.\n",
      "  **opt)\n"
     ]
    },
    {
     "name": "stdout",
     "output_type": "stream",
     "text": [
      "\n"
     ]
    }
   ],
   "source": [
    "# Define minimum energy\n",
    "Emin = 1.0E5 # GeV\n",
    "\n",
    "exposure_integral = ExposureIntegral(source_redshift, position, bg_redshift, \n",
    "                                     aeff_tracks, Emin,\n",
    "                                    filename='data/precomputed_integral_tracks_1e5.h5',\n",
    "                                     n_points=100)"
   ]
  },
  {
   "cell_type": "code",
   "execution_count": 6,
   "metadata": {
    "ExecuteTime": {
     "end_time": "2019-06-18T14:52:16.126663Z",
     "start_time": "2019-06-18T14:52:15.803824Z"
    }
   },
   "outputs": [
    {
     "data": {
      "text/plain": [
       "<matplotlib.collections.PathCollection at 0x10f77d6d8>"
      ]
     },
     "execution_count": 6,
     "metadata": {},
     "output_type": "execute_result"
    },
    {
     "data": {
      "image/png": "[encoded data removed]",
      "text/plain": [
       "<Figure size 432x288 with 1 Axes>"
      ]
     },
     "metadata": {
      "needs_background": "light"
     },
     "output_type": "display_data"
    }
   ],
   "source": [
    "fig, ax = plt.subplots()\n",
    "for I_k in exposure_integral.integral_grid[:-1]:\n",
    "    ax.scatter(exposure_integral.alpha_grid, I_k)\n",
    "ax.scatter(exposure_integral.alpha_grid, exposure_integral.integral_grid[-1], \n",
    "           color='k')"
   ]
  },
  {
   "cell_type": "code",
   "execution_count": null,
   "metadata": {},
   "outputs": [],
   "source": []
  }
 ],
 "metadata": {
  "kernelspec": {
   "display_name": "bayes",
   "language": "python",
   "name": "bayes"
  },
  "language_info": {
   "codemirror_mode": {
    "name": "ipython",
    "version": 3
   },
   "file_extension": ".py",
   "mimetype": "text/x-python",
   "name": "python",
   "nbconvert_exporter": "python",
   "pygments_lexer": "ipython3",
   "version": "3.7.3"
  }
 },
 "nbformat": 4,
 "nbformat_minor": 2
}
