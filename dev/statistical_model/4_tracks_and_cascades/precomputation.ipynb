{
 "cells": [
  {
   "cell_type": "markdown",
   "metadata": {},
   "source": [
    "# Precomputation of exposure integral\n",
    "\n",
    "Now that we implement the effective area as a function of energy and zenith angle, can keep the fit fast by precomputing the exposure factor for each source. This is possible if assuming *known* source positions and redshifts.\n",
    "\n",
    "For now, we assume that the background has some fixed redshift. This is necessary in order to compute the energy losses in the simulation. This is something that will probably be changed in the next step as we include selection effects and try to do something more realistic. "
   ]
  },
  {
   "cell_type": "markdown",
   "metadata": {},
   "source": [
    "## What is the exposure integral?\n",
    "\n",
    "As part of the simulation and fit, we want to compute the expected number of detected neutrinos from each source component. This can be written as $\\bar{N}_k = F_k \\epsilon_k$ where $F_k = \\frac{Q}{4 \\pi d_l(z_k)^2}$ and the exposure factor is \n",
    "$$\n",
    "\\epsilon_k = T \\frac{(\\alpha-1)}{E_{\\rm{min}}} \\int_{E_{\\rm{min}}}^\\infty {\\rm{d}}E \\ A_{\\rm{eff}}(E, \\varpi_k) \n",
    "\\Bigg( \\frac{(1+z_k)E}{E_{\\rm{min}}} \\Bigg)^{-\\alpha} = T \\frac{(\\alpha-1)}{E_{\\rm{min}}} I_k, \n",
    "$$\n",
    "where $k$ is the index for each source (see likelihood derivation for details).\n",
    "\n",
    "Here we will compute $I_k$ for a range of $\\alpha$ so that we can perform fast linear interpolation in the fit for unknown $\\alpha$."
   ]
  },
  {
   "cell_type": "code",
   "execution_count": null,
   "metadata": {
    "ExecuteTime": {
     "end_time": "2019-06-21T07:28:10.657335Z",
     "start_time": "2019-06-21T07:28:10.212616Z"
    }
   },
   "outputs": [],
   "source": [
    "import numpy as np\n",
    "import h5py\n",
    "from scipy.interpolate import RectBivariateSpline\n",
    "\n",
    "from matplotlib import pyplot as plt\n",
    "from mpl_toolkits.mplot3d import Axes3D"
   ]
  },
  {
   "cell_type": "markdown",
   "metadata": {},
   "source": [
    "### Effective area\n",
    "\n",
    "Use the module provided by Martin & Hans to produce a spline with scipy (same code, just a few edits to run in python 3). Also, use a quick spline implementation to tets out the case for muon tracks."
   ]
  },
  {
   "cell_type": "code",
   "execution_count": 2,
   "metadata": {
    "ExecuteTime": {
     "end_time": "2019-06-21T07:28:11.664934Z",
     "start_time": "2019-06-21T07:28:10.661611Z"
    }
   },
   "outputs": [
    {
     "name": "stdout",
     "output_type": "stream",
     "text": [
      "... creating effective area spline for interaction nue_CC , done!\n"
     ]
    }
   ],
   "source": [
    "from aeff_calculator.aeff_calculator import effective_area_tracks, effective_area_cascades\n",
    "\n",
    "aeff_tracks = effective_area_tracks()\n",
    "aeff_cascades = effective_area_cascades(\"nue_CC\")"
   ]
  },
  {
   "cell_type": "markdown",
   "metadata": {
    "ExecuteTime": {
     "end_time": "2019-04-26T14:49:58.136132Z",
     "start_time": "2019-04-26T14:49:56.750460Z"
    }
   },
   "source": [
    "### Sources\n",
    "\n",
    "Use a set of sources sampled as having redshift uniform in comoving volume for a $\\Lambda CDM$ universe."
   ]
  },
  {
   "cell_type": "code",
   "execution_count": 3,
   "metadata": {
    "ExecuteTime": {
     "end_time": "2019-06-21T07:28:11.677542Z",
     "start_time": "2019-06-21T07:28:11.667769Z"
    }
   },
   "outputs": [
    {
     "name": "stderr",
     "output_type": "stream",
     "text": [
      "/Users/fran/.virtualenvs/bayes/lib/python3.7/site-packages/h5py/_hl/dataset.py:313: H5pyDeprecationWarning: dataset.value has been deprecated. Use dataset[()] instead.\n",
      "  \"Use dataset[()] instead.\", H5pyDeprecationWarning)\n"
     ]
    }
   ],
   "source": [
    "with h5py.File('../data/test_SFR_pop.h5', 'r') as f:\n",
    "    Ns = f['output/Ns'].value\n",
    "    redshift = f['output/redshift'][()]\n",
    "    position = f['output/position'][()]\n",
    "    \n",
    "# Select sources within redshift zth to mimic catalogue\n",
    "zth = 1\n",
    "selection = np.where(redshift < zth)[0]\n",
    "Ns = len(selection)\n",
    "redshift = np.array([redshift[_] for _ in selection])\n",
    "position = np.array([position[_] for _ in selection])\n",
    "\n",
    "# Add background redshift\n",
    "source_redshift = list(redshift) \n",
    "bg_redshift = zth"
   ]
  },
  {
   "cell_type": "markdown",
   "metadata": {
    "ExecuteTime": {
     "end_time": "2019-04-26T14:55:15.852904Z",
     "start_time": "2019-04-26T14:55:15.849144Z"
    }
   },
   "source": [
    "### Computation"
   ]
  },
  {
   "cell_type": "code",
   "execution_count": 4,
   "metadata": {
    "ExecuteTime": {
     "end_time": "2019-06-21T07:28:12.658367Z",
     "start_time": "2019-06-21T07:28:12.597037Z"
    }
   },
   "outputs": [
    {
     "name": "stderr",
     "output_type": "stream",
     "text": [
      "/Users/fran/.virtualenvs/bayes/lib/python3.7/site-packages/tqdm/autonotebook/__init__.py:14: TqdmExperimentalWarning: Using `tqdm.autonotebook.tqdm` in notebook mode. Use `tqdm.tqdm` instead to force console mode (e.g. in jupyter console)\n",
      "  \" (e.g. in jupyter console)\", TqdmExperimentalWarning)\n"
     ]
    }
   ],
   "source": [
    "from exposure_integral import ExposureIntegral"
   ]
  },
  {
   "cell_type": "markdown",
   "metadata": {},
   "source": [
    "#### Cascades"
   ]
  },
  {
   "cell_type": "code",
   "execution_count": null,
   "metadata": {
    "ExecuteTime": {
     "end_time": "2019-06-18T13:27:29.032910Z",
     "start_time": "2019-06-18T13:20:40.516382Z"
    }
   },
   "outputs": [],
   "source": [
    "# Define minimum energy\n",
    "Emin = 6.0E4 # GeV\n",
    "\n",
    "exposure_integral = ExposureIntegral(source_redshift, position, bg_redshift, \n",
    "                                     aeff_cascades, Emin,\n",
    "                                    filename='data/precomputed_integral_cascades_6e4.h5',\n",
    "                                     n_points=100)"
   ]
  },
  {
   "cell_type": "code",
   "execution_count": null,
   "metadata": {
    "ExecuteTime": {
     "end_time": "2019-06-18T13:27:29.405043Z",
     "start_time": "2019-06-18T13:27:29.035921Z"
    }
   },
   "outputs": [],
   "source": [
    "fig, ax = plt.subplots()\n",
    "for I_k in exposure_integral.integral_grid[:-1]:\n",
    "    ax.scatter(exposure_integral.alpha_grid, I_k)\n",
    "ax.scatter(exposure_integral.alpha_grid, exposure_integral.integral_grid[-1], \n",
    "           color='k')"
   ]
  },
  {
   "cell_type": "markdown",
   "metadata": {},
   "source": [
    "#### Tracks"
   ]
  },
  {
   "cell_type": "code",
   "execution_count": 5,
   "metadata": {
    "ExecuteTime": {
     "end_time": "2019-06-21T08:32:58.644841Z",
     "start_time": "2019-06-21T07:28:15.265860Z"
    }
   },
   "outputs": [
    {
     "data": {
      "application/vnd.jupyter.widget-view+json": {
       "model_id": "3f15c3bbbfa0420da0db678546775884",
       "version_major": 2,
       "version_minor": 0
      },
      "text/plain": [
       "HBox(children=(IntProgress(value=0, description='Source integrals', max=37, style=ProgressStyle(description_wi…"
      ]
     },
     "metadata": {},
     "output_type": "display_data"
    },
    {
     "name": "stderr",
     "output_type": "stream",
     "text": [
      "/Users/fran/projects/astroparticle/hierarchical_nu/dev/statistical_model/4_tracks_and_cascades/exposure_integral.py:73: IntegrationWarning: The maximum number of subdivisions (50) has been achieved.\n",
      "  If increasing the limit yields no improvement it is advised to analyze \n",
      "  the integrand in order to determine the difficulties.  If the position of a \n",
      "  local difficulty can be determined (singularity, discontinuity) one will \n",
      "  probably gain from splitting up the interval and calling the integrator \n",
      "  on the subranges.  Perhaps a special-purpose integrator should be used.\n",
      "  args=(position, z, alpha))\n"
     ]
    },
    {
     "name": "stdout",
     "output_type": "stream",
     "text": [
      "\n"
     ]
    },
    {
     "data": {
      "application/vnd.jupyter.widget-view+json": {
       "model_id": "4fccc841853e4099a33650bda138ed11",
       "version_major": 2,
       "version_minor": 0
      },
      "text/plain": [
       "HBox(children=(IntProgress(value=0, description='Background integrals', style=ProgressStyle(description_width=…"
      ]
     },
     "metadata": {},
     "output_type": "display_data"
    },
    {
     "name": "stderr",
     "output_type": "stream",
     "text": [
      "/Users/fran/.virtualenvs/bayes/lib/python3.7/site-packages/scipy/integrate/quadpack.py:860: IntegrationWarning: The maximum number of subdivisions (50) has been achieved.\n",
      "  If increasing the limit yields no improvement it is advised to analyze \n",
      "  the integrand in order to determine the difficulties.  If the position of a \n",
      "  local difficulty can be determined (singularity, discontinuity) one will \n",
      "  probably gain from splitting up the interval and calling the integrator \n",
      "  on the subranges.  Perhaps a special-purpose integrator should be used.\n",
      "  **opt)\n"
     ]
    },
    {
     "name": "stdout",
     "output_type": "stream",
     "text": [
      "49632359.60159601 2883.551161272808\n",
      "47148747.68204771 2790.85177189816\n",
      "44769945.63681918 2692.442646032061\n",
      "42492892.04046651 2592.9834191692935\n",
      "40314536.60093746 2490.3750565654336\n",
      "38231844.93785537 2392.0982923580814\n",
      "36241802.1745401 2299.6686224925434\n",
      "34341416.78799444 2209.6172543451903\n",
      "32527724.685529035 2120.254607796167\n",
      "30797792.8431993 2035.8083330572263\n",
      "29148722.26937317 1955.4990174745762\n",
      "27577651.75938463 1878.916995111682\n",
      "26081760.57703619 1805.8233540637193\n",
      "24658271.916699532 1736.012656436822\n",
      "23304455.292440694 1669.2749382595794\n",
      "22017629.207364757 1605.9640314759126\n",
      "20795163.38774704 1545.7193770424856\n",
      "19634481.336276665 1488.2572786769706\n",
      "18533061.962353215 1433.1485125549043\n",
      "17488441.51370725 1323.95971044644\n",
      "16498215.207914045 1289.9902639641127\n",
      "15560038.628559805 1256.7039819738677\n",
      "14671708.05049321 1189.6775367344446\n",
      "13830766.112216828 1158.8621532195095\n",
      "13035293.217759257 1128.6522634971793\n",
      "12283120.43261229 1099.0381792822561\n",
      "11572211.48437215 1070.0102296694213\n",
      "10900611.376434674 1041.5589305333192\n",
      "10266419.265345966 1013.6750694417121\n",
      "9667802.010325138 986.350020382166\n",
      "9103045.652951919 959.575158658192\n",
      "8570280.266775357 935.0961105875056\n",
      "8068036.9269464705 909.1647717455302\n",
      "7594676.962849428 883.775004542991\n",
      "7148688.756637717 858.9182782778614\n",
      "6728619.961347648 834.5862533697264\n",
      "6333078.910503586 810.7707679793356\n",
      "5960733.568863229 787.4638333398494\n",
      "5610310.412606813 764.657625973314\n",
      "5280592.991600319 732.4417136094171\n",
      "4970420.786915409 711.1753958981138\n",
      "4678687.674478367 690.3611928167853\n",
      "4404340.506993608 385.8057105213553\n",
      "4146377.540016259 370.38492786245297\n",
      "3903846.968364008 356.01950246643236\n",
      "3675845.160812026 341.83827222725625\n",
      "3461515.19890206 328.43932545450457\n",
      "3260045.1848853976 291.26303903873224\n",
      "3070666.511445727 301.35152099370424\n",
      "2892652.300321004 289.3169893153505\n",
      "2725315.6804178515 279.07536055230173\n",
      "2568008.1616803124 267.13050067394863\n",
      "2420128.126270386 277.21226791876336\n",
      "2281068.4217884825 123.88046117852676\n",
      "2150316.394330928 118.22685522541911\n",
      "2027350.633550018 112.81830865951021\n",
      "1911690.352916851 107.64376620255202\n",
      "1802883.6091821673 102.6927369430928\n",
      "1700505.8960816946 97.95533782134756\n",
      "1604158.7139622136 93.40213773290517\n",
      "1513468.1625251027 88.89885962036823\n",
      "1428083.6256430421 84.73903728770514\n",
      "1347676.4712226563 80.79001453064426\n",
      "1271938.808116753 77.00992362872279\n",
      "1200582.2879172908 73.39160527822297\n",
      "1133336.9593933658 70.019439077671\n",
      "1069950.1749594293 66.6973598035327\n",
      "1010185.5448388414 63.51742193497037\n",
      "953821.9299238166 60.47432589367217\n",
      "900652.4944042298 13.56964698190928\n",
      "850483.8239034159 12.547259290569023\n",
      "803135.0257576015 11.659944012946418\n",
      "758436.9614558917 12.518582124718428\n",
      "716231.464511533 11.840136734016255\n",
      "676370.619906753 9.27724888538139\n",
      "638716.0861332926 8.525255190041978\n",
      "603138.4519294493 6.1447723497733335\n",
      "569516.6399254126 5.699819845008043\n",
      "537737.3456795199 5.246572911467409\n",
      "507694.4995472664 4.740481154599587\n",
      "479288.7857056427 6.1568539896189165\n",
      "452427.1704224034 4.062598947339314\n",
      "427022.4762011458 3.725493514733868\n",
      "402992.97742446506 3.464214284506278\n",
      "380262.0278579356 3.297779009183546\n",
      "358757.70939339424 3.1359998844101256\n",
      "338412.5087427245 2.095106532682342\n",
      "319163.0147924061 1.7825293787296443\n",
      "300949.6387711784 1.6355443409311488\n",
      "283716.35411195783 1.332996493539253\n",
      "267410.4517007617 1.4352345876172825\n",
      "251982.32120711912 1.3459526354320035\n",
      "237385.23731727034 1.2825020670099032\n",
      "223575.1700742908 0.7510041198755318\n",
      "210510.60485035682 0.7784824013774874\n",
      "198152.3766297974 0.38458697578085954\n",
      "186463.51689532932 0.21630638790381732\n",
      "175409.1108231275 0.18769288570909737\n",
      "164956.16463889903 0.12471637188402754\n",
      "155073.48474122013 0.11600173311890852\n",
      "\n"
     ]
    }
   ],
   "source": [
    "# Define minimum energy\n",
    "Emin = 1.0E5 # GeV\n",
    "\n",
    "exposure_integral = ExposureIntegral(source_redshift, position, bg_redshift, \n",
    "                                     aeff_tracks, Emin,\n",
    "                                    filename='data/precomputed_integral_tracks_1e5.h5',\n",
    "                                     n_points=100)"
   ]
  },
  {
   "cell_type": "code",
   "execution_count": null,
   "metadata": {
    "ExecuteTime": {
     "start_time": "2019-06-19T19:19:54.981Z"
    }
   },
   "outputs": [],
   "source": [
    "fig, ax = plt.subplots()\n",
    "for I_k in exposure_integral.integral_grid[:-1]:\n",
    "    ax.scatter(exposure_integral.alpha_grid, I_k)\n",
    "ax.scatter(exposure_integral.alpha_grid, exposure_integral.integral_grid[-1], \n",
    "           color='k')"
   ]
  },
  {
   "cell_type": "code",
   "execution_count": null,
   "metadata": {},
   "outputs": [],
   "source": []
  }
 ],
 "metadata": {
  "kernelspec": {
   "display_name": "bayes",
   "language": "python",
   "name": "bayes"
  },
  "language_info": {
   "codemirror_mode": {
    "name": "ipython",
    "version": 3
   },
   "file_extension": ".py",
   "mimetype": "text/x-python",
   "name": "python",
   "nbconvert_exporter": "python",
   "pygments_lexer": "ipython3",
   "version": "3.7.3"
  }
 },
 "nbformat": 4,
 "nbformat_minor": 2
}
