{
 "cells": [
  {
   "cell_type": "markdown",
   "metadata": {},
   "source": [
    "\n",
    "# Model for cascades and tracks\n",
    "\n",
    "Move to join model for cascade and track events. The cascade model is still for only a single flavour and interaction channel for simplicity."
   ]
  },
  {
   "cell_type": "code",
   "execution_count": 1,
   "metadata": {
    "ExecuteTime": {
     "end_time": "2019-06-18T12:42:18.190107Z",
     "start_time": "2019-06-18T12:42:16.559546Z"
    }
   },
   "outputs": [],
   "source": [
    "import numpy as np\n",
    "import h5py\n",
    "from matplotlib import pyplot as plt\n",
    "import stan_utility\n",
    "import corner\n",
    "\n",
    "from joint_model_cascades import * \n",
    "from aeff_calculator.aeff_calculator import effective_area_cascades, effective_area_tracks\n",
    "from energy_conditional import EnergyConditional"
   ]
  },
  {
   "cell_type": "code",
   "execution_count": 2,
   "metadata": {
    "ExecuteTime": {
     "end_time": "2019-06-18T12:42:18.195879Z",
     "start_time": "2019-06-18T12:42:18.192927Z"
    }
   },
   "outputs": [],
   "source": [
    "random_seed = 19920715"
   ]
  },
  {
   "cell_type": "markdown",
   "metadata": {},
   "source": [
    "## Simulation"
   ]
  },
  {
   "cell_type": "markdown",
   "metadata": {},
   "source": [
    "#### Sources\n",
    "\n",
    "Assume a predefined set of source and background component with fixed redshift, at the source population redshift threshold. This implements a *very crude* selection effect. "
   ]
  },
  {
   "cell_type": "code",
   "execution_count": 3,
   "metadata": {
    "ExecuteTime": {
     "end_time": "2019-06-18T12:42:18.210628Z",
     "start_time": "2019-06-18T12:42:18.198865Z"
    }
   },
   "outputs": [],
   "source": [
    "# Use a set of sources uniform in comoving volume for a lambda-CDM universe.\n",
    "with h5py.File('../data/test_SFR_pop.h5', 'r') as f:\n",
    "    Ns = f['output/Ns'][()]\n",
    "    redshift = f['output/redshift'][()]\n",
    "    position = f['output/position'][()]\n",
    "    \n",
    "# Select sources within redshift zth to mimic catalogue\n",
    "zth = 1.0\n",
    "selection = np.where(redshift < zth)[0]\n",
    "Ns = len(selection)\n",
    "redshift = np.array([redshift[_] for _ in selection])\n",
    "position = np.array([position[_] for _ in selection])\n",
    "unit_vector = [p / np.linalg.norm(p) for p in position]\n",
    "\n",
    "# Add background redshift\n",
    "redshift = list(redshift) + [zth]"
   ]
  },
  {
   "cell_type": "markdown",
   "metadata": {},
   "source": [
    "#### Effective area\n",
    "Use same effective area as in precomputation! Now need both the effective area to muon tracks and cascade events/"
   ]
  },
  {
   "cell_type": "code",
   "execution_count": 4,
   "metadata": {
    "ExecuteTime": {
     "end_time": "2019-06-18T12:42:21.759215Z",
     "start_time": "2019-06-18T12:42:21.013480Z"
    }
   },
   "outputs": [
    {
     "name": "stdout",
     "output_type": "stream",
     "text": [
      "... creating effective area spline for interaction nue_CC , done!\n"
     ]
    }
   ],
   "source": [
    "from scipy.interpolate import RectBivariateSpline\n",
    "\n",
    "# Tracks\n",
    "aeff_tracks = effective_area_tracks()\n",
    "\n",
    "# Cascades\n",
    "aeff_cascades = effective_area_cascades(\"nue_CC\")"
   ]
  },
  {
   "cell_type": "code",
   "execution_count": 20,
   "metadata": {
    "ExecuteTime": {
     "end_time": "2019-06-18T15:12:22.764358Z",
     "start_time": "2019-06-18T15:12:22.757049Z"
    }
   },
   "outputs": [],
   "source": [
    "# Get input for spline evaluation in Stan\n",
    "p = 3  # spline degree (default in RectBivariateSpline)\n",
    "\n",
    "# Tracks\n",
    "xknots_tracks, yknots_tracks = aeff_tracks.spline.get_knots()\n",
    "c_tracks = aeff_tracks.spline.get_coeffs()\n",
    "\n",
    "xknots_tracks = np.unique(xknots_tracks) \n",
    "yknots_tracks = np.unique(yknots_tracks)\n",
    "Nx_tracks = len(xknots_tracks)+p-1\n",
    "Ny_tracks = len(yknots_tracks)+p-1\n",
    "c_tracks = c_tracks.reshape(Nx_tracks, Ny_tracks)\n",
    "\n",
    "# Cascades\n",
    "xknots_cascades, yknots_cascades = aeff_cascades.spline.get_knots()\n",
    "c_cascades = aeff_cascades.spline.get_coeffs()\n",
    "\n",
    "xknots_cascades = np.unique(xknots_cascades)\n",
    "yknots_cascades = np.unique(yknots_cascades)\n",
    "Nx_cascades = len(xknots_cascades)+p-1 \n",
    "Ny_cascades = len(yknots_cascades)+p-1 \n",
    "c_cascades = c_cascades.reshape(Nx_cascades, Ny_cascades)\n",
    "\n",
    "# Maximum of the effective area, to scale \n",
    "aeff_max_cascades = max(10**aeff_cascades.aeff_vals) # m^2\n",
    "aeff_max_tracks = np.max(aeff_tracks.aeff_vals) # m^2"
   ]
  },
  {
   "cell_type": "markdown",
   "metadata": {},
   "source": [
    "#### Precomputed exposure integral\n",
    "See `precomputation.ipynb` for info."
   ]
  },
  {
   "cell_type": "code",
   "execution_count": 14,
   "metadata": {
    "ExecuteTime": {
     "end_time": "2019-06-18T15:08:06.964197Z",
     "start_time": "2019-06-18T15:08:06.956314Z"
    }
   },
   "outputs": [],
   "source": [
    "# Get precomputed eps factor\n",
    "\n",
    "# Tracks\n",
    "with h5py.File('data/precomputed_integral_tracks_1e5.h5', 'r') as f:\n",
    "    alpha_grid_tracks = f['alpha_grid'][()]\n",
    "    integral_grid_tracks = np.nan_to_num(f['integral_grid'][()])\n",
    "\n",
    "# Cascades\n",
    "with h5py.File('data/precomputed_integral_cascades_6e4.h5', 'r') as f:\n",
    "    alpha_grid_cascades = f['alpha_grid'][()]\n",
    "    integral_grid_cascades = f['integral_grid'][()]"
   ]
  },
  {
   "cell_type": "code",
   "execution_count": 15,
   "metadata": {
    "ExecuteTime": {
     "end_time": "2019-06-18T15:08:07.520821Z",
     "start_time": "2019-06-18T15:08:07.244017Z"
    }
   },
   "outputs": [
    {
     "data": {
      "image/png": "[encoded data removed]",
      "text/plain": [
       "<Figure size 432x288 with 1 Axes>"
      ]
     },
     "metadata": {
      "needs_background": "light"
     },
     "output_type": "display_data"
    }
   ],
   "source": [
    "fig, ax = plt.subplots()\n",
    "for _ in integral_grid_tracks:\n",
    "    ax.plot(alpha_grid_tracks, _)"
   ]
  },
  {
   "cell_type": "markdown",
   "metadata": {},
   "source": [
    "#### Energy resolution\n",
    "See `conditionals.ipynb`."
   ]
  },
  {
   "cell_type": "code",
   "execution_count": 16,
   "metadata": {
    "ExecuteTime": {
     "end_time": "2019-06-18T15:09:10.797891Z",
     "start_time": "2019-06-18T15:09:09.383021Z"
    }
   },
   "outputs": [],
   "source": [
    "# Tracks\n",
    "# Coming soon\n",
    "\n",
    "# Cascades\n",
    "# Nue_CC\n",
    "cond_file = ('data/conditional_2D_nue_CC_simulation_'\n",
    "             +'gamma_1.0_lEmin_3.0_lEmax_7.0_fixed.txt')\n",
    "\n",
    "energy_conditional = EnergyConditional(cond_file)"
   ]
  },
  {
   "cell_type": "code",
   "execution_count": 17,
   "metadata": {
    "ExecuteTime": {
     "end_time": "2019-06-18T15:09:10.978047Z",
     "start_time": "2019-06-18T15:09:10.972726Z"
    }
   },
   "outputs": [],
   "source": [
    "# Get input for spline evaluation in Stan\n",
    "E_p = 1  # spline degree \n",
    "E_xknots, E_yknots = energy_conditional.spline.get_knots()\n",
    "E_xknots = np.unique(E_xknots)\n",
    "E_yknots = np.unique(E_yknots)\n",
    "E_Nx = len(E_xknots)+E_p-1 \n",
    "E_Ny = len(E_yknots)+E_p-1 \n",
    "E_c = energy_conditional.spline.get_coeffs()\n",
    "E_c = E_c.reshape(E_Nx, E_Ny)"
   ]
  },
  {
   "cell_type": "markdown",
   "metadata": {},
   "source": [
    "#### Input parameters\n",
    "\n",
    "Now define all input parameters, including those that we will fit for."
   ]
  },
  {
   "cell_type": "code",
   "execution_count": 23,
   "metadata": {
    "ExecuteTime": {
     "end_time": "2019-06-18T15:12:54.217580Z",
     "start_time": "2019-06-18T15:12:54.205682Z"
    }
   },
   "outputs": [],
   "source": [
    "# Prepare simulation inputs that are defined above\n",
    "sim_input = {}\n",
    "\n",
    "# Sources\n",
    "sim_input['Ns'] = Ns\n",
    "sim_input['z'] = redshift\n",
    "sim_input['D'] = [luminosity_distance(z) for z in redshift[:-1]] # Mpc\n",
    "sim_input['varpi'] = unit_vector\n",
    "\n",
    "# Exposure integral interpolation grid\n",
    "sim_input['Ngrid'] = len(alpha_grid_tracks)\n",
    "sim_input['alpha_grid_tracks'] = alpha_grid_tracks\n",
    "sim_input['integral_grid_tracks'] = integral_grid_tracks\n",
    "sim_input['alpha_grid_cacscades'] = alpha_grid_cascades\n",
    "sim_input['integral_grid_cascades'] = integral_grid_cascades\n",
    "\n",
    "# Aeff Splines\n",
    "sim_input['p'] = p\n",
    "\n",
    "sim_input['Lknots_x_tracks'] = len(xknots_tracks)\n",
    "sim_input['Lknots_y_tracks'] = len(yknots_tracks)\n",
    "sim_input['xknots_tracks'] = xknots_tracks\n",
    "sim_input['yknots_tracks'] = yknots_tracks\n",
    "sim_input['c_tracks'] = c_tracks\n",
    "sim_input['aeff_max_tracks'] = aeff_max_tracks\n",
    "\n",
    "sim_input['Lknots_x_cascades'] = len(xknots_cascades)\n",
    "sim_input['Lknots_y_cascades'] = len(yknots_cascades)\n",
    "sim_input['xknots_cascades'] = xknots_cascades\n",
    "sim_input['yknots_cascades'] = yknots_cascades\n",
    "sim_input['c_cascades'] = c_cascades\n",
    "sim_input['aeff_max_cascades'] = aeff_max_cascades\n",
    "\n",
    "# Eres spline\n",
    "sim_input['E_p'] = E_p\n",
    "sim_input['E_Lknots_x'] = len(E_xknots)\n",
    "sim_input['E_Lknots_y'] = len(E_yknots)\n",
    "sim_input['E_xknots'] = E_xknots\n",
    "sim_input['E_yknots'] = E_yknots\n",
    "sim_input['E_c'] = E_c"
   ]
  },
  {
   "cell_type": "code",
   "execution_count": 24,
   "metadata": {
    "ExecuteTime": {
     "end_time": "2019-06-18T15:14:34.919975Z",
     "start_time": "2019-06-18T15:14:34.913620Z"
    }
   },
   "outputs": [],
   "source": [
    "# Define simulation parameters\n",
    "\n",
    "# Energies\n",
    "sim_input['alpha'] = 2.0\n",
    "sim_input['Emin_tracks'] = 1e5 # GeV\n",
    "sim_input['Emin_cascades'] = 6e4 # GeV\n",
    "\n",
    "# Reconstruction \n",
    "sim_input['kappa_cascades'] = 100 # ~10 deg for cascades\n",
    "sim_input['kappa_tracks'] = 1000 #~1 degree for tracks\n",
    "\n",
    "# Associated fraction  (derived paramaters, but easier to define this way)\n",
    "total_flux = 1e2 # m^-2 yr^-1\n",
    "f = 0.5\n",
    "\n",
    "sim_input['T'] = 1 # yr\n",
    "sim_input['F0'] = (1 - f) * total_flux # m^-2 yr^-1\n",
    "sim_input['Q'] = ( (f*total_flux) / (sum([1 / (4*np.pi * (d*Mpc_to_m)**2) \n",
    "                                          for d in sim_input['D']])) ) # yr^-1 "
   ]
  },
  {
   "cell_type": "markdown",
   "metadata": {},
   "source": [
    "#### Run simulation"
   ]
  },
  {
   "cell_type": "code",
   "execution_count": 29,
   "metadata": {
    "ExecuteTime": {
     "end_time": "2019-06-18T15:37:37.165913Z",
     "start_time": "2019-06-18T15:37:36.839657Z"
    }
   },
   "outputs": [
    {
     "ename": "ValueError",
     "evalue": "Failed to parse Stan model 'tracks_and_cascades_sim_12ae205c4a320b6de437547eeda14bac'. Error message:\nSYNTAX ERROR, MESSAGE(S) FROM PARSER:\nVariable \"Emin\" does not exist.\n error in 'unknown file name' at line 326, column 25\n  -------------------------------------------------\n   324:     /* The real deal */\n   325:     Edet[i] = Edet_rng(E[i], E_xknots, E_yknots, E_p, E_c);  \n   326:     while (Edet[i] < Emin) {\n                                ^\n   327:       Edet[i] = Edet_rng(E[i], E_xknots, E_yknots, E_p, E_c);\n  -------------------------------------------------\n\n",
     "output_type": "error",
     "traceback": [
      "\u001b[0;31m---------------------------------------------------------------------------\u001b[0m",
      "\u001b[0;31mFileNotFoundError\u001b[0m                         Traceback (most recent call last)",
      "\u001b[0;32m~/.virtualenvs/bayes/lib/python3.7/site-packages/stan_utility/utils.py\u001b[0m in \u001b[0;36mcompile_model\u001b[0;34m(filename, model_name, **kwargs)\u001b[0m\n\u001b[1;32m    210\u001b[0m         \u001b[0;32mtry\u001b[0m\u001b[0;34m:\u001b[0m\u001b[0;34m\u001b[0m\u001b[0;34m\u001b[0m\u001b[0m\n\u001b[0;32m--> 211\u001b[0;31m             \u001b[0msm\u001b[0m \u001b[0;34m=\u001b[0m \u001b[0mpickle\u001b[0m\u001b[0;34m.\u001b[0m\u001b[0mload\u001b[0m\u001b[0;34m(\u001b[0m\u001b[0mopen\u001b[0m\u001b[0;34m(\u001b[0m\u001b[0mcache_fn\u001b[0m\u001b[0;34m,\u001b[0m \u001b[0;34m'rb'\u001b[0m\u001b[0;34m)\u001b[0m\u001b[0;34m)\u001b[0m\u001b[0;34m\u001b[0m\u001b[0;34m\u001b[0m\u001b[0m\n\u001b[0m\u001b[1;32m    212\u001b[0m         \u001b[0;32mexcept\u001b[0m\u001b[0;34m:\u001b[0m\u001b[0;34m\u001b[0m\u001b[0;34m\u001b[0m\u001b[0m\n",
      "\u001b[0;31mFileNotFoundError\u001b[0m: [Errno 2] No such file or directory: '/Users/fran/.stan_cache/cached-tracks_and_cascades_sim-12ae205c4a320b6de437547eeda14bac.pkl'",
      "\nDuring handling of the above exception, another exception occurred:\n",
      "\u001b[0;31mValueError\u001b[0m                                Traceback (most recent call last)",
      "\u001b[0;32m<ipython-input-29-0fc7e41b6e14>\u001b[0m in \u001b[0;36m<module>\u001b[0;34m\u001b[0m\n\u001b[1;32m      2\u001b[0m sim = stan_utility.compile_model(filename = 'stan/tracks_and_cascades_sim.stan', \n\u001b[1;32m      3\u001b[0m                                  \u001b[0mmodel_name\u001b[0m \u001b[0;34m=\u001b[0m \u001b[0;34m'tracks_and_cascades_sim'\u001b[0m\u001b[0;34m,\u001b[0m\u001b[0;34m\u001b[0m\u001b[0;34m\u001b[0m\u001b[0m\n\u001b[0;32m----> 4\u001b[0;31m                                  include_paths = 'stan/')\n\u001b[0m",
      "\u001b[0;32m~/.virtualenvs/bayes/lib/python3.7/site-packages/stan_utility/utils.py\u001b[0m in \u001b[0;36mcompile_model\u001b[0;34m(filename, model_name, **kwargs)\u001b[0m\n\u001b[1;32m    211\u001b[0m             \u001b[0msm\u001b[0m \u001b[0;34m=\u001b[0m \u001b[0mpickle\u001b[0m\u001b[0;34m.\u001b[0m\u001b[0mload\u001b[0m\u001b[0;34m(\u001b[0m\u001b[0mopen\u001b[0m\u001b[0;34m(\u001b[0m\u001b[0mcache_fn\u001b[0m\u001b[0;34m,\u001b[0m \u001b[0;34m'rb'\u001b[0m\u001b[0;34m)\u001b[0m\u001b[0;34m)\u001b[0m\u001b[0;34m\u001b[0m\u001b[0;34m\u001b[0m\u001b[0m\n\u001b[1;32m    212\u001b[0m         \u001b[0;32mexcept\u001b[0m\u001b[0;34m:\u001b[0m\u001b[0;34m\u001b[0m\u001b[0;34m\u001b[0m\u001b[0m\n\u001b[0;32m--> 213\u001b[0;31m             \u001b[0msm\u001b[0m \u001b[0;34m=\u001b[0m \u001b[0mpystan\u001b[0m\u001b[0;34m.\u001b[0m\u001b[0mStanModel\u001b[0m\u001b[0;34m(\u001b[0m\u001b[0mmodel_code\u001b[0m\u001b[0;34m=\u001b[0m\u001b[0mmodel_code\u001b[0m\u001b[0;34m,\u001b[0m \u001b[0mmodel_name\u001b[0m\u001b[0;34m=\u001b[0m\u001b[0mmodel_name\u001b[0m\u001b[0;34m,\u001b[0m \u001b[0;34m**\u001b[0m\u001b[0mkwargs\u001b[0m\u001b[0;34m)\u001b[0m\u001b[0;34m\u001b[0m\u001b[0;34m\u001b[0m\u001b[0m\n\u001b[0m\u001b[1;32m    214\u001b[0m             \u001b[0;32mwith\u001b[0m \u001b[0mopen\u001b[0m\u001b[0;34m(\u001b[0m\u001b[0mcache_fn\u001b[0m\u001b[0;34m,\u001b[0m \u001b[0;34m'wb'\u001b[0m\u001b[0;34m)\u001b[0m \u001b[0;32mas\u001b[0m \u001b[0mf\u001b[0m\u001b[0;34m:\u001b[0m\u001b[0;34m\u001b[0m\u001b[0;34m\u001b[0m\u001b[0m\n\u001b[1;32m    215\u001b[0m                 \u001b[0mpickle\u001b[0m\u001b[0;34m.\u001b[0m\u001b[0mdump\u001b[0m\u001b[0;34m(\u001b[0m\u001b[0msm\u001b[0m\u001b[0;34m,\u001b[0m \u001b[0mf\u001b[0m\u001b[0;34m)\u001b[0m\u001b[0;34m\u001b[0m\u001b[0;34m\u001b[0m\u001b[0m\n",
      "\u001b[0;32m~/.virtualenvs/bayes/lib/python3.7/site-packages/pystan/model.py\u001b[0m in \u001b[0;36m__init__\u001b[0;34m(self, file, charset, model_name, model_code, stanc_ret, include_paths, boost_lib, eigen_lib, verbose, obfuscate_model_name, extra_compile_args)\u001b[0m\n\u001b[1;32m    221\u001b[0m                                          \u001b[0mverbose\u001b[0m\u001b[0;34m=\u001b[0m\u001b[0mverbose\u001b[0m\u001b[0;34m,\u001b[0m\u001b[0;34m\u001b[0m\u001b[0;34m\u001b[0m\u001b[0m\n\u001b[1;32m    222\u001b[0m                                          \u001b[0minclude_paths\u001b[0m\u001b[0;34m=\u001b[0m\u001b[0minclude_paths\u001b[0m\u001b[0;34m,\u001b[0m\u001b[0;34m\u001b[0m\u001b[0;34m\u001b[0m\u001b[0m\n\u001b[0;32m--> 223\u001b[0;31m                                          obfuscate_model_name=obfuscate_model_name)\n\u001b[0m\u001b[1;32m    224\u001b[0m \u001b[0;34m\u001b[0m\u001b[0m\n\u001b[1;32m    225\u001b[0m         \u001b[0;32mif\u001b[0m \u001b[0;32mnot\u001b[0m \u001b[0misinstance\u001b[0m\u001b[0;34m(\u001b[0m\u001b[0mstanc_ret\u001b[0m\u001b[0;34m,\u001b[0m \u001b[0mdict\u001b[0m\u001b[0;34m)\u001b[0m\u001b[0;34m:\u001b[0m\u001b[0;34m\u001b[0m\u001b[0;34m\u001b[0m\u001b[0m\n",
      "\u001b[0;32m~/.virtualenvs/bayes/lib/python3.7/site-packages/pystan/api.py\u001b[0m in \u001b[0;36mstanc\u001b[0;34m(file, charset, model_code, model_name, include_paths, verbose, obfuscate_model_name)\u001b[0m\n\u001b[1;32m    165\u001b[0m             \u001b[0mmsg\u001b[0m \u001b[0;34m=\u001b[0m \u001b[0mmsg\u001b[0m\u001b[0;34m.\u001b[0m\u001b[0mencode\u001b[0m\u001b[0;34m(\u001b[0m\u001b[0;34m'ascii'\u001b[0m\u001b[0;34m,\u001b[0m \u001b[0;34m'replace'\u001b[0m\u001b[0;34m)\u001b[0m\u001b[0;34m\u001b[0m\u001b[0;34m\u001b[0m\u001b[0m\n\u001b[1;32m    166\u001b[0m         \u001b[0merror_msg\u001b[0m \u001b[0;34m=\u001b[0m \u001b[0;34m\"Failed to parse Stan model '{}'. Error message:\\n{}\"\u001b[0m\u001b[0;34m.\u001b[0m\u001b[0mformat\u001b[0m\u001b[0;34m(\u001b[0m\u001b[0mmodel_name\u001b[0m\u001b[0;34m,\u001b[0m \u001b[0mmsg\u001b[0m\u001b[0;34m)\u001b[0m\u001b[0;34m\u001b[0m\u001b[0;34m\u001b[0m\u001b[0m\n\u001b[0;32m--> 167\u001b[0;31m         \u001b[0;32mraise\u001b[0m \u001b[0mValueError\u001b[0m\u001b[0;34m(\u001b[0m\u001b[0merror_msg\u001b[0m\u001b[0;34m)\u001b[0m\u001b[0;34m\u001b[0m\u001b[0;34m\u001b[0m\u001b[0m\n\u001b[0m\u001b[1;32m    168\u001b[0m     \u001b[0;32melif\u001b[0m \u001b[0mresult\u001b[0m\u001b[0;34m[\u001b[0m\u001b[0;34m'status'\u001b[0m\u001b[0;34m]\u001b[0m \u001b[0;34m==\u001b[0m \u001b[0;36m0\u001b[0m\u001b[0;34m:\u001b[0m  \u001b[0;31m# SUCCESS_RC is 0\u001b[0m\u001b[0;34m\u001b[0m\u001b[0;34m\u001b[0m\u001b[0m\n\u001b[1;32m    169\u001b[0m         \u001b[0mlogger\u001b[0m\u001b[0;34m.\u001b[0m\u001b[0mdebug\u001b[0m\u001b[0;34m(\u001b[0m\u001b[0;34m\"Successfully parsed Stan model '{}'.\"\u001b[0m\u001b[0;34m.\u001b[0m\u001b[0mformat\u001b[0m\u001b[0;34m(\u001b[0m\u001b[0mmodel_name\u001b[0m\u001b[0;34m)\u001b[0m\u001b[0;34m)\u001b[0m\u001b[0;34m\u001b[0m\u001b[0;34m\u001b[0m\u001b[0m\n",
      "\u001b[0;31mValueError\u001b[0m: Failed to parse Stan model 'tracks_and_cascades_sim_12ae205c4a320b6de437547eeda14bac'. Error message:\nSYNTAX ERROR, MESSAGE(S) FROM PARSER:\nVariable \"Emin\" does not exist.\n error in 'unknown file name' at line 326, column 25\n  -------------------------------------------------\n   324:     /* The real deal */\n   325:     Edet[i] = Edet_rng(E[i], E_xknots, E_yknots, E_p, E_c);  \n   326:     while (Edet[i] < Emin) {\n                                ^\n   327:       Edet[i] = Edet_rng(E[i], E_xknots, E_yknots, E_p, E_c);\n  -------------------------------------------------\n\n"
     ]
    }
   ],
   "source": [
    "# Compile Stan model\n",
    "sim = stan_utility.compile_model(filename = 'stan/tracks_and_cascades_sim.stan', \n",
    "                                 model_name = 'tracks_and_cascades_sim', \n",
    "                                 include_paths = 'stan/')"
   ]
  },
  {
   "cell_type": "code",
   "execution_count": null,
   "metadata": {
    "ExecuteTime": {
     "end_time": "2019-05-24T11:01:02.960979Z",
     "start_time": "2019-05-24T11:00:46.670810Z"
    }
   },
   "outputs": [],
   "source": [
    "# Simulate\n",
    "simulation = sim.sampling(data=sim_input, iter=1, chains=1, \n",
    "                          algorithm=\"Fixed_param\", seed=random_seed)"
   ]
  },
  {
   "cell_type": "code",
   "execution_count": null,
   "metadata": {
    "ExecuteTime": {
     "end_time": "2019-05-24T11:01:03.772299Z",
     "start_time": "2019-05-24T11:01:02.963314Z"
    }
   },
   "outputs": [],
   "source": [
    "# Extract output\n",
    "from fancy.interfaces.stan import Direction\n",
    "from fancy.plotting import AllSkyMap\n",
    "\n",
    "# Energies\n",
    "Esrc = simulation.extract(['Esrc'])['Esrc'][0]\n",
    "E = simulation.extract(['E'])['E'][0]\n",
    "Edet = simulation.extract(['Edet'])['Edet'][0]\n",
    "\n",
    "# Arrival directions\n",
    "event = simulation.extract(['event'])['event'][0]\n",
    "event = Direction(event)\n",
    "e_ra = event.d.icrs.ra.rad\n",
    "e_dec = event.d.icrs.dec.rad\n",
    "\n",
    "source = Direction(unit_vector)\n",
    "s_ra = source.d.icrs.ra.rad\n",
    "s_dec = source.d.icrs.dec.rad"
   ]
  },
  {
   "cell_type": "code",
   "execution_count": null,
   "metadata": {
    "ExecuteTime": {
     "end_time": "2019-05-24T11:01:03.794851Z",
     "start_time": "2019-05-24T11:01:03.774738Z"
    }
   },
   "outputs": [],
   "source": [
    "# Labels\n",
    "lam = simulation.extract(['lambda'])['lambda'][0] - 1\n",
    "Nc = Ns\n",
    "label_cmap = plt.cm.get_cmap('plasma', Nc+1)\n",
    "\n",
    "lam = list(lam)\n",
    "Nsrc = sum([lam.count(_) for _ in range(int(Nc))])\n",
    "Nbg = lam.count(Nc)\n",
    "print('Nsrc: ', Nsrc)\n",
    "print('Nbg: ', Nbg)\n",
    "print('w_bg: ', Nbg / (Nbg+Nsrc))"
   ]
  },
  {
   "cell_type": "code",
   "execution_count": null,
   "metadata": {
    "ExecuteTime": {
     "end_time": "2019-05-24T11:01:04.164285Z",
     "start_time": "2019-05-24T11:01:03.797641Z"
    }
   },
   "outputs": [],
   "source": [
    "from matplotlib.colors import LinearSegmentedColormap\n",
    "\n",
    "fig, ax = plt.subplots()\n",
    "fig.set_size_inches((10, 8))\n",
    "skymap = AllSkyMap(projection = 'hammer', lon_0 = 0, lat_0 = 0);\n",
    "for r, d, l in zip(e_ra, e_dec, lam):\n",
    "    color = label_cmap.colors[int(l)]\n",
    "    skymap.tissot(np.rad2deg(r), np.rad2deg(d), 2, 30, color = color, alpha = 0.7)\n",
    "norm = max([1 - _/zth for _ in redshift])\n",
    "for r, d, z in zip(s_ra, s_dec, redshift):\n",
    "    skymap.tissot(np.rad2deg(r), np.rad2deg(d), 2, 30, color = 'black', \n",
    "                  alpha = (1 - z/zth)/norm)"
   ]
  },
  {
   "cell_type": "code",
   "execution_count": null,
   "metadata": {
    "ExecuteTime": {
     "end_time": "2019-05-24T11:01:05.279373Z",
     "start_time": "2019-05-24T11:01:04.166660Z"
    }
   },
   "outputs": [],
   "source": [
    "# Plot energies\n",
    "Emin = sim_input['Emin']\n",
    "bins = np.logspace(np.log(Emin/10), np.log(1E+4*Emin), base = np.e)\n",
    "\n",
    "fig, ax = plt.subplots()\n",
    "ax.hist(Esrc, bins=bins, label='$\\\\tilde{E}$', alpha=0.7);\n",
    "ax.hist(Edet, bins=bins, label='$\\hat{E}$', alpha=0.7);\n",
    "ax.set_xscale('log')\n",
    "ax.set_yscale('log')\n",
    "ax.set_xlabel('$E$ / GeV')\n",
    "ax.legend();"
   ]
  },
  {
   "cell_type": "markdown",
   "metadata": {},
   "source": [
    "## Fitting the model"
   ]
  },
  {
   "cell_type": "code",
   "execution_count": null,
   "metadata": {
    "ExecuteTime": {
     "end_time": "2019-05-24T11:01:14.136933Z",
     "start_time": "2019-05-24T11:01:06.201533Z"
    }
   },
   "outputs": [],
   "source": [
    "# For convenience\n",
    "energy_conditional.get_norm_spline_Edet()"
   ]
  },
  {
   "cell_type": "code",
   "execution_count": null,
   "metadata": {
    "ExecuteTime": {
     "end_time": "2019-05-24T11:01:14.186736Z",
     "start_time": "2019-05-24T11:01:14.138675Z"
    }
   },
   "outputs": [],
   "source": [
    "# Precompute interpolation grids for energy resolution\n",
    "prob_grid = []\n",
    "log10_E_grid = []\n",
    "for lEdet in np.log10(Edet):\n",
    "    prob_i = []\n",
    "    log10_E_grid_i = np.linspace(4.0, 7, 100)\n",
    "    # log10_E_grid_i = np.linspace(lEdet-0.5, lEdet+0.5) # for Nue_CC!\n",
    "    for lE in log10_E_grid_i:\n",
    "        prob_i.append(energy_conditional.norm_spline(lE, lEdet)[0][0])\n",
    "    prob_grid.append(prob_i)\n",
    "    log10_E_grid.append(log10_E_grid_i)"
   ]
  },
  {
   "cell_type": "code",
   "execution_count": null,
   "metadata": {
    "ExecuteTime": {
     "end_time": "2019-05-24T11:07:17.727338Z",
     "start_time": "2019-05-24T11:07:17.503202Z"
    }
   },
   "outputs": [],
   "source": [
    "# Plot for a random neutrino to show:\n",
    "fig, ax = plt.subplots()\n",
    "i=16\n",
    "ax.scatter(log10_E_grid[i], prob_grid[i])\n",
    "ax.axvline(np.log10(Edet[i]), label='$E_\\mathrm{det}$', color='k', linestyle=':')\n",
    "ax.set_xlabel('log10($E_\\\\nu$)', fontsize=14)\n",
    "ax.set_ylabel('$P(E_\\mathrm{det}| E_\\\\nu)$', fontsize=14)\n",
    "ax.legend(fontsize=14)"
   ]
  },
  {
   "cell_type": "code",
   "execution_count": null,
   "metadata": {
    "ExecuteTime": {
     "end_time": "2019-05-24T11:07:23.645519Z",
     "start_time": "2019-05-24T11:07:23.597273Z"
    }
   },
   "outputs": [],
   "source": [
    "# Prepare fit inputs\n",
    "fit_input = {}\n",
    "fit_input['N'] = len(event.unit_vector)\n",
    "fit_input['omega_det'] = event.unit_vector\n",
    "fit_input['Emin'] = sim_input['Emin']\n",
    "fit_input['Edet'] = Edet\n",
    "fit_input['Ns'] = Ns\n",
    "fit_input['varpi'] = source.unit_vector\n",
    "fit_input['D'] = sim_input['D']\n",
    "fit_input['z'] = sim_input['z']\n",
    "fit_input['kappa'] = sim_input['kappa']\n",
    "fit_input['Ngrid'] = sim_input['Ngrid'] \n",
    "fit_input['alpha_grid'] = sim_input['alpha_grid'] \n",
    "fit_input['integral_grid'] = sim_input['integral_grid'] \n",
    "fit_input['T'] = sim_input['T']\n",
    "\n",
    "# Spline\n",
    "fit_input['p'] = sim_input['p']\n",
    "fit_input['Lknots_x'] = sim_input['Lknots_x'] \n",
    "fit_input['Lknots_y'] = sim_input['Lknots_y'] \n",
    "fit_input['xknots'] = sim_input['xknots'] \n",
    "fit_input['yknots'] = sim_input['yknots'] \n",
    "fit_input['c'] = sim_input['c'] \n",
    "\n",
    "# Energy interp\n",
    "fit_input['E_Ngrid'] = len(prob_grid[0])\n",
    "fit_input['log10_E_grid'] = log10_E_grid\n",
    "fit_input['prob_grid'] = prob_grid\n",
    "\n",
    "# Debugging\n",
    "fit_input['Q_scale'] = sim_input['Q']\n",
    "fit_input['F0_scale'] = sim_input['F0']"
   ]
  },
  {
   "cell_type": "code",
   "execution_count": null,
   "metadata": {
    "ExecuteTime": {
     "end_time": "2019-05-24T11:15:25.170821Z",
     "start_time": "2019-05-24T11:15:25.158967Z"
    }
   },
   "outputs": [],
   "source": [
    "# Compile the model\n",
    "model = stan_utility.compile_model(filename = 'stan/joint_cascade_model_Eres.stan', \n",
    "                                   model_name = 'Eres_model', \n",
    "                                   include_paths = 'stan/')"
   ]
  },
  {
   "cell_type": "code",
   "execution_count": null,
   "metadata": {
    "ExecuteTime": {
     "end_time": "2019-05-24T11:15:50.927674Z",
     "start_time": "2019-05-24T11:15:25.487632Z"
    }
   },
   "outputs": [],
   "source": [
    "fit = model.sampling(data = fit_input, iter = 1000, chains = 4, seed = random_seed)"
   ]
  },
  {
   "cell_type": "code",
   "execution_count": null,
   "metadata": {
    "ExecuteTime": {
     "end_time": "2019-05-24T11:15:54.170000Z",
     "start_time": "2019-05-24T11:15:50.930288Z"
    }
   },
   "outputs": [],
   "source": [
    "# View chains\n",
    "fig = fit.plot([r'Q', r'F0', r'f', r'alpha', r'F', r'Esrc']);\n",
    "fig.set_size_inches(20, 16)\n",
    "fig.tight_layout()"
   ]
  },
  {
   "cell_type": "code",
   "execution_count": null,
   "metadata": {
    "ExecuteTime": {
     "end_time": "2019-05-24T11:15:56.079686Z",
     "start_time": "2019-05-24T11:15:54.171748Z"
    }
   },
   "outputs": [],
   "source": [
    "# View corner plot\n",
    "chain = fit.extract(permuted = True)\n",
    "key_list = ['F0', 'Q', 'FT', 'f', 'alpha']\n",
    "labels = [r'$F_0$', r'Q', r'FT', r'f', 'alpha']\n",
    "truths = [sim_input['F0'], sim_input['Q'], total_flux, f, sim_input['alpha']]\n",
    "\n",
    "corner.corner(np.nan_to_num(np.column_stack([chain[key] for key in key_list])),\n",
    "              labels = labels, \n",
    "              truths = truths);"
   ]
  },
  {
   "cell_type": "markdown",
   "metadata": {},
   "source": [
    "## Association probabilities"
   ]
  },
  {
   "cell_type": "code",
   "execution_count": null,
   "metadata": {
    "ExecuteTime": {
     "end_time": "2019-04-30T16:41:57.505668Z",
     "start_time": "2019-04-30T16:41:57.500021Z"
    }
   },
   "outputs": [],
   "source": [
    "logprob = chain['lp'].transpose(1, 2, 0)\n",
    "N = np.shape(logprob)[0]\n",
    "\n",
    "# Account for background component\n",
    "Ns = np.shape(logprob)[1] - 1"
   ]
  },
  {
   "cell_type": "code",
   "execution_count": null,
   "metadata": {
    "ExecuteTime": {
     "end_time": "2019-04-30T09:11:06.614886Z",
     "start_time": "2019-04-30T09:11:06.322993Z"
    }
   },
   "outputs": [],
   "source": [
    "# Calculate association probabilities for each source-neutrino combo\n",
    "nu_p = []\n",
    "for lp in logprob:\n",
    "    lps = []\n",
    "    for src in range(Ns+1):\n",
    "        lps.append(np.mean(np.exp(lp[src])))\n",
    "\n",
    "    norm = sum(lps)\n",
    "    ps = []\n",
    "    for src in range(Ns+1):\n",
    "        ps.append(lps[src] / norm)\n",
    "    nu_p.append(ps)\n",
    "\n",
    "# Normalise line weights\n",
    "pmax = max(max(nu_p))"
   ]
  },
  {
   "cell_type": "code",
   "execution_count": null,
   "metadata": {
    "ExecuteTime": {
     "end_time": "2019-04-30T09:11:07.240228Z",
     "start_time": "2019-04-30T09:11:06.617998Z"
    }
   },
   "outputs": [],
   "source": [
    "# Figure\n",
    "fig, ax = plt.subplots()\n",
    "fig.set_size_inches((12, 6))\n",
    "skymap = AllSkyMap(projection = 'hammer', lon_0 = 0, lat_0 = 0);\n",
    "\n",
    "# Sources\n",
    "for r, d in zip(s_ra, s_dec):\n",
    "    skymap.tissot(np.rad2deg(r), np.rad2deg(d), 2, 30, color = 'black')\n",
    "    \n",
    "# Neutrinos\n",
    "for r, d, l in zip(e_ra, e_dec, lam):\n",
    "    color = label_cmap.colors[int(l)]\n",
    "    skymap.tissot(np.rad2deg(r), np.rad2deg(d), 2, 30, color = color, alpha = 0.7)\n",
    "    \n",
    "# Association\n",
    "for i, p in enumerate(nu_p):\n",
    "    for j, psrc in enumerate(p[0:Ns]):\n",
    "        if psrc > 0.001:\n",
    "            skymap.geodesic(np.rad2deg(e_ra[i]), np.rad2deg(e_dec[i]), \n",
    "                            np.rad2deg(s_ra[j]), np.rad2deg(s_dec[j]), \n",
    "                            color = 'black', lw = 3, alpha = psrc/pmax, zorder = 10)"
   ]
  },
  {
   "cell_type": "code",
   "execution_count": null,
   "metadata": {},
   "outputs": [],
   "source": []
  }
 ],
 "metadata": {
  "kernelspec": {
   "display_name": "bayes",
   "language": "python",
   "name": "bayes"
  },
  "language_info": {
   "codemirror_mode": {
    "name": "ipython",
    "version": 3
   },
   "file_extension": ".py",
   "mimetype": "text/x-python",
   "name": "python",
   "nbconvert_exporter": "python",
   "pygments_lexer": "ipython3",
   "version": "3.7.3"
  }
 },
 "nbformat": 4,
 "nbformat_minor": 2
}
