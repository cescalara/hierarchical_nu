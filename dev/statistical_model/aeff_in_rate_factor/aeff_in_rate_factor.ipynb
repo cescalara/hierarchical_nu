{
 "cells": [
  {
   "cell_type": "markdown",
   "metadata": {},
   "source": [
    "# $A_{\\rm{eff}}$ in rate factor\n"
   ]
  },
  {
   "cell_type": "code",
   "execution_count": 219,
   "metadata": {
    "ExecuteTime": {
     "end_time": "2019-07-24T10:12:44.507917Z",
     "start_time": "2019-07-24T10:12:44.504847Z"
    }
   },
   "outputs": [],
   "source": [
    "import numpy as np\n",
    "import stan_utility\n",
    "from matplotlib import pyplot as plt\n",
    "import corner"
   ]
  },
  {
   "cell_type": "code",
   "execution_count": 220,
   "metadata": {
    "ExecuteTime": {
     "end_time": "2019-07-24T10:12:44.759501Z",
     "start_time": "2019-07-24T10:12:44.756297Z"
    }
   },
   "outputs": [],
   "source": [
    "random_seed = 19920715"
   ]
  },
  {
   "cell_type": "markdown",
   "metadata": {},
   "source": [
    "## The idea\n",
    "\n",
    "Consider a inhomogeneous poisson point process over 2 sources in 1D space (x-axis). Events are detected from the two sources with some uncertainty. The produced events have associated energies, with uniform probabilities. Our \"detector\" has an effective area as a function of position, $x$ and energy $E$.\n",
    "\n",
    "The likelihood:\n",
    "$$\n",
    "e^{-\\bar{N}} \\prod_i \\sum_k w_k  A_{\\rm{eff}}(E_i, x_i) p(E_i | E_{\\rm{min}}, E_{\\rm{max}}) p(x_i | \\mu_k, \\sigma),\n",
    "$$\n",
    "\n",
    "Where \n",
    "$$\n",
    "\\bar{N}_k = \\int {\\rm{d}}x \\int {\\rm{d}}E \\ A_{\\rm{eff}}(x, E) \\frac{{\\rm{d}} N}{ {\\rm{d}}x {\\rm{d}}E },\n",
    "$$\n",
    "\n",
    "\n",
    "$$\n",
    "\\bar{N} = \\sum_k \\bar{N}_k,\n",
    "$$\n",
    "with $x \\sim N(\\mu, \\sigma)$ and $E \\sim U(E_{\\rm{min}}, E_{\\rm{max}})$.\n",
    "\n",
    "We want to identify the mixture weights $w_k$, and the individual association probabilities. The effect of leaving out $A_{\\rm{eff}}$ from the rate factor of the likelihood should be made explicit."
   ]
  },
  {
   "cell_type": "markdown",
   "metadata": {},
   "source": [
    "## Simple demonstration\n",
    "\n",
    "To keep things simple, consider that the $A_\\rm{eff}$ effects in $x$ and $E$ are independent. Then treat the $A_{\\rm{eff}}(x)$ as a simple \"area weight\" over each source that is predefined. Then $A_{\\rm{eff}}(E)$ is a step function at $E_{\\rm{th}}^k$ which is different for different sources.\n",
    "\n",
    "So we have:\n",
    "$$\n",
    "\\bar{N}_k = w_k \\frac{ {\\rm{d}}N }{ {\\rm{d}}E } (E_{\\rm{max}} - E_{\\rm{min}})\n",
    "$$\n",
    "\n",
    "We fit for the case of including the energy step function, and ignoring it."
   ]
  },
  {
   "cell_type": "markdown",
   "metadata": {},
   "source": [
    "## Simulate some data"
   ]
  },
  {
   "cell_type": "code",
   "execution_count": 221,
   "metadata": {
    "ExecuteTime": {
     "end_time": "2019-07-24T10:12:46.624097Z",
     "start_time": "2019-07-24T10:12:46.612612Z"
    }
   },
   "outputs": [
    {
     "name": "stdout",
     "output_type": "stream",
     "text": [
      "Using cached StanModel\n"
     ]
    }
   ],
   "source": [
    "# Compile the model\n",
    "sim = stan_utility.compile_model(filename = 'aeff_in_rate_factor_sim.stan', \n",
    "                                 model_name = 'aeff_in_rate_factor', \n",
    "                                 include_paths = 'stan/')"
   ]
  },
  {
   "cell_type": "code",
   "execution_count": 235,
   "metadata": {
    "ExecuteTime": {
     "end_time": "2019-07-24T10:13:15.230770Z",
     "start_time": "2019-07-24T10:13:15.206375Z"
    }
   },
   "outputs": [
    {
     "name": "stdout",
     "output_type": "stream",
     "text": [
      "N:  286\n",
      "true weight:  [0.45904173 0.54095827]\n"
     ]
    }
   ],
   "source": [
    "# Simulate\n",
    "sim_input = {}\n",
    "sim_input['Ncomp'] = 2\n",
    "sim_input['mu'] = [10, 20]\n",
    "sim_input['sigma'] = 5\n",
    "sim_input['area_weight'] = [0.3, 0.7]\n",
    "sim_input['Eth'] = [1, 50]\n",
    "sim_input['Emax'] = 100\n",
    "sim_input['dNdE'] = 4\n",
    "\n",
    "simulation = sim.sampling(data=sim_input, iter=1, chains=1, \n",
    "                          algorithm=\"Fixed_param\", seed = random_seed)\n",
    "\n",
    "\n",
    "location = simulation.extract('location')['location'][0]\n",
    "energy = simulation.extract('energy')['energy'][0]\n",
    "label = simulation.extract('label')['label'][0]\n",
    "weight = simulation.extract('weight_out')['weight_out'][0]\n",
    "\n",
    "print('N: ', len(location))\n",
    "print('true weight: ', weight)"
   ]
  },
  {
   "cell_type": "code",
   "execution_count": 236,
   "metadata": {
    "ExecuteTime": {
     "end_time": "2019-07-24T10:13:15.872735Z",
     "start_time": "2019-07-24T10:13:15.622462Z"
    }
   },
   "outputs": [
    {
     "data": {
      "image/png": "[encoded data removed]",
      "text/plain": [
       "<Figure size 432x288 with 1 Axes>"
      ]
     },
     "metadata": {
      "needs_background": "light"
     },
     "output_type": "display_data"
    }
   ],
   "source": [
    "# plot the detected locations from the two components\n",
    "fig, ax = plt.subplots()\n",
    "ax.hist(location[label == 1], alpha=0.7, label='comp1')\n",
    "ax.hist(location[label == 2], alpha=0.7, label='comp2')\n",
    "ax.set_xlabel('$x$')\n",
    "ax.set_title('location')\n",
    "ax.legend();"
   ]
  },
  {
   "cell_type": "code",
   "execution_count": 237,
   "metadata": {
    "ExecuteTime": {
     "end_time": "2019-07-24T10:13:16.267374Z",
     "start_time": "2019-07-24T10:13:16.010291Z"
    }
   },
   "outputs": [
    {
     "data": {
      "image/png": "[encoded data removed]",
      "text/plain": [
       "<Figure size 432x288 with 1 Axes>"
      ]
     },
     "metadata": {
      "needs_background": "light"
     },
     "output_type": "display_data"
    }
   ],
   "source": [
    "# plot detected energies\n",
    "fig, ax = plt.subplots()\n",
    "ax.hist(energy[label == 1], label='comp1', alpha=0.7)\n",
    "ax.hist(energy[label == 2], label='comp2', alpha=0.7)\n",
    "ax.set_xlabel('$E$')\n",
    "ax.legend();"
   ]
  },
  {
   "cell_type": "markdown",
   "metadata": {},
   "source": [
    "## Fit the data"
   ]
  },
  {
   "cell_type": "code",
   "execution_count": 238,
   "metadata": {
    "ExecuteTime": {
     "end_time": "2019-07-24T10:13:17.212974Z",
     "start_time": "2019-07-24T10:13:17.201273Z"
    }
   },
   "outputs": [
    {
     "name": "stdout",
     "output_type": "stream",
     "text": [
      "Using cached StanModel\n"
     ]
    }
   ],
   "source": [
    "# Compile the model\n",
    "model = stan_utility.compile_model(filename = 'aeff_in_rate_factor_model.stan', \n",
    "                                   model_name = 'aeff_in_rate_factor', \n",
    "                                   include_paths = 'stan/')"
   ]
  },
  {
   "cell_type": "code",
   "execution_count": 239,
   "metadata": {
    "ExecuteTime": {
     "end_time": "2019-07-24T10:13:17.794961Z",
     "start_time": "2019-07-24T10:13:17.789426Z"
    }
   },
   "outputs": [],
   "source": [
    "fit_input = {}\n",
    "fit_input['Ncomp'] = sim_input['Ncomp']\n",
    "fit_input['sigma'] = sim_input['sigma']\n",
    "fit_input['Emax'] = sim_input['Emax']\n",
    "fit_input['Eth'] = sim_input['Eth']\n",
    "fit_input['dNdE'] = sim_input['dNdE']\n",
    "fit_input['mu'] = sim_input['mu']\n",
    "fit_input['area_weight'] = sim_input['area_weight']\n",
    "fit_input['N'] = len(location)\n",
    "fit_input['location'] = location\n",
    "fit_input['energy'] = energy\n",
    "\n",
    "fit_input['include_energy'] = 1"
   ]
  },
  {
   "cell_type": "markdown",
   "metadata": {},
   "source": [
    "#### First without the $A_{\\rm{eff}}$..."
   ]
  },
  {
   "cell_type": "code",
   "execution_count": 240,
   "metadata": {
    "ExecuteTime": {
     "end_time": "2019-07-24T10:13:20.120204Z",
     "start_time": "2019-07-24T10:13:18.529278Z"
    }
   },
   "outputs": [],
   "source": [
    "fit_input['extra_factor'] = 0\n",
    "fit_without = model.sampling(data = fit_input, iter = 1000, chains = 4, seed = random_seed)"
   ]
  },
  {
   "cell_type": "code",
   "execution_count": 241,
   "metadata": {
    "ExecuteTime": {
     "end_time": "2019-07-24T10:13:20.536035Z",
     "start_time": "2019-07-24T10:13:20.123455Z"
    }
   },
   "outputs": [
    {
     "data": {
      "image/png": "[encoded data removed]",
      "text/plain": [
       "<Figure size 396x396 with 4 Axes>"
      ]
     },
     "metadata": {
      "needs_background": "light"
     },
     "output_type": "display_data"
    }
   ],
   "source": [
    "# Compare fit weight and true weight\n",
    "chain = fit_without.extract(permuted = True)\n",
    "w = chain['weight'].T\n",
    "corner.corner(np.column_stack([w[0], w[1]]), labels=['w1', 'w2'], \n",
    "              truths=[weight[0], weight[1]]);"
   ]
  },
  {
   "cell_type": "code",
   "execution_count": 242,
   "metadata": {
    "ExecuteTime": {
     "end_time": "2019-07-24T10:13:20.672380Z",
     "start_time": "2019-07-24T10:13:20.646296Z"
    }
   },
   "outputs": [],
   "source": [
    "# Calculate association probabilities for each source-neutrino combo\n",
    "logprob = chain['lp'].transpose(1, 2, 0)\n",
    "N = np.shape(logprob)[0]\n",
    "Ns = np.shape(logprob)[1]\n",
    "p = []\n",
    "for lp in logprob:\n",
    "    lps = []\n",
    "    for src in range(Ns):\n",
    "        lps.append(np.mean(np.exp(lp[src])))\n",
    "\n",
    "    norm = sum(lps)\n",
    "    ps = []\n",
    "    for src in range(Ns):\n",
    "        ps.append(lps[src] / norm)\n",
    "    p.append(ps)\n",
    "\n",
    "# Normalise line weights\n",
    "pmax = max(max(p))"
   ]
  },
  {
   "cell_type": "code",
   "execution_count": 243,
   "metadata": {
    "ExecuteTime": {
     "end_time": "2019-07-24T10:13:22.339690Z",
     "start_time": "2019-07-24T10:13:22.081541Z"
    }
   },
   "outputs": [
    {
     "data": {
      "image/png": "[encoded data removed]",
      "text/plain": [
       "<Figure size 432x288 with 1 Axes>"
      ]
     },
     "metadata": {
      "needs_background": "light"
     },
     "output_type": "display_data"
    }
   ],
   "source": [
    "# Plot associatio probabilities of events with energies below E_th of the component with the energy cut\n",
    "energy_below_th = energy[energy < sim_input['Eth'][1]]\n",
    "inds = np.where(energy < sim_input['Eth'][1])[0]\n",
    "p_select = [p[_] for _ in inds]\n",
    "\n",
    "fig, ax = plt.subplots()\n",
    "ax.hist(np.array(p_select).T[0], label='comp1')\n",
    "ax.hist(np.array(p_select).T[1], label='comp2')\n",
    "ax.legend();\n",
    "ax.set_xlabel('Association probability');"
   ]
  },
  {
   "cell_type": "markdown",
   "metadata": {},
   "source": [
    "#### So, weights are fit correctly, but some events which have $E < E_{\\rm{th}}$ have non zeros assocation with comp2... not physical!"
   ]
  },
  {
   "cell_type": "markdown",
   "metadata": {},
   "source": [
    "#### Let's fix this by including the factor"
   ]
  },
  {
   "cell_type": "code",
   "execution_count": 244,
   "metadata": {
    "ExecuteTime": {
     "end_time": "2019-07-24T10:13:24.780388Z",
     "start_time": "2019-07-24T10:13:23.577456Z"
    }
   },
   "outputs": [
    {
     "name": "stderr",
     "output_type": "stream",
     "text": [
      "WARNING:pystan:n_eff / iter below 0.001 indicates that the effective sample size has likely been overestimated\n",
      "WARNING:pystan:Rhat above 1.1 or below 0.9 indicates that the chains very likely have not mixed\n"
     ]
    }
   ],
   "source": [
    "fit_input['extra_factor'] = 1\n",
    "fit_with = model.sampling(data = fit_input, iter = 1000, chains = 4, seed = random_seed)"
   ]
  },
  {
   "cell_type": "code",
   "execution_count": 245,
   "metadata": {
    "ExecuteTime": {
     "end_time": "2019-07-24T10:13:25.204393Z",
     "start_time": "2019-07-24T10:13:24.783646Z"
    }
   },
   "outputs": [
    {
     "data": {
      "image/png": "[encoded data removed]",
      "text/plain": [
       "<Figure size 396x396 with 4 Axes>"
      ]
     },
     "metadata": {
      "needs_background": "light"
     },
     "output_type": "display_data"
    }
   ],
   "source": [
    "# Compare fit weight and true weight\n",
    "chain = fit_with.extract(permuted = True)\n",
    "w = chain['weight'].T\n",
    "corner.corner(np.column_stack([w[0], w[1]]), labels=['w1', 'w2'], \n",
    "              truths=[weight[0], weight[1]]);"
   ]
  },
  {
   "cell_type": "code",
   "execution_count": 246,
   "metadata": {
    "ExecuteTime": {
     "end_time": "2019-07-24T10:13:25.782370Z",
     "start_time": "2019-07-24T10:13:25.757423Z"
    }
   },
   "outputs": [],
   "source": [
    "# Calculate association probabilities for each source-neutrino combo\n",
    "logprob = chain['lp'].transpose(1, 2, 0)\n",
    "N = np.shape(logprob)[0]\n",
    "Ns = np.shape(logprob)[1]\n",
    "p = []\n",
    "for lp in logprob:\n",
    "    lps = []\n",
    "    for src in range(Ns):\n",
    "        lps.append(np.mean(np.exp(lp[src])))\n",
    "\n",
    "    norm = sum(lps)\n",
    "    ps = []\n",
    "    for src in range(Ns):\n",
    "        ps.append(lps[src] / norm)\n",
    "    p.append(ps)\n",
    "\n",
    "# Normalise line weights\n",
    "pmax = max(max(p))"
   ]
  },
  {
   "cell_type": "code",
   "execution_count": 247,
   "metadata": {
    "ExecuteTime": {
     "end_time": "2019-07-24T10:13:26.467005Z",
     "start_time": "2019-07-24T10:13:26.193163Z"
    }
   },
   "outputs": [
    {
     "data": {
      "image/png": "[encoded data removed]",
      "text/plain": [
       "<Figure size 432x288 with 1 Axes>"
      ]
     },
     "metadata": {
      "needs_background": "light"
     },
     "output_type": "display_data"
    }
   ],
   "source": [
    "# Plot associatio probabilities of events with energies below E_th of the component with the energy cut\n",
    "energy_below_th = energy[energy < sim_input['Eth'][1]]\n",
    "inds = np.where(energy < sim_input['Eth'][1])[0]\n",
    "p_select = [p[_] for _ in inds]\n",
    "\n",
    "fig, ax = plt.subplots()\n",
    "ax.hist(np.array(p_select).T[0], label='comp1')\n",
    "ax.hist(np.array(p_select).T[1], label='comp2')\n",
    "ax.legend()\n",
    "ax.set_xlabel('Association probability');"
   ]
  },
  {
   "cell_type": "markdown",
   "metadata": {},
   "source": [
    "#### Summary - ignoring this, we can recover the correct weights, but not the correct association probabilities."
   ]
  },
  {
   "cell_type": "code",
   "execution_count": null,
   "metadata": {},
   "outputs": [],
   "source": []
  }
 ],
 "metadata": {
  "kernelspec": {
   "display_name": "bayes",
   "language": "python",
   "name": "bayes"
  },
  "language_info": {
   "codemirror_mode": {
    "name": "ipython",
    "version": 3
   },
   "file_extension": ".py",
   "mimetype": "text/x-python",
   "name": "python",
   "nbconvert_exporter": "python",
   "pygments_lexer": "ipython3",
   "version": "3.7.3"
  }
 },
 "nbformat": 4,
 "nbformat_minor": 2
}
