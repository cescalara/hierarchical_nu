{
 "cells": [
  {
   "cell_type": "markdown",
   "metadata": {},
   "source": [
    "# $A_{\\rm{eff}}$ in rate factor\n"
   ]
  },
  {
   "cell_type": "code",
   "execution_count": 44,
   "metadata": {
    "ExecuteTime": {
     "end_time": "2019-07-24T09:25:07.759298Z",
     "start_time": "2019-07-24T09:25:07.756165Z"
    }
   },
   "outputs": [],
   "source": [
    "import numpy as np\n",
    "import stan_utility\n",
    "from matplotlib import pyplot as plt\n",
    "import corner"
   ]
  },
  {
   "cell_type": "code",
   "execution_count": 45,
   "metadata": {
    "ExecuteTime": {
     "end_time": "2019-07-24T09:25:07.989618Z",
     "start_time": "2019-07-24T09:25:07.986441Z"
    }
   },
   "outputs": [],
   "source": [
    "random_seed = 19920715"
   ]
  },
  {
   "cell_type": "markdown",
   "metadata": {},
   "source": [
    "## Simple demonstration\n",
    "\n",
    "Use an inhomogeneous poisson process over a simple 1D gaussian mixture. The events are marked with energies to give the simplest representation of what we were discussing in the Aachen meeting."
   ]
  },
  {
   "cell_type": "code",
   "execution_count": 46,
   "metadata": {
    "ExecuteTime": {
     "end_time": "2019-07-24T09:25:52.929680Z",
     "start_time": "2019-07-24T09:25:08.671143Z"
    }
   },
   "outputs": [
    {
     "name": "stderr",
     "output_type": "stream",
     "text": [
      "INFO:pystan:COMPILING THE C++ CODE FOR MODEL aeff_in_rate_factor_5c65ccfb55d3ab92a571b10cd9ae20d8 NOW.\n"
     ]
    }
   ],
   "source": [
    "# Compile the model\n",
    "sim = stan_utility.compile_model(filename = 'aeff_in_rate_factor_sim.stan', \n",
    "                                 model_name = 'aeff_in_rate_factor', \n",
    "                                 include_paths = 'stan/')"
   ]
  },
  {
   "cell_type": "code",
   "execution_count": 139,
   "metadata": {
    "ExecuteTime": {
     "end_time": "2019-07-24T09:32:51.039344Z",
     "start_time": "2019-07-24T09:32:50.782393Z"
    }
   },
   "outputs": [
    {
     "name": "stdout",
     "output_type": "stream",
     "text": [
      "N:  150\n",
      "weight:  [0.40677966 0.59322034]\n"
     ]
    },
    {
     "data": {
      "image/png": "[encoded data removed]",
      "text/plain": [
       "<Figure size 432x288 with 1 Axes>"
      ]
     },
     "metadata": {
      "needs_background": "light"
     },
     "output_type": "display_data"
    }
   ],
   "source": [
    "# Simulate\n",
    "sim_input = {}\n",
    "sim_input['Ncomp'] = 2\n",
    "sim_input['mu'] = [10, 20]\n",
    "sim_input['sigma'] = 5\n",
    "sim_input['area_weight'] = [0.3, 0.7]\n",
    "sim_input['Eth'] = [20, 50]\n",
    "sim_input['Emax'] = 100\n",
    "sim_input['dNdE'] = 3\n",
    "\n",
    "simulation = sim.sampling(data=sim_input, iter=1, chains=1, \n",
    "                          algorithm=\"Fixed_param\", seed = random_seed)\n",
    "\n",
    "\n",
    "location = simulation.extract('location')['location'][0]\n",
    "energy = simulation.extract('energy')['energy'][0]\n",
    "label = simulation.extract('label')['label'][0]\n",
    "weight = simulation.extract('weight_out')['weight_out'][0]\n",
    "\n",
    "fig, ax = plt.subplots()\n",
    "ax.hist(location);\n",
    "print('N: ', len(location))\n",
    "print('weight: ', weight)"
   ]
  },
  {
   "cell_type": "code",
   "execution_count": 140,
   "metadata": {
    "ExecuteTime": {
     "end_time": "2019-07-24T09:32:53.272064Z",
     "start_time": "2019-07-24T09:32:53.069928Z"
    }
   },
   "outputs": [
    {
     "data": {
      "image/png": "[encoded data removed]",
      "text/plain": [
       "<Figure size 432x288 with 1 Axes>"
      ]
     },
     "metadata": {
      "needs_background": "light"
     },
     "output_type": "display_data"
    }
   ],
   "source": [
    "fig, ax = plt.subplots()\n",
    "ax.hist(energy);"
   ]
  },
  {
   "cell_type": "markdown",
   "metadata": {},
   "source": [
    "## Fit"
   ]
  },
  {
   "cell_type": "code",
   "execution_count": 141,
   "metadata": {
    "ExecuteTime": {
     "end_time": "2019-07-24T09:32:53.487129Z",
     "start_time": "2019-07-24T09:32:53.475046Z"
    }
   },
   "outputs": [
    {
     "name": "stdout",
     "output_type": "stream",
     "text": [
      "Using cached StanModel\n"
     ]
    }
   ],
   "source": [
    "# Compile the model\n",
    "model = stan_utility.compile_model(filename = 'aeff_in_rate_factor_model.stan', \n",
    "                                   model_name = 'aeff_in_rate_factor', \n",
    "                                   include_paths = 'stan/')"
   ]
  },
  {
   "cell_type": "code",
   "execution_count": 169,
   "metadata": {
    "ExecuteTime": {
     "end_time": "2019-07-24T09:40:37.831407Z",
     "start_time": "2019-07-24T09:40:37.825917Z"
    }
   },
   "outputs": [],
   "source": [
    "fit_input = {}\n",
    "fit_input['Ncomp'] = sim_input['Ncomp']\n",
    "fit_input['sigma'] = sim_input['sigma']\n",
    "fit_input['Emax'] = sim_input['Emax']\n",
    "fit_input['Eth'] = sim_input['Eth']\n",
    "fit_input['dNdE'] = sim_input['dNdE']\n",
    "fit_input['mu'] = sim_input['mu']\n",
    "fit_input['area_weight'] = sim_input['area_weight']\n",
    "fit_input['N'] = len(location)\n",
    "fit_input['location'] = location\n",
    "fit_input['energy'] = energy\n",
    "\n",
    "fit_input['extra_factor'] = 0\n",
    "fit_input['include_energy'] = 1"
   ]
  },
  {
   "cell_type": "code",
   "execution_count": 170,
   "metadata": {
    "ExecuteTime": {
     "end_time": "2019-07-24T09:40:39.017082Z",
     "start_time": "2019-07-24T09:40:38.169524Z"
    }
   },
   "outputs": [
    {
     "name": "stderr",
     "output_type": "stream",
     "text": [
      "WARNING:pystan:n_eff / iter below 0.001 indicates that the effective sample size has likely been overestimated\n",
      "WARNING:pystan:Rhat above 1.1 or below 0.9 indicates that the chains very likely have not mixed\n"
     ]
    }
   ],
   "source": [
    "fit = model.sampling(data = fit_input, iter = 1000, chains = 4, seed = random_seed)"
   ]
  },
  {
   "cell_type": "code",
   "execution_count": 171,
   "metadata": {
    "ExecuteTime": {
     "end_time": "2019-07-24T09:40:39.373286Z",
     "start_time": "2019-07-24T09:40:39.370236Z"
    }
   },
   "outputs": [],
   "source": [
    "#fit"
   ]
  },
  {
   "cell_type": "code",
   "execution_count": 172,
   "metadata": {
    "ExecuteTime": {
     "end_time": "2019-07-24T09:40:39.709583Z",
     "start_time": "2019-07-24T09:40:39.707210Z"
    }
   },
   "outputs": [],
   "source": [
    "# View chains\n",
    "#fig = fit.plot(['weight']);\n",
    "#fig.set_size_inches(10, 5)\n",
    "#fig.tight_layout()"
   ]
  },
  {
   "cell_type": "code",
   "execution_count": 173,
   "metadata": {
    "ExecuteTime": {
     "end_time": "2019-07-24T09:40:40.504188Z",
     "start_time": "2019-07-24T09:40:40.157444Z"
    }
   },
   "outputs": [
    {
     "data": {
      "image/png": "[encoded data removed]",
      "text/plain": [
       "<Figure size 396x396 with 4 Axes>"
      ]
     },
     "metadata": {
      "needs_background": "light"
     },
     "output_type": "display_data"
    }
   ],
   "source": [
    "chain = fit.extract(permuted = True)\n",
    "w = chain['weight'].T\n",
    "corner.corner(np.column_stack([w[0], w[1]]), labels=['w1', 'w2'], \n",
    "              truths=[weight[0], weight[1]]);"
   ]
  },
  {
   "cell_type": "markdown",
   "metadata": {},
   "source": [
    "## Association probability"
   ]
  },
  {
   "cell_type": "code",
   "execution_count": 174,
   "metadata": {
    "ExecuteTime": {
     "end_time": "2019-07-24T09:40:42.057210Z",
     "start_time": "2019-07-24T09:40:42.041668Z"
    }
   },
   "outputs": [],
   "source": [
    "# Calculate association probabilities for each source-neutrino combo\n",
    "logprob = chain['lp'].transpose(1, 2, 0)\n",
    "N = np.shape(logprob)[0]\n",
    "Ns = np.shape(logprob)[1]\n",
    "p = []\n",
    "for lp in logprob:\n",
    "    lps = []\n",
    "    for src in range(Ns):\n",
    "        lps.append(np.mean(np.exp(lp[src])))\n",
    "\n",
    "    norm = sum(lps)\n",
    "    ps = []\n",
    "    for src in range(Ns):\n",
    "        ps.append(lps[src] / norm)\n",
    "    p.append(ps)\n",
    "\n",
    "# Normalise line weights\n",
    "pmax = max(max(p))"
   ]
  },
  {
   "cell_type": "code",
   "execution_count": 175,
   "metadata": {
    "ExecuteTime": {
     "end_time": "2019-07-24T09:40:43.099065Z",
     "start_time": "2019-07-24T09:40:42.866219Z"
    }
   },
   "outputs": [
    {
     "data": {
      "image/png": "[encoded data removed]",
      "text/plain": [
       "<Figure size 432x288 with 1 Axes>"
      ]
     },
     "metadata": {
      "needs_background": "light"
     },
     "output_type": "display_data"
    }
   ],
   "source": [
    "energy_below_th = energy[energy < sim_input['Eth'][1]]\n",
    "inds = np.where(energy < sim_input['Eth'][1])[0]\n",
    "p_select = [p[_] for _ in inds]\n",
    "\n",
    "fig, ax = plt.subplots()\n",
    "ax.hist(np.array(p_select).T[0], label='comp1')\n",
    "ax.hist(np.array(p_select).T[1], label='comp2')\n",
    "ax.legend();"
   ]
  },
  {
   "cell_type": "code",
   "execution_count": null,
   "metadata": {},
   "outputs": [],
   "source": []
  }
 ],
 "metadata": {
  "kernelspec": {
   "display_name": "bayes",
   "language": "python",
   "name": "bayes"
  },
  "language_info": {
   "codemirror_mode": {
    "name": "ipython",
    "version": 3
   },
   "file_extension": ".py",
   "mimetype": "text/x-python",
   "name": "python",
   "nbconvert_exporter": "python",
   "pygments_lexer": "ipython3",
   "version": "3.7.3"
  }
 },
 "nbformat": 4,
 "nbformat_minor": 2
}
