{
 "cells": [
  {
   "cell_type": "markdown",
   "metadata": {},
   "source": [
    "# Joint cascade model with $A_\\rm{eff}(E, \\omega)$\n",
    "\n",
    "Add in the 2D Aeff to the model.\n",
    "\n",
    "We could use spline evaluation, but I think here it will be quicker to have a 1D interpolation due to the need for an energy integral. In the end, will be good to check out both and compare. \n",
    "\n",
    "We can use the scipy spline to precompute the necessary integral and interpolate over $\\alpha$ - see `precompute_exposure_integral.ipynb`."
   ]
  },
  {
   "cell_type": "code",
   "execution_count": 1,
   "metadata": {
    "ExecuteTime": {
     "end_time": "2019-03-28T16:06:47.434303Z",
     "start_time": "2019-03-28T16:06:45.795140Z"
    }
   },
   "outputs": [
    {
     "name": "stderr",
     "output_type": "stream",
     "text": [
      "/Users/fran/projects/bayes/lib/python3.6/site-packages/h5py/__init__.py:36: FutureWarning: Conversion of the second argument of issubdtype from `float` to `np.floating` is deprecated. In future, it will be treated as `np.float64 == np.dtype(float).type`.\n",
      "  from ._conv import register_converters as _register_converters\n"
     ]
    }
   ],
   "source": [
    "import numpy as np\n",
    "import h5py\n",
    "from matplotlib import pyplot as plt\n",
    "import stan_utility\n",
    "import corner\n",
    "from joint_model_cascades import * "
   ]
  },
  {
   "cell_type": "code",
   "execution_count": 2,
   "metadata": {
    "ExecuteTime": {
     "end_time": "2019-03-28T16:06:47.439162Z",
     "start_time": "2019-03-28T16:06:47.436535Z"
    }
   },
   "outputs": [],
   "source": [
    "random_seed = 19920715"
   ]
  },
  {
   "cell_type": "markdown",
   "metadata": {},
   "source": [
    "## Forward model"
   ]
  },
  {
   "cell_type": "code",
   "execution_count": 3,
   "metadata": {
    "ExecuteTime": {
     "end_time": "2019-03-28T16:06:47.989630Z",
     "start_time": "2019-03-28T16:06:47.961007Z"
    }
   },
   "outputs": [],
   "source": [
    "# Use a set of sources uniform in comoving volume for a lambda-CDM universe.\n",
    "with h5py.File('data/test_SFR_pop.h5', 'r') as f:\n",
    "    Ns = f['output/Ns'].value\n",
    "    redshift = f['output/redshift'].value\n",
    "    position = f['output/position'].value\n",
    "    \n",
    "# Select sources within redshift zth to mimic catalogue\n",
    "zth = 1\n",
    "selection = np.where(redshift < zth)[0]"
   ]
  },
  {
   "cell_type": "code",
   "execution_count": 4,
   "metadata": {
    "ExecuteTime": {
     "end_time": "2019-03-28T16:06:48.661457Z",
     "start_time": "2019-03-28T16:06:48.642306Z"
    }
   },
   "outputs": [],
   "source": [
    "Ns = len(selection)\n",
    "redshift = np.array([redshift[_] for _ in selection])\n",
    "position = np.array([position[_] for _ in selection])\n",
    "\n",
    "# Try ordering sources by redshift, as larger z => lower F\n",
    "# This could help eliminate degeneracies in the mixture\n",
    "inds = redshift.argsort()[::-1]\n",
    "redshift = redshift[inds]\n",
    "position = position[inds]\n",
    "unit_vector = [p / np.linalg.norm(p) for p in position]\n",
    "\n",
    "# Add background redshift\n",
    "redshift = list(redshift) + [zth]"
   ]
  },
  {
   "cell_type": "code",
   "execution_count": 5,
   "metadata": {
    "ExecuteTime": {
     "end_time": "2019-03-28T16:06:56.986300Z",
     "start_time": "2019-03-28T16:06:56.972254Z"
    }
   },
   "outputs": [],
   "source": [
    "# Use simple Aeff calculated in `spline_dev/clean_spline_snippet.ipynb`\n",
    "# Define spline\n",
    "p = 3 # spline degree\n",
    "tx_orig = np.array([2.90998783, 4.03010253, 5.00991847, 6.96995941]) # knot sequence\n",
    "ty_orig = np.array([-0.9,  0.1,  0.9]) # knot sequence\n",
    "Nx = len(tx_orig)+p-1 # number of coefficients that need to be defined\n",
    "Ny = len(ty_orig)+p-1 # number of coefficients that need to be defined\n",
    "N = Nx * Ny\n",
    "\n",
    "# Coefficients\n",
    "c = np.asarray(\n",
    "    [-3.58077707, -3.41361407, -3.67857551, -4.18870088, -4.33580191, -1.96090326,\n",
    "     -1.97689,    -2.05099873, -2.14549395, -2.17675871, -0.34077015, -0.32737177,\n",
    "     -0.30599357, -0.29709922, -0.29278352,  0.48041494,  0.94140028,  1.02319478,\n",
    "     0.88547053,  0.95448815, -0.26299716,  0.99602738,  1.47548988,  1.31308221,\n",
    "     1.42759428, -1.33184261,  0.47994404,  1.74747881,  1.44319947,  1.39107924])\n",
    "c = c.reshape(Nx, Ny)"
   ]
  },
  {
   "cell_type": "code",
   "execution_count": 6,
   "metadata": {
    "ExecuteTime": {
     "end_time": "2019-03-29T08:33:24.542684Z",
     "start_time": "2019-03-29T08:33:24.449286Z"
    }
   },
   "outputs": [],
   "source": [
    "# Get precomputed eps factor\n",
    "with h5py.File('precomputed_eps.h5', 'r') as f:\n",
    "    alpha_grid = f['alpha_grid'].value\n",
    "    eps = f['eps'].value"
   ]
  },
  {
   "cell_type": "code",
   "execution_count": null,
   "metadata": {},
   "outputs": [],
   "source": []
  }
 ],
 "metadata": {
  "kernelspec": {
   "display_name": "Python (bayes)",
   "language": "python",
   "name": "bayes"
  },
  "language_info": {
   "codemirror_mode": {
    "name": "ipython",
    "version": 3
   },
   "file_extension": ".py",
   "mimetype": "text/x-python",
   "name": "python",
   "nbconvert_exporter": "python",
   "pygments_lexer": "ipython3",
   "version": "3.6.4"
  }
 },
 "nbformat": 4,
 "nbformat_minor": 2
}
