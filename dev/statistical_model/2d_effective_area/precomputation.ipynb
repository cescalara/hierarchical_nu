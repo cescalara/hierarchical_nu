{
 "cells": [
  {
   "cell_type": "markdown",
   "metadata": {},
   "source": [
    "# Precomputation of exposure integral\n",
    "\n",
    "Now that we implement the effective area as a function of energy and zenith angle, can keep the fit fast by precomputing the exposure factor for each source. This is possible if assuming *known* source positions and redshifts.\n",
    "\n",
    "For now, we assume that the background has some fixed redshift. This is necessary in order to compute the energy losses in the simulation. This is something that will probably be changed in the next step as we include selection effects and try to do something more realistic. "
   ]
  },
  {
   "cell_type": "markdown",
   "metadata": {},
   "source": [
    "## What is the exposure integral?\n",
    "\n",
    "As part of the simulation and fit, we want to compute the expected number of detected neutrinos from each source component. This can be written as $\\bar{N}_k = F_k \\epsilon_k$ where $F_k = \\frac{Q}{4 \\pi d_l(z_k)^2}$ and the exposure factor is \n",
    "$$\n",
    "\\epsilon_k = T \\frac{(\\alpha-1)}{E_{\\rm{min}}} \\int_{E_{\\rm{min}}}^\\infty {\\rm{d}}E \\ A_{\\rm{eff}}(E, \\varpi_k) \n",
    "\\Bigg( \\frac{(1+z_k)E}{E_{\\rm{min}}} \\Bigg)^{-\\alpha} = T \\frac{(\\alpha-1)}{E_{\\rm{min}}} I_k, \n",
    "$$\n",
    "where $k$ is the index for each source (see likelihood derivation for details).\n",
    "\n",
    "Here we will compute $I_k$ for a range of $\\alpha$ so that we can perform fast linear interpolation in the fit for unknown $\\alpha$."
   ]
  },
  {
   "cell_type": "code",
   "execution_count": 1,
   "metadata": {
    "ExecuteTime": {
     "end_time": "2019-04-26T14:29:36.395487Z",
     "start_time": "2019-04-26T14:29:35.780204Z"
    }
   },
   "outputs": [
    {
     "name": "stderr",
     "output_type": "stream",
     "text": [
      "/Users/fran/projects/bayes/lib/python3.6/site-packages/h5py/__init__.py:36: FutureWarning: Conversion of the second argument of issubdtype from `float` to `np.floating` is deprecated. In future, it will be treated as `np.float64 == np.dtype(float).type`.\n",
      "  from ._conv import register_converters as _register_converters\n"
     ]
    }
   ],
   "source": [
    "import numpy as np\n",
    "import h5py\n",
    "from scipy.interpolate import RectBivariateSpline\n",
    "\n",
    "from matplotlib import pyplot as plt\n",
    "from mpl_toolkits.mplot3d import Axes3D"
   ]
  },
  {
   "cell_type": "markdown",
   "metadata": {},
   "source": [
    "### Effective area\n",
    "\n",
    "Use the module provided by Martin & Hans to produce a spline with scipy (same code, just a few edits to run in python 3)."
   ]
  },
  {
   "cell_type": "code",
   "execution_count": 11,
   "metadata": {
    "ExecuteTime": {
     "end_time": "2019-04-26T14:40:37.605110Z",
     "start_time": "2019-04-26T14:40:37.598791Z"
    }
   },
   "outputs": [
    {
     "ename": "SyntaxError",
     "evalue": "Missing parentheses in call to 'print'. Did you mean print(print \"energy\", lE, \"outside bounds. returning neg. infty.\")? (aeff_calculator.py, line 40)",
     "output_type": "error",
     "traceback": [
      "Traceback \u001b[0;36m(most recent call last)\u001b[0m:\n",
      "  File \u001b[1;32m\"/Users/fran/projects/bayes/lib/python3.6/site-packages/IPython/core/interactiveshell.py\"\u001b[0m, line \u001b[1;32m2910\u001b[0m, in \u001b[1;35mrun_code\u001b[0m\n    exec(code_obj, self.user_global_ns, self.user_ns)\n",
      "\u001b[0;36m  File \u001b[0;32m\"<ipython-input-11-0e0786bffdc4>\"\u001b[0;36m, line \u001b[0;32m4\u001b[0;36m, in \u001b[0;35m<module>\u001b[0;36m\u001b[0m\n\u001b[0;31m    from aeff_calculator.aeff_calculator import effective_area\u001b[0m\n",
      "\u001b[0;36m  File \u001b[0;32m\"../../cascade_model/aeff_calculator/aeff_calculator.py\"\u001b[0;36m, line \u001b[0;32m40\u001b[0m\n\u001b[0;31m    print \"energy\", lE, \"outside bounds. returning neg. infty.\"\u001b[0m\n\u001b[0m                 ^\u001b[0m\n\u001b[0;31mSyntaxError\u001b[0m\u001b[0;31m:\u001b[0m Missing parentheses in call to 'print'. Did you mean print(print \"energy\", lE, \"outside bounds. returning neg. infty.\")?\n"
     ]
    }
   ],
   "source": [
    "import sys\n",
    "sys.path.append('../../cascade_model/aeff_calculator/')\n",
    "\n",
    "from aeff_calculator.aeff_calculator import effective_area"
   ]
  },
  {
   "cell_type": "code",
   "execution_count": 10,
   "metadata": {
    "ExecuteTime": {
     "end_time": "2019-04-26T14:40:03.932418Z",
     "start_time": "2019-04-26T14:40:03.922300Z"
    }
   },
   "outputs": [
    {
     "ename": "NameError",
     "evalue": "name 'effective_area' is not defined",
     "output_type": "error",
     "traceback": [
      "\u001b[0;31m---------------------------------------------------------------------------\u001b[0m",
      "\u001b[0;31mNameError\u001b[0m                                 Traceback (most recent call last)",
      "\u001b[0;32m<ipython-input-10-d1ce2c2bbcec>\u001b[0m in \u001b[0;36m<module>\u001b[0;34m()\u001b[0m\n\u001b[0;32m----> 1\u001b[0;31m \u001b[0maeff\u001b[0m \u001b[0;34m=\u001b[0m \u001b[0meffective_area\u001b[0m\u001b[0;34m(\u001b[0m\u001b[0;34m\"nue_CC\"\u001b[0m\u001b[0;34m)\u001b[0m\u001b[0;34m\u001b[0m\u001b[0m\n\u001b[0m",
      "\u001b[0;31mNameError\u001b[0m: name 'effective_area' is not defined"
     ]
    }
   ],
   "source": [
    "aeff = effective_area(\"nue_CC\")"
   ]
  },
  {
   "cell_type": "code",
   "execution_count": null,
   "metadata": {},
   "outputs": [],
   "source": []
  }
 ],
 "metadata": {
  "kernelspec": {
   "display_name": "Python (bayes)",
   "language": "python",
   "name": "bayes"
  },
  "language_info": {
   "codemirror_mode": {
    "name": "ipython",
    "version": 3
   },
   "file_extension": ".py",
   "mimetype": "text/x-python",
   "name": "python",
   "nbconvert_exporter": "python",
   "pygments_lexer": "ipython3",
   "version": "3.6.4"
  }
 },
 "nbformat": 4,
 "nbformat_minor": 2
}
