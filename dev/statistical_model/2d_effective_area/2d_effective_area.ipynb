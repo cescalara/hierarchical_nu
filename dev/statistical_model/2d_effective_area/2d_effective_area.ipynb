{
 "cells": [
  {
   "cell_type": "markdown",
   "metadata": {},
   "source": [
    "# Joint cascade model with $A_\\rm{eff}(E, \\omega)$\n",
    "\n",
    "Add in the 2D effective area to the model, instead of ignoring energy dependence as in the 1D case.\n",
    "\n",
    "We could use spline evaluation, but I think here it will be quicker to have a 1D interpolation due to the need for an energy integral. In the end, will be good to check out both and compare. \n",
    "\n",
    "We can use the scipy spline to precompute the necessary integral and interpolate over $\\alpha$ - see `precompute_exposure_integral.ipynb`."
   ]
  },
  {
   "cell_type": "code",
   "execution_count": 1,
   "metadata": {
    "ExecuteTime": {
     "end_time": "2019-04-18T15:37:21.613947Z",
     "start_time": "2019-04-18T15:37:18.867244Z"
    }
   },
   "outputs": [
    {
     "name": "stderr",
     "output_type": "stream",
     "text": [
      "/Users/fran/projects/bayes/lib/python3.6/site-packages/h5py/__init__.py:36: FutureWarning: Conversion of the second argument of issubdtype from `float` to `np.floating` is deprecated. In future, it will be treated as `np.float64 == np.dtype(float).type`.\n",
      "  from ._conv import register_converters as _register_converters\n"
     ]
    }
   ],
   "source": [
    "import numpy as np\n",
    "import h5py\n",
    "from matplotlib import pyplot as plt\n",
    "import stan_utility\n",
    "import corner\n",
    "from joint_model_cascades import * "
   ]
  },
  {
   "cell_type": "code",
   "execution_count": 2,
   "metadata": {
    "ExecuteTime": {
     "end_time": "2019-04-18T15:37:21.618717Z",
     "start_time": "2019-04-18T15:37:21.616085Z"
    }
   },
   "outputs": [],
   "source": [
    "random_seed = 19920715"
   ]
  },
  {
   "cell_type": "markdown",
   "metadata": {},
   "source": [
    "## Forward model"
   ]
  },
  {
   "cell_type": "code",
   "execution_count": 3,
   "metadata": {
    "ExecuteTime": {
     "end_time": "2019-04-18T15:37:22.426675Z",
     "start_time": "2019-04-18T15:37:22.397596Z"
    }
   },
   "outputs": [],
   "source": [
    "# Use a set of sources uniform in comoving volume for a lambda-CDM universe.\n",
    "with h5py.File('../data/test_SFR_pop.h5', 'r') as f:\n",
    "    Ns = f['output/Ns'].value\n",
    "    redshift = f['output/redshift'].value\n",
    "    position = f['output/position'].value\n",
    "    \n",
    "# Select sources within redshift zth to mimic catalogue\n",
    "zth = 1\n",
    "selection = np.where(redshift < zth)[0]"
   ]
  },
  {
   "cell_type": "code",
   "execution_count": 4,
   "metadata": {
    "ExecuteTime": {
     "end_time": "2019-04-18T15:37:23.285467Z",
     "start_time": "2019-04-18T15:37:23.265873Z"
    }
   },
   "outputs": [],
   "source": [
    "Ns = len(selection)\n",
    "redshift = np.array([redshift[_] for _ in selection])\n",
    "position = np.array([position[_] for _ in selection])\n",
    "\n",
    "# Try ordering sources by redshift, as larger z => lower F\n",
    "# This could help eliminate degeneracies in the mixture\n",
    "inds = redshift.argsort()[::-1]\n",
    "redshift = redshift[inds]\n",
    "position = position[inds]\n",
    "unit_vector = [p / np.linalg.norm(p) for p in position]\n",
    "\n",
    "# Add background redshift\n",
    "redshift = list(redshift) + [zth]"
   ]
  },
  {
   "cell_type": "code",
   "execution_count": 5,
   "metadata": {
    "ExecuteTime": {
     "end_time": "2019-04-18T15:37:23.922772Z",
     "start_time": "2019-04-18T15:37:23.909616Z"
    }
   },
   "outputs": [],
   "source": [
    "# Use simple Aeff calculated in `spline_dev/clean_spline_snippet.ipynb`\n",
    "# Define spline \n",
    "p = 3 # spline degree\n",
    "xknots = np.array([2.90998783, 4.03010253, 5.00991847, 6.96995941]) # knot sequence\n",
    "yknots = np.array([-0.9,  0.1,  0.9]) # knot sequence\n",
    "Nx = len(xknots)+p-1 # number of coefficients that need to be defined\n",
    "Ny = len(yknots)+p-1 # number of coefficients that need to be defined\n",
    "N = Nx * Ny\n",
    "\n",
    "# Coefficients\n",
    "c = np.asarray(\n",
    "    [-3.58077707, -3.41361407, -3.67857551, -4.18870088, -4.33580191, -1.96090326,\n",
    "     -1.97689,    -2.05099873, -2.14549395, -2.17675871, -0.34077015, -0.32737177,\n",
    "     -0.30599357, -0.29709922, -0.29278352,  0.48041494,  0.94140028,  1.02319478,\n",
    "     0.88547053,  0.95448815, -0.26299716,  0.99602738,  1.47548988,  1.31308221,\n",
    "     1.42759428, -1.33184261,  0.47994404,  1.74747881,  1.44319947,  1.39107924])\n",
    "c = c.reshape(Nx, Ny)"
   ]
  },
  {
   "cell_type": "code",
   "execution_count": 6,
   "metadata": {
    "ExecuteTime": {
     "end_time": "2019-04-18T15:37:25.585228Z",
     "start_time": "2019-04-18T15:37:25.573603Z"
    }
   },
   "outputs": [],
   "source": [
    "# Get precomputed eps factor\n",
    "with h5py.File('precomputed_eps.h5', 'r') as f:\n",
    "    alpha_grid = f['alpha_grid'].value\n",
    "    eps = f['eps'].value"
   ]
  },
  {
   "cell_type": "code",
   "execution_count": 7,
   "metadata": {
    "ExecuteTime": {
     "end_time": "2019-04-18T15:37:31.026925Z",
     "start_time": "2019-04-18T15:37:31.016004Z"
    }
   },
   "outputs": [],
   "source": [
    "with h5py.File('../data/Aeff_shape.h5', 'r') as f:\n",
    "    log10Aeff = f['log10Aeff'].value"
   ]
  },
  {
   "cell_type": "code",
   "execution_count": 8,
   "metadata": {
    "ExecuteTime": {
     "end_time": "2019-04-18T15:37:34.872836Z",
     "start_time": "2019-04-18T15:37:34.868215Z"
    }
   },
   "outputs": [
    {
     "name": "stdout",
     "output_type": "stream",
     "text": [
      "Max Aeff:  30.300822794250863\n"
     ]
    }
   ],
   "source": [
    "print('Max Aeff: ', np.max(10**log10Aeff))\n",
    "Aeff_max = 31 # m^2 "
   ]
  },
  {
   "cell_type": "markdown",
   "metadata": {},
   "source": [
    "## Simulation"
   ]
  },
  {
   "cell_type": "code",
   "execution_count": 9,
   "metadata": {
    "ExecuteTime": {
     "end_time": "2019-04-18T15:37:36.789166Z",
     "start_time": "2019-04-18T15:37:36.715202Z"
    }
   },
   "outputs": [],
   "source": [
    "# Prepare simulation inputs\n",
    "sim_input = {}\n",
    "\n",
    "# Sources\n",
    "sim_input['Ns'] = Ns\n",
    "sim_input['z'] = redshift\n",
    "dl = [luminosity_distance(z) for z in redshift[:-1]] # Mpc\n",
    "sim_input['D'] = dl # Mpc\n",
    "sim_input['varpi'] = unit_vector\n",
    "\n",
    "# Energies\n",
    "sim_input['alpha'] = 2.0\n",
    "sim_input['Emin'] = 1.0e4 # units?\n",
    "sim_input['f_E'] = 0.2\n",
    "\n",
    "# Reconstruction \n",
    "sim_input['kappa'] = 100 # ~10 deg for cascades\n",
    "\n",
    "# Associated fraction \n",
    "total_flux = 1e2 # m^-2 yr^-1\n",
    "f = 0.5\n",
    "\n",
    "Q = ( (f*total_flux) / (sum([1 / (4*np.pi * (d*Mpc_to_m)**2) for d in dl])) ) # yr^-1\n",
    "F0 = (1 - f) * total_flux # m^-2 yr^-1\n",
    "\n",
    "sim_input['Q'] = Q # yr^-1\n",
    "sim_input['F0'] = F0 # m^-2 yr^-1\n",
    "\n",
    "# Exposure\n",
    "sim_input['Ngrid'] = len(alpha_grid)\n",
    "sim_input['alpha_grid'] = alpha_grid\n",
    "sim_input['eps_grid'] = eps\n",
    "sim_input['T'] = 1\n",
    "\n",
    "# Spline\n",
    "sim_input['p'] = p\n",
    "sim_input['Lknots_x'] = len(xknots)\n",
    "sim_input['Lknots_y'] = len(yknots)\n",
    "sim_input['xknots'] = xknots\n",
    "sim_input['yknots'] = yknots\n",
    "sim_input['c'] = c"
   ]
  },
  {
   "cell_type": "code",
   "execution_count": 10,
   "metadata": {
    "ExecuteTime": {
     "end_time": "2019-04-18T15:38:29.485630Z",
     "start_time": "2019-04-18T15:37:37.883083Z"
    }
   },
   "outputs": [
    {
     "name": "stderr",
     "output_type": "stream",
     "text": [
      "INFO:pystan:COMPILING THE C++ CODE FOR MODEL Aeff_sim_6a2e0e4e58a711409f344af310f7b23b NOW.\n"
     ]
    }
   ],
   "source": [
    "# Compile Stan model\n",
    "sim = stan_utility.compile_model(filename = 'stan/joint_cascade_sim_2dAeff.stan', \n",
    "                                 model_name = 'Aeff_sim', include_paths = 'stan/')"
   ]
  },
  {
   "cell_type": "code",
   "execution_count": 11,
   "metadata": {
    "ExecuteTime": {
     "end_time": "2019-04-18T15:38:33.916805Z",
     "start_time": "2019-04-18T15:38:33.709216Z"
    }
   },
   "outputs": [],
   "source": [
    "# Simulate\n",
    "simulation = sim.sampling(data=sim_input, iter=1, chains=1, \n",
    "                          algorithm=\"Fixed_param\", seed=random_seed)"
   ]
  },
  {
   "cell_type": "code",
   "execution_count": 12,
   "metadata": {
    "ExecuteTime": {
     "end_time": "2019-04-18T15:38:36.089382Z",
     "start_time": "2019-04-18T15:38:34.923460Z"
    }
   },
   "outputs": [
    {
     "name": "stderr",
     "output_type": "stream",
     "text": [
      "/Users/fran/projects/bayes/lib/python3.6/site-packages/tqdm/autonotebook/__init__.py:14: TqdmExperimentalWarning: Using `tqdm.autonotebook.tqdm` in notebook mode. Use `tqdm.tqdm` instead to force console mode (e.g. in jupyter console)\n",
      "  \" (e.g. in jupyter console)\", TqdmExperimentalWarning)\n"
     ]
    }
   ],
   "source": [
    "# Extract output\n",
    "from fancy.interfaces.stan import Direction\n",
    "from fancy.plotting import AllSkyMap\n",
    "\n",
    "# Arrival directions\n",
    "event = simulation.extract(['event'])['event'][0]\n",
    "event = Direction(event)\n",
    "e_ra = event.d.icrs.ra.rad\n",
    "e_dec = event.d.icrs.dec.rad\n",
    "\n",
    "source = Direction(unit_vector)\n",
    "s_ra = source.d.icrs.ra.rad\n",
    "s_dec = source.d.icrs.dec.rad\n",
    "\n",
    "# Energies\n",
    "Esrc = simulation.extract(['Esrc'])['Esrc'][0]\n",
    "E = simulation.extract(['E'])['E'][0]\n",
    "Edet = simulation.extract(['Edet'])['Edet'][0]"
   ]
  },
  {
   "cell_type": "code",
   "execution_count": 13,
   "metadata": {
    "ExecuteTime": {
     "end_time": "2019-04-18T15:38:36.976316Z",
     "start_time": "2019-04-18T15:38:36.955781Z"
    }
   },
   "outputs": [
    {
     "name": "stdout",
     "output_type": "stream",
     "text": [
      "Nsrc:  19\n",
      "Nbg:  64\n"
     ]
    }
   ],
   "source": [
    "# Labels\n",
    "lam = simulation.extract(['lambda'])['lambda'][0] - 1\n",
    "Nc = Ns\n",
    "label_cmap = plt.cm.get_cmap('plasma', Nc+1)\n",
    "\n",
    "lam = list(lam)\n",
    "Nsrc = sum([lam.count(_) for _ in range(int(Nc))])\n",
    "Nbg = lam.count(Nc)\n",
    "print('Nsrc: ', Nsrc)\n",
    "print('Nbg: ', Nbg)"
   ]
  },
  {
   "cell_type": "code",
   "execution_count": 14,
   "metadata": {
    "ExecuteTime": {
     "end_time": "2019-04-18T15:38:44.812343Z",
     "start_time": "2019-04-18T15:38:44.272659Z"
    }
   },
   "outputs": [
    {
     "data": {
      "image/png": "[encoded data removed]",
      "text/plain": [
       "<Figure size 720x576 with 1 Axes>"
      ]
     },
     "metadata": {},
     "output_type": "display_data"
    }
   ],
   "source": [
    "from matplotlib.colors import LinearSegmentedColormap\n",
    "\n",
    "fig, ax = plt.subplots()\n",
    "fig.set_size_inches((10, 8))\n",
    "skymap = AllSkyMap(projection = 'hammer', lon_0 = 0, lat_0 = 0);\n",
    "for r, d, l in zip(e_ra, e_dec, lam):\n",
    "    color = label_cmap.colors[int(l)]\n",
    "    skymap.tissot(np.rad2deg(r), np.rad2deg(d), 2, 30, color = color, alpha = 0.7)\n",
    "norm = max([1 - _/zth for _ in redshift])\n",
    "for r, d, z in zip(s_ra, s_dec, redshift):\n",
    "    skymap.tissot(np.rad2deg(r), np.rad2deg(d), 2, 30, color = 'black', \n",
    "                  alpha = (1 - z/zth)/norm)"
   ]
  },
  {
   "cell_type": "code",
   "execution_count": 15,
   "metadata": {
    "ExecuteTime": {
     "end_time": "2019-04-18T15:38:55.232696Z",
     "start_time": "2019-04-18T15:38:54.272928Z"
    }
   },
   "outputs": [
    {
     "data": {
      "image/png": "[encoded data removed]",
      "text/plain": [
       "<Figure size 432x288 with 1 Axes>"
      ]
     },
     "metadata": {},
     "output_type": "display_data"
    }
   ],
   "source": [
    "# Plot energies\n",
    "Emin = sim_input['Emin']\n",
    "bins = np.logspace(np.log(Emin), np.log(1E+2 * Emin), base = np.e)\n",
    "\n",
    "fig, ax = plt.subplots()\n",
    "ax.hist(Esrc, bins = bins, label = '$\\\\tilde{E}$', alpha = 0.7);\n",
    "#ax.hist(E, bins = bins, label = '$E$', alpha = 0.7);\n",
    "ax.hist(Edet, bins = bins, label = '$\\hat{E}$', alpha = 0.7);\n",
    "ax.set_xscale('log')\n",
    "ax.set_yscale('log')\n",
    "ax.set_xlabel('$E$ / TeV')\n",
    "ax.legend();"
   ]
  },
  {
   "cell_type": "code",
   "execution_count": null,
   "metadata": {},
   "outputs": [],
   "source": []
  }
 ],
 "metadata": {
  "kernelspec": {
   "display_name": "Python (bayes)",
   "language": "python",
   "name": "bayes"
  },
  "language_info": {
   "codemirror_mode": {
    "name": "ipython",
    "version": 3
   },
   "file_extension": ".py",
   "mimetype": "text/x-python",
   "name": "python",
   "nbconvert_exporter": "python",
   "pygments_lexer": "ipython3",
   "version": "3.6.4"
  }
 },
 "nbformat": 4,
 "nbformat_minor": 2
}
