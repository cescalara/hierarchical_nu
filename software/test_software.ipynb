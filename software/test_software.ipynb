{
 "cells": [
  {
   "cell_type": "markdown",
   "metadata": {},
   "source": [
    "# Testing software"
   ]
  },
  {
   "cell_type": "code",
   "execution_count": 1,
   "metadata": {
    "ExecuteTime": {
     "end_time": "2020-08-03T14:51:50.706649Z",
     "start_time": "2020-08-03T14:51:48.917112Z"
    }
   },
   "outputs": [],
   "source": [
    "import numpy as np\n",
    "from matplotlib import pyplot as plt\n",
    "import os\n",
    "import stan_utility"
   ]
  },
  {
   "cell_type": "markdown",
   "metadata": {},
   "source": [
    "## Sources\n",
    "\n",
    "Decided to go with the astromodels package as python3 branch is working well.\n",
    "\n",
    "To install: \n",
    "```\n",
    "pip install git+https://github.com/giacomov/astromodels.git@py2to3\n",
    "```"
   ]
  },
  {
   "cell_type": "code",
   "execution_count": 2,
   "metadata": {
    "ExecuteTime": {
     "end_time": "2020-08-03T14:51:51.658491Z",
     "start_time": "2020-08-03T14:51:50.710279Z"
    }
   },
   "outputs": [],
   "source": [
    "from source.source import *\n",
    "from astromodels.functions.functions import Powerlaw\n",
    "from astromodels import Model"
   ]
  },
  {
   "cell_type": "code",
   "execution_count": 3,
   "metadata": {
    "ExecuteTime": {
     "end_time": "2020-08-03T14:51:51.669572Z",
     "start_time": "2020-08-03T14:51:51.661642Z"
    }
   },
   "outputs": [
    {
     "data": {
      "text/plain": [
       "0.1"
      ]
     },
     "execution_count": 3,
     "metadata": {},
     "output_type": "execute_result"
    }
   ],
   "source": [
    "# Single source\n",
    "source = PointSource('point', ra=123, dec=-30, redshift=0.1, unit_vector = [1, 0, 0], spectral_shape=Powerlaw())\n",
    "source.position.get_ra()\n",
    "source.redshift"
   ]
  },
  {
   "cell_type": "code",
   "execution_count": 4,
   "metadata": {
    "ExecuteTime": {
     "end_time": "2020-08-03T14:51:51.870508Z",
     "start_time": "2020-08-03T14:51:51.672484Z"
    }
   },
   "outputs": [],
   "source": [
    "# Loading from file\n",
    "source_file = '../dev/statistical_model/data/test_SFR_pop.h5'\n",
    "source_list = TestSourceList(source_file, spectral_shape=Powerlaw())\n",
    "\n",
    "# Select sources below zth = 1\n",
    "zth = 1.0\n",
    "source_list.select_below_redshift(zth)\n",
    "\n",
    "# Add a diffuse background at z = 1\n",
    "diffuse_bg = DiffuseSource('diffuse_bg', zth, spectral_shape=Powerlaw())\n",
    "source_list.add(diffuse_bg)"
   ]
  },
  {
   "cell_type": "code",
   "execution_count": 5,
   "metadata": {
    "ExecuteTime": {
     "end_time": "2020-08-03T14:51:51.878395Z",
     "start_time": "2020-08-03T14:51:51.872685Z"
    }
   },
   "outputs": [
    {
     "data": {
      "text/plain": [
       "38"
      ]
     },
     "execution_count": 5,
     "metadata": {},
     "output_type": "execute_result"
    }
   ],
   "source": [
    "source_list.N"
   ]
  },
  {
   "cell_type": "code",
   "execution_count": 6,
   "metadata": {
    "ExecuteTime": {
     "end_time": "2020-08-03T14:51:51.886420Z",
     "start_time": "2020-08-03T14:51:51.880833Z"
    }
   },
   "outputs": [
    {
     "data": {
      "text/plain": [
       "0.6818505255578298"
      ]
     },
     "execution_count": 6,
     "metadata": {},
     "output_type": "execute_result"
    }
   ],
   "source": [
    "source_list.sources[0].redshift"
   ]
  },
  {
   "cell_type": "code",
   "execution_count": 7,
   "metadata": {
    "ExecuteTime": {
     "end_time": "2020-08-03T14:51:51.895014Z",
     "start_time": "2020-08-03T14:51:51.888701Z"
    }
   },
   "outputs": [
    {
     "data": {
      "text/html": [
       "Parameter dec = -19.438230205811653 [deg]\n",
       "(min_value = -90.0, max_value = 90.0, delta = 1.9438230205811653, free = False)"
      ],
      "text/plain": [
       "Parameter dec = -19.438230205811653 [deg]\n",
       "(min_value = -90.0, max_value = 90.0, delta = 1.9438230205811653, free = False)"
      ]
     },
     "execution_count": 7,
     "metadata": {},
     "output_type": "execute_result"
    }
   ],
   "source": [
    "source_list.sources[0].position.dec"
   ]
  },
  {
   "cell_type": "code",
   "execution_count": 8,
   "metadata": {
    "ExecuteTime": {
     "end_time": "2020-08-03T14:51:51.904105Z",
     "start_time": "2020-08-03T14:51:51.900044Z"
    }
   },
   "outputs": [],
   "source": [
    "# Could also use an astromodels model\n",
    "source_model = Model(*source_list.sources)"
   ]
  },
  {
   "cell_type": "markdown",
   "metadata": {},
   "source": [
    "## Precomputation"
   ]
  },
  {
   "cell_type": "code",
   "execution_count": 9,
   "metadata": {
    "ExecuteTime": {
     "end_time": "2020-08-03T14:51:51.922902Z",
     "start_time": "2020-08-03T14:51:51.908400Z"
    }
   },
   "outputs": [],
   "source": [
    "from Precomputation import ExposureIntegral\n",
    "from detector_model import NorthernTracksEffectiveArea"
   ]
  },
  {
   "cell_type": "code",
   "execution_count": 10,
   "metadata": {
    "ExecuteTime": {
     "end_time": "2020-08-03T14:52:05.224638Z",
     "start_time": "2020-08-03T14:51:51.925574Z"
    }
   },
   "outputs": [
    {
     "name": "stderr",
     "output_type": "stream",
     "text": [
      "INFO:backend.code_generator:Object of type <backend.stan_generator.FunctionsContext object at 0x1193d5d10> already on stack\n",
      "INFO:backend.code_generator:Object of type <backend.stan_generator.DefinitionContext object at 0x11920e850> already on stack\n",
      "INFO:backend.code_generator:Object of type <backend.stan_generator.DefinitionContext object at 0x1193d58d0> already on stack\n"
     ]
    }
   ],
   "source": [
    "time = 8 # years\n",
    "Emin = 1.0e5 # GeV\n",
    "\n",
    "exposure_integral = ExposureIntegral(source_list, NorthernTracksEffectiveArea, \n",
    "                                     time, Emin)\n",
    "exposure_integral()"
   ]
  },
  {
   "cell_type": "code",
   "execution_count": 11,
   "metadata": {
    "ExecuteTime": {
     "end_time": "2020-08-03T14:52:05.542273Z",
     "start_time": "2020-08-03T14:52:05.226747Z"
    }
   },
   "outputs": [
    {
     "name": "stderr",
     "output_type": "stream",
     "text": [
      "/Users/fran/.virtualenvs/bayes/lib/python3.7/site-packages/ipykernel_launcher.py:2: RuntimeWarning: divide by zero encountered in log10\n",
      "  \n"
     ]
    },
    {
     "data": {
      "text/plain": [
       "<matplotlib.colorbar.Colorbar at 0x1194baad0>"
      ]
     },
     "execution_count": 11,
     "metadata": {},
     "output_type": "execute_result"
    },
    {
     "data": {
      "image/png": "[encoded data removed]",
      "text/plain": [
       "<Figure size 432x288 with 2 Axes>"
      ]
     },
     "metadata": {
      "needs_background": "light"
     },
     "output_type": "display_data"
    }
   ],
   "source": [
    "fig, ax = plt.subplots()\n",
    "plt.imshow(np.log10(exposure_integral._effective_area._eff_area), aspect='auto')\n",
    "plt.colorbar()"
   ]
  },
  {
   "cell_type": "code",
   "execution_count": 12,
   "metadata": {
    "ExecuteTime": {
     "end_time": "2020-08-03T14:52:05.549747Z",
     "start_time": "2020-08-03T14:52:05.544770Z"
    }
   },
   "outputs": [
    {
     "data": {
      "text/plain": [
       "array([-1. , -0.9, -0.8, -0.7, -0.6, -0.5, -0.4, -0.3, -0.2, -0.1,  0. ,\n",
       "        0.1])"
      ]
     },
     "execution_count": 12,
     "metadata": {},
     "output_type": "execute_result"
    }
   ],
   "source": [
    "np.shape(exposure_integral._effective_area._eff_area)\n",
    "exposure_integral._effective_area._cosz_bin_edges"
   ]
  },
  {
   "cell_type": "code",
   "execution_count": 13,
   "metadata": {
    "ExecuteTime": {
     "end_time": "2020-08-03T14:52:05.824376Z",
     "start_time": "2020-08-03T14:52:05.552430Z"
    }
   },
   "outputs": [
    {
     "data": {
      "image/png": "[encoded data removed]",
      "text/plain": [
       "<Figure size 432x288 with 1 Axes>"
      ]
     },
     "metadata": {
      "needs_background": "light"
     },
     "output_type": "display_data"
    }
   ],
   "source": [
    "fig, ax = plt.subplots()\n",
    "for _ in exposure_integral.integral_grid:\n",
    "    ax.plot(exposure_integral.alpha_grid, _)"
   ]
  },
  {
   "cell_type": "markdown",
   "metadata": {},
   "source": [
    "## Generate Stan code for simulation\n"
   ]
  },
  {
   "cell_type": "code",
   "execution_count": 14,
   "metadata": {
    "ExecuteTime": {
     "end_time": "2020-08-03T14:52:05.831629Z",
     "start_time": "2020-08-03T14:52:05.826800Z"
    }
   },
   "outputs": [],
   "source": [
    "from detector_model import NorthernTracksDetectorModel\n",
    "from backend.stan_generator import (\n",
    "    StanGenerator, GeneratedQuantitiesContext, DataContext, TransformedDataContext,\n",
    "    FunctionsContext, Include, ForLoopContext, StanFileGenerator)\n",
    "from backend.variable_definitions import ForwardVariableDef, ForwardArrayDef\n",
    "from backend.expression import StringExpression\n",
    "from backend.parameterizations import DistributionMode\n",
    "import logging\n",
    "logging.basicConfig(level=logging.WARN)"
   ]
  },
  {
   "cell_type": "code",
   "execution_count": 15,
   "metadata": {
    "ExecuteTime": {
     "end_time": "2020-08-03T14:52:06.032583Z",
     "start_time": "2020-08-03T14:52:05.834079Z"
    }
   },
   "outputs": [
    {
     "name": "stderr",
     "output_type": "stream",
     "text": [
      "INFO:backend.code_generator:Object of type <backend.stan_generator.FunctionsContext object at 0x1196a99d0> already on stack\n",
      "INFO:backend.code_generator:Object of type <backend.stan_generator.FunctionsContext object at 0x1196a9fd0> already on stack\n",
      "INFO:backend.code_generator:Object of type <backend.stan_generator.DefinitionContext object at 0x1196a9550> already on stack\n",
      "INFO:backend.code_generator:Object of type <backend.stan_generator.DefinitionContext object at 0x1196a9a10> already on stack\n",
      "INFO:backend.code_generator:Object of type <backend.stan_generator.DefinitionContext object at 0x11969ca90> already on stack\n",
      "INFO:backend.code_generator:Object of type <backend.stan_generator.DefinitionContext object at 0x11969c850> already on stack\n",
      "INFO:backend.code_generator:Object of type <backend.stan_generator.FunctionsContext object at 0x119681090> already on stack\n",
      "INFO:backend.code_generator:Object of type <backend.stan_generator.FunctionsContext object at 0x11967b890> already on stack\n",
      "INFO:backend.code_generator:Object of type <backend.stan_generator.DefinitionContext object at 0x11966ec90> already on stack\n",
      "INFO:backend.code_generator:Object of type <backend.stan_generator.DefinitionContext object at 0x1195c55d0> already on stack\n",
      "INFO:backend.code_generator:Object of type <backend.stan_generator.FunctionsContext object at 0x1196817d0> already on stack\n",
      "INFO:backend.code_generator:Object of type <backend.stan_generator.FunctionsContext object at 0x11968c7d0> already on stack\n",
      "INFO:backend.code_generator:Object of type <backend.stan_generator.FunctionsContext object at 0x119676250> already on stack\n",
      "INFO:backend.code_generator:Object of type <backend.stan_generator.DefinitionContext object at 0x11969cd10> already on stack\n",
      "INFO:backend.code_generator:Object of type <backend.stan_generator.DefinitionContext object at 0x119695150> already on stack\n",
      "INFO:backend.code_generator:Object of type <backend.stan_generator.DefinitionContext object at 0x1195c5410> already on stack\n",
      "INFO:backend.code_generator:Object of type <backend.stan_generator.DefinitionContext object at 0x11968c290> already on stack\n",
      "INFO:backend.code_generator:Object of type <backend.stan_generator.FunctionsContext object at 0x119435410> already on stack\n",
      "INFO:backend.code_generator:Object of type <backend.stan_generator.FunctionsContext object at 0x11968c6d0> already on stack\n",
      "INFO:backend.code_generator:Object of type <backend.stan_generator.DefinitionContext object at 0x1196a9c50> already on stack\n",
      "INFO:backend.code_generator:Object of type <backend.stan_generator.DefinitionContext object at 0x11968c510> already on stack\n"
     ]
    }
   ],
   "source": [
    "with StanFileGenerator(\"stan_files/detector_model_test\") as cg:   \n",
    "    ntd_rng = NorthernTracksDetectorModel(mode=DistributionMode.RNG)\n",
    "    ntd_pdf = NorthernTracksDetectorModel(mode=DistributionMode.PDF) \n",
    "    cg.generate_files()"
   ]
  },
  {
   "cell_type": "code",
   "execution_count": 16,
   "metadata": {
    "ExecuteTime": {
     "end_time": "2020-08-03T14:52:06.325722Z",
     "start_time": "2020-08-03T14:52:06.035607Z"
    }
   },
   "outputs": [
    {
     "name": "stderr",
     "output_type": "stream",
     "text": [
      "INFO:backend.code_generator:Object of type <backend.stan_generator.FunctionsContext object at 0x11973e3d0> already on stack\n",
      "INFO:backend.code_generator:Object of type <backend.stan_generator.FunctionsContext object at 0x11973e450> already on stack\n",
      "INFO:backend.code_generator:Object of type <backend.stan_generator.FunctionsContext object at 0x11975a210> already on stack\n",
      "INFO:backend.code_generator:Object of type <backend.stan_generator.DefinitionContext object at 0x11975a350> already on stack\n",
      "INFO:backend.code_generator:Object of type <backend.stan_generator.DefinitionContext object at 0x11975a450> already on stack\n",
      "INFO:backend.code_generator:Object of type <backend.stan_generator.DefinitionContext object at 0x11975afd0> already on stack\n",
      "INFO:backend.code_generator:Object of type <backend.stan_generator.DefinitionContext object at 0x11975a810> already on stack\n",
      "INFO:backend.code_generator:Object of type <backend.stan_generator.FunctionsContext object at 0x11975a8d0> already on stack\n",
      "INFO:backend.code_generator:Object of type <backend.stan_generator.FunctionsContext object at 0x11975af10> already on stack\n",
      "INFO:backend.code_generator:Object of type <backend.stan_generator.DefinitionContext object at 0x11968c550> already on stack\n",
      "INFO:backend.code_generator:Object of type <backend.stan_generator.DefinitionContext object at 0x119755110> already on stack\n",
      "INFO:backend.code_generator:Object of type <backend.stan_generator.DefinitionContext object at 0x119755b50> already on stack\n",
      "INFO:backend.code_generator:Object of type <backend.stan_generator.DefinitionContext object at 0x119755e10> already on stack\n",
      "INFO:backend.code_generator:Object of type <backend.stan_generator.DefinitionContext object at 0x119755750> already on stack\n",
      "INFO:backend.code_generator:Object of type <backend.stan_generator.DefinitionContext object at 0x119755490> already on stack\n",
      "INFO:backend.code_generator:Object of type <backend.stan_generator.DefinitionContext object at 0x119755510> already on stack\n",
      "INFO:backend.code_generator:Object of type <backend.stan_generator.DefinitionContext object at 0x119755a90> already on stack\n",
      "INFO:backend.code_generator:Object of type <backend.stan_generator.DefinitionContext object at 0x119755090> already on stack\n",
      "INFO:backend.code_generator:Object of type <backend.stan_generator.DefinitionContext object at 0x119755ad0> already on stack\n",
      "INFO:backend.code_generator:Object of type <backend.stan_generator.DefinitionContext object at 0x119755bd0> already on stack\n",
      "INFO:backend.code_generator:Object of type <backend.stan_generator.DefinitionContext object at 0x119755fd0> already on stack\n",
      "INFO:backend.code_generator:Object of type <backend.stan_generator.DefinitionContext object at 0x119755dd0> already on stack\n",
      "INFO:backend.code_generator:Object of type <backend.stan_generator.DefinitionContext object at 0x11973efd0> already on stack\n",
      "INFO:backend.code_generator:Object of type <backend.stan_generator.DefinitionContext object at 0x11973ee90> already on stack\n",
      "INFO:backend.code_generator:Object of type <backend.stan_generator.DefinitionContext object at 0x11973e710> already on stack\n",
      "INFO:backend.code_generator:Object of type <backend.stan_generator.DefinitionContext object at 0x119748110> already on stack\n",
      "INFO:backend.code_generator:Object of type <backend.stan_generator.DefinitionContext object at 0x1197481d0> already on stack\n",
      "INFO:backend.code_generator:Object of type <backend.stan_generator.DefinitionContext object at 0x119748050> already on stack\n",
      "INFO:backend.code_generator:Object of type <backend.stan_generator.DefinitionContext object at 0x1197480d0> already on stack\n",
      "INFO:backend.code_generator:Object of type <backend.stan_generator.DefinitionContext object at 0x11973e9d0> already on stack\n",
      "INFO:backend.code_generator:Object of type <backend.stan_generator.FunctionsContext object at 0x119748e50> already on stack\n",
      "INFO:backend.code_generator:Object of type <backend.stan_generator.FunctionsContext object at 0x11974c750> already on stack\n",
      "INFO:backend.code_generator:Object of type <backend.stan_generator.FunctionsContext object at 0x11974cc10> already on stack\n",
      "INFO:backend.code_generator:Object of type <backend.stan_generator.DefinitionContext object at 0x11974cf10> already on stack\n",
      "INFO:backend.code_generator:Object of type <backend.stan_generator.DefinitionContext object at 0x11974cf50> already on stack\n",
      "INFO:backend.code_generator:Object of type <backend.stan_generator.DefinitionContext object at 0x11974cd90> already on stack\n",
      "INFO:backend.code_generator:Object of type <backend.stan_generator.DefinitionContext object at 0x11974cc90> already on stack\n",
      "INFO:backend.code_generator:Object of type <backend.stan_generator.FunctionsContext object at 0x11974c290> already on stack\n",
      "INFO:backend.code_generator:Object of type <backend.stan_generator.FunctionsContext object at 0x11974c0d0> already on stack\n",
      "INFO:backend.code_generator:Object of type <backend.stan_generator.DefinitionContext object at 0x11973ab50> already on stack\n",
      "INFO:backend.code_generator:Object of type <backend.stan_generator.DefinitionContext object at 0x11973a510> already on stack\n",
      "INFO:backend.code_generator:Object of type <backend.stan_generator.FunctionsContext object at 0x11973a950> already on stack\n",
      "INFO:backend.code_generator:Object of type <backend.stan_generator.FunctionsContext object at 0x11973a3d0> already on stack\n",
      "INFO:backend.code_generator:Object of type <backend.stan_generator.FunctionsContext object at 0x119730750> already on stack\n",
      "INFO:backend.code_generator:Object of type <backend.stan_generator.DefinitionContext object at 0x119730ad0> already on stack\n",
      "INFO:backend.code_generator:Object of type <backend.stan_generator.DefinitionContext object at 0x119730e50> already on stack\n",
      "INFO:backend.code_generator:Object of type <backend.stan_generator.DefinitionContext object at 0x119730610> already on stack\n",
      "INFO:backend.code_generator:Object of type <backend.stan_generator.DefinitionContext object at 0x119730c50> already on stack\n",
      "INFO:backend.code_generator:Object of type <backend.stan_generator.FunctionsContext object at 0x11976b490> already on stack\n",
      "INFO:backend.code_generator:Object of type <backend.stan_generator.FunctionsContext object at 0x119730fd0> already on stack\n",
      "INFO:backend.code_generator:Object of type <backend.stan_generator.DefinitionContext object at 0x119730c90> already on stack\n",
      "INFO:backend.code_generator:Object of type <backend.stan_generator.DefinitionContext object at 0x11976bc50> already on stack\n",
      "INFO:backend.code_generator:Object of type <backend.stan_generator.DefinitionContext object at 0x11976be90> already on stack\n",
      "INFO:backend.code_generator:Object of type <backend.stan_generator.DefinitionContext object at 0x11976b710> already on stack\n",
      "INFO:backend.code_generator:Object of type <backend.stan_generator.DefinitionContext object at 0x11976b7d0> already on stack\n",
      "INFO:backend.code_generator:Object of type <backend.stan_generator.DefinitionContext object at 0x11976ba90> already on stack\n",
      "INFO:backend.code_generator:Object of type <backend.stan_generator.DefinitionContext object at 0x11976b550> already on stack\n",
      "INFO:backend.code_generator:Object of type <backend.stan_generator.DefinitionContext object at 0x11976ba10> already on stack\n",
      "INFO:backend.code_generator:Object of type <backend.stan_generator.DefinitionContext object at 0x11973ac50> already on stack\n",
      "INFO:backend.code_generator:Object of type <backend.stan_generator.DefinitionContext object at 0x11973a4d0> already on stack\n",
      "INFO:backend.code_generator:Object of type <backend.stan_generator.DefinitionContext object at 0x11973a7d0> already on stack\n",
      "INFO:backend.code_generator:Object of type <backend.stan_generator.DefinitionContext object at 0x11973aa10> already on stack\n",
      "INFO:backend.code_generator:Object of type <backend.stan_generator.DefinitionContext object at 0x11975bd90> already on stack\n"
     ]
    }
   ],
   "source": [
    "with StanFileGenerator(\"stan_files/sim_code\") as cg:\n",
    "\n",
    "    with FunctionsContext() as fc:\n",
    "        _ = Include(\"utils.stan\")\n",
    "        _ = Include(\"vMF.stan\")\n",
    "        _ = Include(\"interpolation.stan\")\n",
    "        _ = Include(\"sim_functions.stan\")\n",
    "        _ = Include(\"energy_spectrum.stan\")\n",
    "        ntd = NorthernTracksDetectorModel()\n",
    "            \n",
    "    with DataContext() as dc:\n",
    "        \n",
    "        # Sources\n",
    "        Ns = ForwardVariableDef(\"Ns\", \"int\")\n",
    "        Ns_str = [\"[\", Ns, \"]\"]\n",
    "        Ns_1p_str = [\"[\", Ns, \"+1]\"]\n",
    "        \n",
    "        varpi = ForwardArrayDef(\"varpi\", \"unit_vector[3]\", Ns_str)\n",
    "        D = ForwardVariableDef(\"D\", \"vector[Ns]\")\n",
    "        redshift = ForwardVariableDef(\"z\", \"vector[Ns+1]\")\n",
    "        \n",
    "        # Energies\n",
    "        alpha = ForwardVariableDef(\"alpha\", \"real\")\n",
    "        Emin = ForwardVariableDef(\"Emin\", \"real\")\n",
    "        \n",
    "        # Flux\n",
    "        Q = ForwardVariableDef(\"Q\", \"real\")\n",
    "        F0 = ForwardVariableDef(\"F0\", \"real\")\n",
    "        \n",
    "        # Precomputed quantities\n",
    "        Ngrid = ForwardVariableDef(\"Ngrid\", \"int\")\n",
    "        Ngrid_str = [\"[\", Ngrid, \"]\"]\n",
    "        alpha_grid = ForwardVariableDef(\"alpha_grid\", \"vector[Ngrid]\")\n",
    "        integral_grid = ForwardArrayDef(\"integral_grid\", \n",
    "                                        \"vector[Ngrid]\", Ns_1p_str)\n",
    "        aeff_max = ForwardVariableDef(\"aeff_max\", \"real\")\n",
    "        \n",
    "        # Inputs\n",
    "        T = ForwardVariableDef(\"T\", \"real\")\n",
    "        \n",
    "    with TransformedDataContext() as tdc:\n",
    "        F = ForwardVariableDef(\"F\", \"vector[Ns+1]\")\n",
    "        FT = ForwardVariableDef(\"FT\", \"real\")\n",
    "        Fs = ForwardVariableDef(\"Fs\", \"real\")\n",
    "        f = ForwardVariableDef(\"f\", \"real\")\n",
    "        w_exposure = ForwardVariableDef(\"w_exposure\", \"simplex[Ns+1]\")\n",
    "        Nex = ForwardVariableDef(\"Nex\", \"real\")\n",
    "        N = ForwardVariableDef(\"N\", \"int\")\n",
    "        eps = ForwardVariableDef(\"eps\", \"vector[Ns+1]\")\n",
    "        \n",
    "        #Mpc_to_m = ForwardVariableDef(\"Mpc_to_m\", \"real\")\n",
    "        #Mpc_to_m << StringExpression(\"3.086e22\")\n",
    "        \n",
    "        with ForLoopContext(1, Ns, \"k\") as k:\n",
    "            F[k] << StringExpression([Q, \"/ (4 * pi() * pow(\", \n",
    "                                         D[k], \" * \", 3.086e22, \", 2))\"])\n",
    "            StringExpression([Fs,\" += \", F[k]])\n",
    "        \n",
    "        StringExpression(\"F[Ns+1]\") << F0\n",
    "        \n",
    "        FT << Fs + FT\n",
    "        f << StringExpression([Fs, \"/\", FT])\n",
    "        \n",
    "        eps << StringExpression([\"get_exposure_factor(\", T, \", \", Emin, \", \", alpha, \n",
    "                                 \", \", alpha_grid, \", \", integral_grid, \", \", Ns, \")\"])\n",
    "        Nex << StringExpression([\"get_Nex_sim(\", F, \", \", eps, \")\"])\n",
    "        w_exposure << StringExpression([\"get_exposure_weights(\", F, \", \", \n",
    "                                              eps, \")\"])\n",
    "        N << StringExpression([\"poisson_rng(\", Nex, \")\"])\n",
    "        StringExpression([\"print(\", w_exposure, \")\"])\n",
    "        StringExpression([\"print(\", Ngrid, \")\"])\n",
    "        StringExpression([\"print(\", Nex, \")\"])\n",
    "        StringExpression([\"print(\", N, \")\"])\n",
    "        \n",
    "    with GeneratedQuantitiesContext() as gqc:\n",
    "        ntd_rng = NorthernTracksDetectorModel(mode=DistributionMode.RNG)\n",
    "        ntd_pdf = NorthernTracksDetectorModel(mode=DistributionMode.PDF) \n",
    "        \n",
    "        N_str = [\"[\", N, \"]\"]\n",
    "        lam = ForwardArrayDef(\"Lambda\", \"int\", N_str)\n",
    "        omega = ForwardVariableDef(\"omega\", \"unit_vector[3]\")\n",
    "        \n",
    "        Esrc = ForwardVariableDef(\"Esrc\", \"vector[N]\")\n",
    "        E = ForwardVariableDef(\"E\", \"vector[N]\")\n",
    "        Edet = ForwardVariableDef(\"Edet\", \"vector[N]\")\n",
    "        \n",
    "        cosz = ForwardArrayDef(\"cosz\", \"real\", N_str)\n",
    "        Pdet = ForwardArrayDef(\"Pdet\", \"real\", N_str)\n",
    "        accept = ForwardVariableDef(\"accept\", \"int\")\n",
    "        ntrials = ForwardVariableDef(\"ntrials\", \"int\")\n",
    "        prob = ForwardVariableDef(\"prob\", \"simplex[2]\")\n",
    "        \n",
    "        event = ForwardArrayDef(\"event\", \"unit_vector[3]\", N_str)\n",
    "        Nex_sim = ForwardVariableDef(\"Nex_sim\", \"real\")\n",
    "        \n",
    "        Nex_sim << Nex\n",
    "\n",
    "        with ForLoopContext(1, N, \"i\") as i:\n",
    "            \n",
    "            lam[i] << StringExpression([\"categorical_rng(\", w_exposure,\")\"])\n",
    "            \n",
    "            accept << 0\n",
    "            ntrials << 0\n",
    "            StringExpression([\"while(\", accept, \" != 1) {\\n\", \n",
    "                              #lam[i], \" = categorical_rng(\", w_exposure, \");\\n\",\n",
    "                              \"if (\", lam[i], \" < Ns+1) {\\n\",\n",
    "                              omega, \" = \", varpi[lam[i]], \";\\n\",\n",
    "                              #omega, \" = sphere_rng(1);\\n\"\n",
    "                              \"}\\n\", \"else if (\", lam[i], \" == Ns+1) {\\n\", \n",
    "                              omega, \" = sphere_rng(1);\\n\", \"}\"])\n",
    "\n",
    "            cosz[i] << StringExpression([\"cos(omega_to_zenith(\", omega, \"))\"])\n",
    "            \n",
    "            # Sample energy\n",
    "            Esrc[i] << StringExpression([\"spectrum_rng(\", alpha, \", \", \n",
    "                                         Emin, \" * (1+\", redshift[lam[i]], \") )\"])\n",
    "            E[i] << StringExpression([Esrc[i], \"/ (1+\", redshift[lam[i]], \")\"])\n",
    "            \n",
    "            \n",
    "            # Test against Aeff\n",
    "            StringExpression([\"if (\", cosz[i], \" >= 0.1) {\\n\", \n",
    "                              Pdet[i], \" = 0;\\n\",\n",
    "                             \"}\\n\", \"else {\\n\",\n",
    "                             Pdet[i], \" = \", ntd.effective_area(E[i], omega), \n",
    "                              \" / \", aeff_max, \";\\n\",\n",
    "                             \"}\"])\n",
    "            prob[1] << Pdet[i]\n",
    "            prob[2] << 1 - Pdet[i]\n",
    "            StringExpression([ntrials, \" += \", 1])\n",
    "            #StringExpression([\"print(\", Pdet[i], \")\"])\n",
    "            StringExpression([\"if (\", ntrials, \" < 10000) {\\n\", \n",
    "                             accept, \" = categorical_rng(\", prob, \");\\n\", \"}\\n\",\n",
    "                             \"else {\\n\",\n",
    "                             accept, \" = 1;\\n\", \n",
    "                              \"print(\\\"problem component: \\\", \", lam[i], \");\\n\",\n",
    "                              \"}\"])\n",
    "            #accept << StringExpression([\"categorical_rng(\", prob, \")\"])\n",
    "            \n",
    "            StringExpression(\"}\")\n",
    "            \n",
    "            # Detection effects\n",
    "            event[i] << ntd_rng.angular_resolution(E[i], omega)\n",
    "            Edet[i] << ntd_rng.energy_resolution(E[i])\n",
    "        \n",
    "        \n",
    "    sim = cg.generate_single_file()"
   ]
  },
  {
   "cell_type": "code",
   "execution_count": 17,
   "metadata": {
    "ExecuteTime": {
     "end_time": "2020-08-03T14:52:06.335171Z",
     "start_time": "2020-08-03T14:52:06.328723Z"
    }
   },
   "outputs": [
    {
     "data": {
      "text/plain": [
       "'stan_files/sim_code'"
      ]
     },
     "execution_count": 17,
     "metadata": {},
     "output_type": "execute_result"
    }
   ],
   "source": [
    "cg._base_filename"
   ]
  },
  {
   "cell_type": "code",
   "execution_count": 18,
   "metadata": {
    "ExecuteTime": {
     "end_time": "2020-08-03T14:52:06.344590Z",
     "start_time": "2020-08-03T14:52:06.339751Z"
    }
   },
   "outputs": [
    {
     "data": {
      "text/plain": [
       "'stan_files/sim_code.stan'"
      ]
     },
     "execution_count": 18,
     "metadata": {},
     "output_type": "execute_result"
    }
   ],
   "source": [
    "cg.filename"
   ]
  },
  {
   "cell_type": "code",
   "execution_count": 19,
   "metadata": {
    "ExecuteTime": {
     "end_time": "2020-08-03T14:52:06.506929Z",
     "start_time": "2020-08-03T14:52:06.347007Z"
    }
   },
   "outputs": [
    {
     "name": "stdout",
     "output_type": "stream",
     "text": [
      "Using cached StanModel\n"
     ]
    }
   ],
   "source": [
    "# Compile\n",
    "this_dir = os.path.abspath('')\n",
    "include_paths = [os.path.join(this_dir, \n",
    "                              \"../dev/statistical_model/4_tracks_and_cascades/stan/\")]\n",
    "\n",
    "sm = stan_utility.compile_model(filename=cg.filename, include_paths=include_paths, \n",
    "                                model_name=\"sim\")"
   ]
  },
  {
   "cell_type": "markdown",
   "metadata": {},
   "source": [
    "## Simulation"
   ]
  },
  {
   "cell_type": "code",
   "execution_count": 20,
   "metadata": {
    "ExecuteTime": {
     "end_time": "2020-08-03T14:52:06.518159Z",
     "start_time": "2020-08-03T14:52:06.508902Z"
    }
   },
   "outputs": [],
   "source": [
    "from joint_model_cascades import luminosity_distance\n",
    "\n",
    "redshift = [source_list.sources[i].redshift for i in range(source_list.N)]\n",
    "lum_dist = [luminosity_distance(_) for _ in redshift]\n",
    "varpi = [source_list.sources[i].unit_vector/np.linalg.norm(source_list.sources[i].unit_vector) for i in range(source_list.N-1)]"
   ]
  },
  {
   "cell_type": "code",
   "execution_count": 21,
   "metadata": {
    "ExecuteTime": {
     "end_time": "2020-08-03T14:52:06.527425Z",
     "start_time": "2020-08-03T14:52:06.520923Z"
    }
   },
   "outputs": [],
   "source": [
    "# Inputs \n",
    "inputs = {}\n",
    "inputs['Ns'] = source_list.N-1\n",
    "\n",
    "inputs['z'] = redshift\n",
    "inputs['D'] = lum_dist[:-1]\n",
    "inputs['varpi'] = varpi\n",
    "\n",
    "inputs['Ngrid'] = len(exposure_integral.alpha_grid)\n",
    "inputs['alpha_grid'] = exposure_integral.alpha_grid\n",
    "inputs['integral_grid'] = exposure_integral.integral_grid\n",
    "\n",
    "inputs['aeff_max'] = np.max(exposure_integral.effective_area._eff_area)"
   ]
  },
  {
   "cell_type": "code",
   "execution_count": 22,
   "metadata": {
    "ExecuteTime": {
     "end_time": "2020-08-03T14:52:06.534515Z",
     "start_time": "2020-08-03T14:52:06.530426Z"
    }
   },
   "outputs": [],
   "source": [
    "inputs['aeff_max'] = 1e4"
   ]
  },
  {
   "cell_type": "code",
   "execution_count": 23,
   "metadata": {
    "ExecuteTime": {
     "end_time": "2020-08-03T14:52:06.551023Z",
     "start_time": "2020-08-03T14:52:06.544465Z"
    }
   },
   "outputs": [],
   "source": [
    "inputs['alpha'] = 2.0\n",
    "inputs['Emin'] = 1e5 # GeV\n",
    "\n",
    "total_flux = 3.0 # m^-2 yr^-1\n",
    "f = 0.5\n",
    "\n",
    "inputs['T'] = 1 # yr\n",
    "inputs['F0'] = ((1 - f) * total_flux) # m^-2 yr^-1\n",
    "inputs['Q'] = ( (f*total_flux) / (sum([1 / (4*np.pi * (d*3.086e22)**2) \n",
    "                                          for d in inputs['D']])) ) # yr^-1"
   ]
  },
  {
   "cell_type": "code",
   "execution_count": 24,
   "metadata": {
    "ExecuteTime": {
     "end_time": "2020-08-03T14:52:19.531543Z",
     "start_time": "2020-08-03T14:52:06.556251Z"
    }
   },
   "outputs": [
    {
     "ename": "RuntimeError",
     "evalue": "Exception: categorical_rng: Probabilities parameter is not a valid simplex. Probabilities parameter[2] = -0.977692, but should be greater than or equal to 0  (in 'unknown file name' at line 1105)\n",
     "output_type": "error",
     "traceback": [
      "\u001b[0;31m---------------------------------------------------------------------------\u001b[0m",
      "\u001b[0;31mRuntimeError\u001b[0m                              Traceback (most recent call last)",
      "\u001b[0;32m<ipython-input-24-9a8cce9df883>\u001b[0m in \u001b[0;36m<module>\u001b[0;34m\u001b[0m\n\u001b[1;32m      1\u001b[0m \u001b[0;31m# Simulate\u001b[0m\u001b[0;34m\u001b[0m\u001b[0;34m\u001b[0m\u001b[0;34m\u001b[0m\u001b[0m\n\u001b[1;32m      2\u001b[0m simulation = sm.sampling(data=inputs, iter=1, chains=1, \n\u001b[0;32m----> 3\u001b[0;31m                          algorithm=\"Fixed_param\")\n\u001b[0m",
      "\u001b[0;32m~/.virtualenvs/bayes/lib/python3.7/site-packages/pystan/model.py\u001b[0m in \u001b[0;36msampling\u001b[0;34m(self, data, pars, chains, iter, warmup, thin, seed, init, sample_file, diagnostic_file, verbose, algorithm, control, n_jobs, **kwargs)\u001b[0m\n\u001b[1;32m    811\u001b[0m         \u001b[0mcall_sampler_args\u001b[0m \u001b[0;34m=\u001b[0m \u001b[0mizip\u001b[0m\u001b[0;34m(\u001b[0m\u001b[0mitertools\u001b[0m\u001b[0;34m.\u001b[0m\u001b[0mrepeat\u001b[0m\u001b[0;34m(\u001b[0m\u001b[0mdata\u001b[0m\u001b[0;34m)\u001b[0m\u001b[0;34m,\u001b[0m \u001b[0margs_list\u001b[0m\u001b[0;34m,\u001b[0m \u001b[0mitertools\u001b[0m\u001b[0;34m.\u001b[0m\u001b[0mrepeat\u001b[0m\u001b[0;34m(\u001b[0m\u001b[0mpars\u001b[0m\u001b[0;34m)\u001b[0m\u001b[0;34m)\u001b[0m\u001b[0;34m\u001b[0m\u001b[0;34m\u001b[0m\u001b[0m\n\u001b[1;32m    812\u001b[0m         \u001b[0mcall_sampler_star\u001b[0m \u001b[0;34m=\u001b[0m \u001b[0mself\u001b[0m\u001b[0;34m.\u001b[0m\u001b[0mmodule\u001b[0m\u001b[0;34m.\u001b[0m\u001b[0m_call_sampler_star\u001b[0m\u001b[0;34m\u001b[0m\u001b[0;34m\u001b[0m\u001b[0m\n\u001b[0;32m--> 813\u001b[0;31m         \u001b[0mret_and_samples\u001b[0m \u001b[0;34m=\u001b[0m \u001b[0m_map_parallel\u001b[0m\u001b[0;34m(\u001b[0m\u001b[0mcall_sampler_star\u001b[0m\u001b[0;34m,\u001b[0m \u001b[0mcall_sampler_args\u001b[0m\u001b[0;34m,\u001b[0m \u001b[0mn_jobs\u001b[0m\u001b[0;34m)\u001b[0m\u001b[0;34m\u001b[0m\u001b[0;34m\u001b[0m\u001b[0m\n\u001b[0m\u001b[1;32m    814\u001b[0m         \u001b[0msamples\u001b[0m \u001b[0;34m=\u001b[0m \u001b[0;34m[\u001b[0m\u001b[0msmpl\u001b[0m \u001b[0;32mfor\u001b[0m \u001b[0m_\u001b[0m\u001b[0;34m,\u001b[0m \u001b[0msmpl\u001b[0m \u001b[0;32min\u001b[0m \u001b[0mret_and_samples\u001b[0m\u001b[0;34m]\u001b[0m\u001b[0;34m\u001b[0m\u001b[0;34m\u001b[0m\u001b[0m\n\u001b[1;32m    815\u001b[0m \u001b[0;34m\u001b[0m\u001b[0m\n",
      "\u001b[0;32m~/.virtualenvs/bayes/lib/python3.7/site-packages/pystan/model.py\u001b[0m in \u001b[0;36m_map_parallel\u001b[0;34m(function, args, n_jobs)\u001b[0m\n\u001b[1;32m     88\u001b[0m             \u001b[0mpool\u001b[0m\u001b[0;34m.\u001b[0m\u001b[0mjoin\u001b[0m\u001b[0;34m(\u001b[0m\u001b[0;34m)\u001b[0m\u001b[0;34m\u001b[0m\u001b[0;34m\u001b[0m\u001b[0m\n\u001b[1;32m     89\u001b[0m     \u001b[0;32melse\u001b[0m\u001b[0;34m:\u001b[0m\u001b[0;34m\u001b[0m\u001b[0;34m\u001b[0m\u001b[0m\n\u001b[0;32m---> 90\u001b[0;31m         \u001b[0mmap_result\u001b[0m \u001b[0;34m=\u001b[0m \u001b[0mlist\u001b[0m\u001b[0;34m(\u001b[0m\u001b[0mmap\u001b[0m\u001b[0;34m(\u001b[0m\u001b[0mfunction\u001b[0m\u001b[0;34m,\u001b[0m \u001b[0margs\u001b[0m\u001b[0;34m)\u001b[0m\u001b[0;34m)\u001b[0m\u001b[0;34m\u001b[0m\u001b[0;34m\u001b[0m\u001b[0m\n\u001b[0m\u001b[1;32m     91\u001b[0m     \u001b[0;32mreturn\u001b[0m \u001b[0mmap_result\u001b[0m\u001b[0;34m\u001b[0m\u001b[0;34m\u001b[0m\u001b[0m\n\u001b[1;32m     92\u001b[0m \u001b[0;34m\u001b[0m\u001b[0m\n",
      "\u001b[0;32mstanfit4sim_fcb5addde8769d6ca28d0573e01628f8_4286295098794192411.pyx\u001b[0m in \u001b[0;36mstanfit4sim_fcb5addde8769d6ca28d0573e01628f8_4286295098794192411._call_sampler_star\u001b[0;34m()\u001b[0m\n",
      "\u001b[0;32mstanfit4sim_fcb5addde8769d6ca28d0573e01628f8_4286295098794192411.pyx\u001b[0m in \u001b[0;36mstanfit4sim_fcb5addde8769d6ca28d0573e01628f8_4286295098794192411._call_sampler\u001b[0;34m()\u001b[0m\n",
      "\u001b[0;31mRuntimeError\u001b[0m: Exception: categorical_rng: Probabilities parameter is not a valid simplex. Probabilities parameter[2] = -0.977692, but should be greater than or equal to 0  (in 'unknown file name' at line 1105)\n"
     ]
    }
   ],
   "source": [
    "# Simulate\n",
    "simulation = sm.sampling(data=inputs, iter=1, chains=1, \n",
    "                         algorithm=\"Fixed_param\")"
   ]
  },
  {
   "cell_type": "code",
   "execution_count": null,
   "metadata": {
    "ExecuteTime": {
     "end_time": "2020-08-03T14:52:19.534911Z",
     "start_time": "2020-08-03T14:51:48.958Z"
    }
   },
   "outputs": [],
   "source": [
    "from astropy.coordinates import SkyCoord\n",
    "from astropy import units as u\n",
    "\n",
    "class Direction():\n",
    "    \"\"\"\n",
    "    Input the unit vector vMF samples and\n",
    "    store x, y, and z and galactic coordinates\n",
    "    of direction in Mpc.\n",
    "    \"\"\"\n",
    "\n",
    "    def __init__(self, unit_vector_3d):\n",
    "        \"\"\"\n",
    "        Input the unit vector samples and\n",
    "        store x, y, and z and galactic coordinates\n",
    "        of direction in Mpc.\n",
    "\n",
    "        :param unit_vector_3d: a 3-dimensional unit vector.\n",
    "        \"\"\"\n",
    "\n",
    "        self.unit_vector = unit_vector_3d\n",
    "        transposed_uv = np.transpose(self.unit_vector)\n",
    "        self.x = transposed_uv[0]\n",
    "        self.y = transposed_uv[1]\n",
    "        self.z = transposed_uv[2]\n",
    "        self.d = SkyCoord(self.x, self.y, self.z,\n",
    "                          unit = 'mpc',\n",
    "                          representation_type = 'cartesian',\n",
    "                          frame = 'icrs')\n",
    "        self.d.representation_type = 'spherical'\n",
    "        self.lons = self.d.galactic.l.wrap_at(360 * u.deg).deg\n",
    "        self.lats = self.d.galactic.b.wrap_at(180 * u.deg).deg"
   ]
  },
  {
   "cell_type": "code",
   "execution_count": null,
   "metadata": {
    "ExecuteTime": {
     "end_time": "2020-08-03T14:52:19.536479Z",
     "start_time": "2020-08-03T14:51:48.959Z"
    }
   },
   "outputs": [],
   "source": [
    "# Energies\n",
    "Esrc = simulation.extract(['Esrc'])['Esrc'][0]\n",
    "E = simulation.extract(['E'])['E'][0]\n",
    "Edet = simulation.extract(['Edet'])['Edet'][0]\n",
    "\n",
    "# Arrival directions\n",
    "event = simulation.extract(['event'])['event'][0]\n",
    "event = Direction(event)\n",
    "e_ra = event.d.icrs.ra.rad\n",
    "e_dec = event.d.icrs.dec.rad\n",
    "\n",
    "\n",
    "true_dir = simulation.extract(['omega'])['omega'][0]\n",
    "true_dir = Direction(true_dir)\n",
    "e_t_ra = true_dir.d.icrs.ra.rad\n",
    "e_t_dec = true_dir.d.icrs.dec.rad\n",
    "\n",
    "source = Direction(varpi)\n",
    "s_ra = source.d.icrs.ra.rad\n",
    "s_dec = source.d.icrs.dec.rad\n",
    "\n",
    "# event type\n",
    "#event_type = simulation.extract(['event_type'])['event_type'][0]\n",
    "#zenith = simulation.extract(['zenith'])['zenith'][0]"
   ]
  },
  {
   "cell_type": "code",
   "execution_count": null,
   "metadata": {
    "ExecuteTime": {
     "end_time": "2020-08-03T14:52:19.538216Z",
     "start_time": "2020-08-03T14:51:48.961Z"
    }
   },
   "outputs": [],
   "source": [
    "lam = simulation.extract(['Lambda'])['Lambda'][0] - 1\n",
    "Nc = inputs['Ns']\n",
    "label_cmap = plt.cm.get_cmap('plasma', Nc+1)\n",
    "\n",
    "lam = list(lam)\n",
    "Nsrc = sum([lam.count(_) for _ in range(int(Nc))])\n",
    "Nbg = lam.count(Nc)\n",
    "print('Nsrc: ', Nsrc)\n",
    "print('Nbg: ', Nbg)\n",
    "print('w_bg: ', Nbg / (Nbg+Nsrc))"
   ]
  },
  {
   "cell_type": "code",
   "execution_count": null,
   "metadata": {
    "ExecuteTime": {
     "end_time": "2020-08-03T14:52:19.540254Z",
     "start_time": "2020-08-03T14:51:48.962Z"
    }
   },
   "outputs": [],
   "source": [
    "import matplotlib.patches as mpatches\n",
    "from matplotlib.collections import PatchCollection\n",
    "from matplotlib.colors import LinearSegmentedColormap\n",
    "\n",
    "fig = plt.figure()\n",
    "fig.set_size_inches((10, 8))\n",
    "ax = fig.add_subplot(111, projection='hammer')\n",
    "\n",
    "for r, d, l in zip(e_ra, e_dec, lam):\n",
    "    color = label_cmap.colors[int(l)]\n",
    "    circle = mpatches.Circle((r-np.pi,d), 0.05, color=color, alpha=0.7)\n",
    "    ax.add_patch(circle)\n",
    "norm = max([1 - _/zth for _ in redshift])\n",
    "for r, d, z in zip(s_ra, s_dec, redshift):\n",
    "    circle = mpatches.Circle((r-np.pi,d), 0.05, color='k', alpha=(1-z/zth)/norm)\n",
    "    ax.add_patch(circle)\n",
    "ax.axhline(np.deg2rad(-5))"
   ]
  },
  {
   "cell_type": "code",
   "execution_count": null,
   "metadata": {
    "ExecuteTime": {
     "end_time": "2020-08-03T14:52:19.542598Z",
     "start_time": "2020-08-03T14:51:48.964Z"
    }
   },
   "outputs": [],
   "source": [
    "# Plot energies\n",
    "Emin_cascades = inputs['Emin']\n",
    "bins = np.logspace(np.log(Emin_cascades/1000), np.log(1E+4*Emin_cascades), base = np.e)\n",
    "\n",
    "fig, ax = plt.subplots()\n",
    "ax.hist(Esrc, bins=bins, label='$\\\\tilde{E}$', alpha=0.7);\n",
    "ax.hist(10**Edet, bins=bins, label='$\\hat{E}$', alpha=0.7);\n",
    "ax.set_xscale('log')\n",
    "ax.set_yscale('log')\n",
    "ax.set_xlabel('$E$ / GeV')\n",
    "ax.legend();"
   ]
  },
  {
   "cell_type": "markdown",
   "metadata": {},
   "source": [
    "## Generate Stan code for fit"
   ]
  },
  {
   "cell_type": "code",
   "execution_count": null,
   "metadata": {
    "ExecuteTime": {
     "end_time": "2020-08-03T14:52:19.544281Z",
     "start_time": "2020-08-03T14:51:48.966Z"
    }
   },
   "outputs": [],
   "source": [
    "from backend.stan_generator import ParametersContext\n",
    "from backend.variable_definitions import ParameterDef, ParameterVectorDef"
   ]
  },
  {
   "cell_type": "code",
   "execution_count": null,
   "metadata": {
    "ExecuteTime": {
     "end_time": "2020-08-03T14:52:19.546707Z",
     "start_time": "2020-08-03T14:51:48.967Z"
    }
   },
   "outputs": [],
   "source": [
    "with StanFileGenerator(\"stan_files/model_code\") as cg:\n",
    "\n",
    "    with FunctionsContext() as fc:\n",
    "        _ = Include(\"utils.stan\")\n",
    "        _ = Include(\"vMF.stan\")\n",
    "        _ = Include(\"interpolation.stan\")\n",
    "        _ = Include(\"energy_spectrum.stan\")\n",
    "        ntd = NorthernTracksDetectorModel()\n",
    "        \n",
    "    with DataContext() as dc:\n",
    "        \n",
    "        # Neutrinos\n",
    "        N = ForwardVariableDef(\"N\", \"int\")\n",
    "        N_str = [\"[\", N, \"]\"]\n",
    "        omega_det = ForwardArrayDef(\"omega_det\", \"unit_vector[3]\", N_str)\n",
    "        Edet = ForwardVariableDef(\"Edet\", \"vector[N]\")\n",
    "        Emin = ForwardVariableDef(\"Emin\", \"real\")\n",
    "        \n",
    "         # Sources\n",
    "        Ns = ForwardVariableDef(\"Ns\", \"int\")\n",
    "        Ns_str = [\"[\", Ns, \"]\"]\n",
    "        Ns_1p_str = [\"[\", Ns, \"+1]\"]\n",
    "        \n",
    "        varpi = ForwardArrayDef(\"varpi\", \"unit_vector[3]\", Ns_str)\n",
    "        D = ForwardVariableDef(\"D\", \"vector[Ns]\")\n",
    "        redshift = ForwardVariableDef(\"z\", \"vector[Ns+1]\")\n",
    "\n",
    "        # Precomputed quantities\n",
    "        Ngrid = ForwardVariableDef(\"Ngrid\", \"int\")\n",
    "        alpha_grid = ForwardVariableDef(\"alpha_grid\", \"vector[Ngrid]\")\n",
    "        integral_grid = ForwardArrayDef(\"integral_grid\", \n",
    "                                        \"vector[Ngrid]\", Ns_1p_str)\n",
    "        aeff_max = ForwardVariableDef(\"aeff_max\", \"real\")\n",
    "        \n",
    "        # Inputs\n",
    "        T = ForwardVariableDef(\"T\", \"real\")\n",
    "        \n",
    "    with TransformedDataContext() as tdc:\n",
    "        \n",
    "        zenith = ForwardVariableDef(\"zenith\", \"vector[N]\")\n",
    "        \n",
    "        with ForLoopContext(1, N, \"i\") as i:\n",
    "            zenith[i] << StringExpression([\"pi() - acos(\", omega[i][3], \")\"])\n",
    "            \n",
    "    with ParametersContext() as pc:\n",
    "        \n",
    "        Q = ParameterDef(\"Q\", \"real\", 0.0, 1e60)\n",
    "        F0 = ParameterDef(\"F0\", \"real\", 0.0, 500)\n",
    "        \n",
    "        alpha = ParameterDef(\"alpha\", \"real\", 1.5, 3.5)\n",
    "        \n",
    "        Esrc = ParameterVectorDef(\"Esrc\", \"vector\", N_str, 1.0, 1e8)\n",
    "        \n",
    "        \n",
    "    model = cg.generate_single_file()"
   ]
  },
  {
   "cell_type": "code",
   "execution_count": null,
   "metadata": {
    "ExecuteTime": {
     "end_time": "2020-08-03T14:52:19.548932Z",
     "start_time": "2020-08-03T14:51:48.969Z"
    }
   },
   "outputs": [],
   "source": [
    "isinstance(Emin, ForwardVariableDef)"
   ]
  },
  {
   "cell_type": "code",
   "execution_count": null,
   "metadata": {
    "ExecuteTime": {
     "end_time": "2020-08-03T14:52:19.551437Z",
     "start_time": "2020-08-03T14:51:48.970Z"
    }
   },
   "outputs": [],
   "source": [
    "isinstance(500, float)"
   ]
  },
  {
   "cell_type": "code",
   "execution_count": null,
   "metadata": {},
   "outputs": [],
   "source": []
  }
 ],
 "metadata": {
  "kernelspec": {
   "display_name": "bayes",
   "language": "python",
   "name": "bayes"
  },
  "language_info": {
   "codemirror_mode": {
    "name": "ipython",
    "version": 3
   },
   "file_extension": ".py",
   "mimetype": "text/x-python",
   "name": "python",
   "nbconvert_exporter": "python",
   "pygments_lexer": "ipython3",
   "version": "3.7.6"
  }
 },
 "nbformat": 4,
 "nbformat_minor": 2
}
