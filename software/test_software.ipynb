{
 "cells": [
  {
   "cell_type": "markdown",
   "metadata": {},
   "source": [
    "# Testing software"
   ]
  },
  {
   "cell_type": "code",
   "execution_count": 1,
   "metadata": {
    "ExecuteTime": {
     "end_time": "2020-09-02T09:15:06.425352Z",
     "start_time": "2020-09-02T09:15:03.130754Z"
    }
   },
   "outputs": [],
   "source": [
    "import numpy as np\n",
    "from matplotlib import pyplot as plt\n",
    "import os\n",
    "import stan_utility\n",
    "import astropy.units as u\n",
    "%load_ext autoreload\n",
    "%autoreload 2\n",
    "import seaborn as sns\n",
    "from scipy.integrate import quad"
   ]
  },
  {
   "cell_type": "markdown",
   "metadata": {},
   "source": [
    "## Sources"
   ]
  },
  {
   "cell_type": "code",
   "execution_count": 42,
   "metadata": {
    "ExecuteTime": {
     "end_time": "2020-09-02T09:48:29.343924Z",
     "start_time": "2020-09-02T09:48:29.316715Z"
    }
   },
   "outputs": [],
   "source": [
    "from python.source.simple_source import PointSource, DiffuseSource, TestSourceList\n",
    "from python.source.flux_model import PowerLawSpectrum, IsotropicDiffuseBG\n",
    "from python.source.parameter import Parameter\n",
    "Parameter.clear_registry()\n",
    "from python.source.atmospheric_flux import AtmosphericNuMuFlux\n",
    "from python.backend.stan_generator import ParametersContext, TransformedParametersContext, ModelContext\n",
    "from python.backend.variable_definitions import ParameterDef, ParameterVectorDef"
   ]
  },
  {
   "cell_type": "code",
   "execution_count": 43,
   "metadata": {
    "ExecuteTime": {
     "end_time": "2020-09-02T09:48:29.759982Z",
     "start_time": "2020-09-02T09:48:29.731108Z"
    }
   },
   "outputs": [],
   "source": [
    "# Define point source params\n",
    "index = Parameter(2.0, \"index\", fixed=False, par_range=(1.1, 4))\n",
    "luminosity = Parameter(2.2E49 * (u.erg / u.s), \"luminosity\", fixed=True, \n",
    "                       par_range=(0, 1E60))\n",
    "\n",
    "# Define diffuse flux inputs\n",
    "diffuse_norm = Parameter(1.44E-11 /u.GeV/u.m**2/u.s, \"diffuse_norm\", fixed=True, \n",
    "                         par_range=(0, np.inf))\n",
    "diffuse_flux_model = IsotropicDiffuseBG(PowerLawSpectrum(diffuse_norm, 1E5*u.GeV, \n",
    "                                                         index, lower_energy=1E2*u.GeV, \n",
    "                                                         upper_energy=1E8*u.GeV))"
   ]
  },
  {
   "cell_type": "code",
   "execution_count": 44,
   "metadata": {
    "ExecuteTime": {
     "end_time": "2020-09-02T09:48:31.288315Z",
     "start_time": "2020-09-02T09:48:31.131258Z"
    }
   },
   "outputs": [
    {
     "data": {
      "text/latex": [
       "$0.30189558 \\; \\mathrm{\\frac{1}{s\\,m^{2}}}$"
      ],
      "text/plain": [
       "<Quantity 0.30189558 1 / (m2 s)>"
      ]
     },
     "execution_count": 44,
     "metadata": {},
     "output_type": "execute_result"
    }
   ],
   "source": [
    "# Define atmo_bg_flux\n",
    "atmo_bg_flux = AtmosphericNuMuFlux(1E2 * u.GeV, 1E8 * u.GeV)\n",
    "atmo_bg_flux.total_flux_int"
   ]
  },
  {
   "cell_type": "code",
   "execution_count": 45,
   "metadata": {
    "ExecuteTime": {
     "end_time": "2020-09-02T09:48:36.641281Z",
     "start_time": "2020-09-02T09:48:35.262207Z"
    }
   },
   "outputs": [],
   "source": [
    "# Loading from file\n",
    "source_file = '../dev/statistical_model/data/test_SFR_pop.h5'\n",
    "source_list = TestSourceList(source_file, luminosity, index, 1E2 * u.GeV, 1E8 * u.GeV)\n",
    "\n",
    "# Select sources below zth = 1\n",
    "zth = 1.0\n",
    "source_list.select_below_redshift(zth)\n",
    "\n",
    "# Add a diffuse background at z = 1\n",
    "diffuse_bg = DiffuseSource('diffuse_bg', zth, flux_model=diffuse_flux_model)\n",
    "source_list.add(diffuse_bg)\n",
    "\n",
    "# Add an atmospheric background component\n",
    "#atmo_bg = DiffuseSource('atmo_bg', 0, flux_model=atmo_bg_flux)\n",
    "#source_list.add(atmo_bg)"
   ]
  },
  {
   "cell_type": "code",
   "execution_count": 46,
   "metadata": {
    "ExecuteTime": {
     "end_time": "2020-09-02T09:48:37.362110Z",
     "start_time": "2020-09-02T09:48:37.269474Z"
    }
   },
   "outputs": [
    {
     "name": "stdout",
     "output_type": "stream",
     "text": [
      "0.5374060036466282\n"
     ]
    }
   ],
   "source": [
    "# Associated fraction of our sources\n",
    "source_ints = [source.flux_model.total_flux_int for source in source_list]\n",
    "f = sum(source_ints[:-1]) / sum(source_ints)\n",
    "print(f)"
   ]
  },
  {
   "cell_type": "markdown",
   "metadata": {},
   "source": [
    "## Precomputation"
   ]
  },
  {
   "cell_type": "code",
   "execution_count": 47,
   "metadata": {
    "ExecuteTime": {
     "end_time": "2020-09-02T09:48:38.651138Z",
     "start_time": "2020-09-02T09:48:38.622254Z"
    }
   },
   "outputs": [],
   "source": [
    "from python.precomputation import ExposureIntegral\n",
    "from python.detector_model import NorthernTracksDetectorModel"
   ]
  },
  {
   "cell_type": "code",
   "execution_count": 48,
   "metadata": {
    "ExecuteTime": {
     "end_time": "2020-09-02T09:48:44.418785Z",
     "start_time": "2020-09-02T09:48:39.052492Z"
    }
   },
   "outputs": [
    {
     "name": "stderr",
     "output_type": "stream",
     "text": [
      "INFO:python.backend.code_generator:Object of type <python.backend.stan_generator.FunctionsContext object at 0x1172d3190> already on stack\n",
      "INFO:python.backend.code_generator:Object of type <python.backend.stan_generator.FunctionsContext object at 0x11a35b3d0> already on stack\n",
      "INFO:python.backend.code_generator:Object of type <python.backend.stan_generator.DefinitionContext object at 0x11b8a02d0> already on stack\n",
      "INFO:python.backend.code_generator:Object of type <python.backend.stan_generator.DefinitionContext object at 0x11a3830d0> already on stack\n",
      "INFO:python.backend.code_generator:Object of type <python.backend.stan_generator.DefinitionContext object at 0x117315c90> already on stack\n",
      "INFO:python.backend.code_generator:Object of type <python.backend.stan_generator.DefinitionContext object at 0x11a28e150> already on stack\n",
      "INFO:python.backend.code_generator:Object of type <python.backend.stan_generator.FunctionsContext object at 0x117320b90> already on stack\n",
      "INFO:python.backend.code_generator:Object of type <python.backend.stan_generator.FunctionsContext object at 0x11731cf50> already on stack\n",
      "INFO:python.backend.code_generator:Object of type <python.backend.stan_generator.DefinitionContext object at 0x11b184a90> already on stack\n",
      "INFO:python.backend.code_generator:Object of type <python.backend.stan_generator.DefinitionContext object at 0x11b2e5a50> already on stack\n"
     ]
    }
   ],
   "source": [
    "time = 8 * u.year # years -> not used rn\n",
    "Emin_det = 1.0e5 * u.GeV # GeV\n",
    "\n",
    "exposure_integral = ExposureIntegral(source_list, NorthernTracksDetectorModel, \n",
    "                                     time, Emin_det)\n",
    "\n",
    "exposure_integral()"
   ]
  },
  {
   "cell_type": "code",
   "execution_count": 49,
   "metadata": {
    "ExecuteTime": {
     "end_time": "2020-09-02T09:48:44.639492Z",
     "start_time": "2020-09-02T09:48:44.421331Z"
    }
   },
   "outputs": [
    {
     "data": {
      "image/png": "[encoded data removed]",
      "text/plain": [
       "<Figure size 432x288 with 1 Axes>"
      ]
     },
     "metadata": {
      "needs_background": "light"
     },
     "output_type": "display_data"
    }
   ],
   "source": [
    "fig, ax = plt.subplots()\n",
    "for _ in exposure_integral.integral_grid:\n",
    "    ax.plot(exposure_integral.par_grids[\"index\"], _)\n",
    "#ax.axhline(exposure_integral.integral_fixed_vals[0].value)"
   ]
  },
  {
   "cell_type": "markdown",
   "metadata": {},
   "source": [
    "## Generate Stan code for simulation\n"
   ]
  },
  {
   "cell_type": "code",
   "execution_count": 50,
   "metadata": {
    "ExecuteTime": {
     "end_time": "2020-09-02T09:48:44.671891Z",
     "start_time": "2020-09-02T09:48:44.642396Z"
    }
   },
   "outputs": [],
   "source": [
    "from python.detector_model import NorthernTracksDetectorModel\n",
    "from python.backend.stan_generator import (\n",
    "    StanGenerator, GeneratedQuantitiesContext, DataContext, TransformedDataContext,\n",
    "    FunctionsContext, Include, ForLoopContext, StanFileGenerator, WhileLoopContext, FunctionCall, ModelContext, IfBlockContext, ElseIfBlockContext, ElseBlockContext)\n",
    "from python.backend.variable_definitions import ForwardVariableDef, ForwardArrayDef\n",
    "from python.backend.expression import StringExpression\n",
    "from python.backend.parameterizations import DistributionMode\n",
    "import logging\n",
    "logging.basicConfig(level=logging.WARN)"
   ]
  },
  {
   "cell_type": "markdown",
   "metadata": {},
   "source": [
    "### Test sampling functions"
   ]
  },
  {
   "cell_type": "code",
   "execution_count": 51,
   "metadata": {
    "ExecuteTime": {
     "end_time": "2020-09-02T09:48:44.717978Z",
     "start_time": "2020-09-02T09:48:44.674688Z"
    }
   },
   "outputs": [
    {
     "ename": "NameError",
     "evalue": "name 'source' is not defined",
     "output_type": "error",
     "traceback": [
      "\u001b[0;31m---------------------------------------------------------------------------\u001b[0m",
      "\u001b[0;31mNameError\u001b[0m                                 Traceback (most recent call last)",
      "\u001b[0;32m<ipython-input-51-d92a87eebd8c>\u001b[0m in \u001b[0;36m<module>\u001b[0;34m\u001b[0m\n\u001b[1;32m      6\u001b[0m \u001b[0;34m\u001b[0m\u001b[0m\n\u001b[1;32m      7\u001b[0m \u001b[0;34m\u001b[0m\u001b[0m\n\u001b[0;32m----> 8\u001b[0;31m     \u001b[0mspectrum_rng\u001b[0m \u001b[0;34m=\u001b[0m \u001b[0msource\u001b[0m\u001b[0;34m.\u001b[0m\u001b[0mflux_model\u001b[0m\u001b[0;34m.\u001b[0m\u001b[0mspectral_shape\u001b[0m\u001b[0;34m.\u001b[0m\u001b[0mmake_stan_sampling_func\u001b[0m\u001b[0;34m(\u001b[0m\u001b[0;34m\"spectrum_rng\"\u001b[0m\u001b[0;34m)\u001b[0m\u001b[0;34m\u001b[0m\u001b[0;34m\u001b[0m\u001b[0m\n\u001b[0m\u001b[1;32m      9\u001b[0m     \u001b[0mdiffuse_flux_rng\u001b[0m \u001b[0;34m=\u001b[0m \u001b[0mdiffuse_flux_model\u001b[0m\u001b[0;34m.\u001b[0m\u001b[0mmake_stan_sampling_func\u001b[0m\u001b[0;34m(\u001b[0m\u001b[0;34m\"diffuse_bg_rng\"\u001b[0m\u001b[0;34m)\u001b[0m\u001b[0;34m\u001b[0m\u001b[0;34m\u001b[0m\u001b[0m\n\u001b[1;32m     10\u001b[0m     \u001b[0matmu_nu_flux\u001b[0m \u001b[0;34m=\u001b[0m \u001b[0matmo_bg_flux\u001b[0m\u001b[0;34m.\u001b[0m\u001b[0mmake_stan_function\u001b[0m\u001b[0;34m(\u001b[0m\u001b[0mtheta_points\u001b[0m\u001b[0;34m=\u001b[0m\u001b[0;36m30\u001b[0m\u001b[0;34m)\u001b[0m\u001b[0;34m\u001b[0m\u001b[0;34m\u001b[0m\u001b[0m\n",
      "\u001b[0;31mNameError\u001b[0m: name 'source' is not defined"
     ]
    }
   ],
   "source": [
    "Ns = 100000\n",
    "with StanFileGenerator(\"stan_files/test\") as cg:\n",
    "    with FunctionsContext() as fc:\n",
    "        _ = Include(\"utils.stan\")\n",
    "        _ = Include(\"interpolation.stan\")\n",
    "    \n",
    "    \n",
    "    spectrum_rng = source.flux_model.spectral_shape.make_stan_sampling_func(\"spectrum_rng\")\n",
    "    diffuse_flux_rng = diffuse_flux_model.make_stan_sampling_func(\"diffuse_bg_rng\")\n",
    "    atmu_nu_flux = atmo_bg_flux.make_stan_function(theta_points=30)\n",
    "        \n",
    "    with ParametersContext():\n",
    "        energy = ParameterDef(\"energy\", \"real\", 1E2, 1E9)\n",
    "        coszen = ParameterDef(\"coszen\", \"real\", -1, 1) \n",
    "        \n",
    "    with TransformedParametersContext():\n",
    "        omega = ForwardVariableDef(\"omega\", \"vector[3]\")\n",
    "        zen = ForwardVariableDef(\"zen\", \"real\")\n",
    "        sinzen = ForwardVariableDef(\"sinzen\", \"real\")\n",
    "        \n",
    "        zen << FunctionCall([coszen], \"acos\")\n",
    "        sinzen  << FunctionCall([zen], \"sin\")\n",
    "        \n",
    "        omega[1] << sinzen\n",
    "        omega[2] << 0\n",
    "        omega[3] << coszen\n",
    "        \n",
    "    with ModelContext():\n",
    "        \n",
    "        logflux = FunctionCall([atmu_nu_flux(energy, omega)], \"log\")\n",
    "        StringExpression([\"target += \", logflux])\n",
    "        \n",
    "    with GeneratedQuantitiesContext():\n",
    "        pl_samples = ForwardVariableDef(\"pl_samples\", \"real\")\n",
    "        diffuse_events = ForwardVariableDef(\"diffuse_events\", \"vector[3]\") \n",
    "\n",
    "        #with ForLoopContext(1, Ns, \"i\") as i:\n",
    "        pl_samples << spectrum_rng(2, 1E2, 1E9)\n",
    "        diffuse_events << diffuse_flux_rng(2, 1E2, 1E9)\n",
    "        \n",
    "model = cg.generate_single_file()"
   ]
  },
  {
   "cell_type": "code",
   "execution_count": 232,
   "metadata": {
    "ExecuteTime": {
     "end_time": "2020-08-31T15:16:41.304370Z",
     "start_time": "2020-08-31T15:16:41.266143Z"
    }
   },
   "outputs": [
    {
     "name": "stdout",
     "output_type": "stream",
     "text": [
      "Using cached StanModel\n"
     ]
    }
   ],
   "source": [
    "# Compile\n",
    "this_dir = os.path.abspath('')\n",
    "include_paths = [os.path.join(this_dir, \n",
    "                              \"../dev/statistical_model/4_tracks_and_cascades/stan/\")]\n",
    "\n",
    "sm = stan_utility.compile_model(filename=cg.filename, include_paths=include_paths, \n",
    "                                model_name=\"test\")"
   ]
  },
  {
   "cell_type": "code",
   "execution_count": 233,
   "metadata": {
    "ExecuteTime": {
     "end_time": "2020-08-31T15:16:42.256154Z",
     "start_time": "2020-08-31T15:16:41.306794Z"
    }
   },
   "outputs": [
    {
     "name": "stderr",
     "output_type": "stream",
     "text": [
      "WARNING:pystan:n_eff / iter below 0.001 indicates that the effective sample size has likely been overestimated\n",
      "WARNING:pystan:Rhat above 1.1 or below 0.9 indicates that the chains very likely have not mixed\n"
     ]
    }
   ],
   "source": [
    "simulation = sm.sampling(data={}, iter=1000, chains=1, \n",
    "                         algorithm=\"NUTS\")"
   ]
  },
  {
   "cell_type": "markdown",
   "metadata": {},
   "source": [
    "#### Diffuse events"
   ]
  },
  {
   "cell_type": "code",
   "execution_count": 19,
   "metadata": {
    "ExecuteTime": {
     "end_time": "2020-08-31T14:31:17.069099Z",
     "start_time": "2020-08-31T14:31:16.112481Z"
    }
   },
   "outputs": [
    {
     "data": {
      "image/png": "[encoded data removed]",
      "text/plain": [
       "<Figure size 720x288 with 2 Axes>"
      ]
     },
     "metadata": {
      "needs_background": "light"
     },
     "output_type": "display_data"
    }
   ],
   "source": [
    "events = simulation.extract([\"diffuse_events\"])[\"diffuse_events\"]\n",
    "fig, axs = plt.subplots(1, 2, figsize=(10, 4))\n",
    "sns.distplot(np.log10(events[:, 0]), kde=False, ax = axs[0])\n",
    "axs[0].set_yscale(\"log\")\n",
    "axs[0].set_xlabel(\"log10(Energy / GeV)\")\n",
    "axs[1].set_xlabel(\"sin(dec)\")\n",
    "sns.distplot(np.sin(events[:, 1]), kde=False, ax = axs[1])\n",
    "plt.tight_layout()"
   ]
  },
  {
   "cell_type": "markdown",
   "metadata": {},
   "source": [
    "#### Atmo events"
   ]
  },
  {
   "cell_type": "code",
   "execution_count": 20,
   "metadata": {
    "ExecuteTime": {
     "end_time": "2020-08-31T14:31:18.102964Z",
     "start_time": "2020-08-31T14:31:17.071926Z"
    }
   },
   "outputs": [
    {
     "data": {
      "text/plain": [
       "[]"
      ]
     },
     "execution_count": 20,
     "metadata": {},
     "output_type": "execute_result"
    },
    {
     "data": {
      "image/png": "[encoded data removed]",
      "text/plain": [
       "<Figure size 720x288 with 2 Axes>"
      ]
     },
     "metadata": {
      "needs_background": "light"
     },
     "output_type": "display_data"
    }
   ],
   "source": [
    "atmo_events = simulation.extract([\"energy\", \"coszen\"])\n",
    "fig, axs = plt.subplots(1, 2, figsize=(10, 4))\n",
    "sns.distplot(np.log10(atmo_events[\"energy\"]), kde=False, ax = axs[0])\n",
    "axs[0].set_yscale(\"log\")\n",
    "axs[0].set_xlabel(\"log10(Energy / GeV)\")\n",
    "axs[1].set_xlabel(\"cos(zen)\")\n",
    "sns.distplot(atmo_events[\"coszen\"], kde=False, ax = axs[1])\n",
    "plt.tight_layout()\n",
    "plt.semilogy()"
   ]
  },
  {
   "cell_type": "markdown",
   "metadata": {},
   "source": [
    "#### Compare sampled energies to true spectrum integrated over dOmega"
   ]
  },
  {
   "cell_type": "code",
   "execution_count": 21,
   "metadata": {
    "ExecuteTime": {
     "end_time": "2020-08-31T14:31:18.937555Z",
     "start_time": "2020-08-31T14:31:18.909094Z"
    }
   },
   "outputs": [
    {
     "data": {
      "text/plain": [
       "-1.0"
      ]
     },
     "execution_count": 21,
     "metadata": {},
     "output_type": "execute_result"
    }
   ],
   "source": [
    "np.sin(-np.pi/2)"
   ]
  },
  {
   "cell_type": "code",
   "execution_count": 22,
   "metadata": {
    "ExecuteTime": {
     "end_time": "2020-08-31T14:31:21.422338Z",
     "start_time": "2020-08-31T14:31:19.765059Z"
    }
   },
   "outputs": [
    {
     "data": {
      "text/plain": [
       "[]"
      ]
     },
     "execution_count": 22,
     "metadata": {},
     "output_type": "execute_result"
    },
    {
     "data": {
      "image/png": "[encoded data removed]",
      "text/plain": [
       "<Figure size 432x288 with 1 Axes>"
      ]
     },
     "metadata": {
      "needs_background": "light"
     },
     "output_type": "display_data"
    },
    {
     "data": {
      "image/png": "[encoded data removed]",
      "text/plain": [
       "<Figure size 432x288 with 1 Axes>"
      ]
     },
     "metadata": {
      "needs_background": "light"
     },
     "output_type": "display_data"
    }
   ],
   "source": [
    "energies = np.logspace(2, 9, 50)\n",
    "coszens = np.linspace(-1, 1, 100)\n",
    "\n",
    "dec = -np.arcsin(coszens)\n",
    "for e in energies[:10]:\n",
    "    plt.plot(coszens, atmo_bg_flux(e * u.GeV, dec * u.rad, 0*u.rad))\n",
    "plt.semilogy()\n",
    "plt.figure()\n",
    "\n",
    "plt.plot(energies, atmo_bg_flux.total_flux(energies * u.GeV))\n",
    "plt.loglog()\n",
    "\n"
   ]
  },
  {
   "cell_type": "code",
   "execution_count": 23,
   "metadata": {
    "ExecuteTime": {
     "end_time": "2020-08-31T14:31:25.663113Z",
     "start_time": "2020-08-31T14:31:21.425799Z"
    }
   },
   "outputs": [
    {
     "data": {
      "text/plain": [
       "Text(0, 0.5, 'Prob. per log bin')"
      ]
     },
     "execution_count": 23,
     "metadata": {},
     "output_type": "execute_result"
    },
    {
     "data": {
      "image/png": "[encoded data removed]",
      "text/plain": [
       "<Figure size 432x288 with 1 Axes>"
      ]
     },
     "metadata": {
      "needs_background": "light"
     },
     "output_type": "display_data"
    }
   ],
   "source": [
    "energies = np.logspace(2, 9, 100) << u.GeV\n",
    "log_bins = np.linspace(2, 4, 50) \n",
    "\n",
    "integrate_per_log = atmo_bg_flux.integral(\n",
    "    10**log_bins[:-1] * u.GeV, 10**log_bins[1:] * u.GeV,\n",
    "    (-np.pi/2) * u.rad, (np.pi/2) * u.rad,\n",
    "    0 * u.rad, 2*np.pi * u.rad) / np.diff(log_bins) / atmo_bg_flux.total_flux_int\n",
    "\n",
    "fluxes = atmo_bg_flux.total_flux(energies) / atmo_bg_flux.total_flux_int\n",
    "\n",
    "sns.distplot(np.log10(atmo_events[\"energy\"]), kde=False, norm_hist=True, label=\"Energy Samples\")\n",
    "plt.step(log_bins, np.append(integrate_per_log, integrate_per_log[-1]), where=\"post\", label=\"True Spectrum\")\n",
    "plt.semilogy()\n",
    "plt.legend()\n",
    "plt.xlabel(\"log10(Energy / GeV)\")\n",
    "plt.ylabel(\"Prob. per log bin\")"
   ]
  },
  {
   "cell_type": "markdown",
   "metadata": {},
   "source": [
    "## Old simulation"
   ]
  },
  {
   "cell_type": "code",
   "execution_count": 52,
   "metadata": {
    "ExecuteTime": {
     "end_time": "2020-09-02T09:48:45.809190Z",
     "start_time": "2020-09-02T09:48:45.621955Z"
    },
    "code_folding": []
   },
   "outputs": [
    {
     "name": "stderr",
     "output_type": "stream",
     "text": [
      "INFO:python.backend.code_generator:Object of type <python.backend.stan_generator.FunctionsContext object at 0x11bae5a50> already on stack\n",
      "INFO:python.backend.code_generator:Object of type <python.backend.stan_generator.DefinitionContext object at 0x11bae5c90> already on stack\n",
      "INFO:python.backend.code_generator:Object of type <python.backend.stan_generator.FunctionsContext object at 0x11bac7850> already on stack\n",
      "INFO:python.backend.code_generator:Object of type <python.backend.stan_generator.DefinitionContext object at 0x11bac78d0> already on stack\n",
      "INFO:python.backend.code_generator:Object of type <python.backend.stan_generator.FunctionsContext object at 0x11baee510> already on stack\n",
      "INFO:python.backend.code_generator:Object of type <python.backend.stan_generator.FunctionsContext object at 0x11baee990> already on stack\n",
      "INFO:python.backend.code_generator:Object of type <python.backend.stan_generator.DefinitionContext object at 0x11baeebd0> already on stack\n",
      "INFO:python.backend.code_generator:Object of type <python.backend.stan_generator.DefinitionContext object at 0x11bb44e10> already on stack\n",
      "INFO:python.backend.code_generator:Object of type <python.backend.stan_generator.DefinitionContext object at 0x11bb44d90> already on stack\n",
      "INFO:python.backend.code_generator:Object of type <python.backend.stan_generator.DefinitionContext object at 0x11bb44fd0> already on stack\n",
      "INFO:python.backend.code_generator:Object of type <python.backend.stan_generator.DefinitionContext object at 0x11bb5f110> already on stack\n",
      "INFO:python.backend.code_generator:Object of type <python.backend.stan_generator.DefinitionContext object at 0x11bb5f0d0> already on stack\n",
      "INFO:python.backend.code_generator:Object of type <python.backend.stan_generator.DefinitionContext object at 0x11bb5f250> already on stack\n",
      "INFO:python.backend.code_generator:Object of type <python.backend.stan_generator.DefinitionContext object at 0x11bb5f390> already on stack\n",
      "INFO:python.backend.code_generator:Object of type <python.backend.stan_generator.DefinitionContext object at 0x11bb5f4d0> already on stack\n",
      "INFO:python.backend.code_generator:Object of type <python.backend.stan_generator.DefinitionContext object at 0x11bb5f5d0> already on stack\n",
      "INFO:python.backend.code_generator:Object of type <python.backend.stan_generator.DefinitionContext object at 0x11bb5f310> already on stack\n",
      "INFO:python.backend.code_generator:Object of type <python.backend.stan_generator.DefinitionContext object at 0x11bb5f710> already on stack\n",
      "INFO:python.backend.code_generator:Object of type <python.backend.stan_generator.DefinitionContext object at 0x11bb5f850> already on stack\n",
      "INFO:python.backend.code_generator:Object of type <python.backend.stan_generator.DefinitionContext object at 0x11bb5f510> already on stack\n",
      "INFO:python.backend.code_generator:Object of type <python.backend.stan_generator.DefinitionContext object at 0x11bb5f990> already on stack\n",
      "INFO:python.backend.code_generator:Object of type <python.backend.stan_generator.DefinitionContext object at 0x11bb5fa10> already on stack\n",
      "INFO:python.backend.code_generator:Object of type <python.backend.stan_generator.DefinitionContext object at 0x11bb5fa90> already on stack\n",
      "INFO:python.backend.code_generator:Object of type <python.backend.stan_generator.DefinitionContext object at 0x11bb5fb50> already on stack\n",
      "INFO:python.backend.code_generator:Object of type <python.backend.stan_generator.DefinitionContext object at 0x11bb5ffd0> already on stack\n",
      "INFO:python.backend.code_generator:Object of type <python.backend.stan_generator.DefinitionContext object at 0x11bb5fad0> already on stack\n",
      "INFO:python.backend.code_generator:Object of type <python.backend.stan_generator.DefinitionContext object at 0x11bb5fe10> already on stack\n",
      "INFO:python.backend.code_generator:Object of type <python.backend.stan_generator.FunctionsContext object at 0x11bb55bd0> already on stack\n",
      "INFO:python.backend.code_generator:Object of type <python.backend.stan_generator.FunctionsContext object at 0x11bb55c50> already on stack\n",
      "INFO:python.backend.code_generator:Object of type <python.backend.stan_generator.FunctionsContext object at 0x11bb3f850> already on stack\n",
      "INFO:python.backend.code_generator:Object of type <python.backend.stan_generator.DefinitionContext object at 0x11bb3fa90> already on stack\n",
      "INFO:python.backend.code_generator:Object of type <python.backend.stan_generator.DefinitionContext object at 0x11bb3f990> already on stack\n",
      "INFO:python.backend.code_generator:Object of type <python.backend.stan_generator.DefinitionContext object at 0x11bb3f290> already on stack\n",
      "INFO:python.backend.code_generator:Object of type <python.backend.stan_generator.DefinitionContext object at 0x11bb3fe90> already on stack\n",
      "INFO:python.backend.code_generator:Object of type <python.backend.stan_generator.FunctionsContext object at 0x11bb5b310> already on stack\n",
      "INFO:python.backend.code_generator:Object of type <python.backend.stan_generator.FunctionsContext object at 0x11bb5b650> already on stack\n",
      "INFO:python.backend.code_generator:Object of type <python.backend.stan_generator.FunctionsContext object at 0x11bb6b1d0> already on stack\n",
      "INFO:python.backend.code_generator:Object of type <python.backend.stan_generator.DefinitionContext object at 0x11bb3f490> already on stack\n",
      "INFO:python.backend.code_generator:Object of type <python.backend.stan_generator.DefinitionContext object at 0x11bb3f350> already on stack\n",
      "INFO:python.backend.code_generator:Object of type <python.backend.stan_generator.DefinitionContext object at 0x11b83b990> already on stack\n",
      "INFO:python.backend.code_generator:Object of type <python.backend.stan_generator.DefinitionContext object at 0x11bb5bb10> already on stack\n",
      "INFO:python.backend.code_generator:Object of type <python.backend.stan_generator.FunctionsContext object at 0x11bb55fd0> already on stack\n",
      "INFO:python.backend.code_generator:Object of type <python.backend.stan_generator.FunctionsContext object at 0x11bb5b450> already on stack\n",
      "INFO:python.backend.code_generator:Object of type <python.backend.stan_generator.DefinitionContext object at 0x11bb6b710> already on stack\n",
      "INFO:python.backend.code_generator:Object of type <python.backend.stan_generator.DefinitionContext object at 0x11bb6bb50> already on stack\n",
      "INFO:python.backend.code_generator:Object of type <python.backend.stan_generator.DefinitionContext object at 0x11bb5bc10> already on stack\n",
      "INFO:python.backend.code_generator:Object of type <python.backend.stan_generator.DefinitionContext object at 0x11bb6be50> already on stack\n",
      "INFO:python.backend.code_generator:Object of type <python.backend.stan_generator.DefinitionContext object at 0x11bb6be10> already on stack\n",
      "INFO:python.backend.code_generator:Object of type <python.backend.stan_generator.DefinitionContext object at 0x11bb6b7d0> already on stack\n",
      "INFO:python.backend.code_generator:Object of type <python.backend.stan_generator.DefinitionContext object at 0x11bb6b2d0> already on stack\n",
      "INFO:python.backend.code_generator:Object of type <python.backend.stan_generator.DefinitionContext object at 0x11bb6b5d0> already on stack\n",
      "INFO:python.backend.code_generator:Object of type <python.backend.stan_generator.DefinitionContext object at 0x11bb6b650> already on stack\n",
      "INFO:python.backend.code_generator:Object of type <python.backend.stan_generator.DefinitionContext object at 0x11bb6bed0> already on stack\n",
      "INFO:python.backend.code_generator:Object of type <python.backend.stan_generator.DefinitionContext object at 0x11bb6bbd0> already on stack\n",
      "INFO:python.backend.code_generator:Object of type <python.backend.stan_generator.DefinitionContext object at 0x11bb6b210> already on stack\n",
      "INFO:python.backend.code_generator:Object of type <python.backend.stan_generator.DefinitionContext object at 0x11bb700d0> already on stack\n",
      "INFO:python.backend.code_generator:Object of type <python.backend.stan_generator.DefinitionContext object at 0x11bb70310> already on stack\n",
      "INFO:python.backend.code_generator:Object of type <python.backend.stan_generator.DefinitionContext object at 0x11bb70250> already on stack\n"
     ]
    }
   ],
   "source": [
    "with StanFileGenerator(\"stan_files/sim_code\") as cg:\n",
    "    \n",
    "    with FunctionsContext() as fc:\n",
    "        _ = Include(\"utils.stan\")\n",
    "        _ = Include(\"vMF.stan\")\n",
    "        _ = Include(\"interpolation.stan\")\n",
    "        _ = Include(\"sim_functions.stan\")\n",
    "\n",
    "        spectrum_rng = source_list[0].flux_model.spectral_shape.make_stan_sampling_func(\"spectrum_rng\")\n",
    "        diffuse_flux_rng = diffuse_flux_model.make_stan_sampling_func(\"diffuse_bg_rng\")\n",
    "        \n",
    "        flux_fac = source_list[0].flux_model.spectral_shape.make_stan_flux_conv_func(\"flux_conv\")\n",
    "            \n",
    "    with DataContext() as dc:\n",
    "        \n",
    "        # Sources\n",
    "        Ns = ForwardVariableDef(\"Ns\", \"int\")\n",
    "        Ns_str = [\"[\", Ns, \"]\"]\n",
    "        Ns_1p_str = [\"[\", Ns, \"+1]\"]\n",
    "        \n",
    "        varpi = ForwardArrayDef(\"varpi\", \"unit_vector[3]\", Ns_str)\n",
    "        D = ForwardVariableDef(\"D\", \"vector[Ns]\")\n",
    "        z = ForwardVariableDef(\"z\", \"vector[Ns+1]\")\n",
    "        \n",
    "        # Energies\n",
    "        alpha = ForwardVariableDef(\"alpha\", \"real\")\n",
    "        Edet_min = ForwardVariableDef(\"Edet_min\", \"real\")\n",
    "        Esrc_min = ForwardVariableDef(\"Esrc_min\", \"real\")\n",
    "        Esrc_max = ForwardVariableDef(\"Esrc_max\", \"real\")\n",
    "        \n",
    "        # Luminosity/ diffuse flux\n",
    "        L = ForwardVariableDef(\"L\", \"real\")\n",
    "        F_diff = ForwardVariableDef(\"F_diff\", \"real\")\n",
    "        #F_atmo = ForwardVariableDef(\"F_atmo\", \"real\")\n",
    "        \n",
    "        # Precomputed quantities\n",
    "        Ngrid = ForwardVariableDef(\"Ngrid\", \"int\")\n",
    "        alpha_grid = ForwardVariableDef(\"alpha_grid\", \"vector[Ngrid]\")\n",
    "        integral_grid = ForwardArrayDef(\"integral_grid\", \n",
    "                                        \"vector[Ngrid]\", Ns_1p_str)\n",
    "        #atmo_integ_val = ForwardVariableDef(\"atmo_integ_val\", \"real\")\n",
    "        aeff_max = ForwardVariableDef(\"aeff_max\", \"real\")\n",
    "        \n",
    "    with TransformedDataContext() as tdc:\n",
    "        F = ForwardVariableDef(\"F\", \"vector[Ns+1]\")\n",
    "        FT = ForwardVariableDef(\"FT\", \"real\")\n",
    "        Fs = ForwardVariableDef(\"Fs\", \"real\")\n",
    "        f = ForwardVariableDef(\"f\", \"real\")\n",
    "        w_exposure = ForwardVariableDef(\"w_exposure\", \"simplex[Ns+1]\")\n",
    "        Nex = ForwardVariableDef(\"Nex\", \"real\")\n",
    "        N = ForwardVariableDef(\"N\", \"int\")\n",
    "        eps = ForwardVariableDef(\"eps\", \"vector[Ns+1]\")\n",
    "        \n",
    "        with ForLoopContext(1, Ns, \"k\") as k:\n",
    "            F[k] << StringExpression([L, \"/ (4 * pi() * pow(\", \n",
    "                                         D[k], \" * \", 3.086e22, \", 2))\"])\n",
    "            StringExpression([F[k], \"*=\",  flux_fac(alpha, Esrc_min, Esrc_max)])\n",
    "            #StringExpression([\"print(\", flux_fac(alpha, Esrc_min, Esrc_max), \")\"])\n",
    "            StringExpression([Fs,\" += \", F[k]])\n",
    "        \n",
    "        StringExpression(\"F[Ns+1]\") << F_diff\n",
    "        #StringExpression(\"F[Ns+2]\") << F_atmo\n",
    "        \n",
    "        FT << Fs + F_diff #+ F_atmo\n",
    "        f << StringExpression([Fs, \"/\", FT])\n",
    "        \n",
    "        eps << StringExpression([\"get_exposure_factor(\", alpha, \n",
    "                                 \", \", alpha_grid, \", \", integral_grid, \", \", \n",
    "                                 #atmo_integ_val, \", \",\n",
    "                                 Ns, \")\"])\n",
    "        Nex << StringExpression([\"get_Nex(\", F, \", \", eps, \")\"])\n",
    "        w_exposure << StringExpression([\"get_exposure_weights(\", F, \", \", \n",
    "                                              eps, \")\"])\n",
    "        N << StringExpression([\"poisson_rng(\", Nex, \")\"])\n",
    "        StringExpression([\"print(\", w_exposure, \")\"])\n",
    "        StringExpression([\"print(\", Ngrid, \")\"])\n",
    "        StringExpression([\"print(\", Nex, \")\"])\n",
    "        StringExpression([\"print(\", N, \")\"])\n",
    "        \n",
    "    with GeneratedQuantitiesContext() as gqc:\n",
    "        ntd_rng = NorthernTracksDetectorModel(mode=DistributionMode.RNG)\n",
    "        ntd_pdf = NorthernTracksDetectorModel(mode=DistributionMode.PDF) \n",
    "        \n",
    "        N_str = [\"[\", N, \"]\"]\n",
    "        lam = ForwardArrayDef(\"Lambda\", \"int\", N_str)\n",
    "        omega = ForwardVariableDef(\"omega\", \"unit_vector[3]\")\n",
    "        \n",
    "        Esrc = ForwardVariableDef(\"Esrc\", \"vector[N]\")\n",
    "        E = ForwardVariableDef(\"E\", \"vector[N]\")\n",
    "        Edet = ForwardVariableDef(\"Edet\", \"vector[N]\")\n",
    "        \n",
    "        cosz = ForwardArrayDef(\"cosz\", \"real\", N_str)\n",
    "        Pdet = ForwardArrayDef(\"Pdet\", \"real\", N_str)\n",
    "        accept = ForwardVariableDef(\"accept\", \"int\")\n",
    "        detected = ForwardVariableDef(\"detected\", \"int\")\n",
    "        above_threshold = ForwardVariableDef(\"above_threshold\", \"int\")\n",
    "        ntrials = ForwardVariableDef(\"ntrials\", \"int\")\n",
    "        prob = ForwardVariableDef(\"prob\", \"simplex[2]\")\n",
    "        \n",
    "        event = ForwardArrayDef(\"event\", \"unit_vector[3]\", N_str)\n",
    "        Nex_sim = ForwardVariableDef(\"Nex_sim\", \"real\")\n",
    "        \n",
    "        Nex_sim << Nex\n",
    "\n",
    "        with ForLoopContext(1, N, \"i\") as i:\n",
    "            \n",
    "            lam[i] << StringExpression([\"categorical_rng(\", w_exposure,\")\"])\n",
    "            \n",
    "            accept << 0\n",
    "            above_threshold << 0\n",
    "            detected << 0\n",
    "            ntrials << 0\n",
    "            \n",
    "            with WhileLoopContext([StringExpression([accept != 1])]):\n",
    "\n",
    "                # Sample position\n",
    "                with IfBlockContext([StringExpression([lam[i], \" <= \", Ns])]):\n",
    "                    omega << varpi[lam[i]]\n",
    "                with ElseIfBlockContext([StringExpression([lam[i], \" > \", Ns])]):\n",
    "                    omega << FunctionCall([1], \"sphere_rng\")\n",
    "                cosz[i] << FunctionCall([FunctionCall([omega], \"omega_to_zenith\")], \n",
    "                                        \"cos\")                \n",
    "                # Sample energy\n",
    "                with IfBlockContext([StringExpression([lam[i], \" <= \" , Ns+1])]):\n",
    "                    Esrc[i] << spectrum_rng(alpha, Edet_min*(1 + z[lam[i]]), Esrc_max)\n",
    "                    E[i] << Esrc[i] / (1 + z[lam[i]])\n",
    "                #with ElseIfBlockContext([StringExpression([lam[i], \" > \", Ns + 1])]):\n",
    "                #    # FixMe: randomly sample from an input vector\n",
    "                #    Esrc[i] << 1.1E8\n",
    "                #    E[i] << Esrc[i]\n",
    "\n",
    "                # Test against Aeff\n",
    "                with IfBlockContext([StringExpression([cosz[i], \">= 0.1\"])]):\n",
    "                    Pdet[i] << 0\n",
    "                with ElseBlockContext():\n",
    "                    Pdet[i] << ntd_pdf.effective_area(E[i], omega) / aeff_max\n",
    "                \n",
    "                Edet[i] << 10**ntd_rng.energy_resolution(E[i])\n",
    "\n",
    "                prob[1] << Pdet[i]\n",
    "                prob[2] << 1 - Pdet[i]\n",
    "                StringExpression([ntrials, \" += \", 1])\n",
    "                with IfBlockContext([StringExpression([ntrials, \"< 100000\"])]):\n",
    "                    detected << FunctionCall([prob], \"categorical_rng\")\n",
    "                    with IfBlockContext([StringExpression([\"(\", Edet[i], \" >= \",\n",
    "                                                           Edet_min, \") && (\", \n",
    "                                                           detected == 1, \")\"])]):\n",
    "                        accept << 1\n",
    "                \n",
    "                with ElseBlockContext():\n",
    "                    accept << 1\n",
    "                    StringExpression([\"print(\\\"problem component: \\\", \",\n",
    "                                      lam[i], \");\\n\"])\n",
    "                    \n",
    "                #accept << StringExpression([\"categorical_rng(\", prob, \")\"])\n",
    "            \n",
    "            # Detection effects\n",
    "            event[i] << ntd_rng.angular_resolution(E[i], omega)\n",
    "            \n",
    "    sim = cg.generate_single_file()"
   ]
  },
  {
   "cell_type": "code",
   "execution_count": 53,
   "metadata": {
    "ExecuteTime": {
     "end_time": "2020-09-02T09:48:46.211121Z",
     "start_time": "2020-09-02T09:48:46.164813Z"
    }
   },
   "outputs": [
    {
     "name": "stdout",
     "output_type": "stream",
     "text": [
      "Using cached StanModel\n"
     ]
    }
   ],
   "source": [
    "# Compile\n",
    "this_dir = os.path.abspath('')\n",
    "include_paths = [os.path.join(this_dir, \n",
    "                              \"../dev/statistical_model/4_tracks_and_cascades/stan/\")]\n",
    "\n",
    "sm = stan_utility.compile_model(filename=cg.filename, include_paths=include_paths, \n",
    "                                model_name=\"sim\")"
   ]
  },
  {
   "cell_type": "markdown",
   "metadata": {},
   "source": [
    "## Simulation"
   ]
  },
  {
   "cell_type": "code",
   "execution_count": 54,
   "metadata": {
    "ExecuteTime": {
     "end_time": "2020-09-02T09:48:46.972838Z",
     "start_time": "2020-09-02T09:48:46.945863Z"
    }
   },
   "outputs": [],
   "source": [
    "from python.source.cosmology import luminosity_distance"
   ]
  },
  {
   "cell_type": "code",
   "execution_count": 55,
   "metadata": {
    "ExecuteTime": {
     "end_time": "2020-09-02T09:48:47.385857Z",
     "start_time": "2020-09-02T09:48:47.357295Z"
    }
   },
   "outputs": [],
   "source": [
    "def to_unit_vector(dec, ra):\n",
    "    theta = dec + np.pi/2\n",
    "    x = np.sin(theta) * np.cos(ra)\n",
    "    y = np.sin(theta) * np.sin(ra)\n",
    "    z = np.cos(theta)\n",
    "    return [x, y, z]"
   ]
  },
  {
   "cell_type": "code",
   "execution_count": 56,
   "metadata": {
    "ExecuteTime": {
     "end_time": "2020-09-02T09:48:47.797594Z",
     "start_time": "2020-09-02T09:48:47.763639Z"
    }
   },
   "outputs": [],
   "source": [
    "redshift = [source_list.sources[i].redshift for i in range(source_list.N)]\n",
    "lum_dist = [luminosity_distance(_).value for _ in redshift]\n",
    "varpi_in = np.asarray([to_unit_vector(source_list.sources[i].dec.value,\n",
    "                                   source_list.sources[i].ra.value) for i in \n",
    "                       range(source_list.N-1)])"
   ]
  },
  {
   "cell_type": "code",
   "execution_count": 59,
   "metadata": {
    "ExecuteTime": {
     "end_time": "2020-09-02T09:48:56.990928Z",
     "start_time": "2020-09-02T09:48:56.958037Z"
    }
   },
   "outputs": [],
   "source": [
    "# Inputs \n",
    "sim_inputs = {}\n",
    "sim_inputs['Ns'] = source_list.N-1\n",
    "\n",
    "sim_inputs['z'] = redshift\n",
    "sim_inputs['D'] = lum_dist[:-1]\n",
    "sim_inputs['varpi'] = varpi_in\n",
    "\n",
    "sim_inputs['Ngrid'] = len(exposure_integral.par_grids[\"index\"])\n",
    "sim_inputs['alpha_grid'] = exposure_integral.par_grids[\"index\"]\n",
    "sim_inputs['integral_grid'] = [_.value for _ in exposure_integral.integral_grid]\n",
    "#sim_inputs[\"atmo_integ_val\"] = exposure_integral.integral_fixed_vals[0].value\n",
    "#sim_inputs['aeff_max'] = np.max(exposure_integral.effective_area._eff_area)\n",
    "\n",
    "sim_inputs['alpha'] = index.value\n",
    "sim_inputs['Edet_min'] = 1e5 # GeV\n",
    "sim_inputs[\"Esrc_min\"] = 1e2 # GeV\n",
    "sim_inputs[\"Esrc_max\"] = 1e8 # GeV\n",
    "\n",
    "# Set maximum based on Esrc_max to speed up rejection sampling\n",
    "# Could improve this with HMC sampling!\n",
    "lbe = exposure_integral.effective_area._tE_bin_edges[:-1]\n",
    "Esrc_max = sim_inputs[\"Esrc_max\"]\n",
    "aeff_max = np.max(exposure_integral.effective_area._eff_area[lbe < Esrc_max][:])\n",
    "sim_inputs['aeff_max'] = aeff_max"
   ]
  },
  {
   "cell_type": "code",
   "execution_count": 61,
   "metadata": {
    "ExecuteTime": {
     "end_time": "2020-09-02T09:49:03.452675Z",
     "start_time": "2020-09-02T09:49:03.422301Z"
    }
   },
   "outputs": [],
   "source": [
    "sim_inputs[\"F_diff\"] = diffuse_bg.flux_model.total_flux_int.value # m^-2 yr^-1\n",
    "#sim_inputs[\"F_atmo\"] = atmo_bg.flux_model.total_flux_int.value \n",
    "sim_inputs['L'] = source_list.sources[0].luminosity.to(u.GeV/u.s).value"
   ]
  },
  {
   "cell_type": "code",
   "execution_count": 62,
   "metadata": {
    "ExecuteTime": {
     "end_time": "2020-09-02T09:50:34.914065Z",
     "start_time": "2020-09-02T09:49:09.309945Z"
    }
   },
   "outputs": [],
   "source": [
    "# Simulate\n",
    "simulation = sm.sampling(data=sim_inputs, iter=1, chains=1, \n",
    "                         algorithm=\"Fixed_param\")"
   ]
  },
  {
   "cell_type": "code",
   "execution_count": 63,
   "metadata": {
    "ExecuteTime": {
     "end_time": "2020-09-02T09:51:07.611913Z",
     "start_time": "2020-09-02T09:51:06.702774Z"
    }
   },
   "outputs": [],
   "source": [
    "from astropy.coordinates import SkyCoord\n",
    "from astropy import units as u\n",
    "\n",
    "class Direction():\n",
    "    \"\"\"\n",
    "    Input the unit vector vMF samples and\n",
    "    store x, y, and z and galactic coordinates\n",
    "    of direction in Mpc.\n",
    "    \"\"\"\n",
    "\n",
    "    def __init__(self, unit_vector_3d):\n",
    "        \"\"\"\n",
    "        Input the unit vector samples and\n",
    "        store x, y, and z and galactic coordinates\n",
    "        of direction in Mpc.\n",
    "\n",
    "        :param unit_vector_3d: a 3-dimensional unit vector.\n",
    "        \"\"\"\n",
    "\n",
    "        self.unit_vector = unit_vector_3d\n",
    "        transposed_uv = np.transpose(self.unit_vector)\n",
    "        self.x = transposed_uv[0]\n",
    "        self.y = transposed_uv[1]\n",
    "        self.z = transposed_uv[2]\n",
    "        self.d = SkyCoord(self.x, self.y, self.z,\n",
    "                          unit = 'mpc',\n",
    "                          representation_type = 'cartesian',\n",
    "                          frame = 'icrs')\n",
    "        self.d.representation_type = 'spherical'\n",
    "        self.lons = self.d.galactic.l.wrap_at(360 * u.deg).deg\n",
    "        self.lats = self.d.galactic.b.wrap_at(180 * u.deg).deg"
   ]
  },
  {
   "cell_type": "code",
   "execution_count": 64,
   "metadata": {
    "ExecuteTime": {
     "end_time": "2020-09-02T09:51:07.686335Z",
     "start_time": "2020-09-02T09:51:07.614233Z"
    }
   },
   "outputs": [],
   "source": [
    "# Energies\n",
    "Esrc = simulation.extract(['Esrc'])['Esrc'][0]\n",
    "E = simulation.extract(['E'])['E'][0]\n",
    "Edet_sim = simulation.extract(['Edet'])['Edet'][0]\n",
    "\n",
    "# Arrival directions\n",
    "event = simulation.extract(['event'])['event'][0]\n",
    "event = Direction(event)\n",
    "e_ra = event.d.icrs.ra.rad\n",
    "e_dec = event.d.icrs.dec.rad\n",
    "\n",
    "\n",
    "true_dir = simulation.extract(['omega'])['omega'][0]\n",
    "true_dir = Direction(true_dir)\n",
    "e_t_ra = true_dir.d.icrs.ra.rad\n",
    "e_t_dec = true_dir.d.icrs.dec.rad\n",
    "\n",
    "source = Direction(varpi_in)\n",
    "s_ra = source.d.icrs.ra.rad\n",
    "s_dec = source.d.icrs.dec.rad\n",
    "\n",
    "# event type\n",
    "#event_type = simulation.extract(['event_type'])['event_type'][0]\n",
    "#zenith = simulation.extract(['zenith'])['zenith'][0]"
   ]
  },
  {
   "cell_type": "code",
   "execution_count": 65,
   "metadata": {
    "ExecuteTime": {
     "end_time": "2020-09-02T09:51:08.113605Z",
     "start_time": "2020-09-02T09:51:08.071386Z"
    }
   },
   "outputs": [
    {
     "name": "stdout",
     "output_type": "stream",
     "text": [
      "Nsrc:  0\n",
      "Nbg:  7\n",
      "w_bg:  1.0\n"
     ]
    }
   ],
   "source": [
    "lam = simulation.extract(['Lambda'])['Lambda'][0] - 1\n",
    "Nc = sim_inputs['Ns']\n",
    "label_cmap = plt.cm.get_cmap('plasma', Nc+1)\n",
    "\n",
    "lam = list(lam)\n",
    "Nsrc = sum([lam.count(_) for _ in range(int(Nc))])\n",
    "Nbg = lam.count(Nc)\n",
    "print('Nsrc: ', Nsrc)\n",
    "print('Nbg: ', Nbg)\n",
    "print('w_bg: ', Nbg / (Nbg+Nsrc))"
   ]
  },
  {
   "cell_type": "code",
   "execution_count": 66,
   "metadata": {
    "ExecuteTime": {
     "end_time": "2020-09-02T09:51:08.949134Z",
     "start_time": "2020-09-02T09:51:08.918344Z"
    }
   },
   "outputs": [],
   "source": [
    "import matplotlib.patches as mpatches\n",
    "from matplotlib.collections import PatchCollection\n",
    "from matplotlib.colors import LinearSegmentedColormap"
   ]
  },
  {
   "cell_type": "code",
   "execution_count": 67,
   "metadata": {
    "ExecuteTime": {
     "end_time": "2020-09-02T09:51:09.988147Z",
     "start_time": "2020-09-02T09:51:09.495793Z"
    }
   },
   "outputs": [
    {
     "data": {
      "text/plain": [
       "<matplotlib.lines.Line2D at 0x11cbec690>"
      ]
     },
     "execution_count": 67,
     "metadata": {},
     "output_type": "execute_result"
    },
    {
     "data": {
      "image/png": "[encoded data removed]",
      "text/plain": [
       "<Figure size 720x576 with 1 Axes>"
      ]
     },
     "metadata": {
      "needs_background": "light"
     },
     "output_type": "display_data"
    }
   ],
   "source": [
    "fig = plt.figure()\n",
    "fig.set_size_inches((10, 8))\n",
    "ax = fig.add_subplot(111, projection='hammer')\n",
    "\n",
    "circles = []\n",
    "for r, d, l in zip(e_ra, e_dec, lam):\n",
    "    color = label_cmap.colors[int(l)]\n",
    "    circles.append(mpatches.Circle((r-np.pi,d), 0.05, color=color, alpha=0.7))\n",
    "collection = PatchCollection(circles, match_original=True)    \n",
    "ax.add_collection(collection)   \n",
    "\n",
    "circles = []\n",
    "norm = max([1 - _/zth for _ in redshift])\n",
    "for r, d, z in zip(s_ra, s_dec, redshift):\n",
    "    circles.append(mpatches.Circle((r-np.pi,d), 0.05, color='k', alpha=(1-z/zth)/norm))\n",
    "collection = PatchCollection(circles, match_original=True)\n",
    "ax.add_collection(collection)\n",
    "ax.axhline(np.deg2rad(-5), color='k', linestyle=\":\")"
   ]
  },
  {
   "cell_type": "code",
   "execution_count": 68,
   "metadata": {
    "ExecuteTime": {
     "end_time": "2020-09-02T09:51:11.398360Z",
     "start_time": "2020-09-02T09:51:11.366816Z"
    }
   },
   "outputs": [
    {
     "data": {
      "text/plain": [
       "array([168950.57510881, 144769.66585665, 145897.30187189, 108773.29818307,\n",
       "       122186.7639099 , 194231.50845792, 117494.92509165])"
      ]
     },
     "execution_count": 68,
     "metadata": {},
     "output_type": "execute_result"
    }
   ],
   "source": [
    "Edet_sim"
   ]
  },
  {
   "cell_type": "code",
   "execution_count": null,
   "metadata": {
    "ExecuteTime": {
     "start_time": "2020-09-02T09:51:12.874Z"
    }
   },
   "outputs": [],
   "source": [
    "# Plot energies\n",
    "Edet_min = sim_inputs['Edet_min']\n",
    "bins = np.logspace(np.log(Edet_min/1000), np.log(1E+4*Edet_min), base = np.e)\n",
    "\n",
    "fig, ax = plt.subplots()\n",
    "ax.hist(Esrc, bins=bins, label='$\\\\tilde{E}$', alpha=0.7);\n",
    "ax.hist(Edet_sim, bins=bins, label='$\\hat{E}$', alpha=0.7);\n",
    "ax.axvline(sim_inputs[\"Edet_min\"], color='k')\n",
    "ax.set_xscale('log')\n",
    "ax.set_yscale('log')\n",
    "ax.set_xlabel('$E$ / GeV')\n",
    "ax.legend();"
   ]
  },
  {
   "cell_type": "markdown",
   "metadata": {},
   "source": [
    "## Generate Stan code for fit"
   ]
  },
  {
   "cell_type": "code",
   "execution_count": null,
   "metadata": {
    "ExecuteTime": {
     "end_time": "2020-08-14T15:51:32.460179Z",
     "start_time": "2020-08-14T15:51:32.456742Z"
    }
   },
   "outputs": [],
   "source": [
    "from python.backend.stan_generator import ParametersContext, TransformedParametersContext, ModelContext\n",
    "from python.backend.variable_definitions import ParameterDef, ParameterVectorDef"
   ]
  },
  {
   "cell_type": "code",
   "execution_count": null,
   "metadata": {
    "ExecuteTime": {
     "end_time": "2020-08-14T15:51:34.257595Z",
     "start_time": "2020-08-14T15:51:34.137836Z"
    }
   },
   "outputs": [],
   "source": [
    "with StanFileGenerator(\"stan_files/model_code\") as cg:\n",
    "\n",
    "    with FunctionsContext() as fc:\n",
    "        _ = Include(\"utils.stan\")\n",
    "        _ = Include(\"vMF.stan\")\n",
    "        _ = Include(\"interpolation.stan\")\n",
    "        _ = Include(\"energy_spectrum.stan\")\n",
    "        _ = Include(\"sim_functions.stan\")\n",
    "        ntd = NorthernTracksDetectorModel()\n",
    "        \n",
    "    with DataContext() as dc:\n",
    "        \n",
    "        # Neutrinos\n",
    "        N = ForwardVariableDef(\"N\", \"int\")\n",
    "        N_str = [\"[\", N, \"]\"]\n",
    "        omega_det = ForwardArrayDef(\"omega_det\", \"unit_vector[3]\", N_str)\n",
    "        Edet = ForwardVariableDef(\"Edet\", \"vector[N]\")\n",
    "        Emin = ForwardVariableDef(\"Emin\", \"real\")\n",
    "        \n",
    "         # Sources\n",
    "        Ns = ForwardVariableDef(\"Ns\", \"int\")\n",
    "        Ns_str = [\"[\", Ns, \"]\"]\n",
    "        Ns_1p_str = [\"[\", Ns, \"+1]\"]\n",
    "        \n",
    "        varpi = ForwardArrayDef(\"varpi\", \"unit_vector[3]\", Ns_str)\n",
    "        D = ForwardVariableDef(\"D\", \"vector[Ns]\")\n",
    "        z = ForwardVariableDef(\"z\", \"vector[Ns+1]\")\n",
    "\n",
    "        # Precomputed quantities\n",
    "        Ngrid = ForwardVariableDef(\"Ngrid\", \"int\")\n",
    "        alpha_grid = ForwardVariableDef(\"alpha_grid\", \"vector[Ngrid]\")\n",
    "        integral_grid = ForwardArrayDef(\"integral_grid\", \n",
    "                                        \"vector[Ngrid]\", Ns_1p_str)\n",
    "        Eg = ForwardVariableDef(\"E_grid\", \"vector[Ngrid]\")\n",
    "        Pg = ForwardArrayDef(\"Pdet_grid\", \"vector[Ngrid]\", Ns_1p_str)\n",
    "        \n",
    "        # Inputs\n",
    "        T = ForwardVariableDef(\"T\", \"real\")\n",
    "        \n",
    "        # Debugging\n",
    "        Q_scale = ForwardVariableDef(\"Q_scale\", \"real\")\n",
    "        F0_scale = ForwardVariableDef(\"F0_scale\", \"real\")\n",
    "        \n",
    "        \n",
    "    with TransformedDataContext() as tdc:\n",
    "        \n",
    "        zenith = ForwardVariableDef(\"zenith\", \"vector[N]\")\n",
    "        \n",
    "        with ForLoopContext(1, N, \"i\") as i:\n",
    "            zenith[i] << StringExpression([\"pi() - acos(\", omega_det[i][3], \")\"])\n",
    "        \n",
    "        StringExpression([\"print(\", Ngrid, \")\"])\n",
    "            \n",
    "    with ParametersContext() as pc:\n",
    "        \n",
    "        Q = ParameterDef(\"Q\", \"real\", 0.0, 1e60)\n",
    "        F0 = ParameterDef(\"F0\", \"real\", 0.0, 500)\n",
    "        \n",
    "        alpha = ParameterDef(\"alpha\", \"real\", 1.5, 3.5)\n",
    "        \n",
    "        Esrc = ParameterVectorDef(\"Esrc\", \"vector\", N_str, Emin, 1e8)\n",
    "        \n",
    "    with TransformedParametersContext() as tpc:\n",
    "        \n",
    "        Fs = ParameterDef(\"Fs\", \"real\", 0.0)\n",
    "        \n",
    "        F = ForwardVariableDef(\"F\", \"vector[Ns]\")\n",
    "        allF = ForwardVariableDef(\"allF\", \"vector[Ns+1]\")\n",
    "        eps = ForwardVariableDef(\"eps\", \"vector[Ns+1]\")\n",
    "        \n",
    "        f = ParameterDef(\"f\", \"real\", 0, 1)\n",
    "        FT = ParameterDef(\"FT\", \"real\", 0)\n",
    "        \n",
    "        lp = ForwardArrayDef(\"lp\", \"vector[Ns+1]\", N_str)\n",
    "        logF = ForwardVariableDef(\"logF\", \"vector[Ns+1]\")\n",
    "        Nex = ForwardVariableDef(\"Nex\", \"real\")\n",
    "        E = ForwardVariableDef(\"E\", \"vector[N]\")       \n",
    "        \n",
    "        Fs << 0\n",
    "        with ForLoopContext(1, Ns, \"k\") as k:\n",
    "            F[k] << StringExpression([Q, \"/ (4 * pi() * pow(\", \n",
    "                                      D[k], \" * \", 3.086e22, \", 2))\"])\n",
    "            allF[k] << F[k]\n",
    "            StringExpression([Fs,\" += \", F[k]])\n",
    "        StringExpression(\"allF[Ns+1]\") << F0\n",
    "        FT << F0 + Fs\n",
    "        f << StringExpression([Fs, \" / \", FT]) \n",
    "        \n",
    "        logF << StringExpression([\"log(\", allF, \")\"])\n",
    "        \n",
    "        with ForLoopContext(1, N, \"i\") as i:\n",
    "            lp[i] << logF \n",
    "            with ForLoopContext(1, \"Ns+1\", \"k\") as k:\n",
    "                StringExpression([lp[i][k], \" += pareto_lpdf(\", Esrc[i], \n",
    "                                  \" | \", Emin, \" , \", alpha-1, \")\"])\n",
    "                E[i] << StringExpression([Esrc[i], \" / (\",  1+z[k], \")\"]) \n",
    "                \n",
    "                StringExpression([\"if (\", k ,\" < Ns+1) {\\n\", \n",
    "                                  lp[i][k], \" += \", \n",
    "                                  ntd.angular_resolution(E[i], \n",
    "                                                         varpi[k], omega_det[i]),\n",
    "                                  \";\\n}\\n\", \"else if (\", k, \" == Ns+1) {\\n\", \n",
    "                                  lp[i][k], \" += \", np.log(1/(4*np.pi)), \n",
    "                                  \";\\n}\"])\n",
    "                \n",
    "                StringExpression([lp[i][k], \" += \", \n",
    "                                  ntd.energy_resolution(E[i], Edet[i])])\n",
    "                StringExpression([lp[i][k], \" += log(interpolate(\", \n",
    "                                  Eg, \", \", Pg[k], \", \", E[i], \"))\"])\n",
    "                       \n",
    "        eps << StringExpression([\"get_exposure_factor(\", T, \", \", Emin, \", \", \n",
    "                                 alpha, \", \", alpha_grid, \", \", \n",
    "                                 integral_grid, \", \", Ns, \")\"])  \n",
    "        Nex << StringExpression([\"get_Nex(\", allF, \", \", eps, \")\"])\n",
    "    \n",
    "    with ModelContext() as mc:\n",
    "        \n",
    "        with ForLoopContext(1, N, \"i\") as i:\n",
    "            StringExpression([\"target += log_sum_exp(\", lp[i], \")\"])\n",
    "        StringExpression([\"target += -\", Nex])\n",
    "        \n",
    "        StringExpression([Q, \" ~ normal(0, \", Q_scale, \")\"])\n",
    "        StringExpression([F0, \" ~ normal(0, \", F0_scale, \")\"])\n",
    "        StringExpression([alpha, \" ~ normal(2.0, 2.0)\"])\n",
    "        \n",
    "    model = cg.generate_single_file()"
   ]
  },
  {
   "cell_type": "code",
   "execution_count": null,
   "metadata": {
    "ExecuteTime": {
     "end_time": "2020-08-14T15:51:35.037741Z",
     "start_time": "2020-08-14T15:51:34.793639Z"
    }
   },
   "outputs": [],
   "source": [
    "# Compile\n",
    "this_dir = os.path.abspath('')\n",
    "include_paths = [os.path.join(this_dir, \n",
    "                              \"../dev/statistical_model/4_tracks_and_cascades/stan/\")]\n",
    "\n",
    "sm = stan_utility.compile_model(filename=cg.filename, include_paths=include_paths, \n",
    "                                model_name=\"model\")"
   ]
  },
  {
   "cell_type": "code",
   "execution_count": null,
   "metadata": {
    "ExecuteTime": {
     "end_time": "2020-08-14T15:51:35.249450Z",
     "start_time": "2020-08-14T15:51:35.241687Z"
    }
   },
   "outputs": [],
   "source": [
    "inputs = {}\n",
    "inputs[\"N\"] = len(Edet_sim)\n",
    "inputs[\"omega_det\"] = event.unit_vector\n",
    "inputs[\"Edet\"] = Edet_sim\n",
    "inputs[\"Ns\"] = source_list.N - 1\n",
    "\n",
    "inputs['z'] = redshift\n",
    "inputs['D'] = lum_dist[:-1]\n",
    "inputs['varpi'] = varpi_in\n",
    "\n",
    "inputs[\"Emin\"] = 1e5 # GeV\n",
    "\n",
    "inputs['Ngrid'] = len(exposure_integral.alpha_grid)\n",
    "inputs['alpha_grid'] = exposure_integral.alpha_grid\n",
    "inputs['integral_grid'] = exposure_integral.integral_grid\n",
    "inputs[\"E_grid\"] = E_grid\n",
    "inputs[\"Pdet_grid\"] = Pdet_grid\n",
    "inputs[\"Q_scale\"] = sim_inputs[\"Q\"]\n",
    "inputs[\"F0_scale\"] = sim_inputs[\"F0\"]\n",
    "inputs[\"T\"] = 1"
   ]
  },
  {
   "cell_type": "code",
   "execution_count": null,
   "metadata": {
    "ExecuteTime": {
     "end_time": "2020-08-14T15:57:02.916039Z",
     "start_time": "2020-08-14T15:51:35.770241Z"
    }
   },
   "outputs": [],
   "source": [
    "# fit\n",
    "fit = sm.sampling(data=inputs, iter=500, chains=4)"
   ]
  },
  {
   "cell_type": "code",
   "execution_count": null,
   "metadata": {
    "ExecuteTime": {
     "end_time": "2020-08-14T15:57:45.670687Z",
     "start_time": "2020-08-14T15:57:43.260630Z"
    }
   },
   "outputs": [],
   "source": [
    "# View chains\n",
    "fig = fit.plot([r'Q', r'F0', r'f', r'alpha', r'F', r\"Nex\"]);\n",
    "fig.set_size_inches(20, 16)\n",
    "fig.tight_layout()"
   ]
  },
  {
   "cell_type": "code",
   "execution_count": null,
   "metadata": {
    "ExecuteTime": {
     "end_time": "2020-08-14T15:57:53.261495Z",
     "start_time": "2020-08-14T15:57:51.163993Z"
    }
   },
   "outputs": [],
   "source": [
    "# View corner plot\n",
    "chain = fit.extract(permuted = True)\n",
    "key_list = ['F0', 'Q', 'FT', 'f', 'alpha']\n",
    "labels = [r'$F_0$', r'Q', r'FT', r'f', 'alpha']\n",
    "truths = [sim_inputs['F0'], sim_inputs['Q'], total_flux, 0.5, sim_inputs['alpha']]\n",
    "\n",
    "corner.corner(np.nan_to_num(np.column_stack([chain[key] for key in key_list])),\n",
    "              labels = labels, truths = truths);"
   ]
  },
  {
   "cell_type": "code",
   "execution_count": null,
   "metadata": {},
   "outputs": [],
   "source": []
  }
 ],
 "metadata": {
  "kernelspec": {
   "display_name": "bayes",
   "language": "python",
   "name": "bayes"
  },
  "language_info": {
   "codemirror_mode": {
    "name": "ipython",
    "version": 3
   },
   "file_extension": ".py",
   "mimetype": "text/x-python",
   "name": "python",
   "nbconvert_exporter": "python",
   "pygments_lexer": "ipython3",
   "version": "3.7.6"
  }
 },
 "nbformat": 4,
 "nbformat_minor": 4
}
