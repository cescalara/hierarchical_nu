{
 "cells": [
  {
   "cell_type": "markdown",
   "metadata": {},
   "source": [
    "# Testing software"
   ]
  },
  {
   "cell_type": "code",
   "execution_count": 1,
   "metadata": {
    "ExecuteTime": {
     "end_time": "2020-08-03T15:22:15.922015Z",
     "start_time": "2020-08-03T15:22:14.120978Z"
    }
   },
   "outputs": [],
   "source": [
    "import numpy as np\n",
    "from matplotlib import pyplot as plt\n",
    "import os\n",
    "import stan_utility\n",
    "%load_ext autoreload\n",
    "%autoreload 2"
   ]
  },
  {
   "cell_type": "markdown",
   "metadata": {},
   "source": [
    "## Sources\n",
    "\n",
    "Decided to go with the astromodels package as python3 branch is working well.\n",
    "\n",
    "To install: \n",
    "```\n",
    "pip install git+https://github.com/giacomov/astromodels.git@py2to3\n",
    "```"
   ]
  },
  {
   "cell_type": "code",
   "execution_count": 2,
   "metadata": {
    "ExecuteTime": {
     "end_time": "2020-08-03T15:22:16.834950Z",
     "start_time": "2020-08-03T15:22:15.924556Z"
    }
   },
   "outputs": [
    {
     "name": "stderr",
     "output_type": "stream",
     "text": [
      "/home/chrhck/miniconda3/envs/hierarchical_nu/lib/python3.7/site-packages/astromodels/functions/function.py:140: YAMLLoadWarning: calling yaml.load() without Loader=... is deprecated, as the default Loader is unsafe. Please read https://msg.pyyaml.org/load for full details.\n",
      "  function_definition = my_yaml.load(dct['__doc__'])\n",
      "/home/chrhck/miniconda3/envs/hierarchical_nu/lib/python3.7/site-packages/astromodels/core/parameter.py:555: UserWarning: We have set the min_value of xc to 1e-99 because there was a postive transform\n",
      "  warnings.warn('We have set the min_value of %s to 1e-99 because there was a postive transform' % self.path)\n"
     ]
    }
   ],
   "source": [
    "from python.source.source import *\n",
    "from astromodels.functions.functions import Powerlaw\n",
    "from astromodels import Model"
   ]
  },
  {
   "cell_type": "code",
   "execution_count": 3,
   "metadata": {
    "ExecuteTime": {
     "end_time": "2020-08-03T15:22:16.845907Z",
     "start_time": "2020-08-03T15:22:16.837815Z"
    }
   },
   "outputs": [
    {
     "data": {
      "text/plain": [
       "0.1"
      ]
     },
     "execution_count": 3,
     "metadata": {},
     "output_type": "execute_result"
    }
   ],
   "source": [
    "# Single source\n",
    "source = PointSource('point', ra=123, dec=-30, redshift=0.1, unit_vector=[1, 0, 0], spectral_shape=Powerlaw())\n",
    "source.position.get_ra()\n",
    "source.redshift"
   ]
  },
  {
   "cell_type": "code",
   "execution_count": 4,
   "metadata": {
    "ExecuteTime": {
     "end_time": "2020-08-03T15:22:17.033355Z",
     "start_time": "2020-08-03T15:22:16.848602Z"
    }
   },
   "outputs": [],
   "source": [
    "# Loading from file\n",
    "source_file = '../dev/statistical_model/data/test_SFR_pop.h5'\n",
    "source_list = TestSourceList(source_file, spectral_shape=Powerlaw())\n",
    "\n",
    "# Select sources below zth = 1\n",
    "zth = 1.0\n",
    "source_list.select_below_redshift(zth)\n",
    "\n",
    "# Add a diffuse background at z = 1\n",
    "diffuse_bg = DiffuseSource('diffuse_bg', zth, spectral_shape=Powerlaw())\n",
    "source_list.add(diffuse_bg)"
   ]
  },
  {
   "cell_type": "code",
   "execution_count": 5,
   "metadata": {
    "ExecuteTime": {
     "end_time": "2020-08-03T15:22:17.039728Z",
     "start_time": "2020-08-03T15:22:17.035693Z"
    }
   },
   "outputs": [
    {
     "data": {
      "text/plain": [
       "38"
      ]
     },
     "execution_count": 5,
     "metadata": {},
     "output_type": "execute_result"
    }
   ],
   "source": [
    "source_list.N"
   ]
  },
  {
   "cell_type": "code",
   "execution_count": 6,
   "metadata": {
    "ExecuteTime": {
     "end_time": "2020-08-03T15:22:17.048179Z",
     "start_time": "2020-08-03T15:22:17.042894Z"
    }
   },
   "outputs": [
    {
     "data": {
      "text/plain": [
       "0.6818505255578298"
      ]
     },
     "execution_count": 6,
     "metadata": {},
     "output_type": "execute_result"
    }
   ],
   "source": [
    "source_list.sources[0].redshift"
   ]
  },
  {
   "cell_type": "code",
   "execution_count": 7,
   "metadata": {
    "ExecuteTime": {
     "end_time": "2020-08-03T15:22:17.055387Z",
     "start_time": "2020-08-03T15:22:17.050396Z"
    }
   },
   "outputs": [
    {
     "data": {
      "text/html": [
       "Parameter dec = -19.438230205811657 [deg]\n",
       "(min_value = -90.0, max_value = 90.0, delta = 1.9438230205811657, free = False)"
      ],
      "text/plain": [
       "Parameter dec = -19.438230205811657 [deg]\n",
       "(min_value = -90.0, max_value = 90.0, delta = 1.9438230205811657, free = False)"
      ]
     },
     "execution_count": 7,
     "metadata": {},
     "output_type": "execute_result"
    }
   ],
   "source": [
    "source_list.sources[0].position.dec"
   ]
  },
  {
   "cell_type": "code",
   "execution_count": 8,
   "metadata": {
    "ExecuteTime": {
     "end_time": "2020-08-03T15:22:17.064389Z",
     "start_time": "2020-08-03T15:22:17.060172Z"
    }
   },
   "outputs": [],
   "source": [
    "# Could also use an astromodels model\n",
    "source_model = Model(*source_list.sources)"
   ]
  },
  {
   "cell_type": "markdown",
   "metadata": {},
   "source": [
    "## Precomputation"
   ]
  },
  {
   "cell_type": "code",
   "execution_count": 9,
   "metadata": {
    "ExecuteTime": {
     "end_time": "2020-08-03T15:22:17.082104Z",
     "start_time": "2020-08-03T15:22:17.067783Z"
    }
   },
   "outputs": [],
   "source": [
    "from python.Precomputation import ExposureIntegral\n",
    "from python.detector_model import NorthernTracksEffectiveArea"
   ]
  },
  {
   "cell_type": "code",
   "execution_count": 10,
   "metadata": {
    "ExecuteTime": {
     "end_time": "2020-08-03T15:22:29.445961Z",
     "start_time": "2020-08-03T15:22:17.084392Z"
    }
   },
   "outputs": [
    {
     "name": "stderr",
     "output_type": "stream",
     "text": [
      "INFO:python.backend.code_generator:Object of type <python.backend.stan_generator.FunctionsContext object at 0x7f4005be1e10> already on stack\n",
      "INFO:python.backend.code_generator:Object of type <python.backend.stan_generator.DefinitionContext object at 0x7f400b382550> already on stack\n",
      "INFO:python.backend.code_generator:Object of type <python.backend.stan_generator.DefinitionContext object at 0x7f4005bca4d0> already on stack\n"
     ]
    }
   ],
   "source": [
    "time = 8  # years\n",
    "Emin = 1.0e5  # GeV\n",
    "\n",
    "exposure_integral = ExposureIntegral(source_list, NorthernTracksEffectiveArea,\n",
    "                                     time, Emin)\n",
    "exposure_integral()"
   ]
  },
  {
   "cell_type": "code",
   "execution_count": 11,
   "metadata": {
    "ExecuteTime": {
     "end_time": "2020-08-03T15:22:29.712263Z",
     "start_time": "2020-08-03T15:22:29.448053Z"
    }
   },
   "outputs": [
    {
     "name": "stderr",
     "output_type": "stream",
     "text": [
      "/home/chrhck/miniconda3/envs/hierarchical_nu/lib/python3.7/site-packages/ipykernel_launcher.py:2: RuntimeWarning: divide by zero encountered in log10\n",
      "  \n"
     ]
    },
    {
     "data": {
      "text/plain": [
       "<matplotlib.colorbar.Colorbar at 0x7f4005a6c550>"
      ]
     },
     "execution_count": 11,
     "metadata": {},
     "output_type": "execute_result"
    },
    {
     "data": {
      "image/png": "[encoded data removed]",
      "text/plain": [
       "<Figure size 432x288 with 2 Axes>"
      ]
     },
     "metadata": {
      "needs_background": "light"
     },
     "output_type": "display_data"
    }
   ],
   "source": [
    "fig, ax = plt.subplots()\n",
    "plt.imshow(np.log10(exposure_integral._effective_area._eff_area), aspect='auto')\n",
    "plt.colorbar()"
   ]
  },
  {
   "cell_type": "code",
   "execution_count": 12,
   "metadata": {
    "ExecuteTime": {
     "end_time": "2020-08-03T15:22:29.719610Z",
     "start_time": "2020-08-03T15:22:29.714754Z"
    }
   },
   "outputs": [
    {
     "data": {
      "text/plain": [
       "array([-1. , -0.9, -0.8, -0.7, -0.6, -0.5, -0.4, -0.3, -0.2, -0.1,  0. ,\n",
       "        0.1])"
      ]
     },
     "execution_count": 12,
     "metadata": {},
     "output_type": "execute_result"
    }
   ],
   "source": [
    "np.shape(exposure_integral._effective_area._eff_area)\n",
    "exposure_integral._effective_area._cosz_bin_edges"
   ]
  },
  {
   "cell_type": "code",
   "execution_count": 13,
   "metadata": {
    "ExecuteTime": {
     "end_time": "2020-08-03T15:22:29.959376Z",
     "start_time": "2020-08-03T15:22:29.722240Z"
    }
   },
   "outputs": [
    {
     "data": {
      "image/png": "[encoded data removed]",
      "text/plain": [
       "<Figure size 432x288 with 1 Axes>"
      ]
     },
     "metadata": {
      "needs_background": "light"
     },
     "output_type": "display_data"
    }
   ],
   "source": [
    "fig, ax = plt.subplots()\n",
    "for _ in exposure_integral.integral_grid:\n",
    "    ax.plot(exposure_integral.alpha_grid, _)"
   ]
  },
  {
   "cell_type": "markdown",
   "metadata": {},
   "source": [
    "## Generate Stan code for simulation\n"
   ]
  },
  {
   "cell_type": "code",
   "execution_count": 14,
   "metadata": {
    "ExecuteTime": {
     "end_time": "2020-08-03T15:22:29.966248Z",
     "start_time": "2020-08-03T15:22:29.961701Z"
    }
   },
   "outputs": [],
   "source": [
    "from python.detector_model import NorthernTracksDetectorModel\n",
    "from python.backend.stan_generator import (\n",
    "    StanGenerator, GeneratedQuantitiesContext, DataContext, TransformedDataContext,\n",
    "    FunctionsContext, Include, ForLoopContext, StanFileGenerator, WhileLoopContext, FunctionCall, IfBlockContext,\n",
    "    ElseBlockContext, ElseIfBlockContext)\n",
    "from python.backend.variable_definitions import ForwardVariableDef, ForwardArrayDef\n",
    "from python.backend.expression import StringExpression\n",
    "from python.backend.parameterizations import DistributionMode\n",
    "import logging\n",
    "logging.basicConfig(level=logging.WARN)"
   ]
  },
  {
   "cell_type": "code",
   "execution_count": 15,
   "metadata": {
    "ExecuteTime": {
     "end_time": "2020-08-03T15:22:30.136220Z",
     "start_time": "2020-08-03T15:22:29.968820Z"
    }
   },
   "outputs": [
    {
     "name": "stderr",
     "output_type": "stream",
     "text": [
      "INFO:python.backend.code_generator:Object of type <python.backend.stan_generator.FunctionsContext object at 0x7f4005980e10> already on stack\n",
      "INFO:python.backend.code_generator:Object of type <python.backend.stan_generator.FunctionsContext object at 0x7f400592b710> already on stack\n",
      "INFO:python.backend.code_generator:Object of type <python.backend.stan_generator.DefinitionContext object at 0x7f4005979d10> already on stack\n",
      "INFO:python.backend.code_generator:Object of type <python.backend.stan_generator.DefinitionContext object at 0x7f4005979bd0> already on stack\n",
      "INFO:python.backend.code_generator:Object of type <python.backend.stan_generator.DefinitionContext object at 0x7f400592b6d0> already on stack\n",
      "INFO:python.backend.code_generator:Object of type <python.backend.stan_generator.DefinitionContext object at 0x7f400592b310> already on stack\n",
      "INFO:python.backend.code_generator:Object of type <python.backend.stan_generator.FunctionsContext object at 0x7f40058d0290> already on stack\n",
      "INFO:python.backend.code_generator:Object of type <python.backend.stan_generator.FunctionsContext object at 0x7f400592b750> already on stack\n",
      "INFO:python.backend.code_generator:Object of type <python.backend.stan_generator.FunctionsContext object at 0x7f4005bcaad0> already on stack\n",
      "INFO:python.backend.code_generator:Object of type <python.backend.stan_generator.DefinitionContext object at 0x7f4005a8a190> already on stack\n",
      "INFO:python.backend.code_generator:Object of type <python.backend.stan_generator.DefinitionContext object at 0x7f40058d0550> already on stack\n",
      "INFO:python.backend.code_generator:Object of type <python.backend.stan_generator.DefinitionContext object at 0x7f40058d0ed0> already on stack\n",
      "INFO:python.backend.code_generator:Object of type <python.backend.stan_generator.DefinitionContext object at 0x7f40058d0d50> already on stack\n",
      "INFO:python.backend.code_generator:Object of type <python.backend.stan_generator.FunctionsContext object at 0x7f40058d0a10> already on stack\n",
      "INFO:python.backend.code_generator:Object of type <python.backend.stan_generator.FunctionsContext object at 0x7f40058d0d90> already on stack\n",
      "INFO:python.backend.code_generator:Object of type <python.backend.stan_generator.DefinitionContext object at 0x7f40058d7590> already on stack\n",
      "INFO:python.backend.code_generator:Object of type <python.backend.stan_generator.DefinitionContext object at 0x7f40058d7890> already on stack\n"
     ]
    }
   ],
   "source": [
    "with StanFileGenerator(\"stan_files/detector_model_test\") as cg:\n",
    "    ntd_rng = NorthernTracksDetectorModel(mode=DistributionMode.RNG)\n",
    "    ntd_pdf = NorthernTracksDetectorModel(mode=DistributionMode.PDF)\n",
    "    cg.generate_files()"
   ]
  },
  {
   "cell_type": "code",
   "execution_count": 28,
   "metadata": {
    "ExecuteTime": {
     "end_time": "2020-08-03T15:22:30.367653Z",
     "start_time": "2020-08-03T15:22:30.139535Z"
    }
   },
   "outputs": [
    {
     "name": "stderr",
     "output_type": "stream",
     "text": [
      "INFO:python.backend.code_generator:Object of type <python.backend.stan_generator.DefinitionContext object at 0x7f40044cb290> already on stack\n",
      "INFO:python.backend.code_generator:Object of type <python.backend.stan_generator.DefinitionContext object at 0x7f40044cbdd0> already on stack\n",
      "INFO:python.backend.code_generator:Object of type <python.backend.stan_generator.DefinitionContext object at 0x7f40044c1d10> already on stack\n",
      "INFO:python.backend.code_generator:Object of type <python.backend.stan_generator.DefinitionContext object at 0x7f40044c1e10> already on stack\n",
      "INFO:python.backend.code_generator:Object of type <python.backend.stan_generator.DefinitionContext object at 0x7f40044c1950> already on stack\n",
      "INFO:python.backend.code_generator:Object of type <python.backend.stan_generator.DefinitionContext object at 0x7f40044c1890> already on stack\n",
      "INFO:python.backend.code_generator:Object of type <python.backend.stan_generator.DefinitionContext object at 0x7f40044c1e90> already on stack\n",
      "INFO:python.backend.code_generator:Object of type <python.backend.stan_generator.DefinitionContext object at 0x7f40044c1750> already on stack\n",
      "INFO:python.backend.code_generator:Object of type <python.backend.stan_generator.DefinitionContext object at 0x7f40044c1510> already on stack\n",
      "INFO:python.backend.code_generator:Object of type <python.backend.stan_generator.DefinitionContext object at 0x7f40044c16d0> already on stack\n",
      "INFO:python.backend.code_generator:Object of type <python.backend.stan_generator.DefinitionContext object at 0x7f40044c1050> already on stack\n",
      "INFO:python.backend.code_generator:Object of type <python.backend.stan_generator.DefinitionContext object at 0x7f40044c1490> already on stack\n",
      "INFO:python.backend.code_generator:Object of type <python.backend.stan_generator.DefinitionContext object at 0x7f4004536ad0> already on stack\n",
      "INFO:python.backend.code_generator:Object of type <python.backend.stan_generator.DefinitionContext object at 0x7f4004536a90> already on stack\n",
      "INFO:python.backend.code_generator:Object of type <python.backend.stan_generator.DefinitionContext object at 0x7f4004536b10> already on stack\n",
      "INFO:python.backend.code_generator:Object of type <python.backend.stan_generator.DefinitionContext object at 0x7f4004536850> already on stack\n",
      "INFO:python.backend.code_generator:Object of type <python.backend.stan_generator.DefinitionContext object at 0x7f40045369d0> already on stack\n",
      "INFO:python.backend.code_generator:Object of type <python.backend.stan_generator.DefinitionContext object at 0x7f4004536290> already on stack\n",
      "INFO:python.backend.code_generator:Object of type <python.backend.stan_generator.DefinitionContext object at 0x7f4004536150> already on stack\n",
      "INFO:python.backend.code_generator:Object of type <python.backend.stan_generator.FunctionsContext object at 0x7f400452d290> already on stack\n",
      "INFO:python.backend.code_generator:Object of type <python.backend.stan_generator.FunctionsContext object at 0x7f4004522a90> already on stack\n",
      "INFO:python.backend.code_generator:Object of type <python.backend.stan_generator.FunctionsContext object at 0x7f400451be50> already on stack\n",
      "INFO:python.backend.code_generator:Object of type <python.backend.stan_generator.DefinitionContext object at 0x7f400451b210> already on stack\n",
      "INFO:python.backend.code_generator:Object of type <python.backend.stan_generator.DefinitionContext object at 0x7f400451b550> already on stack\n",
      "INFO:python.backend.code_generator:Object of type <python.backend.stan_generator.DefinitionContext object at 0x7f400451bd90> already on stack\n",
      "INFO:python.backend.code_generator:Object of type <python.backend.stan_generator.DefinitionContext object at 0x7f400451b890> already on stack\n",
      "INFO:python.backend.code_generator:Object of type <python.backend.stan_generator.FunctionsContext object at 0x7f4004522d90> already on stack\n",
      "INFO:python.backend.code_generator:Object of type <python.backend.stan_generator.FunctionsContext object at 0x7f40045116d0> already on stack\n",
      "INFO:python.backend.code_generator:Object of type <python.backend.stan_generator.FunctionsContext object at 0x7f400450e3d0> already on stack\n",
      "INFO:python.backend.code_generator:Object of type <python.backend.stan_generator.DefinitionContext object at 0x7f4004502610> already on stack\n",
      "INFO:python.backend.code_generator:Object of type <python.backend.stan_generator.DefinitionContext object at 0x7f4004502b10> already on stack\n",
      "INFO:python.backend.code_generator:Object of type <python.backend.stan_generator.DefinitionContext object at 0x7f4004502e10> already on stack\n",
      "INFO:python.backend.code_generator:Object of type <python.backend.stan_generator.DefinitionContext object at 0x7f4004502790> already on stack\n",
      "INFO:python.backend.code_generator:Object of type <python.backend.stan_generator.FunctionsContext object at 0x7f4004502a90> already on stack\n",
      "INFO:python.backend.code_generator:Object of type <python.backend.stan_generator.FunctionsContext object at 0x7f4004502290> already on stack\n",
      "INFO:python.backend.code_generator:Object of type <python.backend.stan_generator.DefinitionContext object at 0x7f40051858d0> already on stack\n",
      "INFO:python.backend.code_generator:Object of type <python.backend.stan_generator.DefinitionContext object at 0x7f4005566210> already on stack\n",
      "INFO:python.backend.code_generator:Object of type <python.backend.stan_generator.DefinitionContext object at 0x7f40045b2510> already on stack\n",
      "INFO:python.backend.code_generator:Object of type <python.backend.stan_generator.DefinitionContext object at 0x7f40045b2110> already on stack\n",
      "INFO:python.backend.code_generator:Object of type <python.backend.stan_generator.DefinitionContext object at 0x7f40045b2b90> already on stack\n",
      "INFO:python.backend.code_generator:Object of type <python.backend.stan_generator.DefinitionContext object at 0x7f40045b2ed0> already on stack\n",
      "INFO:python.backend.code_generator:Object of type <python.backend.stan_generator.DefinitionContext object at 0x7f40045b2090> already on stack\n",
      "INFO:python.backend.code_generator:Object of type <python.backend.stan_generator.DefinitionContext object at 0x7f40045b22d0> already on stack\n",
      "INFO:python.backend.code_generator:Object of type <python.backend.stan_generator.DefinitionContext object at 0x7f40045b24d0> already on stack\n",
      "INFO:python.backend.code_generator:Object of type <python.backend.stan_generator.DefinitionContext object at 0x7f40045b26d0> already on stack\n",
      "INFO:python.backend.code_generator:Object of type <python.backend.stan_generator.DefinitionContext object at 0x7f40045b23d0> already on stack\n",
      "INFO:python.backend.code_generator:Object of type <python.backend.stan_generator.DefinitionContext object at 0x7f40045b2a50> already on stack\n",
      "INFO:python.backend.code_generator:Object of type <python.backend.stan_generator.DefinitionContext object at 0x7f40045bb110> already on stack\n"
     ]
    }
   ],
   "source": [
    "with StanFileGenerator(\"stan_files/sim_code\") as cg:\n",
    "\n",
    "    with FunctionsContext() as fc:\n",
    "        _ = Include(\"utils.stan\")\n",
    "        _ = Include(\"vMF.stan\")\n",
    "        _ = Include(\"interpolation.stan\")\n",
    "        _ = Include(\"sim_functions.stan\")\n",
    "        _ = Include(\"energy_spectrum.stan\")\n",
    "\n",
    "    with DataContext() as dc:\n",
    "\n",
    "        # Sources\n",
    "        Ns = ForwardVariableDef(\"Ns\", \"int\")\n",
    "        Ns_str = [\"[\", Ns, \"]\"]\n",
    "        Ns_1p_str = [\"[\", Ns, \"+1]\"]\n",
    "\n",
    "        varpi = ForwardArrayDef(\"varpi\", \"unit_vector[3]\", Ns_str)\n",
    "        D = ForwardVariableDef(\"D\", \"vector[Ns]\")\n",
    "        redshift = ForwardVariableDef(\"z\", \"vector[Ns+1]\")\n",
    "\n",
    "        # Energies\n",
    "        alpha = ForwardVariableDef(\"alpha\", \"real\")\n",
    "        Emin = ForwardVariableDef(\"Emin\", \"real\")\n",
    "\n",
    "        # Flux\n",
    "        Q = ForwardVariableDef(\"Q\", \"real\")\n",
    "        F0 = ForwardVariableDef(\"F0\", \"real\")\n",
    "\n",
    "        # Precomputed quantities\n",
    "        Ngrid = ForwardVariableDef(\"Ngrid\", \"int\")\n",
    "        Ngrid_str = [\"[\", Ngrid, \"]\"]\n",
    "        alpha_grid = ForwardVariableDef(\"alpha_grid\", \"vector[Ngrid]\")\n",
    "        integral_grid = ForwardArrayDef(\"integral_grid\",\n",
    "                                        \"vector[Ngrid]\", Ns_1p_str)\n",
    "        aeff_max = ForwardVariableDef(\"aeff_max\", \"real\")\n",
    "\n",
    "        # Inputs\n",
    "        T = ForwardVariableDef(\"T\", \"real\")\n",
    "\n",
    "    with TransformedDataContext() as tdc:\n",
    "        F = ForwardVariableDef(\"F\", \"vector[Ns+1]\")\n",
    "        FT = ForwardVariableDef(\"FT\", \"real\")\n",
    "        Fs = ForwardVariableDef(\"Fs\", \"real\")\n",
    "        f = ForwardVariableDef(\"f\", \"real\")\n",
    "        w_exposure = ForwardVariableDef(\"w_exposure\", \"simplex[Ns+1]\")\n",
    "        Nex = ForwardVariableDef(\"Nex\", \"real\")\n",
    "        N = ForwardVariableDef(\"N\", \"int\")\n",
    "        eps = ForwardVariableDef(\"eps\", \"vector[Ns+1]\")\n",
    "\n",
    "        # Mpc_to_m = ForwardVariableDef(\"Mpc_to_m\", \"real\")\n",
    "        # Mpc_to_m << StringExpression(\"3.086e22\")\n",
    "\n",
    "        with ForLoopContext(1, Ns, \"k\") as k:\n",
    "            F[k] << StringExpression([Q, \"/ (4 * pi() * pow(\", \n",
    "                                         D[k], \" * \", 3.086e22, \", 2))\"])\n",
    "            StringExpression([Fs, \" += \", F[k]])\n",
    "\n",
    "        F[Ns + 1] << F0\n",
    "\n",
    "        FT << (Fs + FT)\n",
    "        f << (Fs / FT)\n",
    "\n",
    "        eps << FunctionCall([T, Emin, alpha, alpha_grid, integral_grid, Ns], \"get_exposure_factor\")\n",
    "        Nex << FunctionCall([F, eps], \"get_Nex_sim\")\n",
    "\n",
    "        w_exposure << FunctionCall([F, eps], \"get_exposure_weights\")\n",
    "        N << FunctionCall([Nex], \"poisson_rng\")\n",
    "\n",
    "        StringExpression([\"print(\", w_exposure, \")\"])\n",
    "        StringExpression([\"print(\", Ngrid, \")\"])\n",
    "        StringExpression([\"print(\", Nex, \")\"])\n",
    "        StringExpression([\"print(\", N, \")\"])\n",
    "\n",
    "    with GeneratedQuantitiesContext() as gqc:\n",
    "        ntd_rng = NorthernTracksDetectorModel(mode=DistributionMode.RNG)\n",
    "        ntd_pdf = NorthernTracksDetectorModel(mode=DistributionMode.PDF) \n",
    "\n",
    "        N_str = [\"[\", N, \"]\"]\n",
    "        lam = ForwardArrayDef(\"Lambda\", \"int\", N_str)\n",
    "        omega = ForwardVariableDef(\"omega\", \"unit_vector[3]\")\n",
    "\n",
    "        Esrc = ForwardVariableDef(\"Esrc\", \"vector[N]\")\n",
    "        E = ForwardVariableDef(\"E\", \"vector[N]\")\n",
    "        Edet = ForwardVariableDef(\"Edet\", \"vector[N]\")\n",
    "\n",
    "        cosz = ForwardArrayDef(\"cosz\", \"real\", N_str)\n",
    "        Pdet = ForwardArrayDef(\"Pdet\", \"real\", N_str)\n",
    "        accept = ForwardVariableDef(\"accept\", \"int\")\n",
    "        ntrials = ForwardVariableDef(\"ntrials\", \"int\")\n",
    "        prob = ForwardVariableDef(\"prob\", \"simplex[2]\")\n",
    "\n",
    "        event = ForwardArrayDef(\"event\", \"unit_vector[3]\", N_str)\n",
    "        Nex_sim = ForwardVariableDef(\"Nex_sim\", \"real\")\n",
    "\n",
    "        Nex_sim << Nex\n",
    "\n",
    "        with ForLoopContext(1, N, \"i\") as i:\n",
    "\n",
    "            lam[i] << FunctionCall([w_exposure], \"categorical_rng\")\n",
    "\n",
    "            accept << 0\n",
    "            ntrials << 0\n",
    "\n",
    "            with WhileLoopContext([accept != 1]):\n",
    "\n",
    "                with IfBlockContext([StringExpression([lam[i], \"<\", Ns + 1])]):\n",
    "                    omega << varpi[lam[i]]\n",
    "                with ElseIfBlockContext([lam[i] == Ns + 1]):\n",
    "                    omega << FunctionCall([1], \"sphere_rng\")\n",
    "                cosz[i] << StringExpression([\"cos(omega_to_zenith(\", omega, \"))\"])\n",
    "\n",
    "                # Sample energy\n",
    "                Esrc[i] << StringExpression([\"spectrum_rng(\", alpha, \", \", \n",
    "                                             Emin, \" * (1+\", redshift[lam[i]], \") )\"])\n",
    "                E[i] << StringExpression([Esrc[i], \"/ (1+\", redshift[lam[i]], \")\"])\n",
    "\n",
    "\n",
    "                # Test against Aeff\n",
    "                StringExpression([\"if (\", cosz[i], \" >= 0.1) {\\n\", \n",
    "                                  Pdet[i], \" = 0;\\n\",\n",
    "                                 \"}\\n\", \"else {\\n\",\n",
    "                                 Pdet[i], \" = \", ntd_pdf.effective_area(E[i], omega), \n",
    "                                  \" / \", aeff_max, \";\\n\",\n",
    "                                 \"}\"])\n",
    "                prob[1] << Pdet[i]\n",
    "                prob[2] << 1 - Pdet[i]\n",
    "                StringExpression([ntrials, \" += \", 1])\n",
    "                #StringExpression([\"print(\", Pdet[i], \")\"])\n",
    "                StringExpression([\"if (\", ntrials, \" < 10000) {\\n\", \n",
    "                                 accept, \" = categorical_rng(\", prob, \");\\n\", \"}\\n\",\n",
    "                                 \"else {\\n\",\n",
    "                                 accept, \" = 1;\\n\", \n",
    "                                  \"print(\\\"problem component: \\\", \", lam[i], \");\\n\",\n",
    "                                  \"}\"])\n",
    "                #accept << StringExpression([\"categorical_rng(\", prob, \")\"])\n",
    "\n",
    "            # Detection effects\n",
    "            event[i] << ntd_rng.angular_resolution(E[i], omega)\n",
    "            Edet[i] << ntd_rng.energy_resolution(E[i])\n",
    "\n",
    "        \n",
    "    sim = cg.generate_single_file()"
   ]
  },
  {
   "cell_type": "code",
   "execution_count": 18,
   "metadata": {
    "ExecuteTime": {
     "end_time": "2020-08-03T15:22:30.374756Z",
     "start_time": "2020-08-03T15:22:30.370223Z"
    }
   },
   "outputs": [
    {
     "data": {
      "text/plain": [
       "'stan_files/sim_code'"
      ]
     },
     "execution_count": 18,
     "metadata": {},
     "output_type": "execute_result"
    }
   ],
   "source": [
    "cg._base_filename"
   ]
  },
  {
   "cell_type": "code",
   "execution_count": 29,
   "metadata": {
    "ExecuteTime": {
     "end_time": "2020-08-03T15:22:30.643313Z",
     "start_time": "2020-08-03T15:22:30.384018Z"
    }
   },
   "outputs": [
    {
     "name": "stdout",
     "output_type": "stream",
     "text": [
      "Using cached StanModel\n"
     ]
    }
   ],
   "source": [
    "# Compile\n",
    "this_dir = os.path.abspath('')\n",
    "include_paths = [os.path.join(this_dir, \n",
    "                              \"../dev/statistical_model/4_tracks_and_cascades/stan/\")]\n",
    "\n",
    "sm = stan_utility.compile_model(filename=cg.filename, include_paths=include_paths, \n",
    "                                model_name=\"sim\")"
   ]
  },
  {
   "cell_type": "markdown",
   "metadata": {},
   "source": [
    "## Simulation"
   ]
  },
  {
   "cell_type": "code",
   "execution_count": 30,
   "metadata": {
    "ExecuteTime": {
     "end_time": "2020-08-03T15:22:30.653674Z",
     "start_time": "2020-08-03T15:22:30.645355Z"
    }
   },
   "outputs": [],
   "source": [
    "from python.joint_model_cascades import luminosity_distance\n",
    "\n",
    "redshift = [source_list.sources[i].redshift for i in range(source_list.N)]\n",
    "lum_dist = [luminosity_distance(_) for _ in redshift]\n",
    "varpi = [source_list.sources[i].unit_vector/np.linalg.norm(source_list.sources[i].unit_vector) for i in range(source_list.N-1)]"
   ]
  },
  {
   "cell_type": "code",
   "execution_count": 31,
   "metadata": {
    "ExecuteTime": {
     "end_time": "2020-08-03T15:22:30.661909Z",
     "start_time": "2020-08-03T15:22:30.656321Z"
    }
   },
   "outputs": [],
   "source": [
    "# Inputs \n",
    "inputs = {}\n",
    "inputs['Ns'] = source_list.N-1\n",
    "\n",
    "inputs['z'] = redshift\n",
    "inputs['D'] = lum_dist[:-1]\n",
    "inputs['varpi'] = varpi\n",
    "\n",
    "inputs['Ngrid'] = len(exposure_integral.alpha_grid)\n",
    "inputs['alpha_grid'] = exposure_integral.alpha_grid\n",
    "inputs['integral_grid'] = exposure_integral.integral_grid\n",
    "\n",
    "inputs['aeff_max'] = np.max(exposure_integral.effective_area._eff_area)"
   ]
  },
  {
   "cell_type": "code",
   "execution_count": 32,
   "metadata": {
    "ExecuteTime": {
     "end_time": "2020-08-03T15:22:30.667250Z",
     "start_time": "2020-08-03T15:22:30.664370Z"
    }
   },
   "outputs": [],
   "source": [
    "inputs['aeff_max'] = 1e4"
   ]
  },
  {
   "cell_type": "code",
   "execution_count": 33,
   "metadata": {
    "ExecuteTime": {
     "end_time": "2020-08-03T15:22:30.680251Z",
     "start_time": "2020-08-03T15:22:30.675425Z"
    }
   },
   "outputs": [],
   "source": [
    "inputs['alpha'] = 2.0\n",
    "inputs['Emin'] = 1e5 # GeV\n",
    "\n",
    "total_flux = 3.0 # m^-2 yr^-1\n",
    "f = 0.5\n",
    "\n",
    "inputs['T'] = 1 # yr\n",
    "inputs['F0'] = ((1 - f) * total_flux) # m^-2 yr^-1\n",
    "inputs['Q'] = ( (f*total_flux) / (sum([1 / (4*np.pi * (d*3.086e22)**2) \n",
    "                                          for d in inputs['D']])) )  # yr^-1"
   ]
  },
  {
   "cell_type": "code",
   "execution_count": 34,
   "metadata": {
    "ExecuteTime": {
     "end_time": "2020-08-03T15:22:49.088984Z",
     "start_time": "2020-08-03T15:22:30.683556Z"
    }
   },
   "outputs": [],
   "source": [
    "# Simulate\n",
    "simulation = sm.sampling(data=inputs, iter=1, chains=1, \n",
    "                         algorithm=\"Fixed_param\")"
   ]
  },
  {
   "cell_type": "code",
   "execution_count": 35,
   "metadata": {
    "ExecuteTime": {
     "end_time": "2020-08-03T15:22:49.099345Z",
     "start_time": "2020-08-03T15:22:49.091184Z"
    }
   },
   "outputs": [],
   "source": [
    "from astropy.coordinates import SkyCoord\n",
    "from astropy import units as u\n",
    "\n",
    "class Direction():\n",
    "    \"\"\"\n",
    "    Input the unit vector vMF samples and\n",
    "    store x, y, and z and galactic coordinates\n",
    "    of direction in Mpc.\n",
    "    \"\"\"\n",
    "\n",
    "    def __init__(self, unit_vector_3d):\n",
    "        \"\"\"\n",
    "        Input the unit vector samples and\n",
    "        store x, y, and z and galactic coordinates\n",
    "        of direction in Mpc.\n",
    "\n",
    "        :param unit_vector_3d: a 3-dimensional unit vector.\n",
    "        \"\"\"\n",
    "\n",
    "        self.unit_vector = unit_vector_3d\n",
    "        transposed_uv = np.transpose(self.unit_vector)\n",
    "        self.x = transposed_uv[0]\n",
    "        self.y = transposed_uv[1]\n",
    "        self.z = transposed_uv[2]\n",
    "        self.d = SkyCoord(self.x, self.y, self.z,\n",
    "                          unit = 'mpc',\n",
    "                          representation_type = 'cartesian',\n",
    "                          frame = 'icrs')\n",
    "        self.d.representation_type = 'spherical'\n",
    "        self.lons = self.d.galactic.l.wrap_at(360 * u.deg).deg\n",
    "        self.lats = self.d.galactic.b.wrap_at(180 * u.deg).deg"
   ]
  },
  {
   "cell_type": "code",
   "execution_count": 36,
   "metadata": {
    "ExecuteTime": {
     "end_time": "2020-08-03T15:22:49.160052Z",
     "start_time": "2020-08-03T15:22:49.102116Z"
    }
   },
   "outputs": [],
   "source": [
    "# Energies\n",
    "Esrc = simulation.extract(['Esrc'])['Esrc'][0]\n",
    "E = simulation.extract(['E'])['E'][0]\n",
    "Edet = simulation.extract(['Edet'])['Edet'][0]\n",
    "\n",
    "# Arrival directions\n",
    "event = simulation.extract(['event'])['event'][0]\n",
    "event = Direction(event)\n",
    "e_ra = event.d.icrs.ra.rad\n",
    "e_dec = event.d.icrs.dec.rad\n",
    "\n",
    "\n",
    "true_dir = simulation.extract(['omega'])['omega'][0]\n",
    "true_dir = Direction(true_dir)\n",
    "e_t_ra = true_dir.d.icrs.ra.rad\n",
    "e_t_dec = true_dir.d.icrs.dec.rad\n",
    "\n",
    "source = Direction(varpi)\n",
    "s_ra = source.d.icrs.ra.rad\n",
    "s_dec = source.d.icrs.dec.rad\n",
    "\n",
    "# event type\n",
    "#event_type = simulation.extract(['event_type'])['event_type'][0]\n",
    "#zenith = simulation.extract(['zenith'])['zenith'][0]"
   ]
  },
  {
   "cell_type": "code",
   "execution_count": 37,
   "metadata": {
    "ExecuteTime": {
     "end_time": "2020-08-03T15:22:49.179870Z",
     "start_time": "2020-08-03T15:22:49.162703Z"
    }
   },
   "outputs": [
    {
     "name": "stdout",
     "output_type": "stream",
     "text": [
      "Nsrc:  40\n",
      "Nbg:  50\n",
      "w_bg:  0.5555555555555556\n"
     ]
    }
   ],
   "source": [
    "lam = simulation.extract(['Lambda'])['Lambda'][0] - 1\n",
    "Nc = inputs['Ns']\n",
    "label_cmap = plt.cm.get_cmap('plasma', Nc+1)\n",
    "\n",
    "lam = list(lam)\n",
    "Nsrc = sum([lam.count(_) for _ in range(int(Nc))])\n",
    "Nbg = lam.count(Nc)\n",
    "print('Nsrc: ', Nsrc)\n",
    "print('Nbg: ', Nbg)\n",
    "print('w_bg: ', Nbg / (Nbg+Nsrc))"
   ]
  },
  {
   "cell_type": "code",
   "execution_count": 38,
   "metadata": {
    "ExecuteTime": {
     "end_time": "2020-08-03T15:22:50.126850Z",
     "start_time": "2020-08-03T15:22:49.182137Z"
    }
   },
   "outputs": [
    {
     "data": {
      "text/plain": [
       "<matplotlib.lines.Line2D at 0x7f40045d3350>"
      ]
     },
     "execution_count": 38,
     "metadata": {},
     "output_type": "execute_result"
    },
    {
     "data": {
      "image/png": "[encoded data removed]",
      "text/plain": [
       "<Figure size 720x576 with 1 Axes>"
      ]
     },
     "metadata": {
      "needs_background": "light"
     },
     "output_type": "display_data"
    }
   ],
   "source": [
    "import matplotlib.patches as mpatches\n",
    "from matplotlib.collections import PatchCollection\n",
    "from matplotlib.colors import LinearSegmentedColormap\n",
    "\n",
    "fig = plt.figure()\n",
    "fig.set_size_inches((10, 8))\n",
    "ax = fig.add_subplot(111, projection='hammer')\n",
    "\n",
    "for r, d, l in zip(e_ra, e_dec, lam):\n",
    "    color = label_cmap.colors[int(l)]\n",
    "    circle = mpatches.Circle((r-np.pi,d), 0.05, color=color, alpha=0.7)\n",
    "    ax.add_patch(circle)\n",
    "norm = max([1 - _/zth for _ in redshift])\n",
    "for r, d, z in zip(s_ra, s_dec, redshift):\n",
    "    circle = mpatches.Circle((r-np.pi,d), 0.05, color='k', alpha=(1-z/zth)/norm)\n",
    "    ax.add_patch(circle)\n",
    "ax.axhline(np.deg2rad(-5))"
   ]
  },
  {
   "cell_type": "code",
   "execution_count": 39,
   "metadata": {
    "ExecuteTime": {
     "end_time": "2020-08-03T15:22:51.421044Z",
     "start_time": "2020-08-03T15:22:50.129355Z"
    }
   },
   "outputs": [
    {
     "data": {
      "image/png": "[encoded data removed]",
      "text/plain": [
       "<Figure size 432x288 with 1 Axes>"
      ]
     },
     "metadata": {
      "needs_background": "light"
     },
     "output_type": "display_data"
    }
   ],
   "source": [
    "# Plot energies\n",
    "Emin_cascades = inputs['Emin']\n",
    "bins = np.logspace(np.log(Emin_cascades/1000), np.log(1E+4*Emin_cascades), base = np.e)\n",
    "\n",
    "fig, ax = plt.subplots()\n",
    "ax.hist(Esrc, bins=bins, label='$\\\\tilde{E}$', alpha=0.7);\n",
    "ax.hist(10**Edet, bins=bins, label='$\\hat{E}$', alpha=0.7);\n",
    "ax.set_xscale('log')\n",
    "ax.set_yscale('log')\n",
    "ax.set_xlabel('$E$ / GeV')\n",
    "ax.legend();"
   ]
  },
  {
   "cell_type": "markdown",
   "metadata": {},
   "source": [
    "## Generate Stan code for fit"
   ]
  },
  {
   "cell_type": "code",
   "execution_count": 30,
   "metadata": {
    "ExecuteTime": {
     "end_time": "2020-08-03T15:22:51.427242Z",
     "start_time": "2020-08-03T15:22:51.424093Z"
    }
   },
   "outputs": [],
   "source": [
    "from backend.stan_generator import ParametersContext, TransformedParametersContext\n",
    "from backend.variable_definitions import ParameterDef, ParameterVectorDef"
   ]
  },
  {
   "cell_type": "code",
   "execution_count": 31,
   "metadata": {
    "ExecuteTime": {
     "end_time": "2020-08-03T15:22:51.595657Z",
     "start_time": "2020-08-03T15:22:51.429609Z"
    }
   },
   "outputs": [
    {
     "name": "stderr",
     "output_type": "stream",
     "text": [
      "INFO:backend.code_generator:Object of type <backend.stan_generator.FunctionsContext object at 0x119d6db10> already on stack\n",
      "INFO:backend.code_generator:Object of type <backend.stan_generator.FunctionsContext object at 0x119d6db90> already on stack\n",
      "INFO:backend.code_generator:Object of type <backend.stan_generator.FunctionsContext object at 0x119aba1d0> already on stack\n",
      "INFO:backend.code_generator:Object of type <backend.stan_generator.DefinitionContext object at 0x11952e110> already on stack\n",
      "INFO:backend.code_generator:Object of type <backend.stan_generator.DefinitionContext object at 0x1192e5fd0> already on stack\n",
      "INFO:backend.code_generator:Object of type <backend.stan_generator.DefinitionContext object at 0x1196360d0> already on stack\n",
      "INFO:backend.code_generator:Object of type <backend.stan_generator.DefinitionContext object at 0x119d5b050> already on stack\n",
      "INFO:backend.code_generator:Object of type <backend.stan_generator.FunctionsContext object at 0x119d5ba10> already on stack\n",
      "INFO:backend.code_generator:Object of type <backend.stan_generator.FunctionsContext object at 0x119d5be10> already on stack\n",
      "INFO:backend.code_generator:Object of type <backend.stan_generator.DefinitionContext object at 0x119c32c50> already on stack\n",
      "INFO:backend.code_generator:Object of type <backend.stan_generator.DefinitionContext object at 0x119c32b10> already on stack\n",
      "INFO:backend.code_generator:Object of type <backend.stan_generator.DefinitionContext object at 0x119c86610> already on stack\n",
      "INFO:backend.code_generator:Object of type <backend.stan_generator.DefinitionContext object at 0x119c86490> already on stack\n",
      "INFO:backend.code_generator:Object of type <backend.stan_generator.DefinitionContext object at 0x119c863d0> already on stack\n",
      "INFO:backend.code_generator:Object of type <backend.stan_generator.DefinitionContext object at 0x119c79c50> already on stack\n",
      "INFO:backend.code_generator:Object of type <backend.stan_generator.DefinitionContext object at 0x119c79750> already on stack\n",
      "INFO:backend.code_generator:Object of type <backend.stan_generator.DefinitionContext object at 0x119c79690> already on stack\n",
      "INFO:backend.code_generator:Object of type <backend.stan_generator.DefinitionContext object at 0x119c79b10> already on stack\n",
      "INFO:backend.code_generator:Object of type <backend.stan_generator.DefinitionContext object at 0x119c79210> already on stack\n",
      "INFO:backend.code_generator:Object of type <backend.stan_generator.DefinitionContext object at 0x119c79110> already on stack\n",
      "INFO:backend.code_generator:Object of type <backend.stan_generator.DefinitionContext object at 0x119bf32d0> already on stack\n",
      "INFO:backend.code_generator:Object of type <backend.stan_generator.DefinitionContext object at 0x119bf3490> already on stack\n",
      "INFO:backend.code_generator:Object of type <backend.stan_generator.DefinitionContext object at 0x119bf31d0> already on stack\n",
      "INFO:backend.code_generator:Object of type <backend.stan_generator.DefinitionContext object at 0x119aba990> already on stack\n",
      "INFO:backend.code_generator:Object of type <backend.stan_generator.DefinitionContext object at 0x11992b610> already on stack\n",
      "INFO:backend.code_generator:Object of type <backend.stan_generator.DefinitionContext object at 0x11923c810> already on stack\n"
     ]
    }
   ],
   "source": [
    "with StanFileGenerator(\"stan_files/model_code\") as cg:\n",
    "\n",
    "    with FunctionsContext() as fc:\n",
    "        _ = Include(\"utils.stan\")\n",
    "        _ = Include(\"vMF.stan\")\n",
    "        _ = Include(\"interpolation.stan\")\n",
    "        _ = Include(\"energy_spectrum.stan\")\n",
    "        ntd = NorthernTracksDetectorModel()\n",
    "        \n",
    "    with DataContext() as dc:\n",
    "        \n",
    "        # Neutrinos\n",
    "        N = ForwardVariableDef(\"N\", \"int\")\n",
    "        N_str = [\"[\", N, \"]\"]\n",
    "        omega_det = ForwardArrayDef(\"omega_det\", \"unit_vector[3]\", N_str)\n",
    "        Edet = ForwardVariableDef(\"Edet\", \"vector[N]\")\n",
    "        Emin = ForwardVariableDef(\"Emin\", \"real\")\n",
    "        \n",
    "         # Sources\n",
    "        Ns = ForwardVariableDef(\"Ns\", \"int\")\n",
    "        Ns_str = [\"[\", Ns, \"]\"]\n",
    "        Ns_1p_str = [\"[\", Ns, \"+1]\"]\n",
    "        \n",
    "        varpi = ForwardArrayDef(\"varpi\", \"unit_vector[3]\", Ns_str)\n",
    "        D = ForwardVariableDef(\"D\", \"vector[Ns]\")\n",
    "        redshift = ForwardVariableDef(\"z\", \"vector[Ns+1]\")\n",
    "\n",
    "        # Precomputed quantities\n",
    "        Ngrid = ForwardVariableDef(\"Ngrid\", \"int\")\n",
    "        alpha_grid = ForwardVariableDef(\"alpha_grid\", \"vector[Ngrid]\")\n",
    "        integral_grid = ForwardArrayDef(\"integral_grid\", \n",
    "                                        \"vector[Ngrid]\", Ns_1p_str)\n",
    "        aeff_max = ForwardVariableDef(\"aeff_max\", \"real\")\n",
    "        \n",
    "        # Inputs\n",
    "        T = ForwardVariableDef(\"T\", \"real\")\n",
    "        \n",
    "    with TransformedDataContext() as tdc:\n",
    "        \n",
    "        zenith = ForwardVariableDef(\"zenith\", \"vector[N]\")\n",
    "        \n",
    "        with ForLoopContext(1, N, \"i\") as i:\n",
    "            zenith[i] << StringExpression([\"pi() - acos(\", omega[i][3], \")\"])\n",
    "            \n",
    "    with ParametersContext() as pc:\n",
    "        \n",
    "        Q = ParameterDef(\"Q\", \"real\", 0.0, 1e60)\n",
    "        F0 = ParameterDef(\"F0\", \"real\", 0.0, 500)\n",
    "        \n",
    "        alpha = ParameterDef(\"alpha\", \"real\", 1.5, 3.5)\n",
    "        \n",
    "        Esrc = ParameterVectorDef(\"Esrc\", \"vector\", N_str, Emin, 1e8)\n",
    "        \n",
    "    with TransformedParametersContext() as tpc:\n",
    "        \n",
    "        Fs = ParameterDef(\"Fs\", \"real\", 0.0)\n",
    "    \n",
    "    model = cg.generate_single_file()"
   ]
  },
  {
   "cell_type": "code",
   "execution_count": 32,
   "metadata": {
    "ExecuteTime": {
     "end_time": "2020-08-03T15:22:51.603550Z",
     "start_time": "2020-08-03T15:22:51.598377Z"
    }
   },
   "outputs": [
    {
     "data": {
      "text/plain": [
       "True"
      ]
     },
     "execution_count": 32,
     "metadata": {},
     "output_type": "execute_result"
    }
   ],
   "source": [
    "a = None\n",
    "not a"
   ]
  },
  {
   "cell_type": "code",
   "execution_count": null,
   "metadata": {},
   "outputs": [],
   "source": []
  }
 ],
 "metadata": {
  "kernelspec": {
   "display_name": "Python 3",
   "language": "python",
   "name": "python3"
  },
  "language_info": {
   "codemirror_mode": {
    "name": "ipython",
    "version": 3
   },
   "file_extension": ".py",
   "mimetype": "text/x-python",
   "name": "python",
   "nbconvert_exporter": "python",
   "pygments_lexer": "ipython3",
   "version": "3.7.7"
  }
 },
 "nbformat": 4,
 "nbformat_minor": 4
}
