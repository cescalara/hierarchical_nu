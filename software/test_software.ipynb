{
 "cells": [
  {
   "cell_type": "markdown",
   "metadata": {},
   "source": [
    "# Testing software"
   ]
  },
  {
   "cell_type": "code",
   "execution_count": 61,
   "metadata": {
    "ExecuteTime": {
     "end_time": "2020-08-11T15:11:57.142875Z",
     "start_time": "2020-08-11T15:11:57.139470Z"
    }
   },
   "outputs": [],
   "source": [
    "import numpy as np\n",
    "from matplotlib import pyplot as plt\n",
    "import os\n",
    "import stan_utility\n",
    "%load_ext autoreload\n",
    "%autoreload 2"
   ]
  },
  {
   "cell_type": "markdown",
   "metadata": {},
   "source": [
    "## Sources\n",
    "\n",
    "Decided to go with the astromodels package as python3 branch is working well.\n",
    "\n",
    "To install: \n",
    "```\n",
    "pip install git+https://github.com/giacomov/astromodels.git@py2to3\n",
    "```"
   ]
  },
  {
   "cell_type": "code",
   "execution_count": 62,
   "metadata": {
    "ExecuteTime": {
     "end_time": "2020-08-11T15:11:57.790068Z",
     "start_time": "2020-08-11T15:11:57.786493Z"
    }
   },
   "outputs": [],
   "source": [
    "from python.source.source import *\n",
    "from astromodels.functions.functions import Powerlaw\n",
    "from astromodels import Model"
   ]
  },
  {
   "cell_type": "code",
   "execution_count": 63,
   "metadata": {
    "ExecuteTime": {
     "end_time": "2020-08-11T15:11:58.123620Z",
     "start_time": "2020-08-11T15:11:58.115724Z"
    }
   },
   "outputs": [
    {
     "data": {
      "text/plain": [
       "0.1"
      ]
     },
     "execution_count": 63,
     "metadata": {},
     "output_type": "execute_result"
    }
   ],
   "source": [
    "# Single source\n",
    "source = PointSource('point', ra=0.0, dec=0.0, redshift=0.1, unit_vector = [1, 0, 0], spectral_shape=Powerlaw())\n",
    "source.position.get_ra()\n",
    "source.redshift"
   ]
  },
  {
   "cell_type": "code",
   "execution_count": 64,
   "metadata": {
    "ExecuteTime": {
     "end_time": "2020-08-11T15:11:58.462405Z",
     "start_time": "2020-08-11T15:11:58.460030Z"
    }
   },
   "outputs": [],
   "source": [
    "#source_list = ManualSourceList([source])\n",
    "#zth = 1\n",
    "#diffuse_bg = DiffuseSource('diffuse_bg', zth, spectral_shape=Powerlaw())\n",
    "#source_list.add(diffuse_bg)"
   ]
  },
  {
   "cell_type": "code",
   "execution_count": 65,
   "metadata": {
    "ExecuteTime": {
     "end_time": "2020-08-11T15:11:59.029673Z",
     "start_time": "2020-08-11T15:11:58.788182Z"
    }
   },
   "outputs": [],
   "source": [
    "# Loading from file\n",
    "source_file = '../dev/statistical_model/data/test_SFR_pop.h5'\n",
    "source_list = TestSourceList(source_file, spectral_shape=Powerlaw())\n",
    "\n",
    "# Select sources below zth = 1\n",
    "zth = 1\n",
    "source_list.select_below_redshift(zth)\n",
    "\n",
    "# Add a diffuse background at z = 1\n",
    "diffuse_bg = DiffuseSource('diffuse_bg', zth, spectral_shape=Powerlaw())\n",
    "source_list.add(diffuse_bg)"
   ]
  },
  {
   "cell_type": "code",
   "execution_count": 66,
   "metadata": {
    "ExecuteTime": {
     "end_time": "2020-08-11T15:11:59.167691Z",
     "start_time": "2020-08-11T15:11:59.163157Z"
    }
   },
   "outputs": [
    {
     "data": {
      "text/plain": [
       "38"
      ]
     },
     "execution_count": 66,
     "metadata": {},
     "output_type": "execute_result"
    }
   ],
   "source": [
    "source_list.N"
   ]
  },
  {
   "cell_type": "code",
   "execution_count": 67,
   "metadata": {
    "ExecuteTime": {
     "end_time": "2020-08-11T15:11:59.680392Z",
     "start_time": "2020-08-11T15:11:59.675244Z"
    }
   },
   "outputs": [
    {
     "data": {
      "text/plain": [
       "0.6818505255578298"
      ]
     },
     "execution_count": 67,
     "metadata": {},
     "output_type": "execute_result"
    }
   ],
   "source": [
    "source_list.sources[0].redshift"
   ]
  },
  {
   "cell_type": "code",
   "execution_count": 68,
   "metadata": {
    "ExecuteTime": {
     "end_time": "2020-08-11T15:12:00.145446Z",
     "start_time": "2020-08-11T15:12:00.139282Z"
    }
   },
   "outputs": [
    {
     "data": {
      "text/html": [
       "Parameter dec = -19.438230205811653 [deg]\n",
       "(min_value = -90.0, max_value = 90.0, delta = 1.9438230205811653, free = False)"
      ],
      "text/plain": [
       "Parameter dec = -19.438230205811653 [deg]\n",
       "(min_value = -90.0, max_value = 90.0, delta = 1.9438230205811653, free = False)"
      ]
     },
     "execution_count": 68,
     "metadata": {},
     "output_type": "execute_result"
    }
   ],
   "source": [
    "source_list.sources[0].position.dec"
   ]
  },
  {
   "cell_type": "code",
   "execution_count": 69,
   "metadata": {
    "ExecuteTime": {
     "end_time": "2020-08-11T15:12:00.567617Z",
     "start_time": "2020-08-11T15:12:00.563281Z"
    }
   },
   "outputs": [],
   "source": [
    "# Could also use an astromodels model\n",
    "source_model = Model(*source_list.sources)"
   ]
  },
  {
   "cell_type": "markdown",
   "metadata": {},
   "source": [
    "## Precomputation"
   ]
  },
  {
   "cell_type": "code",
   "execution_count": 70,
   "metadata": {
    "ExecuteTime": {
     "end_time": "2020-08-11T15:12:01.325930Z",
     "start_time": "2020-08-11T15:12:01.322865Z"
    }
   },
   "outputs": [],
   "source": [
    "from python.Precomputation import ExposureIntegral\n",
    "from python.detector_model import NorthernTracksEffectiveArea"
   ]
  },
  {
   "cell_type": "code",
   "execution_count": 71,
   "metadata": {
    "ExecuteTime": {
     "end_time": "2020-08-11T15:12:15.833336Z",
     "start_time": "2020-08-11T15:12:01.606507Z"
    }
   },
   "outputs": [
    {
     "name": "stderr",
     "output_type": "stream",
     "text": [
      "INFO:python.backend.code_generator:Object of type <python.backend.stan_generator.FunctionsContext object at 0x11c912550> already on stack\n",
      "INFO:python.backend.code_generator:Object of type <python.backend.stan_generator.DefinitionContext object at 0x11aae69d0> already on stack\n",
      "INFO:python.backend.code_generator:Object of type <python.backend.stan_generator.DefinitionContext object at 0x11c2cf7d0> already on stack\n"
     ]
    }
   ],
   "source": [
    "time = 8 # years -> not used rn\n",
    "Emin = 1.0e5 # GeV\n",
    "\n",
    "exposure_integral = ExposureIntegral(source_list, NorthernTracksEffectiveArea,\n",
    "                                     time, Emin)\n",
    "exposure_integral()"
   ]
  },
  {
   "cell_type": "code",
   "execution_count": 72,
   "metadata": {
    "ExecuteTime": {
     "end_time": "2020-08-11T15:12:16.176425Z",
     "start_time": "2020-08-11T15:12:15.835971Z"
    }
   },
   "outputs": [
    {
     "name": "stderr",
     "output_type": "stream",
     "text": [
      "/Users/fran/.virtualenvs/bayes/lib/python3.7/site-packages/ipykernel_launcher.py:2: RuntimeWarning: divide by zero encountered in log10\n",
      "  \n"
     ]
    },
    {
     "data": {
      "text/plain": [
       "<matplotlib.colorbar.Colorbar at 0x11c5a1650>"
      ]
     },
     "execution_count": 72,
     "metadata": {},
     "output_type": "execute_result"
    },
    {
     "data": {
      "image/png": "iVBORw0KGgoAAAANSUhEUgAAAWUAAAD8CAYAAACvm7WEAAAAOXRFWHRTb2Z0d2FyZQBNYXRwbG90bGliIHZlcnNpb24zLjMuMCwgaHR0cHM6Ly9tYXRwbG90bGliLm9yZy86wFpkAAAACXBIWXMAAAsTAAALEwEAmpwYAABJ+klEQVR4nO19fdB+R1nedZ/nfRMERKSJISaBYA1tkVboRLRFLQoCIjW102HAEUGZRh3wE8UAozK1dFKLIKOWMUIKjCgygkI1w6dSxpkC+ZDKR0QigiQGQhSBAUl+73Pu/rG759y7Z3fPnu993t9eyft7nud87O45Z8917nPd995LzIyCgoKCgjxQbd2AgoKCgoIWhZQLCgoKMkIh5YKCgoKMUEi5oKCgICMUUi4oKCjICIWUCwoKCjLCYqRMRI8nog8T0S1EdNVS9RQUFBScJtASccpEtAPwlwC+A8CtAK4H8BRm/tDslRUUFBScIixlKT8CwC3M/FFmvhvAawFcsVBdBQUFBacGRwuVexGAT4jftwL4xtDG5513Hl966aULNaWgoOA04cYbb7yTmc+fUsbjvu1e/Hd/v0+r78/vegszP35KfUOwFCn3goiuBHAlADzgAQ/ADTfcsFVTCgoKDghE9PGpZfzd3+/x3rc8IGnb3YUfOW9qfUOwlHxxG4BLxO+L9bIGzHwNM1/OzJeff/6kh15BQUHBIDCAOvG/tbGUpXw9gMuI6EFQZPxkAN+7UF0FBQUFg8BgnOE0+WJtLELKzHxCRM8C8BYAOwDXMvMHl6iroKCgYAy2sIJTsJimzMzXAbhuqfILCgoKxoLB2GeatngzR19BQUHBlqhRSLmg4KzD4//Fc+cpqCLv4jd/8L/NU/5ZBgawL6Qcxl/e/Ld47De8IHn7t16fvm3B4eJx/+rn/PFBRNYnm9+Vs97aZnj95Ltn3Vfevlfge59r/w7ImOQrJ+H1+nEP//nebeyKRpwIH2Tb5HdxfM0xDT1nK6FYyjFUhPoex8mbP+ZbXtj+6Fxw9dF0iJrbm8vXSXydqAc8Q8d+640vmFzG1ugQgjgv1jlyydJHlD5L8N7neOuNnv/YpRl43Wrf5m4ZcwSVxvxNmRAYAPs+4vZ+oT3rZQzUejmzanqtL4lZDwB1gKxXBAM4k9G5lciClLkinNxrRFPq9qS2HcZ0CrNcdRSwJueGmG3i1ov81lGw4ZGNey74kDeDWeGSikWkYnkVIFiJe3pIM8R7njIGWa8RMmzaR55lsTZ5MMaiXhQB2aKDOq3jJvXvyDbee+tI31s1g5jBtbjXmIG9IGGzz8ZgcJEvoiBgf844k4MEycpPScBth2m36eyHdEt5E8zVkSOnufcNYBC5ueQv13l2SCUfq47IypFvM8Eyhy6fgDnexKJ9OdbNo4RstmH7ntL3E9UMNgZQ3VrTvHNIesTb6ewQz4rckAUpMxHqc0Z0RAbkXeESLZn3Tx8JW2TcV098g+j+iRZMMkaQVyomW4l91rC7OlDfIFLybMqhB8+E40tq05jyFyOG+fqJRZys7ytuLWVDuLRnkJEvak2+NQOVkjLMcjLXhxm8xFMtAVpZyRJZkDII2B8PvzgdMvQRbbOMPMsSntQO8Vv1+65qT3Gh+uawjpKQSmJjnpFDj2HiIXsfIpEyZ5cm1rpmS6PXWlXHab9pAmBq5AzaE+jIQ9LCkpZEnlbvkiDsN3og9CELUmYC6llaQmlEba3rvzBpOlxqB5OWfeIuvXVP3H+FvrmEFe4t1/fQmVL3wH2z06QFwv2NkvpQl5QZVKt7jitlpJCxjpkAIrAmZ7Cug6EktMR7bykoR1+eFysLUgYB9QhLuQOnY1mdMGYdjyQ1u5P72GBcuWn15YPkvp243TAHYKiMDKz2TGD6zeju4947lqWM5jfVaOSNjgUttlNlbtuZGSiWcgxMQL2bt0xipxN6CHQSySXuOzuRZkrMS/fvJNLr2WY24szzXg4ifB8Mg7qnSJCycfApjqVKr6sZxKSWV2LbuuXiHAyMOtMnaRakDAJ4jpaw92uwA8zysJ6hjFEdNINObWGl/t17H81A3kOx1b09mdgG7i8Jldl8knLcNWQMcEXCclYEbVvJ25Py3JayngLvBgC3MfMTp5SVBykDqHfz92wjU3iv/8ROMTXec8RmQWzdwWNYnLBy1HxT65h43ea67Mn9RzrKBTGjNusIZmAJagCVkjJMjAWbugibRV0YMAj7edPJ/ziAmwHcZ2pBeZAyATyTfCE7mPfCz9ST15TE+iJEFm3KlMI3fjucPaIlz7fdNESuY8oltkJKhT7MxqdXQ52f2jgNhX7YOPlabRm0vTExl3xBRBcD+C4ALwTwU1PLy4KUGTORsqsjC/THIs9Q/9i6e7CJVZGx9d1godOSqdS4LcxJYSFjiMEjqACuAdJRGK2E4XEM6nK2BINwdzrpnEdEcr66a5j5GvH7VwA8B8CXz9G2LEgZhHDA/xzFR8i6FzN0Hm7+mRdbWxo5Y1FiPXTSnuLDkLoykRgUAhiNgknozpXQk822ov6t+rBSWJJJ505mvty3goieCOAOZr6RiB41R9vyIGXMYCknvp4t1gk26FyrHFfBqbSch/YXy7DoSBikidgm50Zb5nZfdqzlLbvtTI6+RwL4biJ6AoB7ALgPEf0WM3/f2ALzIOWZLeVYh+Pgj4wwol1zH8paJD+U8NZ8+GxGxnPX6zlnY04jeUi5cfYxgLolZzbRF9TdjrG9EcFM2M9AOsz8XADPBQBtKf/0FEIGciFlzEvK5nqvcuE36lxLH9spel4tijWJe/Q1n6mN7CFlI1NYsoZx7BE3lnIjIWZEzHWmOlQ2pLxMti35Y/7yAayuLzajs/LsT6ceW573ubrwaDK0iBddcibYJGxkjVpGYjgjDDfTlAl3zzI4QpTJ/E4A75xaThakzAs7+kwIzhpY3ILNKhNZAYCDc/w1fWhov5D7uVay+RPE3JK1cAhmYiUPdPStiixIGViYlLGiRpozAY5o2+RwvgMjrE2w5jmyvMPpu9nx/7CceU2kRa0JtxJkXQsupzbl5+gHw4zYZ9o58yBlwjzT6kg4F3vW8x/rSBvJGWkbDy8/52fMVsj0Xvai0z9Gtt2Nvmg0Yhlpgfa7SWvLFSzyBlpyntKeqVhgRN9syIOUsUBHz5kc50DRlgsSMFv/0NJEM0xaWslAc7+5o/w6Egfaz60ljHrp1/ORyIeUq/Wu0BKdobfzz82eGZPx1jfbnCgPPYXGynWtZWEZW1ax+1uSsxlcsrHTtFjKfVjxAm3TGUYy1YoENxeZbk1kW9d/KtGQcZv21rKWqdWUQeqvSdXpWMpWeNxGYBDOzJVwZ2bkQcozJiQCsLkQOquluObDqvnnlKGQdBiJ17t1zHFr5erRedICNtNBMdQ9TR5SziGnsppku1jKccx542zlzTaL1iaBA30IFAxEyrUZG+aWsqmrJ0Ml5ZSBFDLywucMNGVgY/kCoDJ4JAbGihdo7qfz2g7FDNpQkDEW7AtePRms45KpK2mEyBmY/z4cCEaxlONYevBIrOqcX9d9Vvj6rVgWYw+oPIjWhXHQAd3oiwpocyWHybkpR35uiFPp6COijwH4PIA9gBNmvpyI7gfgdwFcCuBjAJ7EzJ/pL2ybqzRv/PLZE2ExFnPFzboozr1l0Ym+AEAuObPeoHYkDbQ/TFpPy2reAAw61XP0fRsz3yl+XwXgHcx8NRFdpX//bG8peZ6fYThbswQNQKb3QUEPjGNPzhhiuqMh53bASNhqBmxi3y73BXBm5twXc2GJVl0B4FH6+6ugEnTESXlD+SIZORDiBoR2WsLklkTKOTr041fWrTpQFoQLgppxxNzDrtXskjNg3UvbyYc068Spc2IqKTOAtxIRA/gNPUXKBcx8u17/SQAXJJWU5/lpsdYw7cxw6GSyBs6Gc8SOHmFyJkPPZt2EuYUkDeHNt5LcbzbM+vSO6PtmZr6NiL4KwNuI6C/kSmZmTdgdENGVAK4EgN1X3nfVEX2zY3Cm9nmrn9vaOBtIpmAY3D7WasVOWBwrYra3MdEXOsa5GZO9aJN7cSotZWa+TX/eQUS/D+ARAD5FRBcy8+1EdCGAOwL7XgPgGgA49wGXbD3j+DQs+Q52Gl+Nz9K3jkOGV1PWzjrLauaw1dxYxk4qxS0kDGY6fZYyEd0LQMXMn9ffHwvgvwB4E4CnAbhaf76xvzDMnyUuhkO6kQ+NcNdGOT/rwKMpA248cg85A5AOP1n02lCOvtM3zPoCAL9P6l3lCMBvM/Obieh6AK8jomcA+DiAJ/UXxeA1H5eZ3ch0cKZuwdKY636YrW+5IWx6REhnRJ/+5pU0jGNwnhZNxDxz9C2B0aTMzB8F8PWe5X8H4NGDC1z7/OTRMwDMdwMWFLhI7lspm5EmeYugPUOt3eXSUkarOW8bp4xTHad8mMjzehQUbIPe1LP6Q1vIBEHOPtnCkTMaLZrzsYdO5Yi+2UDYLmBx7NPyrJjrvqBAg+zvzIKcG3StZhM+Z6QO6SjcclTfaR/RNw+2Oj85SwdN582gjUOuz1bNXaMPLX1sefKEQuOs01ayJGcmr9VsLGMlY7CIwNg+LK5MnNqHnDvjVkg9J4l64Go4zdfyNB9bMkRMXBOTzK2kUQMgv6TRTim1raHBDJypCynHkYM1eKgoRBFGrufmELu7iFW2Z0Qg22quZIgFWwnxgU6Y8iZQ8kUh5TgOxZLLoEM1yJVwUrD2ecztXOXWnj5IKa0Ri9GSc8hq5nYb3wCULXEqR/TNBgJwKMOsQ9dxS6dBDj18KPK8H7IH9Zy3xaxQqQMDNjmrmv1ac+dC6wEoG3eAEhKXgL7Olj0OkRjXxFrnJ9MbrRdzDRbpDW0bf37YmMuWo06TM+tgZBECJ8lZbSqSYmz+ylnki34UUiuYA3P2owPl9yjGnh8WhK8z1cvh1tos9pNzs4Wqu2s9b4MyR18M+qlacHYikEiwICcQwFb+TkWu3IRUQFjAHklDgDe3kk30xenLfTEjuNyYZwPKg/egQR09mJucFuzqyw1Re6zmLIZZl8Ej/cjz/JwVOHg9v2AdaGWCjI7cWM/cWs2uhNHkThbjqzMYOALMI18Q0SUAXg2VoI0BXMPML51SZjakXIhhBpS3jYPFFt1/TG8hEdbGDE3FSmMmbRGzz1IGWjLOIFB5xuiLEwDPZuabiOjLAdxIRG9j5g+NLTAbUi6EMh7leZYHDk2CSx4w6pCXyTxHWtAwljOjtZobR2BHb0Y3vG4jzBF9oae+u11//zwR3QzgIgCHT8rbX6JtcWg39FmDcl006cowCtIf3FjOyjbmxoJuM8n5yBmbn1dmwkk6KZ9HRDeI39fomZMsENGlAB4O4D1T2pYFKRNtSErlpssORcrKEA25CpKW5Ay/pNEh50ysZGCQfHEnM18e24CI7g3g9QB+gpk/N6VdWZAygKzJsZDE/ChvBocHEmFxbCKmDDmTUZI9koYh50aP5s1l5TlH9BHRMRQhv4aZ3zC1vGxI+TQQXyGaaTgNfeD0QyQhQpecO5KGpTe3++dwrecgZVLz4b0CwM3M/OLJBSIjUp6CHMgwh052WpHD9S0wUB2dpFYMk4TIBFxQK2kAFjnbg1C2w4xxyo8E8FQA7yei9+llz2Pm68YWmA0pL3Xj5U6WhXCmo5zD9cFM+t5qLed2GDUaq1n9bsnZbJkD5ohTZuY/xcxxChmR8lr15NEhlsBpPrYhyP1BfNhw+5g9ik8587ghZvXhJ+ctwQyclCT3EdB2w6wPncgKAdk49OuZP0JjpHWMspYnOo5ACHLOJAKjDLOOgLD+zXQayKwQUBjl3CwDpSVTQ75EMlRODLv2kHND5zoCY0uU3BcbYA3SPW03/mk7ninI83bNBJ1+IkeFmN+AzBjXZIbTRJ4DcnA4+pANKS9Boutb33l0tq2QZxcfj+osv54+1MLitcnZJ2tYQ/j02nzOacmn3IOlCW11gl61tnE4zaRztj8gl4J0jTWv/w45+yQNs8wYX1tbqcxFU+7FWjdRnpehxdZEWcisnIMYjKYMtARdG9K1t0Q4UgOedWuDsC/RF+tgLOluTYY+HDo5HHr7fahyf6ovjJq711WSs7Sau1ZyS+g5ONq3ttZDyIaUlz49S5JuCecbhrOV2A71eklU4k6t0SVnv6QBhEPptsGcuS/mRjakPBWppLvcyME8OttQHBpBHup57kOOb2o+1OK7IWhJzjthDUvLWYbSARlYqZxFrn0vekmZiK4F8EQAdzDzQ/Wy+wH4XQCXAvgYgCcx82d0co6XAngCgC8CeDoz39Rfx/ydcujNO/fNfmhkBxwu4R0KoflwaOfccvQ1y1pybuUKQkXcWKNN/gu0ksbWOOToi1cC+DWoeagMrgLwDma+moiu0r9/FsB3ArhM/30jgJfpz8Uw5OLO2RHWIt2tO+8hE57E1ucxFTmf79oh00ZLbn4ry7gWh+CL1ug6BdcHH7Kjj5nfpTPqS1wB4FH6+6sAvBOKlK8A8GpmZgDvJqL7EtGFesqUWC2Tb5q+/ecg0UO5sX3I4Wbf8vzlcPxzY207zz2HLRm3v5WF3NWbjeUMOLHOG+Jg5YsALhBE+0momVwBNTfVJ8R2t+plHVImoisBXAkAx+ffZ9EbNpWQ52pDjgSQ6wMlx3PlQw4ksjVcV52RJyy5wqxz9GYZeSF15y2RQxt8mOzoY2amEXe8nuPqGgC452UXzn5nxoh4DoI6jdEcwDYkmeetsQwO5SHUh1oSLKBlC2oJt/ndkp+0nrc2EphPHyl/ysgSRHQhgDv08tsAXCK2u1gvWxRjCHhrx+IUrHVj59llwzgNhHcIx1B7pAhGwHK2fpv9N2u6hdMWEvcmAE8DcLX+fKNY/iwiei2Ug++z/XqyuvnndJzFCHKOTj+GgHO82bbWJHNFzu3c3sK0CVl+B9pz5+rNxnIGgJ3oeFtaqwerKRPR70A59c4jolsB/AIUGb+OiJ4B4OMAnqQ3vw4qHO4WqJC4H1igzYF2jifiQ9CS1+y6a5FSzuQ3F7Ym0bkhw9pccg5Zzb7t3fLWBoNQH3D0xVMCqx7t2ZYBPHNMQ+aPE/aXN7aeIQSS50tRGEuR49Kke1oI79AeTj6yDRFzaPsckEcrujg1I/oMYhd86E08tPMsQcZbdeBcbhwf1ibjLc5FzudfoiNTyHWOpCG33xyn0NF3cFjC4Tfkkm59k02tP0erdOtz6kOObTKoJtqGZgScV1Nu6oC1TsYkS+s5C2TUFIlTQcpDpIqoJb1QO6Yit/C7rG6sAci53VMJcyr6+gEzWW2sEdCUncgL34CRXK5CsZRjmCn3xVhn31ZkvBVJnAYiXuwBmA1l5PV2ItsiCVqSs0FM0mi22TrJPYC6LqS8CIYQcewSzHmTz1lW7gNdcmjDFkR6tg3wMejkv5BNcW8wKwzOHsW3eZ9kZDGjtg8HT8o8IbxmSsdI2XetiJKlcNqs0ZwsT4NDdyIaq9iSN5pBIo584VjbW+Ng45TXwrwZ3LplzdUF1ibjRS3MhQlhCfI9GyIv1qx3SD21E87mc/QZcvZpzuY7kMkDMoMm+JANKQ99cg5K2en89nXEsTdBf3a6w7WWl7Rol74pD/lhNjfmam+QkH1RGDFZIwtQFta6D9mQ8lCkJsqOEfKYzppS5xI3weB9M/fm+7AE2eVOoIsc88LX3ufcA+KWc2y/zZBRUySyIeWpllPMqRcj4iV06EN3ai2bRvUwy16rjq0fpimQJAu0Q6rNp1xmjeRzQuo2BQNcoi+WQcpNEkucEnqFCRFTKJTHfbWb0l7vfgk361o6XQ5vAmsgJyu2omzGwgEAaq7sY9FdXhKzBWf5LouHTyHlIAg82w2QKlekEtiQds1xDFtaSrO0f+GIlq2x1PVZknTnPq/KyKn1dxWNbJx7pr6YISSXbYqZTgsRPR5qbtIdgJcz89VTysuClBk0+iK5HY5hE3PIIcGJXmC3XaEOHuv4uTvM1pZkDt1ZuabVuuq5SrwX7O3EuWAxXCRyO7tRHJthhiYQ0Q7ArwP4DqiZlq4nojcx84fGlpkFKU9B3wUeYikP7ShBgp6RCA5V312rzjnPdS4SQa66u8/StXXkOmo5x8pZHYy5Bo88AsAtzPxRANC55K8AcNikPFW+6At5C5HxmDrXIrKlE/UvWV5KuTk6tGquRhHz1lZfDvWnEDOQ/ua5BgYMHjmPiG4Qv6/R09kB/nlJv3FKu7Ig5SnyBdC9sFFHm/i+Twyrk/X0daoQ2WQRLO+g74ZY8obxed/nIuqlLd4tHmI5lemi+7ba6s2hJEZZID364k5mvnzJpkhkQcpTEZMwfPKFS5BTnXk+MplCwms7F0NYUvub21KeQsRzyVZz4FDCKSsKyxPtNnt7Oec108dMp3r2eUlPBSkvTchjbpQpOTn8DpVp7QlhldjeCBnMbdXmYm3Oeo0WcVaOL7Ppn55BIaF4ZfW9FmVsTNCMuaIvrgdwGRE9CIqMnwzge6cUmAUpj9GUQy8eKY69mOacgr6bZIkpp9Yg6KbMTCMWcnmDWLu+1IEWqddtals7jjuhHfu28enJ2ztVaRZHHzOfENGzALwFKiTuWmb+4JQysyDlMXC7lTm9/ic0WyFwric4Rc+2PMawO+RYjLXSlxyA4m/D/DdQLhZtbvXMp6uPse7j11lat50Y5IQkRCFn32aY6TIy83VQk0bPgixIeaqjD3CsYnTJWcYnzzZ7daKWPJpEA/v1yRshpD5M5iLhnGJs595vDgwh4Hklq3HX1yc/WMZPIAwuy5A4IKMJA21kQcpzwCJepA2gHCMXAN2bqU+nXurGD3X0pH1jZ2ii3teO9vI5fw471G9+B2XK29I67LHracs+KD+I/iKKcJ2BEmMNi9nAKEnuYxgbp+w7pWM05dAyH8bclGM6YGqUh9o200c+hh3zEKsppdw5o0fGSz9T5K15r2sf6Q7Z3yVon+XsIhvZQiOn6DyJLEh5LMw5TRlWHUKSpTIg9nguh5yv7TXI2xafJ3tLok5+wM1wV0y5fkvXO67cZa7bVEL2lRcjZkD3YU/SomxQSDkMBmFfj39ldq3gvZg5t1kuth1K3CEytMofIFlMCkdKaAuQHnK0ln68ZvQIMC8R5yQxAOMJNu5HGP5G09xDMPPw7S2itmQNIFsSzA1ZkPIYTHWojSHmph60TkPTliGvZlO11lRi9pfVTx5rWbDAvNriVCLuf7DEz93c1qi3DQsx2xhpoS9UT1rP6rfvLW8787nIFz2YK7aXnOW+QSPuumb5gA4fau8cckkKxhJzLL/Dkk64QXr6iOOKt30dK3Y/gWBSCX1qzPLUB49FsvAYI+Ln3pPic2h7FgNjyDDrVZENKY+dL8vyARM3XbGTowJdIu1MBGk8xQMHh4Sci77fY7FVAp9pjqp19N7etxzLWttGax9qRa9xXrrbj0vG5A4kAdS9ZB9zhs7oYilHwONfY+Tzt5m0UZOziVduYpU924Ucat162m3cXMxTA+WTIgkmeEncG7x1yNTO8hmjFQaEFM5RZnfb+UhgKVli6HkYH4vtPxdjjmtH++b7vunr6rdlDYuiuwQ97a1iLhT5ogdjLWUr05shYL2uIraIWWKqhNFrdQ/QSlOmmPKun0lXTrHuc9B8U8/pHIQ8NxGvOVAk9fgNMQ49VpdQXWkixRBxozc2waGSMhFdC+CJAO5g5ofqZS8A8J8BfFpv9jw91BBE9FwAzwCwB/BjzPyWvjoYQD3yBFXUdbhVsKMs3BF+zNR5mXI9yd66HGs5FPs8h4Sx1Ii7sbrxlIEqYzDXq/ec5LqkhDTnOU3JCz3lvJh9W0vZmRrKI2n47qs1HKNRHCopA3glgF8D8Gpn+UuY+UVyARE9BCpL0tcB+GoAbyeiBzPzHhvCSBlAa9EaUnWzWvngEraMvuhzUM7p4Fo6PWWqJTpmYlj32JaUIua42VMIeDMnVQAp5yn13HQkrwipuuRsSnDLy2nwCPEByxfM/C4iujSxvCsAvJaZ7wLw10R0C9R0Kf83thMRcLyb9srps1r7IjFi1m0IbmeV5O7DEAvTCrvzbRv0YPefu752DIqznsHEGCbvpB+3j3TWCiObe/TeEvHIfXWGy+yiM1hE9N9uzLJ6q908ZafEKYy+eBYRfT+AGwA8m5k/AzU1yrvFNrfqZR0Q0ZUArgSAc77qPpNnHvHFDIecbaZbSD06WdcVm/k6f1CrnlnCaMtdxqsdc/qlSjwxzElgqUQ8p2W7xHlfw8KfEqfefQh1Z7QG5GAS25JOrX8tHKylHMDLAPwilDLwiwB+GcAPDilAz3F1DQDc67ILeayjD3DC4vSnO3LPh9T5+kLOwFjs85QYaLV/uPMuHqaWa2+F/7zsuevd92HO6JKhFt8k6WmW8Li0+kcZD+4gkQA5S2zu5AMOWlPugJk/Zb4T0W8C+EP9c/TUKHNNn+RKE1LCiA0kCf3u1NVzJX0zLwDDQtqU/ha+6Y1TdMyNnjJ11tTsc6lW6liiSiLgQFjj6NDLpIfZNCsw9HAZEw4ZCoME4u3MMsXmEjhkTdkHIrqQmW/XP78HwAf09zcB+G0iejGUo+8yAO9NKXOspezKFaYcX1icgS+2OQUq3I46jj6fddws6zi4tn19S42wmALvBJnOT/XgcpxBM4VyzZXjYSiWzDcybpRjtx7f8e8S7oKd0zX2HZXZk2s5EHWRhZUMHK6lTES/A+BRUNNs3wrgFwA8iogeBnVYHwPwQwDAzB8kotcB+BCAEwDPTIm8qJlw98lu5CF0HXiKKNXnXq8nskf7taQJa9+Ytlw3hC9Ihwms5yrfo2vxd28C/3EmOd8mEHx/bG/ceh6CoUN8x5DUEIfeLDHWMz1MY1b+FmGQS8DKGOdIGUAGoXAaGcnbFlKiL57iWfyKyPYvBPDCIY0gYuyqcWeoS4L+5TI2uaI2cL3POjQdeo8u+cv1ZnlIW55TU/a1bwqmWs+hEZFLhPjFbujOPHGGEGaQLOZKj5qqf0+pQ+3nryNmFaf2pZqpU86ObOu5EiP/5Gjagn5kMaKPeVrqTkmWe9akydRYy2ad2TYUKmcwNPa4ISFuX818VnNKWc0yrmw5BKatdf++AzF3+FuKfjxGepgTWw5OGWsRj30Ah4h4bHkhrXmHuiNrxB6Im4fH5WGwd5AFKQPjz481Wg+KCH2DOkIDPXxOQh/69GLXwTgkBnrIjCJzEbFELJXoqJwbEf3YHFNIFx4Tbre0LBLD9HSh8TZOvbYpevGccIk55izc1L9y2hx9S2B0SJyIspBDrJVcwaigZIuK2uHVXuefcBJaxUe0ZqktV/oCm9jn0KSRPoRHwXnIkvut0CF1hR4eS8T5hsLZUrH3JLYB4H2ij3UkxtozNjIiRtx9URFTwvimSBW+9X15wM16X717VJP7z+zIrDkG2ZDylJC4vttCkrH8DrQdKTjCzBMitPdZ3XJQiV7ljvRLD8pv2xaPn56mOw+x5qcg1s65Xv/HhNzlkBejLzkUMM7aHfJGlVp+XwRGyADxadBZoJByGAzgZGT0RasZo42wEM6UGtw4/8z2xlJ2pYahWnLMsvSVNXWWDZ+uPLS8ZGeOx1mX6jDraO4Ra9C1TFNjkGW77IdLmnYNzKtf5+iQS4VLrqG6u2FwLUJkPLSctUA44OiLNUAAdhNyXzTEDJtgZWicCYuLoS/BkNvJrDzKrr2ui/HdQHvf67YYJRhLNepbNnQATAxTiGqMg2+uYdkhUoxFO0yVHmL19pabaBEv8cAdYrVK6zdG1t0HsSdPeU85q6JoynEQAUcjQ+LU/j6HW3edBAPNBKuWBTswBMwnZYScG9HQM239uYNfOtsQo+adHp1myh3mXU/RkWPWZyrGjrzzIlBUK/X0W+Nj5Arf3IzW+gERBLJdvn5hLEhJWlPycof22aPqJUZfHwlZvr6oC5+UkSrfrYZCymHUNeEL/3jO4P3IIV4jYai/9vuuWea3nH2OP4k+K2COFJ4pkRxu1Ie5yVNu2NgN4bP25fTwNadLS/YDSS6fLwtavP556snRQh7zBjRnOFx0H/add/XZJ1ds5gAspBzHbjfB0edowoaQDWTwuopjBpjarHJyYIiv7L0gLknbLrFXxJYMESLVIUjz3Ken7gxZQL4wvzHOsxDG5vEdCt9UVykRHqHQPL9TcZrMAKyrGaeUvxs1ECYt9M091hw0ZaDIF73wRHolgShsqfZZyS7RxiMdupasXC6tTSNDuOFxKRhnwaTmXOBW6w5Y2/Kzjf+WN9xuoM5pxyUbDNV5Q2Q9JmRs7ANizUiJlHUxDLGQxxCy3G/fCT3slzuyQCHlMIgYR0fDLpRLwn3OPvM7qutGNLC+ef7cdJ4+63iN17ShOZjHtG9IFEZIcx06/VfIYSgzv7XnvO5sZ7adUqe9LqzXhhAio9CDpe96DHXYecuYnNkudH3zjbwAoBx9mTwbXGRBysyEM2fmCYlrSLHSFjJamcHIFkSMCmhjl9GVJXyQIweB7kAR376pRBcijP4ER87DI2Rpyv3EK74hBN8DJtXZ12d5zpUoaMhQ57k14TGha2PK61s3tR6XhKePSNx3+tzeSRHgDsXOBitYykT0PwD8ewB3A/grAD/AzP8Q2ycLUgYAHjk1C5ORMAwxE6qqbkfneSxqKV/44pVD6CPIzu8BV31I2WPr6bOQYw5Nn1Zr0KfZ7kMRFrq6ZEecJ5E6ANSeh4epM0TYQ6MmQm9RfZZfzDqW5bjl9u3fbWOaJez2lamWMoDuNGWdt5qwRb0lVtKU3wbgucx8QkT/HcBzAfxsbIdsSLmaFKdsO/usKIxmG3sQCdBNSN+rTzrrDRnJodghq7XX+mF7QIQ8G6aNPsfcWLjlWevgX6fILO2NZk4noVVGZALWkGzh26+3noFhhsA8VqB7bX1hcqH9JJqHhiDDHdWeePr5ydKfrjMjC9lgBVJm5reKn+8G8J/69smGlOv9yM7RkLFNkJ3wOJ2FTkoa9vahV2ynOmFV+mY58VmdqcOtY0O1XWIegpiDKvi9JwpjDKbqyxXVXQuYzTpl/VZUW3qz3NcuK61Slwy3ClWbQmopD6Sp0RcHB8YQUj6PiG4Qv6/R09kNxQ8C+N2+jbIgZd4TznzxeNzOBEATr5o3XBNvpX5XxKCKG43ZfAJdYg4RsEF3ezsNqFwfkgT6bpBYZEfn+wyzmgQTJ5Fnm1nmipvXPDHRLu2Dy3gL7ARGZsBNs1+kGdYgDz0pQWt52tvu0JU2wuXKN6Gdd7kp3yXtoVEvQEu0fQNg5o6+cOt0kQOZG7pIxJ3MfHmwLKK3A7i/Z9XzmfmNepvnQ0388Zq+yrIg5dEIXXeKrwbSHpKxQSEuUcYI2TcwxK3H933P5O3c8Ry1/U7HCp74apIOvtp2/BliC8y/56vDlGMQioIYK3PE5Im+nNMpWMshJdsn67SW++KiZ3r3HkvIQ4g4BxL2YS77gJkfE62H6OkAngjg0cz9wb95kHLF2N2jd9aoMBzt2FjOHX3Z0ZrNoBJDvtIKasizsSTbaIsK4rsrTaCN6misN2dev+BheHrJzmvZpJ8aIELOzkMjFLMsEZqQtFlvHV8llttOuNaCdbTQBN1anVvzPW4Vy3r74NNygWE5KQZbswnyiA99w9NDpB0i4eGau32/1qDARGfAMU24t5fECpoyET0ewHMA/Dtm/mLKPlmQMhFwfM7JDOX4LVJ3ODYzNY/JxlkXIcuKGCy0ajesbidIzBC1sTxjccsSqVm2fKTed4PKh7M34RG1EQm9SdeT4qDDssoYB1yYAMPlSqQcl9rOHxERy0nhtnGolOGWPdWJmyJPzClhNEi0hkdNmrAUViBlAL8G4FwAb9N+r3cz8w/HdsiClJkxPk7ZfGoLWX23rWSALWKWOnDM0eem/DT7mN/eEDK0kRPSQt6zuhmm2AwyDlvCZ027SHHuGbiORUt3TrDQXAlFhtO5yYFS5vMbmvJ0jNY+JKpiLis5VL57/oa8/u/hIdhABIY8T3uuZnX2ZS9l8HzyRbQa5q8duk8WpAwm1GfGRl8YwiT1f6VI15B0VbWxy4bCZayyO+LPhRtFYZalOPjcUX5bwffwMMvlDN0A2tlOjDwwIQa6IgZY/LbqdcgywvXhCVBlnxG5LpwZSlwnnw/R5EnuMHb2k/TYfNOxsLehlnPMKpbrQstV+/rC72ySlzCka4d3Zhoat+1tGUQepEwMmpSQSJTjrGMmMAPMVWM51w2JhiUPq3z96VrWsYxzLlmbdSH4oip80ofPedgX7jU0NeISE1rKUYKmvf7QtRSrP5yjeWxESjAUbaEMbqnlppLYUNnCImhfZr0AY+1B3u1Nn/FFZPjilnNATs8HiTxIGTR6RB8Rt8mMiNSQaWp1Y0veANrwObiEHC7ffMr9Kupa26S1ZyI1dLsZwqzLSu0D7uulcUCmzG7iYoyTr6K9VwMfEnkhywTSoy9SSTSViAdZmQNyDE9BTA5JtWZDGOLgCw5bX8iErNAvf62JjV9gg8iDlGuAvzRCUyb9BkKsAw/hxCxTE7PMZrVDsr60n51q5D6Al4ylk09ayj4rOaTj9i0LzW6SCpeI7bC4qv0eydccJSZ2tuGqKeukU05t7bMT+wTbLw44VN6O2uiNlIkAJGr4Y4GlE66tLywJ9aEzNFvIITLyRJZ1JmEkZYzQpYTjEvQu8tblwhKMLBlDeUvM4B47ob+MZMkEjCJfRMEATkY8QVszuF1WsYpi00TNVUvSVDFQ79rf6DoIO1U41nSM1CVhy337ZkGZolsD9g3YZz33Ofz8s2sEBpgEEMy2ZxW9828TgWthSyI2enUtlpsTmBJZMsQKXiscbo74ZFmGeagbgjYSw5kBZZwqFFLuwRgZs5EkAFSttUwVA5Ui4cbxV9Wo9Mg+9Vd7rd5odYmacOo+of0psNzAjYqwdvDE/Vr7inJjTqSp6T2HIkn3to5TjnKrG+dezYSqOT/qOJqh2bFXZ/YTXkW1d1Sfj1BTjiGF0A0JjkkelCpfDNGRxyCYhCoTGLstR+RBygTgeMLTWDj6GrDOPMf6gVjvUAsLGbCtZPXbU7Swon2DUNwk+ruq9soYsqwpSJU+mnVuUiSd+Cg0t2A7bLlrWfYRckcfFs499dmvMQ+rL+zwC5U7ZCh6TMqYA7658kLEO9Zqjjn0fCQ8R9KomqvFdOk5QUOTeq+EPEi5YlTnjIzgbaQB89uWJWIj+wDxKZvj3IxuxEX7Pawj+yIl+khZDgxx58szn+a7te2IUKxYjo2YHJISQeJzInbWkT9vs9kegPf10k5ub1uw5j2gQ84jkxE1da4wdZN5a9mLKAbp8HWzvQFpo/pCccHyDQJoCXqJyJsQ5ngAjEbRlHtQE+q7R7oA3H7p04elzAGHaCL9WhK92bSNf7aJ3k2qX1V14wQE2pt3iAQSelC45NqbZD5CrL4Hhi/ywvc7WF9El3Z/K+vd3TqsN3tD62AIvo1z8eZRjrQ/JWtbR/MdMPy6U19iuJq7LlaGDykyxRRyPASLOIQiX8SwJ1SfHdEUaj+lcw8V1LBoc48avdn6VN8J+jNA7rIqSVzKUuWmEXUNkI72YAD1vrXiUmKhUxDLmxGCdDZaTkRN5q51f0R1k7vDbDtm9mzfdkE9NXmAiiTIrlXsZoprdWZN8gHdGABOrKxtgqS466g0ZHyCqntMnuJjklOzTujIeyfmV2KI0y2VbKV1PJSgc9eOozhUUiaiSwC8GsAFUIdxDTO/lIjuB5Ub9FIAHwPwJGb+DKkB3i8F8AQAXwTwdGa+KV4JwMcjz5BFzGz9dkPl1HJRDwMMAkHHOgccZkT22w7pGOjGz2ZC7zzRGXu4ERz+45SRFnI7SzKpaovkm22dsnwkEIreMPk5KvkHtgg4ZDn7MEYfnhKb7EZh2Ovsh8gUPXiKTOELpWvC4tiE2ymnpRHxTBgbYJ/TUGicV3MOjbyT2v6KzLSmNJKCQ7aUTwA8m5lvIqIvB3AjEb0NwNMBvIOZryaiqwBcBTXNyXcCuEz/fSOAl+nPKGg//Inb9HVj9RKBjTUMdKxjE41hDceuVAd1R/c17SL5vUuuMX06pOF262itWfPbJVE3PM432s+HmBUq2yR1a4W0/L0h555aZ5Oiz/o2e7n7pMCOWOgSso+Mh5BrnaDbD5kIVOZebi3kyloXOp9j59brs6xdXXkJ4szWmj5UUmbm2wHcrr9/nohuBnARgCsAPEpv9ioA74Qi5SsAvFrnDX03Ed2XiC7U5fgxwlLmplPD+XSkChMiJ6xmS6owVi/LQqya7IZCkZnMtSy/hyxe93v02Jja6AimxnpKIfkU0knVqoeULZ179qAU2/qWoXhmeUp+B5+V7MoVO7KjR4zjTw4KkelZp8x/Z5YdRcro06nd0Lfgb6Gd97c1HmFhRcBM0MSHPqRys5LBOB3DrInoUgAPB/AeABcIov0klLwBKML+hNjtVr3MImUiuhLAlQBwdN+vxO7zAy+aR0/mClpPBrBjZTVLfblSy5TFrLeFkiOUFmx3yGa4dgNJwi0ZtyTdknYtSNVtsgtzI9RoHYcAUKHN2ezLrSH39TnqgO7N44vaMJ/7gGXoatm+0Wuh3B9Sqw7JJLZE0u0HFRgysWu7bQ1wO3jkpLOuai1oluenJesQ5LG5ccnmweLbVqIvJ7O3XkHILhmPcci5VupeyB9nfMc/0Hr0ka1bZ3aEDFvRzA3JpExE9wbwegA/wcyfI5I3LTMN9GDpOa6uAYB7XHQJV2PTKetmMJEgaABCyuAKMKP7jCOwFpazKsexvJ3ypQVOzacid/VZgwjtwBS9nyQcV+Zw4Y78c/eTMoaBsRbtcLowdlW79th55ffV3bat30qWZYU06ZgW7LbFhS8EbK/fKvagzs3fO0xdHoMnH4c7319ouXu8PrikXhHjDO+wg3oo7fRDpEm9KdOdgjoWby5RDztPAvvOxG6ZqhfonwRkEySRMhEdQxHya5j5DXrxp4wsQUQXArhDL78NwCVi94v1skgFGHXhWk3Z+TT8WpNWJzSh1iQcf+QQMfW3wVkvp7YPknkfZBvM41vPL+hq4JVZRiIEj1rrWlrQVhUdcodlgYesWylJuA5LnzVeGfmAWORacB4RBJFzWQ1Q2bOYNcQ5cRZZeojoqJLltwQRsyr7QghD9Q2Jdx46MeqeK4DqNvrCkLTJc0x1Y+XuwNEHry1RdN8QgtNODXCEujKF+wDsrs/QWs6Tk5OiLwjAKwDczMwvFqveBOBpAK7Wn28Uy59FRK+FcvB9NqonQxkFZ+4zx4g+R2t2rVxyvpt1cHRm2OvcekiXYbjdbNt8bdrQLXuOUX0AUNf+J1ko2529Tdcy7nNoWvt7yjRk7o5sNGF3u6rGUaVIZ6ejSI70K7orafjg13XrbkIjGNJ3B5ZIxPuaP8bZH8kR0uS95QZyXYSccUYf32tyNtv23SmVuEK19VDTcpV0rIrSzmA324jFHWqLmDcdKOID43AdfQAeCeCpAN5PRO/Ty54HRcavI6JnAPg4gCfpdddBhcPdAhUS9wO9NTBQfWm+J2ky7/Vt10gjaDVrI4doC7auWsvW6NZwozyEgOXl/gCJu5awWWf91mXECMElVtvi7S53y0od8OK2xRclAgD7ukJNjJoIMsqjL4KkO6Fr1cgKO9o33428IDVrH4mmwOfQ2qNqCEc6DutI+lmfReoet5EyAEHIsB2AoRF6VuIh7xD5uqNNu+2IDfnumzHE6+DjOBEPiVxZArk9JwxSoi/+FOGX8Ud7tmcAzxzaEB6a5N6RLFhEW8jv1oARjx5sDctuyhbfmUZJYqkDPXyEHBoWLuWF0KAQb9kCjU7t/Pbp1+4+gF9CcCWHbnidIuJ9YB179o2111jexrJ2Le8j53dL0DYphRCTN2Kad6xcKfHIGGUZjbJH1SxrJAygTWcaa3eINEUZtWljU57ZV2/jOFmnTt3U9wCsJk2ONh0HS8qroAL4nJHvEo0165EljAWrl0uLFVA6P4HApKMnmhXDaHjKW1BTbzMShdEIIdRNyN/9LaUGfx3WgBaEpQajLR9V7ag+KSmEyH8Hm0zd2bZDD6ghCc9lG6TefaTvrKNqb7VXWsydeiNpPPvinWXdHUszkM84BbF44knpOvWx7lvrpc0UqJeZKIzdAMdXN/QurrfPmchpFjAO29G3OGqg+tIIe1TsYqIvZIhcqyMr0mZB2haJW1Zyf10drdiUBWn5is2DZaptTe0EO+a5s3mAkH0zqfjATK2UZhFlN6llymu+f7BNVxpxB8PI8mW9KREeVlgdGCekhjqfcCUI2VjLlSBXtohkFwm9s6IsQM3w7JqUpLAzFq6RXrilOQNpA/ZlePOl6nRjlIHpccqhGOUxBNonPXQjX7JJb99goJK1GrIg5epu4F63Do9TZknClXorYwJ4p/8qJYt0vu8YqKiJY5bk3bF7m1c8WATezm6CxvEnl4ecfs02vkPybOMO23aXuc3sQyw6I/S7L890X3kSxmr23fZ78YrvQk6t1cnNoaWKo2rfOBOPqj2OGydiV2OOIWb1xQgsNPuIKwP4MsAFlzmhcarOcPvlW4BLyCEN2bbw0yzaTtibizGa39oopBwGHwNfOn/EGfLt4kjDOpoI0kzu3JOhqoXV3RD/ThO/Q/K808S8Y2DH3UT7xgImtt6aJEHHrGS1Xm1vtjMEpwa+WM32IhQv7UtWZG0fKCeGmL49JAa62SYgoUg54aTeNeR9whW+JLeDvV+3vdKKbvdxY5Njw7ibsjl+XCY+WR7/Gd515A9rmciDEZspRMU471BRjTPQGfR0OF2tQxClhrxD3YbdDYCM4DAPHWM9W74EsV3KQJO14L4g54Q8SPmIcfd5I0aPyFck/V5OTG24S03qxDNUQmsGqG7Xk9gP8F8kyxqnNvKCK/md26vsFsKqECbWbG4TrytrdYeH9GBgzwqHvvmW9Vv3cjsZEeLq1qG4aMD/IOhWoj4qvVpayzUr6SoYTjeBkK0ppwLRHL7ohaFRHoBjUZtRhwlz8zV1CiI3yYhqqlGZwSfGyUd2W1v5xK/B+7CTMeG6rMZ6Jpu0XUx1IM4C5pLkPobqLsI9P977QuRFO4JPyBiEdoh15SzfcXeEn6s1S5DzCTh6NVv7WxO3mjaq8dNy3NygY0yJPU4rqCVNZV1T015lhSuNpitnmM+w9BEiYhMZsSM7SqIZfq3lhlDyIh980SC+yIrUkYK2PGGTsFlmiFi2TxJzqpMvNb9F+HfcovWF3tn1dkdR2g+TNIvZnjQ1PhksYJN0NnP+5cnJeZAyauDoiwP3caxX+ad8CmKYtZEYjhhoNGUlM7jZ41z91LJkWUQSGAvYrDcWek3WNmy2Ndt0jkNqGeLTJX54dGy9rTehfw/aNqqHRUPSCeW4Dwk3htqMNmwcclWNXWUTtAlrO1OzzvPQlSN8cIc1m33aTxH3HLCQO8SjV++IYWbgNhOwmmVADTUteu2QeJf4Y6TTvuor3MVHnXWh1393nX1MrbVuHhIV1Ocx7VHpzx0Yx3SCihjn0IkiaS1jmFhmn8bcsXyd4dUd65dM+/MVl4t8EYO0NMeAYcUcEisy5ZrU29qOwTsC303aelZasLSWTZ+q3SvlWsoBK1lmomtG/IWcfqmYIE1019nEGRqi7ZMc5P4hwpRV+2Kf3WWhKbLklFdufT4tWjr63Jhknw4cO4YQrOm4sJvFwgpZtL43Bdvi7e4vYcjY/a7ab4ZvH6GSqUJZ1eFa0zGkyBzZhcFJMIAiX0TA6Bv56gVJ6UHKy8ZFTy1Bg9X2zWVgex8XH//hnxneoIzwkD94QWeZtPpZW/msn0buOndZNHbbIvjWWjYzhu+EpbyralvKQG0RvkvagDNfIQxB7joj6EJTTtnnoLvMfWjI4d9HVY0jqnFc7a2ojqNqjx1U6J3POt0CoZA6KYG4kRv2wBW1bI9+x5/hsyz04bHIk5MzIWUCeGRLOpqy0T810TOAiglcK6uYCOCKxPYk9OSpB5IPzjkKO06DgzkiJyDUf80e0lm3E/LFThNzRV1N+UiMykvVlEPShF8LjuvMLvae45faac2Ek3qHE+xQ78+J7hdCd3CKPcglNjTc51CUaNbrnCDyAWG+N8SsIzTU/IZGoqCmnIMm20QU+SKC+hj4wkV5veo86Fd+efzOQ8i9eTi0UkhnmLh2WlphdlJ6qOzcGAotacQGm/gcdWadm0oU8JOlFU4HNSKwIV1nGLQZeXekicdYoG6kgw8u+bmECShiMeRypjbrd71ZynxTSoVinOXIPun88w0CkQg5A/ucfXKZu9xbjyfPh4xJnsvZF4qXDlnZqTHQa6FEX0RQnQHu/YnhT2ZfuJpMGsQmrlhGYshQNkITldGJonAh5RHTmV29GQg77voQe2wTlNNwT8BeRHEMteydOqIOwoAzL9Q+qZ/LB4WSMWzL2VjSruPP1JMSeRGLW/Ztp5alRy6EyvFZ5s0+oZA86rbBN5jFR/auRhyrpzNl1IiIjjGhfAcJLWmuBSJ6NoAXATifme+MbZsFKfMO+NI/GXmGPLtZ/YoJVJPtLGbAZtlA2YJUmzA74xRsQu8AN265sXbNc0YSvtvpRRREG6Uhlsv2Mdo4bGe5VVbnOAIPiqZqjj9gqHvKOuWL42sIuhKTAOjfchKASkgb0sHYFJtAzu521vKe/XzL3WHcTeIjYhzRvtGZK+MkQ9e5CATSfwZC7OT3Y9pb2nQjMUSs6BiG5nWO7WNtExgFaI47ZnnnkKBfddF12qEnn34sgL9J2T4LUj73M3t8zWs/M3zHCiacALwjoKpUlEVF4F0FPlLf6yO1nnf6e2Mxk21dN+/1wPWv/Kk5D3F1XPqrHvnFQ7xRQnaX+25ksY2JQDFkXFV1Q8S7XY1K51Q2Tj+jKctcyz5LuW4cj0qaqJlU+k8964j5zUzY1/o7gLqutDOThGOzdWLe8qSfSzuZGeO/fuCJ3uWhZE8+rTg1MZQb1SEfGibsbodaPFjMA8sOtatEpMemWK8JLwHwHLQ556PIgpT3X7bDZx9638H7Sfmicd5ZsgVQ7wiogFrkwzC/AVvuADBcEsgVX9EOxmVjeZtXNibVIcUyqttlalg6muHp1OynypOnqLGg9duBlIz2O/22YIaeH9WodspSrna1JmpteVY13JF/PriWMAE4rmocV7aOGgrhO22v5585uSeArhPQjQYxn+dWZxrL27bA/bN/xxCKoT7DO5zh3YKzj3xgllIGWMrnEdEN4vc1ejq7/jqIrgBwGzP/P0ocBZYHKR8BX7hg2AWzJQrxuyEZVtk7T9TnriEZtEOvLVnAvkCP+P5fbuf9E6SurG7lnOQjtbw+BupjVr+PAD5SA1VYk1FDTOLVPnxg4mtE5+1cX5d8jJ9PhrcZS7HWg17MkPOawMyarLlZzvqcmX1NNW7r24RQbH36yHh3pMh4V9U42u2xqxjHu70VJrcWcT76T+JvQz7tNpajOlqWkERkuJ2bPOm42uOI9try5ObTDAIx7TKW5nnHbj1hHTlGwENilJuBJPqwXfLdo2oI2AwecX9vjmGa8p3MfHloJRG9HcD9PaueDzUhyGOHNC0LUv66Sy7ADS/5ya2bsSq+9nW/aC+QSd8NkYp17chB9dHE6DYbEYbE9KlJP1xRuosOAQcLlBqv+RSaNCs5ob67whljzcLZzlOWr8yUATC7ytaIXVkkpjeHBr10nX3duGqf1utzQsrBLub7cfPpJ2Tf0OyffcibPUdyWPjtjzxig1rny33BzI/xLSeifwngQQCMlXwxgJuI6BHM/MlQeVmQ8tmIM/9wD/+KxoqXcgNaGQFmfWvxq2UtzUhOs3hakqTj8Gt/s+UEtJyB4ndbpthPToe1a3VlI1Uc7ZR1fLxTGvLxTqXaPHZSbgJh6zMWSx1flxYS1/7uEikQjsIA/M69Vz3i2mi9BcA9qljeuwWxsKOPmd8P4KvMbyL6GIDLDyL64sMf+SS+9bt+KXn7d/3RcxZszTr4+JWHPWIQAB74cn3NjCQjybwmJVHXFeq6wskJ4wxxZzbuZlZudPVgiVi2ORMXLQemSHmg0vHRQJdkfbDD6MLk69vutOG6jz40uC4kRfQNPIllkFsNRs7MEFmQcn1M+ML9s2hKwRBUDhEJq50JSqtuiFbkFfHIGwaxWVpMDLQ7rNsNsWunt/KTuHUIgqTNgJcd1c3wapM4/xyqcW61x3G1xznVCY5pj3P15zHtcVydeB1ov/oX3z7wpLYYmzvC57DzpecMha3ZIWvnWmVLIm51Yv3ZDOAxv9PyLG+GlaeDYuZLU7bLggnrI+Cu+6XroQ/9mZcACLyCu58ydWfVTglloi6aGFxTjoR0Cu6Bak+gE/39RP+dAaozrD5P9PcTbr7TnlHt1afJ6WxBR47wjlDrsD3lMCT9h/bzWDsatYORj+xoE2t0oO/8uOfCRKOYJP3CQecm6a8EGQKK7M69T/gapU4cm4JYMqXGgaajNwwh78Q6N/bYVzYgnHF6OzP6EFAEdMKMeq/C8O6mI9xVH3njjU1ZfQiPfOvuG9r25x/6v3vryR0xa3xRZPpykwUp0x4453PDzpBFOJBETPbADuuTRAhdu79bVtuwbn2syXBvJGESc/+Z+mU+DU9ZAPBXP3PYcdCnAc+4/ulJ27latcp/Adw18PaJDds2iY2OtczSxPoKy7v9zPS9eySOacQEFzOA6jzPYxak/JAHXoAbfiMvknroT7+k/SGJ3/xulpGX2GVypM7+BVngFd/wysXrePgfPR8ALCnFJGkyzk4jl5xTnTSyybm7kyY7nQyRc/NtPO/P/2Mnp0ZoRKD5VHmVa2uAh8ynDIxLRD8+t8W5/ZvMDcaag0cGIQtSzhEfeNHZFaI3Bl/7ul+0NOBQwiMjNTTLYDv15FyBEjc+4YWLtn8NPPArPtNZ5suxIX/XIPzj/niQI9GXS1qG2B1Vdat/ayu8/X3SkL0k6hh81nrqcOocRvMReLVh1kNRSLlgNE7DMOWl8Qff/D+3bsIpxEyvnIWUCwoKCjJCIeWCgoKCTFA05YKCgoK8UKIvCgoKCrIBZytf9A6rIaJLiOhPiOhDRPRBIvpxvfwFRHQbEb1P/z1B7PNcIrqFiD5MRI9b8gAKCgoKBoMBnWC7/29lpFjKJwCezcw3EdGXA7iRiN6m172EmV8kNyaihwB4MoCvA/DVAN5ORA9m5j0KCgoKckGe6kW/pczMtzPzTfr75wHcDOCiyC5XAHgtM9/FzH8N4BYAW+TmKygoKAiCmJP+1sagrCBEdCmAhwN4j170LCL6cyK6loi+Ui+7CMAnxG63Ik7iBQUFBesjU/kimZSJ6N4AXg/gJ5j5cwBeBuCfAngYgNsBeCaFi5Z3JRHdQEQ3fPrTnx6ya0FBQcE0MAP7Ou1vZSSRMhEdQxHya5j5DQDAzJ9i5j0z1wB+E61EcRuAS8TuF+tlFpj5Gma+nJkvP//886ccQ0FBQcFwHKqlTGoek1cAuJmZXyyWXyg2+x60sxm+CcCTiehcInoQgMsAvHe+JhcUFBTMgExJOSX64pEAngrg/UT0Pr3seQCeQkQPgwou+RiAHwIAZv4gEb0OwIegIjeeWSIvCgoKsgJDTRKcIXpJmZn/FP4MINdF9nkhgMNP8VVQUHBKwQDnGRNXRvQVFBScfWBs4sRLQSHlgoKCsxOZDrMupFxQUHB2opByQUFBQS7INyFRIeWCgoKzDwygpO4sKCgoyAjFUi4oKCjIBVyiLwoKCgqyAQNc4pQLCgoKMsKhjugrKCgoOJUomnJBQUFBJmAu0RcFBQUFWSFTS3nQzCMFBQUFpwMM3u+T/qaCiH6UiP5CTzz9S33bF0u5oKDg7MNKqTuJ6Nug5i39ema+i4i+qm+fQsoFBQVnJ9YJifsRAFcz810AwMx39O1Q5IuCgoKzDgyAa076A3CemU9U/105oKoHA/gWInoPEf0fIvqGvh2KpVxQUHD2gQclub+TmS8PrSSitwO4v2fV86E49n4AvgnANwB4HRF9DXPYy1hIuaCg4KzEHE48AGDmx4TWEdGPAHiDJuH3ElEN4DwAnw7uEyHs1UBEnwbw8QG7nAfgzoWasxbKMWyPQ28/cHYewwOZ+fwpFRLRm3W9KbiTmR8/sp4fBvDVzPzzRPRgAO8A8ICYpZwFKQ8FEd0Qe504BJRj2B6H3n6gHEPuIKJzAFwL4GEA7gbw08z8x7F9inxRUFBQsBCY+W4A3zdknxJ9UVBQUJARDpWUr9m6ATOgHMP2OPT2A+UYTh0OUlMuKCgoOK04VEu5oKCg4FTi4EiZiB5PRB8moluI6Kqt2zMURHQJEf0JEX1IJyj58a3bNAZEtCOiPyOiP9y6LWNARPclot/TiWJuJqJ/s3WbhoKIflL3oQ8Q0e8Q0T22blMfiOhaIrqDiD4glt2PiN5GRB/Rn1+5ZRu3xkGRMhHtAPw6gO8E8BAATyGih2zbqsE4AfBsZn4I1CifZx7gMQDAjwO4eetGTMBLAbyZmf85gK/HgR0LEV0E4McAXM7MDwWwA/DkbVuVhFcCcGN+rwLwDma+DCqO9+CMrTlxUKQM4BEAbmHmj+pQk9dCZWA6GDDz7cx8k/7+eSgyuGjbVg0DEV0M4LsAvHzrtowBEX0FgG8F8ApAhS0x8z9s2qhxOALwZUR0BOCeAP524/b0gpnfBeDvncVXAHiV/v4qAP9hzTblhkMj5YsAfEL8vhUHRmgSRHQpgIcDeM/GTRmKXwHwHAB5Tt3QjwdBDXP9X1qCeTkR3WvrRg0BM98G4EUA/gbA7QA+y8xv3bZVo3EBM9+uv38SwAVbNmZrHBopnxoQ0b0BvB7ATzDz57ZuTyqI6IkA7mDmG7duywQcAfjXAF7GzA8H8AUc2Cuz1l2vgHrAfDWAexHRoEEKOUIPPz6rQ8IOjZRvA3CJ+H2xXnZQIKJjKEJ+DTO/Yev2DMQjAXw3EX0MSj76diL6rW2bNBi3AriVmc0byu9BkfQh4TEA/pqZP83MZwC8AcC/3bhNY/EpIroQAPRnb87h04xDI+XrAVxGRA/SY8qfDOBNG7dpEIiIoLTMm5n5xVu3ZyiY+bnMfDEzXwp1/v+YmQ/KQmPmTwL4BBH9M73o0QA+tGGTxuBvAHwTEd1T96lH48CclQJvAvA0/f1pAN64YVs2x0HlvmDmEyJ6FoC3QHmbr2XmD27crKF4JICnAng/Eb1PL3seM1+3XZPOSvwogNfoh/tHAfzAxu0ZBGZ+DxH9HoCboCJ6/gwHMDKOiH4HwKOgEsffCuAXAFwNlWf4GVDZIp+0XQu3RxnRV1BQUJARDk2+KCgoKDjVKKRcUFBQkBEKKRcUFBRkhELKBQUFBRmhkHJBQUFBRiikXFBQUJARCikXFBQUZIRCygUFBQUZ4f8DMZUJInlq+CgAAAAASUVORK5CYII=\n",
      "text/plain": [
       "<Figure size 432x288 with 2 Axes>"
      ]
     },
     "metadata": {
      "needs_background": "light"
     },
     "output_type": "display_data"
    }
   ],
   "source": [
    "fig, ax = plt.subplots()\n",
    "plt.imshow(np.log10(exposure_integral._effective_area._eff_area), aspect='auto')\n",
    "plt.colorbar()"
   ]
  },
  {
   "cell_type": "code",
   "execution_count": 73,
   "metadata": {
    "ExecuteTime": {
     "end_time": "2020-08-11T15:12:16.186835Z",
     "start_time": "2020-08-11T15:12:16.180692Z"
    }
   },
   "outputs": [
    {
     "data": {
      "text/plain": [
       "array([-1. , -0.9, -0.8, -0.7, -0.6, -0.5, -0.4, -0.3, -0.2, -0.1,  0. ,\n",
       "        0.1])"
      ]
     },
     "execution_count": 73,
     "metadata": {},
     "output_type": "execute_result"
    }
   ],
   "source": [
    "np.shape(exposure_integral._effective_area._eff_area)\n",
    "exposure_integral._effective_area._cosz_bin_edges"
   ]
  },
  {
   "cell_type": "code",
   "execution_count": 74,
   "metadata": {
    "ExecuteTime": {
     "end_time": "2020-08-11T15:12:16.477122Z",
     "start_time": "2020-08-11T15:12:16.190135Z"
    }
   },
   "outputs": [
    {
     "data": {
      "image/png": "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\n",
      "text/plain": [
       "<Figure size 432x288 with 1 Axes>"
      ]
     },
     "metadata": {
      "needs_background": "light"
     },
     "output_type": "display_data"
    }
   ],
   "source": [
    "fig, ax = plt.subplots()\n",
    "for _ in exposure_integral.integral_grid:\n",
    "    ax.plot(exposure_integral.alpha_grid, _)"
   ]
  },
  {
   "cell_type": "markdown",
   "metadata": {},
   "source": [
    "## Generate Stan code for simulation\n"
   ]
  },
  {
   "cell_type": "code",
   "execution_count": 75,
   "metadata": {
    "ExecuteTime": {
     "end_time": "2020-08-11T15:12:16.489575Z",
     "start_time": "2020-08-11T15:12:16.481014Z"
    }
   },
   "outputs": [],
   "source": [
    "from python.detector_model import NorthernTracksDetectorModel\n",
    "from python.backend.stan_generator import (\n",
    "    StanGenerator, GeneratedQuantitiesContext, DataContext, TransformedDataContext,\n",
    "    FunctionsContext, Include, ForLoopContext, StanFileGenerator, WhileLoopContext, FunctionCall, IfBlockContext,\n",
    "    ElseBlockContext, ElseIfBlockContext)\n",
    "from python.backend.variable_definitions import ForwardVariableDef, ForwardArrayDef\n",
    "from python.backend.expression import StringExpression\n",
    "from python.backend.parameterizations import DistributionMode\n",
    "import logging\n",
    "logging.basicConfig(level=logging.WARN)"
   ]
  },
  {
   "cell_type": "code",
   "execution_count": 76,
   "metadata": {
    "ExecuteTime": {
     "end_time": "2020-08-11T15:12:16.748206Z",
     "start_time": "2020-08-11T15:12:16.492767Z"
    }
   },
   "outputs": [
    {
     "name": "stderr",
     "output_type": "stream",
     "text": [
      "INFO:python.backend.code_generator:Object of type <python.backend.stan_generator.FunctionsContext object at 0x11c89ca50> already on stack\n",
      "INFO:python.backend.code_generator:Object of type <python.backend.stan_generator.FunctionsContext object at 0x11c921190> already on stack\n",
      "INFO:python.backend.code_generator:Object of type <python.backend.stan_generator.DefinitionContext object at 0x11c9212d0> already on stack\n",
      "INFO:python.backend.code_generator:Object of type <python.backend.stan_generator.DefinitionContext object at 0x11c921350> already on stack\n",
      "INFO:python.backend.code_generator:Object of type <python.backend.stan_generator.DefinitionContext object at 0x11c9210d0> already on stack\n",
      "INFO:python.backend.code_generator:Object of type <python.backend.stan_generator.DefinitionContext object at 0x11c921250> already on stack\n",
      "INFO:python.backend.code_generator:Object of type <python.backend.stan_generator.FunctionsContext object at 0x11c921a50> already on stack\n",
      "INFO:python.backend.code_generator:Object of type <python.backend.stan_generator.FunctionsContext object at 0x11c92d050> already on stack\n",
      "INFO:python.backend.code_generator:Object of type <python.backend.stan_generator.FunctionsContext object at 0x11c92db90> already on stack\n",
      "INFO:python.backend.code_generator:Object of type <python.backend.stan_generator.DefinitionContext object at 0x11c92dbd0> already on stack\n",
      "INFO:python.backend.code_generator:Object of type <python.backend.stan_generator.DefinitionContext object at 0x11c92d1d0> already on stack\n",
      "INFO:python.backend.code_generator:Object of type <python.backend.stan_generator.DefinitionContext object at 0x11c92d990> already on stack\n",
      "INFO:python.backend.code_generator:Object of type <python.backend.stan_generator.DefinitionContext object at 0x11c92dd90> already on stack\n",
      "INFO:python.backend.code_generator:Object of type <python.backend.stan_generator.FunctionsContext object at 0x11a508250> already on stack\n",
      "INFO:python.backend.code_generator:Object of type <python.backend.stan_generator.FunctionsContext object at 0x11a508e90> already on stack\n",
      "INFO:python.backend.code_generator:Object of type <python.backend.stan_generator.DefinitionContext object at 0x11c6e3d10> already on stack\n",
      "INFO:python.backend.code_generator:Object of type <python.backend.stan_generator.DefinitionContext object at 0x11c79b950> already on stack\n"
     ]
    }
   ],
   "source": [
    "with StanFileGenerator(\"stan_files/detector_model_test\") as cg:\n",
    "    ntd_rng = NorthernTracksDetectorModel(mode=DistributionMode.RNG)\n",
    "    ntd_pdf = NorthernTracksDetectorModel(mode=DistributionMode.PDF)\n",
    "    cg.generate_files()"
   ]
  },
  {
   "cell_type": "code",
   "execution_count": 91,
   "metadata": {
    "ExecuteTime": {
     "end_time": "2020-08-11T15:21:42.317529Z",
     "start_time": "2020-08-11T15:21:42.110463Z"
    }
   },
   "outputs": [
    {
     "name": "stderr",
     "output_type": "stream",
     "text": [
      "INFO:python.backend.code_generator:Object of type <python.backend.stan_generator.DefinitionContext object at 0x11aef7b10> already on stack\n",
      "INFO:python.backend.code_generator:Object of type <python.backend.stan_generator.DefinitionContext object at 0x11aef7f10> already on stack\n",
      "INFO:python.backend.code_generator:Object of type <python.backend.stan_generator.DefinitionContext object at 0x11aef7f90> already on stack\n",
      "INFO:python.backend.code_generator:Object of type <python.backend.stan_generator.DefinitionContext object at 0x11aef79d0> already on stack\n",
      "INFO:python.backend.code_generator:Object of type <python.backend.stan_generator.DefinitionContext object at 0x11aef7210> already on stack\n",
      "INFO:python.backend.code_generator:Object of type <python.backend.stan_generator.DefinitionContext object at 0x11aef70d0> already on stack\n",
      "INFO:python.backend.code_generator:Object of type <python.backend.stan_generator.DefinitionContext object at 0x11aef74d0> already on stack\n",
      "INFO:python.backend.code_generator:Object of type <python.backend.stan_generator.DefinitionContext object at 0x11c047b10> already on stack\n",
      "INFO:python.backend.code_generator:Object of type <python.backend.stan_generator.DefinitionContext object at 0x11c047a10> already on stack\n",
      "INFO:python.backend.code_generator:Object of type <python.backend.stan_generator.DefinitionContext object at 0x11c0479d0> already on stack\n",
      "INFO:python.backend.code_generator:Object of type <python.backend.stan_generator.DefinitionContext object at 0x11c047d90> already on stack\n",
      "INFO:python.backend.code_generator:Object of type <python.backend.stan_generator.DefinitionContext object at 0x11c047090> already on stack\n",
      "INFO:python.backend.code_generator:Object of type <python.backend.stan_generator.DefinitionContext object at 0x11c047a90> already on stack\n",
      "INFO:python.backend.code_generator:Object of type <python.backend.stan_generator.DefinitionContext object at 0x11c047a50> already on stack\n",
      "INFO:python.backend.code_generator:Object of type <python.backend.stan_generator.DefinitionContext object at 0x11c047dd0> already on stack\n",
      "INFO:python.backend.code_generator:Object of type <python.backend.stan_generator.DefinitionContext object at 0x11c047590> already on stack\n",
      "INFO:python.backend.code_generator:Object of type <python.backend.stan_generator.DefinitionContext object at 0x11c047310> already on stack\n",
      "INFO:python.backend.code_generator:Object of type <python.backend.stan_generator.DefinitionContext object at 0x11c047bd0> already on stack\n",
      "INFO:python.backend.code_generator:Object of type <python.backend.stan_generator.DefinitionContext object at 0x11c0474d0> already on stack\n",
      "INFO:python.backend.code_generator:Object of type <python.backend.stan_generator.FunctionsContext object at 0x11c0f9f90> already on stack\n",
      "INFO:python.backend.code_generator:Object of type <python.backend.stan_generator.FunctionsContext object at 0x11c0f9710> already on stack\n",
      "INFO:python.backend.code_generator:Object of type <python.backend.stan_generator.FunctionsContext object at 0x11ac00110> already on stack\n",
      "INFO:python.backend.code_generator:Object of type <python.backend.stan_generator.DefinitionContext object at 0x11ac009d0> already on stack\n",
      "INFO:python.backend.code_generator:Object of type <python.backend.stan_generator.DefinitionContext object at 0x11ac1c6d0> already on stack\n",
      "INFO:python.backend.code_generator:Object of type <python.backend.stan_generator.DefinitionContext object at 0x11ac1ccd0> already on stack\n",
      "INFO:python.backend.code_generator:Object of type <python.backend.stan_generator.DefinitionContext object at 0x11c0f9fd0> already on stack\n",
      "INFO:python.backend.code_generator:Object of type <python.backend.stan_generator.FunctionsContext object at 0x11c9e89d0> already on stack\n",
      "INFO:python.backend.code_generator:Object of type <python.backend.stan_generator.FunctionsContext object at 0x11c9e88d0> already on stack\n",
      "INFO:python.backend.code_generator:Object of type <python.backend.stan_generator.FunctionsContext object at 0x11b0a8c10> already on stack\n",
      "INFO:python.backend.code_generator:Object of type <python.backend.stan_generator.DefinitionContext object at 0x11ab75790> already on stack\n",
      "INFO:python.backend.code_generator:Object of type <python.backend.stan_generator.DefinitionContext object at 0x11ab75050> already on stack\n",
      "INFO:python.backend.code_generator:Object of type <python.backend.stan_generator.DefinitionContext object at 0x11ab75650> already on stack\n",
      "INFO:python.backend.code_generator:Object of type <python.backend.stan_generator.DefinitionContext object at 0x11b0a8bd0> already on stack\n",
      "INFO:python.backend.code_generator:Object of type <python.backend.stan_generator.FunctionsContext object at 0x11b0a8d90> already on stack\n",
      "INFO:python.backend.code_generator:Object of type <python.backend.stan_generator.FunctionsContext object at 0x11b0a8a10> already on stack\n",
      "INFO:python.backend.code_generator:Object of type <python.backend.stan_generator.DefinitionContext object at 0x11b089d90> already on stack\n",
      "INFO:python.backend.code_generator:Object of type <python.backend.stan_generator.DefinitionContext object at 0x11b089550> already on stack\n",
      "INFO:python.backend.code_generator:Object of type <python.backend.stan_generator.DefinitionContext object at 0x11b089890> already on stack\n",
      "INFO:python.backend.code_generator:Object of type <python.backend.stan_generator.DefinitionContext object at 0x11b0897d0> already on stack\n",
      "INFO:python.backend.code_generator:Object of type <python.backend.stan_generator.DefinitionContext object at 0x11b089b10> already on stack\n",
      "INFO:python.backend.code_generator:Object of type <python.backend.stan_generator.DefinitionContext object at 0x11b0890d0> already on stack\n",
      "INFO:python.backend.code_generator:Object of type <python.backend.stan_generator.DefinitionContext object at 0x11b089f10> already on stack\n",
      "INFO:python.backend.code_generator:Object of type <python.backend.stan_generator.DefinitionContext object at 0x11b089cd0> already on stack\n",
      "INFO:python.backend.code_generator:Object of type <python.backend.stan_generator.DefinitionContext object at 0x11b089f50> already on stack\n",
      "INFO:python.backend.code_generator:Object of type <python.backend.stan_generator.DefinitionContext object at 0x11b089450> already on stack\n",
      "INFO:python.backend.code_generator:Object of type <python.backend.stan_generator.DefinitionContext object at 0x11b089490> already on stack\n",
      "INFO:python.backend.code_generator:Object of type <python.backend.stan_generator.DefinitionContext object at 0x11b089750> already on stack\n",
      "INFO:python.backend.code_generator:Object of type <python.backend.stan_generator.DefinitionContext object at 0x11af64e10> already on stack\n"
     ]
    }
   ],
   "source": [
    "with StanFileGenerator(\"stan_files/sim_code\") as cg:\n",
    "\n",
    "    with FunctionsContext() as fc:\n",
    "        _ = Include(\"utils.stan\")\n",
    "        _ = Include(\"vMF.stan\")\n",
    "        _ = Include(\"interpolation.stan\")\n",
    "        _ = Include(\"sim_functions.stan\")\n",
    "        _ = Include(\"energy_spectrum.stan\")\n",
    "\n",
    "    with DataContext() as dc:\n",
    "\n",
    "        # Sources\n",
    "        Ns = ForwardVariableDef(\"Ns\", \"int\")\n",
    "        Ns_str = [\"[\", Ns, \"]\"]\n",
    "        Ns_1p_str = [\"[\", Ns, \"+1]\"]\n",
    "\n",
    "        varpi = ForwardArrayDef(\"varpi\", \"unit_vector[3]\", Ns_str)\n",
    "        D = ForwardVariableDef(\"D\", \"vector[Ns]\")\n",
    "        redshift = ForwardVariableDef(\"z\", \"vector[Ns+1]\")\n",
    "\n",
    "        # Energies\n",
    "        alpha = ForwardVariableDef(\"alpha\", \"real\")\n",
    "        Emin = ForwardVariableDef(\"Emin\", \"real\")\n",
    "\n",
    "        # Flux\n",
    "        Q = ForwardVariableDef(\"Q\", \"real\")\n",
    "        F0 = ForwardVariableDef(\"F0\", \"real\")\n",
    "\n",
    "        # Precomputed quantities\n",
    "        Ngrid = ForwardVariableDef(\"Ngrid\", \"int\")\n",
    "        Ngrid_str = [\"[\", Ngrid, \"]\"]\n",
    "        alpha_grid = ForwardVariableDef(\"alpha_grid\", \"vector[Ngrid]\")\n",
    "        integral_grid = ForwardArrayDef(\"integral_grid\",\n",
    "                                        \"vector[Ngrid]\", Ns_1p_str)\n",
    "        aeff_max = ForwardVariableDef(\"aeff_max\", \"real\")\n",
    "\n",
    "        # Inputs\n",
    "        T = ForwardVariableDef(\"T\", \"real\")\n",
    "\n",
    "    with TransformedDataContext() as tdc:\n",
    "        F = ForwardVariableDef(\"F\", \"vector[Ns+1]\")\n",
    "        FT = ForwardVariableDef(\"FT\", \"real\")\n",
    "        Fs = ForwardVariableDef(\"Fs\", \"real\")\n",
    "        f = ForwardVariableDef(\"f\", \"real\")\n",
    "        w_exposure = ForwardVariableDef(\"w_exposure\", \"simplex[Ns+1]\")\n",
    "        Nex = ForwardVariableDef(\"Nex\", \"real\")\n",
    "        N = ForwardVariableDef(\"N\", \"int\")\n",
    "        eps = ForwardVariableDef(\"eps\", \"vector[Ns+1]\")\n",
    "\n",
    "        # Mpc_to_m = ForwardVariableDef(\"Mpc_to_m\", \"real\")\n",
    "        # Mpc_to_m << StringExpression(\"3.086e22\")\n",
    "\n",
    "        with ForLoopContext(1, Ns, \"k\") as k:\n",
    "            F[k] << StringExpression([Q, \"/ (4 * pi() * pow(\", \n",
    "                                         D[k], \" * \", 3.086e22, \", 2))\"])\n",
    "            StringExpression([Fs,\" += \", F[k]])\n",
    "        \n",
    "        StringExpression(\"F[Ns+1]\") << F0\n",
    "        \n",
    "        FT << Fs + FT\n",
    "        f << StringExpression([Fs, \"/\", FT])\n",
    "        \n",
    "        eps << StringExpression([\"get_exposure_factor(\", T, \", \", Emin, \", \", alpha, \n",
    "                                 \", \", alpha_grid, \", \", integral_grid, \", \", Ns, \")\"])\n",
    "        Nex << StringExpression([\"get_Nex(\", F, \", \", eps, \")\"])\n",
    "        w_exposure << StringExpression([\"get_exposure_weights(\", F, \", \", \n",
    "                                              eps, \")\"])\n",
    "        N << StringExpression([\"poisson_rng(\", Nex, \")\"])\n",
    "        StringExpression([\"print(\", w_exposure, \")\"])\n",
    "        StringExpression([\"print(\", Ngrid, \")\"])\n",
    "        StringExpression([\"print(\", Nex, \")\"])\n",
    "        StringExpression([\"print(\", N, \")\"])\n",
    "\n",
    "    with GeneratedQuantitiesContext() as gqc:\n",
    "        ntd_rng = NorthernTracksDetectorModel(mode=DistributionMode.RNG)\n",
    "        ntd_pdf = NorthernTracksDetectorModel(mode=DistributionMode.PDF) \n",
    "\n",
    "        N_str = [\"[\", N, \"]\"]\n",
    "        lam = ForwardArrayDef(\"Lambda\", \"int\", N_str)\n",
    "        omega = ForwardVariableDef(\"omega\", \"unit_vector[3]\")\n",
    "\n",
    "        Esrc = ForwardVariableDef(\"Esrc\", \"vector[N]\")\n",
    "        E = ForwardVariableDef(\"E\", \"vector[N]\")\n",
    "        Edet = ForwardVariableDef(\"Edet\", \"vector[N]\")\n",
    "\n",
    "        cosz = ForwardArrayDef(\"cosz\", \"real\", N_str)\n",
    "        Pdet = ForwardArrayDef(\"Pdet\", \"real\", N_str)\n",
    "        accept = ForwardVariableDef(\"accept\", \"int\")\n",
    "        ntrials = ForwardVariableDef(\"ntrials\", \"int\")\n",
    "        prob = ForwardVariableDef(\"prob\", \"simplex[2]\")\n",
    "\n",
    "        event = ForwardArrayDef(\"event\", \"unit_vector[3]\", N_str)\n",
    "        Nex_sim = ForwardVariableDef(\"Nex_sim\", \"real\")\n",
    "\n",
    "        Nex_sim << Nex\n",
    "\n",
    "        with ForLoopContext(1, N, \"i\") as i:\n",
    "\n",
    "            lam[i] << FunctionCall([w_exposure], \"categorical_rng\")\n",
    "\n",
    "            accept << 0\n",
    "            ntrials << 0\n",
    "\n",
    "            with WhileLoopContext([accept != 1]):\n",
    "\n",
    "                with IfBlockContext([StringExpression([lam[i], \"<\", Ns + 1])]):\n",
    "                    omega << varpi[lam[i]]\n",
    "                with ElseIfBlockContext([lam[i] == Ns + 1]):\n",
    "                    omega << FunctionCall([1], \"sphere_rng\")\n",
    "                cosz[i] << StringExpression([\"cos(omega_to_zenith(\", omega, \"))\"])\n",
    "\n",
    "                # Sample energy\n",
    "                Esrc[i] << StringExpression([\"spectrum_rng(\", alpha, \", \", \n",
    "                                             Emin, \" * (1+\", redshift[lam[i]], \") )\"])\n",
    "                E[i] << StringExpression([Esrc[i], \"/ (1+\", redshift[lam[i]], \")\"])\n",
    "\n",
    "\n",
    "                # Test against Aeff\n",
    "                StringExpression([\"if (\", cosz[i], \" >= 0.1) {\\n\", \n",
    "                                  Pdet[i], \" = 0;\\n\",\n",
    "                                 \"}\\n\", \"else {\\n\",\n",
    "                                 Pdet[i], \" = \", ntd_pdf.effective_area(E[i], omega), \n",
    "                                  \" / \", aeff_max, \";\\n\",\n",
    "                                 \"}\"])\n",
    "                prob[1] << Pdet[i]\n",
    "                prob[2] << 1 - Pdet[i]\n",
    "                StringExpression([ntrials, \" += \", 1])\n",
    "                #StringExpression([\"print(\", Pdet[i], \")\"])\n",
    "                StringExpression([\"if (\", ntrials, \" < 10000) {\\n\", \n",
    "                                 accept, \" = categorical_rng(\", prob, \");\\n\", \"}\\n\",\n",
    "                                 \"else {\\n\",\n",
    "                                 accept, \" = 1;\\n\", \n",
    "                                  \"print(\\\"problem component: \\\", \", lam[i], \");\\n\",\n",
    "                                  \"}\"])\n",
    "                #accept << StringExpression([\"categorical_rng(\", prob, \")\"])\n",
    "\n",
    "            # Detection effects\n",
    "            event[i] << ntd_rng.angular_resolution(E[i], omega)\n",
    "            Edet[i] << StringExpression([\"pow(10,\", \n",
    "                                         ntd_rng.energy_resolution(E[i]), \")\"])\n",
    "        \n",
    "        \n",
    "    sim = cg.generate_single_file()"
   ]
  },
  {
   "cell_type": "code",
   "execution_count": 92,
   "metadata": {
    "ExecuteTime": {
     "end_time": "2020-08-11T15:24:31.745053Z",
     "start_time": "2020-08-11T15:21:42.844745Z"
    }
   },
   "outputs": [
    {
     "name": "stdout",
     "output_type": "stream",
     "text": [
      "INFO:pystan:COMPILING THE C++ CODE FOR MODEL sim_af9ba60aa0cd552d3ab998e03bbc2261 NOW.\n"
     ]
    }
   ],
   "source": [
    "# Compile\n",
    "this_dir = os.path.abspath('')\n",
    "include_paths = [os.path.join(this_dir, \n",
    "                              \"../dev/statistical_model/4_tracks_and_cascades/stan/\")]\n",
    "\n",
    "sm = stan_utility.compile_model(filename=cg.filename, include_paths=include_paths, \n",
    "                                model_name=\"sim\")"
   ]
  },
  {
   "cell_type": "markdown",
   "metadata": {},
   "source": [
    "## Simulation"
   ]
  },
  {
   "cell_type": "code",
   "execution_count": 93,
   "metadata": {
    "ExecuteTime": {
     "end_time": "2020-08-11T15:24:31.761013Z",
     "start_time": "2020-08-11T15:24:31.748725Z"
    }
   },
   "outputs": [],
   "source": [
    "from python.joint_model_cascades import luminosity_distance\n",
    "\n",
    "redshift = [source_list.sources[i].redshift for i in range(source_list.N)]\n",
    "lum_dist = [luminosity_distance(_) for _ in redshift]\n",
    "varpi_in = [source_list.sources[i].unit_vector/np.linalg.norm(source_list.sources[i].unit_vector) for i in range(source_list.N-1)]"
   ]
  },
  {
   "cell_type": "code",
   "execution_count": 94,
   "metadata": {
    "ExecuteTime": {
     "end_time": "2020-08-11T15:24:31.773903Z",
     "start_time": "2020-08-11T15:24:31.765174Z"
    }
   },
   "outputs": [],
   "source": [
    "# Inputs \n",
    "inputs = {}\n",
    "inputs['Ns'] = source_list.N-1\n",
    "\n",
    "inputs['z'] = redshift\n",
    "inputs['D'] = lum_dist[:-1]\n",
    "inputs['varpi'] = varpi_in\n",
    "\n",
    "inputs['Ngrid'] = len(exposure_integral.alpha_grid)\n",
    "inputs['alpha_grid'] = exposure_integral.alpha_grid\n",
    "inputs['integral_grid'] = exposure_integral.integral_grid\n",
    "\n",
    "inputs['aeff_max'] = np.max(exposure_integral.effective_area._eff_area)"
   ]
  },
  {
   "cell_type": "code",
   "execution_count": 95,
   "metadata": {
    "ExecuteTime": {
     "end_time": "2020-08-11T15:24:31.784618Z",
     "start_time": "2020-08-11T15:24:31.780427Z"
    }
   },
   "outputs": [],
   "source": [
    "inputs['aeff_max'] = 1e4"
   ]
  },
  {
   "cell_type": "code",
   "execution_count": 96,
   "metadata": {
    "ExecuteTime": {
     "end_time": "2020-08-11T15:24:31.796705Z",
     "start_time": "2020-08-11T15:24:31.788028Z"
    }
   },
   "outputs": [],
   "source": [
    "inputs['alpha'] = 2.0\n",
    "inputs['Emin'] = 1e5 # GeV\n",
    "\n",
    "total_flux = 3.0 # m^-2 yr^-1\n",
    "f = 0.5\n",
    "\n",
    "inputs['T'] = 1 # yr\n",
    "inputs['F0'] = ((1 - f) * total_flux) # m^-2 yr^-1\n",
    "inputs['Q'] = ( (f*total_flux) / (sum([1 / (4*np.pi * (d*3.086e22)**2) \n",
    "                                          for d in inputs['D']])) )  # yr^-1"
   ]
  },
  {
   "cell_type": "code",
   "execution_count": 97,
   "metadata": {
    "ExecuteTime": {
     "end_time": "2020-08-11T15:24:58.843486Z",
     "start_time": "2020-08-11T15:24:31.800077Z"
    }
   },
   "outputs": [],
   "source": [
    "# Simulate\n",
    "simulation = sm.sampling(data=inputs, iter=1, chains=1, \n",
    "                         algorithm=\"Fixed_param\")"
   ]
  },
  {
   "cell_type": "code",
   "execution_count": 98,
   "metadata": {
    "ExecuteTime": {
     "end_time": "2020-08-11T15:24:58.856117Z",
     "start_time": "2020-08-11T15:24:58.846319Z"
    }
   },
   "outputs": [],
   "source": [
    "from astropy.coordinates import SkyCoord\n",
    "from astropy import units as u\n",
    "\n",
    "class Direction():\n",
    "    \"\"\"\n",
    "    Input the unit vector vMF samples and\n",
    "    store x, y, and z and galactic coordinates\n",
    "    of direction in Mpc.\n",
    "    \"\"\"\n",
    "\n",
    "    def __init__(self, unit_vector_3d):\n",
    "        \"\"\"\n",
    "        Input the unit vector samples and\n",
    "        store x, y, and z and galactic coordinates\n",
    "        of direction in Mpc.\n",
    "\n",
    "        :param unit_vector_3d: a 3-dimensional unit vector.\n",
    "        \"\"\"\n",
    "\n",
    "        self.unit_vector = unit_vector_3d\n",
    "        transposed_uv = np.transpose(self.unit_vector)\n",
    "        self.x = transposed_uv[0]\n",
    "        self.y = transposed_uv[1]\n",
    "        self.z = transposed_uv[2]\n",
    "        self.d = SkyCoord(self.x, self.y, self.z,\n",
    "                          unit = 'mpc',\n",
    "                          representation_type = 'cartesian',\n",
    "                          frame = 'icrs')\n",
    "        self.d.representation_type = 'spherical'\n",
    "        self.lons = self.d.galactic.l.wrap_at(360 * u.deg).deg\n",
    "        self.lats = self.d.galactic.b.wrap_at(180 * u.deg).deg"
   ]
  },
  {
   "cell_type": "code",
   "execution_count": 99,
   "metadata": {
    "ExecuteTime": {
     "end_time": "2020-08-11T15:24:58.921570Z",
     "start_time": "2020-08-11T15:24:58.860978Z"
    }
   },
   "outputs": [],
   "source": [
    "# Energies\n",
    "Esrc = simulation.extract(['Esrc'])['Esrc'][0]\n",
    "E = simulation.extract(['E'])['E'][0]\n",
    "Edet_sim = simulation.extract(['Edet'])['Edet'][0]\n",
    "\n",
    "# Arrival directions\n",
    "event = simulation.extract(['event'])['event'][0]\n",
    "event = Direction(event)\n",
    "e_ra = event.d.icrs.ra.rad\n",
    "e_dec = event.d.icrs.dec.rad\n",
    "\n",
    "\n",
    "true_dir = simulation.extract(['omega'])['omega'][0]\n",
    "true_dir = Direction(true_dir)\n",
    "e_t_ra = true_dir.d.icrs.ra.rad\n",
    "e_t_dec = true_dir.d.icrs.dec.rad\n",
    "\n",
    "source = Direction(varpi_in)\n",
    "s_ra = source.d.icrs.ra.rad\n",
    "s_dec = source.d.icrs.dec.rad\n",
    "\n",
    "# event type\n",
    "#event_type = simulation.extract(['event_type'])['event_type'][0]\n",
    "#zenith = simulation.extract(['zenith'])['zenith'][0]"
   ]
  },
  {
   "cell_type": "code",
   "execution_count": 100,
   "metadata": {
    "ExecuteTime": {
     "end_time": "2020-08-11T15:24:58.931449Z",
     "start_time": "2020-08-11T15:24:58.924442Z"
    }
   },
   "outputs": [
    {
     "data": {
      "text/plain": [
       "array([6.43653126e+03, 2.55515702e+04, 7.37122279e+03, 8.22030633e+04,\n",
       "       5.79826590e+04, 2.00887538e+04, 9.02971355e+03, 3.73155677e+03,\n",
       "       2.30671171e+03, 1.75206783e+04, 1.14077858e+04, 4.52141067e+03,\n",
       "       2.67410430e+04, 2.70913328e+04, 5.48529670e+05, 5.28045684e+03,\n",
       "       2.94602676e+03, 7.84610104e+03, 9.98980067e+03, 3.23572777e+04,\n",
       "       4.35144630e+03, 2.46228417e+04, 7.72480185e+02, 2.97771023e+03,\n",
       "       1.76840612e+04, 7.66928408e+04, 7.18112202e+03, 6.02324300e+04,\n",
       "       2.92963956e+04, 2.92842656e+04, 6.19670073e+02, 3.06632093e+04,\n",
       "       7.98967342e+03, 1.52127356e+05, 5.55142185e+03, 2.19155124e+03,\n",
       "       7.32741163e+04, 1.24455555e+03, 2.29218373e+04, 1.84789436e+04,\n",
       "       4.72792065e+03, 2.45716873e+04, 3.94903164e+04, 1.55389636e+04,\n",
       "       6.19723530e+04, 1.85387968e+04, 2.04459526e+03, 4.06920392e+04,\n",
       "       4.07074480e+04, 2.53377799e+04, 2.24024538e+04, 3.10966587e+05,\n",
       "       8.24874405e+04, 1.11487637e+04, 9.14279067e+05, 1.05652930e+04,\n",
       "       1.65155239e+04, 2.99730585e+03, 2.05393516e+04, 5.43732244e+03,\n",
       "       5.07175082e+04, 2.96784105e+05, 1.06005201e+04, 3.10186909e+04,\n",
       "       2.86095627e+03, 7.52754074e+03, 2.43184538e+05, 1.55264692e+04,\n",
       "       1.08843761e+05, 1.97469388e+05, 4.33534945e+03, 2.67509067e+03,\n",
       "       2.79363718e+04, 1.22043582e+05, 1.18387606e+03, 8.34174696e+02,\n",
       "       3.46169347e+04, 2.87833045e+03, 4.97730661e+04, 1.05828041e+04])"
      ]
     },
     "execution_count": 100,
     "metadata": {},
     "output_type": "execute_result"
    }
   ],
   "source": [
    "Edet_sim"
   ]
  },
  {
   "cell_type": "code",
   "execution_count": 101,
   "metadata": {
    "ExecuteTime": {
     "end_time": "2020-08-11T15:25:32.465921Z",
     "start_time": "2020-08-11T15:25:32.454310Z"
    }
   },
   "outputs": [
    {
     "name": "stdout",
     "output_type": "stream",
     "text": [
      "Nsrc:  41\n",
      "Nbg:  39\n",
      "w_bg:  0.4875\n"
     ]
    }
   ],
   "source": [
    "lam = simulation.extract(['Lambda'])['Lambda'][0] - 1\n",
    "Nc = inputs['Ns']\n",
    "label_cmap = plt.cm.get_cmap('plasma', Nc+1)\n",
    "\n",
    "lam = list(lam)\n",
    "Nsrc = sum([lam.count(_) for _ in range(int(Nc))])\n",
    "Nbg = lam.count(Nc)\n",
    "print('Nsrc: ', Nsrc)\n",
    "print('Nbg: ', Nbg)\n",
    "print('w_bg: ', Nbg / (Nbg+Nsrc))"
   ]
  },
  {
   "cell_type": "code",
   "execution_count": 102,
   "metadata": {
    "ExecuteTime": {
     "end_time": "2020-08-11T15:25:32.937143Z",
     "start_time": "2020-08-11T15:25:32.933713Z"
    }
   },
   "outputs": [],
   "source": [
    "import matplotlib.patches as mpatches\n",
    "from matplotlib.collections import PatchCollection\n",
    "from matplotlib.colors import LinearSegmentedColormap"
   ]
  },
  {
   "cell_type": "code",
   "execution_count": 103,
   "metadata": {
    "ExecuteTime": {
     "end_time": "2020-08-11T15:25:36.203472Z",
     "start_time": "2020-08-11T15:25:35.463636Z"
    }
   },
   "outputs": [
    {
     "data": {
      "text/plain": [
       "<matplotlib.lines.Line2D at 0x11a4b4650>"
      ]
     },
     "execution_count": 103,
     "metadata": {},
     "output_type": "execute_result"
    },
    {
     "data": {
<<<<<<< HEAD
      "image/png": "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\n",
=======
      "image/png": "iVBORw0KGgoAAAANSUhEUgAAAlAAAAFACAYAAABz3EJDAAAABHNCSVQICAgIfAhkiAAAAAlwSFlzAAALEgAACxIB0t1+/AAAADh0RVh0U29mdHdhcmUAbWF0cGxvdGxpYiB2ZXJzaW9uMy4yLjIsIGh0dHA6Ly9tYXRwbG90bGliLm9yZy+WH4yJAAAgAElEQVR4nOzdd5hU1fnA8e9779TtdXaXLoqgooDYOxhRiRpNNMbEYDfRhMTYNfrTWGNJTEKiUdEoKtFoNFFsxIZdrDQRURGUtmxn68y95/39MQNSdgWW3Z3d5XyeZx7YKee+A7N33nvOe84RVcWyLMuyLMvafE66A7Asy7Isy+ppbAJlWZZlWZa1hWwCZVmWZVmWtYVsAmVZlmVZlrWFbAJlWZZlWZa1hWwCZVmWZVmWtYVsAmVZW0lEhorIR+vc6kTkPBG5WkSWrnP/+HVec4uIvCciB6czdsuyLKt9xK4DZVkdR0RcYCmwN3AaUK+qt27wnGHAGcBVwH2q+sMuD9SyLMvaKrYHyrI61qHA56q6+Fue4wIGUEC6JCrLsiyrQ9kEyrI61o+Af67z8y9FZLaI3Csi+QCqOg/IAF4H7khDjJZlWdZWskN4ltVBRCQELAN2UdWVIlICVJDsaboWKFPV09MZo2VZltUxbA+UZXWcI4EPVHUlgKquVFVfVQ1wN7BXWqOzLMuyOoxNoCyr45zEOsN3IlK2zmPHAXO7PCLLsiyrU9ghPMvqACKSAXwFDFbV2tR9DwAjSQ7hfQn8TFWXpy1Iy7Isq8PYBMqyLMuyLGsL2SE8y7Isy7KsLWQTKMuyLMuyrC1kEyjLsizLsqwtFEh3AJZlbbtEJAhkp25ZQCbJC7vWbu63PCYkV3df9+a3ct+GtxagHlidujWpLQy1LGsz2CJyy7I2m4iE+SbZyWb95Cc7FArlZmVlFYbD4QLXdfNFJA/INsZk+76fpaph13Udx3Fcx3HcUChEdna25uTkaE5OjmRlZTnBYFAcx8F13bV/pv4ugUAAx3HW/rzmMQBjjPq+r8YY9TxPjTGs+dn3ffV9f81zMMaoMYbGxkZTW1urdXV1unr1amlsbHSMMb4xxvd936iq57pug+u6q0WkzhhTZ4ypSSQSVY2NjVUNDQ1VfJN81bfy9wabkFlW72QTKMvaholIACgByoA+gUCgT2Fh4ZBQKDQY6JdIJIodxwk6juO6ruuEw2GysrI0JyeH3NxcycvLc3Nzc938/PxgXl5eOCcnx83OzmbNLSsra72/RyIRRHrO9n+e51FfX8/q1avX3jb42dTU1MRramoS1dXVXm1trV9bW2tqa2upr6+nsbFRUsmc7/u+7zhObSAQWOZ53uK6urqF9fX1S0iuXr8MWK6qDWl+y5ZlbSabQFlWL9RKYtS3sLBwh1AoNFhV+3qeF3NdNxwOh92ysjLt37+/O2jQoPDAgQMz+/btK2VlZfTp04dYLEYgYEf6O4KqUltby7Jly1i+fDnLli3jq6++al60aFHT4sWLE0uXLpXVq1drIpFIOI5T00aitRxYZhMty0o/m0BZ7ZYanpkMDCe5WOTpwALgEWAQycUjf6iq1ann3wKMAS5Q1RlpCLlXEJEiYDugrK3EKBKJuKWlpdq/f39n0KBBkUGDBmX26dNH+vTpQ1lZmU2MurE1idaaJGvdRGvJkiWJr7/+Wurr6008Hvccx6lxXXeZ7/uLa2trP2toaFhMMtH6Glisqn6a345l9Vo2gbLaTUTuB15T1cmpjXQzgMuBKlX9vYhcCuSr6iUiMgw4A7gKuE9Vf5i+yLu/VK3R9sDQ3Nzc3XJycvbwPG+o4zg5sVhMhg4dulFi1KdPH4qLi21itI3YMNFavnw5S5Ysaf7yyy8bFy5c6H355Zc0Nze3BAKBJZ7nzVq5cuW7qroAWKCqVemO37J6OptAWe0iIjnALJJbl+g69y8ADlHV5am94F5R1aEisgswAbgamKKqJ6Qj7u5EksVAZcDQYDC4UywW20NEdvU8r09WVlZwyJAhOmrUqIxdd901a+jQoQwZMoSsrKx0h231IL7vs3jxYhYsWMDHH38c/+ijj1bPmTPHr6ioMMaYWtd1F9TV1b1XV1c3h2Tv8eeqGk933JbVE9gEymoXERkJ3AV8DIwA3gd+DSxV1bx1nletqvmpv08C9gMuUtWXuj7q9Ejtk7cjMLSwsHBURkbG7olEYodAIJDZt29fRowYEdxtt91ydtppJ3fo0KH06dOnRxVaWz3T6tWr+fTTT1mwYAGzZ8+unzVrVuPChQuloaEhHggElhlj5pSXl8/0PO8TksnVSjuj0LK+YRMoq11EZA/gbWB/VX1HRP4M1AET20qgejsRKQVGRKPRnQsLC/dU1V2MMcW5ubmBnXbaSUaOHJk5fPjw6NChQ9l+++2JRCLpDtmyNqKqLF26lAULFjB//nzvo48+qpszZ463bNkyPM+rDwaDCxsbGz+orKz8iOQF1Hxba2Vti2wCZbVLKll4W1UHpX4+ELgU2IFWhvDSF2nnSBXQ75Gfn39gZmbmoZ7nbd+vXz9nn332CY8YMSJn2LBhMnToUIqKimxvktVrNDU18dlnn7FgwQLmzp3b9O6779bPnTtXE4lEFfDW8uXL/we8S3Io0H65WL2aTaCsdhOR14AzVXWBiFxNchVpgMp1isgLVPXitAXZAVJDcKOysrL2y8/PPyyRSOxcWFgYOuCAA4IHH3xw3p577sn2229vEyVrm1VdXc3777/Pm2++2fTKK6+s/vTTT1VVl3ue92p5efnLwLuqujTdcVpWR7IJlNVuqTqoyUAI+AI4jeS2Gv8CBgBLgBN60oyf1NYiu4bD4b2Li4vHeZ43Kjs7O2Pvvfd2DznkkLy99trL2WmnnexMN8vahOXLl/Pee+/x+uuv18+YMaNx8eLFGggEvmhoaHi5urr6VZJJVY85N1jWhmwCZW2zRMQBhrquu1dpaelhxpi9wuFw7qhRo5wxY8bk7b333oERI0YQDofTHarVhZ599ll+/etfc/7553PaaafZ//8OoqosWrSI9957j1dffbX2tddea1m5cqUXDAY/qampeaG+vv4N4ANVrU93rJa1OWwCZW0TUksGDAT2LC0tPdRxnP0dx4ntvPPOjBkzJnffffcN77777mRnZ6c71B5BVVn4yRe8+vRbjDnqALYfNijdIXWYhQsXMnLkSFpaWujTpw/XX389J510ku117AS+77NgwQJmzpypM2bMqH7zzTf92tra5mAwOKuiomJ6c3Pz28BsVW1Jd6yWtSGbQFm9loiUua77nbKysh95nrf7Djvs4IwZMyZrv/32y9hjjz0oKiraqvZVdZure6quruHZf77Ev+57gk8+mU9AQlx86UVMuOy4dIfWoRYuXMihhx7KqlWriEajDBgwgLvvvps999wz3aH1evF4nNmzZzNz5kzvlVdeqZk5c6YmEolljY2NT9TU1DwFfKSqJt1xWpZNoKxeQ0SygYPKyspOUNUxffv2jRx33HHZRxxxRHTkyJG4rtuudlUVpRKji/H1C3ydi9G5KB4R5xKC7n4d+0a6GVXlkzmfMuVPj/LCsy9R31BPS7yFIYXDufSm33DIT0b3ykRy2bJlHHXUUXzxxRfE43HC4TBnnXUW1157rR3W62LLli3jhRdeME888UTVO++8Y1zX/biiouKR5ubm51V1Ubrjs7ZNNoGyeqxUwfeehYWFx4RCoWOysrKKxo8fHz7qqKNy9t9/f6LRaLvaVfUxLMY3n+LrB/g6B6UJ1KBUAgFE8gjKoYTcH+PI1vVkdVeqygdvz+b26+/lg7c/xPdBjU80mMXxR53EObeeSHZR+/6Ne4rm5mYmTpzIY489hud5BAIBysrKePjhh9ltt93SHd42SVWZP38+zz//fPzf//537WeffZYIBAJvLl++/BFjzMuqWpnuGK1tg02grB4jVcc0LDMz88i8vLwTRGT7Aw880Dn22GMLxo4dK1szJGe0Cl/n4pm38fV9lDhgQAXwgCAiDq7sR9AZgyvDSW7/1/uoKu+/NYtJ19zNrHfn4qiLio9DgINHjOOXt0xg8OiydIfZpR544AHOO+88WlqSpTjhcJjbb7+dE088Mc2RWYlEgpkzZ/L00083PPnkk42VlZV1qvrcypUrnwDeUNXmdMdo9U42gbK6tXXqmE70PG/08OHD3e9///v5hx9+eGDw4MHtblfVYPQzPH0Pz7yOYSkgoA5CAKUFwQEJEpB9CTj748puiPTu1cOXLPqKmy6exBsvvY1LEBWDMcqe2x/AL68/nd0O265XDtdtjoULF/KTn/yEzz77jJaWFkKhELfffjsnnXRSukOz1lFXV8eMGTN48skna1544YVEPB5fmqqfmoatn7I6kE2grG5lTR1Tnz59jjfGjO3Tp0/k2GOPzT7yyCOjo0aNancdEyR7Vgxf4vkv4+nLGOpBDUIEMKjEAcGhhIBzMAEZhSNDEOn9s6+MMTw+ZRq3XPEXmhpacBwHUWG3vntz9m9PZp/jd8ENOOkOM+1832fKlClcfvnl1NXVYYxh9uzZDBkyJN2h9Qpx/1FazFRctsOVnXGdnXFkB4TidifuS5cuXVs/NXPmTOO67ryKiop/2fopa2vZBMpKOxHZMT8//yeRSOSErKysoiOPPHJtHVNGRsZWt6/aRMK8hWf+i89iUAMEAB9IJmSuszMBOYiAMxJHYlt9zJ7mojP+j8cf+S9BjZAbzWOfncZw8vnHsvvRO9rEqRW1tbVMmTKFRYsWcfnll2/1jE4rKeHPpMXcjGolio8j+YAAGbgynICzN67sglDSroRKVfn44495/vnn448//njN559/nnAc5/Vly5bdQ3LbqURHvyer97IJlJUWIrJzYWHhhGAweOKQIUMyzzjjjILx48e7xcXFHXqchD+DZnMbybrSAA55KIorA3Gd0bgyEleGIrJtz6q66YzJvP/yHA46fH++97Ox9BtRuM0O1VnppWrwdQ4JMw1f3wUUNESylzi5Z7FDAQHnEAKyd6qXuH1JfiKR4I033uDBBx+sefbZZxMi8tbSpUvvBF5Q1XhHvSerd7IJlNUlUgXguxYXF5/iOM4Ju+yyS+T0008vPProo52cnJxOO27c/x9xcxeO7JK8gpWdcGT7Xl/LZFm9gdFVJMwMPPMshkpQRcgBDEp9qk4xSlAOJuDsjyPD2j3kbozh7bff5sEHH6x98skn48C7qWRqui1Et1pjEyir06SSpt1LSkpOFZFjR4wYETn99NMLxo8f72RlZaU7PMuyeghVxehCPPMaCX0ZtAFFEbIBQalNJVMRgnIYAXcMDoPa3Yuqqrz33ns8+OCDdU888USLMWbW8uXL/26MeVZVGzv23Vk9lU2grA6VSpr2KikpOR04as899wyddtpphUcccYR0RD2TZVnbtuQM2oV45nUS+hJoI4pJJVNOMpkScBhMyD0JV0YjsnWTTz766CMeeuih+scee6zJ87x5K1asuNP3/Wl2375tm02grK2W2pR3v9LS0tOBI/fbb7/gqaeeWnjYYYcRidihMsuyOoeqj9EFeOYtPH0NQy1gEA2hGMDDkWJCzskEnAO3KpFKHk+ZN28eU6dObXjkkUcaW1paPi0vL78zkUg8qaq1HfKmrB7DJlBWu4nIzrFY7Bci8v1DDjkkdOqppxaMHTuWUKh3LjBpWVb3lVymZAm+mYenb2N0Hqimkqo4QedwooErOvSY8+fP5+GHH2586KGHGpqamuavWLHiD6lhPjubbxtgEyhri4hIYVZW1oSsrKxzd9xxx7yJEycWHH300Y7dG8yyrO5ENY7Rz/H1c4wuJuDsT8AZ2WnHmzVrFnfeeWftf/7znxZVfWbFihWTgA/Vfsn2WjaB6gSS7Cd+D1iqqkeJyNXAWcCq1FMuV9VnUs+9BRgDXKCqM9IR76aISMhxnPGlpaUXZGZmDv35z3+ec/LJJ4djsW1vvSTLsqxv43kezz//PJMmTaqYNWtWfXNz8z01NTX3qOrydMdmdSybQHUCETkf2APIWSeBqlfVWzd43jDgDOAq4D5V/WGXB9uGVDH46LKysonAET/4wQ8iZ599ds6uu+6a7tAsy7J6hOrqah5++OHE3/72t5rq6urFq1at+mMikfiPqjalOzZr69kEqoOJSD/gfuB64PxNJFC7ABOAq4EpqnpCF4e7ERHJzc7OPi0jI+NXo0ePzp44cWLRd77zHQKB3r+diWVZVmdZuHAhd999d/3UqVObfN9/fsWKFb9X1XnpjstqP5tAdTAReQy4EcgGLlwngToVqCM5tHeBqlannj8J2A+4SFVfSkvQyThGlZaWXhYKhcace+65WWeeeWaksLAwXeFYlmX1Sr7v89xzz+lNN91U8dlnn62sqqr6fUtLy2Oq2pLu2KwtYxOoDiQiRwHjVfVcETmEbxKoEqACUOBaoExVT09jqACISDQajZ6Um5t78c4771x46aWXFh166KE4jt37zLIsq7MtXryYSZMm1U+dOrXR9/1/lZeX/0FVv0x3XNbmsQlUBxKRG4GfAh4QAXKAx1X15HWeMwiYpqrD0xFjKoYhJSUlF7uue8ypp56aee6552b27ds3XeFYHUA1jq8f4pv5iMQIOuPavaWFZVldKx6P8/jjj/s333xz1cqVK79YsWLFdanlEPx0x2a1zSZQnWSDHqiyNTMwROQ3wN6q+qMujscJBAJHFxcXX9W/f//+l1xyScExxxzj2Nqmnk01TsK8TMI8hNE6wAcSZAYfxJGidIdnWdYW+vjjj/njH/9YO23atMZEIjG5qqrqT6pale64rI3ZBKqTbJBAPQCMJDmE9yXws66a0ioi0aysrNMzMzMvGT9+fPZll12WN2TIkK44tNWJVBXPvE3c3IGhFtEsRKIYrSDgHEQ0cH66Q7Qsays0NDRw3333xW+55Za65ubmZ1auXPk7Vf0i3XFZ37AJVC8lIkWFhYUXhkKh084666ysX/3qVxm2KLx3UK2n2Z+EZ95CyEIkI3V/LSJRooE/4UhBmqO0LKsjGGN48sknzdVXX11VXl4+e/ny5Zer6jvpjsuyCVSvIyJDSktLr45Go+Muu+yy3J/+9KdBux9d72H0a5q8a1DKQQtIbkMIRqsRCRMN3IArg9Iao2VZnePtt9/mqquuqpwzZ87yVatWXeF53lOqatId17bKJlC9hIjs16dPnxvLysp2vvrqqwvHjx8vdjZd7+KZWTT714EqInlAcihPqcSRGNHANThSmuYoLcvqbF988QU33HBD7bRp0+oaGhpuqq+vv9cuztn1bALVg4mIOI4zLhaL/WH06NGlv/vd7wpHjx6d7rAs1syK+wjPvI8QJuAejCvbt7s938ynyf8taGSdITsPlSpcGUrUvRKRnI4K37KsHqCqqopJkyY13nnnnavj8fjfKysr/6Cqq9Md17bCJlA9kIhIIBD4blFR0a0HH3xw7LrrrsvfYYcd0h2WBaiuJmFeJG4eQ7U+eR/VhN3TCbuntLNNn0bvXFSrEclB1aBUgygh5/uEnJMQCW7wmuTvdXJHHsuyerOmpib+/ve/N//hD3+oa25unlxZWXmzqtamO67eziZQPUgqcTqmsLDw1kMPPbTouuuuy9tuu+3SHZYFqDYTN/8lYR5FSSCajUgE1UYQJSPwt3YXdnvmPZq8KxGKUepBPAIyipB72kb1TkZrSPj/IqEvAnFc2Z9o4MKtfn+WZXV/zc3NTJ48ueX3v/99XUtLy/0VFRXXq2pNuuPqrWwC1QOkEqfxhYWFt40bN6742muvzRs4cGC6w7JSPDOLFv+PGGoQzVvbG6TajMpqIs6VBN092t2+0a9p9m7GUIUrOxNyjsaR4ev1LqkmSJjniJspqMYR8gAPBLKCD23tW7QsqweJx+NMnjw5fsMNN9SmeqR+r6p16Y6rt7EJVDeWqnE6rLi4+M9jxowpufHGG/MHDRqU7rCsFNUEcfNP4uYxRDMQyVrnsTqQBGHnYoLuvp0ah9EKmv3f4+uniOYiEk7dX0nAsT1QlrWtamlp4a677mq56aabapuamv5eVVV1i66pLbC2mk2guikR2aOkpGTy/vvvP+Dmm2/O33779hcgWx0vmbTciK8LES1Yu23KN7Pi8okEfosrnVubZnQFTd4lGF2NkL+2V0rVB6ki6t6E6wzr1Bgsy+rempubuf3221tuvfXW2qamphtramr+qqpeuuPq6WwC1c2IyKDS0tLbBw8evNcdd9xRuNtuu6U7JGsDRstp8i7DaBVCwTpJSxylmoAzkoh7UafPijNaSZN3MUZrcCR/7f3JJK6ckHMc4UDa96y2LKubWL16Ndddd139/fffX1ldXX1ePB7/r9okoN1sAtVNiEheLBa7MTc39/hJkyYVHn744Xb6VDekqjT5F+Obz3CkMHWfj1KNiEvImUDQ+W6nb+Sr2kKjdwFGl61XnK6qqFQQkD2JuJch4nZqHJZl9TxLly7lggsuqHnllVcWr1y58kxVfS/dMfVENoFKMxEJ5efnn5eRkXHBNddck3/KKacEXdd+6XVXCf91mv2bEYoBH6UGBIIylpB7Io6UdEkccf8xWswUHGJr70smT6twZQhR99q160VZlmW1Zvbs2ZxzzjmVX3zxxcwVK1acq6pfpjumnsQmUGkiIhKNRk/Mycm55ec//3nBxRdfnJGRYb/wuru4/ywt/l9BwghCQMYScn/Q5SuANyQmolq5zqKajSj1BJx9iLi/QSTapfFYltVzTZ8+XSdOnFhZU1Pz7/Ly8stUtTrdMfUENoFKAxHZLRaLPXTkkUf2u+mmm/JKSrqm18Laesn6omqUWhz6rJ3x1tXqEyeAGiCAShNCNmHnFwScfe3imZZlbTHf95kyZUriyiuvrK6vr7+2trb2drvP3rezCVQXEpHsWCz2x9LS0uOmTJlSOGLEiHSHZPVQCf9FEjoDtJmAsy9B57D1llGwLMtqj/r6ei6//PK6Rx55ZGl5eflPVPXDdMfUXdkEqgukhut+lJub+8ff/e53BWeeeWbIbvRrWZZldVdz585lwoQJlUuXLn2qvLz8PLs1zMZsAtXJRGRISUnJQ2PHjh3yl7/8Ja+oqCjdIVmWZVnWJqkq//jHP+JXXHFFVW1t7UWNjY0P2WUPvmETqE4iItGioqJrCwoKTr3vvvsK9923c1ejtizL2pTk2omNQBYithfc2jxVVVWcd955tdOnT/9s5cqVP1HVBemOqTuwCVQnCIVC38nPz//HRRddVHTeeedFAoHOXRPIsixrU1r8fxL3p4I4CNmEnOMIOkcjEkp3aFYP8c4773DqqadWVlVVTUnN1mtJd0zpZBOoDiQiWSUlJX8fOnTo+KlTp+b37ds33SFZ2wjT0gICEgzZWXhWqxoSZ6PagEgU1RZUanEoIez+koBjJ7RYm8f3fW655Zam2267bVl5efnxqvpRumNKF5tAdZBAIHBQUVHRQ9dcc03srLPOCtkvMasreJWrqPnf0yz68AOCrkNBYQF9Tvk5gaLYpl9sbVOSa4dVIJK59j7V1ag0EXJOIOScbJNva7PNnz+fH/7wh1UrVqyYXFFRcYWqJtIdU1ezCdRWEpFoLBabNHjw4OMeeeSRggEDBqQ7JGsboMbQ8O6bTLtjEg+9/T6N8TgiDjnRMLfddBMDv3vsFrXX3NzMtMef5fl/vYTrBxk9fC9+fMFxZBalZ50rq+O1+A+SMI+mVtH/hqqHUknI+R7hwJlpis7qiTzP4/rrr2+8/fbbvy4vL/++qs5Ld0xdySZQW0FE9onFYo9cccUVsV/+8pcRe/VmdQX1PD6//04m3XsfH329nKLMKNFQCFRZXreaS06dwLirrt/s9pYsWcIpx5/Bxx8uQH1QFBHhF3v9H//35hm2V6KXMFpFo/cLUNbrhYI1+zlWEHEvIOgekp4ArR7FaBUJ/7/4Op+P5xYx4SeTq1atqv5rRUXFNarqpzu+rmCnYbSDiIRjsdhfd99996ffeuutARMnTrTJk9Vl5t93JxfechsfLy+nX15OMnkCEME3SmVz82a39eabb3LoXkcw//1PiZossgI5ZAdyAeW1OS9S/nFd57wJq8s5UkDEvRCVBjb8fhNxEfJoMX/B18VpitDqSYwuosU8gNEvGbrL67z+3tCCM88aeWlpafEcERma7vi6QrdOoEQkIiIzRWSWiMwTkd+l7i8Qkf+JyMLUn/nrvOYWEXlPRA7upJiGxGKxORdffPHp7777bsHgwYM74zCW1arq2R9w1W1/psX3KMnJ2qh3yHGEASN336y2Pv/8c075wRk0lseJOtk47jeng5ATZlnzIlbOqenQ+K30CjijCckxKBVsuEuHSBhVJe4/lKborJ7ElV0JOKNR4jgSIxQo5vKrs0KP/nennYbtVPJeXl7uz9IdY2fr1gkU0AKMVdURwEjgCBHZB7gUeFFVhwAvpn5GRIalXncQ8IuODiY7O/sngwYNevO5554bcuGFF0btauJWVzLxFu658nIqGpoozMzc6PG6pmaKcnPZ46jvbVZ7V192DXXlDYTcCBt2oHqaINcpIpQT7IjQrW4k5J5G0DkilUQ1rfeYkIu/7U6qsraASIiI+1scyUe1FhEHRwoZOXJ7Xn5jr6wjjyqcNHBg7BnZcLy4F+nWGYAm1ad+DKZuCnwPuD91//3AmopZFzCp53TYmJqIREpKSh466KCD/jpr1qyiUaNGdVTTlrXZPnlmGk/PmkdJzsZ73qnxqWtp4ZfnX0A4c9N74i1cuJBXnn+NiGZtlDxB8hdo1+j+bD/WzubrbURcwu65RNwLQDyMVqwzpGfo5l8LVjfiSB6RwFUgLmt2ehFxyM6Kcfe9BwUvvbLfEQMH5n8uIrukOdRO0e1/U0TEFZGPgHLgf6r6DlCiqssBUn/GUn+fB2QArwN3dNDxh8RisdlXXnnl96dNm5aXk5PTEc1a1hZ76cn/4AgENuz5VMOK1Y2M3mkYB/xkwma19fCDj9BSn1hv2G6NuLYQ0QzGfvdAghG7CGxvJCIE3YPJCPydgHMQSC1KJUo1QeeIdIdn9SCuDCIauAmRCEarWDMxTSTAhFN2l6s0g+kAACAASURBVEf/s0fJLsML3y0qyjknvZF2vG5/dkxV848UkTzgCREZvonnT+yoY2dnZ588aNCg2x5//HHb62SlXXV19frJkyq+77OisYnt+/bhqsn/wHHdzWpr3vsLcNTdqPfJV4+4aWZ89HQOvXLXDoze6o4cyScaOB/Vn6M0ImQA0XSHZfUwrgwkGvgDzf4N+PoFaCEiyXPRzrsM4MVXC6O/mfj2XwYNin1v8eJVP1DVhjSH3CG6fQ/UGqpaA7wCHAGsFJEygNSf5R15LBEJl5aWTj3ooIMm2SE7q7vYecRIGj0f3/NQ41Pd1MTypmaOOvAA/vLYE+T07b/Zbe2x216o47PuKiZxbaHJNLBv6CjOuu4kinfK7YR3YXVHIhk4UoRIhl22wmoXR2JE3ZsJypr6um92ecnKyuSue8cELrmi37gBAwo+E5Gd0xhqh+nW60CJSDGQUNUaEYkC04GbgIOBSlX9vYhcChSo6sUddMxYcXHxC5dddtkO5513XtSeTKzuomLebK6d+As+Wb6SuO+zY0kxPz3lVPY/7UzE3bLO5KVLlrPv0INobGlAcHDEwSXI+KzTOPcvP2b3U+zsUsuytpyqkjAvETd/A3URyV3vsfkfL+InJ86p//qr1Sc1NjZPS2OoW627J1C7kSwSd0n2lv1LVa8RkULgX8AAYAlwgqpWdcDxdi0pKXl2ypQpZePGjesxvXPWtsOvq8HU1WG8BMHSPjiR9g+3TL/zTe675lGaWpqIksmeO+7PDycdQt/RBR0YsWVZ2yJfv6DZuwXDUkQLEEle5KkqFVVLOekHnzcsXFB9Q2Vl5Y3anRORb9GtE6iulJWV9b1YLDb5mWeeKRo2bNimX2BZvUDL6gTxBg8UskojdvjGsqwOo9pC3PyLhHkcVUXIR8RF1aclsYrzfk799OnvPlNeXv5TVY2nO94ttc0nUCIiRUVFvx08ePD5zz77bH5Bgb36tizLsqyOYrScuD+VhL4C6iDkAg1APnf8eYfGW265ZcGqVasOU9XKNIe6RbbpBEpEQrFYbOq4ceO+c++99+YGg3bRQMuyLMvqDEaX0OJPxTMzAZ+AcxDRwAU8/fTT/umnn76svLz8cFWdn+44N9c2m0CJSH5xcfFLl1566dDf/OY3tljcsizLsrpAcoaeITk3LGnevHmMHz++YuXKlSc3Nzc/n77oNt82mUCJSGlxcfFrkydPHnTMMcd0+7WwLMuyLKu3W7VqFWPGjKlasmTJuXV1dY+kO55N2eYSKBEZVFJSMuPhhx/ud8ghh3SrmXaqiuFLVFfhSB+EvraodxvT2NiIMYZgMEg4HE53OJa1HlXF6HyUapQErgzDkdJ0h2X1IrW1tRx66KHVn3/++WXV1dV3pjueb7NNJVAislNpaemLTz31VNkee+yR7nDWUlV8nUWLfyeGFQigJAg7vyHkHpru8KwuUFFRwSuvvMKSJUsQEVSVvfbaiwMOOCDdoVnWWi3+I8TNQyRXlkl+dwTkACLu2YjYba6sjtHU1MSRRx5ZPW/evFtWrVp1Y7rjacs2M3wlIqP79u37zPTp02M779x9FkE1+hUt/mQ88xFCGEcKAVDKgaZvf7HV46kqc+bM4cUXXyQajdKvXz9EBN/3eeeddxg+fDh5eXnpDtOyAPDMC4hmr61dUTX4vE6D9yER93wCzug0R2j1BtFolOnTp+cff/zxF8disYJVq1Zd3B3XiupWQ1idJRwOHzxw4MDnXnvttW6TPKkqcX8ajd6v8MwchKK1V3CqBsEh4Oyf5iitzqSqvPTSSzz//PPEYjEKCwvXDtm6rovjOCxatCjNUVpWkmoDRlcCkbX3iTgIRaCGZv93JPxX0xeg1auEQiGeeOKJvCOOOOLs4uLie0Sk2+Ur3S6gjpaRkTF+4MCB/37rrbeKtttuu3SHA4CqR7N/Gy3+naDZOFKwXq2TUo0re+JIfhqjtDrb7Nmz+eCDDxgwYAChUGijxx3HwfO8NERmWa3JQCQCbPyZFMkEzaXZ3IavNum3Oobrutx///05P/rRj46PxWKPdbckqlsF09FCodAh/fr1e+Ctt94qLCsrS3c4QLJ3qdn/C56+jFCMSGiDxxsRCRJ2z05ThFZXiMfjvPHGG5SVleE4rf8aep5Haakt0LW6BxEhKONAatt4PAwqtPh30g1HW6weSkT485//nD1hwoTDYrHYA9KNZlb12gRKRPbq27fvYzNmzCgoLCxMdzhAcsimxb8Tz7yMaDEbJtOqLag0EnYuwZHiNEVpdYVPPvmEpqamNmfa1dfXU1BQQN++fbs4MstqW9A9Hgigmmj1cSEf33yMr+91bWBWryYi3HzzzVnHHnvs0cXFxX/rLklUr0ygRGTXfv36TXvllVe6Tc8TQNw8SsI8k6p32jB5SqBSS8S5gKBrCzF7uzlz5tDWtkGqSkVFBfvss0+bvVOWlQ6O5BF0TkCparWXKfm9FiRhXu764KxeTUS44447sseOHfvj4uLi69MdD/TCWXgiMqRPnz7TX3zxxeKBAwemO5y1fP2CuJmKUIiIu95jqgmUKsLOzwi6B6YpQqsrtdX7pKp8/fXXDB06lKFDh6YhsrZ58SUsnPtHvvz8fRxHiGYUMGrvC8gu6N2f2WSioIABnI0ufrY1IecHGP0UT2eCFm10PhNclJo0RWf1Zo7j8NBDD+Uec8wx5xQVFdVWVFTclM54etU6UCLSv7S09K3nnnuu74gRI9IdznqavBvwzHs4sn6vg2oTyGpCzpkEnaPtwpkdJNGU4MM/zeLFe19mQcUnKJBXkMdJl/2Qfc7cO93h8c477/DWW2+tN0QXj8dZtmwZu+66K2PGjOlWC2k21LzG/XedzvuzKnBSH1HfGIoKQlzy23soLDsmvQF2Et/Mp9n/K0aXACCSTcg5nqBz7DadSKnGifsPEtf/IJqBSNbaxwyrCDtnEnKPTmOEVm8Wj8c57LDDaubOnXtZZWXl39MVR69JoEQkFovFZv73v/8duM8++6Q7nPWoejR4J4FmIhJI3WdQKhGJEnYuIOjumeYoe4/lb63gP2c+xdNfTmNxYhEODoiDrwlyg3k8/Mw/6X9wv7TGWFtby9SpU2lsbFy7cGYgEGDs2LEMHz68WyXSNeX/5Y6/TOTzRasZ0C+wXmzLVsTZeWgOv7joA5xAURqj7HhGV9DonQfqAzmp/6cWlBqCzncIu79Y+/u8rfLMLFr821CtBRFUwZEcooFbbB2n1amampo46KADqxcs+OQXdXX1/0xHDL3it19EIsXFxS8+8MAD/btb8gSgrEBpQchODQfUodJCQA4h4p6BSG66Q+wVVJWZ177PY395nBdXT8dXQ75TiKzpMlGo9qv44IkP055A5ebmMmHCBJYvX47v+ziOQ9++fcnIyEhrXBtSfxX/evBSvlhcx8D+a2aMfpNAlZUEmTWvlk/n3MiwUX/o8OP7+gWePyP1++PgOnvgyqhOTzBVlWbvRlTj6/UaJ2eaFZPQF8CHSODXnRpHdxdwRuDKPRj9FKUJIYIjA9brkbKsjqbagAav47/PleYfeehX94jIF6r6TlfH0eMTKEl2PT3829/+dodx48Z1yz51oQxXhuPrPEBxZUdC7k8JON1rmLGnm3nD+zzy50eZvvpZsp1sQm4rQ2AKn374WdcH14rMzEx22GGHdIfxrZYveYZ3P1hJvz7B1D3rJy7JhRSFihVvdPix4/4ztJg7UzuGOIAiZhoBZzxh92edmkQpSzEsWbszwLpEHNBiPF7C16NxZXCnxdGdqCpKNRAHQChBRBBxcWWndrVpdCUt/r0YXQG04MoIQu53cWRAxwVu9TpGF+ObueRkF/PPR/eNHnPkjP+JyM6q+nVXxtHjE6iioqL/Gz9+/Jhf/epXkU0/Oz1EXDICN6DqAU2IZHfasVSbAHej9aW6SvL4DhDq0mGo8g9XMeP213ih/nlynByCzsbvX1VBlAHD+ndZXD3dsiWvIqI4jrBh8rSG40BOVrDVx9or7v+PFnMHovnrfZZVfRLmaRwpIuQe36HHXJdqA6jT1ltGxMGo4ptPcN3en0CpttDs34yn7yIEAINQStg9Z6suBJu9m/D1c4RMQEjo83g6nZBzSqom1N1kG9a2x5FBiARBYeCgIu6YfED22ae9/paIDFXVxq6Ko0cnUFlZWd8bPnz4r++6664esYtlsl6ic5InX78k7j+AZz4AfETyiLpX4Do7dsrxWj/+lNTxDSIBQs5ZhNwjO/3Yqsrrl7zFjJqXcHFaTZ7EMTS5dZRE8hlzfh6q3jZfv7I5vlw0F8f5tjpJRYHC4o6b8apaS7yV5AmSFyNoIXHzIAFn7EaTMtp3vHo8fYvkeVeTJ2dKQMwmXulitpFVtxPmDTzz7tolWNb0RjX7VxLUEwk5J27x75PRCnw+T7WZzFSFKKpxWvx78HQmUfdyOxxobUQkA1dG4ussIJ/99i/hkt+O6HPTDXOni8iBXbVvXo/9BhGR4YMGDZr89NNP5weDHXv125OoJoibJ4ibqaAOQh7goFpB3DxJ1Lmwk4/vrXN8QShInWBbiJvJBJ0jOr0nasn0r5g1axaLE4spcNYfchFRgtnNSDBBbX0jZ19cSnS7STT7bxANXNWpcfUGwVAYo9BWV0xNnU+sMEhRScfNbPT0IxSD00YvqkgAg2B0Po5s3X6RRr+m0bsEZTVoMmESXBzZGaOKQ9uJthBAqdqq4/cUCfMoQsbamYfJ3+lsVKPEzSMYXUTEvWyLeoyMfg3qbnR+EAmBxjA6j2b/RiLu1cneBqvb8DyP+vp6EokEoVCIzMxMAoGuTSeCzuF45j1QRUT46Sk7OPPm1O711JP8CeiS4sRuWTO0KSJSVFJS8uwzzzxT1F1WGU8Ho5U0eRcSNw8impvaU2/NCSmAtDX+0EFU62jyLyFuHkA0J3X8NSfYMIoHrO7A4xl8M5+EeQ3PvIvRZQAsmraYT5sXEJDANwXjgBP0CBU04IQ9quqbGRwr5jtnFCMU4ekHqboL69sM2/VEfB8S3sa9MfUNPrV1hhO/P5hg1hEdeNSGtcnMt9u6i0yjNTR5V4G24BDDkVIcKQWK8PkYQTGsanNbEpVmXBnearu+mYdv5uCbT3vFtiZKBRDd6H6RAKLFeOYdEuY/W9SmI8WImLYX5NQiPDOHhHmpvWFvNdUWEuYZWvwHaPHuwjPvp0oxtm3V1dXU1NSQSCSoqanh66+/ZvXq1V36WXdlL1xn6Hprjl1/06jgDjtkn11UlHVyV8TQ43qgRMSJxWJP3XPPPWU77dS+wsXewGgFTd5lGK1M7am3YbLkI500XAjJWqcm/yp8s6jV4yfrjUDxOiSN8/Uzmr1bUV2JiiKp3D/iXoUf96n363HX+Tg7QY9QXhPGQNXqJrIiYa6e3J9QdvJKVlF8nZX6wrTasuPwc/nu4ffy5DOf0b9viFBQMKpUVnnE48LEs4ew04if4wSHdNgxTWoobdO2rj4m4T+C0VU4Elvv/jVf3sryZL2PVKBatN5nXLUGR8oIOuPWe23cf4G4uSP1RSKAjyMxIoHLcWXQVsWbTg59MSyntRKE5L9XPnHzKEHnqORMxc0g9MGRHTH6BZDXRrvZJMxDBJ0xaanrbPZvw9NXQVM9YOZpXBlEJHAhjmzbtZTBYHDtzRhDZWUlTU1NFBQUdElvlIgQcSfSqL9BtRmRCK7r8MDDB0bGHvjc30XkXVVd0Jkx9LgeqIKCgktOOOGEXb773e9us9WFqj7N/i2pk39B68kLSsA5oNNiiJtHUsWfhW0M0TXg0Hera1RUfeL+YzR6F6JaiUghDkUIBagKCfM02x01iMHh7UloC5CsdwrlNpFIGMpX1zOgOJc//3Mog/dZd4mAZC+d9e1EhKN++BRHHT6QyiqfxV8l+Gqpx4B+mZz/y+HsMuoC3OxTO/SYrpR961CQqgEMjmxd3ZWnbyO0Xj4pIggxwEEYhlKB0RXJG+UgQaKBKxHJXPsa3yygxfwVNANHCnAkH0eKUK2mybsE38zbqnjTKeAchUpzm48nk5um5Orkm0lECDknAYk2ey5EohhqSZiOn+W5KaqKrx8iGsOR4mSPGUX4+jWN3q+J+9N6Re9ie4RCIYz5ppfYcRwyMzNpaWlhxYoVJBKt75XY0RwZQNiZiFKbOi9ATk6Ie+7bL3PAwILp0slZd4/6BhGRkcOGDbvgD3/4Q+d1rfQACfMMvvk4dYLfmFKN6+yC086pxZtidAlx8wSiGydvsCaBayTsnr9Vx0luvvxXEuaFVG3V+nUQQja+fkDZ/r9mtx13480P36DKq8QJeTh1PiIux31nML+8o5hoXmCddg2I4MqwrYpvWxGK9OEHE17ge99/DJP4AlUfJ1BIIOMonPDIDj+eK7sjFGO0GkfW75lQVVQqCMjBONJns9pTE0crHoWq52hsqEue+CPbw/YNOIG2e0tEAigQdS/G8BVGvwQEkSgB2QeRb5IvVaXZvxnR0EY9MCK5qDbQ5P8fGTJps+PuToLO3sTN7agm2q5H0iCemUHQ2fytfVwZieMMwTfJi7HW23Uw+jEwZssD3wpKNUozzjqzppOJdX6q0P1OlDrC7o+7NK7uIBwO4/v+RvdHIhHi8TgrV66krKwM1+38fo6AczBBnUVCX0JILt46YlQRPztnWN+77/z0TuC0Tjt2ZzXc0UQkIxaLPfHEE08UdqctLrqa0WXEzX0I+W0kL/G1XZudVbzd7N+VKv5s/eOTTOCG48rWra6eME+lkqfib902I5KfwYQXfszoZ0fy2mMvEuj/PIFglAOOz2bArq3sN0cNARmNI31bac1qjbgxgrnnds2xJEo0cA2N3oWpIeo1C836qFQTkL2IuBM3qy1VH132Z5pWvso7Hy3l62VVyRXFmY1bFmf0Af3oP7jtafiCg0o9ARkJtJ0sJhfLrUJaWTcq+Z4yMdpMi/9PooELNiv27iS5hc0EWvx7Wt3/LvUslLZ7qVpvV4i4l9GkF2C0oo0ebbNeT9+38c0nGL5CtRlH8pPJuLRvcVohJzlRQP2N9/uTUHI2qP8wDoMJut1vAefOFA6HCQaDeJ630XBdKBSiubmZyspKYrHWL/I7kogQds/G9xZgdMXaUY+J5w1z//f80h+FQu7UeNz/X2ccu8ckULFY7O7f/e53ZcOGbdu9Bgl/GqpeqzOUktvDVBN2zsCRsk45vmodRue2ebWYHIuGsHv2ViVwqg3EzUMIeW0mT0odgdSq1MHMICOPH8Eu36+l2X8Vh9a3FVH1QXxCTuetIWRtPUfKyAjcSIt/P77OBUAIE3ROJuQct9n1MFr+IPGK13l15tdUV9dQWhxd+3la7dTxyouLOchzGbjjLmw40zDZ2+Wn1ijalE1faQtZGJ29WXF3R0HnGIyuIGGeBs3buNZJ4gRk7Ba360gh0cBttPh/xDMfwTrLVyR7i5O9DJuS8F+lxdwKCKomlfRECTvnt2urLJEAruyHp68hrZxPRAKgmcTNnQScUZtd+9UbiAhFRUUsX74c1914JmUkEqGhoYH6+nqysjZvGQpVj4SZjtHPEUIE3HG4st1mxhMlGriWJu9ijFYh5OM4wuT79ot85+Dn/yUiQ1S1Yovf6Cb0iBqozMzM748cOfLIn/3sZ9vOJ7QNnr7eat3G2qENZx+CzlGddnylFkXa6P1qAFlN2LlwqwtmE+Y5lOY2T0rJInWfkPPDDe5fndq7rLXXGFQqCMqROHb4rttzZADRwJVkBR8hK/gImcEphN0fbfYXlfoNUPU0785ZRWVVNcWF0fWS8Sw/k+KiAK/N+JLypYs3fj2VBGQ3HNn0Hn/Jmjyztg6jdSGMVqcWm+15RBwigZ8TcS8AacToKlTrUK3F6CqEIoLtrLt0JJ+IezVh9xSQZlSrUKpQqSQo43AYtMk2EubfoBkIxThSkkx6VGg219Li3YVqfIvjCrs/Se2B2PrMO5FMDFUkzHNb3HZPFw6HycvLo6mp9c9zNBqlsrISz9u8WYuevkmLP4mEeYm4eZZG7ze0+A8nL3o3QzIRvxFX+qKyClVDaVkGt9y2R+4OQwqfl04Ykun2PVAiUtK3b987pk6dmt9R7181nsxyJTe1iFt6Vu1un9aH7ZLDUnsRcS/s1AUihTJQQfmmWzu5qF5yY+SI+38EnNFbfZyEeRLR7DZXglZqcGUYjqy/UKjrDEdMcqG/9WdNpTaBlXGE3TO6dJV0K00Sq2hu9vlySTklBRE22obGd8mqz6IpazXz5iyiuE9/RNy1n2dHioi4F23WoZK9Ff0xuopvXSxXJLVn3MZLAvQUQfcQXGdHEuYFfP0MIYRDjKD7g606l4q4hNzjCTpHY/iK5FIsGRvNkmyN0VX4fLlRT5FIBmiYOE9h/Goi7sVb9LvvSCkBOZyEPtNmzaloNgnzb0Lu9za73d4iJyeHhoYGEokEG67H6DjJi5WGhgZyczdnv9cmREJrRzdUPeL+QxidR8S9aL2aw7Y4EiMauJVm/294+jJoLkd+t7889+yiXevqvF8Bf97S9/itx9vSF4jIvSJSLiJz17nvahFZKiIfpW7j13nsFhF5T0Q23QfbitLS0rtvv/32wo5a7ynhv0qDdypN3uU0er+g0b+gR63rkVwoM1lnoGowWp3s9XHPJuL+ttO7kUUCBJy9U7OSVmJ0ZfJK3dmFjMBfOyR5Uk1gtApoq/epKTVM+PONToYOA3Bkx9QVSM3aq2OkkYh7PmH3l3ZRvm2FuMQ9A+ohTutDbE48QH5zlOpVirIyue4Tq3CdnYkGrtmsk/YaIfdklEZU25qBtBqHGEJ+O95M9+JIH8LuBDIC1xANXEE4cHar+wa2h0gYV3bAlUGblTylXgVt9IyLuKm1ql4nYZ7f4njC7o9xpDR1Tmr1GRitQbV+i9vu6RzHIRaL4Xleqz1NkUiEurq6zWpLyEHXGQoXCSDE8MycVD1kzbe8ep12JEzE/Q1h91wQg1LB9TftGIxGMq8U2ewP1GZpT1fFfcBfgSkb3H+bqt667h0ia8dJDkq9bsYWBRcIHHzggQfuf8wxx2x1Kb9qgrh/H3HzZLI4UApR1WTBISsQ+m3tIbpEyD2NZv86lFUg4Mpwwu4ZXbqhacQ9H8/ZJ9l9TxMB2RVHhnVgr04AR/qjWg0b1J8YrU4WDTqXtjo+LiJE3auIm8dTC2U24ciOBJ0xds2nbY2EENYMqa1Zl2ljQd+BmgIyzc1IeADJvSQ3r2h5Xa7sTdg9jRb/H+vV8UCql1jiRN0LbO9nJxDycchPXVy1tuCnA5pDwvyToPOdLeqlF8khGriaJu//kuddLdygLjOR+rxs+WemNwgGg5SUlFBeXo7neUQi32xLKyLrLXfwbUSKAV1v9CA567EIo6to9q8l6t6wWZ0EIkLIPZKgMxalmszcIm677am8c8455y7g2Pa8z9ZscQKlqq+KyKDNfLoLGL7t7NUGEQnGYrH77r333q3e7Eq1kSb/Wnydlxqyc9ccIxVWzymtCjgjyZRHgSbA26Ir5I4iEiTYvg7FzWxfCDpH0uLfARog2VHqobIaR/oRDVyOI20nvCJZhN0JnRaf1UMEYwQz+oLORo1poxfKx5CBIwKauVW/T8mT9veBbOLm7yirk/WCKIgQdn6B69jau84g4hJ0jqPF3NPm8KhINLn/nr5LQPbdovYd6UNG4M+poaHXQDNJrsyenLgTkEO26cQ4HA5TVlZGRUUFDQ0NZGRkbPG/h8P2ySSYJmD9mZNCAb4uJG6eIOz+aLPbFAkjJC+cjz32WPdPf/rTgam98l7bouDajLnj/FJEZqeG+PIBVHUeyX+J14E7tqSxwsLCy84555zYdtttXhV+W5KLTt6aTJ60eL3pqMlaB4P0oAQKUlm5ZKQleeoqQWdcarZVECSBSJiQczIZgT9+a/JkWWuICNHB5zGgfwEV1a0UuqaKUytWR9h+UAkS6ZgNkUPuYWQG7ifiXkrUvZCIeykZgbsJuYd1SPtW64LOIallB9ouFhdcEubldrUvkknEvYiIe1FyaFFqQBIEnBHJ4vcOpBrHMx+mtq16vUcMDwYCAUpKSsjPz6epqYnGxkYaGxvJy9t4lfnWJC+cT0Jp2GiBUhFBNJ+E+RdGl7crPhHhH//4R0FJScn90kF1HNKelVRTPVDTVHV46ucSoIJkT9O1QJmqnt7uoP6fvTOPr6MqG//3OTN3S9ItbdI2aUsLLd1YCpRdCohlX6z4sgiCAuqLIhUVxVcRUJFFkKVUQAQEBHEBhJ8WVMBSZCtLWwptoYWWLumapkuWu8yc5/fH3GxNbpKmyb1puN/Pp725M2fmPHNne85znkVk+KhRo95ZvHjxoF3N+ZT0nyThP4hQ2kIjVq1BpB8F7t2f6tFDnjy9mZqNb/DiH79CdU0tgwbUTy8ERvGquv5EIyGmnjOTWHHmfFB5dg+S/t9J+Pc2m2loiup2jIykIHRT9oXrACn/bVL2WTz9D8o2DP2BAkRChM0lhMwJu8W7ylqLtRZjTIMzeUdQ9anzrsDqWkRaOp5b3YxrDiTm/qTTsl199dU1d999942bNm36Rad3kqZLLFCqul5VfQ1ieO8DDtmV/Q0ePPihe++9t3hXlSerm0naxzInnZRaQubE3eKCzJMnT+coLDmUz375b/QpHkXFJsvaSp+1lcKayhjhUIhjp/0yrzz1EkLmFMLm8yibUG2Z1FMljmt2bvouW1hdQ8L+Al9fR9kAJLFsQNkKGiHh/4a4f1urx9XTMMbguu5OKU8QTMVGnEtRSbaaEkToj6dv4evHnZbtxz/+cWFRUdF0kV2fyuiSeHcRGaraYFebBrzXVvt29nXU8ccfv//UqVN3WblL+n9qI+lkHSJ9CJmurCKfJ0+enkjhgLGcdMkLbPzkZeLbVwAQDscoHfVZ3GhJboXL02WICBH386/ktwAAIABJREFUYow/hoS9A6vVCEUEFsd44L9pslsSpqN4diGKJXAdNghhgqqmVVhqEUbj6Wzq/ApizvW9NnGnY8bj2il4zGkozVKPSJCixrNv4DidC5yKRqPMnDmz+JJLLrmLXXQo32kFSkT+CBwDDBKR1cA1wDEiMongKl0BfKOzAg0ZMuTO2267bZcdx62uI6X/zBgyrFQTMZcjEm11fZ48eXoXjuMwZM9jci1GniwQcqbgmD1J+k/j63wgjEg/IuaCVqeGegK+vo1oCEuiYVkwNxJGSQIfYnQiPktJ+A8QdS/NkaTdT9S5lFrvo2alWeoRwlj9aJf2f/LJJ5uSkpIjRWS0qi7r7H46E4V3biuL7++sAE0RkaNPOeWUERMmTNjlfXn2TQTNMA++DSOlhDpQHiBPnjx58ux+GBlG1P1WrsXoMEIRisUQxd8x6SshlCSWlRgdSYrnCOvnu61kV64RKSDmXkeddx3K6nTqiPrfRNnVyTMR4ZZbbhn4la985Vag0xlQe1QplyFDhtxx880377L1CQhGHdra1F0SlRRR9wfdmrE7T548efL0LFR9kv4sar1rqU1dRZ13HZ59rZ0SPNnBkf0RsQSZ7F2UHUuYhFA2g3igQV3U3oyREgrcG3FkYjoxcjJd7zXRpMB455k6daqUlJQcISJjOi3jLkvRRYjIMZMnTx7eFdangJbKkWoclS1EzKU4nf/N8uTJk2e3xLPzqfV+TE3qW9SkvkGddwO+XZRrsbJGyj5Fwv8N1r6P1RX4diF13g3E/RtQrc2pbIFzewTw0rmLmitQkrZKqW5E6E9K/5lzmbsbkSKizjWEzTkgdSCbMTIsnW9tV/cdWKGGDh36607vozNpDLoaEZEhQ4bM/89//rPfuHFdk2gu7t1Dyj7XUAhUtQaVOqLmSkLOkV3SR548efLsLnj2HeL+dWnLfGCdV+oQ8QmbiwmZ03p1RLJqDTXeRaDhZg7YQZHxSgzlxNzrMJK7oIKE9yBJ+xTCAHzeJVCbmuQuTGfWd+UAVDcTC92S1SoUuSQoueZ06TWqqhx44IGb5s+f/xlV/WBnt+8pFqijDz300GFdpTwBuOYwELBsxqbLnsSc6/LKU548eT51WN1E3P8VaEFQRF1iiMQCB13tT8L/HUn/gVyL2a14+g5KvEX0mojBUILVtWlLVO5qo4ac04ICyHgYRgFeg9IUEFRlaCzwseM0X+9FxO1yBV9EuPXWWwcNHTr01s5s3yOcgMrKyq679tpru8T3qR7XTKJAbkF1PYqPK5PTF2aePHnyfLrw7MuoVmNkcIt1IiHQgSTt0zh2Mq7prTmx4m3WExOK8e1SPPNKt5aqagsjg4iY7xG314NGMYzE8gmKk7ZE2XS2dQ8khuHTYX3qTo499lj69OlziIiUquqGndk25xYoERnav3//8ZMmTeryfTsyGtccSchMyStPefLk+dRidQWQuXqFiIMQImX/ljWZso1hGGjmV15QuDZKyr6QRalaEnIOJuZch4hFCGPYG9B0KoMEUIRSRcgc32qUeZ6dQ0SYPn16/wEDBvzvzm6bcwVq4MCB37ziiitaT9aUJ0+ePHl2GZERBFM/bVGI3/mUOD0eI2NAQqim2mhVhNWFOXfOds3+FLi3IFIKpBCGI/RFKMY1xxFxLiFszs+pjL2JL3/5y6FwOPw1EdkpnSinU3giYgYPHnzRueee2yOmEvPs/qgm8HVeOtTVQWQ4jnRNkdg8eTKhqmx59VVWP/EE2zZtQlUxjkPJfvsx/CtfIVrcpR4KO40jwzpgrQgBm1CtRqQoG2JlFREXRw7F0/8iDMzQxkERLOtwcjw9ZmQEBe5MrH6Yfp5FMDICkVhO5eqN9OnTh+OOO67wscceOxbosAky14rL1BNPPLGgsLAwx2LkUd1G0v4/PPsS4CAUEna+hGsOzLVoHcaz84n7NwF1aIO3gyVsziXinJNL0fL0cqr++U/ef+QRkvE4kVAwVWZTKT555RU2vPsuB/z85xQMH54z+YzsDRhUU2QuRK+oCm1N9QFYXY+vb6OaQrG4MgYjE3eLCL6Icx6+vpou5dVSEQki8my6/EvuEREcGZtrMT4VXHHFFQNmz579I3ZCgcppGoPy8vI5s2bNOmr//Xur0+LugdV11HlXY1mPaJ/00hQqSQrcX3dLmGz9dddVD92k/28S9i5EC5v5u6l6qFRR4N6KI6O7pK88eZqy/e23WXjHHcTr6igIhaDpNa1KXSqFG41y4C9+QeEeubOGJv0nSfgPIhS3qkRZ3YhrDiPm/ijjPlL+GyTsjelINaU+zN6YCcSc/9stLFfBMdyUTmfQXF6rlbhmEjH3mhxJlyeXjB07duOHH364T0edyXPmAyUiJX379h2XV55yi6/LqfW+j9XNGEobwptF+oIKSf/xLu1P1ZL0n6bWu5Dq1GlsT55BTeqb+HZxp/eZ8l8jYWcg2q9FsICIi2iIhDdjV0XPk6cFqsr6J56gpra2pfIEIEIsFCJZV8fSGTPI5YA1ZKYRcb6KSlUzHx9VDe5/KSbqZC59YnUdCXsraAFGBmNkSDqqbyBWF1HrXYXVTVk4kp1n0YJlfPOM65l24Hf5wqRHueLU8bzzcqA0qlajWo3VzYgYIs4luRY3T464/PLL+/fv37/DF0DOFKhwOHza+eef36f9lnm6C9Ukce+XoHGMtPTjFwbg61ysbum6/vxbSPj3oeojDEYYiOom6vzrUN3aiX2mSNp70panlqV7Avrh6wpUExnW905UE+l/yVyL0mvRRILt69fjGtNSeapHhIJQiM2rV+NXVe18H1qLZ9/Cs6/j2dewuqZTsooIYecLRM33EQmjVKJsRqUSR4YRda8NBk4ZSPi/TU8BNp/6CqLXBmF1DXH/lzlVEpuimiDh/5GlH53HN076IW/+cynrFtWyaZll/kvrmX6q4eGfH4yR4RgZhWsOJebejJHyXIueJ0d88YtfDMVisfM62j5nPlClpaUXTps2LZqr/vNAys7Gsh4jpa2uFzFYBKgG+u9SX6op4v7P8PRdhFIagx0E6IvVjST83xN1p+/Ufi2rsGxvUbF7h96b9NX78e0HJOyDTUp0KI4ZT8T5Bo7slVPZehsSCuE4TrtKg4jgex6p7dtxd8KhPPDruxHVBCKCooDFlc8QdS5vkRSyI4ScKbjmSJSNBPeEgzCwzel0VcXXd9usQRbkUfoY38zDldz7Tib9R4n7f+VX0wup3VxAUSQGxgIeEYpIJaP89ub3qdpwCj+5Nx/RlgcGDx5Mv379SkSkWFU3t9c+JxYoCUwF48ePH5+L7vOk8fRVRDM/gFUtqCLsegRRyv4zUJ60hNYiRYViUvbFnc4CbPUToL1CoHGMlLdhoeo9eHY+df7/Ye0yhBKMlCKU4tuPqPN+3GnrRZ7WEcdBHIeO2FxEFW/79jbbpDZvpfrdD6l+9wO2vfsSNVt+CWowMhChGMNARAfi6cvU+T/rdLi9iNMwBWdkULu+iMH6ELRxpEEbi68fd0qmrsS3H5LUp1m1tJh3/mOIuUXpt50hyKlURyjs0DdUwl9/P4t/PPhWjiXO01M466yzCh3HOakjbXNlgTr6hBNOCO0OURu9FVUfq+9Bm9EmdTgyYpeTkKoqKftnRPtmfFAH4cOgbNsphc3qSlBt07ik1OLKYTsp9e6HZxdQ51+LaEGzcxZMsQzA6hbqvJ9S4M7IJ5btQvqMHMn6jRvbbONbixsKEe7fuiVXVdk0aw7//dOTvLXyI+pSSazdSv+CCEefNZjJX1GMCS5yEQNags97xP3biLk/7vJjag1DGZYK2kzISQirH2VFnrZI2VmgwpqlYXzPw2k262gAi5LECUVxvSi/+enTnPLVyTmSNk9PIOW/gafPceKpKwoeeaT0a8Cj7W2TEwtUWVnZ+WefffauzQnl2SUC872PSGYdWqnFMQd1QV9VWLYSVBrP0EY9hDDCzuVUNTIUpKUFStXi6zo8nY9lGSn7IrXe//XaRIGqSsK/F9FIRuXISH+USnydl2XpejdlX/4yfaJRquPxVtertdSkUpSOGEG4vHX/mq1z3uLvv3uIfy54G1OboL8ViikksRX+dPdyZv1yPdY2Wn9EBNGB+PomVld1y3HtiJHRKHXttHJQ2rayZQOrqxCiDBzs0ProKlCiwBKLFLJ+YwXbqz5dPpJ5GrG6noS9Cd8uZJ/96jCm9mDJnO+jgawrUCIivu9/bsqUKdnuOk8ThALAZvTdUPUQMYTM1F3uK7AStVdFO45h1E6nNXBkMkLRDlFFPpaPUD4hqH81BKEfvv2AOu//sLqucwfSgwmU1AratigGv42fn8brUsJlZex71VX0KyxkezyO5zcWePV8n+pkktLSUvb+0Y9avb4Tq9bxwr0P88ZHH1Be0IdYOILrODiOUBQNMzTSl/88tZ5Ztze/boOpcMHq2u4+RADCzukg0mYwhkotrhyQFXnawkg5SpLR+/sYR/H9DM85LI4J4WuSd2evzLKUeXoKvi5GsYj0x5i+fGbKMAc4sr3tcmGB2nPs2LGhSGTnnR/zdCV9cGQflJZRQaoeSiVh8yWMlHVBX3FE2vYSUanrlLXLSDERcwUq1ajWYDWFz4colcF6huPISERCGBmAqkfcv6mdcg67H8p2BNMBBVQwkg9+7WoK9tmHfX7yE4YOHoxvLdWJBNWJBL4q5SNGMOGnP8XNMH1X9c77vLJkIUNiRTiuExhMmpxGN2QoK+jLnD9tZMP65hYgxaJs68Yja8RIOVEzHZVtqLa0RFmtwjCMkOmQ+0i3EiQO9QiFDSXFfUl4mXzF0tZrgdUf7nwUcJ7co5rEswvw7Fx8+0Gn9uHZt5rVSTz51KGRvfYqaTeyIBc+UJOPPfbYnp9tLcuoWiAFhFp1su5qgpDmr+Hpd9IRPpG0HAmULYSd8wmZL3ZJX0ZGBNFD6rdaTiIoHREj3MkHb8g5BPg+SfsIVpcDW4AiDOUtovOEAfh2OdYswZF9O9Vfj0RrQKX9QEMxtGelytM5YnvvzcS77iK5ciX+1q0ggtOnD+GRI9tUbKtWV5BMpQgXND0vzZ8BjitQI6x4o47S05s69Cjgky1CzjFAAQl7E1a3A8H9LGIRKSTmXt0j/OuCaFNBVfni1wqZcf0Won4E4+z4ylNSNo6jYfacODgXoubZBVR94v71eHY+IgbFErLHEXG+vVOzGVY/Qmi8rw6aXIIxclR722VdgRo6dOhnDzvssHwxnyak/LdJ2nvTU0uKkRFE3StxZGS39uvISCLmmyTtfViqg3evRImYSwmZk7osS7iRMsJyEklmIZQ0W6e6HcQSc34GhEjZl4E4YDCU45hxHeoj5Ewh5EyhJvVNVEsQab08kIigarGsxqH3KFBGhoPYIL9WhppnQQ4fgyP7ZFm6Tw9iDJGRI3dqm3AoHOSQanG7OQTKUbDCiLBtZWOUqqoHOTifIecQHHM3KfsfVCsBg5ESXHMcRnqGa6uRcThmHL79gLOvEl5+YjTzl3xEn2gfHKfRtUXVUJPYzIQhU5hwVF6B2t2w+gG+XYAwCEFALSn9d/DOcTpvABgytICU5w0REdE2cpRkXYESkcMPOmjXHZN7Cyn/LeL254jGMFKazgq8lrj3Swrc37Tp5N0VhJ3jCZkpKLWAh9CvU7ll2u/nAjxvHpa1gaUEAbGIxIg51wM+Nd5FqG5C2ZLOdxP4OBU4t2JM+/USVRVlHbSRqwYAcdvMZ7M7ItKHkDmDpP8EtJIqIqhbtpmIuajVpKnt4acsHzy1igUPf0x8awIE+gyNcci3xjNiSut5xPJ0jGhpMWoDf8SmgxaRMKpxgrB7wcFQuz2wNqn66Wn2C3KS+NFIKRHn7Kz321FEhKjzQ+r0x1jWcdt/hSuPGc3b732EcRVjgvvD84WBob340e/PoLBf709z0ttI2RdRgsEF1EeoFpO0j2BkDK7pWKUTkUHpwUCjbWfPPfs5K5ZvHgF8kmm7rPpAScDgkpKS9ht3EUuWLOHwww8nEolwyy23NFs3cuRI9t13XyZNmsTkyY0hrJs3b2bq1KmMGTOGqVOnUtUke/CVV17J5MmTeemllzrUv6qHryuwugq7Q14u335Iwt6AaCEffuDx2aOeYWCf3zPjtjVYXUfKvsiqVas49thjGT9+PBMnTuSOO+7ocjlFohgpDnIG7aLyVFVVxbRp09hvv/045JBDeO+999J9xJjz/EkctM9bTJrwKrffokTMBRS491BRsZbPHnc0Z3/h32yrXouSIhh5e/g6hxrv6x30WdqOktkC03C8Ku2mSpg9ezaTJk1i4sSJHH300Q3Ln3vuOcaOHcvo0aO58cYbG5ZXVFTw2c9+ljPOOIPq6upm+1JNkvJfos77ObXetdR5PyPpP4NqTQeOqeOEzQW45hiUDajW8v+e/ohDD3yCwyf/lSmHP81brx1B2Jm208fhJ33+8fXXefLil3j3X4tZ8voylry2jDeffJf7jn+K5743t0uPoyO0Jn9b56AnEY/HOeSQQ9h///2ZOHEiv3npOcqL+lGxfRsPvPcGv37rPzzw3hvUeSlEooDw3MdLeWzZAtZvq8TqBpTNhMwphLtomn1X2LJlC1/84hcZN24c48eP57XXXuvSZ2hnMVJMzL0BI+WEYxu4efZizj57FEOjoxnk7ElpaAITSqZw5S3n8+K7f2afffZh4sSJ3H777UDXvge6iosuuojS0lL22afR6njllVcybtw49ttvP6ZNm8aWLY2VI2644QZGjx7N2LFj+ec//9mwfPbs2UyePJkf/OAHWZX12muvpby8nEmTJjFp0iRmzZq1S7J6+t8Wg2GREGiUhH93h7PiOzIRpXkU7SGHDYoAbVp7su1EPmrMmDFZ7bC4uJg777yT73//+62u/89//sP8+fN5663GRGo33ngjxx13HEuXLuW4445reEAvWbIEgDlz5jBz5sx2+/b1Y2q9b1HrXUGNN51a7yIS/p+AwFoS9+8ANYgUMKA4wq9uO5zLrwimlYRCUvYJXNfl1ltvZfHixbz++uvMnDmTRYsWdamcXckvf/lLJk2axLvvvsvDDz/M9OlBZnHf97nssu/y3LMvs3jRav76p+Us+2A8YLntjm9w82178OWvFvHnx7YjhBBchBAQxTKfhPfbDvTuIEjan6x1gmkP2nSO37JlC9/85jd55plneP/99/nLX/7ScAzf+ta3ePbZZ1m0aBF//OMfG87FnXfeyYwZM7jkkkv4wx/+0KS/OHH/58T9W/DtAqxdhG8XkrD3U+td1elEiK0hYog63ybiXIJIEcccN5jX3j6Z19/+Br+7/24u/cZDO30capVnLnyNeY8tYXt8K0YNYQmn/0XwfI+X7nyLv1/6SpcdR3tkkj/TOehpRCIRXnzxRRYsWMD8+fN5/tX/MnjvPXmt4mOGFfbju5OPZa9+A3lpVZByY2NNkrjvc8nkQ/jP+3HCzpkUuDcQcb7RZdPsu8L06dM58cQTWbJkCQsWLGD8+PE95tlkpD8F7q+JmO9RVHAy331wbx79eD8eef9/+cOi7/HA4osZdmSK++67j7lz57JgwQL+/ve/s3Tp0h5zDE35yle+wnPPPdds2dSpU3nvvfd499132XvvvbnhhhsAWLRoEY8//jjvv/8+zz33HN/85jfx0xGid999Ny+//DK+7zccTzZkBbjiiiuYP38+8+fP5+STT+60rKo2/fxsbZamCKvrsNqxY3NkVIuB94EH9Xf33Kv0xLa2y7YCddCUKVOy6sFaWlrKwQcfTCjUbkqHBp5++mkuvPBCAC688EL+9re/AcGD2xiT9qNpW7O1upE676eobsYwEEMxaH+S9jF8+wFWP0hnhe6bljPGQZNLCIXqT0kMq+sYMqSEAw8MyiL06dOH8ePHs2bNmi6Ts6tZtGgRxx13HADjxo1jxYoVrF+/nrlz5zJ69Gj23HNPwuEw55xzDk8//TQp+w88P47INowJsaO4ggO4JPVJbDsFskUKMbIPSuu1+1QtKpWE5JQ2a3499thjfOELX2DEiBFAcA0BGY8BGn9zY0zDb65aR51/XZPyNf0R6YtIPwwlKCu7PCJQJEzY+TyFod8yZMDj9Ak/SoF7E4m6RkfmnTmO9//8CQufWkatrSFEGLPD1KArIQR49XfvsvDx7GSgziR/a+egJyIiFBUFj8FUKkUqlWLceZ9nUyrO6L4D2bh9O/sVD2VR5TpSyRQb66oJhSOc/5VLCReNIeJciGMm9Ajladu2bcyZM4eLL74YgHA4TP/+/XvUs0kkTMiZQsS9hIj7Vfr3P5uSYcMpHlpAtDDE4sWLOeywwygoKMB1XY4++mieeuqpHnUM9UyZMoXiHUoBHX/88bhuoEQcdthhrF69GgjeD+eccw6RSIRRo0YxevRo5s4NrMXWWkSkW++V1mTNRGdlDZSelvLvbFb8YBpcm+3/gAMH4jrSZr6lrCpQJSUlB0+aNCn3IRppRITjjz+egw46iN/+ttHCsX79eoYOHQrA0KFD2bAheHFPnDiR2tpaPvOZz3DppZdm3K9qnDrvOlTrEGk0L4q4iLok7G/xdTWItvEQ1LT/U6NWvGLFCubNm8ehhx7aJXJ2B/vvvz9PPvkkELzoPvnkE1avXs2aNWsYPnx4Q7thw4axZs0afLuQr11azHcuW8OD923k7C8NzLBnxdf2Q1Tr64Op7jiNZlHZhCtHEHa+3OY+PvzwQ6qqqjjmmGM46KCDePjhhwEyHgPAZZddxje+8Q3uuecezj8/iH5N2v+HrwsRzVAqQwfh2Xn42n1TYE899RTjxo3jlFNO4YEHHtjp43j1xvep9WsIEcp4rTriYvF49ruvZ+WFkkn+1s5BT8X3fSZNmkRpaSlTp07lyBOmsk09/veUzzNq8GBSIUN1KslWsUwZux97jR7Nl2felPX7uT0+/vhjSkpK+OpXv8oBBxzAJZdcQk1NTY98NmVin332Yc6cOVRWVlJbW8usWbNYtWrVbnUM9TzwwAOcdFIQzdzWfX7JJZdwxBFHYK0l2yXV7rrrLvbbbz8uuuiihmnRzsgqYhAGA5nykjnpqOz2EcoRBkKTRLFDhhaQSqXadPDMqhN5NBrdqzxDJt5c8Morr1BWVsaGDRuYOnUq48aNo70EnzNmzGh3vyn7XywrMxTp7Y+vHyEsbqcESRKhpOGlVV1dzZlnnsntt99O376ZrSc7I2d3cNVVVzF9+nQmTZrEvvvuywEHHIDruq2+WIPiqJsZsYfw7AtjkYz6vABu2hrVNkZKiTk/oc7/GZbG8hoi4MpRRJ3v0F6CWc/zePvtt3nhhReoq6vj8MMP5+BDy/D9lahuweqGhnNbf3722GMP5syZ03w/dhai/dsoXyOounj2DVzTbs62TjFt2jSmTZvGnDlzuPrqq3n++eczngtofhxqla0rt6LqUW2qURM8qARDgT8Ap8nvKBjqtiXY+P5WSvfp3kisTPK3dg66pr8EltXUj3QNw3fZV9BxHObPn8+WLVuYNm1a4CsowgHXfocx8xYTX76a3//vG1z1ne9QuO9Yvj5uFOK0f/1nG8/zeOedd5gxYwaHHnoo06dPb+ZT1xq5ejZlYvz48fzwhz9k6tSpFBUVsf/++zdYdDLR044B4Prrr8d1Xc477zwg830CcMIJJ3DCCSdkVT6ASy+9lKuvvhoR4eqrr+Z73/seDzzwQKdlNTIMXxfQ1Pm7YXsiHc7SLyKEzGkk7APpJNPBMjdkQiJiNINfSFYtUKo6rKysKxIzts3MmTMbnNQqKioytquXpbS0lGnTpjWYDAcPHszatUF237Vr1zZM4XQUzz6LaOuZGoK6ZILV5fz27pUcPvkpDp/8FGsrdnQoTiHpl3QqleLMM8/kvPPO4wtf+EJDi12Vs6to+ntXV1fz4IMPMn/+fB5++GE2btzIqFGjGDZsGKtWNV7Mq1evpqysLF32wdJ+AiMXoWMJIB0zkUL3d0Sd7xF1LifqXE7MvY2Ye2VG5anpMZSVlXHiiSdSWFhI8cAkR3wmxJvv/IiBQ59hxcqXqfG+Tty7k1WrVtLW9axsBToS2dN1UzGZrv0pU6bw0UcfsWnTpoznYkdqF71LXXILH7vzWFvwBhsK5rOhYD7rC97hk6KXiIcqWxyFn+r+nEQdlb8rSPr/osa7kLrUldSlfkhd6gfUeBeS9J/tkv3379+fY445hueee47BgwezYdsW+n3mQOznDmbwsHJKzzmFwomje6TyBMG5GDZsWINV/Itf/CLvvPNOj3k2dZSLL76Yd955hzlz5lBcXMyYMWN2q2N46KGH+Pvf/86jjz7aoHhk8z7pKIMHD8ZxHIwxfO1rX2t453ZWViOjUJIZ1jo7lWQ2ZE7GUIZqY0LVkpICgEzTItlVoDzPKx08uPtzbXzrW99qcFLLdBJqamrYnq6MXlNTw7/+9a+GaIHTTz+dhx4KHG4feughzjjjjJ3qPyipEW2jhWCklK9fOoLX3prGa29NY2hZ8zB9lSSuHIKqcvHFFzN+/Hi++93vNmuzq3J2FU1/74KCApLJ4IL+3e9+x5QpU+jbty8HH3wwS5cuZfny5SSTSR5//HFOP/10jOwJeBn3rfiACZzKdyL8Pgjrn0LIHEfIHIcje3b4GKZNm8bLL79MMrWKym3f5825axg3bjgHH7wnH39Uxycfh6hJ/IvHH7+b0047rXW51Qsc1ttVjixC+ykaOkrT46itrW0Y2b3zzjskk0kGDhyY8Vw0JbVyGev+/ADr+7wCbi393f70lcZ/YQmzJvIWiVAQWaoExW4dt/sfKR2RvytI+s+RsHeBhhApRmQAIsWgIRL+b0j6f+vUfjdu3NgQKVVXV8fzzz/PuHHjesz9vDMMGTKE4cOH88EHwfT6Cy+8wIQJE3a7Y6mfnlu5ciVPPvkk55577m5zDM9k8hpxAAAgAElEQVQ99xw33XQTzzzzDAUFjR4yp59+Oo8//jiJRILly5ezdOlSDjnkkBxKSoNCCoF7QdN3bmdkdWUy9QlTW5JCpOP6hkiYqDMdJIlq8A4rHxZ2gaEZ++/w3rsAY0x0Z5y5u4J169YxefJktm3bhjGG22+/nUWLFrFp0yamTQtCuj3P40tf+hInnhg43F911VWcddZZ3H///YwYMaIhCqsjqPqo1jSYAVtvJLhmEp68hqpFxLB+XS1HHf4027elMAZmzljIovfvYu7CV3jkkUca0i1AEOl28skn75Kc3cXixYu54IILcByHCRMmcP/99wPgui533XUXJ5xwAr7vc9FFFzFx4kRS/jQ8nk+PIppbaxRLkJuqNIiSIDvTv+PGjePQ/Y9kn4n7YBzl/PPGMmGfYgS49fbDmXbqv/B95fyvlLH3+PVAa4kMJcjIrCnatEKJIjKsW47jiSee4OGHHyYUChGLxfjTn/4UmKUznIum1Pz3WV59bz5DR4SoWbwHvvVwmkSphCUMCmsj8xjuHQE4xIpiRPt3fy6djsi/q3h2Pgn7m/QUbPNjEomAFpPw70cYRMj5zE7te+3atVx44YX4vo+1lrPOOotTTz2Vww8/vMfdzx1hxowZnHfeeSSTSfbcc08efPDBhuPaXY7lzDPPpLKyklAoxMyZMxkwYMAOz9dhPPr4xdR5vyQY9BQRMifjmL2zKue5557L7NmzGyzJ1113HTfccAOJRIKpU4O6pYcddhj33HMPEydO5KyzzmLChAm4rsvMmTNxsmjJbE3W2bNnM3/+fESEkSNHcu+99wJ0WlYje+PI8HQ9yOauAyqJtILVcRwznrBeSsL/LYpPWXnUIVCg3m2tvWQvEkKckSNHrlu+fPmgrHSYI1SrqfHOa5Fxu1kbKilwZ5LwH8Oz/8XIoCbbp1DZQsz5WYeTgO3uxL07SNjfApEGP6dAeUohDMLIIGLuje1akbqCmqokD172Oh+ueJbla1aQqA2izPYYWsKF1ymTTmk0CatWY6SEglDr/hAJ73ck9RlES1r1g1KtBoFC9z6kh9Wn+/Cn/8s/Xn+b4kgfPlwyhJXrokRCFmeHKLzNqa2U61gGyGj2P2Msn3+ke3y5sk2t92Os/QBpI7N2cP4HURC6K4uS5ck2qknq/P/D1w8RTZe8wgOxRM13CDnH5ljCTze+LqfWuyI92AlsQqoJkCSF7oOdKi0UpEfwuP32+7zvfvf7X1fVB1tr1yELlIicCNxBEBL2O1W9UUTKgD8A24HzdMewp5aUDB48OHOCnl5DIRBNl81oaW0LTmwBwmAiziVYfQ/L+nQhw8AaFTEXfWqUJ4CIcxlWt5DSP6MIwcyyAAMQ+hNzrs2K8lS3PcV933iFv/3zcdZUL8YxoSCvFMpHm5ez+LyR/PQ3ZRzxpXrfn1iQWT0DYefL+P5HWBajOrCZEhUoTx4x5/oepzypKslkHDFCJOwzZu8NqB3C6g1hEHDSh2EVfFXGj9tA35KpnHDHzo32ejKqa6AtKzIABenp+jy9FVUl4f82rTw1DoSE4Fket3cgUvypel73NBwZRdicQ9L/A6R9j5U4EXNRp+sy1m83bNgId+DAgRlfPu0qUBIkWpgJTAVWA2+KyDPABcC3gT2B84F72tlV/47mhNidERFcOZKUvojQ3NimqqhsJWzORsRB6E+Bexcp+3zamVpw5WAcMzY3wucIEYeC0DV4/skk7F9R3Qw4OGYUYed/sqI8Afz5J/P4f88/wertH9DHGYQb0oYMI6rKuuQKbrgsyq/K+zHu6K0EUVmZbyGRCDHnx9T51+Hr0rRymPaKkhgx5+c99lyr1v8H0WiKvcevpd+AvqzfUEAqPQyKRZOMGLCRsWOjHHrnEcSKu74EUFfQMndMR5z2hdbyy7TkUzAm/BRj9X1S9t9BrbUdrptgKtcj7t9Eofy+xVRvnuwRNmcjFOPpqwgGRw4kZE7Z5f0WFxcTiUSGZFrfEQvUIcAy1SAjlYg8DpxBYI2ydCyECiAUDodzn/ktC4SdC/D0tXQeqMZoPGULDnsSNv/TsEykiLDz+W6Txd+wmtTSeaj1ETdEaMwBOINyG4mRCdc5GNc5OCd9V1XUMvvZ11mxZSFFlGAcpekLVETo6xSzqm4J91x+LLfN30pQbqZtnz6RImLOzVizBMsmQBGiOLJ/t9Qc7ApEhGjZHuj89xuWRSMeI/bYzIg9Njf8KgKsrY5TvEdRj1SeVD2S9ilS9m+oBlOvIlFCciJh50vN7s2WRIGtbayHjpz/PLs3nn0VoEVtyXpECrFaia8LcSVf4zVXiAhh53jCHN+l+3VdF2NMxpu8IwpUOdA0mcJq4FDgV8AjBE+ZL3VElk+LAmWkPxHzbeL2pnRCRwP4iBQSdX+QtZFK9dP3svyFp9kWTyICZf2K6Fc2nMKTLyK89wFZkWF3Ycu6OB9vepcwBUHGW2tbxKiKMbgmxIfL17JtXZg+QzYSkjYz/QfbieDI+A5kseo57HHuN+j34vNsiSfpHw2u1/qbt/6zOpmiwHXZ47ONIz1fl+PZN4AkIAjlhMwR6Zpu2UPVI+7fgWdnI/THpKNxVFMk+Ru+v4yY89OMSlTIfI6EfRA0ltFipVQRkuzn0smTPSxbkfZek6I7FS6fZ/chHfS2SwpUa08PVdVPgLazTu7QV3vJyXoTIecIjNyMZ2enC9wWETKnYCRjSokuZevT93Hr7XcyZ8VGHCOgQcXqSw7ewPHW4lzw4x5ricoJCgmvDqNpJ3Zr0hGS2mwixxGHpJ/A2kTaejgtN/J2M+HSMk782mU8c/edbI0n6RdtrvRXJ1PU+T4nHXEofaacHPhN2cdI2T83L8cjkLKPpIu6ZrSEdzkJ/248fSmdjLZREw4KjZbis4g6/+dpH7SWj7iQORlP38RnMbSSSd5qJUbKCDvndfux5MklHR3z99zSQXk6TzoScJcUqNXA8Cbfh0GnPCd9z8uc76c34pixOfFxSX6yhEd+dzezl2+grG8Mk374Jzyf37y+lMGFUQ545l76fvXaHlFPqydg3Ja/g++5OG4qrUQ1X68IMfcXWVUKsk3ZqedymrHMeuBOKvytiJt+SaSEqEQ56fBD2fMHv0Jcl6T9I0n/cYSBGGn+WLFaRZ13FTH3xqz8XlbXkdLn0yV0Wk69iAjoIKwuwpr3cGTfVtrEiDk/pc7/Gb4uQtVNBxQA4mFkKDH3l5g2ovTy7P4IIVre/TvSti9knt2XdEHjjIpLR876m8AYERkFrAHOoWNTdjuS8jwvr6ZngTd+/SP+8t5qhvSJNihPABHXoV8szI1zFnNnvwIK13+CO2Rk7gTtQZSP70tBuA9b2NS4UMH3QhjHxxiLAhaPkIkxqPRKHBmVM3mzgWqC4uOX8MVJxax5PkViXXD7hsLKkMOj9Jt0FiYcwbeLSdo/IQxsCCNuipEBWN1M3L+NAvembpc7qH9lMvqtQKBEWfXw9WMcWipQQZsCYs7P8Mwb+PbNdFJXcGQ/QuaoTkf45OkcVitQrSLIsdYHI8Pb3WZXcc1BePpixvWqfjoydUK3y5In+6SNPhmrvberQKmqJyKXAf8kcBx/QFXfb2ezVmVJpbqu6nye1rFein/M+4CIY3BNyxdIUdilIl7Hix+tY9jiuXkFKo0bdjjvW6dyw89/hbVFGJP2WFKwnoPFwbc+KaNMmnQIsYLRuRW4mwl8iH6JpwsIDSpj1Lk7WOC0jqTcgvGj+PomqLSqPNUjDMDXD7C6ESOZc6R1HR2NtGu7nUiYkBxFyBzVJVLl2XlU48T9W/F0LmhwjYl4ODKJqPPDblVkHZmMUI7VdRhpHkUeRFVXEpZTm+Xyy9N78DwPrU9L3godqrugqrNUdW9V3UtVr++kLNurqqryFqjupmYrH2zaRp9I5pdZ30iIN1ZV4n38XhYF6/lcdO0pHDn5s1TrJqz1m4W/W2upNZXs2WcyP3jozBxKmR18nY9n52VMAioSQzRG0t6FanW7hZ6DfRiaVjvvTqTDPin5KeyejGqSuH8Dnr6B6ECMDMDIANBBeDqPuH9LumRS9yASJeb+FJEwqlsangmqHirrceVgws5F3dZ/ntyydetWksnk5kzrs1kLb/26devyT6vuJlpExDHYNt4friNsT3jY6vbCtD9diAgPvPoTPnPI0dRIJTVaSY3dTI1WUms2MaxgAr9+6nsMm9j7/V58+w7BNFjmW1akEMtWoKZD6kp9UtLuxkjgd9jWi1XVghgc07UlYPJ0LQn/HjytV+SbBgMIoiV4+hZJ271lYowMSfs7DkfZgNUNKFsJy2lEnSvbtLzm2b2pqKiwmzZtWpZpfdbOvKqmhg0b1v2l2j/lSDhCn4hLTXUcMlgFXCNsi3uIn59S3RHHdbj/v9fw1G/+yzP3v0S8NoVxDGNGj+Hin5/EqAOzE0W5uyAqYAYhbRSEhnqFxUfo/qzrRooJmbNJ+o+CtvTLUrUoGwnJ8Rh6tx/b7ozVTXj6IrJDFv96gmCAfqTsPwibc7o1IMaR0cTcXxO4wyjB4CKfA6y3s2LFihpVzRg0l1XV2fO8pO/7WS1o+GlDRBhW3I/lVTX0ibR+g1slSG2QPw+t4oYc/mf60fzP9KNzLUrukDAdDc12zSH4/uygiLYUtlivqiCVOHJ4Cz+S7iJszgZ8kv7j6fIO9Yk+Uyg1hMzniDjfzEeh9mCsfkKgqGR+TolEsLqBIO9Y9yZzDa6VfLbxTxMrVqxIQOZ6XVlVoFzX3bRx48YRQ4b03tDvnsBJnz+TF391J77VQFHagS11SSaXF+OUj8mBdJ3DWsWq4quiClYVW/9pm/y943rb9HswgaTNtmWHbZq3abocpWE7hSbL6ttqeuq0+bb1+wua1/eVXhY0R5tsU98mWNdUVovv+w3rjDFB0s8dtqn/nt48/dlknzTvJy0CaOMEm2+Hk7KTEQqbbRO0lfR3CyRxTQTVy0nZVwm8AhpfMsE2dcBkXDkCZFHzPFE0ytp8m65gEqqD8fUjIJ5eFsbIKIwMQ2RJs9aygz9UU91KMi1vUhut6R/1+xJpkoC0ybrGvxtXSEP75tuKNC8/U9+m6foW+xVpsr/0d2nsTwjywu3Yh+ywbUObHZc12ab+uzGN7eq3a+xDMALGNPZhpPGzaXuTXubrdlLaB0cKMaLp9Y2fRoK4WGMK8EJgTKphX0YEY5rvL68s59lZVq1aZekpCpQxZnVFRcWBeQWqEWuVlLV4vuJZxfMtvlVS6b+DZYpn08t9xbfBd6/hb8W3Nv2ppA7+MqM+s4p3KyrpF4uCcVAxqBg8FWp90LHDmGkPQp9dgtWgD6uN/dTv11rFTysivg0UGJv+9OuVGhsoIr42bmN3WK/pwrO+bVR4AmWovl1zZWjHdXmyQ/MX/qTgs+G/Rufs4F2kaefxivT3/ZD6KY5myodBCCOyrsmyHTtu8+suMrLFEmXNjgsyfm0aTNB8ef2yHZTVJo1bW9fgiExXKou9lbM62O75dluIgLODcuWkFTfHpBVBEZwmilewPFD8nIbvwfaOSMNyYwTXNK5v/KTZsvp9tPgnguMEn8F+THpb07Df+n/1311Hmq13jeA6jd9DTda7Tnq9Mel1pkmb4Hv9dnlFs5ENGzYIsCHT+qwqUMlkckVFRQUHHnhgVvrzrZL0LAnPJ+HZFn8nPUvSb+Xv9GfKt6R8JVH/d/oz6Wt6Xfq7FygeQRsl6dvgu9eoHNXvK+VbPN82KEjdphyUnw7lkCl84E+AmbcF12zLfEM3+W5khwfBDg8FYyBkTHDjp9uKNHno1O+j2UOn+YOqcQTa+MAy0nLbhjZNRq31MiL12+0wqjWNI/QdR6UmQ5vWRtBNR85N5W2wCLS6TfPRfdP20HKbRktBsDwRj+P7Pq7rNrcYIKRSKcLhENFotMU+6mlpsdjB4pHhgam6jTrvanxdns7xlM7SrklUqnDlWKLO9GZTLKopfF1MMKUCIgMxjMw/lDtAvZUQGhWtpkpWM4thKxbEZu1bWCUb1ymN1tQWbXawgtqm2zX5u6nVFna04gYSNViAoXULrtXA8mppaNPUOpzyV5L0/4pqn/QySfclwT8LVquBfXDkyCZWYMW3jfur/9s2Wddi4Nbke/26+sFi/YCufhBZv03TAWL9u6b5AJOGv5sOOn3buK1nmy+rH7jmkpATKFquI4Sd4DPkmAYlK/i7ybJ0u5BjCLmGULpN2K1f1mR9ennYkeDTNYQdh1CT7xHXEHGd9Lomy0IOETeQIVvPk0Qi4atqRt/trCpQGzduenvBwoWJz3z2+Ehdyqc26VOXTH+mgr8TXvBZlwr+xZM+cc8ST/nEUz51qeDvhNf4mdjxM60opfyuuxDD9RdN+qTWXwgNF1T6ogg5hmg4RCit9Te98NwmF57rCCHTeHE2HT00HS24TtNPaTZ6qN/GEWm23jUGxxFSVRt45ppv8+LCD8D6uAKnjRnMSccexaCv/gQTK+qy3ydP9+B5HrVWCIUyFL6NuqRSKSJGCYe71qlVpC8x9xck/PtJ2TkoNq3YhQmb/yFsvtTCP0UkhCv7dakcnxbqlfImS3IlSo9AdRC13h+wujxIXdBi/VaQMAXudzFSmgMJuw9rmyhXqvhNZiH89IyB36SN12QWw28yexHMWqRnMtIzFQ2zGOlBvWebzHSkB/cpL1gWDPhbGgIaDAa+Ek/4De3qjQ/1bRsMEr7tMmurkSApdCTUqGxFXEM0rWBFQoao6wTfQ8HyqOsQC5v0Z7AuFgr+jqXbFYRdCsKNy+u2b0FVM6YwABDtqqPqACIyccikY+ZFTvj+Tj3po01+hPq/IyGHaJMfbccfL1z/w6Z/5HptNhJygk+3yXK3UVsOO41tG5Wl3desqdbirVyCv24FiMEMKCU0ehLSSpLNPD2PRCJBKpVqM/BCVfF9nz59ui/CTTVBfYFgCJOtgth5Pt1YXUet9x1QH+iLiKSjKLcgEqPAvQEjI3ItZp4O4KUVqfpZmmR6Vqde6Uq0MiuU8PyGZYlU8xmkeMon6VvirRhV6g0u8fQ29W12xrpXt3we8sZDf163YunZmdpkO4HFErtxee3Vp07oVxB2KEhrgk21vqaf9UrR7qq89ATEGEIjJxAamS810FsJXirdOxASidDdUU558uyIkSHEnGuI+zOwrEERRBRHJhJ1vomRYbkWMU8HcR2D65icBjKmfJueyfKJJ23DTFdt0iOenhWrnxn724P/ST298qOn29pfVhUoVfXLysrWfXHf4n79+vXLZtd58uyWBFF27StH9UpUTx1sWGvTPjbaED2YJ09HcMx4CuQuoDo9jWwQ6ZtrsfLshtS71PSJtj8J9odrFmxR1bfbapP1FKrGmDfnzZs39phjjsl213ny7HZ0RIGqX98TladUKsUTTzzBrFmzqK2tBaBv376cfvrpnHbaafmccHk6RJCFvO+n3Cus55BIJKirq8MYQyQSIRLpfdbpJUuWACxtq03WFah169a9MHfu3P855phjet8vnidPF+M4Dq7r4nkertv67er7PuFwz/NJ8jyPO++8k1deeYXy8nJKSwNH37q6Oh5++GFWrVrFpZdemvG48uTJ0/NYs2YNH3/8MdA4aNt3333pTbNKmzdvxlq7SYNkdxnJuh3d9/23Zs+evS3b/ebpWlSVuro6qqurqampybU4vZpYLIYxBs9rWS6lXrHqiQrU/fffz6uvvsqoUaOajVBjsRgjR45k9uzZ3HvvvTmUME+ePDvD2rVrWbZsGQMGDGDgwIEUFxcTi8UaFKrewttvvw3wenvtcjH0WzRv3jzNl3TZfdm2bRv33Xcfb775ZsMU00EHHcSFF15ISUlJrsXrdYgIBQUFxONxUqlUM6fxUCjIAdXTpu82b97MCy+8wB577NGqbMYY9thjD2bPns3nP/95ysvLcyBlnjx5OsqmTZv48MMPKS4ububDGIvFqKyspLq6mqKi3pEa55lnntlWUVHxZHvtsm6BUlXrOM5rc+fOzXbXebqIRx99lLlz57LHHnswYsQIhg8fzoIFC7jmmmuoqMhYdzHPLiAixGIxioqKKCgooLCwkKKiImKxWI9TngDWrVvXrrO4MUGE7SeffJJFyfLkybOzeJ7H0qVL6d+/f6uGDxHpVTMRf//73xPAC+21y0kozJo1ax7661//Wp2LvvPsGsuWLeOll15qZlkwxlBeXk4ymeSnP/1pXonqRowxOI6D4zg9OpKto1OKqtrq1GSePHl6DpWVlXieRyjUtcl6eyLLli0jlUp9rKp17bXN1RP433/729/aFS5Pz2PevHkZX96DBg3C8zzuv//+bs9LlKdnEw6HO3QNaLpIcp48eXouGzZsoKCgoM02sViGagm7GU8//XSiqqrq4Y60zYkCparV8Xh8Vd50v/tRW1vbpu/a4MGDWbRoEStXrsyiVHlyhbUWz/PwPK+ZwlReXs6gQYPYunVrxm1930dE2GuvvbIhap48eTqB53ls3bqVaDTa6nprLcaYXuP/9Nhjj22rra1tM4FmPTmbA9i6desfnn766VSu+s/TOfbee29SqcynrX5ab9myZdkSKU8O8H2fd955h9///vfcf//93H///Tz88MMsXLgQay2O43DppZeybds2tm1rGXRrrWXlypWccMIJDBu2+2WT/sc//sFRRx3FyJEjGTVqFAcccACPPPJI3vKap9dRU1PTZpLempoaBg0a1KNdCjrK1q1bqaio2K6qazrSPmdHXFNT8+TDDz+8JVf95+kcY8aMAWjzRVFYWMhbb72VLZFyiu/71NbWUlNTQ01NTZvKZW9BVXn11Vd57bXXGDBgAOXl5ZSXl1NYWMjLL7/MK6+8grWWffbZh2uuuYbq6moqKirYvn0727dvp6qqihUrVnDMMcfw1a9+tUc6wbfFL37xC8466yz++9//8sknn7BixQrmz5/PpZdeyg9/+MNci5cnT5dirc14j6oqyWSSsrKyLEvVPfzjH/+wvu+3G31XT84y2KnqJ2VlZRXLly8vGTVqVK7EyLOTDBw4kJEjR7Jx40YGDRrUapuCggLWr1+fZcmyTzweZ926dS2UyX79+jFgwIDdTjHoKO+++y4LFy5k+PDhzUad0WiU4cOHs3DhQgCOOuooJkyYwM0338ysWbNYtmwZIkIkEuGCCy7gyCOP3O1SmVx33XXcfPPNDVnVm1JTU8PMmTMZMWIEl112WQ6k273wPI8NGzYQj8cbMloPHjy4V1gyehOhUKjVAbOqUllZyR577NFrpu9uvfXWyo0bN97d0faSS5NzOBw+59vf/vZ9t956a+/49T8lfPTRR/zkJz+htLS0VcfBjRs3MmbMGK666qocSJcdfN9n9erVhEKhFpm0a2pqKCoqYuDAgb3uZWCt5aGHHqJ///4ZI3JUlTVr1nD22WczYMCALEvYfaxatYq9996beDzeZrs+ffqwefPmfIb1NqiqqmLOnDnU1NQ03CO+71NWVsaUKVN2O8W6N6OqzJ07l1gs1nBNW2uprKxkxIgRjBw5slcMFpcuXcrRRx/9dkVFxeSObpPTp3sqlXrqj3/8Y+2nYdqjN7HXXntx+eWXs3HjxhZOwqpKdXU1p556ao6kyw5bt25FVVt9SRYWFlJdXU1lZWUOJOteEokEyWSyzXBmEUFEqKqqyqJk3c+sWbM69KKw1rJ8+fIsSLR7snbtWv7973/jOA5lZWUMGTKEIUOGUF5e3pDpOk/PQUQYNmwYVVVVbN68mc2bN1NVVcWee+7JqFGjeoXyBDBjxoxtGzduvHFntsnpEElVE0OGDHnymWee+fqZZ57Zu4bqvZzDDz+c4uJibr75ZlauXEksFsNaS21tLRMnTmTixIm5FrFbqaura7OAZr0S1a9fvx5ZZqWz7MyxJJPJbpQk+2zZsqVDPm6e53XK8lZZWcmWLVswxlBQUMDgwYM7I2aPZsuWLcyePZsBAwa0GtVVUlLCggULGDVqVK+6b3Z36n0cU6kUvu/Tt2/fdtMa7E4kEgn+8pe/1Hme16Hou3pybmNev379r3/1q1+deeaZZ+ZrgOxmjB07lltuuYVXXnmF5cuXE41GGTp0KJ/73Od6zagkE/UFftubakgmk73qReA4DtFolFQq1a4VqrdZlquqqjqU9DOVSu2UAlVTU8Pdd9/NG2+80XA9+b7P5MmTufzyy3tNfh2A+fPnE4vFMobE1/vb1NXV9ar7pjfQv3//XIvQbTz11FPW9/0/q+pOPbRyrkCp6tK8M/nuy4ABA3r9dF1rFBQUUFlZ2aYS4boudXV1vcbBsp59992XN998M2P9OlXF9/1eVxdx3333paioiOrqtosoHHzwwR324dmyZQvXX389n3zyCcOGDWvwB7LW8uabb3LPPfcwffr0XuFLl0wmWbduXZuWtfrEqm1Zd/Pk6WpuueWWzRs3brxtZ7frEXdlZWXl9TfccEPmjHt58vQwwuFwuxm0HcfpdVYYgIkTJzJkyBDWrl3b6vqKigrGjBlDaWlpliXrXs444wz69u3bpjJTUFDAjBkzOrQ/z/O47rrrWL16dYuIRmMMw4cPZ86cOcyePXtXRe8R1PtLtmWdjsfjGaf38uTpDubPn09FRcUyVd1px8UeoUAlk8knnnnmmc35Gmp5dhcikQh9+vRpNZy9nlQq1SNeBMlkkkceeYTTTz+dE088keOPP55f/OIXrFnToVxxLYhEIpx00kmUl5ezcuVKtmzZwrZt29i6dSurVq2irKyM/9/enYc3Vab/438/SZq2abN0Sxco+5RNEBQcYBSoyqLgBs644IYi6AcRVBwdx9H5yc8RHXHEj17jBqgzOi4zCoiKCoLtiAgqZXTYithCt+xJkzRpcs65v3807YelQEuX06b367pytT1JTu7C1ebd59zP80yePDkuRk2OlpqaiqKiIsziWVoAACAASURBVJhMppPe/9lnn2Hs2LEtOt8333yDw4cPn3QNHY1GA4vFguLi4jOuuStpXJDxVHw+H/r169c5BTEG4L777nNVV1cvOZPndonfcESkeL3eBx999FEehWLdRkZGBpKTk5t9Y1AUBUR00jfbzkJEePjhh/Hoo4+itLQUFRUVqKqqwpo1azBjxoymNZtaS6/XY+rUqZg2bRqysrKQnp6OzMxMFBYWYvr06XE7hX/gwIEoKirCBRdcAJ1O17S5c2FhIb766iv86le/avG59u3bd9pLVRqNJm42W05MTDxlgPL7/UhOTsaAAQM6sSrWk+3atQt79uw5SETfnMnzVV0H6mhCCE12dvbB7777rv/JeisY62qICB6PBz6fr2n6fmMfh9VqVb3/6d1338VDDz0Es9l8wohQYy/P66+/jvPOO0+N8nq0xx57DGVlZadsOK+qqsKUKVNw6623dmJlHUOWZWzcuBFEdMLPhdPpREJCAiZNmhTXzcqsa7nwwgtdW7ZsuZSIdpzJ87vECBTQMArl8/ke4FEo1p0IIZCeno5evXohPT0dFosFGRkZ6N27t+rhCQBWrlyJpKSkZi+nNda3ePHiuFtyoDvw+/0tmsUZL5NrtFotxo4dC7/fD6fT2bSuUGVlJdLT0zF16lQOT6zTfP/999i3b1/pmYYnoJUBSggxRAjxtRCiXgix9Lj7yoQQPwghSoQQ3x51PE8I8YUQYp0Q4pTvKOFw+F8bNmxwVVRUtO67YExler0eJpMJZrMZRqOxS0zBlmUZ1dXVp7xMlJqaCrfbje+++64TK2MAMGrUqFMuNurxeGCxWDBu3LhOrKpjWa1WTJs2DYMGDULv3r3Ru3dvFBYWYtKkSXG1XAPr+mK9T3e35RytHYFyA7gbwNMnub+QiEYR0dFLod8NYBGAVwHccKqTE5Hi8Xh++/DDD/MoFGNt1LjS8+lmAiqKgsOHD3dSVazRzJkzkZGRAbfbfcJ9DocDsizjd7/7XdwFi/T0dIwaNQpjx47Feeedh7y8PN66hXWqnTt3Yt++fQeIaGdbztOqAEVE9tgLtmZuthaAEruddnXFSCTy/ieffHKkpKSkNaUxxpoxdOjQ0+7dJssyb5+hArPZjAcffBDRaBRlZWWoqKhARUUFysrKkJKSgieeeAKDBg1Su0zG4oqiKLj11ltdNTU189t6rvacKkMAPhNCEICXiOjl2PHnAfwNgA/A9ac9CREJIebcfPPNX+zatSsj3qZCM9aZZs+ejS1btoCITrr+jhAiLrcN6Q769++P5557Dtu3b0cgEICiKMjPz8e5557bJZbAYD0PEcFutzf9UWU0GjFkyJAu0ZbQHl5++eWI3W7/JxH92NZzndEsPCHEHwEEiOjpo47lEVGVEMIK4HMAi4io6EwLy8nJeXXZsmU33n777fHxv8aYChRFwW233YaioiJYLJYTmsnr6+sRjUbxySef8Po7jPVw0WgUO3bswI8//giDwQCNRgO/34+RI0diwoQJapfXZk6nEyNGjKiuqakpIKJTbynQAqcd3hFCLIw1hpcIIZpf8Q0AEVXFPtoBfACgTfOibTbbvY888og7Hne0Z6yzaDQavPzyy5g1axa8Xi9CoVDTMgvhcBjBYBDLly/n8MRYD+fz+fDhhx9i37596N27NzIzM5Geno6srKxm+/S6o0WLFnl9Pt897RGegBYEKCJ6IdYYPqoxJB1PCJEihDA2fg5gKoA2DY8RUa3f779vyZIl3rach7GeLiEhAU899RQee+wxmM1mOJ1OeL1eJCYmYtmyZbjiiivULpExpiKfz4f169cjFAohLy/vhG2F4mFLqq+//hpbtmw5EAqF3m2vc7bqEp4QIgfAtwBMaGgKDwAYBiATDaNOQENf1VtE9HibixNCWK3WHevWrRsTT1N52yIcDiMcDkOWZZhMplNuZsvY8Rp/3k+1HxljrOeor6/HunXrIElSs4u6ulwu5OfnY9KkSSpU1z4kScLw4cOdBw4cmEBEpe113lY1kRNRDYDezdxVC+Dsdqno2NcjIcScG2+88asffvghs6c3VdbW1mLr1q2QJAlEBI1Gg6FDh6KgoCDu9h1jHYODE2PsaCUlJQgEAsjNzT3hPiJCXV0dCgoKVKis/TzxxBNBj8fzWnuGJ6ALrUR+MkR0wO12L7/77rtr1a5FbU6nE5IkITs7Gzk5OUhPT8ePP/6I4uJiBINBtctjjDHWjTgcDuzevRtWq/Wk9w8cOBA5OTmdXFn72blzJ55//vlyh8PxUHufu8sHKABwu93PrFu37j8fffSRrHYtapIk6ZgF53Q6HXJzc+H3+7Fp0yZwwz1jjLGWUBQFX375Jcxmc7MLmYbDYRARxo0b121HrgOBAH7zm9847Xb75UTU7o1c3SJAERHZ7fZZ8+fPd9hsNrXLUY1er4eiKCccT0tLg8FgQHFxMbxe7rlnjDF2ajabDV6vFyaT6YT7ZFmG3W7HBRdcgJSUFBWqax/z5s3zut3uB4nop444f7cIUABARA6XyzX317/+tae5ENETZGdng4ggyycOxBkMBiQlJWHHjh2QJEmF6hhjjHUX1dXV0OlObIOORqOorKzEuHHjMHDgQBUqa+i9crvd2LNnD3788UeUl5c3O3hwKm+//XZ0y5Yt22tra1d3UJndJ0ABQDgc3rh///5//eUvfwmpXYsakpOTMWzYMDgcjmbvNxqNCAQC2L9/fydXxhhjrDupr68/IUC53W44HA5MmjQJZ5/d7vPCWiQSieDgwYMoLy+HTqdDUlISnE4nQqGWv+0fPnwY99xzj91ut19HZ7JaeAt1qwAFAHa7/a6nnnqqcteuXWqXoopf/OIXSE9Ph8/X/H7LmZmZ2LNnT9wsfMYYY6z9ERFCoRDC4TACgQAqKipgNBoxe/ZsDBkyRJWavF4v9u3bh/r6elgsFiQkJECr1UKr1bZ4yZ5oNIqrrrrK7XA4riWiDu1p6XYBiojq7Xb7JZdffnmP7IfSarUYO3YsIpFIs4lcq9UiJSUFBw4cUKE6xhhj3cHIkSMxcOBAKIqCxMRETJ48GTNmzIDFYlGlHqfTiUOHDiE5OfmYvitZlqHT6Vq8F9/8+fNry8vLV0qS9O+OqrXRGe2F1xXo9fqLhw8f/s727dvTExMT1S6n07lcLhQVFcFgMCA1NfWY+xo3g7z88subvcbNGGOMdRVOpxOHDx+G2Ww+YU3D2tpa5OTktGjD8+eeey78+OOPb7Tb7bM68tJdo243AtUoEolsOnz48OM33HCDr7uGwLbIyMhAYWEhhBCoqak5prG8ccppc83mjDHGOo4sy3A4HNi7dy/27NmDgwcPtqp/p6cJBAI4cuRIs+EpEolAo9EgMzPztOfZtGmT8vjjj5fa7fZrOyM8Ad04QAGAy+V6pqioaMPy5cvr1K5FDRaLBRdeeCGGDRsGu90Op9OJcDgMv98P4P+27WCMMdbxAoEA9u7di4qKCgghoNPpEAwGUVFRoXZpXVJ9fT0OHToEg8FwQniSZRnBYBD9+/dvdp2qo5WWluLGG2+ssdvtU4ioviNrPlq3vYTXSAiRkJWV9fXq1atHzZw589T/ynGstrYW5eXlsNvtSElJQV5eHvr06aN2WYwx1mX4/X4cOHAA1dXVTb8nBw8e3ObzKoqCyspK2Gw2pKSk4Oi2kkgkAiFEu7xOPJEkqalXNzk5+Zj7iAgejwf9+/dHenr6Kc/j9Xpx7rnnug4dOnQREe3usIKb0e0DFAAIITKsVuuuzZs355911llql8MYY6wLURQFu3fvxsaNGyFJEpKTkyHLMkKhEG655Rb069fvjM8tyzLKy8vh9XphNptPWLU7HA5Dr9dj0KBBbfwu4ktlZSWcTucJC3kSEbxeL/Ly8k67hYwkSSgsLPSUlJQs8Pv973Vkvc2Jiw5jInIJIaZOnz79y+LiYmv//v3VLokxxlgX4PP5sH79evz000/Iy8s7ZnTo8OHDqK1t2zarlZWV8Pl8J529FgqF0Lt37za9RrwJh8Ow2+0wm83HHFcUBT6fD9nZ2adtGlcUBdddd51v//79z6kRnoBu3gN1NCLaV1lZeWlhYaGzqqpK7XIYY4ypzO1247XXXkN1dTX69++P5mZsRyKRMz6/x+OB3W5vdjsUoOGSocVigdFoPOPXiEc+nw9arfaY0br6+nr4fD7k5+cjLy/vlPvvERFuv/322i+//PJ1u93+x04ouVlxE6AAgIi+q6iouGrSpEkup9OpdjmMMcZUEolE8M477yAajTY7mkFEIKIz7hUNh8P4+eefYTKZmn2zr6+vh1arRd++fbvtZrwdgYjgcDia+p4aR50AYMiQIcjKyjrtv9d9990X2LBhw1qHw7Gkwws+hbgKUAAgSdK/jxw5csOkSZPcJ1utmzHGWHzbunUrXC4XsrKymr2/oqICI0eOhNVqPaPzV1dXIyEhodm19urr6xEOhzFw4EBei+8kAoEAvF4vAoEAevXqhYKCAhgMhtM+77HHHgu++eabm+x2+9zOWq7gZOLyfzYcDm80Go13FBYWvlRcXJx2JrtJy7KMaDQKnU7HPwCMMdaN/Pzzz9i2bdtJR5c8Hg/MZjOmTZt2RueXZbnpHMcLBoMgIhQUFJwwu4w1rFNYUFCAcDgMIkJKSkqL32OfffbZ0AsvvLDdbrf/mohat7twB4jbZOD3+99LS0szTZs27c+bN29Oa81q5fX19SgrK2taR8loNMJqtbZ4Lx7GGGPq+eKLL5CWltbs+kGBQACBQADz5s0744AjyzKEEMdcaopEIggEAkhLS0Pv3r2b7bdiDfR6fYu3Zmm0evXqyJ/+9KfdDodjBhFJHVRaq8TdJbyjeTyeVXv37n3soosu8gSDwRY/T1EUEBGMRiOMRiNCoRB++uknuN1uKIrqoZcxxthJhEIhVFZWNjsrzm63w+/346abbjrtFPnTISLU1tbC7/fD6/VCkiQUFBRg4MCBHJ7a2csvv1z/4IMP/uhwOC7qzIUyTyduR6AauVyuZ9PS0gIXXHDBU1988UVaSzZKTEpKQmJiIiKRCPR6PZKTk6EoChwOBzweD3r16oWkpKROqJ4xxlhrHd+EXFdXB5vNhoEDB+LSSy9FRkZGm86v1+sxePBghEIhRKNRpKSkIDU19YTVtFnbPfnkk6EVK1Z853A4phJRl9oTJy4W0mwJo9F4de/evV/68ssv01vSNBgMBlFeXn7CNe5IJIJwOIy8vLxmr38zxhhTjyRJePHFF+F2uwE0hKnk5GRceumlGDp0KM+I6yaICA888EDg9ddfL7Lb7VcSUVTtmo7XYwIUACQnJ0/Nzc19a+vWrRktmbpaU1MDn8+H1NTUY44rigK/34/s7Ow2/yXDGGOsfdXW1qK6uhrhcBipqanIz89vdc8NU4+iKFiwYEHt+vXrN9jt9puISFa7pub0qAAFADqdblxubu76zZs3ZxUUFJzysY37GwWDwRMWQiMi+P1+ZGRktGjdCsYYY4ydmiRJuPbaa33FxcV/s9vtd6u9VMGp9LgABQBCiBF5eXmfffTRRzmjRo065WMVRWkaiTIajccEpcYQZTabkZOTw9e/GWOMsTMUDodx+eWXe0tKSp6z2+2Pql3P6fTId3wi+qGqquqCadOmHfnoo49OOTSo0WiQm5uLjIwM1NbW4ujAKYSAyWRCbW0t7HY7emIYZYwxxtrKbrdjwoQJnu+///7R7hCegB46AtVICJGRlZX1+dKlSwfff//9htNdhnO73bDZbEhKSjrhenptbS2ys7ORnp7ekSUzxhhjceWHH37AzJkzHTab7cZwOPyp2vW0VI8OUAAghNBbrda/TZkyZdrq1avNp2s0DIVCqKqqgiRJMBgMTZftFEVBMBjEgAEDuFmRMcYYa4EPP/xQvv322yttNts0Itqndj2t0eMDFAAIIURGRsbv+vfvv3Tjxo1pp5tZJ8syvF4vHA4HNBoNDAYDhBAIhUJITExEfn5+J1XOGGOMdT9EhCeffDL0l7/8ZY/dbp9KRG61a2qtLh2ghBBXAFgGQAEgAVhCRP+O3TcdwEoAWgCvEtHy2PE8AH8H4Acwh4gCLX09g8EwMzs7e83HH3+cOXTo0NM+XpIkeDweuFwuAA39UoqioKCggBvKGWOMsWZEIhHcfPPNvi+++OKT2DIFXW6Np5bo6gEqFUCQiEgIMRLAu0Q0RAihBXAAwBQAFQB2AriOiPYIIZYD+BuAAQB6EdGLrXzN4dnZ2RvXrFmTd8kll7QoBUWjUYRCIUiShOTkZN5AkjHGuhEi4qVoOonD4cAll1ziKSsre9Llcj3VlZcpOJ0uPUxCRIGj/nFTADR+fh6Ag0R0iIgiAN4GcEXsPi0aRqwUAK3+iSCi/9pstnNuueWW7x988MGALJ9+/a6EhASYTCakp6dzeGKMsW6AiBAMBmG321FVVYXq6mrU1dWpXVZcKy4upnPOOce+Z8+eOU6n88nuHJ6ALh6gAEAIcZUQYh+AjwDcGjvcC8CRox5WETsGAM8DeAnAHWi4lNdqROSw2+3j1qxZ89fx48d7qqurz6x4xhhjXQoRIRQKoaamBh6Pp2mrFyEEwuGw2uXFJUVRsGzZsrqrr776x4qKijF1dXWfqF1Te+jymwkT0QcAPhBCTERDP9TFaH5kiWKPLwcwsR1eVwbwW71e/+mYMWP+/tprr1mnTJnS5QMnY4yx5kWjUXg8HkQiESQmJiIxMbHpPkmSkJaWpmJ18cnpdGLWrFme/fv3/8Nuty/prv1OzelygUAIsVAIURK75TUeJ6IiAAOFEJloGHE6eqpbbwBVHVFPJBLZXFVVNfqGG27Y1dJLeowxxrqWuro62Gw2EBEMBgO0Wm3TfZFIBHq9npegaWfFxcU0evRo+7fffnuTzWZbGE/hCej6TeSDAPwUayI/B8CHaAhLjU3kFwGoREMT+fVE9N8OrEWblZX1RL9+/W5bt25dem5ubke9FGOMsXYUCATg9XqRlJR0wgzpaDQKWZZhtVqh03X5izLdgqIoePzxx+uef/75n+x2+wwiOnL6Z3U/XT1APQDgJgBRACEA9x+1jMGlAJ5FQ5haTUSPd0ZNer3+oqysrL+/8sor1ksvvbTLjeAxxhhrQESora2F3+9v6nM6WjgchlarRUZGBoendlJdXY1rrrkmLi/ZHa9LB6iuSgiRnZ2d/c6FF1549osvvmgxmUxql8QYY+w4Pp8Pfr8fBoPhmOONjeRJSUlIT0/ndfvaARHhrbfeii5dutThcrnmRiKRz9SuqaNxgDpDQghhNBpvsVgsy1evXp158cUX9/ifwGAwiKqqKvTu3ZuXc2CMqSocDsPpdJ4QniRJQiQSgclkgtFo5PWf2oHdbsdNN93kKSkp2Wqz2eYSkU/tmjoDB6g2EkL0slqt786YMWP4c889Z05NTVW7JFVs3boVixYtQmJiIogIv/rVrzBv3jyMGDGCf0ExxjoVEcFut0Oj0TQ1izcGJ71eD4vFwg3j7eS9996TFi9e7PR6vQvq6urWq11PZ+IA1Q6EEMJisdxhNpv/vzfeeCNz4sSJPS4xbNu2Df/zP/8Dq9UKAHC73ZBlGcOGDcMdd9yB888/n4MUY6xTRCIR1NTUIDExEYqiQJZlJCYmwmQyHbN0ATtzbrcbc+fO9XzzzTdf22y2G7vjXnZtxQGqHQkh+lqt1n/Nnj37FytWrDD1pMtYRIRHHnkEGzZsgNVqhRACRASv14tIJIKRI0fi97//PQoKCtQulTEW5xpXGY9Go9DpdEhMTOQRp3a0YcMGecGCBU6v17soGAy+p3Y9auEA1c6EEJq0tLTFJpPpd3/9618zWrqfXjwIBoOYO3cuSktLm0IU0PDLzO12Q1EUzJ8/H7fddhvPeGGMsW6mqqoK8+fP93z77bff2Wy2OURkV7smNXGA6iBCiF7Z2dmrzz777LGvvvpqWn5+/umfFAcCgQDuv/9+fP3110hLSztmuDwajcLlcmHEiBF44okn0Lt3bxUrZYwx1hKSJOHZZ58NP/300w6Xy7UgGo3GxVYsbcUBqoPp9fqpaWlpr95zzz2Z9913X3JCQoLaJXU4WZbxj3/8A88++yyEEEhPTz9mNMrlckGr1eIPf/gDZs6cqXK1jDHGTmbbtm2YO3eu0+PxrHE4HI8QEW8YGMMBqhMIIRKzsrL+aDab561Zsybz/PPPV7ukTvHzzz/joYcewt69e08YjQqHw/B4PLjttttw11138TosjDHWhbhcLtx9993ezZs3H7DZbDcQUanaNXU1HKA6kRBiQHZ29psTJ04c8sILL1iysrLULqnDSZKEd955By+88ALC4fAx04clSYLD4cCdd96JO+64Q+VKGWOMKYqCV199NfLHP/7R5fV67wmFQu8SB4VmcYDqZEIIYTAYZptMppVLly5NX7RoUVJPmB3i8/nwxhtv4K233kJ9fT2SkpJgNBohyzKcTieWL1+O6dOnq10mY4z1WF9//TXmz5/vcjgcH9hstnuJyK92TV0ZByiVCCEMmZmZD6ekpMz785//nH711Vdre8I6SaFQCJs2bcJrr72GsrIyKIqCQCCA4cOHY+3atWqXxxhjPc7Bgwdx1113uXfv3r2npqZmPhHtVbum7oADlMpi++r9xWq1Tn3xxRczJkyYoHZJnYKIUFpail27dkGSJJx77rkYMmSI2mUxxtgxGpdhMZvNcbf8isvlwkMPPVS7bt26GofDsUCW5a1q19SdcIDqIoQQQ3Jycl4ZOXLksBdeeCF90KBBapfEGGM9Vnl5OTZs2IANGzbA4/FACIFnnnkG48ePV7u0NguHw1ixYkXof//3fz1+v//Burq6N4lIUbuu7ia+4nQ3RkT7AFyg0+kmnX/++S9ffvnlOX/6059MmZmZapfGGGM9Qn19PYqKivD2229jz549AIC0tDSkpqYiFAohOztb5QrbRlEUvPnmm9JDDz3kqaure97tdj/FyxKcOR6B6oKEEBqDwXC90Wh88s4777Tcd999hp66STFjjHW0UCiEjz/+GK+88gp8Ph+Sk5NhNpshhIDb7YZGo8HKlSsxYsQItUs9I0SETz/9lO655x6Xx+NZb7PZfktELrXr6u44QHVhQogki8VyV1JS0tJFixaZlixZkmwwGNQuizHG4oKiKNi8eTOeeeYZeDweWCwWNP6OlSQJdrsdubm5eOaZZ9C/f3+Vq209IsLmzZvpvvvuc9nt9q9qamruJaJDatcVLzhAdQNCiOS0tLR7kpKSFt97772mhQsXJvWkjYoZY6w9ERF27dqFZ555BgcPHoTJZELjKL+iKHA4HCAiXHvttbj99tvRHX/fFhUVYcmSJc7q6uodNTU19xDRAbVrijccoLoRIURKenr60qSkpDsXL15sXrhwYVJKSoraZTHG2BlRFAWyLEOSJGg0GiQkJHT4rgQ1NTV46qmnsG3bNiQlJSEtLQ1CCBARnE4notEoJk6ciIULF6Jv374dWkt7IyJs3boVS5cudVZVVX1fU1OzhJck6DgcoLohIURKWlra4qSkpLsXLlxoWrx4cTL3SDHGugMigqIoiEQiAAAhBIQQkGUZycnJ6Kj18IgI69evx4oVKyDLMqxWK4QQUBQFLpcL0WgUo0ePxqJFizBs2LAOqaGjEBE+++wzeuCBB1x2u317dXX1/bGJSawDcYDqxoQQybEeqXtvvfVW45IlS1J6wvYwjLHuh4ggSRKi0SiEENBoNE0jP4qiIDExscNGn2LT9rFu3TpkZmYiKSkJoVCoaXmCcePG4eabb8bZZ5/dYQGuI8iyjLVr1yqPPPKI2+Px/DsWnA6qXVdPwQEqDgghElNTU29OSUl5aNq0aebf//73loKCArXLYowxAA1v9I0jTlqt9pjjADo0PEWjUcydOxelpaWwWCzw+xt2J0lLS8Nll12GGTNmID8/v0Neu6MEg0GsWrUqsmLFCl99ff16m822jIjK1a6rp+EAFUeEEBqNRjM9Ozv7T0OGDOm9bNmyjAkTJnSrv6gYY/FDURREo1HIsnzMKt6KooCIoNPpoNPpOvR3lMPhwG9+8xvU1dUhMzMTF198MaZMmYJhw4Z1eL9Ve7PZbFixYkXgjTfeCESj0RfdbvdKIvKqXVdPxQEqTgkhzsnLy3s8LS1tzKOPPpo+a9YszdF/+THGWEchIkSjUUiSBK1W2xSQiAiyLEOr1XZKw/jR9QSDQXTXXtG9e/di2bJlni+++MJbW1u7LBQKvUlEEbXr6uk4QHUAIcRYANsBXENE/4wdKwPgByADkIhoTOx4HoC/x+6bQ0SBdq6lT3Z29h8SExOvuPfee03z5s1L5Jl7jLGOoigK6uvrm/qcGo8RUafNtIsHRISioiL84Q9/cB48eLDcZrM9pCjK58Rv2l0GB6h2JoTQAvgcQBjA6uMC1Bgich73+OUA/gZgAIBeRPRiB9VlSU9PX5yQkLBg5syZhnvvvdfc3WaaMMa6tsZep6ODEwAOTq1QW1uL119/PbJy5craurq67dXV1Q8T0W6162In4gDVzoQQSwBEAYwFsKEFAerPAFajIUD1IaK/dnB9Wo1Gc0lOTs7DVqt1wG9/+9uM2bNna/R6fUe+LGMszsmyjHA4DI1G0zTapNPpjrmEx06upKQEK1as8Hz++efB+vr6l7xe74vHv1+wroUDVDsSQvQC8BaACwGswrEB6mcAHgAE4CUiejl2vC8aRqB8AK4nIn8n1tvParXeq9Vqr7nuuusMixYtSu3Xr19nvTxjLI40LkcA4JjLd+zkwuEw3n77bfnpp5/2eDyevVVVVf8/gE1EpKhdGzs9DlDtSAjxHoAVRLRdCPEajg1QeURUJYSwouES3yIiKlKx3CZCCH1iYuLV6enpDw4cODDngQceyLzkkksEN50zxlj7Ky0txcqVK2v/H0P8UQAADw9JREFU+c9/1imK8neHw7GSiCrUrou1DgeoNhJCLARwe+xLM4DGsepMAHUA5hPR2uOe80cAASJ6urPqbCkhxPCcnJwHtFrt9Jtuuskwb968lAEDBqhdFmOMdQmSJGH37t34/vvv8fPPP+PGG2/E0KFDT/u8YDCI999/X37uuefclZWVRxwOx58kSVpPRNFOKJt1AA5QHeToESghRAoADRH5Y59/DuAxItqoapGnIIRI0ev1szMyMhZnZWXlL1y4MO2aa67Rmc1mtUtjjLFOVVFRgaKiImzYsAHFxcVQFAWhUAjBYBC33HILXnrppWafpygKioqK8MILL7iKi4vrZVl+y+l0vkhEP3Xyt8A6AAeoDnJcgBoA4IPYXToAbxHR46oV10pCiN5paWm36fX6uWPGjElZtGhR5sUXXwy+xMcYi1eHDh3C+vXr8fbbb6OsrAxCCEiSBJ1OB0VRkJCQgDvvvBNLly5FYmLiMc89ePAgXnnllcCbb74ZUhSluLq6+lkAX3FvU3zhAMVaTDRMpRmTm5t7N4CpV199ddKCBQtMw4cPV7s0xhhrM6fTiXXr1mHNmjU4ePAgiAhCCOj1ekSj0abV0+fPn4+FCxciIyOj6blerxfvvPNO9Pnnn/e63e5yh8Pxl2g0upaI6lT8llgH4gDFzogQQq/RaGbk5OTcazQaB99yyy3Ga665Jql///5ql8YYYy0WDAbx6aef4vXXX8f27duh0WiaNjdWFAXhcBh6vR7p6em44447MGfOHKSlpTU99+OPP1ZWrVrl2r17d119ff0qj8ezioiqVP62WCfgAMXaTAiRmZycPCstLW1+ampqnzlz5qRcd911hl/84hdql8YYYycgInz77bdYs2YN1q5tmOMTjUaRlJQEIkI4HG7a4Piyyy7DnDlzMH78eGg0Gvj9fnz44YfKmjVrXD/++GNYluX3HQ7HawB28yrhPQsHKNauhBBper3+yszMzAXJyckDrrvuOsP111+f0pJZKowx1pHq6+uxbt06/PnPf0ZlZSWi0SgSExNBRKivr28KUFOnTsW1116LyZMnIzExEV6vF+vXr5dXrVrlPnDgQF00Gn3H5XK9AWAPh6aeiwMU6zBCCHNCQsJlVqt1gV6vH/zrX/86ec6cOakjRozglYkZY53G6/Xir3/9K15++WXU19cjEolACAGtVgutVoukpCRMnz4dl112GSZNmoTk5GS4XC6sXbtWWr16tefQoUP+SCTyD7fb/Xci2qf298O6Bg5QrFMIIVK1Wu2MnJycBVqt9qzZs2cn3XDDDcbRo0dzmGKMdajc3Fy43W6kpKQgMTERycnJOO+883DRRRdhwoQJGDp0KDQaDex2O95//31p1apVnoqKCl99ff3fPB7Pm7zsAGsOByjW6YQQBo1GMz03N/cOIcSoK6+8MvGGG24wjR07lrd/YIy1u/feew/l5eUYOHAgRo8ejb59+zb94VZdXY333nsv+tprr3lramrcdXV1r/t8vn8QUZm6VbOujgMUU5UQIgnAlF69ei2QZXnMOeeco5k1a1b6lClTtH369FG7PMZYnAkGgyguLsaHH37o+/TTTyOhUKjG7/e/7vf73+HtVFhrcIBiXYYQQgPgLLPZPCM1NXWWRqPpe+GFF+quuOKKtMLCQlgsFrVLZIx1M5Ik4bvvvsMnn3wSWrt2bcBmswWFEJuqq6v/BaCYiIJq18i6Jw5QrMsSQiQCGJeVlXWlTqe71Gw2p82cOTNpxowZxvHjx5+w+i9jjBERSktL8dlnn0Xff/997969eyWdTrejurr6XVmWNxORTe0aWXzgAMW6DSGEBcDkvLy83yiKckHfvn0Tr7rqKtMll1ySeNZZZ3H/FGM9lN1ux6ZNm2jt2rXubdu2KQAOeDyed+vq6jYCKOWlBlhH4ADFui0hRB+9Xj/VarVeI0nSyHPOOUfMmjUrferUqdr8/Hy1y2OMdZC6ujoUFxdj/fr1jX1M9nA4vM7tdq8H8B0RSWrXyOIfBygWF2L9UyNMJtMMo9E4S6vV9iksLNRdeeWVaZMnT+b+Kca6MVmWj+ljqqmpCQohNsf6mIq4j4mpgQMUi0ux/qnxVqv1Sq1We6nZbLZcdNFF+okTJ5rHjh2Lfv368fpTjHVRPp8P3333HbZv3x7etGlT7Z49e5SEhISd1dXV78T6mGrUrpExDlCsRxBCpAE4LyMjY1JycnKhLMv9+vTpo5k0aZLh/PPPTx07dixycnLULpOxHiccDqOkpATbt2+PbtmyxVtSUoJoNOoRQmyvrq7+nIh2gPuYWBfEAYr1WEKIXgDGZmdnX6jT6SYSUe7gwYNRWFhoGj9+fNKYMWP40h9j7UiSJPz3v//Fjh075C1btnh37typBAKBoE6n+95ms30WjUa/AfBfIoqqXStjp8MBip0RIcRkAM8CSADgJKJJsePTAawEoAXwKhEtjx3PA/B3AH4Ac4gooEbdpyIarukNFEKMzc3NnUJE43U6XcbIkSNRWFhoHjdunH706NEwGAxql8pYl6coCg4ePIgdO3ZQUVGR96uvvoq63e6ITqf70ePxbAoGg9sAlBBRSO1aGTsTHKBYq8WWE9gGYDoRHRZCWInILoTQAjgAYAqACgA7AVxHRHuEEMsB/A3AAAC9iOhFtepvDSGEDsBQnU53Xk5OzlRJksYYDAbjmDFjNJMnT7b88pe/1I4YMQIJCQlql8qYaogIFRUV2LlzJ4qLi2u//PLLcHV1tazT6UoDgcAXXq+3GA2z43xq18pYe9GpXQDrlq4H8D4RHQYAIrLHjp8H4CARHQIAIcTbAK4AsAcNI1JK7NZturdj06F/iN1WAQ3bzxw6dGjkhg0bxmdkZEyJRqMjLBZL8vjx43UTJkywDBkyRAwePBiZmZncqM7iTjgcRmlpKfbv34+SkpLg1q1bg4cOHSKNRnM4Eol86XA4tgLYedTvBcbiEo9AsVYTQjReuhsOwAhgJRG9IYS4Gg2jUvNij7sRwC+J6C4hRF80jED5AFxPRH6Vyu8QQggjgHMMBsO56enpY4houKIoWSaTSTds2DAxevTo1OHDhycNHjwYgwYN4lXUWZdGRKisrMT+/fuxd+9euaSkpPaHH36IVlVVQZZlv06nO1hXV7fL5XJ9C+BbAIe5yZv1NDwCxc6EDsC5AC4CkAzgayHEdjQ/skQAQETlACZ2WoWdLBYIv4zdmgghUvbv3/+LDz74YHBmZuY5ycnJo6PR6KCEhISUvLw8nH322QmjRo0yDx48WDN48GDk5eXxqBXrNH6/HwcOHMD+/fvxn//8J7B79+660tJSEQwGIzqdrkpRlB8cDsfOaDS6F8B+ADYOSow14ADFWkQIsRDA7bEv3wWwMbZ4XVAIUQTgbDT0PR29BHhvAFWdWmgXE/s3Kond3mk8LoQQR44cyf3mm28GJyQkDM3Kyhqr0WjOkiQpLzU1NaGgoACjRo0yjBgxImXw4MEoKChASkqKat8H675kWUZ5eTn279+PPXv2RGOjSbLT6SRFUbw6nW6/3+//3uv17kZDSPqJiCJq181YV8eX8FirCSGGAngewDQAegA7AFwLYB8amsgvAlCJhiby64novyqV2i3FFgEdCGCwxWI522g0nitJ0mCNRmOyWq1ixIgRuuHDh6fm5+fr8/LykJeXh9zcXKSmpqpdOlOBJEmw2WyoqqpqvCmlpaWB3bt3hw8dOiTC4XA4ISHhcDQa3W2z2XYS0X4A+4nIrXbtjHVnHKDYGRFC3A9gLhqawl8lomdjxy9Fw/IGWgCriehx9aqMP0KITACDAQywWCz9U1JSBmo0mj6SJOUCSE1ISEiwWCzIz89Hnz599P379zfk5+frc3NzOWh1M80Fo7KysmB5eXn94cOHlZqaGhGJRCRJkuoTEhLsQoiKcDj8s8vlKlUU5QgaRpPKiEhW+3thLB5xgGIsjsTWsjIDyAWQByDXbDb3T01NHcRBq2s4WTAqKyurP3LkSFMwkmW5XqfTHR+MqtBwWbwKgIM3zWVMPRygGOuBYkHLhIaQ1RS0jEbjQCFE36ODlsFgEKmpqWQymWCxWITZbNZaLBatxWJJMJvNiWazWWs0GpGamgqj0YjjP4+XGYeyLCMQCMDv9zd9PPrz2tpa8vl8Ea/XG/F6vZLX65V9Pp/i8/nI7/eLYDB4qmBUCaAaDcHIzqNGjHV9HKAYYycVC1qJaFiuIjX28ZjPk5KSLCkpKel6vT5Dq9VaNBqNmYhMiqIYZVlOBaDXaDRarVar0Wg0Wr1eD6PRSCaTCSaTSVgsFo3FYtFZLJYEo9GYoNPpNFqtVmg0GqHVaoVWq4VGoznhdvRxIQQURYEsy1AU5YRb43FZlklRFGr8WFdXJ/l8vqjH42kKPLW1tfD7/aKurk7IsqwoiiLHbpJWq63TarV+IYSfiGoVRfFEo1FPXV2dKxgMumOzMf0AArGPR38dJCKl8/8XGWMdgQMUY6xTCSH0aCaIxT5PAaA56qYVQjSmL61Op9NpNBqtEEKn0Wi0sc+1ADREJBORrCiKFLvJckMCavwo4f8Wc228RXBs0Dk6/NTxlH3G2MlwgGKMMcYYayWN2gUwxhhjjHU3HKAYY4wxxlqJAxRjjDHGWCvxVi6MtUFsQdE5sS91AIYCyCIitxCiDA3NyDIAiYjGxJ6TB+DvsfvmEFGg0wtnjDHWJtxEzlg7EUJcBuAeIrow9nUZgDFE5DzuccsB/A3AAAC9iOjFzq6VMcZY2/AlPMbaz3UA/tGCx2nxf9PoRYdWxBhjrEPwCBRj7UAIYQBQAWBQ4yatQoifAXgAEICXiOjl2PG+aBiB8qFhs2W/OlUzxhg7U9wDxVj7uAzAV8ftcP8rIqoSQlgBfC6E2EdERURUDmCiOmUyxhhrD3wJj7FWEkIsFEKUxG55scPX4rjLd0RUFftoB/ABgPM6t1LGGGMdhS/hMdZGQggzgJ8B5BNRMHYsBQ3bi/hjn38O4DEi2qhiqYwxxtoJX8JjrO2uAvBZY3iKyQbwQcNevNABeIvDE2OMxQ8egWKMMcYYayXugWKMMcYYayUOUIwxxhhjrcQBijHGGGOslThAMcYYY4y1EgcoxhhjjLFW4gDFGGOMMdZKHKAYY4wxxlrp/wEKH89RPRwgQgAAAABJRU5ErkJggg==\n",
>>>>>>> origin/master
      "text/plain": [
       "<Figure size 720x576 with 1 Axes>"
      ]
     },
     "metadata": {
      "needs_background": "light"
     },
     "output_type": "display_data"
    }
   ],
   "source": [
    "fig = plt.figure()\n",
    "fig.set_size_inches((10, 8))\n",
    "ax = fig.add_subplot(111, projection='hammer')\n",
    "\n",
    "circles = []\n",
    "for r, d, l in zip(e_ra, e_dec, lam):\n",
    "    color = label_cmap.colors[int(l)]\n",
    "    circles.append(mpatches.Circle((r-np.pi,d), 0.05, color=color, alpha=0.7))\n",
    "collection = PatchCollection(circles, match_original=True)    \n",
    "ax.add_collection(collection)   \n",
    "\n",
    "circles = []\n",
    "norm = max([1 - _/zth for _ in redshift])\n",
    "for r, d, z in zip(s_ra, s_dec, redshift):\n",
    "    circles.append(mpatches.Circle((r-np.pi,d), 0.05, color='k', alpha=(1-z/zth)/norm))\n",
    "collection = PatchCollection(circles, match_original=True)\n",
    "ax.add_collection(collection)\n",
    "ax.axhline(np.deg2rad(-5), color='k', linestyle=\":\")"
   ]
  },
  {
   "cell_type": "code",
   "execution_count": 104,
   "metadata": {
    "ExecuteTime": {
     "end_time": "2020-08-11T15:25:37.172983Z",
     "start_time": "2020-08-11T15:25:37.166424Z"
    }
   },
   "outputs": [
    {
     "data": {
      "text/plain": [
       "array([3.28204829e+05, 7.57630875e+06, 6.68477339e+05, 3.44566161e+06,\n",
       "       1.71929405e+07, 1.89267605e+05, 9.91671748e+05, 1.07394979e+08,\n",
       "       5.02032176e+05, 1.32186130e+06, 8.80507678e+05, 8.31969446e+05,\n",
       "       4.27091198e+05, 5.10927280e+05, 8.99204343e+05, 3.78610745e+05,\n",
       "       3.39957272e+05, 1.08995002e+06, 8.98829988e+05, 4.76940197e+05,\n",
       "       1.13119940e+06, 6.70706703e+05, 3.54114740e+07, 4.39259440e+06,\n",
       "       3.52054874e+05, 1.58618723e+06, 1.84112455e+06, 1.88870461e+05,\n",
       "       5.16239013e+05, 8.07692982e+05, 1.00563812e+06, 1.92217069e+06,\n",
       "       9.57172888e+05, 8.25523464e+06, 2.40899110e+05, 7.72228347e+05,\n",
       "       1.85012021e+06, 2.06831287e+05, 8.20497758e+05, 3.80431256e+05,\n",
       "       8.89210062e+06, 2.52018060e+06, 7.09511035e+05, 8.50255196e+05,\n",
       "       1.83008453e+05, 2.19066330e+05, 3.57377453e+05, 3.77177109e+05,\n",
       "       3.94874550e+05, 7.86692137e+05, 3.13930864e+05, 1.56032675e+07,\n",
       "       7.64852141e+05, 4.61505069e+05, 1.20114270e+07, 2.03088887e+05,\n",
       "       1.43384275e+06, 1.82481199e+06, 5.75657972e+05, 1.23784093e+06,\n",
       "       3.03513973e+05, 7.18685741e+06, 9.95520476e+05, 3.96244181e+06,\n",
       "       4.17785707e+05, 3.12395847e+05, 5.00016762e+06, 1.65050725e+06,\n",
       "       7.01084042e+05, 1.20122614e+07, 9.41274818e+05, 4.54180949e+05,\n",
       "       2.64852690e+06, 2.27204798e+06, 2.21120285e+05, 4.21222875e+05,\n",
       "       6.26579904e+05, 1.86396915e+06, 3.17224300e+05, 1.44279773e+08])"
      ]
     },
     "execution_count": 104,
     "metadata": {},
     "output_type": "execute_result"
    }
   ],
   "source": [
    "Esrc"
   ]
  },
  {
   "cell_type": "code",
   "execution_count": 105,
   "metadata": {
    "ExecuteTime": {
     "end_time": "2020-08-11T15:25:44.326074Z",
     "start_time": "2020-08-11T15:25:42.655573Z"
    }
   },
   "outputs": [
    {
     "data": {
      "image/png": "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\n",
      "text/plain": [
       "<Figure size 432x288 with 1 Axes>"
      ]
     },
     "metadata": {
      "needs_background": "light"
     },
     "output_type": "display_data"
    }
   ],
   "source": [
    "# Plot energies\n",
    "Emin_cascades = inputs['Emin']\n",
    "bins = np.logspace(np.log(Emin_cascades/1000), np.log(1E+4*Emin_cascades), base = np.e)\n",
    "\n",
    "fig, ax = plt.subplots()\n",
    "ax.hist(Esrc, bins=bins, label='$\\\\tilde{E}$', alpha=0.7);\n",
    "ax.hist(Edet_sim, bins=bins, label='$\\hat{E}$', alpha=0.7);\n",
    "ax.set_xscale('log')\n",
    "ax.set_yscale('log')\n",
    "ax.set_xlabel('$E$ / GeV')\n",
    "ax.legend();"
   ]
  },
  {
   "cell_type": "markdown",
   "metadata": {},
   "source": [
    "## Generate Stan code for fit"
   ]
  },
  {
   "cell_type": "code",
   "execution_count": 106,
   "metadata": {
    "ExecuteTime": {
     "end_time": "2020-08-11T15:28:58.818852Z",
     "start_time": "2020-08-11T15:28:58.813878Z"
    }
   },
   "outputs": [],
   "source": [
    "from python.backend.stan_generator import ParametersContext, TransformedParametersContext, ModelContext\n",
    "from python.backend.variable_definitions import ParameterDef, ParameterVectorDef"
   ]
  },
  {
   "cell_type": "code",
   "execution_count": 121,
   "metadata": {
    "ExecuteTime": {
     "end_time": "2020-08-11T15:40:04.241934Z",
     "start_time": "2020-08-11T15:40:04.086330Z"
    }
   },
   "outputs": [
    {
     "name": "stderr",
     "output_type": "stream",
     "text": [
      "INFO:python.backend.code_generator:Object of type <python.backend.stan_generator.FunctionsContext object at 0x11acc0490> already on stack\n",
      "INFO:python.backend.code_generator:Object of type <python.backend.stan_generator.FunctionsContext object at 0x11acc0510> already on stack\n",
      "INFO:python.backend.code_generator:Object of type <python.backend.stan_generator.FunctionsContext object at 0x11acc0410> already on stack\n",
      "INFO:python.backend.code_generator:Object of type <python.backend.stan_generator.DefinitionContext object at 0x11cae0a10> already on stack\n",
      "INFO:python.backend.code_generator:Object of type <python.backend.stan_generator.DefinitionContext object at 0x11e79fd50> already on stack\n",
      "INFO:python.backend.code_generator:Object of type <python.backend.stan_generator.DefinitionContext object at 0x11acc0b50> already on stack\n",
      "INFO:python.backend.code_generator:Object of type <python.backend.stan_generator.DefinitionContext object at 0x11acdb5d0> already on stack\n",
      "INFO:python.backend.code_generator:Object of type <python.backend.stan_generator.FunctionsContext object at 0x11acdb4d0> already on stack\n",
      "INFO:python.backend.code_generator:Object of type <python.backend.stan_generator.FunctionsContext object at 0x11acdbb10> already on stack\n",
      "INFO:python.backend.code_generator:Object of type <python.backend.stan_generator.DefinitionContext object at 0x11d077cd0> already on stack\n",
      "INFO:python.backend.code_generator:Object of type <python.backend.stan_generator.DefinitionContext object at 0x11d077090> already on stack\n",
      "INFO:python.backend.code_generator:Object of type <python.backend.stan_generator.DefinitionContext object at 0x11d077310> already on stack\n",
      "INFO:python.backend.code_generator:Object of type <python.backend.stan_generator.DefinitionContext object at 0x11d077f90> already on stack\n",
      "INFO:python.backend.code_generator:Object of type <python.backend.stan_generator.DefinitionContext object at 0x11d0774d0> already on stack\n",
      "INFO:python.backend.code_generator:Object of type <python.backend.stan_generator.DefinitionContext object at 0x11d0775d0> already on stack\n",
      "INFO:python.backend.code_generator:Object of type <python.backend.stan_generator.DefinitionContext object at 0x11d077910> already on stack\n",
      "INFO:python.backend.code_generator:Object of type <python.backend.stan_generator.DefinitionContext object at 0x11d077d10> already on stack\n",
      "INFO:python.backend.code_generator:Object of type <python.backend.stan_generator.DefinitionContext object at 0x11d077390> already on stack\n",
      "INFO:python.backend.code_generator:Object of type <python.backend.stan_generator.DefinitionContext object at 0x11d077850> already on stack\n",
      "INFO:python.backend.code_generator:Object of type <python.backend.stan_generator.DefinitionContext object at 0x11d077050> already on stack\n",
      "INFO:python.backend.code_generator:Object of type <python.backend.stan_generator.DefinitionContext object at 0x11d077c90> already on stack\n",
      "INFO:python.backend.code_generator:Object of type <python.backend.stan_generator.DefinitionContext object at 0x11d077a90> already on stack\n",
      "INFO:python.backend.code_generator:Object of type <python.backend.stan_generator.DefinitionContext object at 0x11d04a210> already on stack\n",
      "INFO:python.backend.code_generator:Object of type <python.backend.stan_generator.DefinitionContext object at 0x11d04a2d0> already on stack\n",
      "INFO:python.backend.code_generator:Object of type <python.backend.stan_generator.DefinitionContext object at 0x11d04ac90> already on stack\n",
      "INFO:python.backend.code_generator:Object of type <python.backend.stan_generator.DefinitionContext object at 0x11d04ae90> already on stack\n",
      "INFO:python.backend.code_generator:Object of type <python.backend.stan_generator.DefinitionContext object at 0x11d04a490> already on stack\n",
      "INFO:python.backend.code_generator:Object of type <python.backend.stan_generator.DefinitionContext object at 0x11d04a890> already on stack\n",
      "INFO:python.backend.code_generator:Object of type <python.backend.stan_generator.DefinitionContext object at 0x11d04af90> already on stack\n",
      "INFO:python.backend.code_generator:Object of type <python.backend.stan_generator.DefinitionContext object at 0x11d04a910> already on stack\n",
      "INFO:python.backend.code_generator:Object of type <python.backend.stan_generator.DefinitionContext object at 0x11d0427d0> already on stack\n",
      "INFO:python.backend.code_generator:Object of type <python.backend.stan_generator.DefinitionContext object at 0x11d04aed0> already on stack\n",
      "INFO:python.backend.code_generator:Object of type <python.backend.stan_generator.DefinitionContext object at 0x11d0421d0> already on stack\n",
      "INFO:python.backend.code_generator:Object of type <python.backend.stan_generator.DefinitionContext object at 0x11d0420d0> already on stack\n"
     ]
    }
   ],
   "source": [
    "with StanFileGenerator(\"stan_files/model_code\") as cg:\n",
    "\n",
    "    with FunctionsContext() as fc:\n",
    "        _ = Include(\"utils.stan\")\n",
    "        _ = Include(\"vMF.stan\")\n",
    "        _ = Include(\"interpolation.stan\")\n",
    "        _ = Include(\"energy_spectrum.stan\")\n",
    "        _ = Include(\"sim_functions.stan\")\n",
    "        ntd = NorthernTracksDetectorModel()\n",
    "        \n",
    "    with DataContext() as dc:\n",
    "        \n",
    "        # Neutrinos\n",
    "        N = ForwardVariableDef(\"N\", \"int\")\n",
    "        N_str = [\"[\", N, \"]\"]\n",
    "        omega_det = ForwardArrayDef(\"omega_det\", \"unit_vector[3]\", N_str)\n",
    "        Edet = ForwardVariableDef(\"Edet\", \"vector[N]\")\n",
    "        Emin = ForwardVariableDef(\"Emin\", \"real\")\n",
    "        \n",
    "         # Sources\n",
    "        Ns = ForwardVariableDef(\"Ns\", \"int\")\n",
    "        Ns_str = [\"[\", Ns, \"]\"]\n",
    "        Ns_1p_str = [\"[\", Ns, \"+1]\"]\n",
    "        \n",
    "        varpi = ForwardArrayDef(\"varpi\", \"unit_vector[3]\", Ns_str)\n",
    "        D = ForwardVariableDef(\"D\", \"vector[Ns]\")\n",
    "        z = ForwardVariableDef(\"z\", \"vector[Ns+1]\")\n",
    "\n",
    "        # Precomputed quantities\n",
    "        Ngrid = ForwardVariableDef(\"Ngrid\", \"int\")\n",
    "        alpha_grid = ForwardVariableDef(\"alpha_grid\", \"vector[Ngrid]\")\n",
    "        integral_grid = ForwardArrayDef(\"integral_grid\", \n",
    "                                        \"vector[Ngrid]\", Ns_1p_str)\n",
    "        \n",
    "        # Inputs\n",
    "        T = ForwardVariableDef(\"T\", \"real\")\n",
    "        \n",
    "    with TransformedDataContext() as tdc:\n",
    "        \n",
    "        zenith = ForwardVariableDef(\"zenith\", \"vector[N]\")\n",
    "        \n",
    "        with ForLoopContext(1, N, \"i\") as i:\n",
    "            zenith[i] << StringExpression([\"pi() - acos(\", omega_det[i][3], \")\"])\n",
    "        \n",
    "        StringExpression([\"print(\", Ngrid, \")\"])\n",
    "            \n",
    "    with ParametersContext() as pc:\n",
    "        \n",
    "        Q = ParameterDef(\"Q\", \"real\", 0.0, 1e60)\n",
    "        F0 = ParameterDef(\"F0\", \"real\", 0.0, 500)\n",
    "        \n",
    "        alpha = ParameterDef(\"alpha\", \"real\", 1.5, 3.5)\n",
    "        \n",
    "        Esrc = ParameterVectorDef(\"Esrc\", \"vector\", N_str, Emin, 1e8)\n",
    "        \n",
    "    with TransformedParametersContext() as tpc:\n",
    "        \n",
    "        Fs = ParameterDef(\"Fs\", \"real\", 0.0)\n",
    "        \n",
    "        F = ForwardVariableDef(\"F\", \"vector[Ns]\")\n",
    "        allF = ForwardVariableDef(\"allF\", \"vector[Ns+1]\")\n",
    "        eps = ForwardVariableDef(\"eps\", \"vector[Ns+1]\")\n",
    "        \n",
    "        f = ParameterDef(\"f\", \"real\", 0, 1)\n",
    "        FT = ParameterDef(\"FT\", \"real\", 0)\n",
    "        \n",
    "        lp = ForwardArrayDef(\"lp\", \"vector[Ns+1]\", N_str)\n",
    "        logF = ForwardVariableDef(\"logF\", \"vector[Ns+1]\")\n",
    "        Nex = ForwardVariableDef(\"Nex\", \"real\")\n",
    "        E = ForwardVariableDef(\"E\", \"vector[N]\")       \n",
    "        \n",
    "        Fs << 0\n",
    "        with ForLoopContext(1, Ns, \"k\") as k:\n",
    "            F[k] << StringExpression([Q, \"/ (4 * pi() * pow(\", \n",
    "                                      D[k], \" * \", 3.086e22, \", 2))\"])\n",
    "            allF[k] << F[k]\n",
    "            StringExpression([Fs,\" += \", F[k]])\n",
    "        StringExpression(\"allF[Ns+1]\") << F0\n",
    "        FT << F0 + Fs\n",
    "        f << StringExpression([Fs, \" / \", FT]) \n",
    "        \n",
    "        logF << StringExpression([\"log(\", allF, \")\"])\n",
    "        \n",
    "        with ForLoopContext(1, N, \"i\") as i:\n",
    "            lp[i] << logF \n",
    "            StringExpression([\"print(\\\"lp[i]: \\\",\", lp[i], \")\"])\n",
    "            with ForLoopContext(1, \"Ns+1\", \"k\") as k:\n",
    "                StringExpression([lp[i][k], \" += pareto_lpdf(\", Esrc[i], \n",
    "                                  \" | \", Emin, \" , \", alpha-1, \")\"])\n",
    "                E[i] << StringExpression([Esrc[i], \" / (\",  1+z[k], \")\"]) \n",
    "                \n",
    "                StringExpression([\"if (\", k ,\" < Ns+1) {\\n\", \n",
    "                                  lp[i][k], \" += log(\", \n",
    "                                  ntd.angular_resolution(E[i], varpi[k], omega_det[i]),\n",
    "                                  \");\\n}\\n\", \"else if (\", k, \" == Ns+1) {\\n\", \n",
    "                                  lp[i][k], \" += \", np.log(1/(4*np.pi)), \n",
    "                                  \";\\n}\"])\n",
    "                \n",
    "                StringExpression([lp[i][k], \" += log(\", \n",
    "                                  ntd.energy_resolution(E[i], Edet[i]), \")\"])\n",
    "                \n",
    "        eps << StringExpression([\"get_exposure_factor(\", T, \", \", Emin, \", \", \n",
    "                                 alpha, \", \", alpha_grid, \", \", \n",
    "                                 integral_grid, \", \", Ns, \")\"])  \n",
    "        Nex << StringExpression([\"get_Nex(\", allF, \", \", eps, \")\"])\n",
    "    \n",
    "    with ModelContext() as mc:\n",
    "        \n",
    "        with ForLoopContext(1, N, \"i\") as i:\n",
    "            StringExpression([\"target += log_sum_exp(\", lp[i], \")\"])\n",
    "        StringExpression([\"target += -\", Nex])\n",
    "        \n",
    "    model = cg.generate_single_file()"
   ]
  },
  {
   "cell_type": "code",
   "execution_count": 122,
   "metadata": {
    "ExecuteTime": {
     "end_time": "2020-08-11T15:41:13.063379Z",
     "start_time": "2020-08-11T15:40:04.694456Z"
    }
   },
   "outputs": [
    {
     "name": "stderr",
     "output_type": "stream",
     "text": [
      "INFO:pystan:COMPILING THE C++ CODE FOR MODEL model_9dfb58423dd3d51af4fd6f5beff1dd67 NOW.\n"
     ]
    }
   ],
   "source": [
    "# Compile\n",
    "this_dir = os.path.abspath('')\n",
    "include_paths = [os.path.join(this_dir, \n",
    "                              \"../dev/statistical_model/4_tracks_and_cascades/stan/\")]\n",
    "\n",
    "sm = stan_utility.compile_model(filename=cg.filename, include_paths=include_paths, \n",
    "                                model_name=\"model\")"
   ]
  },
  {
   "cell_type": "code",
   "execution_count": 123,
   "metadata": {
    "ExecuteTime": {
     "end_time": "2020-08-11T15:41:13.075781Z",
     "start_time": "2020-08-11T15:41:13.067148Z"
    }
   },
   "outputs": [],
   "source": [
    "inputs = {}\n",
    "inputs[\"N\"] = len(Edet_sim)\n",
    "inputs[\"omega_det\"] = event.unit_vector\n",
    "inputs[\"Edet\"] = Edet_sim\n",
    "inputs[\"Ns\"] = source_list.N - 1\n",
    "\n",
    "inputs['z'] = redshift\n",
    "inputs['D'] = lum_dist[:-1]\n",
    "inputs['varpi'] = varpi_in\n",
    "\n",
    "inputs[\"Emin\"] = 1e5 # GeV\n",
    "\n",
    "inputs['Ngrid'] = len(exposure_integral.alpha_grid)\n",
    "inputs['alpha_grid'] = exposure_integral.alpha_grid\n",
    "inputs['integral_grid'] = exposure_integral.integral_grid\n",
    "\n",
    "inputs[\"T\"] = 1"
   ]
  },
  {
   "cell_type": "code",
   "execution_count": null,
   "metadata": {
    "ExecuteTime": {
     "start_time": "2020-08-11T15:41:14.516Z"
    }
   },
   "outputs": [],
   "source": [
    "# fit\n",
    "fit = sm.sampling(data=inputs, iter=1000, chains=4)"
   ]
  },
  {
   "cell_type": "code",
   "execution_count": 58,
   "metadata": {
    "ExecuteTime": {
     "end_time": "2020-08-11T15:06:25.621507Z",
     "start_time": "2020-08-11T15:06:25.615157Z"
    }
   },
   "outputs": [
    {
     "data": {
      "text/plain": [
       "array([1.00000000e+02, 5.62341325e+03, 3.16227766e+05, 1.77827941e+07,\n",
       "       1.00000000e+09])"
      ]
     },
     "execution_count": 58,
     "metadata": {},
     "output_type": "execute_result"
    }
   ],
   "source": [
    "np.logspace(2, 9, n)"
   ]
  },
  {
   "cell_type": "code",
   "execution_count": 59,
   "metadata": {
    "ExecuteTime": {
     "end_time": "2020-08-11T15:06:56.548401Z",
     "start_time": "2020-08-11T15:06:56.539919Z"
    }
   },
   "outputs": [
    {
     "data": {
      "text/plain": [
       "array([3.49571646, 4.33024616, 4.90004284, 3.76900298, 4.30696786,\n",
       "       4.04945775, 5.04154114, 4.10298216, 5.10301597, 4.35026815,\n",
       "       4.63648445, 4.75127085, 4.83211712, 3.90954469, 3.74656023,\n",
       "       4.2526149 , 3.64143653, 3.61201149, 3.87720403, 5.4358007 ,\n",
       "       3.42471812, 3.47892618, 4.76813784, 3.03029111, 3.29538437,\n",
       "       3.13077049, 5.08114334, 3.95655227, 4.82620164, 4.65802393,\n",
       "       3.89168358, 5.67274361, 4.0160673 , 4.41801799, 3.20870193,\n",
       "       4.97750158, 3.94190382, 5.21937516, 4.55482781, 3.57416784,\n",
       "       5.56019797, 3.9554862 , 4.05472271, 3.73906463, 3.96158302,\n",
       "       5.21158833, 4.38977561, 4.31862291, 4.8307756 , 4.2184027 ,\n",
       "       3.81322002, 3.67398267, 4.64869669, 4.34477113, 4.61096975,\n",
       "       4.69136678, 3.72379367, 2.82693675, 5.22883988, 4.90255972,\n",
       "       3.40441273, 3.57674614, 4.62183559, 5.25735496, 3.33140384,\n",
       "       4.047144  , 5.34683466, 3.61697855, 4.91947412, 4.86849595,\n",
       "       4.24835614, 4.16215812, 6.48507499, 3.70829993, 4.25572846,\n",
       "       3.64286775, 3.36786783])"
      ]
     },
     "execution_count": 59,
     "metadata": {},
     "output_type": "execute_result"
    }
   ],
   "source": [
    "Edet_sim"
   ]
  },
  {
   "cell_type": "code",
   "execution_count": null,
   "metadata": {},
   "outputs": [],
   "source": []
  }
 ],
 "metadata": {
  "kernelspec": {
   "display_name": "bayes",
   "language": "python",
   "name": "bayes"
  },
  "language_info": {
   "codemirror_mode": {
    "name": "ipython",
    "version": 3
   },
   "file_extension": ".py",
   "mimetype": "text/x-python",
   "name": "python",
   "nbconvert_exporter": "python",
   "pygments_lexer": "ipython3",
   "version": "3.7.6"
  }
 },
 "nbformat": 4,
 "nbformat_minor": 4
}
