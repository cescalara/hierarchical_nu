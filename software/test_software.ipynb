{
 "cells": [
  {
   "cell_type": "markdown",
   "metadata": {},
   "source": [
    "# Testing "
   ]
  },
  {
   "cell_type": "code",
   "execution_count": 2,
   "metadata": {
    "ExecuteTime": {
     "end_time": "2021-01-28T15:45:17.740138Z",
     "start_time": "2021-01-28T15:45:17.712327Z"
    }
   },
   "outputs": [
    {
     "name": "stdout",
     "output_type": "stream",
     "text": [
      "The autoreload extension is already loaded. To reload it, use:\n",
      "  %reload_ext autoreload\n"
     ]
    }
   ],
   "source": [
    "import numpy as np\n",
    "from matplotlib import pyplot as plt\n",
    "import h5py\n",
    "import os\n",
    "import stan_utility\n",
    "import corner\n",
    "import astropy.units as u\n",
    "%load_ext autoreload\n",
    "%autoreload 2\n",
    "#%matplotlib notebook"
   ]
  },
  {
   "cell_type": "markdown",
   "metadata": {},
   "source": [
    "## Sources"
   ]
  },
  {
   "cell_type": "code",
   "execution_count": 109,
   "metadata": {
    "ExecuteTime": {
     "end_time": "2021-01-28T16:42:22.412019Z",
     "start_time": "2021-01-28T16:42:22.365137Z"
    }
   },
   "outputs": [],
   "source": [
    "from python.source.parameter import Parameter\n",
    "from python.source.source import Sources, PointSource"
   ]
  },
  {
   "cell_type": "code",
   "execution_count": 144,
   "metadata": {
    "ExecuteTime": {
     "end_time": "2021-01-28T16:47:16.844278Z",
     "start_time": "2021-01-28T16:47:16.783566Z"
    }
   },
   "outputs": [],
   "source": [
    "# define high-level parameters\n",
    "Parameter.clear_registry()\n",
    "index = Parameter(2.2, \"index\", fixed=False, par_range=(1.0, 4))\n",
    "L = Parameter(1E47 * (u.erg / u.s), \"luminosity\", fixed=True, par_range=(0, 1E60))\n",
    "diffuse_norm = Parameter(1e-13 /u.GeV/u.m**2/u.s, \"diffuse_norm\", fixed=True, \n",
    "                         par_range=(0, np.inf))\n",
    "Enorm = Parameter(1E5 * u.GeV, \"Enorm\", fixed=True)\n",
    "Emin = Parameter(5E4 * u.GeV, \"Emin\", fixed=True)\n",
    "Emax = Parameter(1E8 * u.GeV, \"Emax\", fixed=True)\n",
    "#Emin_det = Parameter(1E5 * u.GeV, \"Emin_det\", fixed=True)\n",
    "\n",
    "Emin_det_tracks = Parameter(1e5 * u.GeV, \"Emin_det_tracks\", fixed=True)\n",
    "Emin_det_cascades = Parameter(6e4 * u.GeV, \"Emin_det_cascades\", fixed=True)\n",
    "\n",
    "# Single PS for testing and usual components\n",
    "point_source = PointSource.make_powerlaw_source(\"test\", np.deg2rad(5)*u.rad,\n",
    "                                                np.pi*u.rad, \n",
    "                                                L, index, 0.43, Emin, Emax)\n",
    "\n",
    "# Multiple sources from file\n",
    "#source_file = \"../dev/statistical_model/data/test_SFR_pop.h5\"\n",
    "#point_sources = PointSource.make_powerlaw_sources_from_file(source_file, L, \n",
    "#                                                            index, Emin, Emax)\n",
    "\n",
    "my_sources = Sources()\n",
    "#my_sources.add(point_sources)\n",
    "#my_sources.select_below_redshift(0.8)\n",
    "my_sources.add(point_source)\n",
    "\n",
    "my_sources.add_diffuse_component(diffuse_norm, Enorm.value) # auto diffuse component \n",
    "my_sources.add_atmospheric_component() # auto atmo component"
   ]
  },
  {
   "cell_type": "code",
   "execution_count": 145,
   "metadata": {
    "ExecuteTime": {
     "end_time": "2021-01-28T16:47:17.275511Z",
     "start_time": "2021-01-28T16:47:17.109579Z"
    }
   },
   "outputs": [
    {
     "data": {
      "text/latex": [
       "$0.026158252 \\; \\mathrm{}$"
      ],
      "text/plain": [
       "<Quantity 0.02615825>"
      ]
     },
     "execution_count": 145,
     "metadata": {},
     "output_type": "execute_result"
    }
   ],
   "source": [
    "my_sources.associated_fraction()"
   ]
  },
  {
   "cell_type": "markdown",
   "metadata": {},
   "source": [
    "## Simulation"
   ]
  },
  {
   "cell_type": "code",
   "execution_count": 146,
   "metadata": {
    "ExecuteTime": {
     "end_time": "2021-01-28T16:47:17.904897Z",
     "start_time": "2021-01-28T16:47:17.855299Z"
    }
   },
   "outputs": [],
   "source": [
    "from python.simulation import Simulation\n",
    "from python.detector.cascades import CascadesDetectorModel \n",
    "from python.detector.northern_tracks import NorthernTracksDetectorModel\n",
    "from python.detector.icecube import IceCubeDetectorModel"
   ]
  },
  {
   "cell_type": "code",
   "execution_count": 147,
   "metadata": {
    "ExecuteTime": {
     "end_time": "2021-01-28T16:47:21.002698Z",
     "start_time": "2021-01-28T16:47:20.952076Z"
    }
   },
   "outputs": [],
   "source": [
    "obs_time = 10 * u.year\n",
    "#sim = Simulation(my_sources, CascadesDetectorModel, obs_time)\n",
    "#sim = Simulation(my_sources, NorthernTracksDetectorModel, obs_time)\n",
    "sim = Simulation(my_sources, IceCubeDetectorModel, obs_time)"
   ]
  },
  {
   "cell_type": "code",
   "execution_count": 148,
   "metadata": {
    "ExecuteTime": {
     "end_time": "2021-01-28T16:48:32.051372Z",
     "start_time": "2021-01-28T16:47:33.151970Z"
    }
   },
   "outputs": [
    {
     "name": "stderr",
     "output_type": "stream",
     "text": [
      "INFO:cmdstanpy:compiling stan program, exe file: /Users/fran/projects/hierarchical_nu/software/stan_files/atmo_gen\n",
      "INFO:cmdstanpy:compiler options: stanc_options={'include_paths': ['/Users/fran/projects/hierarchical_nu/software/stan_files']}, cpp_options=None\n",
      "INFO:cmdstanpy:compiled model file: /Users/fran/projects/hierarchical_nu/software/stan_files/atmo_gen\n",
      "INFO:cmdstanpy:compiling stan program, exe file: /Users/fran/projects/hierarchical_nu/software/stan_files/sim_code\n",
      "INFO:cmdstanpy:compiler options: stanc_options={'include_paths': ['/Users/fran/projects/hierarchical_nu/software/stan_files']}, cpp_options=None\n",
      "INFO:cmdstanpy:compiled model file: /Users/fran/projects/hierarchical_nu/software/stan_files/sim_code\n",
      "INFO:cmdstanpy:start chain 1\n",
      "INFO:cmdstanpy:finish chain 1\n",
      "INFO:cmdstanpy:start chain 1\n"
     ]
    },
    {
     "name": "stdout",
     "output_type": "stream",
     "text": [
      "Running a simulation with expected Nnu = 32.62 events\n"
     ]
    },
    {
     "name": "stderr",
     "output_type": "stream",
     "text": [
      "INFO:cmdstanpy:finish chain 1\n"
     ]
    }
   ],
   "source": [
    "sim.precomputation()\n",
    "sim.generate_stan_code()\n",
    "sim.compile_stan_code()\n",
    "sim.run(verbose=True, seed=42)\n",
    "sim.save(\"output/test_sim_file.h5\")"
   ]
  },
  {
   "cell_type": "code",
   "execution_count": 149,
   "metadata": {
    "ExecuteTime": {
     "end_time": "2021-01-28T16:48:32.696041Z",
     "start_time": "2021-01-28T16:48:32.053174Z"
    }
   },
   "outputs": [
    {
     "data": {
      "image/png": "[encoded data removed]",
      "text/plain": [
       "<Figure size 432x288 with 1 Axes>"
      ]
     },
     "metadata": {
      "needs_background": "light"
     },
     "output_type": "display_data"
    }
   ],
   "source": [
    "fig, ax = sim.show_spectrum()"
   ]
  },
  {
   "cell_type": "code",
   "execution_count": 150,
   "metadata": {
    "ExecuteTime": {
     "end_time": "2021-01-28T16:48:33.283009Z",
     "start_time": "2021-01-28T16:48:32.698645Z"
    }
   },
   "outputs": [
    {
     "data": {
      "image/png": "[encoded data removed]",
      "text/plain": [
       "<Figure size 504x360 with 1 Axes>"
      ]
     },
     "metadata": {
      "needs_background": "light"
     },
     "output_type": "display_data"
    }
   ],
   "source": [
    "fig, ax = sim.show_skymap()"
   ]
  },
  {
   "cell_type": "markdown",
   "metadata": {},
   "source": [
    "## Fit "
   ]
  },
  {
   "cell_type": "code",
   "execution_count": 151,
   "metadata": {
    "ExecuteTime": {
     "end_time": "2021-01-28T16:48:33.324955Z",
     "start_time": "2021-01-28T16:48:33.286348Z"
    }
   },
   "outputs": [],
   "source": [
    "from python.events import Events\n",
    "from python.fit import StanFit\n",
    "from python.detector.northern_tracks import NorthernTracksDetectorModel\n",
    "from python.detector.cascades import CascadesDetectorModel\n",
    "from python.detector.icecube import IceCubeDetectorModel"
   ]
  },
  {
   "cell_type": "code",
   "execution_count": 152,
   "metadata": {
    "ExecuteTime": {
     "end_time": "2021-01-28T16:48:33.370085Z",
     "start_time": "2021-01-28T16:48:33.326857Z"
    }
   },
   "outputs": [],
   "source": [
    "events = Events.from_file(\"output/test_sim_file.h5\")\n",
    "obs_time = 10 * u.year"
   ]
  },
  {
   "cell_type": "code",
   "execution_count": 153,
   "metadata": {
    "ExecuteTime": {
     "end_time": "2021-01-28T16:48:33.412630Z",
     "start_time": "2021-01-28T16:48:33.371517Z"
    }
   },
   "outputs": [],
   "source": [
    "#fit = StanFit(my_sources, CascadesDetectorModel, events, obs_time)\n",
    "#fit = StanFit(my_sources, NorthernTracksDetectorModel, events, obs_time)\n",
    "fit = StanFit(my_sources, IceCubeDetectorModel, events, obs_time)"
   ]
  },
  {
   "cell_type": "code",
   "execution_count": null,
   "metadata": {
    "ExecuteTime": {
     "start_time": "2021-01-28T16:47:49.434Z"
    }
   },
   "outputs": [
    {
     "name": "stderr",
     "output_type": "stream",
     "text": [
      "INFO:cmdstanpy:compiling stan program, exe file: /Users/fran/projects/hierarchical_nu/software/stan_files/model_code\n",
      "INFO:cmdstanpy:compiler options: stanc_options={'include_paths': ['/Users/fran/projects/hierarchical_nu/software/stan_files']}, cpp_options=None\n",
      "INFO:cmdstanpy:compiled model file: /Users/fran/projects/hierarchical_nu/software/stan_files/model_code\n",
      "Chain 1 - warmup:  25%|██▌       | 500/2000 [00:27<01:23, 18.04it/s]"
     ]
    }
   ],
   "source": [
    "fit.precomputation()\n",
    "fit.generate_stan_code()\n",
    "fit.compile_stan_code()\n",
    "fit.run(show_progress=True, seed=42)"
   ]
  },
  {
   "cell_type": "code",
   "execution_count": null,
   "metadata": {
    "ExecuteTime": {
     "start_time": "2021-01-28T16:47:50.370Z"
    }
   },
   "outputs": [],
   "source": [
    "fit.plot_trace()"
   ]
  },
  {
   "cell_type": "code",
   "execution_count": null,
   "metadata": {
    "ExecuteTime": {
     "start_time": "2021-01-28T16:47:51.570Z"
    }
   },
   "outputs": [],
   "source": [
    "fit.save(\"output/test_fit_file.h5\")"
   ]
  },
  {
   "cell_type": "markdown",
   "metadata": {},
   "source": [
    "We can check the results of the fit against the known true values from the above simulation."
   ]
  },
  {
   "cell_type": "code",
   "execution_count": null,
   "metadata": {
    "ExecuteTime": {
     "start_time": "2021-01-28T16:47:52.217Z"
    }
   },
   "outputs": [],
   "source": [
    "from python.simulation import SimInfo"
   ]
  },
  {
   "cell_type": "code",
   "execution_count": null,
   "metadata": {
    "ExecuteTime": {
     "start_time": "2021-01-28T16:47:53.075Z"
    },
    "scrolled": false
   },
   "outputs": [],
   "source": [
    "sim_info = SimInfo.from_file(\"output/test_sim_file.h5\")\n",
    "fig = fit.corner_plot(truths=sim_info.truths)"
   ]
  },
  {
   "cell_type": "markdown",
   "metadata": {},
   "source": [
    "Similarly, we can use the simulation info to check the classification of individual events. We shouldn't be concerned if things are slighty off, particularly between the two background components. "
   ]
  },
  {
   "cell_type": "code",
   "execution_count": null,
   "metadata": {
    "ExecuteTime": {
     "start_time": "2021-01-28T16:47:54.769Z"
    }
   },
   "outputs": [],
   "source": [
    "fit.check_classification(sim_info.outputs)"
   ]
  },
  {
   "cell_type": "code",
   "execution_count": null,
   "metadata": {},
   "outputs": [],
   "source": []
  }
 ],
 "metadata": {
  "kernelspec": {
   "display_name": "bayes",
   "language": "python",
   "name": "bayes"
  },
  "language_info": {
   "codemirror_mode": {
    "name": "ipython",
    "version": 3
   },
   "file_extension": ".py",
   "mimetype": "text/x-python",
   "name": "python",
   "nbconvert_exporter": "python",
   "pygments_lexer": "ipython3",
   "version": "3.8.7"
  }
 },
 "nbformat": 4,
 "nbformat_minor": 4
}
