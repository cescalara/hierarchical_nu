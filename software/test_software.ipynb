{
 "cells": [
  {
   "cell_type": "markdown",
   "metadata": {},
   "source": [
    "# Testing software"
   ]
  },
  {
   "cell_type": "code",
   "execution_count": 26,
   "metadata": {
    "ExecuteTime": {
     "end_time": "2020-08-21T14:20:01.034081Z",
     "start_time": "2020-08-21T14:20:00.997841Z"
    }
   },
   "outputs": [],
   "source": [
    "import numpy as np\n",
    "from matplotlib import pyplot as plt\n",
    "import os\n",
    "import stan_utility\n",
    "import astropy.units as u\n",
    "%load_ext autoreload\n",
    "%autoreload 2\n",
    "import seaborn as sns\n",
    "from scipy.integrate import quad"
   ]
  },
  {
   "cell_type": "markdown",
   "metadata": {},
   "source": [
    "## Sources"
   ]
  },
  {
   "cell_type": "code",
   "execution_count": 2,
   "metadata": {
    "ExecuteTime": {
     "end_time": "2020-08-21T14:22:01.260999Z",
     "start_time": "2020-08-21T14:22:01.229250Z"
    }
   },
   "outputs": [],
   "source": [
    "from python.source.simple_source import PointSource, DiffuseSource, TestSourceList\n",
    "from python.source.flux_model import PowerLawSpectrum, IsotropicDiffuseBG\n",
    "from python.source.parameter import Parameter\n",
    "Parameter.clear_registry()\n",
    "from python.source.atmospheric_flux import AtmosphericNuMuFlux\n",
    "from python.backend.stan_generator import ParametersContext, TransformedParametersContext, ModelContext\n",
    "from python.backend.variable_definitions import ParameterDef, ParameterVectorDef"
   ]
  },
  {
   "cell_type": "code",
   "execution_count": 3,
   "metadata": {},
   "outputs": [
    {
     "data": {
      "text/latex": [
       "$0.30187206 \\; \\mathrm{\\frac{1}{s\\,m^{2}}}$"
      ],
      "text/plain": [
       "<Quantity 0.30187206 1 / (m2 s)>"
      ]
     },
     "execution_count": 3,
     "metadata": {},
     "output_type": "execute_result"
    }
   ],
   "source": [
    "atmo_bg_flux = AtmosphericNuMuFlux(1E2 * u.GeV, 1E9 * u.GeV)\n",
    "atmo_bg_flux.total_flux_int"
   ]
  },
  {
   "cell_type": "code",
   "execution_count": 4,
   "metadata": {},
   "outputs": [
    {
     "name": "stdout",
     "output_type": "stream",
     "text": [
      "1.0000000000000001e+55 erg / s\n",
      "Parameter test_norm = 6.242457975475833e-08 1 / (GeV m2 s)\n"
     ]
    }
   ],
   "source": [
    "source = PointSource.make_powerlaw_source(\n",
    "    \"test\", 1*u.rad, 2*u.rad, 1E55*u.erg/u.s, 2.2, 1, 1E2*u.GeV, 1E9*u.GeV)\n",
    "print(source.luminosity)\n",
    "print(source.parameters[\"norm\"])"
   ]
  },
  {
   "cell_type": "code",
   "execution_count": 5,
   "metadata": {
    "ExecuteTime": {
     "end_time": "2020-08-21T14:22:02.600622Z",
     "start_time": "2020-08-21T14:22:01.997427Z"
    }
   },
   "outputs": [],
   "source": [
    "# Loading from file\n",
    "source_file = '../dev/statistical_model/data/test_SFR_pop.h5'\n",
    "\n",
    "ps_norm = Parameter(0.5*1E-11 /u.GeV/u.m**2/u.s, \"ps_norm\", fixed=True, par_range=(0, np.inf))\n",
    "index = Parameter(2.1, \"index\", fixed=False, par_range=(1.1, 4))\n",
    "diffuse_norm = Parameter(1.44E-14 /u.GeV/u.m**2/u.s, \"diffuse_norm\", fixed=True, par_range=(0, np.inf))\n",
    "\n",
    "source_list = TestSourceList(source_file, spectral_shape=PowerLawSpectrum(ps_norm, 1E3*u.GeV, index, lower_energy=1E2*u.GeV, upper_energy=1E9*u.GeV))\n",
    "\n",
    "# Select sources below zth = 1\n",
    "zth = 1.0\n",
    "source_list.select_below_redshift(zth)\n",
    "\n",
    "# Add a diffuse background at z = 1\n",
    "\n",
    "diffuse_flux_model = IsotropicDiffuseBG(PowerLawSpectrum(diffuse_norm, 1E5*u.GeV, index, lower_energy=1E2*u.GeV, upper_energy=1E9*u.GeV))\n",
    "\n",
    "diffuse_bg = DiffuseSource('diffuse_bg', zth, flux_model=diffuse_flux_model)\n",
    "source_list.add(diffuse_bg)\n",
    "\n",
    "atmo_bg = DiffuseSource('atmo_bg', 0, flux_model=atmo_bg_flux)\n",
    "source_list.add(atmo_bg)"
   ]
  },
  {
   "cell_type": "code",
   "execution_count": 6,
   "metadata": {},
   "outputs": [
    {
     "data": {
      "text/latex": [
       "$0.30187206 \\; \\mathrm{\\frac{1}{s\\,m^{2}}}$"
      ],
      "text/plain": [
       "<Quantity 0.30187206 1 / (m2 s)>"
      ]
     },
     "execution_count": 6,
     "metadata": {},
     "output_type": "execute_result"
    }
   ],
   "source": [
    "source_list[-1].flux_model.total_flux_int"
   ]
  },
  {
   "cell_type": "code",
   "execution_count": 7,
   "metadata": {},
   "outputs": [
    {
     "data": {
      "text/latex": [
       "$2.6119797 \\times 10^{-6} \\; \\mathrm{\\frac{1}{s\\,m^{2}}}$"
      ],
      "text/plain": [
       "<Quantity 2.61197971e-06 1 / (m2 s)>"
      ]
     },
     "execution_count": 7,
     "metadata": {},
     "output_type": "execute_result"
    }
   ],
   "source": [
    "source_list[-2].flux_model.total_flux_int"
   ]
  },
  {
   "cell_type": "code",
   "execution_count": 8,
   "metadata": {},
   "outputs": [],
   "source": [
    "source_ints = [source.flux_model.total_flux_int for source in source_list]"
   ]
  },
  {
   "cell_type": "code",
   "execution_count": 9,
   "metadata": {},
   "outputs": [
    {
     "name": "stdout",
     "output_type": "stream",
     "text": [
      "0.4476983973700852\n"
     ]
    }
   ],
   "source": [
    "f = sum(source_ints[:-2]) / sum(source_ints[:-1])\n",
    "print(f)"
   ]
  },
  {
   "cell_type": "code",
   "execution_count": 10,
   "metadata": {},
   "outputs": [
    {
     "name": "stdout",
     "output_type": "stream",
     "text": [
      "5e-12 1 / (GeV m2 s)\n",
      "1.6458997692407433e+46 erg / s\n"
     ]
    }
   ],
   "source": [
    "source_list.sources[0].parameters[\"index\"].value = 3\n",
    "print(source_list.sources[1].parameters[\"norm\"].value)\n",
    "print(source_list.sources[0].luminosity)"
   ]
  },
  {
   "cell_type": "code",
   "execution_count": 11,
   "metadata": {
    "ExecuteTime": {
     "end_time": "2020-08-21T14:22:03.725595Z",
     "start_time": "2020-08-21T14:22:03.695660Z"
    }
   },
   "outputs": [
    {
     "data": {
      "text/plain": [
       "39"
      ]
     },
     "execution_count": 11,
     "metadata": {},
     "output_type": "execute_result"
    }
   ],
   "source": [
    "source_list.N"
   ]
  },
  {
   "cell_type": "code",
   "execution_count": 12,
   "metadata": {
    "ExecuteTime": {
     "end_time": "2020-08-21T14:22:04.075629Z",
     "start_time": "2020-08-21T14:22:03.949454Z"
    }
   },
   "outputs": [
    {
     "data": {
      "text/latex": [
       "$0.30260131 \\; \\mathrm{\\frac{1}{s\\,m^{2}}}$"
      ],
      "text/plain": [
       "<Quantity 0.30260131 1 / (m2 s)>"
      ]
     },
     "execution_count": 12,
     "metadata": {},
     "output_type": "execute_result"
    }
   ],
   "source": [
    "source_list.total_flux_int()"
   ]
  },
  {
   "cell_type": "markdown",
   "metadata": {},
   "source": [
    "## Precomputation"
   ]
  },
  {
   "cell_type": "code",
   "execution_count": 13,
   "metadata": {
    "ExecuteTime": {
     "end_time": "2020-08-21T14:22:04.634168Z",
     "start_time": "2020-08-21T14:22:04.606419Z"
    }
   },
   "outputs": [],
   "source": [
    "from python.precomputation import ExposureIntegral\n",
    "from python.detector_model import NorthernTracksEffectiveArea\n"
   ]
  },
  {
   "cell_type": "code",
   "execution_count": 14,
   "metadata": {
    "ExecuteTime": {
     "end_time": "2020-08-21T14:32:50.015287Z",
     "start_time": "2020-08-21T14:32:47.045492Z"
    }
   },
   "outputs": [
    {
     "name": "stderr",
     "output_type": "stream",
     "text": [
      "INFO:python.backend.code_generator:Object of type <python.backend.stan_generator.FunctionsContext object at 0x7fafbc0028d0> already on stack\n",
      "INFO:python.backend.code_generator:Object of type <python.backend.stan_generator.DefinitionContext object at 0x7fafbc00ae10> already on stack\n",
      "INFO:python.backend.code_generator:Object of type <python.backend.stan_generator.DefinitionContext object at 0x7fafbc00af90> already on stack\n"
     ]
    }
   ],
   "source": [
    "time = 8 * u.year # years -> not used rn\n",
    "Edet_min = 1.0e5 * u.GeV # GeV\n",
    "\n",
    "exposure_integral = ExposureIntegral(source_list, NorthernTracksEffectiveArea, \n",
    "                                     time, Edet_min)\n",
    "\n",
    "exposure_integral()"
   ]
  },
  {
   "cell_type": "code",
   "execution_count": 18,
   "metadata": {},
   "outputs": [
    {
     "data": {
      "text/latex": [
       "$33.858241 \\; \\mathrm{\\frac{1}{yr}}$"
      ],
      "text/plain": [
       "<Quantity 33.85824123 1 / yr>"
      ]
     },
     "execution_count": 18,
     "metadata": {},
     "output_type": "execute_result"
    }
   },
   "outputs": [],
   "source": [
    "exposure_integral.calculate_rate(source_list[-1]).to(1 / u.yr)"
   ]
  },
  {
   "cell_type": "code",
   "execution_count": null,
   "metadata": {
    "ExecuteTime": {
     "end_time": "2020-08-21T09:50:12.288907Z",
     "start_time": "2020-08-21T09:50:11.961907Z"
    }
   },
   "outputs": [],
   "source": [
    "fig, ax = plt.subplots()\n",
    "plt.imshow(np.log10(exposure_integral._effective_area._eff_area), aspect='auto')\n",
    "plt.colorbar()"
   ]
  },
  {
   "cell_type": "code",
   "execution_count": null,
   "metadata": {
    "ExecuteTime": {
     "end_time": "2020-08-21T09:50:12.324455Z",
     "start_time": "2020-08-21T09:50:12.292033Z"
    }
   },
   "outputs": [],
   "source": [
    "(exposure_integral.integral_grid[-1][20] / diffuse_bg.redshift_factor(1)).to(1/u.yr)"
   ]
  },
  {
   "cell_type": "code",
   "execution_count": null,
   "metadata": {
    "ExecuteTime": {
     "end_time": "2020-08-21T09:50:12.595779Z",
     "start_time": "2020-08-21T09:50:12.327061Z"
    }
   },
   "outputs": [],
   "source": [
    "fig, ax = plt.subplots()\n",
    "for _ in exposure_integral.integral_grid:\n",
    "    ax.plot(exposure_integral.par_grids[\"index\"], _)"
   ]
  },
  {
   "cell_type": "markdown",
   "metadata": {},
   "source": [
    "## Generate Stan code for simulation\n"
   ]
  },
  {
   "cell_type": "code",
   "execution_count": 19,
   "metadata": {
    "ExecuteTime": {
     "end_time": "2020-08-14T15:50:02.332443Z",
     "start_time": "2020-08-14T15:50:02.327572Z"
    }
   },
   "outputs": [],
   "source": [
    "from python.detector_model import NorthernTracksDetectorModel\n",
    "from python.backend.stan_generator import (\n",
    "    StanGenerator, GeneratedQuantitiesContext, DataContext, TransformedDataContext,\n",
    "    FunctionsContext, Include, ForLoopContext, StanFileGenerator, WhileLoopContext, FunctionCall, ModelContext)\n",
    "from python.backend.variable_definitions import ForwardVariableDef, ForwardArrayDef\n",
    "from python.backend.expression import StringExpression\n",
    "from python.backend.parameterizations import DistributionMode\n",
    "import logging\n",
    "logging.basicConfig(level=logging.WARN)"
   ]
  },
  {
   "cell_type": "markdown",
   "metadata": {},
   "source": [
    "### Test sampling functions"
   ]
  },
  {
   "cell_type": "code",
   "execution_count": 20,
   "metadata": {},
   "outputs": [
    {
     "name": "stderr",
     "output_type": "stream",
     "text": [
      "INFO:python.backend.code_generator:Object of type <python.backend.stan_generator.FunctionsContext object at 0x7f2090eeb050> already on stack\n",
      "INFO:python.backend.code_generator:Object of type <python.backend.stan_generator.DefinitionContext object at 0x7f209137ecd0> already on stack\n",
      "INFO:python.backend.code_generator:Object of type <python.backend.stan_generator.FunctionsContext object at 0x7f20920b2f90> already on stack\n",
      "INFO:python.backend.code_generator:Object of type <python.backend.stan_generator.DefinitionContext object at 0x7f2091ff7310> already on stack\n",
      "INFO:python.backend.code_generator:Object of type <python.backend.stan_generator.FunctionsContext object at 0x7f2090e14890> already on stack\n",
      "INFO:python.backend.code_generator:Object of type <python.backend.stan_generator.FunctionsContext object at 0x7f2090e14e90> already on stack\n",
      "INFO:python.backend.code_generator:Object of type <python.backend.stan_generator.DefinitionContext object at 0x7f20913e6790> already on stack\n",
      "INFO:python.backend.code_generator:Object of type <python.backend.stan_generator.DefinitionContext object at 0x7f2091b43c90> already on stack\n",
      "INFO:python.backend.code_generator:Object of type <python.backend.stan_generator.DefinitionContext object at 0x7f2090ef3a10> already on stack\n",
      "INFO:python.backend.code_generator:Object of type <python.backend.stan_generator.DefinitionContext object at 0x7f2090e14a50> already on stack\n",
      "INFO:python.backend.code_generator:Object of type <python.backend.stan_generator.DefinitionContext object at 0x7f2090f4f510> already on stack\n",
      "INFO:python.backend.code_generator:Object of type <python.backend.stan_generator.DefinitionContext object at 0x7f2090f4fc50> already on stack\n",
      "INFO:python.backend.code_generator:Object of type <python.backend.stan_generator.DefinitionContext object at 0x7f2090f4fb90> already on stack\n",
      "INFO:python.backend.code_generator:Object of type <python.backend.stan_generator.DefinitionContext object at 0x7f2091fdacd0> already on stack\n"
     ]
    }
   ],
   "source": [
    "Ns = 100000\n",
    "with StanFileGenerator(\"stan_files/test.stan\") as cg:\n",
    "    with FunctionsContext() as fc:\n",
    "        _ = Include(\"utils.stan\")\n",
    "        _ = Include(\"interpolation.stan\")\n",
    "    \n",
    "    \n",
    "    spectrum_rng = source.flux_model.spectral_shape.make_stan_sampling_func(\"spectrum_rng\")\n",
    "    diffuse_flux_rng = diffuse_flux_model.make_stan_sampling_func(\"diffuse_bg_rng\")\n",
    "    atmu_nu_flux = atmo_bg_flux.make_stan_function(theta_points=100)\n",
    "    \n",
    "    with ParametersContext():\n",
    "        energy = ParameterDef(\"energy\", \"real\", 1E2, 1E9)\n",
    "        coszen = ParameterDef(\"coszen\", \"real\", -1, 1) \n",
    "        \n",
    "    with TransformedParametersContext():\n",
    "        omega = ForwardVariableDef(\"omega\", \"vector[3]\")\n",
    "        zen = ForwardVariableDef(\"zen\", \"real\")\n",
    "        sinzen = ForwardVariableDef(\"sinzen\", \"real\")\n",
    "        \n",
    "        zen << FunctionCall([coszen], \"acos\")\n",
    "        sinzen  << FunctionCall([zen], \"sin\")\n",
    "        \n",
    "        omega[1] << sinzen\n",
    "        omega[2] << 0\n",
    "        omega[3] << coszen\n",
    "  \n",
    "    with ModelContext():\n",
    "        \n",
    "        logflux = FunctionCall([atmu_nu_flux(energy, omega)], \"log\")\n",
    "        StringExpression([\"target += \", logflux])\n",
    "       \n",
    "    with GeneratedQuantitiesContext():\n",
    "        pl_samples = ForwardVariableDef(\"pl_samples\", \"real\")\n",
    "        diffuse_events = ForwardVariableDef(\"diffuse_events\", \"vector[3]\") \n",
    "\n",
    "        #with ForLoopContext(1, Ns, \"i\") as i:\n",
    "        pl_samples << spectrum_rng(2, 1E2, 1E9)\n",
    "        diffuse_events << diffuse_flux_rng(2, 1E2, 1E9)"
   ]
  },
  {
   "cell_type": "code",
   "execution_count": 21,
   "metadata": {},
   "outputs": [
    {
     "name": "stdout",
     "output_type": "stream",
     "text": [
      "Using cached StanModel\n"
     ]
    },
    {
     "name": "stderr",
     "output_type": "stream",
     "text": [
      "WARNING:pystan:n_eff / iter below 0.001 indicates that the effective sample size has likely been overestimated\n",
      "WARNING:pystan:Rhat above 1.1 or below 0.9 indicates that the chains very likely have not mixed\n"
     ]
    }
   ],
   "source": [
    "model = cg.generate_single_file()\n",
    "# Compile\n",
    "this_dir = os.path.abspath('')\n",
    "include_paths = [os.path.join(this_dir, \n",
    "                              \"../dev/statistical_model/4_tracks_and_cascades/stan/\")]\n",
    "\n",
    "sm = stan_utility.compile_model(filename=cg.filename, include_paths=include_paths, \n",
    "                                model_name=\"sim\")\n",
    "simulation = sm.sampling(data={}, iter=1000, chains=1, \n",
    "                         algorithm=\"NUTS\")"
   ]
  },
  {
   "cell_type": "markdown",
   "metadata": {},
   "source": [
    "#### Diffuse events"
   ]
  },
  {
   "cell_type": "code",
   "execution_count": 22,
   "metadata": {},
   "outputs": [
    {
     "data": {
      "image/png": "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\n",
      "text/plain": [
       "<Figure size 720x288 with 2 Axes>"
      ]
     },
     "metadata": {
      "needs_background": "light"
     },
     "output_type": "display_data"
    }
   ],
   "source": [
    "events = simulation.extract([\"diffuse_events\"])[\"diffuse_events\"]\n",
    "fig, axs = plt.subplots(1, 2, figsize=(10, 4))\n",
    "sns.distplot(np.log10(events[:, 0]), kde=False, ax = axs[0])\n",
    "axs[0].set_yscale(\"log\")\n",
    "axs[0].set_xlabel(\"log10(Energy / GeV)\")\n",
    "axs[1].set_xlabel(\"sin(dec)\")\n",
    "sns.distplot(np.sin(events[:, 1]), kde=False, ax = axs[1])\n",
    "plt.tight_layout()"
   ]
  },
  {
   "cell_type": "markdown",
   "metadata": {},
   "source": [
    "#### Atmo events"
   ]
  },
  {
   "cell_type": "code",
   "execution_count": 23,
   "metadata": {},
   "outputs": [
    {
     "data": {
      "text/plain": [
       "[]"
      ]
     },
     "execution_count": 23,
     "metadata": {},
     "output_type": "execute_result"
    },
    {
     "data": {
      "image/png": "iVBORw0KGgoAAAANSUhEUgAAAsgAAAEYCAYAAABBfQDEAAAABHNCSVQICAgIfAhkiAAAAAlwSFlzAAALEgAACxIB0t1+/AAAADh0RVh0U29mdHdhcmUAbWF0cGxvdGxpYiB2ZXJzaW9uMy4yLjIsIGh0dHA6Ly9tYXRwbG90bGliLm9yZy+WH4yJAAAgAElEQVR4nO3df7RcZX3v8ffHIJaqPaiAWkIaEESiRdBItLS90UobvMbUFiw/rBYhuXgXrbarRbRd2l7r0qv3R8VavVFY1CqwhIolNII/UKAWUCQJwkVs5AqmoPEXRxAqP/zeP/YO7hzmhDnnzJw5J3m/1jorM3ue/ezvs2fPnm+eeZ69U1VIkiRJajxm1AFIkiRJc4kJsiRJktRhgixJkiR1mCBLkiRJHSbIkiRJUsduow4AYK+99qrFixePOgxJGomvfOUr36uqvUexbc+/knZlk51/50SCvHjxYq677rpRhyFJI5HktlFt2/OvpF3ZZOdfh1hIkiRJHSbIkiRJUocJsiRJktRhgixJkiR1mCBLkiRJHSbIkiRJUocJsiRJktRhgixJu6AkK5OsHR8fH3UokjTnmCBL0i6oqtZV1ZqxsbFRhyJJc86cuJPeTJx77e3TWu+EZYsGHIkkSTuX6X7H9svvYs1V9iBLkiRJHUNJkJP8dpIPJfmnJL85jG1IkiRJw9B3gpzk7CRbk9w4YfmKJLck2ZzkDICq+mRVrQb+APi9gUYsSZIkDdFUepDPAVZ0FyRZALwfOBpYAhyfZEmnyF+0r0uSJEnzQt+T9KrqyiSLJyw+AthcVbcCJDkfWJXkZuBdwKeq6vpe9SVZA6wBWLRo9gfpT2figZMJJEmSdn4zHYO8L/CtzvMt7bI/BF4KHJPk1F4rVtXaqlpaVUv33nvvGYYhSZIkDcZML/OWHsuqqs4Ezpxh3ZIkSdKsm2kP8hZgv87zhcAdM6xTkiRJGpmZJshfBg5Ksn+S3YHjgItnHpYkSZI0GlO5zNt5wNXAwUm2JDm5qh4ETgMuA24GPl5VN02hzpVJ1o6Pj081bkmSJGkopnIVi+MnWb4eWD+djVfVOmDd0qVLV09nfUmSJGnQvNW0JEmS1GGCLEmSJHWYIEuSJEkdI02QnaQnSZKkuWakCXJVrauqNWNjY6MMQ5IkSXqYQywkSZKkDhNkSZIkqcMEWZIkSeowQZakXZCTpCVpcl7FQpJ2QU6SlqTJeRULSZIkqWO3UQcgSZJ2Tedee/tQ6z9h2aKh1q+dl2OQJUmSpA4TZEmSJKnDIRZTMN2fgvyJR5Ikaf6wB1mSJEnq8DJvkiRJUoeXeZMkSZI6HGIhSZIkdZggS5IkSR1exWIWePULSZKk+cMeZEmSJKnDBFmSJEnqMEGWJEmSOkyQJUmSpA5vFCJJkiR1eKMQSZIkqcMhFpIkSVKHCbIkSZLUYYIsSZIkdZggS5IkSR0myJK0k0lyQJKzklw46lgkaT4yQZakIbnrrrs45phjeNaznsUhhxzC1VdfPa16kpydZGuSG3u8tiLJLUk2JzkDoKpuraqTZxi+JO2yTJAlaUje8IY3sGLFCr72ta+xadMmDjnkkO1e37p1K3ffffd2y5Ic2KOqc4AVExcmWQC8HzgaWAIcn2TJgMKXpF2WCbIkDcGPfvQjrrzySk4+uenI3X333dlzzz23K3PFFVewatUqgAAkWQ2cObGuqroS+EGPzRwBbG57jO8HzgdW9ROfN2qSpMl5Jz1JGoJbb72Vvffem5NOOonDDz+cU045hR//+MfblTn22GNZsWIFwAFJTgReB7xqCpvZF/hW5/kWYN8kT0nyQeDwJG/utaI3apKkyXknPUkaggcffJDrr7+e17/+9WzYsIHHP/7xvOtd73pEudNPPx2ggA8Ar6iqe6awmfRYVlX1/ao6taqeUVXvnFYDJGkX5hALSRqChQsXsnDhQpYtWwbAMcccw/XXX/+IcldddRXAHsBFwNumuJktwH7dzQJ3TCdeSdLP7DbqADS5c6+9fVrrnbBs0YAjkTRVT3va09hvv/245ZZbOPjgg/nc5z7HkiXbz5/bsGEDq1evBtgMnAR8NMlfV9Vf9LmZLwMHJdkf+HfgOOCEwbVCknZN9iBL0pC8733v48QTT+TQQw9l48aNvOUtb9nu9XvvvZcLLrgA4CdV9VPgtcBtE+tJch5wNXBwki1JTgaoqgeB04DLgJuBj1fVTUNtlCTtAuxBlqQhOeyww7juuusmff3II4/c7nlVPQB8aGK5qjp+sjqqaj2wfvpRSpImsgdZkiRJ6jBBliRJkjpMkCVJkqQOE2RJkiSpwwRZkiRJ6jBBliRJkjpMkCVJkqSOkSbISVYmWTs+Pj7KMCRJkqSHjTRBrqp1VbVmbGxslGFIkiRJD3OIhSRJktThraZ3Qudee/u01jth2aIBRyJJkjT/2IMsSZIkdZggS5IkSR0myJIkSVKHCbIkSZLUYYIsSZIkdZggS5IkSR0myJIkSVKHCbIkSZLUYYIsSZIkdZggS5IkSR0myJIkSVKHCbIkSZLUsduoA9D8d+61t09rvROWLRpwJJIkSTNnD7Ik7YKSrEyydnx8fNShSNKcM9IE2RO0JI1GVa2rqjVjY2OjDkWS5pyRJsieoCVJkjTXOMRCkiRJ6jBBliRJkjpMkCVJkqQOE2RJkiSpwwRZkiRJ6jBBliRJkjq8k54eNt074s329rwDnyRJGiZ7kCVJkqQOE2RJkiSpwwRZkiRJ6jBBliRJkjqcpKd5x8l9kqR+zMbkc79bdk72IEuSJEkdJsiSJElShwmyJEmS1GGCLEmSJHWYIEuSJEkdJsiSJElSh5d5kyRpHpqNS5hJuyp7kCVJkqQOE2RJkiSpwwRZkiRJ6jBBliRJkjpMkCVJkqQOE2RJkiSpw8u8aZcxnUsinbBs0RAikSRJc9nAe5CTHJDkrCQXDrpuSZIkadj6SpCTnJ1ka5IbJyxfkeSWJJuTnAFQVbdW1cnDCFaSJEkatn57kM8BVnQXJFkAvB84GlgCHJ9kyUCjkyRJkmZZXwlyVV0J/GDC4iOAzW2P8f3A+cCqAccnSZIkzaqZTNLbF/hW5/kWYFmSpwDvAA5P8uaqemevlZOsAdYALFrkRChJ0uyazsTdqXCSrzR/zSRBTo9lVVXfB059tJWrai2wFmDp0qU1gzgkSR1JDgD+HBirqmNGHY8kzTczuYrFFmC/zvOFwB0zC0eSdi4PPfQQhx9+OC9/+cunXcdkE6Xb15wsLUkDNpME+cvAQUn2T7I7cBxw8WDCkqSdw3vf+14OOeSQnq9t3bqVu+++e7tlSQ7sUfQcJkyUbss6WVqShqDfy7ydB1wNHJxkS5KTq+pB4DTgMuBm4ONVddNUNp5kZZK14+PjU41bkua8LVu28M///M+ccsopPV+/4oorWLVqFbRD1pKsBs6cWG6SidIwg8nSnn8laXL9XsXi+Kp6elU9tqoWVtVZ7fL1VfXMqnpGVb1jqhuvqnVVtWZsbGyqq0rSnPfGN76Rd7/73TzmMb1PtcceeywrVqwAOCDJicDrgFdNYRO9Jkvvm+QpST5IO1m614qefyVpcgO/k54kCS655BL22Wcfnv/85++w3Omnnw5QwAeAV1TVPVPYzKSTpavq1LbzoueVhCRJkzNBlqQh+OIXv8jFF1/M4sWLOe6447j88st59atf/YhyV111FcAewEXA26a4GSdLS9IQmCBL0hC8853vZMuWLXzzm9/k/PPP5yUveQkf/ehHtyuzYcMGVq9eDbAZOAl4cpK/nsJmnCwtSUNggixJI3LvvfdywQUXAPykqn4KvBa4bWK5XhOlAQYxWVqS9EgzuVHIjCVZCaw88MBeVzWSpJ3D8uXLWb58+SOWH3nkkds9r6oHgA9NLFdVx09Wd1WtB9bPOEhJ0sNG2oPsLGpJkiTNNQ6xkCRJkjpGOsRCkqSd1bnX3j7qECRNkz3IkiRJUocJsiRJktQx0gQ5ycoka8fHx0cZhiRJkvSwkY5Brqp1wLqlS5euHmUckqS5xzG8mg/m+3F6wrJFow5hTnKIhSRJktRhgixJkiR1mCBLkiRJHSbIkiRJUocJsiRJktQx0qtYJFkJrDzwwANHGYY0cNOd1exsYkmSRm+kPchVta6q1oyNjY0yDEmSJOlhDrGQJEmSOkyQJUmSpA4TZEmSJKnDBFmSJEnqMEGWJEmSOkyQJUmSpA6vgyztwHSvZyxJkuYvr4MsSZIkdTjEQpIkSeowQZYkSZI6TJAlSZKkDhNkSZIkqcMEWZIkSeowQZYkSZI6TJAlSZKkDhNkSZIkqWOkCXKSlUnWjo+PjzIMSZIk6WHeSU+SJEnqcIiFJEmS1GGCLEmSJHWYIEuSJEkdJsiSJElShwmyJEmS1GGCLEmSJHWYIEvSTibJAUnOSnLhqGORpPnIBFmShuA//uM/OOKII3juc5/Ls5/9bN72trdNu64kZyfZmuTGHq+tSHJLks1JzgCoqlur6uQZhC9JuzQTZEkagsc97nFcfvnlbNq0iY0bN3LppZdyzTXXbFdm69at3H333dstS3Jgj+rOAVZMXJhkAfB+4GhgCXB8kiUDaoIk7bJMkCVpCJLwhCc8AYAHHniABx54gCTblbniiitYtWoVQNp1VgNnTqyrqq4EftBjM0cAm9se4/uB84FVfca3Msna8fHx/hslSbsIE2RJGpKHHnqIww47jH322YejjjqKZcuWbff6sccey4oVKwAOSHIi8DrgVVPYxL7AtzrPtwD7JnlKkg8Chyd5c68Vq2pdVa0ZGxubSpMkaZew2yg3nmQlsPLAA3v9oijtes699vZprXfCskXzYnu7mgULFrBx40buuusuXvnKV3LjjTfynOc8Z7syp59+Om9605sK+ADwjKq6ZwqbSI9lVVXfB06dfuSStGsbaQ+yPRiSdgV77rkny5cv59JLL33Ea1dddRXAHsBFwFRn8m0B9us8XwjcMc0wJUkth1hI0hB897vf5a677gLgvvvu47Of/SzPetaztiuzYcMGVq9eDbAZOAl4cpK/nsJmvgwclGT/JLsDxwEXDyJ+SdqVmSBL0hDceeedvPjFL+bQQw/lBS94AUcddRQvf/nLtytz7733csEFFwD8pKp+CrwWuG1iXUnOA64GDk6yJcnJAFX1IHAacBlwM/DxqrppqA2TpF3ASMcgS9LO6tBDD2XDhg07LHPkkUdu97yqHgA+NLFcVR0/WR1VtR5YP70oJUm92IMsSZIkdZggS5IkSR0myJIkSVKHCbIkSZLUYYIsSZIkdZggS5IkSR0myJIkSVKHCbIkSZLUYYIsSZIkdZggS5IkSR0myJIkSVKHCbIkSZLUYYIsSZIkdZggS5IkSR27jXLjSVYCKw888MBRhiHNe+dee/u82N4JyxYNOBJJkgZvpD3IVbWuqtaMjY2NMgxJkiTpYQ6xkCRJkjpGOsRCkiRJO7dhDwMcxvA9e5AlSZKkDhNkSZIkqcMEWZIkSeowQZYkSZI6TJAlSZKkDhNkSZIkqcMEWZIkSeowQZYkSZI6TJAlSZKkDhNkSZIkqcMEWZIkSeowQZYkSZI6TJAlSZKkjt1GHYAkaf4599rbRx2CJA2NPciSJElShwmyJEmS1GGCLEmSJHWYIEuSJEkdJsiSJElShwmyJEmS1GGCLEmSJHWYIEuSJEkdJsiSJElShwmyJEmS1DHwW00neTzwd8D9wBeq6mOD3oYkSZI0LH31ICc5O8nWJDdOWL4iyS1JNic5o138O8CFVbUaeMWA45UkSZKGqt8hFucAK7oLkiwA3g8cDSwBjk+yBFgIfKst9tBgwpQkSZJmR19DLKrqyiSLJyw+AthcVbcCJDkfWAVsoUmSN7KDBDzJGmANwKJFi6YatyQ9qnOvvX3WtnXCMs9jkuaf2TxPziczmaS3Lz/rKYYmMd4X+ATwu0k+AKybbOWqWltVS6tq6d577z2DMCRJkqTBmckkvfRYVlX1Y+CkGdQrSZIkjcxMepC3APt1ni8E7phZOJIkSdJozSRB/jJwUJL9k+wOHAdcPJiwJEmSpNHo9zJv5wFXAwcn2ZLk5Kp6EDgNuAy4Gfh4Vd00lY0nWZlk7fj4+FTjliRJkoai36tYHD/J8vXA+uluvKrWAeuWLl26erp1SJIkSYPkraYlSZKkDhNkSZIkqcMEWZIkSeoYaYLsJD1JkiTNNamqUcdAku8Ct01j1b2A7w04nLnIdu58dpW22s7+/FJVjeSWon2cf+fiezgXY4K5GZcx9WcuxgRzM66dLaae5985kSBPV5LrqmrpqOMYNtu589lV2mo757+52La5GBPMzbiMqT9zMSaYm3HtKjE5BlmSJEnqMEGWJEmSOuZ7grx21AHMEtu589lV2mo757+52La5GBPMzbiMqT9zMSaYm3HtEjHN6zHIkiRJ0qDN9x5kSZIkaaBMkCVJkqSOOZ8gJ9kvyeeT3JzkpiRv6FEmSc5MsjnJDUmeN4pYZ6LPdp7Ytu+GJP+a5LmjiHUm+mlnp+wLkjyU5JjZjHEQ+m1nkuVJNrZlrpjtOAehz2N3LMm6JJvaMieNItaZSPJzSb7UacNf9SgzL89FSY5t2/TTJJNeKinJiiS3tO07o7P8yUk+k+Tf2n+fNICYHrXOJAe3n59tfz9K8sb2tb9M8u+d1142GzG15b6Z5Kvtdq+b6vrDiGtHn9NB7qvJjpHO65N+Rh5t3SHGNOl362Tv5SzEtDzJeOc9eWu/6w4xpj/rxHNjmu/nJ7evDWs/nZ1ka5IbJ3l9eMdTVc3pP+DpwPPax08Evg4smVDmZcCngAAvBK4dddxDauevAE9qHx+9s7azfW0BcDmwHjhm1HEP6f3cE/i/wKL2+T6jjnuIbX0L8N/bx3sDPwB2H3XsU2xngCe0jx8LXAu8cEKZeXkuAg4BDga+ACydpMwC4BvAAcDuwKZt7zPwbuCM9vEZ297rGcY0pTrb+L5Nc9F/gL8E/nTA+6mvmIBvAnvNtE2DjGtHn9NB7asdHSOdMj0/I/2sO8SYJv1uney9nIWYlgOXTGfdYcU0ofxK4PJh7qe23l8HngfcOMnrQzue5nwPclXdWVXXt4/vBm4G9p1QbBXwkWpcA+yZ5OmzHOqM9NPOqvrXqvph+/QaYOHsRjlzfb6fAH8I/COwdRbDG5g+23kC8Imqur0ttzO3tYAnJgnwBJoE+cFZDXSG2vPLPe3Tx7Z/E2c5z8tzUVXdXFW3PEqxI4DNVXVrVd0PnE/TXtp//759/PfAbw8grKnW+RvAN6pqOndlHVZMg15/2vVO4dw7Ezs6Rrqx9vqM9LPuUGIawXfrTNo6sv00wfHAeQPY7g5V1ZU03xeTGdrxNOcT5K4ki4HDaXpuuvYFvtV5voXBf/BnzQ7a2XUyzf+a5q3J2plkX+CVwAdnP6rB28H7+UzgSUm+kOQrSV4z27EN2g7a+rc0vZR3AF8F3lBVP53V4AYgyYIkG2n+4/aZqtqpz0UT7KhtT62qO6FJxIB9BrC9qdZ5HI/8wj6t/dn17AENZ+g3pgI+3X6u10xj/WHFBUz6OR3Evurn+J+szLA+O1Otd+J362Tv5WzE9KI0Q7o+leTZU1x3WDGR5OeBFTSdWNsMYz/1Y2jH024zDm2WJHkCzZvxxqr60cSXe6wyL69f9yjt3FbmxTQf4l+dzdgG6VHa+TfAm6rqoabDcf56lHbuBjyfpudrD+DqJNdU1ddnOcyBeJS2/hawEXgJ8AzgM0mumuwYn6uq6iHgsCR7AhcleU5VdcfGzdlzUZLPAk/r8dKfV9U/9VNFj2UzatuOYppiPbsDrwDe3Fn8AeDtNDG+HfifwOtmKaYjq+qOJPvQHOtfa3vCpm2A+6rX53Ra+6pX9T2WTTxGJiszrM9O3/VO8t068Peyz5iupxkudE87JvyTwEF9rjusmLZZCXyxqro9u8PYT/0Y2vE0LxLkJI+l+UB/rKo+0aPIFmC/zvOFND1V80of7STJocCHgaOr6vuzGd+g9NHOpcD5bXK8F/CyJA9W1SdnMcwZ6/O4/V5V/Rj4cZIrgefSjA2cV/po60nAu6oZHLY5yf8DngV8aRbDHJiquivJF2h6UboJ8pw9F1XVS2dYxY7a9p0kT6+qO9ufN/saLrSjmJJMpc6jgeur6juduh9+nORDwCWzFVNV3dH+uzXJRTQ/917JNPfToOKa7HM63X3VQz/H/2Rldu9j3WHFNOl36w7ey6HG1O08qKr1Sf4uyV79tmcYMXU84teaIe2nfgzteJrzQyzaMYtnATdX1f+apNjFwGva2YwvBMa3/dw0X/TTziSLgE8Avz+PexkftZ1VtX9VLa6qxcCFwH+dh8lxP8ftPwG/lmS39ierZTTjAueVPtt6O01POUmeSjMh7NbZiXAwkuzd9hyTZA/gpcDXJhSb9+eiHfgycFCS/dse2+No2kv772vbx6+lObZnaip1PmI85ISx369k+//IDC2mJI9P8sRtj4Hf7Gx7GPup37gm/ZwOcF/t6BjpxtrrM9LPukOJabLv1kd5L4cd09Pa94wkR9Dka9/vZ91hxdTGMgb8JzrH2BD3Uz+GdzzVgGccDvqP5qeOAm6g+Yl2I82sxVOBU9syAd5PM2Pxq0wyC3su//XZzg8DP+y8ft2o4x5GOyeUP4f5eRWLvtoJ/BnNlSxupPnJc+SxD6OtwC8Cn24/nzcCrx513NNo56HAhradNwJvbZfP+3MRTVK0BfgJ8B3gss77tr5T7mU0v3B8g2ZoxrblTwE+B/xb+++TBxBTzzp7xPTzNInD2IT1/6F9D26g+WJ8+mzERDNrflP7d9Ow99MU4ur5OR30vup1jPT7GZns+BrA/nm0mHp+t+7ovZyFmE5rt7mJZuLgr4x6P7XP/wA4f8J6w9xP5wF3Ag/QnKNOnq3jyVtNS5IkSR1zfoiFJEmSNJtMkCVJkqQOE2RJkiSpwwRZkiRJ6jBBliRJkjpMkDUjSe6ZwbqnJdmcpNoLoG9bniRntq/dkOR5ndf2SHJFmlv+Lk5yX5KNnb85c7vmJP8nyZE9lr+6bddNaW4j+uFt19edpJ4/SDLxGq97JfluksclOT/JQcNogyQNWpLDk3x4wHV6HtRAmSBrlL5Ic7OF2yYsP5rmlpoHAWtoboO6zeuAT1Rzy1+Ab1TVYZ2/j8w0qCSDusPkMprrV3brXgH8Mc3dmp4NPA/4V+CpO6jnE8BR7c1EtjkGuLiqfkKzf04fUMySNGxvAd434Do9D2qgTJA1EG2v73uS3Jjkq0l+r13+mDS3yLwpySVJ1ic5BqCqNlTVN3tUtwr4SDWuAfbs3OnpRPq4+1SSe5K8o+2hvaa9e9u2u6H9Y5Ivt39Htsv/MsnaJJ8GPtKW+0yS69ue4NvaXtu3J3lDZzvvSPJHPbZ/CPD1TiK/zZ8Df1pV/97ug4eq6uyquqVd7/ltD/lXklyW5vaxP6K5ZefKTj3dW31eBbx0gIm9JE0qyWvaX8E2JfmHJL+U5HPtss+luTMdSY5tvxM2JbmyXfZE4NCq2tQ+X9/5BXA8yWvbXwjf056jb0jyX9qyy5N8IcmFSb6W5GNJc7c5PA9qwEyQNSi/AxwGPJemV/g9bVL7O8Bi4JeBU4AX9VHXvsC3Os+3APu2t4s8YEJS/YwJQyx+rV3+eOCaqnouTXK5ul3+XuB/V9ULgN+luYPSNs8HVlXVCcDbgMur6nnARcCitsxZtLd0TfIYmkT1Yz3acDRwaY/lzwau79XoJI+l6VU5pqqeD5wNvKN9+bx2WyT5ReCZwOcBquqnwGaafS9JQ5Pk2TT/0X9Je359A/C3NJ0ah9KcD89si78V+K223CvaZUvp3Ia4ql5WVYfR3CHtNuCT7ePx9jz9AmB1kv3bVQ4H3ggsobmD25FtPZ4HNVD+T0uD8qvAeW2P6XeSXEFzYvtV4IL25PXtJJ/vo670WFbAXsBdE5Z/oz25TnQ/cEn7+CvAUe3jlwJLftbpwC+0PRrQDFm4r9OeVwJU1aVJftg+/maS7yc5nGZYxIaq+n6P7f8WcNIO2kiSX6a5xesTaX5yvAl4DvCZNr4FNLfYpG3L3yX5BeBVwIUTeqe30txW9is72qYkzdBLaM4/3wOoqh8keRFNZwg057R3t4+/CJyT5OM0Q8UAng58t1thmjko/wC8qqrGk/wmcOi2XxuBMZohd/cDX6qqLe16G2k6YP6lLed5UANjgqxB6ZXU7mj5jmwB9us8XwjcAfwH8HN91vFA/ew+6g/xs2P9McCLOolwE2STkP64u2gHdX+Y5n70T6Pp5d1OO1Z4z6q6o8e6N9GMO/58VX0VOCzJ3wJ7tNu8qaoe0cteVfcluZQmaT+OZhxz188B901cT5IGLDQdFjtSAFV1apJlwH8GNiY5jOY89fB5PMkC4Hzgv1XVtp7lAH9YVZdtt+FkOfCTzqLuuR08D2qAHGKhQbkS+L127NjewK8DX6L5n/3vtmORnwos76Oui4HXtOOaX0jzU9udVfVDYEGSfpPkXj4NnLbtSXvC7uVfaHpqaXszntR57SJgBU0P+WWPXJUX0w5/6OGdwP9IsrCzbI/231uAvdveGJI8tv05c5vzgD+h6bnebvIfzZCLmybZpiQNyueAVyV5CkCSJ9NMND6uff1E2h7dJM+oqmur6q3A92g6Pm4GDuzU9y7ghqo6v7PsMuD17bAzkjwzyeP7iM3zoAbGHmQNykU044s30fQenF5V307yj8Bv0Iw5+zpwLTAO0E5uO52mJ/aGJOur6hRgPfAymvFk97L9UIVP0wx/+Gz7/Bntz2zbnF1VZzK5PwLen+QGmuP/SuDUHuX+CjgvzWTDK2iGOtwNUFX3t0NF7uoxCQ+a8ccX9tp4Va1v/wPxqbbn5C6afXNZW+8xwJlJxtr4/oafnfA/Dfw9cFand5z2Px73VdWdSNIQVdVNSd4BXJHkIWADzXn17CR/RjN8Yts5+z1pLr0WmsR6U1VVkrEkT6yqu4E/BW7qnMffSvMr3WLg+nYS3neB395RXJ4HNWjpfM9KQ5HkCVV1T9vj8CXgyKr69jTrOhz4k6r6/YEG+cjtPA54qKoebHt0P75HtRcAAACsSURBVLBtrHM7Oe964Niq+rce614PLKuqB4YZY2d7fwz8qKrOmo3tSdJMtOesu6tqYNdC9jyoQbMHWbPhkjQ3wtgdePt0k2NoLg2X5PNJFkzSezsoi4CPt8nw/bRXwUiyhGbC3EW9kuM2xuf1Wj5Ed9FMcJGk+eADwLEDrtPzoAbKHmRJkiSpw0l6kiRJUocJsiRJktRhgixJkiR1mCBLkiRJHSbIkiRJUsf/By42ldbvpHzXAAAAAElFTkSuQmCC\n",
      "text/plain": [
       "<Figure size 720x288 with 2 Axes>"
      ]
     },
     "metadata": {
      "needs_background": "light"
     },
     "output_type": "display_data"
    }
   ],
   "source": [
    "atmo_events = simulation.extract([\"energy\", \"coszen\"])\n",
    "fig, axs = plt.subplots(1, 2, figsize=(10, 4))\n",
    "sns.distplot(np.log10(atmo_events[\"energy\"]), kde=False, ax = axs[0])\n",
    "axs[0].set_yscale(\"log\")\n",
    "axs[0].set_xlabel(\"log10(Energy / GeV)\")\n",
    "axs[1].set_xlabel(\"cos(zen)\")\n",
    "sns.distplot(atmo_events[\"coszen\"], kde=False, ax = axs[1])\n",
    "plt.tight_layout()\n",
    "plt.semilogy()"
   ]
  },
  {
   "cell_type": "markdown",
   "metadata": {},
   "source": [
    "#### Compare sampled energies to true spectrum integrated over dOmega"
   ]
  },
  {
   "cell_type": "code",
   "execution_count": 24,
   "metadata": {},
   "outputs": [
    {
     "data": {
      "text/plain": [
       "-1.0"
      ]
     },
     "execution_count": 24,
     "metadata": {},
     "output_type": "execute_result"
    }
   ],
   "source": [
    "np.sin(-np.pi/2)"
   ]
  },
  {
   "cell_type": "code",
   "execution_count": 27,
   "metadata": {},
   "outputs": [
    {
     "data": {
      "text/plain": [
       "[]"
      ]
     },
     "execution_count": 27,
     "metadata": {},
     "output_type": "execute_result"
    },
    {
     "data": {
      "image/png": "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\n",
      "text/plain": [
       "<Figure size 432x288 with 1 Axes>"
      ]
     },
     "metadata": {
      "needs_background": "light"
     },
     "output_type": "display_data"
    },
    {
     "data": {
      "image/png": "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\n",
      "text/plain": [
       "<Figure size 432x288 with 1 Axes>"
      ]
     },
     "metadata": {
      "needs_background": "light"
     },
     "output_type": "display_data"
    }
   ],
   "source": [
    "energies = np.logspace(2, 9, 50)\n",
    "coszens = np.linspace(-1, 1, 100)\n",
    "\n",
    "dec = -np.arcsin(coszens)\n",
    "for e in energies[:10]:\n",
    "    plt.plot(coszens, atmo_bg_flux(e * u.GeV, dec * u.rad, 0*u.rad))\n",
    "plt.semilogy()\n",
    "plt.figure()\n",
    "\n",
    "plt.plot(energies, atmo_bg_flux.total_flux(energies * u.GeV))\n",
    "plt.loglog()\n",
    "\n"
   ]
  },
  {
   "cell_type": "code",
   "execution_count": 26,
   "metadata": {},
   "outputs": [
    {
     "data": {
      "text/plain": [
       "Text(0, 0.5, 'Prob. per log bin')"
      ]
     },
     "execution_count": 26,
     "metadata": {},
     "output_type": "execute_result"
    },
    {
     "data": {
      "image/png": "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\n",
      "text/plain": [
       "<Figure size 432x288 with 1 Axes>"
      ]
     },
     "metadata": {
      "needs_background": "light"
     },
     "output_type": "display_data"
    }
   ],
   "source": [
    "energies = np.logspace(2, 9, 100) << u.GeV\n",
    "log_bins = np.linspace(2, 4, 50) \n",
    "\n",
    "integrate_per_log = atmo_bg_flux.integral(\n",
    "    10**log_bins[:-1] * u.GeV, 10**log_bins[1:] * u.GeV,\n",
    "    (-np.pi/2) * u.rad, (np.pi/2) * u.rad,\n",
    "    0 * u.rad, 2*np.pi * u.rad) / np.diff(log_bins) / atmo_bg_flux.total_flux_int\n",
    "\n",
    "fluxes = atmo_bg_flux.total_flux(energies) / atmo_bg_flux.total_flux_int\n",
    "\n",
    "sns.distplot(np.log10(atmo_events[\"energy\"]), kde=False, norm_hist=True, label=\"Energy Samples\")\n",
    "plt.step(log_bins, np.append(integrate_per_log, integrate_per_log[-1]), where=\"post\", label=\"True Spectrum\")\n",
    "plt.semilogy()\n",
    "plt.legend()\n",
    "plt.xlabel(\"log10(Energy / GeV)\")\n",
    "plt.ylabel(\"Prob. per log bin\")"
   ]
  },
  {
   "cell_type": "code",
   "execution_count": 28,
   "metadata": {
    "ExecuteTime": {
     "end_time": "2020-08-14T15:50:03.287018Z",
     "start_time": "2020-08-14T15:50:03.088356Z"
    }
   },
   "outputs": [
    {
     "ename": "KeyboardInterrupt",
     "evalue": "",
     "output_type": "error",
     "traceback": [
      "\u001b[0;31m---------------------------------------------------------------------------\u001b[0m",
      "\u001b[0;31mKeyboardInterrupt\u001b[0m                         Traceback (most recent call last)",
      "\u001b[0;32m<ipython-input-28-f6f695ee0e3e>\u001b[0m in \u001b[0;36m<module>\u001b[0;34m\u001b[0m\n\u001b[1;32m      1\u001b[0m \u001b[0;32mwith\u001b[0m \u001b[0mStanFileGenerator\u001b[0m\u001b[0;34m(\u001b[0m\u001b[0;34m\"stan_files/detector_model_test\"\u001b[0m\u001b[0;34m)\u001b[0m \u001b[0;32mas\u001b[0m \u001b[0mcg\u001b[0m\u001b[0;34m:\u001b[0m\u001b[0;34m\u001b[0m\u001b[0;34m\u001b[0m\u001b[0m\n\u001b[0;32m----> 2\u001b[0;31m     \u001b[0mntd_rng\u001b[0m \u001b[0;34m=\u001b[0m \u001b[0mNorthernTracksDetectorModel\u001b[0m\u001b[0;34m(\u001b[0m\u001b[0mmode\u001b[0m\u001b[0;34m=\u001b[0m\u001b[0mDistributionMode\u001b[0m\u001b[0;34m.\u001b[0m\u001b[0mRNG\u001b[0m\u001b[0;34m)\u001b[0m\u001b[0;34m\u001b[0m\u001b[0;34m\u001b[0m\u001b[0m\n\u001b[0m\u001b[1;32m      3\u001b[0m     \u001b[0mntd_pdf\u001b[0m \u001b[0;34m=\u001b[0m \u001b[0mNorthernTracksDetectorModel\u001b[0m\u001b[0;34m(\u001b[0m\u001b[0mmode\u001b[0m\u001b[0;34m=\u001b[0m\u001b[0mDistributionMode\u001b[0m\u001b[0;34m.\u001b[0m\u001b[0mPDF\u001b[0m\u001b[0;34m)\u001b[0m\u001b[0;34m\u001b[0m\u001b[0;34m\u001b[0m\u001b[0m\n\u001b[1;32m      4\u001b[0m     \u001b[0mcg\u001b[0m\u001b[0;34m.\u001b[0m\u001b[0mgenerate_files\u001b[0m\u001b[0;34m(\u001b[0m\u001b[0;34m)\u001b[0m\u001b[0;34m\u001b[0m\u001b[0;34m\u001b[0m\u001b[0m\n",
      "\u001b[0;32m/mnt/c/repos/hierarchical_nu/software/python/detector_model.py\u001b[0m in \u001b[0;36m__init__\u001b[0;34m(self, mode)\u001b[0m\n\u001b[1;32m    702\u001b[0m         \u001b[0mang_res\u001b[0m \u001b[0;34m=\u001b[0m \u001b[0mNorthernTracksAngularResolution\u001b[0m\u001b[0;34m(\u001b[0m\u001b[0mmode\u001b[0m\u001b[0;34m)\u001b[0m\u001b[0;34m\u001b[0m\u001b[0;34m\u001b[0m\u001b[0m\n\u001b[1;32m    703\u001b[0m         \u001b[0mself\u001b[0m\u001b[0;34m.\u001b[0m\u001b[0m_angular_resolution\u001b[0m \u001b[0;34m=\u001b[0m \u001b[0mang_res\u001b[0m\u001b[0;34m\u001b[0m\u001b[0;34m\u001b[0m\u001b[0m\n\u001b[0;32m--> 704\u001b[0;31m         \u001b[0menergy_res\u001b[0m \u001b[0;34m=\u001b[0m \u001b[0mNorthernTracksEnergyResolution\u001b[0m\u001b[0;34m(\u001b[0m\u001b[0mmode\u001b[0m\u001b[0;34m)\u001b[0m\u001b[0;34m\u001b[0m\u001b[0;34m\u001b[0m\u001b[0m\n\u001b[0m\u001b[1;32m    705\u001b[0m         \u001b[0mself\u001b[0m\u001b[0;34m.\u001b[0m\u001b[0m_energy_resolution\u001b[0m \u001b[0;34m=\u001b[0m \u001b[0menergy_res\u001b[0m\u001b[0;34m\u001b[0m\u001b[0;34m\u001b[0m\u001b[0m\n\u001b[1;32m    706\u001b[0m         \u001b[0;32mif\u001b[0m \u001b[0mmode\u001b[0m \u001b[0;34m==\u001b[0m \u001b[0mDistributionMode\u001b[0m\u001b[0;34m.\u001b[0m\u001b[0mPDF\u001b[0m\u001b[0;34m:\u001b[0m\u001b[0;34m\u001b[0m\u001b[0;34m\u001b[0m\u001b[0m\n",
      "\u001b[0;32m/mnt/c/repos/hierarchical_nu/software/python/detector_model.py\u001b[0m in \u001b[0;36m__init__\u001b[0;34m(self, mode)\u001b[0m\n\u001b[1;32m    188\u001b[0m \u001b[0;34m\u001b[0m\u001b[0m\n\u001b[1;32m    189\u001b[0m         \u001b[0mself\u001b[0m\u001b[0;34m.\u001b[0m\u001b[0mn_components\u001b[0m \u001b[0;34m=\u001b[0m \u001b[0;36m3\u001b[0m\u001b[0;34m\u001b[0m\u001b[0;34m\u001b[0m\u001b[0m\n\u001b[0;32m--> 190\u001b[0;31m         \u001b[0mself\u001b[0m\u001b[0;34m.\u001b[0m\u001b[0msetup\u001b[0m\u001b[0;34m(\u001b[0m\u001b[0;34m)\u001b[0m\u001b[0;34m\u001b[0m\u001b[0;34m\u001b[0m\u001b[0m\n\u001b[0m\u001b[1;32m    191\u001b[0m \u001b[0;34m\u001b[0m\u001b[0m\n\u001b[1;32m    192\u001b[0m         \u001b[0;32mif\u001b[0m \u001b[0mmode\u001b[0m \u001b[0;34m==\u001b[0m \u001b[0mDistributionMode\u001b[0m\u001b[0;34m.\u001b[0m\u001b[0mPDF\u001b[0m\u001b[0;34m:\u001b[0m\u001b[0;34m\u001b[0m\u001b[0;34m\u001b[0m\u001b[0m\n",
      "\u001b[0;32m/mnt/c/repos/hierarchical_nu/software/python/detector_model.py\u001b[0m in \u001b[0;36msetup\u001b[0;34m(self)\u001b[0m\n\u001b[1;32m    490\u001b[0m                 \u001b[0mrE_binc\u001b[0m\u001b[0;34m,\u001b[0m\u001b[0;34m\u001b[0m\u001b[0;34m\u001b[0m\u001b[0m\n\u001b[1;32m    491\u001b[0m                 \u001b[0meff_area\u001b[0m\u001b[0;34m,\u001b[0m\u001b[0;34m\u001b[0m\u001b[0;34m\u001b[0m\u001b[0m\n\u001b[0;32m--> 492\u001b[0;31m                 n_components)\n\u001b[0m\u001b[1;32m    493\u001b[0m \u001b[0;34m\u001b[0m\u001b[0m\n\u001b[1;32m    494\u001b[0m             \u001b[0;31m# Min and max values\u001b[0m\u001b[0;34m\u001b[0m\u001b[0;34m\u001b[0m\u001b[0;34m\u001b[0m\u001b[0m\n",
      "\u001b[0;32m/mnt/c/repos/hierarchical_nu/software/python/detector_model.py\u001b[0m in \u001b[0;36m_fit_energy_res\u001b[0;34m(self, tE_binc, rE_binc, eff_area, n_components)\u001b[0m\n\u001b[1;32m    338\u001b[0m                     \u001b[0mresiduals\u001b[0m\u001b[0;34m,\u001b[0m\u001b[0;34m\u001b[0m\u001b[0;34m\u001b[0m\u001b[0m\n\u001b[1;32m    339\u001b[0m                     \u001b[0mseed\u001b[0m\u001b[0;34m,\u001b[0m\u001b[0;34m\u001b[0m\u001b[0;34m\u001b[0m\u001b[0m\n\u001b[0;32m--> 340\u001b[0;31m                     \u001b[0mbounds\u001b[0m\u001b[0;34m=\u001b[0m\u001b[0;34m(\u001b[0m\u001b[0mbounds_lo\u001b[0m\u001b[0;34m,\u001b[0m \u001b[0mbounds_hi\u001b[0m\u001b[0;34m)\u001b[0m\u001b[0;34m,\u001b[0m\u001b[0;34m\u001b[0m\u001b[0;34m\u001b[0m\u001b[0m\n\u001b[0m\u001b[1;32m    341\u001b[0m                 )\n\u001b[1;32m    342\u001b[0m \u001b[0;34m\u001b[0m\u001b[0m\n",
      "\u001b[0;32m~/miniconda3/envs/hierarchical_nu/lib/python3.7/site-packages/scipy/optimize/_lsq/least_squares.py\u001b[0m in \u001b[0;36mleast_squares\u001b[0;34m(fun, x0, jac, bounds, method, ftol, xtol, gtol, x_scale, loss, f_scale, diff_step, tr_solver, tr_options, jac_sparsity, max_nfev, verbose, args, kwargs)\u001b[0m\n\u001b[1;32m    915\u001b[0m         result = trf(fun_wrapped, jac_wrapped, x0, f0, J0, lb, ub, ftol, xtol,\n\u001b[1;32m    916\u001b[0m                      \u001b[0mgtol\u001b[0m\u001b[0;34m,\u001b[0m \u001b[0mmax_nfev\u001b[0m\u001b[0;34m,\u001b[0m \u001b[0mx_scale\u001b[0m\u001b[0;34m,\u001b[0m \u001b[0mloss_function\u001b[0m\u001b[0;34m,\u001b[0m \u001b[0mtr_solver\u001b[0m\u001b[0;34m,\u001b[0m\u001b[0;34m\u001b[0m\u001b[0;34m\u001b[0m\u001b[0m\n\u001b[0;32m--> 917\u001b[0;31m                      tr_options.copy(), verbose)\n\u001b[0m\u001b[1;32m    918\u001b[0m \u001b[0;34m\u001b[0m\u001b[0m\n\u001b[1;32m    919\u001b[0m     \u001b[0;32melif\u001b[0m \u001b[0mmethod\u001b[0m \u001b[0;34m==\u001b[0m \u001b[0;34m'dogbox'\u001b[0m\u001b[0;34m:\u001b[0m\u001b[0;34m\u001b[0m\u001b[0;34m\u001b[0m\u001b[0m\n",
      "\u001b[0;32m~/miniconda3/envs/hierarchical_nu/lib/python3.7/site-packages/scipy/optimize/_lsq/trf.py\u001b[0m in \u001b[0;36mtrf\u001b[0;34m(fun, jac, x0, f0, J0, lb, ub, ftol, xtol, gtol, max_nfev, x_scale, loss_function, tr_solver, tr_options, verbose)\u001b[0m\n\u001b[1;32m    123\u001b[0m         return trf_bounds(\n\u001b[1;32m    124\u001b[0m             \u001b[0mfun\u001b[0m\u001b[0;34m,\u001b[0m \u001b[0mjac\u001b[0m\u001b[0;34m,\u001b[0m \u001b[0mx0\u001b[0m\u001b[0;34m,\u001b[0m \u001b[0mf0\u001b[0m\u001b[0;34m,\u001b[0m \u001b[0mJ0\u001b[0m\u001b[0;34m,\u001b[0m \u001b[0mlb\u001b[0m\u001b[0;34m,\u001b[0m \u001b[0mub\u001b[0m\u001b[0;34m,\u001b[0m \u001b[0mftol\u001b[0m\u001b[0;34m,\u001b[0m \u001b[0mxtol\u001b[0m\u001b[0;34m,\u001b[0m \u001b[0mgtol\u001b[0m\u001b[0;34m,\u001b[0m \u001b[0mmax_nfev\u001b[0m\u001b[0;34m,\u001b[0m \u001b[0mx_scale\u001b[0m\u001b[0;34m,\u001b[0m\u001b[0;34m\u001b[0m\u001b[0;34m\u001b[0m\u001b[0m\n\u001b[0;32m--> 125\u001b[0;31m             loss_function, tr_solver, tr_options, verbose)\n\u001b[0m\u001b[1;32m    126\u001b[0m \u001b[0;34m\u001b[0m\u001b[0m\n\u001b[1;32m    127\u001b[0m \u001b[0;34m\u001b[0m\u001b[0m\n",
      "\u001b[0;32m~/miniconda3/envs/hierarchical_nu/lib/python3.7/site-packages/scipy/optimize/_lsq/trf.py\u001b[0m in \u001b[0;36mtrf_bounds\u001b[0;34m(fun, jac, x0, f0, J0, lb, ub, ftol, xtol, gtol, max_nfev, x_scale, loss_function, tr_solver, tr_options, verbose)\u001b[0m\n\u001b[1;32m    372\u001b[0m             \u001b[0mcost\u001b[0m \u001b[0;34m=\u001b[0m \u001b[0mcost_new\u001b[0m\u001b[0;34m\u001b[0m\u001b[0;34m\u001b[0m\u001b[0m\n\u001b[1;32m    373\u001b[0m \u001b[0;34m\u001b[0m\u001b[0m\n\u001b[0;32m--> 374\u001b[0;31m             \u001b[0mJ\u001b[0m \u001b[0;34m=\u001b[0m \u001b[0mjac\u001b[0m\u001b[0;34m(\u001b[0m\u001b[0mx\u001b[0m\u001b[0;34m,\u001b[0m \u001b[0mf\u001b[0m\u001b[0;34m)\u001b[0m\u001b[0;34m\u001b[0m\u001b[0;34m\u001b[0m\u001b[0m\n\u001b[0m\u001b[1;32m    375\u001b[0m             \u001b[0mnjev\u001b[0m \u001b[0;34m+=\u001b[0m \u001b[0;36m1\u001b[0m\u001b[0;34m\u001b[0m\u001b[0;34m\u001b[0m\u001b[0m\n\u001b[1;32m    376\u001b[0m \u001b[0;34m\u001b[0m\u001b[0m\n",
      "\u001b[0;32m~/miniconda3/envs/hierarchical_nu/lib/python3.7/site-packages/scipy/optimize/_lsq/least_squares.py\u001b[0m in \u001b[0;36mjac_wrapped\u001b[0;34m(x, f)\u001b[0m\n\u001b[1;32m    873\u001b[0m                 J = approx_derivative(fun, x, rel_step=diff_step, method=jac,\n\u001b[1;32m    874\u001b[0m                                       \u001b[0mf0\u001b[0m\u001b[0;34m=\u001b[0m\u001b[0mf\u001b[0m\u001b[0;34m,\u001b[0m \u001b[0mbounds\u001b[0m\u001b[0;34m=\u001b[0m\u001b[0mbounds\u001b[0m\u001b[0;34m,\u001b[0m \u001b[0margs\u001b[0m\u001b[0;34m=\u001b[0m\u001b[0margs\u001b[0m\u001b[0;34m,\u001b[0m\u001b[0;34m\u001b[0m\u001b[0;34m\u001b[0m\u001b[0m\n\u001b[0;32m--> 875\u001b[0;31m                                       kwargs=kwargs, sparsity=jac_sparsity)\n\u001b[0m\u001b[1;32m    876\u001b[0m                 \u001b[0;32mif\u001b[0m \u001b[0mJ\u001b[0m\u001b[0;34m.\u001b[0m\u001b[0mndim\u001b[0m \u001b[0;34m!=\u001b[0m \u001b[0;36m2\u001b[0m\u001b[0;34m:\u001b[0m  \u001b[0;31m# J is guaranteed not sparse.\u001b[0m\u001b[0;34m\u001b[0m\u001b[0;34m\u001b[0m\u001b[0m\n\u001b[1;32m    877\u001b[0m                     \u001b[0mJ\u001b[0m \u001b[0;34m=\u001b[0m \u001b[0mnp\u001b[0m\u001b[0;34m.\u001b[0m\u001b[0matleast_2d\u001b[0m\u001b[0;34m(\u001b[0m\u001b[0mJ\u001b[0m\u001b[0;34m)\u001b[0m\u001b[0;34m\u001b[0m\u001b[0;34m\u001b[0m\u001b[0m\n",
      "\u001b[0;32m~/miniconda3/envs/hierarchical_nu/lib/python3.7/site-packages/scipy/optimize/_numdiff.py\u001b[0m in \u001b[0;36mapprox_derivative\u001b[0;34m(fun, x0, method, rel_step, abs_step, f0, bounds, sparsity, as_linear_operator, args, kwargs)\u001b[0m\n\u001b[1;32m    425\u001b[0m         \u001b[0;32mif\u001b[0m \u001b[0msparsity\u001b[0m \u001b[0;32mis\u001b[0m \u001b[0;32mNone\u001b[0m\u001b[0;34m:\u001b[0m\u001b[0;34m\u001b[0m\u001b[0;34m\u001b[0m\u001b[0m\n\u001b[1;32m    426\u001b[0m             return _dense_difference(fun_wrapped, x0, f0, h,\n\u001b[0;32m--> 427\u001b[0;31m                                      use_one_sided, method)\n\u001b[0m\u001b[1;32m    428\u001b[0m         \u001b[0;32melse\u001b[0m\u001b[0;34m:\u001b[0m\u001b[0;34m\u001b[0m\u001b[0;34m\u001b[0m\u001b[0m\n\u001b[1;32m    429\u001b[0m             \u001b[0;32mif\u001b[0m \u001b[0;32mnot\u001b[0m \u001b[0missparse\u001b[0m\u001b[0;34m(\u001b[0m\u001b[0msparsity\u001b[0m\u001b[0;34m)\u001b[0m \u001b[0;32mand\u001b[0m \u001b[0mlen\u001b[0m\u001b[0;34m(\u001b[0m\u001b[0msparsity\u001b[0m\u001b[0;34m)\u001b[0m \u001b[0;34m==\u001b[0m \u001b[0;36m2\u001b[0m\u001b[0;34m:\u001b[0m\u001b[0;34m\u001b[0m\u001b[0;34m\u001b[0m\u001b[0m\n",
      "\u001b[0;32m~/miniconda3/envs/hierarchical_nu/lib/python3.7/site-packages/scipy/optimize/_numdiff.py\u001b[0m in \u001b[0;36m_dense_difference\u001b[0;34m(fun, x0, f0, h, use_one_sided, method)\u001b[0m\n\u001b[1;32m    495\u001b[0m             \u001b[0mx\u001b[0m \u001b[0;34m=\u001b[0m \u001b[0mx0\u001b[0m \u001b[0;34m+\u001b[0m \u001b[0mh_vecs\u001b[0m\u001b[0;34m[\u001b[0m\u001b[0mi\u001b[0m\u001b[0;34m]\u001b[0m\u001b[0;34m\u001b[0m\u001b[0;34m\u001b[0m\u001b[0m\n\u001b[1;32m    496\u001b[0m             \u001b[0mdx\u001b[0m \u001b[0;34m=\u001b[0m \u001b[0mx\u001b[0m\u001b[0;34m[\u001b[0m\u001b[0mi\u001b[0m\u001b[0;34m]\u001b[0m \u001b[0;34m-\u001b[0m \u001b[0mx0\u001b[0m\u001b[0;34m[\u001b[0m\u001b[0mi\u001b[0m\u001b[0;34m]\u001b[0m  \u001b[0;31m# Recompute dx as exactly representable number.\u001b[0m\u001b[0;34m\u001b[0m\u001b[0;34m\u001b[0m\u001b[0m\n\u001b[0;32m--> 497\u001b[0;31m             \u001b[0mdf\u001b[0m \u001b[0;34m=\u001b[0m \u001b[0mfun\u001b[0m\u001b[0;34m(\u001b[0m\u001b[0mx\u001b[0m\u001b[0;34m)\u001b[0m \u001b[0;34m-\u001b[0m \u001b[0mf0\u001b[0m\u001b[0;34m\u001b[0m\u001b[0;34m\u001b[0m\u001b[0m\n\u001b[0m\u001b[1;32m    498\u001b[0m         \u001b[0;32melif\u001b[0m \u001b[0mmethod\u001b[0m \u001b[0;34m==\u001b[0m \u001b[0;34m'3-point'\u001b[0m \u001b[0;32mand\u001b[0m \u001b[0muse_one_sided\u001b[0m\u001b[0;34m[\u001b[0m\u001b[0mi\u001b[0m\u001b[0;34m]\u001b[0m\u001b[0;34m:\u001b[0m\u001b[0;34m\u001b[0m\u001b[0;34m\u001b[0m\u001b[0m\n\u001b[1;32m    499\u001b[0m             \u001b[0mx1\u001b[0m \u001b[0;34m=\u001b[0m \u001b[0mx0\u001b[0m \u001b[0;34m+\u001b[0m \u001b[0mh_vecs\u001b[0m\u001b[0;34m[\u001b[0m\u001b[0mi\u001b[0m\u001b[0;34m]\u001b[0m\u001b[0;34m\u001b[0m\u001b[0;34m\u001b[0m\u001b[0m\n",
      "\u001b[0;32m~/miniconda3/envs/hierarchical_nu/lib/python3.7/site-packages/scipy/optimize/_numdiff.py\u001b[0m in \u001b[0;36mfun_wrapped\u001b[0;34m(x)\u001b[0m\n\u001b[1;32m    375\u001b[0m \u001b[0;34m\u001b[0m\u001b[0m\n\u001b[1;32m    376\u001b[0m     \u001b[0;32mdef\u001b[0m \u001b[0mfun_wrapped\u001b[0m\u001b[0;34m(\u001b[0m\u001b[0mx\u001b[0m\u001b[0;34m)\u001b[0m\u001b[0;34m:\u001b[0m\u001b[0;34m\u001b[0m\u001b[0;34m\u001b[0m\u001b[0m\n\u001b[0;32m--> 377\u001b[0;31m         \u001b[0mf\u001b[0m \u001b[0;34m=\u001b[0m \u001b[0mnp\u001b[0m\u001b[0;34m.\u001b[0m\u001b[0matleast_1d\u001b[0m\u001b[0;34m(\u001b[0m\u001b[0mfun\u001b[0m\u001b[0;34m(\u001b[0m\u001b[0mx\u001b[0m\u001b[0;34m,\u001b[0m \u001b[0;34m*\u001b[0m\u001b[0margs\u001b[0m\u001b[0;34m,\u001b[0m \u001b[0;34m**\u001b[0m\u001b[0mkwargs\u001b[0m\u001b[0;34m)\u001b[0m\u001b[0;34m)\u001b[0m\u001b[0;34m\u001b[0m\u001b[0;34m\u001b[0m\u001b[0m\n\u001b[0m\u001b[1;32m    378\u001b[0m         \u001b[0;32mif\u001b[0m \u001b[0mf\u001b[0m\u001b[0;34m.\u001b[0m\u001b[0mndim\u001b[0m \u001b[0;34m>\u001b[0m \u001b[0;36m1\u001b[0m\u001b[0;34m:\u001b[0m\u001b[0;34m\u001b[0m\u001b[0;34m\u001b[0m\u001b[0m\n\u001b[1;32m    379\u001b[0m             raise RuntimeError(\"`fun` return value has \"\n",
      "\u001b[0;32m/mnt/c/repos/hierarchical_nu/software/python/fitting_tools.py\u001b[0m in \u001b[0;36m__call__\u001b[0;34m(self, params)\u001b[0m\n\u001b[1;32m     22\u001b[0m         \u001b[0mReturn\u001b[0m \u001b[0mthe\u001b[0m \u001b[0mresiduals\u001b[0m \u001b[0mw\u001b[0m\u001b[0;34m.\u001b[0m\u001b[0mr\u001b[0m\u001b[0;34m.\u001b[0m\u001b[0mt\u001b[0m \u001b[0mto\u001b[0m \u001b[0mmodel\u001b[0m\u001b[0;34m(\u001b[0m\u001b[0mparams\u001b[0m\u001b[0;34m)\u001b[0m\u001b[0;34m\u001b[0m\u001b[0;34m\u001b[0m\u001b[0m\n\u001b[1;32m     23\u001b[0m         \"\"\"\n\u001b[0;32m---> 24\u001b[0;31m         \u001b[0mexpec\u001b[0m \u001b[0;34m=\u001b[0m \u001b[0mself\u001b[0m\u001b[0;34m.\u001b[0m\u001b[0mmodel\u001b[0m\u001b[0;34m(\u001b[0m\u001b[0mself\u001b[0m\u001b[0;34m.\u001b[0m\u001b[0mdata_x\u001b[0m\u001b[0;34m,\u001b[0m \u001b[0mparams\u001b[0m\u001b[0;34m)\u001b[0m\u001b[0;34m\u001b[0m\u001b[0;34m\u001b[0m\u001b[0m\n\u001b[0m\u001b[1;32m     25\u001b[0m \u001b[0;34m\u001b[0m\u001b[0m\n\u001b[1;32m     26\u001b[0m         \u001b[0mresiduals\u001b[0m \u001b[0;34m=\u001b[0m \u001b[0mexpec\u001b[0m\u001b[0;34m-\u001b[0m\u001b[0mself\u001b[0m\u001b[0;34m.\u001b[0m\u001b[0mdata_y\u001b[0m\u001b[0;34m\u001b[0m\u001b[0;34m\u001b[0m\u001b[0m\n",
      "\u001b[0;32m/mnt/c/repos/hierarchical_nu/software/python/detector_model.py\u001b[0m in \u001b[0;36m_model\u001b[0;34m(x, pars)\u001b[0m\n\u001b[1;32m    285\u001b[0m                     \u001b[0mx\u001b[0m\u001b[0;34m,\u001b[0m\u001b[0;34m\u001b[0m\u001b[0;34m\u001b[0m\u001b[0m\n\u001b[1;32m    286\u001b[0m                     \u001b[0mscale\u001b[0m\u001b[0;34m=\u001b[0m\u001b[0mpars\u001b[0m\u001b[0;34m[\u001b[0m\u001b[0;36m2\u001b[0m\u001b[0;34m*\u001b[0m\u001b[0mi\u001b[0m\u001b[0;34m]\u001b[0m\u001b[0;34m,\u001b[0m\u001b[0;34m\u001b[0m\u001b[0;34m\u001b[0m\u001b[0m\n\u001b[0;32m--> 287\u001b[0;31m                     s=pars[2*i+1])\n\u001b[0m\u001b[1;32m    288\u001b[0m             \u001b[0;32mreturn\u001b[0m \u001b[0mresult\u001b[0m\u001b[0;34m\u001b[0m\u001b[0;34m\u001b[0m\u001b[0m\n\u001b[1;32m    289\u001b[0m         \u001b[0;32mreturn\u001b[0m \u001b[0m_model\u001b[0m\u001b[0;34m\u001b[0m\u001b[0;34m\u001b[0m\u001b[0m\n",
      "\u001b[0;32m~/miniconda3/envs/hierarchical_nu/lib/python3.7/site-packages/scipy/stats/_distn_infrastructure.py\u001b[0m in \u001b[0;36mpdf\u001b[0;34m(self, x, *args, **kwds)\u001b[0m\n\u001b[1;32m   1763\u001b[0m         \u001b[0mcond\u001b[0m \u001b[0;34m=\u001b[0m \u001b[0mcond0\u001b[0m \u001b[0;34m&\u001b[0m \u001b[0mcond1\u001b[0m\u001b[0;34m\u001b[0m\u001b[0;34m\u001b[0m\u001b[0m\n\u001b[1;32m   1764\u001b[0m         \u001b[0moutput\u001b[0m \u001b[0;34m=\u001b[0m \u001b[0mzeros\u001b[0m\u001b[0;34m(\u001b[0m\u001b[0mshape\u001b[0m\u001b[0;34m(\u001b[0m\u001b[0mcond\u001b[0m\u001b[0;34m)\u001b[0m\u001b[0;34m,\u001b[0m \u001b[0mdtyp\u001b[0m\u001b[0;34m)\u001b[0m\u001b[0;34m\u001b[0m\u001b[0;34m\u001b[0m\u001b[0m\n\u001b[0;32m-> 1765\u001b[0;31m         \u001b[0mputmask\u001b[0m\u001b[0;34m(\u001b[0m\u001b[0moutput\u001b[0m\u001b[0;34m,\u001b[0m \u001b[0;34m(\u001b[0m\u001b[0;36m1\u001b[0m\u001b[0;34m-\u001b[0m\u001b[0mcond0\u001b[0m\u001b[0;34m)\u001b[0m\u001b[0;34m+\u001b[0m\u001b[0mnp\u001b[0m\u001b[0;34m.\u001b[0m\u001b[0misnan\u001b[0m\u001b[0;34m(\u001b[0m\u001b[0mx\u001b[0m\u001b[0;34m)\u001b[0m\u001b[0;34m,\u001b[0m \u001b[0mself\u001b[0m\u001b[0;34m.\u001b[0m\u001b[0mbadvalue\u001b[0m\u001b[0;34m)\u001b[0m\u001b[0;34m\u001b[0m\u001b[0;34m\u001b[0m\u001b[0m\n\u001b[0m\u001b[1;32m   1766\u001b[0m         \u001b[0;32mif\u001b[0m \u001b[0mnp\u001b[0m\u001b[0;34m.\u001b[0m\u001b[0many\u001b[0m\u001b[0;34m(\u001b[0m\u001b[0mcond\u001b[0m\u001b[0;34m)\u001b[0m\u001b[0;34m:\u001b[0m\u001b[0;34m\u001b[0m\u001b[0;34m\u001b[0m\u001b[0m\n\u001b[1;32m   1767\u001b[0m             \u001b[0mgoodargs\u001b[0m \u001b[0;34m=\u001b[0m \u001b[0margsreduce\u001b[0m\u001b[0;34m(\u001b[0m\u001b[0mcond\u001b[0m\u001b[0;34m,\u001b[0m \u001b[0;34m*\u001b[0m\u001b[0;34m(\u001b[0m\u001b[0;34m(\u001b[0m\u001b[0mx\u001b[0m\u001b[0;34m,\u001b[0m\u001b[0;34m)\u001b[0m\u001b[0;34m+\u001b[0m\u001b[0margs\u001b[0m\u001b[0;34m+\u001b[0m\u001b[0;34m(\u001b[0m\u001b[0mscale\u001b[0m\u001b[0;34m,\u001b[0m\u001b[0;34m)\u001b[0m\u001b[0;34m)\u001b[0m\u001b[0;34m)\u001b[0m\u001b[0;34m\u001b[0m\u001b[0;34m\u001b[0m\u001b[0m\n",
      "\u001b[0;31mKeyboardInterrupt\u001b[0m: "
     ]
    }
   ],
   "source": [
    "with StanFileGenerator(\"stan_files/detector_model_test\") as cg:\n",
    "    ntd_rng = NorthernTracksDetectorModel(mode=DistributionMode.RNG)\n",
    "    ntd_pdf = NorthernTracksDetectorModel(mode=DistributionMode.PDF)\n",
    "    cg.generate_files()"
   ]
  },
  {
   "cell_type": "code",
   "execution_count": null,
   "metadata": {
    "ExecuteTime": {
     "end_time": "2020-08-03T15:22:30.367653Z",
     "start_time": "2020-08-03T15:22:30.139535Z"
    }
   },
   "outputs": [],
   "source": [
    "with StanFileGenerator(\"stan_files/sim_code\") as cg:\n",
    "\n",
    "    with FunctionsContext() as fc:\n",
    "        _ = Include(\"utils.stan\")\n",
    "        _ = Include(\"vMF.stan\")\n",
    "        _ = Include(\"interpolation.stan\")\n",
    "        _ = Include(\"sim_functions.stan\")\n",
    "        _ = Include(\"energy_spectrum.stan\")\n",
    "            \n",
    "    with DataContext() as dc:\n",
    "        \n",
    "        # Sources\n",
    "        Ns = ForwardVariableDef(\"Ns\", \"int\")\n",
    "        Ns_str = [\"[\", Ns, \"]\"]\n",
    "        Ns_1p_str = [\"[\", Ns, \"+1]\"]\n",
    "        \n",
    "        varpi = ForwardArrayDef(\"varpi\", \"unit_vector[3]\", Ns_str)\n",
    "        D = ForwardVariableDef(\"D\", \"vector[Ns]\")\n",
    "        z = ForwardVariableDef(\"z\", \"vector[Ns+1]\")\n",
    "        \n",
    "        # Energies\n",
    "        alpha = ForwardVariableDef(\"alpha\", \"real\")\n",
    "        Emin = ForwardVariableDef(\"Emin\", \"real\")\n",
    "        \n",
    "        # Flux\n",
    "        Q = ForwardVariableDef(\"Q\", \"real\")\n",
    "        F0 = ForwardVariableDef(\"F0\", \"real\")\n",
    "        \n",
    "        # Precomputed quantities\n",
    "        Ngrid = ForwardVariableDef(\"Ngrid\", \"int\")\n",
    "        Ngrid_str = [\"[\", Ngrid, \"]\"]\n",
    "        alpha_grid = ForwardVariableDef(\"alpha_grid\", \"vector[Ngrid]\")\n",
    "        integral_grid = ForwardArrayDef(\"integral_grid\", \n",
    "                                        \"vector[Ngrid]\", Ns_1p_str)\n",
    "        aeff_max = ForwardVariableDef(\"aeff_max\", \"real\")\n",
    "        \n",
    "        # Inputs\n",
    "        T = ForwardVariableDef(\"T\", \"real\")\n",
    "        \n",
    "    with TransformedDataContext() as tdc:\n",
    "        F = ForwardVariableDef(\"F\", \"vector[Ns+1]\")\n",
    "        FT = ForwardVariableDef(\"FT\", \"real\")\n",
    "        Fs = ForwardVariableDef(\"Fs\", \"real\")\n",
    "        f = ForwardVariableDef(\"f\", \"real\")\n",
    "        w_exposure = ForwardVariableDef(\"w_exposure\", \"simplex[Ns+1]\")\n",
    "        Nex = ForwardVariableDef(\"Nex\", \"real\")\n",
    "        N = ForwardVariableDef(\"N\", \"int\")\n",
    "        eps = ForwardVariableDef(\"eps\", \"vector[Ns+1]\")\n",
    "        \n",
    "        with ForLoopContext(1, Ns, \"k\") as k:\n",
    "            F[k] << StringExpression([Q, \"/ (4 * pi() * pow(\", \n",
    "                                         D[k], \" * \", 3.086e22, \", 2))\"])\n",
    "            StringExpression([Fs,\" += \", F[k]])\n",
    "        \n",
    "        StringExpression(\"F[Ns+1]\") << F0\n",
    "        \n",
    "        FT << Fs + FT\n",
    "        f << StringExpression([Fs, \"/\", FT])\n",
    "        \n",
    "        eps << StringExpression([\"get_exposure_factor(\", T, \", \", Emin, \", \", alpha, \n",
    "                                 \", \", alpha_grid, \", \", integral_grid, \", \", Ns, \")\"])\n",
    "        Nex << StringExpression([\"get_Nex(\", F, \", \", eps, \")\"])\n",
    "        w_exposure << StringExpression([\"get_exposure_weights(\", F, \", \", \n",
    "                                              eps, \")\"])\n",
    "        N << StringExpression([\"poisson_rng(\", Nex, \")\"])\n",
    "        StringExpression([\"print(\", w_exposure, \")\"])\n",
    "        StringExpression([\"print(\", Ngrid, \")\"])\n",
    "        StringExpression([\"print(\", Nex, \")\"])\n",
    "        StringExpression([\"print(\", N, \")\"])\n",
    "        \n",
    "    with GeneratedQuantitiesContext() as gqc:\n",
    "        ntd_rng = NorthernTracksDetectorModel(mode=DistributionMode.RNG)\n",
    "        ntd_pdf = NorthernTracksDetectorModel(mode=DistributionMode.PDF) \n",
    "        \n",
    "        N_str = [\"[\", N, \"]\"]\n",
    "        lam = ForwardArrayDef(\"Lambda\", \"int\", N_str)\n",
    "        omega = ForwardVariableDef(\"omega\", \"unit_vector[3]\")\n",
    "        \n",
    "        Esrc = ForwardVariableDef(\"Esrc\", \"vector[N]\")\n",
    "        E = ForwardVariableDef(\"E\", \"vector[N]\")\n",
    "        Edet = ForwardVariableDef(\"Edet\", \"vector[N]\")\n",
    "        \n",
    "        cosz = ForwardArrayDef(\"cosz\", \"real\", N_str)\n",
    "        Pdet = ForwardArrayDef(\"Pdet\", \"real\", N_str)\n",
    "        accept = ForwardVariableDef(\"accept\", \"int\")\n",
    "        ntrials = ForwardVariableDef(\"ntrials\", \"int\")\n",
    "        prob = ForwardVariableDef(\"prob\", \"simplex[2]\")\n",
    "        \n",
    "        event = ForwardArrayDef(\"event\", \"unit_vector[3]\", N_str)\n",
    "        Nex_sim = ForwardVariableDef(\"Nex_sim\", \"real\")\n",
    "        \n",
    "        Nex_sim << Nex\n",
    "\n",
    "        with ForLoopContext(1, N, \"i\") as i:\n",
    "            \n",
    "            lam[i] << StringExpression([\"categorical_rng(\", w_exposure,\")\"])\n",
    "            \n",
    "            accept << 0\n",
    "            ntrials << 0\n",
    "            \n",
    "            with WhileLoopContext([accept != 1]):\n",
    "                with IfBlockContext([StringExpression([lam[i], \"<\", Ns + 1])]):\n",
    "                    omega << varpi[lam[i]]\n",
    "                with ElseIfBlockContext([lam[i] == Ns + 1]):\n",
    "                    omega << FunctionCall([1], \"sphere_rng\")\n",
    "                cosz[i] << FunctionCall([FunctionCall([omega], \"omega_to_zenith\")], \"cos\")\n",
    "\n",
    "                # Sample energy\n",
    "\n",
    "                Esrc[i] << FunctionCall([alpha, Emin * (1 + redshift[lam[i]])], \"spectrum_rng\")\n",
    "                E[i] << Esrc[i] / (1 + redshift[lam[i]])\n",
    "\n",
    "                # Test against Aeff\n",
    "                with IfBlockContext([StringExpression([cosz[i], \">= 0.1\"])]):\n",
    "                    Pdet[i] << 0\n",
    "                with ElseBlockContext():\n",
    "                    Pdet[i] << ntd_pdf.effective_area(E[i], omega) / aeff_max\n",
    "\n",
    "                prob[1] << Pdet[i]\n",
    "                prob[2] << 1 - Pdet[i]\n",
    "                StringExpression([ntrials, \" += \", 1])\n",
    "                # StringExpression([\"print(\", Pdet[i], \")\"])\n",
    "                with IfBlockContext([StringExpression([ntrials, \"< 10000\"])]):\n",
    "                    accept << FunctionCall([prob], \"categorical_rng\")\n",
    "                with ElseBlockContext():\n",
    "                    accept << 1\n",
    "                    StringExpression([\"print(\\\"problem component: \\\", \", lam[i], \");\\n\"])\n",
    "\n",
    "                #accept << StringExpression([\"categorical_rng(\", prob, \")\"])\n",
    "            \n",
    "            # Detection effects\n",
    "            event[i] << ntd_rng.angular_resolution(E[i], omega)\n",
    "            Edet[i] << ntd_rng.energy_resolution(E[i])\n",
    "\n",
    "\n",
    "    sim = cg.generate_single_file()"
   ]
  },
  {
   "cell_type": "code",
   "execution_count": null,
   "metadata": {
    "ExecuteTime": {
     "end_time": "2020-08-03T15:22:30.374756Z",
     "start_time": "2020-08-03T15:22:30.370223Z"
    }
   },
   "outputs": [],
   "source": [
    "cg._base_filename"
   ]
  },
  {
   "cell_type": "code",
   "execution_count": null,
   "metadata": {
    "ExecuteTime": {
     "end_time": "2020-08-03T15:22:30.643313Z",
     "start_time": "2020-08-03T15:22:30.384018Z"
    }
   },
   "outputs": [],
   "source": [
    "# Compile\n",
    "this_dir = os.path.abspath('')\n",
    "include_paths = [os.path.join(this_dir, \n",
    "                              \"../dev/statistical_model/4_tracks_and_cascades/stan/\")]\n",
    "\n",
    "sm = stan_utility.compile_model(filename=cg.filename, include_paths=include_paths, \n",
    "                                model_name=\"sim\")"
   ]
  },
  {
   "cell_type": "markdown",
   "metadata": {},
   "source": [
    "## Simulation"
   ]
  },
  {
   "cell_type": "code",
   "execution_count": null,
   "metadata": {},
   "outputs": [],
   "source": [
    "def to_unit_vector(dec, ra):\n",
    "    theta = dec + np.pi/2\n",
    "    x = np.sin(theta) * np.cos(ra)\n",
    "    y = np.sin(theta) * np.sin(ra)\n",
    "    z = np.cos(theta)\n",
    "    return [x, y, z]"
   ]
  },
  {
   "cell_type": "code",
   "execution_count": null,
   "metadata": {
    "ExecuteTime": {
     "end_time": "2020-08-03T15:22:30.653674Z",
     "start_time": "2020-08-03T15:22:30.645355Z"
    }
   },
   "outputs": [],
   "source": [
    "redshift = [source_list.sources[i].redshift for i in range(source_list.N)]\n",
    "lum_dist = [luminosity_distance(_) for _ in redshift]\n",
    "varpi = np.asarray([to_unit_vector(*np.radians(source_list.sources[i].coord)) for i in range(source_list.N-1)])"
   ]
  },
  {
   "cell_type": "code",
   "execution_count": null,
   "metadata": {
    "ExecuteTime": {
     "end_time": "2020-08-14T15:50:04.876573Z",
     "start_time": "2020-08-14T15:50:04.871710Z"
    }
   },
   "outputs": [],
   "source": [
    "# Inputs \n",
    "sim_inputs = {}\n",
    "sim_inputs['Ns'] = source_list.N-1\n",
    "\n",
    "sim_inputs['z'] = redshift\n",
    "sim_inputs['D'] = lum_dist[:-1]\n",
    "sim_inputs['varpi'] = varpi_in\n",
    "\n",
    "inputs['Ngrid'] = len(exposure_integral.par_grids[0])\n",
    "inputs['alpha_grid'] = exposure_integral.par_grids[0]\n",
    "inputs['integral_grid'] = exposure_integral.integral_grid\n",
    "\n",
    "inputs['aeff_max'] = np.max(exposure_integral.effective_area._eff_area)"
   ]
  },
  {
   "cell_type": "code",
   "execution_count": null,
   "metadata": {
    "ExecuteTime": {
     "end_time": "2020-08-03T15:22:30.667250Z",
     "start_time": "2020-08-03T15:22:30.664370Z"
    }
   },
   "outputs": [],
   "source": [
    "#inputs['aeff_max'] = 1e4"
   ]
  },
  {
   "cell_type": "code",
   "execution_count": null,
   "metadata": {
    "ExecuteTime": {
     "end_time": "2020-08-14T15:50:05.709731Z",
     "start_time": "2020-08-14T15:50:05.704416Z"
    }
   },
   "outputs": [],
   "source": [
    "sim_inputs['alpha'] = 2.0\n",
    "sim_inputs['Emin'] = 1e5 # GeV\n",
    "\n",
    "total_flux = source_list.total_flux_int() # m^-2 s^-1\n",
    "\n",
    "inputs['T'] = 1 * 3.154E7 # s\n",
    "inputs['F0'] = ((1 - f) * total_flux) # m^-2 yr^-1\n",
    "inputs['Q'] = ( (f*total_flux) / (sum([1 / (4*np.pi * (d*3.086e22)**2) \n",
    "                                          for d in inputs['D']])) )  # yr^-1"
   ]
  },
  {
   "cell_type": "code",
   "execution_count": null,
   "metadata": {
    "ExecuteTime": {
     "end_time": "2020-08-14T15:51:20.886713Z",
     "start_time": "2020-08-14T15:51:08.694189Z"
    }
   },
   "outputs": [],
   "source": [
    "# Simulate\n",
    "simulation = sm.sampling(data=sim_inputs, iter=1, chains=1, \n",
    "                         algorithm=\"Fixed_param\")"
   ]
  },
  {
   "cell_type": "code",
   "execution_count": null,
   "metadata": {
    "ExecuteTime": {
     "end_time": "2020-08-14T15:51:23.073069Z",
     "start_time": "2020-08-14T15:51:23.065302Z"
    }
   },
   "outputs": [],
   "source": [
    "from astropy.coordinates import SkyCoord\n",
    "from astropy import units as u\n",
    "\n",
    "class Direction():\n",
    "    \"\"\"\n",
    "    Input the unit vector vMF samples and\n",
    "    store x, y, and z and galactic coordinates\n",
    "    of direction in Mpc.\n",
    "    \"\"\"\n",
    "\n",
    "    def __init__(self, unit_vector_3d):\n",
    "        \"\"\"\n",
    "        Input the unit vector samples and\n",
    "        store x, y, and z and galactic coordinates\n",
    "        of direction in Mpc.\n",
    "\n",
    "        :param unit_vector_3d: a 3-dimensional unit vector.\n",
    "        \"\"\"\n",
    "\n",
    "        self.unit_vector = unit_vector_3d\n",
    "        transposed_uv = np.transpose(self.unit_vector)\n",
    "        self.x = transposed_uv[0]\n",
    "        self.y = transposed_uv[1]\n",
    "        self.z = transposed_uv[2]\n",
    "        self.d = SkyCoord(self.x, self.y, self.z,\n",
    "                          unit = 'mpc',\n",
    "                          representation_type = 'cartesian',\n",
    "                          frame = 'icrs')\n",
    "        self.d.representation_type = 'spherical'\n",
    "        self.lons = self.d.galactic.l.wrap_at(360 * u.deg).deg\n",
    "        self.lats = self.d.galactic.b.wrap_at(180 * u.deg).deg"
   ]
  },
  {
   "cell_type": "code",
   "execution_count": null,
   "metadata": {
    "ExecuteTime": {
     "end_time": "2020-08-14T15:51:23.438049Z",
     "start_time": "2020-08-14T15:51:23.384757Z"
    }
   },
   "outputs": [],
   "source": [
    "# Energies\n",
    "Esrc = simulation.extract(['Esrc'])['Esrc'][0]\n",
    "E = simulation.extract(['E'])['E'][0]\n",
    "Edet_sim = simulation.extract(['Edet'])['Edet'][0]\n",
    "\n",
    "# Arrival directions\n",
    "event = simulation.extract(['event'])['event'][0]\n",
    "event = Direction(event)\n",
    "e_ra = event.d.icrs.ra.rad\n",
    "e_dec = event.d.icrs.dec.rad\n",
    "\n",
    "\n",
    "true_dir = simulation.extract(['omega'])['omega'][0]\n",
    "true_dir = Direction(true_dir)\n",
    "e_t_ra = true_dir.d.icrs.ra.rad\n",
    "e_t_dec = true_dir.d.icrs.dec.rad\n",
    "\n",
    "source = Direction(varpi_in)\n",
    "s_ra = source.d.icrs.ra.rad\n",
    "s_dec = source.d.icrs.dec.rad\n",
    "\n",
    "# event type\n",
    "#event_type = simulation.extract(['event_type'])['event_type'][0]\n",
    "#zenith = simulation.extract(['zenith'])['zenith'][0]"
   ]
  },
  {
   "cell_type": "code",
   "execution_count": null,
   "metadata": {
    "ExecuteTime": {
     "end_time": "2020-08-14T15:51:23.844078Z",
     "start_time": "2020-08-14T15:51:23.833130Z"
    }
   },
   "outputs": [],
   "source": [
    "lam = simulation.extract(['Lambda'])['Lambda'][0] - 1\n",
    "Nc = sim_inputs['Ns']\n",
    "label_cmap = plt.cm.get_cmap('plasma', Nc+1)\n",
    "\n",
    "lam = list(lam)\n",
    "Nsrc = sum([lam.count(_) for _ in range(int(Nc))])\n",
    "Nbg = lam.count(Nc)\n",
    "print('Nsrc: ', Nsrc)\n",
    "print('Nbg: ', Nbg)\n",
    "print('w_bg: ', Nbg / (Nbg+Nsrc))"
   ]
  },
  {
   "cell_type": "code",
   "execution_count": null,
   "metadata": {
    "ExecuteTime": {
     "end_time": "2020-08-14T15:51:25.548726Z",
     "start_time": "2020-08-14T15:51:25.545719Z"
    }
   },
   "outputs": [],
   "source": [
    "import matplotlib.patches as mpatches\n",
    "from matplotlib.collections import PatchCollection\n",
    "from matplotlib.colors import LinearSegmentedColormap"
   ]
  },
  {
   "cell_type": "code",
   "execution_count": null,
   "metadata": {
    "ExecuteTime": {
     "end_time": "2020-08-14T15:51:28.715140Z",
     "start_time": "2020-08-14T15:51:27.209422Z"
    }
   },
   "outputs": [],
   "source": [
    "fig = plt.figure()\n",
    "fig.set_size_inches((10, 8))\n",
    "ax = fig.add_subplot(111, projection='hammer')\n",
    "\n",
    "circles = []\n",
    "for r, d, l in zip(e_ra, e_dec, lam):\n",
    "    color = label_cmap.colors[int(l)]\n",
    "    circles.append(mpatches.Circle((r-np.pi,d), 0.05, color=color, alpha=0.7))\n",
    "collection = PatchCollection(circles, match_original=True)    \n",
    "ax.add_collection(collection)   \n",
    "\n",
    "circles = []\n",
    "norm = max([1 - _/zth for _ in redshift])\n",
    "for r, d, z in zip(s_ra, s_dec, redshift):\n",
    "    circles.append(mpatches.Circle((r-np.pi,d), 0.05, color='k', alpha=(1-z/zth)/norm))\n",
    "collection = PatchCollection(circles, match_original=True)\n",
    "ax.add_collection(collection)\n",
    "ax.axhline(np.deg2rad(-5), color='k', linestyle=\":\")"
   ]
  },
  {
   "cell_type": "code",
   "execution_count": null,
   "metadata": {
    "ExecuteTime": {
     "end_time": "2020-08-14T15:51:32.453997Z",
     "start_time": "2020-08-14T15:51:30.889831Z"
    }
   },
   "outputs": [],
   "source": [
    "# Plot energies\n",
    "Emin_cascades = sim_inputs['Emin']\n",
    "bins = np.logspace(np.log(Emin_cascades/1000), np.log(1E+4*Emin_cascades), base = np.e)\n",
    "\n",
    "fig, ax = plt.subplots()\n",
    "ax.hist(Esrc, bins=bins, label='$\\\\tilde{E}$', alpha=0.7);\n",
    "ax.hist(Edet_sim, bins=bins, label='$\\hat{E}$', alpha=0.7);\n",
    "ax.axvline(sim_inputs[\"Emin\"])\n",
    "ax.set_xscale('log')\n",
    "ax.set_yscale('log')\n",
    "ax.set_xlabel('$E$ / GeV')\n",
    "ax.legend();"
   ]
  },
  {
   "cell_type": "markdown",
   "metadata": {},
   "source": [
    "## Generate Stan code for fit"
   ]
  },
  {
   "cell_type": "code",
   "execution_count": null,
   "metadata": {
    "ExecuteTime": {
     "end_time": "2020-08-14T15:51:32.460179Z",
     "start_time": "2020-08-14T15:51:32.456742Z"
    }
   },
   "outputs": [],
   "source": [
    "from python.backend.stan_generator import ParametersContext, TransformedParametersContext, ModelContext\n",
    "from python.backend.variable_definitions import ParameterDef, ParameterVectorDef"
   ]
  },
  {
   "cell_type": "code",
   "execution_count": null,
   "metadata": {
    "ExecuteTime": {
     "end_time": "2020-08-14T15:51:34.257595Z",
     "start_time": "2020-08-14T15:51:34.137836Z"
    }
   },
   "outputs": [],
   "source": [
    "with StanFileGenerator(\"stan_files/model_code\") as cg:\n",
    "\n",
    "    with FunctionsContext() as fc:\n",
    "        _ = Include(\"utils.stan\")\n",
    "        _ = Include(\"vMF.stan\")\n",
    "        _ = Include(\"interpolation.stan\")\n",
    "        _ = Include(\"energy_spectrum.stan\")\n",
    "        _ = Include(\"sim_functions.stan\")\n",
    "        ntd = NorthernTracksDetectorModel()\n",
    "        \n",
    "    with DataContext() as dc:\n",
    "        \n",
    "        # Neutrinos\n",
    "        N = ForwardVariableDef(\"N\", \"int\")\n",
    "        N_str = [\"[\", N, \"]\"]\n",
    "        omega_det = ForwardArrayDef(\"omega_det\", \"unit_vector[3]\", N_str)\n",
    "        Edet = ForwardVariableDef(\"Edet\", \"vector[N]\")\n",
    "        Emin = ForwardVariableDef(\"Emin\", \"real\")\n",
    "        \n",
    "         # Sources\n",
    "        Ns = ForwardVariableDef(\"Ns\", \"int\")\n",
    "        Ns_str = [\"[\", Ns, \"]\"]\n",
    "        Ns_1p_str = [\"[\", Ns, \"+1]\"]\n",
    "        \n",
    "        varpi = ForwardArrayDef(\"varpi\", \"unit_vector[3]\", Ns_str)\n",
    "        D = ForwardVariableDef(\"D\", \"vector[Ns]\")\n",
    "        z = ForwardVariableDef(\"z\", \"vector[Ns+1]\")\n",
    "\n",
    "        # Precomputed quantities\n",
    "        Ngrid = ForwardVariableDef(\"Ngrid\", \"int\")\n",
    "        alpha_grid = ForwardVariableDef(\"alpha_grid\", \"vector[Ngrid]\")\n",
    "        integral_grid = ForwardArrayDef(\"integral_grid\", \n",
    "                                        \"vector[Ngrid]\", Ns_1p_str)\n",
    "        Eg = ForwardVariableDef(\"E_grid\", \"vector[Ngrid]\")\n",
    "        Pg = ForwardArrayDef(\"Pdet_grid\", \"vector[Ngrid]\", Ns_1p_str)\n",
    "        \n",
    "        # Inputs\n",
    "        T = ForwardVariableDef(\"T\", \"real\")\n",
    "        \n",
    "        # Debugging\n",
    "        Q_scale = ForwardVariableDef(\"Q_scale\", \"real\")\n",
    "        F0_scale = ForwardVariableDef(\"F0_scale\", \"real\")\n",
    "        \n",
    "        \n",
    "    with TransformedDataContext() as tdc:\n",
    "        \n",
    "        zenith = ForwardVariableDef(\"zenith\", \"vector[N]\")\n",
    "        \n",
    "        with ForLoopContext(1, N, \"i\") as i:\n",
    "            zenith[i] << StringExpression([\"pi() - acos(\", omega_det[i][3], \")\"])\n",
    "        \n",
    "        StringExpression([\"print(\", Ngrid, \")\"])\n",
    "            \n",
    "    with ParametersContext() as pc:\n",
    "        \n",
    "        Q = ParameterDef(\"Q\", \"real\", 0.0, 1e60)\n",
    "        F0 = ParameterDef(\"F0\", \"real\", 0.0, 500)\n",
    "        \n",
    "        alpha = ParameterDef(\"alpha\", \"real\", 1.5, 3.5)\n",
    "        \n",
    "        Esrc = ParameterVectorDef(\"Esrc\", \"vector\", N_str, Emin, 1e8)\n",
    "        \n",
    "    with TransformedParametersContext() as tpc:\n",
    "        \n",
    "        Fs = ParameterDef(\"Fs\", \"real\", 0.0)\n",
    "        \n",
    "        F = ForwardVariableDef(\"F\", \"vector[Ns]\")\n",
    "        allF = ForwardVariableDef(\"allF\", \"vector[Ns+1]\")\n",
    "        eps = ForwardVariableDef(\"eps\", \"vector[Ns+1]\")\n",
    "        \n",
    "        f = ParameterDef(\"f\", \"real\", 0, 1)\n",
    "        FT = ParameterDef(\"FT\", \"real\", 0)\n",
    "        \n",
    "        lp = ForwardArrayDef(\"lp\", \"vector[Ns+1]\", N_str)\n",
    "        logF = ForwardVariableDef(\"logF\", \"vector[Ns+1]\")\n",
    "        Nex = ForwardVariableDef(\"Nex\", \"real\")\n",
    "        E = ForwardVariableDef(\"E\", \"vector[N]\")       \n",
    "        \n",
    "        Fs << 0\n",
    "        with ForLoopContext(1, Ns, \"k\") as k:\n",
    "            F[k] << StringExpression([Q, \"/ (4 * pi() * pow(\", \n",
    "                                      D[k], \" * \", 3.086e22, \", 2))\"])\n",
    "            allF[k] << F[k]\n",
    "            StringExpression([Fs,\" += \", F[k]])\n",
    "        StringExpression(\"allF[Ns+1]\") << F0\n",
    "        FT << F0 + Fs\n",
    "        f << StringExpression([Fs, \" / \", FT]) \n",
    "        \n",
    "        logF << StringExpression([\"log(\", allF, \")\"])\n",
    "        \n",
    "        with ForLoopContext(1, N, \"i\") as i:\n",
    "            lp[i] << logF \n",
    "            with ForLoopContext(1, \"Ns+1\", \"k\") as k:\n",
    "                StringExpression([lp[i][k], \" += pareto_lpdf(\", Esrc[i], \n",
    "                                  \" | \", Emin, \" , \", alpha-1, \")\"])\n",
    "                E[i] << StringExpression([Esrc[i], \" / (\",  1+z[k], \")\"]) \n",
    "                \n",
    "                StringExpression([\"if (\", k ,\" < Ns+1) {\\n\", \n",
    "                                  lp[i][k], \" += \", \n",
    "                                  ntd.angular_resolution(E[i], \n",
    "                                                         varpi[k], omega_det[i]),\n",
    "                                  \";\\n}\\n\", \"else if (\", k, \" == Ns+1) {\\n\", \n",
    "                                  lp[i][k], \" += \", np.log(1/(4*np.pi)), \n",
    "                                  \";\\n}\"])\n",
    "                \n",
    "                StringExpression([lp[i][k], \" += \", \n",
    "                                  ntd.energy_resolution(E[i], Edet[i])])\n",
    "                StringExpression([lp[i][k], \" += log(interpolate(\", \n",
    "                                  Eg, \", \", Pg[k], \", \", E[i], \"))\"])\n",
    "                       \n",
    "        eps << StringExpression([\"get_exposure_factor(\", T, \", \", Emin, \", \", \n",
    "                                 alpha, \", \", alpha_grid, \", \", \n",
    "                                 integral_grid, \", \", Ns, \")\"])  \n",
    "        Nex << StringExpression([\"get_Nex(\", allF, \", \", eps, \")\"])\n",
    "    \n",
    "    with ModelContext() as mc:\n",
    "        \n",
    "        with ForLoopContext(1, N, \"i\") as i:\n",
    "            StringExpression([\"target += log_sum_exp(\", lp[i], \")\"])\n",
    "        StringExpression([\"target += -\", Nex])\n",
    "        \n",
    "        StringExpression([Q, \" ~ normal(0, \", Q_scale, \")\"])\n",
    "        StringExpression([F0, \" ~ normal(0, \", F0_scale, \")\"])\n",
    "        StringExpression([alpha, \" ~ normal(2.0, 2.0)\"])\n",
    "        \n",
    "    model = cg.generate_single_file()"
   ]
  },
  {
   "cell_type": "code",
   "execution_count": null,
   "metadata": {
    "ExecuteTime": {
     "end_time": "2020-08-14T15:51:35.037741Z",
     "start_time": "2020-08-14T15:51:34.793639Z"
    }
   },
   "outputs": [],
   "source": [
    "# Compile\n",
    "this_dir = os.path.abspath('')\n",
    "include_paths = [os.path.join(this_dir, \n",
    "                              \"../dev/statistical_model/4_tracks_and_cascades/stan/\")]\n",
    "\n",
    "sm = stan_utility.compile_model(filename=cg.filename, include_paths=include_paths, \n",
    "                                model_name=\"model\")"
   ]
  },
  {
   "cell_type": "code",
   "execution_count": null,
   "metadata": {
    "ExecuteTime": {
     "end_time": "2020-08-14T15:51:35.249450Z",
     "start_time": "2020-08-14T15:51:35.241687Z"
    }
   },
   "outputs": [],
   "source": [
    "inputs = {}\n",
    "inputs[\"N\"] = len(Edet_sim)\n",
    "inputs[\"omega_det\"] = event.unit_vector\n",
    "inputs[\"Edet\"] = Edet_sim\n",
    "inputs[\"Ns\"] = source_list.N - 1\n",
    "\n",
    "inputs['z'] = redshift\n",
    "inputs['D'] = lum_dist[:-1]\n",
    "inputs['varpi'] = varpi_in\n",
    "\n",
    "inputs[\"Emin\"] = 1e5 # GeV\n",
    "\n",
    "inputs['Ngrid'] = len(exposure_integral.alpha_grid)\n",
    "inputs['alpha_grid'] = exposure_integral.alpha_grid\n",
    "inputs['integral_grid'] = exposure_integral.integral_grid\n",
    "inputs[\"E_grid\"] = E_grid\n",
    "inputs[\"Pdet_grid\"] = Pdet_grid\n",
    "inputs[\"Q_scale\"] = sim_inputs[\"Q\"]\n",
    "inputs[\"F0_scale\"] = sim_inputs[\"F0\"]\n",
    "inputs[\"T\"] = 1"
   ]
  },
  {
   "cell_type": "code",
   "execution_count": null,
   "metadata": {
    "ExecuteTime": {
     "end_time": "2020-08-14T15:57:02.916039Z",
     "start_time": "2020-08-14T15:51:35.770241Z"
    }
   },
   "outputs": [],
   "source": [
    "# fit\n",
    "fit = sm.sampling(data=inputs, iter=500, chains=4)"
   ]
  },
  {
   "cell_type": "code",
   "execution_count": null,
   "metadata": {
    "ExecuteTime": {
     "end_time": "2020-08-14T15:57:45.670687Z",
     "start_time": "2020-08-14T15:57:43.260630Z"
    }
   },
   "outputs": [],
   "source": [
    "# View chains\n",
    "fig = fit.plot([r'Q', r'F0', r'f', r'alpha', r'F', r\"Nex\"]);\n",
    "fig.set_size_inches(20, 16)\n",
    "fig.tight_layout()"
   ]
  },
  {
   "cell_type": "code",
   "execution_count": null,
   "metadata": {
    "ExecuteTime": {
     "end_time": "2020-08-14T15:57:53.261495Z",
     "start_time": "2020-08-14T15:57:51.163993Z"
    }
   },
   "outputs": [],
   "source": [
    "# View corner plot\n",
    "chain = fit.extract(permuted = True)\n",
    "key_list = ['F0', 'Q', 'FT', 'f', 'alpha']\n",
    "labels = [r'$F_0$', r'Q', r'FT', r'f', 'alpha']\n",
    "truths = [sim_inputs['F0'], sim_inputs['Q'], total_flux, 0.5, sim_inputs['alpha']]\n",
    "\n",
    "corner.corner(np.nan_to_num(np.column_stack([chain[key] for key in key_list])),\n",
    "              labels = labels, truths = truths);"
   ]
  },
  {
   "cell_type": "code",
   "execution_count": null,
   "metadata": {},
   "outputs": [],
   "source": []
  }
 ],
 "metadata": {
  "kernelspec": {
   "display_name": "bayes",
   "language": "python",
   "name": "bayes"
  },
  "language_info": {
   "codemirror_mode": {
    "name": "ipython",
    "version": 3
   },
   "file_extension": ".py",
   "mimetype": "text/x-python",
   "name": "python",
   "nbconvert_exporter": "python",
   "pygments_lexer": "ipython3",
   "version": "3.7.6"
  }
 },
 "nbformat": 4,
 "nbformat_minor": 4
}
