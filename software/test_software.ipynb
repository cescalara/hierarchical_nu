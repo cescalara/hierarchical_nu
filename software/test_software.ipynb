{
 "cells": [
  {
   "cell_type": "markdown",
   "metadata": {},
   "source": [
    "# Testing software"
   ]
  },
  {
   "cell_type": "code",
   "execution_count": 1,
   "metadata": {
    "ExecuteTime": {
     "end_time": "2020-09-24T15:52:34.583808Z",
     "start_time": "2020-09-24T15:52:33.187555Z"
    }
   },
   "outputs": [],
   "source": [
    "import numpy as np\n",
    "from matplotlib import pyplot as plt\n",
    "import os\n",
    "import stan_utility\n",
    "import astropy.units as u\n",
    "%load_ext autoreload\n",
    "%autoreload 2\n",
    "import seaborn as sns"
   ]
  },
  {
   "cell_type": "markdown",
   "metadata": {},
   "source": [
    "## Sources"
   ]
  },
  {
   "cell_type": "code",
   "execution_count": 2,
   "metadata": {
    "ExecuteTime": {
     "end_time": "2020-09-24T15:52:34.987718Z",
     "start_time": "2020-09-24T15:52:34.585911Z"
    }
   },
   "outputs": [],
   "source": [
    "from python.source.simple_source import PointSource, DiffuseSource, TestSourceList\n",
    "from python.source.flux_model import PowerLawSpectrum, IsotropicDiffuseBG\n",
    "from python.source.parameter import Parameter\n",
    "Parameter.clear_registry()\n",
    "from python.source.atmospheric_flux import AtmosphericNuMuFlux\n",
    "from python.backend.stan_generator import ParametersContext, TransformedParametersContext, ModelContext\n",
    "from python.backend.variable_definitions import ParameterDef, ParameterVectorDef"
   ]
  },
  {
   "cell_type": "code",
   "execution_count": 3,
   "metadata": {
    "ExecuteTime": {
     "end_time": "2020-09-24T15:52:35.018246Z",
     "start_time": "2020-09-24T15:52:34.990445Z"
    }
   },
   "outputs": [],
   "source": [
    "# Define point source params\n",
    "index = Parameter(2.2, \"index\", fixed=False, par_range=(1.1, 4))\n",
    "luminosity = Parameter(6E46 * (u.erg / u.s), \"luminosity\", fixed=True, \n",
    "                       par_range=(0, 1E60))\n",
    "\n",
    "# Define diffuse flux inputs\n",
    "diffuse_norm = Parameter(1.44E-14 /u.GeV/u.m**2/u.s, \"diffuse_norm\", fixed=True, \n",
    "                         par_range=(0, np.inf))\n",
    "diffuse_flux_model = IsotropicDiffuseBG(PowerLawSpectrum(diffuse_norm, 1E5*u.GeV, \n",
    "                                                         index, lower_energy=1E5*u.GeV, \n",
    "                                                         upper_energy=1E8*u.GeV))"
   ]
  },
  {
   "cell_type": "code",
   "execution_count": 4,
   "metadata": {
    "ExecuteTime": {
     "end_time": "2020-09-24T15:52:35.146704Z",
     "start_time": "2020-09-24T15:52:35.019969Z"
    }
   },
   "outputs": [
    {
     "data": {
      "text/latex": [
       "$1.8071376 \\times 10^{-8} \\; \\mathrm{\\frac{1}{s\\,m^{2}}}$"
      ],
      "text/plain": [
       "<Quantity 1.80713759e-08 1 / (m2 s)>"
      ]
     },
     "execution_count": 4,
     "metadata": {},
     "output_type": "execute_result"
    }
   ],
   "source": [
    "# Define atmo_bg_flux\n",
    "atmo_bg_flux = AtmosphericNuMuFlux(1E5 * u.GeV, 1E8 * u.GeV)\n",
    "atmo_bg_flux.total_flux_int"
   ]
  },
  {
   "cell_type": "code",
   "execution_count": 5,
   "metadata": {
    "ExecuteTime": {
     "end_time": "2020-09-24T15:52:36.286111Z",
     "start_time": "2020-09-24T15:52:35.148567Z"
    }
   },
   "outputs": [],
   "source": [
    "# Loading from file\n",
    "source_file = '../dev/statistical_model/data/test_SFR_pop.h5'\n",
    "source_list = TestSourceList(source_file, luminosity, index, 1E5 * u.GeV, 1E8 * u.GeV)\n",
    "\n",
    "# Select sources below zth = 1\n",
    "zth = 1.0\n",
    "source_list.select_below_redshift(zth)\n",
    "\n",
    "# Add a diffuse background at z = 1\n",
    "diffuse_bg = DiffuseSource('diffuse_bg', zth, flux_model=diffuse_flux_model)\n",
    "source_list.add(diffuse_bg)\n",
    "\n",
    "# Add an atmospheric background component\n",
    "atmo_bg = DiffuseSource('atmo_bg', 0, flux_model=atmo_bg_flux)\n",
    "source_list.add(atmo_bg)"
   ]
  },
  {
   "cell_type": "code",
   "execution_count": 6,
   "metadata": {
    "ExecuteTime": {
     "end_time": "2020-09-24T15:52:36.442722Z",
     "start_time": "2020-09-24T15:52:36.288506Z"
    }
   },
   "outputs": [
    {
     "name": "stdout",
     "output_type": "stream",
     "text": [
      "0.4212347911821191\n"
     ]
    }
   ],
   "source": [
    "# Associated fraction of our sources\n",
    "source_ints = [source.flux_model.total_flux_int for source in source_list]\n",
    "f = sum(source_ints[:-2]) / sum(source_ints)\n",
    "print(f)"
   ]
  },
  {
   "cell_type": "markdown",
   "metadata": {},
   "source": [
    "## Precomputation"
   ]
  },
  {
   "cell_type": "code",
   "execution_count": 55,
   "metadata": {
    "ExecuteTime": {
     "end_time": "2020-09-24T16:21:47.094406Z",
     "start_time": "2020-09-24T16:21:47.063962Z"
    }
   },
   "outputs": [],
   "source": [
    "from python.precomputation import ExposureIntegral\n",
    "from python.detector_model import NorthernTracksDetectorModel"
   ]
  },
  {
   "cell_type": "code",
   "execution_count": 56,
   "metadata": {
    "ExecuteTime": {
     "end_time": "2020-09-24T16:23:10.844991Z",
     "start_time": "2020-09-24T16:22:24.595346Z"
    }
   },
   "outputs": [
    {
     "name": "stderr",
     "output_type": "stream",
     "text": [
      "INFO:python.backend.code_generator:Object of type <python.backend.stan_generator.FunctionsContext object at 0x1403c6460> already on stack\n",
      "INFO:python.backend.code_generator:Object of type <python.backend.stan_generator.FunctionsContext object at 0x1403c6d30> already on stack\n",
      "INFO:python.backend.code_generator:Object of type <python.backend.stan_generator.DefinitionContext object at 0x13e406100> already on stack\n",
      "INFO:python.backend.code_generator:Object of type <python.backend.stan_generator.DefinitionContext object at 0x13e39fbb0> already on stack\n",
      "INFO:python.backend.code_generator:Object of type <python.backend.stan_generator.DefinitionContext object at 0x13f314670> already on stack\n",
      "INFO:python.backend.code_generator:Object of type <python.backend.stan_generator.DefinitionContext object at 0x13e24fac0> already on stack\n",
      "INFO:python.backend.code_generator:Object of type <python.backend.stan_generator.FunctionsContext object at 0x1403c6550> already on stack\n",
      "INFO:python.backend.code_generator:Object of type <python.backend.stan_generator.FunctionsContext object at 0x13f515f40> already on stack\n",
      "INFO:python.backend.code_generator:Object of type <python.backend.stan_generator.DefinitionContext object at 0x14027d160> already on stack\n",
      "INFO:python.backend.code_generator:Object of type <python.backend.stan_generator.DefinitionContext object at 0x14027d1f0> already on stack\n",
      "/Users/fran/projects/hierarchical_nu/software/python/precomputation.py:256: RuntimeWarning: invalid value encountered in true_divide\n",
      "  \n"
     ]
    }
   ],
   "source": [
    "Emin_det = 1.0e5 * u.GeV # GeV\n",
    "Esrc_min = 1.0e5 * u.GeV\n",
    "Esrc_max = 1.0e8 * u.GeV\n",
    "\n",
    "exposure_integral = ExposureIntegral(source_list, \n",
    "                                     NorthernTracksDetectorModel, \n",
    "                                     Emin_det, Esrc_min, Esrc_max)\n",
    "\n",
    "exposure_integral()"
   ]
  },
  {
   "cell_type": "code",
   "execution_count": 57,
   "metadata": {
    "ExecuteTime": {
     "end_time": "2020-09-24T16:23:11.022635Z",
     "start_time": "2020-09-24T16:23:10.846780Z"
    }
   },
   "outputs": [
    {
     "data": {
      "text/plain": [
       "<matplotlib.lines.Line2D at 0x1401fe520>"
      ]
     },
     "execution_count": 57,
     "metadata": {},
     "output_type": "execute_result"
    },
    {
     "data": {
      "image/png": "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\n",
      "text/plain": [
       "<Figure size 432x288 with 1 Axes>"
      ]
     },
     "metadata": {
      "needs_background": "light"
     },
     "output_type": "display_data"
    }
   ],
   "source": [
    "fig, ax = plt.subplots()\n",
    "for _ in exposure_integral.integral_grid:\n",
    "    ax.plot(exposure_integral.par_grids[\"index\"], _)\n",
    "ax.axhline(exposure_integral.integral_fixed_vals[0].value)"
   ]
  },
  {
   "cell_type": "markdown",
   "metadata": {},
   "source": [
    "## Generate Stan code for simulation\n"
   ]
  },
  {
   "cell_type": "code",
   "execution_count": 59,
   "metadata": {
    "ExecuteTime": {
<<<<<<< HEAD
     "end_time": "2020-09-18T11:18:53.835510Z",
     "start_time": "2020-09-18T11:18:53.798897Z"
=======
     "end_time": "2020-09-24T16:23:31.013902Z",
     "start_time": "2020-09-24T16:23:30.983033Z"
>>>>>>> aa3a94676010f7a3f4a0c886e51e53c8804ca534
    }
   },
   "outputs": [],
   "source": [
    "from python.detector_model import NorthernTracksDetectorModel\n",
    "from python.backend.stan_generator import (\n",
    "    StanGenerator, GeneratedQuantitiesContext, DataContext, TransformedDataContext,\n",
    "    FunctionsContext, Include, ForLoopContext, StanFileGenerator, WhileLoopContext, FunctionCall, ModelContext, IfBlockContext, ElseIfBlockContext, ElseBlockContext)\n",
    "from python.backend.variable_definitions import ForwardVariableDef, ForwardArrayDef\n",
    "from python.backend.expression import StringExpression\n",
    "from python.backend.parameterizations import DistributionMode\n",
    "import logging\n",
    "logging.basicConfig(level=logging.WARN)"
   ]
  },
  {
   "cell_type": "markdown",
   "metadata": {},
   "source": [
    "### Code to generate atmo events"
   ]
  },
  {
   "cell_type": "code",
   "execution_count": 60,
   "metadata": {
    "ExecuteTime": {
     "end_time": "2020-09-24T16:23:31.610876Z",
     "start_time": "2020-09-24T16:23:31.532951Z"
    }
   },
   "outputs": [
    {
     "name": "stderr",
     "output_type": "stream",
     "text": [
      "INFO:python.backend.code_generator:Object of type <python.backend.stan_generator.FunctionsContext object at 0x1402f3c10> already on stack\n",
      "INFO:python.backend.code_generator:Object of type <python.backend.stan_generator.DefinitionContext object at 0x1402f3be0> already on stack\n",
      "INFO:python.backend.code_generator:Object of type <python.backend.stan_generator.DefinitionContext object at 0x1402f3ca0> already on stack\n",
      "INFO:python.backend.code_generator:Object of type <python.backend.stan_generator.DefinitionContext object at 0x140300100> already on stack\n",
      "INFO:python.backend.code_generator:Object of type <python.backend.stan_generator.DefinitionContext object at 0x140300190> already on stack\n",
      "INFO:python.backend.code_generator:Object of type <python.backend.stan_generator.DefinitionContext object at 0x140300760> already on stack\n",
      "INFO:python.backend.code_generator:Object of type <python.backend.stan_generator.DefinitionContext object at 0x140300790> already on stack\n",
      "INFO:python.backend.code_generator:Object of type <python.backend.stan_generator.DefinitionContext object at 0x1403007f0> already on stack\n",
      "INFO:python.backend.code_generator:Object of type <python.backend.stan_generator.DefinitionContext object at 0x140300850> already on stack\n",
      "INFO:python.backend.code_generator:Object of type <python.backend.stan_generator.DefinitionContext object at 0x140300be0> already on stack\n",
      "INFO:python.backend.code_generator:Object of type <python.backend.stan_generator.DefinitionContext object at 0x140300e80> already on stack\n",
      "INFO:python.backend.code_generator:Object of type <python.backend.stan_generator.DefinitionContext object at 0x140300b80> already on stack\n"
     ]
    }
   ],
   "source": [
    "with StanFileGenerator(\"stan_files/atmo_gen\") as atmo_gen:\n",
    "    with FunctionsContext() as fc:\n",
    "        _ = Include(\"utils.stan\")\n",
    "        _ = Include(\"interpolation.stan\")\n",
    "    \n",
    "    # Increasing theta points too much makes compilation very slow\n",
    "    # Could switch to passing array as data if problematic\n",
    "    atmu_nu_flux = atmo_bg_flux.make_stan_function(theta_points=30)\n",
    "    \n",
    "    with DataContext():\n",
    "        Edet_min = ForwardVariableDef(\"Edet_min\", \"real\")\n",
    "        Esrc_max = ForwardVariableDef(\"Esrc_max\", \"real\")\n",
    "        \n",
    "        cosz_min = ForwardVariableDef(\"cosz_min\", \"real\")\n",
    "        cosz_max = ForwardVariableDef(\"cosz_max\", \"real\")\n",
    "    \n",
    "    with TransformedDataContext():\n",
    "        # If not used pop up in Stan file, blocking compilation...\n",
    "        # Needs fixing\n",
    "        StringExpression([\"print(\", Edet_min, \")\"])\n",
    "        StringExpression([\"print(\", Esrc_max, \")\"])\n",
    "        StringExpression([\"print(\", cosz_min, \")\"])\n",
    "        StringExpression([\"print(\", cosz_max, \")\"])\n",
    "    \n",
    "    with ParametersContext():\n",
    "        # Simulate from Edet_min and cosz bounds for efficiency \n",
    "        energy = ParameterDef(\"energy\", \"real\", Edet_min, Esrc_max)\n",
    "        coszen = ParameterDef(\"coszen\", \"real\", cosz_min, cosz_max) \n",
    "        phi = ParameterDef(\"phi\", \"real\", 0, 2*np.pi)\n",
    "        \n",
    "    with TransformedParametersContext():\n",
    "        omega = ForwardVariableDef(\"omega\", \"vector[3]\")\n",
    "        zen = ForwardVariableDef(\"zen\", \"real\")\n",
    "        theta = ForwardVariableDef(\"theta\", \"real\")     \n",
    "        \n",
    "        zen << FunctionCall([coszen], \"acos\")\n",
    "        theta << FunctionCall([], \"pi\") - zen\n",
    "        \n",
    "        omega[1] << FunctionCall([theta], \"sin\") * FunctionCall([phi], \"cos\")\n",
    "        omega[2] << FunctionCall([theta], \"sin\") * FunctionCall([phi], \"sin\")\n",
    "        omega[3] << FunctionCall([theta], \"cos\")\n",
    "        \n",
    "    with ModelContext():\n",
    "        \n",
    "        logflux = FunctionCall([atmu_nu_flux(energy, omega)], \"log\")\n",
    "        StringExpression([\"target += \", logflux])\n",
    "        \n",
    "model = atmo_gen.generate_single_file()"
   ]
  },
  {
   "cell_type": "markdown",
   "metadata": {},
   "source": [
    "### Main sim code"
   ]
  },
  {
   "cell_type": "code",
   "execution_count": 61,
   "metadata": {
    "ExecuteTime": {
     "end_time": "2020-09-24T16:23:32.000882Z",
     "start_time": "2020-09-24T16:23:31.873786Z"
    },
    "code_folding": []
   },
   "outputs": [
    {
     "name": "stderr",
     "output_type": "stream",
     "text": [
      "INFO:python.backend.code_generator:Object of type <python.backend.stan_generator.FunctionsContext object at 0x1406f3e80> already on stack\n",
      "INFO:python.backend.code_generator:Object of type <python.backend.stan_generator.DefinitionContext object at 0x1406f3d00> already on stack\n",
      "INFO:python.backend.code_generator:Object of type <python.backend.stan_generator.FunctionsContext object at 0x1406fa5b0> already on stack\n",
      "INFO:python.backend.code_generator:Object of type <python.backend.stan_generator.DefinitionContext object at 0x1406fa700> already on stack\n",
      "INFO:python.backend.code_generator:Object of type <python.backend.stan_generator.FunctionsContext object at 0x1406faca0> already on stack\n",
      "INFO:python.backend.code_generator:Object of type <python.backend.stan_generator.FunctionsContext object at 0x140704250> already on stack\n",
      "INFO:python.backend.code_generator:Object of type <python.backend.stan_generator.DefinitionContext object at 0x1407043d0> already on stack\n",
      "INFO:python.backend.code_generator:Object of type <python.backend.stan_generator.DefinitionContext object at 0x140704be0> already on stack\n",
      "INFO:python.backend.code_generator:Object of type <python.backend.stan_generator.DefinitionContext object at 0x140707040> already on stack\n",
      "INFO:python.backend.code_generator:Object of type <python.backend.stan_generator.DefinitionContext object at 0x1407070a0> already on stack\n",
      "INFO:python.backend.code_generator:Object of type <python.backend.stan_generator.DefinitionContext object at 0x140707070> already on stack\n",
      "INFO:python.backend.code_generator:Object of type <python.backend.stan_generator.DefinitionContext object at 0x1407070d0> already on stack\n",
      "INFO:python.backend.code_generator:Object of type <python.backend.stan_generator.DefinitionContext object at 0x140707130> already on stack\n",
      "INFO:python.backend.code_generator:Object of type <python.backend.stan_generator.DefinitionContext object at 0x140707100> already on stack\n",
      "INFO:python.backend.code_generator:Object of type <python.backend.stan_generator.DefinitionContext object at 0x140707280> already on stack\n",
      "INFO:python.backend.code_generator:Object of type <python.backend.stan_generator.DefinitionContext object at 0x1407072e0> already on stack\n",
      "INFO:python.backend.code_generator:Object of type <python.backend.stan_generator.DefinitionContext object at 0x140707580> already on stack\n",
      "INFO:python.backend.code_generator:Object of type <python.backend.stan_generator.DefinitionContext object at 0x140707430> already on stack\n",
      "INFO:python.backend.code_generator:Object of type <python.backend.stan_generator.DefinitionContext object at 0x140707550> already on stack\n",
      "INFO:python.backend.code_generator:Object of type <python.backend.stan_generator.DefinitionContext object at 0x1407072b0> already on stack\n",
      "INFO:python.backend.code_generator:Object of type <python.backend.stan_generator.DefinitionContext object at 0x140707730> already on stack\n",
      "INFO:python.backend.code_generator:Object of type <python.backend.stan_generator.DefinitionContext object at 0x140707700> already on stack\n",
      "INFO:python.backend.code_generator:Object of type <python.backend.stan_generator.DefinitionContext object at 0x140707790> already on stack\n",
      "INFO:python.backend.code_generator:Object of type <python.backend.stan_generator.DefinitionContext object at 0x140707b20> already on stack\n",
      "INFO:python.backend.code_generator:Object of type <python.backend.stan_generator.DefinitionContext object at 0x1407078e0> already on stack\n",
      "INFO:python.backend.code_generator:Object of type <python.backend.stan_generator.DefinitionContext object at 0x140707910> already on stack\n",
      "INFO:python.backend.code_generator:Object of type <python.backend.stan_generator.DefinitionContext object at 0x140707850> already on stack\n",
      "INFO:python.backend.code_generator:Object of type <python.backend.stan_generator.DefinitionContext object at 0x1407079d0> already on stack\n",
      "INFO:python.backend.code_generator:Object of type <python.backend.stan_generator.DefinitionContext object at 0x140707a90> already on stack\n",
      "INFO:python.backend.code_generator:Object of type <python.backend.stan_generator.DefinitionContext object at 0x140707e20> already on stack\n",
      "INFO:python.backend.code_generator:Object of type <python.backend.stan_generator.DefinitionContext object at 0x140707fa0> already on stack\n",
      "INFO:python.backend.code_generator:Object of type <python.backend.stan_generator.DefinitionContext object at 0x140707d30> already on stack\n",
      "INFO:python.backend.code_generator:Object of type <python.backend.stan_generator.DefinitionContext object at 0x140707d60> already on stack\n",
      "INFO:python.backend.code_generator:Object of type <python.backend.stan_generator.DefinitionContext object at 0x140707f10> already on stack\n",
      "INFO:python.backend.code_generator:Object of type <python.backend.stan_generator.DefinitionContext object at 0x140707ee0> already on stack\n",
      "INFO:python.backend.code_generator:Object of type <python.backend.stan_generator.FunctionsContext object at 0x140709c10> already on stack\n",
      "INFO:python.backend.code_generator:Object of type <python.backend.stan_generator.FunctionsContext object at 0x140709280> already on stack\n",
      "INFO:python.backend.code_generator:Object of type <python.backend.stan_generator.FunctionsContext object at 0x14070e430> already on stack\n",
      "INFO:python.backend.code_generator:Object of type <python.backend.stan_generator.DefinitionContext object at 0x14070e760> already on stack\n",
      "INFO:python.backend.code_generator:Object of type <python.backend.stan_generator.DefinitionContext object at 0x14070e520> already on stack\n",
      "INFO:python.backend.code_generator:Object of type <python.backend.stan_generator.DefinitionContext object at 0x14070e460> already on stack\n",
      "INFO:python.backend.code_generator:Object of type <python.backend.stan_generator.DefinitionContext object at 0x14070e580> already on stack\n",
      "INFO:python.backend.code_generator:Object of type <python.backend.stan_generator.FunctionsContext object at 0x14070ed30> already on stack\n",
      "INFO:python.backend.code_generator:Object of type <python.backend.stan_generator.FunctionsContext object at 0x1407140a0> already on stack\n",
      "INFO:python.backend.code_generator:Object of type <python.backend.stan_generator.FunctionsContext object at 0x140714ac0> already on stack\n",
      "INFO:python.backend.code_generator:Object of type <python.backend.stan_generator.DefinitionContext object at 0x140714a00> already on stack\n",
      "INFO:python.backend.code_generator:Object of type <python.backend.stan_generator.DefinitionContext object at 0x140714520> already on stack\n",
      "INFO:python.backend.code_generator:Object of type <python.backend.stan_generator.DefinitionContext object at 0x140714eb0> already on stack\n",
      "INFO:python.backend.code_generator:Object of type <python.backend.stan_generator.DefinitionContext object at 0x140714970> already on stack\n",
      "INFO:python.backend.code_generator:Object of type <python.backend.stan_generator.FunctionsContext object at 0x14071d2b0> already on stack\n",
      "INFO:python.backend.code_generator:Object of type <python.backend.stan_generator.FunctionsContext object at 0x140714fa0> already on stack\n",
      "INFO:python.backend.code_generator:Object of type <python.backend.stan_generator.DefinitionContext object at 0x140714640> already on stack\n",
      "INFO:python.backend.code_generator:Object of type <python.backend.stan_generator.DefinitionContext object at 0x140714160> already on stack\n",
      "INFO:python.backend.code_generator:Object of type <python.backend.stan_generator.DefinitionContext object at 0x140709d90> already on stack\n",
      "INFO:python.backend.code_generator:Object of type <python.backend.stan_generator.DefinitionContext object at 0x1407091c0> already on stack\n",
      "INFO:python.backend.code_generator:Object of type <python.backend.stan_generator.DefinitionContext object at 0x140709d30> already on stack\n",
      "INFO:python.backend.code_generator:Object of type <python.backend.stan_generator.DefinitionContext object at 0x140709e50> already on stack\n",
      "INFO:python.backend.code_generator:Object of type <python.backend.stan_generator.DefinitionContext object at 0x14070ef70> already on stack\n",
      "INFO:python.backend.code_generator:Object of type <python.backend.stan_generator.DefinitionContext object at 0x14070e220> already on stack\n",
      "INFO:python.backend.code_generator:Object of type <python.backend.stan_generator.DefinitionContext object at 0x14070ef10> already on stack\n"
     ]
    },
    {
     "name": "stderr",
     "output_type": "stream",
     "text": [
      "INFO:python.backend.code_generator:Object of type <python.backend.stan_generator.DefinitionContext object at 0x14070ea60> already on stack\n",
      "INFO:python.backend.code_generator:Object of type <python.backend.stan_generator.DefinitionContext object at 0x14070efa0> already on stack\n",
      "INFO:python.backend.code_generator:Object of type <python.backend.stan_generator.DefinitionContext object at 0x14071d340> already on stack\n",
      "INFO:python.backend.code_generator:Object of type <python.backend.stan_generator.DefinitionContext object at 0x14071d610> already on stack\n",
      "INFO:python.backend.code_generator:Object of type <python.backend.stan_generator.DefinitionContext object at 0x14071d4f0> already on stack\n",
      "INFO:python.backend.code_generator:Object of type <python.backend.stan_generator.DefinitionContext object at 0x13e3bb310> already on stack\n"
     ]
    }
   ],
   "source": [
    "with StanFileGenerator(\"stan_files/sim_code\") as sim_gen:\n",
    "    \n",
    "    with FunctionsContext() as fc:\n",
    "        _ = Include(\"utils.stan\")\n",
    "        _ = Include(\"vMF.stan\")\n",
    "        _ = Include(\"interpolation.stan\")\n",
    "        _ = Include(\"sim_functions.stan\")\n",
    "\n",
    "        spectrum_rng = source_list[0].flux_model.spectral_shape.make_stan_sampling_func(\"spectrum_rng\")\n",
    "        diffuse_flux_rng = diffuse_flux_model.make_stan_sampling_func(\"diffuse_bg_rng\")\n",
    "        \n",
    "        flux_fac = source_list[0].flux_model.spectral_shape.make_stan_flux_conv_func(\"flux_conv\")\n",
    "            \n",
    "    with DataContext() as dc:\n",
    "        \n",
    "        # Sources\n",
    "        Ns = ForwardVariableDef(\"Ns\", \"int\")\n",
    "        Ns_str = [\"[\", Ns, \"]\"]\n",
    "        Ns_1p_str = [\"[\", Ns, \"+1]\"]\n",
    "        \n",
    "        varpi = ForwardArrayDef(\"varpi\", \"unit_vector[3]\", Ns_str)\n",
    "        D = ForwardVariableDef(\"D\", \"vector[Ns]\")\n",
    "        z = ForwardVariableDef(\"z\", \"vector[Ns+1]\")\n",
    "        \n",
    "        # Energies\n",
    "        alpha = ForwardVariableDef(\"alpha\", \"real\")\n",
    "        Edet_min = ForwardVariableDef(\"Edet_min\", \"real\")\n",
    "        Esrc_min = ForwardVariableDef(\"Esrc_min\", \"real\")\n",
    "        Esrc_max = ForwardVariableDef(\"Esrc_max\", \"real\")\n",
    "        \n",
    "        # Luminosity/ diffuse flux\n",
    "        L = ForwardVariableDef(\"L\", \"real\")\n",
    "        F_diff = ForwardVariableDef(\"F_diff\", \"real\")\n",
    "        F_atmo = ForwardVariableDef(\"F_atmo\", \"real\")\n",
    "        \n",
    "        # Precomputed quantities\n",
    "        Ngrid = ForwardVariableDef(\"Ngrid\", \"int\")\n",
    "        alpha_grid = ForwardVariableDef(\"alpha_grid\", \"vector[Ngrid]\")\n",
    "        integral_grid = ForwardArrayDef(\"integral_grid\", \n",
    "                                        \"vector[Ngrid]\", Ns_1p_str)\n",
    "        atmo_integ_val = ForwardVariableDef(\"atmo_integ_val\", \"real\")\n",
    "        aeff_max = ForwardVariableDef(\"aeff_max\", \"real\")\n",
    "        \n",
    "        v_lim = ForwardVariableDef(\"v_lim\", \"real\")\n",
    "        T = ForwardVariableDef(\"T\", \"real\")\n",
    "        \n",
    "        # Atmo samples\n",
    "        N_atmo = ForwardVariableDef(\"N_atmo\", \"int\")\n",
    "        N_atmo_str = [\"[\", N_atmo, \"]\"]\n",
    "        atmo_directions = ForwardArrayDef(\"atmo_directions\", \"unit_vector[3]\", \n",
    "                                             N_atmo_str)\n",
    "        atmo_energies = ForwardVariableDef(\"atmo_energies\", \"vector[N_atmo]\")\n",
    "        atmo_weights = ForwardVariableDef(\"atmo_weights\", \"simplex[N_atmo]\")\n",
    "        \n",
    "    with TransformedDataContext() as tdc:\n",
    "        F = ForwardVariableDef(\"F\", \"vector[Ns+2]\")\n",
    "        Ftot = ForwardVariableDef(\"Ftot\", \"real\")\n",
    "        Fsrc = ForwardVariableDef(\"Fs\", \"real\")\n",
    "        f = ForwardVariableDef(\"f\", \"real\")\n",
    "        w_exposure = ForwardVariableDef(\"w_exposure\", \"simplex[Ns+2]\")\n",
    "        Nex = ForwardVariableDef(\"Nex\", \"real\")\n",
    "        N = ForwardVariableDef(\"N\", \"int\")\n",
    "        eps = ForwardVariableDef(\"eps\", \"vector[Ns+2]\")\n",
    "        \n",
    "        Fsrc << 0.0\n",
    "        with ForLoopContext(1, Ns, \"k\") as k:\n",
    "            F[k] << StringExpression([L, \"/ (4 * pi() * pow(\", \n",
    "                                         D[k], \" * \", 3.086e22, \", 2))\"])\n",
    "            StringExpression([F[k], \"*=\",  flux_fac(alpha, Esrc_min, Esrc_max)])\n",
    "            StringExpression([Fsrc,\" += \", F[k]])\n",
    "        \n",
    "        StringExpression(\"F[Ns+1]\") << F_diff\n",
    "        StringExpression(\"F[Ns+2]\") << F_atmo\n",
    "        \n",
    "        Ftot << Fsrc + F_diff + F_atmo\n",
    "        f << StringExpression([Fsrc, \"/\", Ftot])\n",
    "        StringExpression([\"print(\\\"f: \\\", \", f, \")\"])\n",
    "        \n",
    "        eps << StringExpression([\"get_exposure_factor(\", alpha, \n",
    "                                 \", \", alpha_grid, \", \", integral_grid, \", \", \n",
    "                                 atmo_integ_val, \", \", T, \", \",\n",
    "                                 Ns, \")\"])\n",
    "        Nex << StringExpression([\"get_Nex(\", F, \", \", eps, \")\"])\n",
    "        w_exposure << StringExpression([\"get_exposure_weights(\", F, \", \", \n",
    "                                                  eps, \")\"])\n",
    "        N << StringExpression([\"poisson_rng(\", Nex, \")\"])\n",
    "        StringExpression([\"print(\", w_exposure, \")\"])\n",
    "        StringExpression([\"print(\", Ngrid, \")\"])\n",
    "        StringExpression([\"print(\", Nex, \")\"])\n",
    "        StringExpression([\"print(\", N, \")\"])\n",
    "        \n",
    "    with GeneratedQuantitiesContext() as gqc:\n",
    "        ntd_rng = NorthernTracksDetectorModel(mode=DistributionMode.RNG)\n",
    "        ntd_pdf = NorthernTracksDetectorModel(mode=DistributionMode.PDF) \n",
    "        \n",
    "        N_str = [\"[\", N, \"]\"]\n",
    "        lam = ForwardArrayDef(\"Lambda\", \"int\", N_str)\n",
    "        omega = ForwardVariableDef(\"omega\", \"unit_vector[3]\")\n",
    "        \n",
    "        Esrc = ForwardVariableDef(\"Esrc\", \"vector[N]\")\n",
    "        E = ForwardVariableDef(\"E\", \"vector[N]\")\n",
    "        Edet = ForwardVariableDef(\"Edet\", \"vector[N]\")\n",
    "        \n",
    "        atmo_index = ForwardVariableDef(\"atmo_index\", \"int\")\n",
    "        cosz = ForwardArrayDef(\"cosz\", \"real\", N_str)\n",
    "        Pdet = ForwardArrayDef(\"Pdet\", \"real\", N_str)\n",
    "        accept = ForwardVariableDef(\"accept\", \"int\")\n",
    "        detected = ForwardVariableDef(\"detected\", \"int\")\n",
    "        ntrials = ForwardVariableDef(\"ntrials\", \"int\")\n",
    "        prob = ForwardVariableDef(\"prob\", \"simplex[2]\")\n",
    "        \n",
    "        event = ForwardArrayDef(\"event\", \"unit_vector[3]\", N_str)\n",
    "        Nex_sim = ForwardVariableDef(\"Nex_sim\", \"real\")\n",
    "        \n",
    "        Nex_sim << Nex\n",
    "\n",
    "        with ForLoopContext(1, N, \"i\") as i:\n",
    "            \n",
    "            lam[i] << FunctionCall([w_exposure], \"categorical_rng\")\n",
    "            \n",
    "            accept << 0\n",
    "            detected << 0\n",
    "            ntrials << 0\n",
    "            \n",
    "            with WhileLoopContext([StringExpression([accept != 1])]):\n",
    "\n",
    "                # Sample position\n",
    "                with IfBlockContext([StringExpression([lam[i], \" <= \", Ns])]):\n",
    "                    omega << varpi[lam[i]]\n",
    "                with ElseIfBlockContext([StringExpression([lam[i], \" == \", Ns+1])]):\n",
    "                    omega << FunctionCall([1, v_lim], \"sphere_lim_rng\")             \n",
    "                with ElseIfBlockContext([StringExpression([lam[i], \" == \", Ns+2])]):\n",
    "                    atmo_index << FunctionCall([atmo_weights], \"categorical_rng\")\n",
    "                    omega << atmo_directions[atmo_index]\n",
    "                \n",
    "                cosz[i] << FunctionCall([FunctionCall([omega], \"omega_to_zenith\")], \n",
    "                                        \"cos\") \n",
    "                # Sample energy\n",
    "                with IfBlockContext([StringExpression([lam[i], \" <= \" , Ns+1])]):\n",
    "                    Esrc[i] << spectrum_rng(alpha, Edet_min*(1 + z[lam[i]]), Esrc_max)\n",
    "                    E[i] << Esrc[i] / (1 + z[lam[i]])\n",
    "                with ElseIfBlockContext([StringExpression([lam[i], \" > \", Ns + 1])]):\n",
    "                    E[i] << atmo_energies[atmo_index]\n",
    "                \n",
    "                # Test against Aeff\n",
    "                with IfBlockContext([StringExpression([cosz[i], \">= 0.1\"])]):\n",
    "                    Pdet[i] << 0\n",
    "                with ElseBlockContext():\n",
    "                    Pdet[i] << ntd_pdf.effective_area(E[i], omega) / aeff_max\n",
    "                \n",
    "                Edet[i] << 10**ntd_rng.energy_resolution(E[i])\n",
    "\n",
    "                prob[1] << Pdet[i]\n",
    "                prob[2] << 1 - Pdet[i]\n",
    "                StringExpression([ntrials, \" += \", 1])\n",
    "                \n",
    "                with IfBlockContext([StringExpression([ntrials, \"< 1000000\"])]):\n",
    "                    detected << FunctionCall([prob], \"categorical_rng\")\n",
    "                    with IfBlockContext([StringExpression([\"(\", Edet[i], \" >= \",\n",
    "                                                           Edet_min, \") && (\", \n",
    "                                                           detected == 1, \")\"])]):\n",
    "                        accept << 1        \n",
    "                with ElseBlockContext():\n",
    "                    accept << 1\n",
    "                    StringExpression([\"print(\\\"problem component: \\\", \",\n",
    "                                      lam[i], \");\\n\"])                    \n",
    "                #accept << StringExpression([\"categorical_rng(\", prob, \")\"])\n",
    "            \n",
    "            # Detection effects\n",
    "            event[i] << ntd_rng.angular_resolution(E[i], omega)\n",
    "            \n",
    "    sim = sim_gen.generate_single_file()"
   ]
  },
  {
   "cell_type": "code",
   "execution_count": 62,
   "metadata": {
    "ExecuteTime": {
     "end_time": "2020-09-24T16:23:32.084813Z",
     "start_time": "2020-09-24T16:23:32.052335Z"
    }
   },
   "outputs": [
    {
     "name": "stdout",
     "output_type": "stream",
     "text": [
      "Using cached StanModel\n",
      "Using cached StanModel\n"
     ]
    }
   ],
   "source": [
    "# Compile\n",
    "this_dir = os.path.abspath('')\n",
    "include_paths = [os.path.join(this_dir, \"stan_files/\")]\n",
    "atmo = stan_utility.compile_model(filename=atmo_gen.filename, \n",
    "                                  include_paths=include_paths, \n",
    "                                  model_name=\"atmo\")\n",
    "sim = stan_utility.compile_model(filename=sim_gen.filename, \n",
    "                                 include_paths=include_paths, \n",
    "                                 model_name=\"sim\")"
   ]
  },
  {
   "cell_type": "markdown",
   "metadata": {},
   "source": [
    "## Simulation\n",
    "First run atmo sim to generate a large sample of atmospheric events, then use these as inputs to the main sim."
   ]
  },
  {
   "cell_type": "markdown",
   "metadata": {},
   "source": [
    "#### Atmospheric events"
   ]
  },
  {
   "cell_type": "code",
   "execution_count": 63,
   "metadata": {
    "ExecuteTime": {
     "end_time": "2020-09-24T16:23:33.435507Z",
     "start_time": "2020-09-24T16:23:32.705576Z"
    }
   },
   "outputs": [],
   "source": [
    "atmo_inputs = {}\n",
    "atmo_inputs[\"Edet_min\"] = 1e5 # GeV\n",
    "atmo_inputs[\"Esrc_max\"] = 1e8 # GeV\n",
    "atmo_inputs[\"cosz_min\"] = min(exposure_integral.effective_area._cosz_bin_edges)\n",
    "atmo_inputs[\"cosz_max\"] = max(exposure_integral.effective_area._cosz_bin_edges)\n",
    "atmo_sim = atmo.sampling(data=atmo_inputs, iter=1000, chains=1, \n",
    "                         algorithm=\"NUTS\")"
   ]
  },
  {
   "cell_type": "code",
   "execution_count": 64,
   "metadata": {
    "ExecuteTime": {
     "end_time": "2020-09-24T16:23:33.462433Z",
     "start_time": "2020-09-24T16:23:33.437867Z"
    }
   },
   "outputs": [],
   "source": [
    "atmo_energies = atmo_sim.extract([\"energy\"])[\"energy\"]\n",
    "atmo_directions = atmo_sim.extract([\"omega\"])[\"omega\"]"
   ]
  },
  {
   "cell_type": "code",
   "execution_count": 65,
   "metadata": {
    "ExecuteTime": {
     "end_time": "2020-09-24T16:23:34.043241Z",
     "start_time": "2020-09-24T16:23:33.464676Z"
    }
   },
   "outputs": [
    {
     "data": {
      "image/png": "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\n",
      "text/plain": [
       "<Figure size 720x288 with 2 Axes>"
      ]
     },
     "metadata": {
      "needs_background": "light"
     },
     "output_type": "display_data"
    }
   ],
   "source": [
    "# Check outputs\n",
    "fig, ax = plt.subplots(1, 2, figsize=(10, 4))\n",
    "ax[0].hist(np.log10(atmo_energies), alpha=0.5)\n",
    "ax[0].set_yscale(\"log\")\n",
    "ax[1].hist(np.cos(np.pi - np.arccos(atmo_directions.T[2])));"
   ]
  },
  {
   "cell_type": "markdown",
   "metadata": {},
   "source": [
    "#### Full simulation"
   ]
  },
  {
   "cell_type": "code",
   "execution_count": 66,
   "metadata": {
    "ExecuteTime": {
     "end_time": "2020-09-24T16:23:34.072253Z",
     "start_time": "2020-09-24T16:23:34.046817Z"
    }
   },
   "outputs": [],
   "source": [
    "from python.source.cosmology import luminosity_distance\n",
    "from python.source.simple_source import icrs_to_uv, Direction"
   ]
  },
  {
   "cell_type": "code",
   "execution_count": 67,
   "metadata": {
    "ExecuteTime": {
     "end_time": "2020-09-24T16:23:34.104907Z",
     "start_time": "2020-09-24T16:23:34.073587Z"
    }
   },
   "outputs": [],
   "source": [
    "# Preparing some useful inputs\n",
    "redshift = [source_list.sources[i].redshift for i in range(source_list.N-1)]\n",
    "lum_dist = [luminosity_distance(_).value for _ in redshift]\n",
    "varpi_in = np.asarray([icrs_to_uv(source_list.sources[i].dec.value,\n",
    "                                   source_list.sources[i].ra.value) for i in \n",
    "                       range(source_list.N-2)])"
   ]
  },
  {
   "cell_type": "code",
   "execution_count": 68,
   "metadata": {
    "ExecuteTime": {
     "end_time": "2020-09-24T16:23:34.136960Z",
     "start_time": "2020-09-24T16:23:34.107591Z"
    }
   },
   "outputs": [],
   "source": [
    "# Inputs \n",
    "sim_inputs = {}\n",
    "sim_inputs['Ns'] = source_list.N-2\n",
    "\n",
    "sim_inputs['z'] = redshift\n",
    "sim_inputs['D'] = lum_dist[:-1]\n",
    "sim_inputs['varpi'] = varpi_in\n",
    "\n",
    "sim_inputs['Ngrid'] = len(exposure_integral.par_grids[\"index\"])\n",
    "sim_inputs['alpha_grid'] = exposure_integral.par_grids[\"index\"]\n",
    "sim_inputs['integral_grid'] = [_.value for _ in exposure_integral.integral_grid]\n",
    "sim_inputs[\"atmo_integ_val\"] = exposure_integral.integral_fixed_vals[0].value\n",
    "sim_inputs[\"T\"] =  (8 * u.year).to(u.s) \n",
    "\n",
    "sim_inputs[\"N_atmo\"] = len(atmo_energies)\n",
    "sim_inputs[\"atmo_energies\"] = atmo_energies\n",
    "sim_inputs[\"atmo_directions\"] = atmo_directions\n",
    "sim_inputs[\"atmo_weights\"] = np.tile(1.0/len(atmo_energies), len(atmo_energies))\n",
    "sim_inputs['alpha'] = index.value\n",
    "sim_inputs['Edet_min'] = 1e5 # GeV\n",
    "sim_inputs[\"Esrc_min\"] = 1e5 # GeV\n",
    "sim_inputs[\"Esrc_max\"] = 1e8 # GeV\n",
    "\n",
    "# Set maximum based on Esrc_max to speed up rejection sampling\n",
    "# Could improve this with HMC sampling?\n",
    "lbe = exposure_integral.effective_area._tE_bin_edges[:-1]\n",
    "Esrc_max = sim_inputs[\"Esrc_max\"]\n",
    "aeff_max = np.max(exposure_integral.effective_area._eff_area[lbe < Esrc_max][:])\n",
    "sim_inputs['aeff_max'] = aeff_max"
   ]
  },
  {
   "cell_type": "code",
   "execution_count": 69,
   "metadata": {
    "ExecuteTime": {
     "end_time": "2020-09-24T16:23:34.267163Z",
     "start_time": "2020-09-24T16:23:34.138716Z"
    }
   },
   "outputs": [],
   "source": [
    "# Only sample from Northern hemisphere\n",
    "sim_inputs[\"v_lim\"] = (np.cos(np.pi - np.arccos(atmo_inputs[\"cosz_max\"])) + 1) / 2\n",
    "\n",
    "sim_inputs[\"F_diff\"] = diffuse_bg.flux_model.total_flux_int.value # m^-2 yr^-1\n",
    "sim_inputs[\"F_atmo\"] = atmo_bg.flux_model.total_flux_int.value \n",
    "sim_inputs['L'] = source_list.sources[0].luminosity.to(u.GeV/u.s).value"
   ]
  },
  {
   "cell_type": "code",
   "execution_count": 70,
   "metadata": {
    "ExecuteTime": {
     "end_time": "2020-09-24T16:23:55.088482Z",
     "start_time": "2020-09-24T16:23:34.268415Z"
    }
   },
   "outputs": [],
   "source": [
    "# Simulate\n",
    "simulation = sim.sampling(data=sim_inputs, iter=1, chains=1, \n",
    "                         algorithm=\"Fixed_param\")"
   ]
  },
  {
   "cell_type": "markdown",
   "metadata": {},
   "source": [
    "#### Plot output"
   ]
  },
  {
   "cell_type": "code",
   "execution_count": 71,
   "metadata": {
    "ExecuteTime": {
     "end_time": "2020-09-24T16:23:55.144672Z",
     "start_time": "2020-09-24T16:23:55.091253Z"
    }
   },
   "outputs": [],
   "source": [
    "# Energies\n",
    "Esrc = simulation.extract(['Esrc'])['Esrc'][0]\n",
    "E = simulation.extract(['E'])['E'][0]\n",
    "Edet_sim = simulation.extract(['Edet'])['Edet'][0]\n",
    "\n",
    "# Arrival directions\n",
    "event = simulation.extract(['event'])['event'][0]\n",
    "event = Direction(event)\n",
    "e_ra = event.d.icrs.ra.rad\n",
    "e_dec = event.d.icrs.dec.rad\n",
    "\n",
    "true_dir = simulation.extract(['omega'])['omega'][0]\n",
    "true_dir = Direction(true_dir)\n",
    "e_t_ra = true_dir.d.icrs.ra.rad\n",
    "e_t_dec = true_dir.d.icrs.dec.rad\n",
    "\n",
    "source = Direction(varpi_in)\n",
    "s_ra = source.d.icrs.ra.rad\n",
    "s_dec = source.d.icrs.dec.rad\n",
    "\n",
    "# event type\n",
    "#event_type = simulation.extract(['event_type'])['event_type'][0]\n",
    "#zenith = simulation.extract(['zenith'])['zenith'][0]"
   ]
  },
  {
   "cell_type": "code",
   "execution_count": 72,
   "metadata": {
    "ExecuteTime": {
     "end_time": "2020-09-24T16:23:55.174542Z",
     "start_time": "2020-09-24T16:23:55.146728Z"
    }
   },
   "outputs": [
    {
     "name": "stdout",
     "output_type": "stream",
     "text": [
      "Nsrc:  28\n",
      "Nbg:  2\n",
      "w_bg:  0.06666666666666667\n"
     ]
    }
   ],
   "source": [
    "lam = simulation.extract(['Lambda'])['Lambda'][0] - 1\n",
    "Nc = sim_inputs['Ns']\n",
    "label_cmap = plt.cm.get_cmap('plasma', Nc+2)\n",
    "\n",
    "lam = list(lam)\n",
    "Nsrc = sum([lam.count(_) for _ in range(int(Nc))])\n",
    "Nbg = lam.count(Nc) + lam.count(Nc+1)\n",
    "print('Nsrc: ', Nsrc)\n",
    "print('Nbg: ', Nbg)\n",
    "print('w_bg: ', Nbg / (Nbg+Nsrc))"
   ]
  },
  {
   "cell_type": "code",
   "execution_count": 73,
   "metadata": {
    "ExecuteTime": {
     "end_time": "2020-09-24T16:23:55.201719Z",
     "start_time": "2020-09-24T16:23:55.176054Z"
    }
   },
   "outputs": [],
   "source": [
    "import matplotlib.patches as mpatches\n",
    "from matplotlib.collections import PatchCollection\n",
    "from matplotlib.colors import LinearSegmentedColormap"
   ]
  },
  {
   "cell_type": "code",
   "execution_count": 74,
   "metadata": {
    "ExecuteTime": {
     "end_time": "2020-09-24T16:23:55.596180Z",
     "start_time": "2020-09-24T16:23:55.203479Z"
    }
   },
   "outputs": [
    {
     "data": {
      "text/plain": [
       "<matplotlib.lines.Line2D at 0x1400e9100>"
      ]
     },
     "execution_count": 74,
     "metadata": {},
     "output_type": "execute_result"
    },
    {
     "data": {
      "image/png": "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\n",
      "text/plain": [
       "<Figure size 720x576 with 1 Axes>"
      ]
     },
     "metadata": {
      "needs_background": "light"
     },
     "output_type": "display_data"
    }
   ],
   "source": [
    "fig = plt.figure()\n",
    "fig.set_size_inches((10, 8))\n",
    "ax = fig.add_subplot(111, projection='hammer')\n",
    "\n",
    "circles = []\n",
    "for r, d, l in zip(e_ra, e_dec, lam):\n",
    "    color = label_cmap.colors[int(l)]\n",
    "    circles.append(mpatches.Circle((r-np.pi,d), 0.05, color=color, alpha=0.7))\n",
    "collection = PatchCollection(circles, match_original=True)    \n",
    "ax.add_collection(collection)   \n",
    "\n",
    "circles = []\n",
    "norm = max([1 - _/zth for _ in redshift])\n",
    "for r, d, z in zip(s_ra, s_dec, redshift):\n",
    "    circles.append(mpatches.Circle((r-np.pi,d), 0.05, color='k', alpha=(1-z/zth)/norm))\n",
    "collection = PatchCollection(circles, match_original=True)\n",
    "ax.add_collection(collection)\n",
    "ax.axhline(np.deg2rad(-5), color='k', linestyle=\":\")"
   ]
  },
  {
   "cell_type": "code",
   "execution_count": 75,
   "metadata": {
    "ExecuteTime": {
     "end_time": "2020-09-24T16:23:56.464203Z",
     "start_time": "2020-09-24T16:23:55.599588Z"
    }
   },
   "outputs": [
    {
     "data": {
      "image/png": "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\n",
      "text/plain": [
       "<Figure size 432x288 with 1 Axes>"
      ]
     },
     "metadata": {
      "needs_background": "light"
     },
     "output_type": "display_data"
    }
   ],
   "source": [
    "# Plot energies\n",
    "Edet_min = sim_inputs['Edet_min']\n",
    "bins = np.logspace(np.log(Edet_min/1000), np.log(1E+4*Edet_min), base = np.e)\n",
    "\n",
    "fig, ax = plt.subplots()\n",
    "ax.hist(E, bins=bins, label='$\\\\tilde{E}$', alpha=0.7);\n",
    "ax.hist(Edet_sim, bins=bins, label='$\\hat{E}$', alpha=0.7);\n",
    "ax.axvline(sim_inputs[\"Edet_min\"], color='k')\n",
    "ax.set_xscale('log')\n",
    "ax.set_yscale('log')\n",
    "ax.set_xlabel('$E$ / GeV')\n",
    "ax.legend();"
   ]
  },
  {
   "cell_type": "markdown",
   "metadata": {},
   "source": [
    "## Generate Stan code for fit (under testing)"
   ]
  },
  {
   "cell_type": "code",
   "execution_count": 76,
   "metadata": {
    "ExecuteTime": {
     "end_time": "2020-09-24T16:23:56.489669Z",
     "start_time": "2020-09-24T16:23:56.467918Z"
    }
   },
   "outputs": [],
   "source": [
    "from python.backend.stan_generator import ParametersContext, TransformedParametersContext, ModelContext\n",
    "from python.backend.variable_definitions import ParameterDef, ParameterVectorDef"
   ]
  },
  {
   "cell_type": "code",
   "execution_count": 77,
   "metadata": {
    "ExecuteTime": {
     "end_time": "2020-09-24T16:23:56.633008Z",
     "start_time": "2020-09-24T16:23:56.492112Z"
    }
   },
   "outputs": [
    {
     "name": "stderr",
     "output_type": "stream",
     "text": [
      "INFO:python.backend.code_generator:Object of type <python.backend.stan_generator.FunctionsContext object at 0x13f479e80> already on stack\n",
      "INFO:python.backend.code_generator:Object of type <python.backend.stan_generator.FunctionsContext object at 0x13f479b80> already on stack\n",
      "INFO:python.backend.code_generator:Object of type <python.backend.stan_generator.FunctionsContext object at 0x13f31b160> already on stack\n",
      "INFO:python.backend.code_generator:Object of type <python.backend.stan_generator.DefinitionContext object at 0x13f479a90> already on stack\n",
      "INFO:python.backend.code_generator:Object of type <python.backend.stan_generator.DefinitionContext object at 0x13f479b50> already on stack\n",
      "INFO:python.backend.code_generator:Object of type <python.backend.stan_generator.DefinitionContext object at 0x13f479a60> already on stack\n",
      "INFO:python.backend.code_generator:Object of type <python.backend.stan_generator.DefinitionContext object at 0x13f479e20> already on stack\n",
      "INFO:python.backend.code_generator:Object of type <python.backend.stan_generator.FunctionsContext object at 0x13f31b4c0> already on stack\n",
      "INFO:python.backend.code_generator:Object of type <python.backend.stan_generator.FunctionsContext object at 0x13f479df0> already on stack\n",
      "INFO:python.backend.code_generator:Object of type <python.backend.stan_generator.DefinitionContext object at 0x13f31b700> already on stack\n",
      "INFO:python.backend.code_generator:Object of type <python.backend.stan_generator.DefinitionContext object at 0x13f31b1f0> already on stack\n",
      "INFO:python.backend.code_generator:Object of type <python.backend.stan_generator.FunctionsContext object at 0x13f534b20> already on stack\n",
      "INFO:python.backend.code_generator:Object of type <python.backend.stan_generator.DefinitionContext object at 0x13f31b9d0> already on stack\n",
      "INFO:python.backend.code_generator:Object of type <python.backend.stan_generator.FunctionsContext object at 0x13f4a0e50> already on stack\n",
      "INFO:python.backend.code_generator:Object of type <python.backend.stan_generator.DefinitionContext object at 0x13f4a05b0> already on stack\n",
      "INFO:python.backend.code_generator:Object of type <python.backend.stan_generator.FunctionsContext object at 0x13f3cfac0> already on stack\n",
      "INFO:python.backend.code_generator:Object of type <python.backend.stan_generator.DefinitionContext object at 0x13f3cf0a0> already on stack\n",
      "INFO:python.backend.code_generator:Object of type <python.backend.stan_generator.DefinitionContext object at 0x13f3cf8e0> already on stack\n",
      "INFO:python.backend.code_generator:Object of type <python.backend.stan_generator.DefinitionContext object at 0x13f3cffa0> already on stack\n",
      "INFO:python.backend.code_generator:Object of type <python.backend.stan_generator.DefinitionContext object at 0x13f3cf340> already on stack\n",
      "INFO:python.backend.code_generator:Object of type <python.backend.stan_generator.DefinitionContext object at 0x13f3b2d30> already on stack\n",
      "INFO:python.backend.code_generator:Object of type <python.backend.stan_generator.DefinitionContext object at 0x13f3cf910> already on stack\n",
      "INFO:python.backend.code_generator:Object of type <python.backend.stan_generator.DefinitionContext object at 0x13f3b2b80> already on stack\n",
      "INFO:python.backend.code_generator:Object of type <python.backend.stan_generator.DefinitionContext object at 0x13f3b2040> already on stack\n",
      "INFO:python.backend.code_generator:Object of type <python.backend.stan_generator.DefinitionContext object at 0x13f3b2be0> already on stack\n",
      "INFO:python.backend.code_generator:Object of type <python.backend.stan_generator.DefinitionContext object at 0x13f3b28b0> already on stack\n",
      "INFO:python.backend.code_generator:Object of type <python.backend.stan_generator.DefinitionContext object at 0x13f3b2430> already on stack\n",
      "INFO:python.backend.code_generator:Object of type <python.backend.stan_generator.DefinitionContext object at 0x13f3b2a30> already on stack\n",
      "INFO:python.backend.code_generator:Object of type <python.backend.stan_generator.DefinitionContext object at 0x13f3b2490> already on stack\n",
      "INFO:python.backend.code_generator:Object of type <python.backend.stan_generator.DefinitionContext object at 0x13f3b2a60> already on stack\n",
      "INFO:python.backend.code_generator:Object of type <python.backend.stan_generator.DefinitionContext object at 0x13f3b29a0> already on stack\n",
      "INFO:python.backend.code_generator:Object of type <python.backend.stan_generator.DefinitionContext object at 0x13f3b25e0> already on stack\n",
      "INFO:python.backend.code_generator:Object of type <python.backend.stan_generator.DefinitionContext object at 0x13f3b2400> already on stack\n",
      "INFO:python.backend.code_generator:Object of type <python.backend.stan_generator.DefinitionContext object at 0x13f3b2ca0> already on stack\n",
      "INFO:python.backend.code_generator:Object of type <python.backend.stan_generator.DefinitionContext object at 0x13f3b2610> already on stack\n",
      "INFO:python.backend.code_generator:Object of type <python.backend.stan_generator.DefinitionContext object at 0x13f3b2790> already on stack\n",
      "INFO:python.backend.code_generator:Object of type <python.backend.stan_generator.DefinitionContext object at 0x13f3b24f0> already on stack\n",
      "INFO:python.backend.code_generator:Object of type <python.backend.stan_generator.DefinitionContext object at 0x13f3b2340> already on stack\n",
      "INFO:python.backend.code_generator:Object of type <python.backend.stan_generator.DefinitionContext object at 0x13f3cadc0> already on stack\n",
      "INFO:python.backend.code_generator:Object of type <python.backend.stan_generator.DefinitionContext object at 0x13f3ca7c0> already on stack\n",
      "INFO:python.backend.code_generator:Object of type <python.backend.stan_generator.DefinitionContext object at 0x13f3ca070> already on stack\n",
      "INFO:python.backend.code_generator:Object of type <python.backend.stan_generator.DefinitionContext object at 0x13f3ca6a0> already on stack\n",
      "INFO:python.backend.code_generator:Object of type <python.backend.stan_generator.DefinitionContext object at 0x13f3ca040> already on stack\n",
      "INFO:python.backend.code_generator:Object of type <python.backend.stan_generator.DefinitionContext object at 0x13f3ca310> already on stack\n",
      "INFO:python.backend.code_generator:Object of type <python.backend.stan_generator.DefinitionContext object at 0x13f3ca340> already on stack\n",
      "INFO:python.backend.code_generator:Object of type <python.backend.stan_generator.DefinitionContext object at 0x13f3caa60> already on stack\n",
      "INFO:python.backend.code_generator:Object of type <python.backend.stan_generator.DefinitionContext object at 0x13f3ca220> already on stack\n",
      "INFO:python.backend.code_generator:Object of type <python.backend.stan_generator.DefinitionContext object at 0x13f3ca6d0> already on stack\n",
      "INFO:python.backend.code_generator:Object of type <python.backend.stan_generator.DefinitionContext object at 0x13f3ca850> already on stack\n",
      "INFO:python.backend.code_generator:Object of type <python.backend.stan_generator.DefinitionContext object at 0x13f3ca910> already on stack\n"
     ]
    }
   ],
   "source": [
    "with StanFileGenerator(\"stan_files/model_code\") as fit_gen:\n",
    "\n",
    "    with FunctionsContext() as fc:\n",
    "        _ = Include(\"utils.stan\")\n",
    "        _ = Include(\"vMF.stan\")\n",
    "        _ = Include(\"interpolation.stan\")\n",
    "        _ = Include(\"sim_functions.stan\")\n",
    "        ntd = NorthernTracksDetectorModel()\n",
    "        \n",
    "        flux_fac = source_list[0].flux_model.spectral_shape.make_stan_flux_conv_func(\"flux_conv\")\n",
    "        spectrum_lpdf = source_list[0].flux_model.spectral_shape.make_stan_lpdf_func(\"spectrum_logpdf\")\n",
    "        \n",
    "        atmu_nu_flux = atmo_bg_flux.make_stan_function(theta_points=30)\n",
    "        \n",
    "    with DataContext() as dc:\n",
    "        \n",
    "        # Neutrinos\n",
    "        N = ForwardVariableDef(\"N\", \"int\")\n",
    "        N_str = [\"[\", N, \"]\"]\n",
    "        omega_det = ForwardArrayDef(\"omega_det\", \"unit_vector[3]\", N_str)\n",
    "        Edet = ForwardVariableDef(\"Edet\", \"vector[N]\")\n",
    "        Esrc_min = ForwardVariableDef(\"Esrc_min\", \"real\")\n",
    "        Esrc_max = ForwardVariableDef(\"Esrc_max\", \"real\")\n",
    "        \n",
    "        # Sources\n",
    "        Ns = ForwardVariableDef(\"Ns\", \"int\")\n",
    "        Ns_str = [\"[\", Ns, \"]\"]\n",
    "        Ns_1p_str = [\"[\", Ns, \"+1]\"]\n",
    "        Ns_2p_str = [\"[\", Ns, \"+2]\"]\n",
    "        \n",
    "        varpi = ForwardArrayDef(\"varpi\", \"unit_vector[3]\", Ns_str)\n",
    "        D = ForwardVariableDef(\"D\", \"vector[Ns]\")\n",
    "        z = ForwardVariableDef(\"z\", \"vector[Ns+1]\")\n",
    "\n",
    "        # Precomputed quantities\n",
    "        Ngrid = ForwardVariableDef(\"Ngrid\", \"int\")\n",
    "        alpha_grid = ForwardVariableDef(\"alpha_grid\", \"vector[Ngrid]\")\n",
    "        integral_grid = ForwardArrayDef(\"integral_grid\", \n",
    "                                        \"vector[Ngrid]\", Ns_1p_str)\n",
    "        atmo_integ_val = ForwardVariableDef(\"atmo_integ_val\", \"real\")\n",
    "        Eg = ForwardVariableDef(\"E_grid\", \"vector[Ngrid]\")\n",
    "        Pg = ForwardArrayDef(\"Pdet_grid\", \"vector[Ngrid]\", Ns_2p_str)\n",
    "        \n",
    "        # Inputs\n",
    "        T = ForwardVariableDef(\"T\", \"real\")\n",
    "        \n",
    "        # Debugging\n",
    "        L_scale = ForwardVariableDef(\"L_scale\", \"real\")\n",
    "        F_diff_scale = ForwardVariableDef(\"F_diff_scale\", \"real\")\n",
    "        F_atmo_scale = ForwardVariableDef(\"F_atmo_scale\", \"real\")\n",
    "        \n",
    "    with TransformedDataContext() as tdc:\n",
    "        \n",
    "        # Just to use it\n",
    "        StringExpression([\"print(\", Ngrid, \")\"])\n",
    "        StringExpression([\"print(\", Eg, \")\"])  \n",
    "        StringExpression([\"print(\", Pg, \")\"])  \n",
    "            \n",
    "    with ParametersContext() as pc:\n",
    "        \n",
    "        L = ParameterDef(\"L\", \"real\", 0.0, 1e55)\n",
    "        F_diff = ParameterDef(\"F_diff\", \"real\", 0.0, 1e-7)\n",
    "        F_atmo = ParameterDef(\"F_atmo\", \"real\", 0.0, 1e-7)\n",
    "        \n",
    "        alpha = ParameterDef(\"alpha\", \"real\", 1.0, 4.0)\n",
    "        \n",
    "        Esrc = ParameterVectorDef(\"Esrc\", \"vector\", N_str, Esrc_min, Esrc_max)\n",
    "        \n",
    "    with TransformedParametersContext() as tpc:\n",
    "        \n",
    "        Fsrc = ForwardVariableDef(\"Fsrc\", \"real\")\n",
    "        F = ForwardVariableDef(\"F\", \"vector[Ns+2]\")\n",
    "        eps = ForwardVariableDef(\"eps\", \"vector[Ns+2]\")\n",
    "        \n",
    "        f = ParameterDef(\"f\", \"real\", 0, 1)\n",
    "        Ftot = ParameterDef(\"Ftot\", \"real\", 0)\n",
    "        \n",
    "        lp = ForwardArrayDef(\"lp\", \"vector[Ns+2]\", N_str)\n",
    "        logF = ForwardVariableDef(\"logF\", \"vector[Ns+2]\")\n",
    "        Nex = ForwardVariableDef(\"Nex\", \"real\")\n",
    "        E = ForwardVariableDef(\"E\", \"vector[N]\")       \n",
    "        \n",
    "        Fsrc << 0.0\n",
    "        with ForLoopContext(1, Ns, \"k\") as k:\n",
    "            F[k] << StringExpression([L, \"/ (4 * pi() * pow(\", \n",
    "                                      D[k], \" * \", 3.086e22, \", 2))\"])\n",
    "            StringExpression([F[k], \"*=\",  flux_fac(alpha, Esrc_min, Esrc_max)])\n",
    "            StringExpression([Fsrc, \"+=\", F[k]])   \n",
    "            \n",
    "        StringExpression(\"F[Ns+1]\") << F_diff\n",
    "        StringExpression(\"F[Ns+2]\") << F_atmo\n",
    "        \n",
    "        Ftot << F_diff + F_atmo + Fsrc\n",
    "        \n",
    "        f << StringExpression([Fsrc, \" / \", Ftot]) \n",
    "        \n",
    "        logF << StringExpression([\"log(\", F, \")\"])\n",
    "        \n",
    "        with ForLoopContext(1, N, \"i\") as i:\n",
    "            lp[i] << logF \n",
    "\n",
    "            with ForLoopContext(1, \"Ns+2\", \"k\") as k:\n",
    "                \n",
    "                # Point source components\n",
    "                with IfBlockContext([StringExpression([k, \" < \", Ns+1])]):\n",
    "                    StringExpression([lp[i][k], \" += \", \n",
    "                                      spectrum_lpdf(Esrc[i], alpha, \n",
    "                                                    Esrc_min, Esrc_max)])\n",
    "                    E[i] << StringExpression([Esrc[i], \" / (\",  1+z[k], \")\"])\n",
    "                    StringExpression([lp[i][k], \" += \", \n",
    "                                      ntd.angular_resolution(E[i], varpi[k],\n",
    "                                                             omega_det[i])])\n",
    "                \n",
    "                # Diffuse component\n",
    "                with ElseIfBlockContext([StringExpression([k, \" == \", Ns+1])]):\n",
    "                    StringExpression([lp[i][k], \" += \", \n",
    "                                      spectrum_lpdf(Esrc[i], alpha, \n",
    "                                                    Esrc_min, Esrc_max)])\n",
    "                    E[i] << StringExpression([Esrc[i], \" / (\",  1+z[k], \")\"])\n",
    "                    StringExpression([lp[i][k], \" += \", np.log(1/(4*np.pi))])\n",
    "                \n",
    "                # Atmospheric component\n",
    "                with ElseIfBlockContext([StringExpression([k, \" == \", Ns+2])]):\n",
    "                    StringExpression([lp[i][k], \" += \", \n",
    "                                      FunctionCall([atmu_nu_flux(Esrc[i], \n",
    "                                                                 omega_det[i])], \n",
    "                                                   \"log\")])\n",
    "                    E[i] << Esrc[i]\n",
    "                \n",
    "                # Detection effects\n",
    "                StringExpression([lp[i][k], \" += \", \n",
    "                                  ntd.energy_resolution(E[i], Edet[i])])\n",
    "                StringExpression([lp[i][k], \" += log(interpolate(\", \n",
    "                                  Eg, \", \", Pg[k], \", \", E[i], \"))\"])\n",
    "        \n",
    "        eps << FunctionCall([alpha, alpha_grid, integral_grid, \n",
    "                             atmo_integ_val, T, Ns], \"get_exposure_factor\")\n",
    "        Nex << FunctionCall([F, eps], \"get_Nex\")\n",
    "        \n",
    "    with ModelContext() as mc:\n",
    "        \n",
    "        with ForLoopContext(1, N, \"i\") as i:\n",
    "            StringExpression([\"target += log_sum_exp(\", lp[i], \")\"])\n",
    "        StringExpression([\"target += -\", Nex])\n",
    "        \n",
    "        StringExpression([L, \" ~ normal(0, \", L_scale, \")\"])\n",
    "        StringExpression([F_diff, \" ~ normal(0, \", F_diff_scale, \")\"])\n",
    "        StringExpression([F_atmo, \" ~ normal(0, \", F_atmo_scale, \")\"])\n",
    "        StringExpression([alpha, \" ~ normal(2.0, 2.0)\"])\n",
    "        \n",
    "    model = fit_gen.generate_single_file()"
   ]
  },
  {
   "cell_type": "code",
   "execution_count": 86,
   "metadata": {
    "ExecuteTime": {
     "end_time": "2020-09-24T16:26:09.849552Z",
     "start_time": "2020-09-24T16:26:09.813020Z"
    }
   },
   "outputs": [
    {
     "name": "stdout",
     "output_type": "stream",
     "text": [
      "Using cached StanModel\n"
     ]
    }
   ],
   "source": [
    "# Compile\n",
    "this_dir = os.path.abspath('')\n",
    "include_paths = [os.path.join(this_dir, \"stan_files/\")]\n",
    "model = stan_utility.compile_model(filename=fit_gen.filename,\n",
    "                                   include_paths=include_paths, \n",
    "                                   model_name=\"fit\")"
   ]
  },
  {
   "cell_type": "code",
   "execution_count": 93,
   "metadata": {
    "ExecuteTime": {
     "end_time": "2020-09-24T16:27:52.483827Z",
     "start_time": "2020-09-24T16:27:52.448289Z"
    }
   },
   "outputs": [],
   "source": [
    "inputs = {}\n",
    "inputs[\"N\"] = len(Edet_sim)\n",
    "inputs[\"omega_det\"] = event.unit_vector\n",
    "inputs[\"Edet\"] = Edet_sim\n",
    "inputs[\"Ns\"] = source_list.N - 2\n",
    "\n",
    "inputs[\"z\"] = redshift\n",
    "inputs[\"D\"] = lum_dist[:-1]\n",
    "inputs[\"varpi\"] = varpi_in\n",
    "\n",
    "inputs[\"Edet_min\"] = sim_inputs[\"Edet_min\"]\n",
    "inputs[\"Esrc_min\"] = sim_inputs[\"Esrc_min\"]\n",
    "inputs[\"Esrc_max\"] = sim_inputs[\"Esrc_max\"]\n",
    "\n",
    "inputs[\"Ngrid\"] = sim_inputs[\"Ngrid\"]\n",
    "inputs[\"alpha_grid\"] = sim_inputs[\"alpha_grid\"]\n",
    "inputs[\"integral_grid\"] = sim_inputs[\"integral_grid\"]\n",
    "inputs[\"atmo_integ_val\"] = sim_inputs[\"atmo_integ_val\"]\n",
    "inputs[\"E_grid\"] = exposure_integral.energy_grid.value\n",
    "inputs[\"Pdet_grid\"] = exposure_integral.pdet_grid\n",
    "inputs[\"L_scale\"] = sim_inputs[\"L\"]\n",
    "inputs[\"F_diff_scale\"] = sim_inputs[\"F_diff\"]\n",
    "inputs[\"F_atmo_scale\"] = sim_inputs[\"F_atmo\"]\n",
    "inputs[\"T\"] = sim_inputs[\"T\"]"
   ]
  },
  {
   "cell_type": "code",
   "execution_count": 94,
   "metadata": {
    "ExecuteTime": {
     "end_time": "2020-09-24T16:27:54.591408Z",
     "start_time": "2020-09-24T16:27:53.111835Z"
    }
   },
   "outputs": [
    {
     "ename": "RuntimeError",
     "evalue": "Initialization failed.",
     "output_type": "error",
     "traceback": [
      "\u001b[0;31m---------------------------------------------------------------------------\u001b[0m",
      "\u001b[0;31mRuntimeError\u001b[0m                              Traceback (most recent call last)",
      "\u001b[0;32m<ipython-input-94-1cdf2b07da67>\u001b[0m in \u001b[0;36m<module>\u001b[0;34m\u001b[0m\n\u001b[1;32m      1\u001b[0m \u001b[0;31m# fit\u001b[0m\u001b[0;34m\u001b[0m\u001b[0;34m\u001b[0m\u001b[0;34m\u001b[0m\u001b[0m\n\u001b[0;32m----> 2\u001b[0;31m \u001b[0mfit\u001b[0m \u001b[0;34m=\u001b[0m \u001b[0mmodel\u001b[0m\u001b[0;34m.\u001b[0m\u001b[0msampling\u001b[0m\u001b[0;34m(\u001b[0m\u001b[0mdata\u001b[0m\u001b[0;34m=\u001b[0m\u001b[0minputs\u001b[0m\u001b[0;34m,\u001b[0m \u001b[0miter\u001b[0m\u001b[0;34m=\u001b[0m\u001b[0;36m500\u001b[0m\u001b[0;34m,\u001b[0m \u001b[0mchains\u001b[0m\u001b[0;34m=\u001b[0m\u001b[0;36m1\u001b[0m\u001b[0;34m,\u001b[0m \u001b[0malgorithm\u001b[0m\u001b[0;34m=\u001b[0m\u001b[0;34m\"NUTS\"\u001b[0m\u001b[0;34m)\u001b[0m\u001b[0;34m\u001b[0m\u001b[0;34m\u001b[0m\u001b[0m\n\u001b[0m",
      "\u001b[0;32m~/.virtualenvs/bayes/lib/python3.8/site-packages/pystan/model.py\u001b[0m in \u001b[0;36msampling\u001b[0;34m(self, data, pars, chains, iter, warmup, thin, seed, init, sample_file, diagnostic_file, verbose, algorithm, control, n_jobs, **kwargs)\u001b[0m\n\u001b[1;32m    811\u001b[0m         \u001b[0mcall_sampler_args\u001b[0m \u001b[0;34m=\u001b[0m \u001b[0mizip\u001b[0m\u001b[0;34m(\u001b[0m\u001b[0mitertools\u001b[0m\u001b[0;34m.\u001b[0m\u001b[0mrepeat\u001b[0m\u001b[0;34m(\u001b[0m\u001b[0mdata\u001b[0m\u001b[0;34m)\u001b[0m\u001b[0;34m,\u001b[0m \u001b[0margs_list\u001b[0m\u001b[0;34m,\u001b[0m \u001b[0mitertools\u001b[0m\u001b[0;34m.\u001b[0m\u001b[0mrepeat\u001b[0m\u001b[0;34m(\u001b[0m\u001b[0mpars\u001b[0m\u001b[0;34m)\u001b[0m\u001b[0;34m)\u001b[0m\u001b[0;34m\u001b[0m\u001b[0;34m\u001b[0m\u001b[0m\n\u001b[1;32m    812\u001b[0m         \u001b[0mcall_sampler_star\u001b[0m \u001b[0;34m=\u001b[0m \u001b[0mself\u001b[0m\u001b[0;34m.\u001b[0m\u001b[0mmodule\u001b[0m\u001b[0;34m.\u001b[0m\u001b[0m_call_sampler_star\u001b[0m\u001b[0;34m\u001b[0m\u001b[0;34m\u001b[0m\u001b[0m\n\u001b[0;32m--> 813\u001b[0;31m         \u001b[0mret_and_samples\u001b[0m \u001b[0;34m=\u001b[0m \u001b[0m_map_parallel\u001b[0m\u001b[0;34m(\u001b[0m\u001b[0mcall_sampler_star\u001b[0m\u001b[0;34m,\u001b[0m \u001b[0mcall_sampler_args\u001b[0m\u001b[0;34m,\u001b[0m \u001b[0mn_jobs\u001b[0m\u001b[0;34m)\u001b[0m\u001b[0;34m\u001b[0m\u001b[0;34m\u001b[0m\u001b[0m\n\u001b[0m\u001b[1;32m    814\u001b[0m         \u001b[0msamples\u001b[0m \u001b[0;34m=\u001b[0m \u001b[0;34m[\u001b[0m\u001b[0msmpl\u001b[0m \u001b[0;32mfor\u001b[0m \u001b[0m_\u001b[0m\u001b[0;34m,\u001b[0m \u001b[0msmpl\u001b[0m \u001b[0;32min\u001b[0m \u001b[0mret_and_samples\u001b[0m\u001b[0;34m]\u001b[0m\u001b[0;34m\u001b[0m\u001b[0;34m\u001b[0m\u001b[0m\n\u001b[1;32m    815\u001b[0m \u001b[0;34m\u001b[0m\u001b[0m\n",
      "\u001b[0;32m~/.virtualenvs/bayes/lib/python3.8/site-packages/pystan/model.py\u001b[0m in \u001b[0;36m_map_parallel\u001b[0;34m(function, args, n_jobs)\u001b[0m\n\u001b[1;32m     88\u001b[0m             \u001b[0mpool\u001b[0m\u001b[0;34m.\u001b[0m\u001b[0mjoin\u001b[0m\u001b[0;34m(\u001b[0m\u001b[0;34m)\u001b[0m\u001b[0;34m\u001b[0m\u001b[0;34m\u001b[0m\u001b[0m\n\u001b[1;32m     89\u001b[0m     \u001b[0;32melse\u001b[0m\u001b[0;34m:\u001b[0m\u001b[0;34m\u001b[0m\u001b[0;34m\u001b[0m\u001b[0m\n\u001b[0;32m---> 90\u001b[0;31m         \u001b[0mmap_result\u001b[0m \u001b[0;34m=\u001b[0m \u001b[0mlist\u001b[0m\u001b[0;34m(\u001b[0m\u001b[0mmap\u001b[0m\u001b[0;34m(\u001b[0m\u001b[0mfunction\u001b[0m\u001b[0;34m,\u001b[0m \u001b[0margs\u001b[0m\u001b[0;34m)\u001b[0m\u001b[0;34m)\u001b[0m\u001b[0;34m\u001b[0m\u001b[0;34m\u001b[0m\u001b[0m\n\u001b[0m\u001b[1;32m     91\u001b[0m     \u001b[0;32mreturn\u001b[0m \u001b[0mmap_result\u001b[0m\u001b[0;34m\u001b[0m\u001b[0;34m\u001b[0m\u001b[0m\n\u001b[1;32m     92\u001b[0m \u001b[0;34m\u001b[0m\u001b[0m\n",
      "\u001b[0;32mstanfit4fit_6bef0342d3b0072cb0058e87dea46cab_6178386329717986287.pyx\u001b[0m in \u001b[0;36mstanfit4fit_6bef0342d3b0072cb0058e87dea46cab_6178386329717986287._call_sampler_star\u001b[0;34m()\u001b[0m\n",
      "\u001b[0;32mstanfit4fit_6bef0342d3b0072cb0058e87dea46cab_6178386329717986287.pyx\u001b[0m in \u001b[0;36mstanfit4fit_6bef0342d3b0072cb0058e87dea46cab_6178386329717986287._call_sampler\u001b[0;34m()\u001b[0m\n",
      "\u001b[0;31mRuntimeError\u001b[0m: Initialization failed."
     ]
    }
   ],
   "source": [
    "# fit\n",
    "fit = model.sampling(data=inputs, iter=500, chains=1, algorithm=\"NUTS\")"
   ]
  },
  {
   "cell_type": "code",
   "execution_count": null,
   "metadata": {},
   "outputs": [],
   "source": [
    "# View chains\n",
    "fig = fit.plot([r'Q', r'F0', r'f', r'alpha', r'F', r\"Nex\"]);\n",
    "fig.set_size_inches(20, 16)\n",
    "fig.tight_layout()"
   ]
  },
  {
   "cell_type": "code",
   "execution_count": null,
   "metadata": {},
   "outputs": [],
   "source": [
    "# View corner plot\n",
    "chain = fit.extract(permuted = True)\n",
    "key_list = ['F0', 'Q', 'FT', 'f', 'alpha']\n",
    "labels = [r'$F_0$', r'Q', r'FT', r'f', 'alpha']\n",
    "truths = [sim_inputs['F0'], sim_inputs['Q'], total_flux, 0.5, sim_inputs['alpha']]\n",
    "\n",
    "corner.corner(np.nan_to_num(np.column_stack([chain[key] for key in key_list])),\n",
    "              labels = labels, truths = truths);"
   ]
  },
  {
   "cell_type": "code",
   "execution_count": null,
   "metadata": {},
   "outputs": [],
   "source": []
  }
 ],
 "metadata": {
  "kernelspec": {
   "display_name": "bayes",
   "language": "python",
   "name": "bayes"
  },
  "language_info": {
   "codemirror_mode": {
    "name": "ipython",
    "version": 3
   },
   "file_extension": ".py",
   "mimetype": "text/x-python",
   "name": "python",
   "nbconvert_exporter": "python",
   "pygments_lexer": "ipython3",
   "version": "3.8.5"
  }
 },
 "nbformat": 4,
 "nbformat_minor": 4
}
