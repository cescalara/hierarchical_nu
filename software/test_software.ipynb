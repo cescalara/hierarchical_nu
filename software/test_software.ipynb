{
 "cells": [
  {
   "cell_type": "markdown",
   "metadata": {},
   "source": [
    "# Testing software"
   ]
  },
  {
   "cell_type": "code",
   "execution_count": 1,
   "metadata": {},
   "outputs": [],
   "source": [
    "import numpy as np\n",
    "from matplotlib import pyplot as plt\n",
    "import h5py\n",
    "import os\n",
    "import stan_utility\n",
    "import corner\n",
    "import astropy.units as u\n",
    "%load_ext autoreload\n",
    "%autoreload 2\n",
    "import seaborn as sns"
   ]
  },
  {
   "cell_type": "markdown",
   "metadata": {},
   "source": [
    "## Sources"
   ]
  },
  {
   "cell_type": "code",
   "execution_count": 2,
   "metadata": {},
   "outputs": [],
   "source": [
    "from python.source.simple_source import PointSource, DiffuseSource, TestSourceList\n",
    "from python.source.flux_model import PowerLawSpectrum, IsotropicDiffuseBG\n",
    "from python.source.parameter import Parameter\n",
    "Parameter.clear_registry()\n",
    "from python.source.atmospheric_flux import AtmosphericNuMuFlux\n",
    "from python.backend.stan_generator import ParametersContext, TransformedParametersContext, ModelContext\n",
    "from python.backend.variable_definitions import ParameterDef, ParameterVectorDef"
   ]
  },
  {
   "cell_type": "code",
   "execution_count": 3,
   "metadata": {},
   "outputs": [],
   "source": [
    "# Define point source params\n",
    "index = Parameter(2.4, \"index\", fixed=False, par_range=(1.0, 4))\n",
    "luminosity = Parameter(1E47 * (u.erg / u.s), \"luminosity\", fixed=True, \n",
    "                       par_range=(0, 1E60))\n",
    "\n",
    "# Define diffuse flux inputs\n",
    "diffuse_norm = Parameter(1.44E-14 /u.GeV/u.m**2/u.s, \"diffuse_norm\", fixed=True, \n",
    "                         par_range=(0, np.inf))\n",
    "diffuse_flux_model = IsotropicDiffuseBG(PowerLawSpectrum(diffuse_norm, 1E5*u.GeV, \n",
    "                                                         index, lower_energy=1E5*u.GeV, \n",
    "                                                         upper_energy=1E8*u.GeV))"
   ]
  },
  {
   "cell_type": "code",
   "execution_count": 4,
   "metadata": {},
   "outputs": [
    {
     "data": {
      "text/latex": [
       "$1.8071376 \\times 10^{-8} \\; \\mathrm{\\frac{1}{s\\,m^{2}}}$"
      ],
      "text/plain": [
       "<Quantity 1.80713759e-08 1 / (m2 s)>"
      ]
     },
     "execution_count": 4,
     "metadata": {},
     "output_type": "execute_result"
    }
   ],
   "source": [
    "# Define atmo_bg_flux\n",
    "atmo_bg_flux = AtmosphericNuMuFlux(1E5 * u.GeV, 1E8 * u.GeV)\n",
    "atmo_bg_flux.total_flux_int"
   ]
  },
  {
   "cell_type": "code",
   "execution_count": 5,
   "metadata": {},
   "outputs": [],
   "source": [
    "# Loading from file\n",
    "source_file = '../dev/statistical_model/data/test_SFR_pop.h5'\n",
    "source_list = TestSourceList(source_file, luminosity, index, 1E5 * u.GeV, 1E8 * u.GeV)\n",
    "\n",
    "# Select sources below zth = 1\n",
    "zth = 0.46\n",
    "source_list.select_below_redshift(zth)\n",
    "\n",
    "# Add a diffuse background at z = 1\n",
    "diffuse_bg = DiffuseSource('diffuse_bg', zth, flux_model=diffuse_flux_model)\n",
    "source_list.add(diffuse_bg)\n",
    "\n",
    "# Add an atmospheric background component\n",
    "atmo_bg = DiffuseSource('atmo_bg', 0, flux_model=atmo_bg_flux)\n",
    "source_list.add(atmo_bg)"
   ]
  },
  {
   "cell_type": "code",
   "execution_count": 6,
   "metadata": {},
   "outputs": [],
   "source": [
    "from python.source.simple_source import icrs_to_uv\n",
    "\n",
    "# Edit for testing\n",
    "source_list.sources[0].dec = np.deg2rad(5) * u.rad\n",
    "source_list.sources[0].ra = np.deg2rad(180) * u.rad"
   ]
  },
  {
   "cell_type": "code",
   "execution_count": 7,
   "metadata": {},
   "outputs": [
    {
     "name": "stdout",
     "output_type": "stream",
     "text": [
      "0.13348525176437925\n"
     ]
    }
   ],
   "source": [
    "# Associated fraction of our sources\n",
    "source_ints = [source.flux_model.total_flux_int for source in source_list]\n",
    "f = sum(source_ints[:-2]) / sum(source_ints)\n",
    "print(f)"
   ]
  },
  {
   "cell_type": "markdown",
   "metadata": {},
   "source": [
    "## Precomputation"
   ]
  },
  {
   "cell_type": "code",
   "execution_count": 8,
   "metadata": {},
   "outputs": [],
   "source": [
    "from python.precomputation import ExposureIntegral\n",
    "from python.detector_model import NorthernTracksDetectorModel"
   ]
  },
  {
   "cell_type": "code",
   "execution_count": 9,
   "metadata": {},
   "outputs": [
    {
     "name": "stderr",
     "output_type": "stream",
     "text": [
      "INFO:python.backend.code_generator:Object of type <python.backend.stan_generator.FunctionsContext object at 0x13b116d90> already on stack\n",
      "INFO:python.backend.code_generator:Object of type <python.backend.stan_generator.FunctionsContext object at 0x13bfb48e0> already on stack\n",
      "INFO:python.backend.code_generator:Object of type <python.backend.stan_generator.DefinitionContext object at 0x13c24b490> already on stack\n",
      "INFO:python.backend.code_generator:Object of type <python.backend.stan_generator.DefinitionContext object at 0x13c24b0d0> already on stack\n",
      "INFO:python.backend.code_generator:Object of type <python.backend.stan_generator.DefinitionContext object at 0x13bfb80a0> already on stack\n",
      "INFO:python.backend.code_generator:Object of type <python.backend.stan_generator.DefinitionContext object at 0x13bfb85b0> already on stack\n",
      "INFO:python.backend.code_generator:Object of type <python.backend.stan_generator.FunctionsContext object at 0x13c2503d0> already on stack\n",
      "INFO:python.backend.code_generator:Object of type <python.backend.stan_generator.FunctionsContext object at 0x13bfb8550> already on stack\n",
      "INFO:python.backend.code_generator:Object of type <python.backend.stan_generator.DefinitionContext object at 0x13c24b640> already on stack\n",
      "INFO:python.backend.code_generator:Object of type <python.backend.stan_generator.DefinitionContext object at 0x13bff0fa0> already on stack\n"
     ]
    }
   ],
   "source": [
    "Emin_det = 1.0e5 * u.GeV # GeV\n",
    "Esrc_min = 1.0e5 * u.GeV\n",
    "Esrc_max = 1.0e8 * u.GeV\n",
    "\n",
    "exposure_integral = ExposureIntegral(source_list, \n",
    "                                     NorthernTracksDetectorModel, \n",
    "                                     Emin_det, Esrc_min, Esrc_max)\n",
    "\n",
    "exposure_integral()"
   ]
  },
  {
   "cell_type": "code",
   "execution_count": 10,
   "metadata": {},
   "outputs": [
    {
     "data": {
      "text/plain": [
       "<matplotlib.lines.Line2D at 0x13bfbe3a0>"
      ]
     },
     "execution_count": 10,
     "metadata": {},
     "output_type": "execute_result"
    },
    {
     "data": {
      "image/png": "[encoded data removed]",
      "text/plain": [
       "<Figure size 432x288 with 1 Axes>"
      ]
     },
     "metadata": {
      "needs_background": "light"
     },
     "output_type": "display_data"
    }
   ],
   "source": [
    "fig, ax = plt.subplots()\n",
    "for _ in exposure_integral.integral_grid:\n",
    "    ax.plot(exposure_integral.par_grids[\"index\"], np.log10(_.value))\n",
    "ax.axhline(np.log10(exposure_integral.integral_fixed_vals[0].value))"
   ]
  },
  {
   "cell_type": "code",
   "execution_count": 11,
   "metadata": {},
   "outputs": [
    {
     "data": {
      "text/plain": [
       "[<Quantity [1.43191919e+04, 1.00499589e+04, 7.09129812e+03, 5.03222365e+03,\n",
       "            3.59274202e+03, 2.58156302e+03, 1.86760558e+03, 1.36075971e+03,\n",
       "            9.98869944e+02, 7.38908255e+02, 5.50973628e+02, 4.14202787e+02,\n",
       "            3.13975834e+02, 2.40001306e+02, 1.84999945e+02, 1.43797100e+02,\n",
       "            1.12694786e+02, 8.90357068e+01, 7.08994010e+01, 5.68896579e+01,\n",
       "            4.59851605e+01, 3.74341016e+01, 3.06794885e+01, 2.53059484e+01,\n",
       "            2.10016605e+01, 1.75309738e+01, 1.47146074e+01, 1.24152559e+01,\n",
       "            1.05270662e+01, 8.96790086e+00, 7.67361674e+00, 6.59380986e+00,\n",
       "            5.68863134e+00, 4.92639117e+00, 4.28174382e+00, 3.73430656e+00,\n",
       "            3.26760092e+00, 2.86823717e+00, 2.52528231e+00, 2.22976770e+00,\n",
       "            1.97430327e+00, 1.75277368e+00, 1.56009773e+00, 1.39203705e+00,\n",
       "            1.24504307e+00, 1.11613410e+00, 1.00279623e+00, 9.02902959e-01,\n",
       "            8.14649826e-01, 7.36501015e-01] m2>,\n",
       " <Quantity [2.15866313e+03, 1.52617015e+03, 1.08604509e+03, 7.78212970e+02,\n",
       "            5.61729978e+02, 4.08599217e+02, 2.99609297e+02, 2.21527712e+02,\n",
       "            1.65203403e+02, 1.24280683e+02, 9.43251459e+01, 7.22278526e+01,\n",
       "            5.57979380e+01, 4.34831283e+01, 3.41773353e+01, 2.70877015e+01,\n",
       "            2.16423636e+01, 1.74261963e+01, 1.41358499e+01, 1.15481431e+01,\n",
       "            9.49773491e+00, 7.86127232e+00, 6.54607404e+00, 5.48200918e+00,\n",
       "            4.61563492e+00, 3.90594016e+00, 3.32123649e+00, 2.83687349e+00,\n",
       "            2.43354913e+00, 2.09605264e+00, 1.81232305e+00, 1.57273989e+00,\n",
       "            1.36958527e+00, 1.19663357e+00, 1.04883640e+00, 9.22079373e-01,\n",
       "            8.12993167e-01, 7.18805918e-01, 6.37227281e-01, 5.66356866e-01,\n",
       "            5.04611542e-01, 4.50667449e-01, 4.03413497e-01, 3.61913923e-01,\n",
       "            3.25377994e-01, 2.93135394e-01, 2.64616147e-01, 2.39334165e-01,\n",
       "            2.16873732e-01, 1.96878350e-01] m2>]"
      ]
     },
     "execution_count": 11,
     "metadata": {},
     "output_type": "execute_result"
    }
   ],
   "source": [
    "exposure_integral.integral_grid"
   ]
  },
  {
   "cell_type": "markdown",
   "metadata": {},
   "source": [
    "### Generate Stan code for simulation\n"
   ]
  },
  {
   "cell_type": "code",
   "execution_count": 12,
   "metadata": {},
   "outputs": [],
   "source": [
    "from python.detector_model import NorthernTracksDetectorModel\n",
    "from python.backend.stan_generator import (\n",
    "    StanGenerator, GeneratedQuantitiesContext, DataContext, TransformedDataContext,\n",
    "    FunctionsContext, Include, ForLoopContext, StanFileGenerator, WhileLoopContext, FunctionCall, ModelContext, IfBlockContext, ElseIfBlockContext, ElseBlockContext)\n",
    "from python.backend.variable_definitions import ForwardVariableDef, ForwardArrayDef\n",
    "from python.backend.expression import StringExpression\n",
    "from python.backend.parameterizations import DistributionMode\n",
    "import logging\n",
    "logging.basicConfig(level=logging.WARN)"
   ]
  },
  {
   "cell_type": "markdown",
   "metadata": {},
   "source": [
    "### Code to generate atmo events"
   ]
  },
  {
   "cell_type": "code",
   "execution_count": 13,
   "metadata": {},
   "outputs": [
    {
     "name": "stderr",
     "output_type": "stream",
     "text": [
      "INFO:python.backend.code_generator:Object of type <python.backend.stan_generator.FunctionsContext object at 0x13bf59070> already on stack\n",
      "INFO:python.backend.code_generator:Object of type <python.backend.stan_generator.DefinitionContext object at 0x13bf599a0> already on stack\n",
      "INFO:python.backend.code_generator:Object of type <python.backend.stan_generator.DefinitionContext object at 0x13bf599d0> already on stack\n",
      "INFO:python.backend.code_generator:Object of type <python.backend.stan_generator.DefinitionContext object at 0x13bf63d60> already on stack\n",
      "INFO:python.backend.code_generator:Object of type <python.backend.stan_generator.DefinitionContext object at 0x13bf630d0> already on stack\n",
      "INFO:python.backend.code_generator:Object of type <python.backend.stan_generator.DefinitionContext object at 0x13bf63a30> already on stack\n",
      "INFO:python.backend.code_generator:Object of type <python.backend.stan_generator.DefinitionContext object at 0x13bf63bb0> already on stack\n",
      "INFO:python.backend.code_generator:Object of type <python.backend.stan_generator.DefinitionContext object at 0x13bf63cd0> already on stack\n",
      "INFO:python.backend.code_generator:Object of type <python.backend.stan_generator.DefinitionContext object at 0x13bf5f370> already on stack\n",
      "INFO:python.backend.code_generator:Object of type <python.backend.stan_generator.DefinitionContext object at 0x13bf5fe50> already on stack\n",
      "INFO:python.backend.code_generator:Object of type <python.backend.stan_generator.DefinitionContext object at 0x13bf5fbe0> already on stack\n",
      "INFO:python.backend.code_generator:Object of type <python.backend.stan_generator.DefinitionContext object at 0x13bf5f760> already on stack\n"
     ]
    }
   ],
   "source": [
    "with StanFileGenerator(\"stan_files/atmo_gen\") as atmo_gen:\n",
    "    with FunctionsContext() as fc:\n",
    "        _ = Include(\"utils.stan\")\n",
    "        _ = Include(\"interpolation.stan\")\n",
    "    \n",
    "    # Increasing theta points too much makes compilation very slow\n",
    "    # Could switch to passing array as data if problematic\n",
    "    atmu_nu_flux = atmo_bg_flux.make_stan_function(theta_points=30)\n",
    "    \n",
    "    with DataContext():\n",
    "        Edet_min = ForwardVariableDef(\"Edet_min\", \"real\")\n",
    "        Esrc_max = ForwardVariableDef(\"Esrc_max\", \"real\")\n",
    "        \n",
    "        cosz_min = ForwardVariableDef(\"cosz_min\", \"real\")\n",
    "        cosz_max = ForwardVariableDef(\"cosz_max\", \"real\")\n",
    "    \n",
    "    with TransformedDataContext():\n",
    "        # If not used pop up in Stan file, blocking compilation...\n",
    "        # Needs fixing\n",
    "        StringExpression([\"print(\", Edet_min, \")\"])\n",
    "        StringExpression([\"print(\", Esrc_max, \")\"])\n",
    "        StringExpression([\"print(\", cosz_min, \")\"])\n",
    "        StringExpression([\"print(\", cosz_max, \")\"])\n",
    "    \n",
    "    with ParametersContext():\n",
    "        # Simulate from Edet_min and cosz bounds for efficiency \n",
    "        energy = ParameterDef(\"energy\", \"real\", Edet_min, Esrc_max)\n",
    "        coszen = ParameterDef(\"coszen\", \"real\", cosz_min, cosz_max) \n",
    "        phi = ParameterDef(\"phi\", \"real\", 0, 2*np.pi)\n",
    "        \n",
    "    with TransformedParametersContext():\n",
    "        omega = ForwardVariableDef(\"omega\", \"vector[3]\")\n",
    "        zen = ForwardVariableDef(\"zen\", \"real\")\n",
    "        theta = ForwardVariableDef(\"theta\", \"real\")     \n",
    "        \n",
    "        zen << FunctionCall([coszen], \"acos\")\n",
    "        theta << FunctionCall([], \"pi\") - zen\n",
    "        \n",
    "        omega[1] << FunctionCall([theta], \"sin\") * FunctionCall([phi], \"cos\")\n",
    "        omega[2] << FunctionCall([theta], \"sin\") * FunctionCall([phi], \"sin\")\n",
    "        omega[3] << FunctionCall([theta], \"cos\")\n",
    "        \n",
    "    with ModelContext():\n",
    "        \n",
    "        logflux = FunctionCall([atmu_nu_flux(energy, omega)], \"log\")\n",
    "        StringExpression([\"target += \", logflux])\n",
    "        \n",
    "model = atmo_gen.generate_single_file()"
   ]
  },
  {
   "cell_type": "markdown",
   "metadata": {},
   "source": [
    "### Main sim code"
   ]
  },
  {
   "cell_type": "code",
   "execution_count": 14,
   "metadata": {
    "code_folding": []
   },
   "outputs": [
    {
     "name": "stderr",
     "output_type": "stream",
     "text": [
      "INFO:python.backend.code_generator:Object of type <python.backend.stan_generator.FunctionsContext object at 0x13c1d9100> already on stack\n",
      "INFO:python.backend.code_generator:Object of type <python.backend.stan_generator.DefinitionContext object at 0x13c1d9bb0> already on stack\n",
      "INFO:python.backend.code_generator:Object of type <python.backend.stan_generator.FunctionsContext object at 0x13c1d8100> already on stack\n",
      "INFO:python.backend.code_generator:Object of type <python.backend.stan_generator.DefinitionContext object at 0x13c1d87c0> already on stack\n",
      "INFO:python.backend.code_generator:Object of type <python.backend.stan_generator.FunctionsContext object at 0x13c1ce4c0> already on stack\n",
      "INFO:python.backend.code_generator:Object of type <python.backend.stan_generator.FunctionsContext object at 0x13c1d5880> already on stack\n",
      "INFO:python.backend.code_generator:Object of type <python.backend.stan_generator.DefinitionContext object at 0x13c1d5370> already on stack\n",
      "INFO:python.backend.code_generator:Object of type <python.backend.stan_generator.DefinitionContext object at 0x13c06aeb0> already on stack\n",
      "INFO:python.backend.code_generator:Object of type <python.backend.stan_generator.DefinitionContext object at 0x13c1d5040> already on stack\n",
      "INFO:python.backend.code_generator:Object of type <python.backend.stan_generator.DefinitionContext object at 0x13c06aca0> already on stack\n",
      "INFO:python.backend.code_generator:Object of type <python.backend.stan_generator.DefinitionContext object at 0x13c06ae80> already on stack\n",
      "INFO:python.backend.code_generator:Object of type <python.backend.stan_generator.DefinitionContext object at 0x13c06aa30> already on stack\n",
      "INFO:python.backend.code_generator:Object of type <python.backend.stan_generator.DefinitionContext object at 0x13c086370> already on stack\n",
      "INFO:python.backend.code_generator:Object of type <python.backend.stan_generator.DefinitionContext object at 0x13c086a00> already on stack\n",
      "INFO:python.backend.code_generator:Object of type <python.backend.stan_generator.DefinitionContext object at 0x13c086190> already on stack\n",
      "INFO:python.backend.code_generator:Object of type <python.backend.stan_generator.DefinitionContext object at 0x13c0862b0> already on stack\n",
      "INFO:python.backend.code_generator:Object of type <python.backend.stan_generator.DefinitionContext object at 0x13c0865b0> already on stack\n",
      "INFO:python.backend.code_generator:Object of type <python.backend.stan_generator.DefinitionContext object at 0x13c086040> already on stack\n",
      "INFO:python.backend.code_generator:Object of type <python.backend.stan_generator.DefinitionContext object at 0x13c086310> already on stack\n",
      "INFO:python.backend.code_generator:Object of type <python.backend.stan_generator.DefinitionContext object at 0x13c086160> already on stack\n",
      "INFO:python.backend.code_generator:Object of type <python.backend.stan_generator.DefinitionContext object at 0x13c0878e0> already on stack\n",
      "INFO:python.backend.code_generator:Object of type <python.backend.stan_generator.DefinitionContext object at 0x13c087d60> already on stack\n",
      "INFO:python.backend.code_generator:Object of type <python.backend.stan_generator.DefinitionContext object at 0x13c0871f0> already on stack\n",
      "INFO:python.backend.code_generator:Object of type <python.backend.stan_generator.DefinitionContext object at 0x13c087820> already on stack\n",
      "INFO:python.backend.code_generator:Object of type <python.backend.stan_generator.DefinitionContext object at 0x13c087100> already on stack\n",
      "INFO:python.backend.code_generator:Object of type <python.backend.stan_generator.DefinitionContext object at 0x13c0875b0> already on stack\n",
      "INFO:python.backend.code_generator:Object of type <python.backend.stan_generator.DefinitionContext object at 0x13c087640> already on stack\n",
      "INFO:python.backend.code_generator:Object of type <python.backend.stan_generator.DefinitionContext object at 0x13c087670> already on stack\n",
      "INFO:python.backend.code_generator:Object of type <python.backend.stan_generator.DefinitionContext object at 0x13c1d00d0> already on stack\n",
      "INFO:python.backend.code_generator:Object of type <python.backend.stan_generator.DefinitionContext object at 0x13c1d04f0> already on stack\n",
      "INFO:python.backend.code_generator:Object of type <python.backend.stan_generator.DefinitionContext object at 0x13c1d0bb0> already on stack\n",
      "INFO:python.backend.code_generator:Object of type <python.backend.stan_generator.DefinitionContext object at 0x13bff0850> already on stack\n",
      "INFO:python.backend.code_generator:Object of type <python.backend.stan_generator.DefinitionContext object at 0x13c1d0790> already on stack\n",
      "INFO:python.backend.code_generator:Object of type <python.backend.stan_generator.DefinitionContext object at 0x13c1d06d0> already on stack\n",
      "INFO:python.backend.code_generator:Object of type <python.backend.stan_generator.DefinitionContext object at 0x13c1d04c0> already on stack\n",
      "INFO:python.backend.code_generator:Object of type <python.backend.stan_generator.FunctionsContext object at 0x13c07f040> already on stack\n",
      "INFO:python.backend.code_generator:Object of type <python.backend.stan_generator.FunctionsContext object at 0x13c1ca670> already on stack\n",
      "INFO:python.backend.code_generator:Object of type <python.backend.stan_generator.FunctionsContext object at 0x13c079fa0> already on stack\n",
      "INFO:python.backend.code_generator:Object of type <python.backend.stan_generator.DefinitionContext object at 0x13c07c0d0> already on stack\n",
      "INFO:python.backend.code_generator:Object of type <python.backend.stan_generator.DefinitionContext object at 0x13c079250> already on stack\n",
      "INFO:python.backend.code_generator:Object of type <python.backend.stan_generator.DefinitionContext object at 0x13c07c910> already on stack\n",
      "INFO:python.backend.code_generator:Object of type <python.backend.stan_generator.DefinitionContext object at 0x13c07c670> already on stack\n",
      "INFO:python.backend.code_generator:Object of type <python.backend.stan_generator.FunctionsContext object at 0x13c0717f0> already on stack\n",
      "INFO:python.backend.code_generator:Object of type <python.backend.stan_generator.FunctionsContext object at 0x13c05dd60> already on stack\n",
      "INFO:python.backend.code_generator:Object of type <python.backend.stan_generator.FunctionsContext object at 0x13c070a60> already on stack\n",
      "INFO:python.backend.code_generator:Object of type <python.backend.stan_generator.DefinitionContext object at 0x13c070fa0> already on stack\n",
      "INFO:python.backend.code_generator:Object of type <python.backend.stan_generator.DefinitionContext object at 0x13c070550> already on stack\n",
      "INFO:python.backend.code_generator:Object of type <python.backend.stan_generator.DefinitionContext object at 0x13c0701c0> already on stack\n",
      "INFO:python.backend.code_generator:Object of type <python.backend.stan_generator.DefinitionContext object at 0x13c070d90> already on stack\n",
      "INFO:python.backend.code_generator:Object of type <python.backend.stan_generator.FunctionsContext object at 0x13c07c6d0> already on stack\n",
      "INFO:python.backend.code_generator:Object of type <python.backend.stan_generator.FunctionsContext object at 0x13c079040> already on stack\n",
      "INFO:python.backend.code_generator:Object of type <python.backend.stan_generator.DefinitionContext object at 0x13c071220> already on stack\n",
      "INFO:python.backend.code_generator:Object of type <python.backend.stan_generator.DefinitionContext object at 0x13c0719d0> already on stack\n",
      "INFO:python.backend.code_generator:Object of type <python.backend.stan_generator.DefinitionContext object at 0x13c1ca4f0> already on stack\n",
      "INFO:python.backend.code_generator:Object of type <python.backend.stan_generator.DefinitionContext object at 0x13c1ca6d0> already on stack\n",
      "INFO:python.backend.code_generator:Object of type <python.backend.stan_generator.DefinitionContext object at 0x13c1ca610> already on stack\n",
      "INFO:python.backend.code_generator:Object of type <python.backend.stan_generator.DefinitionContext object at 0x13c1ca490> already on stack\n",
      "INFO:python.backend.code_generator:Object of type <python.backend.stan_generator.DefinitionContext object at 0x13c1ca160> already on stack\n",
      "INFO:python.backend.code_generator:Object of type <python.backend.stan_generator.DefinitionContext object at 0x13c1caac0> already on stack\n",
      "INFO:python.backend.code_generator:Object of type <python.backend.stan_generator.DefinitionContext object at 0x13c069e50> already on stack\n"
     ]
    },
    {
     "name": "stderr",
     "output_type": "stream",
     "text": [
      "INFO:python.backend.code_generator:Object of type <python.backend.stan_generator.DefinitionContext object at 0x13c069c40> already on stack\n",
      "INFO:python.backend.code_generator:Object of type <python.backend.stan_generator.DefinitionContext object at 0x13c069b20> already on stack\n",
      "INFO:python.backend.code_generator:Object of type <python.backend.stan_generator.DefinitionContext object at 0x13c069d00> already on stack\n",
      "INFO:python.backend.code_generator:Object of type <python.backend.stan_generator.DefinitionContext object at 0x13c063490> already on stack\n",
      "INFO:python.backend.code_generator:Object of type <python.backend.stan_generator.DefinitionContext object at 0x13c063580> already on stack\n",
      "INFO:python.backend.code_generator:Object of type <python.backend.stan_generator.DefinitionContext object at 0x13c063190> already on stack\n"
     ]
    }
   ],
   "source": [
    "with StanFileGenerator(\"stan_files/sim_code\") as sim_gen:\n",
    "    \n",
    "    with FunctionsContext() as fc:\n",
    "        _ = Include(\"utils.stan\")\n",
    "        _ = Include(\"vMF.stan\")\n",
    "        _ = Include(\"interpolation.stan\")\n",
    "        _ = Include(\"sim_functions.stan\")\n",
    "\n",
    "        spectrum_rng = source_list[0].flux_model.spectral_shape.make_stan_sampling_func(\"spectrum_rng\")\n",
    "        diffuse_flux_rng = diffuse_flux_model.make_stan_sampling_func(\"diffuse_bg_rng\")\n",
    "        \n",
    "        flux_fac = source_list[0].flux_model.spectral_shape.make_stan_flux_conv_func(\"flux_conv\")\n",
    "            \n",
    "    with DataContext() as dc:\n",
    "        \n",
    "        # Sources\n",
    "        Ns = ForwardVariableDef(\"Ns\", \"int\")\n",
    "        Ns_str = [\"[\", Ns, \"]\"]\n",
    "        Ns_1p_str = [\"[\", Ns, \"+1]\"]\n",
    "        \n",
    "        varpi = ForwardArrayDef(\"varpi\", \"unit_vector[3]\", Ns_str)\n",
    "        D = ForwardVariableDef(\"D\", \"vector[Ns]\")\n",
    "        z = ForwardVariableDef(\"z\", \"vector[Ns+1]\")\n",
    "        \n",
    "        # Energies\n",
    "        alpha = ForwardVariableDef(\"alpha\", \"real\")\n",
    "        Edet_min = ForwardVariableDef(\"Edet_min\", \"real\")\n",
    "        Esrc_min = ForwardVariableDef(\"Esrc_min\", \"real\")\n",
    "        Esrc_max = ForwardVariableDef(\"Esrc_max\", \"real\")\n",
    "        \n",
    "        # Luminosity/ diffuse flux\n",
    "        L = ForwardVariableDef(\"L\", \"real\")\n",
    "        F_diff = ForwardVariableDef(\"F_diff\", \"real\")\n",
    "        F_atmo = ForwardVariableDef(\"F_atmo\", \"real\")\n",
    "        \n",
    "        # Precomputed quantities\n",
    "        Ngrid = ForwardVariableDef(\"Ngrid\", \"int\")\n",
    "        alpha_grid = ForwardVariableDef(\"alpha_grid\", \"vector[Ngrid]\")\n",
    "        integral_grid = ForwardArrayDef(\"integral_grid\", \n",
    "                                        \"vector[Ngrid]\", Ns_1p_str)\n",
    "        atmo_integ_val = ForwardVariableDef(\"atmo_integ_val\", \"real\")\n",
    "        aeff_max = ForwardVariableDef(\"aeff_max\", \"real\")\n",
    "        \n",
    "        v_lim = ForwardVariableDef(\"v_lim\", \"real\")\n",
    "        T = ForwardVariableDef(\"T\", \"real\")\n",
    "        \n",
    "        # Atmo samples\n",
    "        N_atmo = ForwardVariableDef(\"N_atmo\", \"int\")\n",
    "        N_atmo_str = [\"[\", N_atmo, \"]\"]\n",
    "        atmo_directions = ForwardArrayDef(\"atmo_directions\", \"unit_vector[3]\", \n",
    "                                             N_atmo_str)\n",
    "        atmo_energies = ForwardVariableDef(\"atmo_energies\", \"vector[N_atmo]\")\n",
    "        atmo_weights = ForwardVariableDef(\"atmo_weights\", \"simplex[N_atmo]\")\n",
    "        \n",
    "    with TransformedDataContext() as tdc:\n",
    "        F = ForwardVariableDef(\"F\", \"vector[Ns+2]\")\n",
    "        Ftot = ForwardVariableDef(\"Ftot\", \"real\")\n",
    "        Fsrc = ForwardVariableDef(\"Fs\", \"real\")\n",
    "        f = ForwardVariableDef(\"f\", \"real\")\n",
    "        w_exposure = ForwardVariableDef(\"w_exposure\", \"simplex[Ns+2]\")\n",
    "        Nex = ForwardVariableDef(\"Nex\", \"real\")\n",
    "        N = ForwardVariableDef(\"N\", \"int\")\n",
    "        eps = ForwardVariableDef(\"eps\", \"vector[Ns+2]\")\n",
    "        \n",
    "        Fsrc << 0.0\n",
    "        with ForLoopContext(1, Ns, \"k\") as k:\n",
    "            F[k] << StringExpression([L, \"/ (4 * pi() * pow(\", \n",
    "                                         D[k], \" * \", 3.086e22, \", 2))\"])\n",
    "            StringExpression([F[k], \"*=\",  flux_fac(alpha, Esrc_min, Esrc_max)])\n",
    "            StringExpression([Fsrc,\" += \", F[k]])\n",
    "        \n",
    "        StringExpression(\"F[Ns+1]\") << F_diff\n",
    "        StringExpression(\"F[Ns+2]\") << F_atmo\n",
    "        \n",
    "        Ftot << Fsrc + F_diff + F_atmo\n",
    "        f << StringExpression([Fsrc, \"/\", Ftot])\n",
    "        StringExpression([\"print(\\\"f: \\\", \", f, \")\"])\n",
    "        \n",
    "        eps << StringExpression([\"get_exposure_factor(\", alpha, \n",
    "                                 \", \", alpha_grid, \", \", integral_grid, \", \", \n",
    "                                 atmo_integ_val, \", \", T, \", \",\n",
    "                                 Ns, \")\"])\n",
    "        Nex << StringExpression([\"get_Nex(\", F, \", \", eps, \")\"])\n",
    "        w_exposure << StringExpression([\"get_exposure_weights(\", F, \", \", \n",
    "                                                  eps, \")\"])\n",
    "        N << StringExpression([\"poisson_rng(\", Nex, \")\"])\n",
    "        StringExpression([\"print(\", w_exposure, \")\"])\n",
    "        StringExpression([\"print(\", Ngrid, \")\"])\n",
    "        StringExpression([\"print(\", Nex, \")\"])\n",
    "        StringExpression([\"print(\", N, \")\"])\n",
    "        \n",
    "    with GeneratedQuantitiesContext() as gqc:\n",
    "        ntd_rng = NorthernTracksDetectorModel(mode=DistributionMode.RNG)\n",
    "        ntd_pdf = NorthernTracksDetectorModel(mode=DistributionMode.PDF) \n",
    "        \n",
    "        N_str = [\"[\", N, \"]\"]\n",
    "        lam = ForwardArrayDef(\"Lambda\", \"int\", N_str)\n",
    "        omega = ForwardVariableDef(\"omega\", \"unit_vector[3]\")\n",
    "        \n",
    "        Esrc = ForwardVariableDef(\"Esrc\", \"vector[N]\")\n",
    "        E = ForwardVariableDef(\"E\", \"vector[N]\")\n",
    "        Edet = ForwardVariableDef(\"Edet\", \"vector[N]\")\n",
    "        \n",
    "        atmo_index = ForwardVariableDef(\"atmo_index\", \"int\")\n",
    "        cosz = ForwardArrayDef(\"cosz\", \"real\", N_str)\n",
    "        Pdet = ForwardArrayDef(\"Pdet\", \"real\", N_str)\n",
    "        accept = ForwardVariableDef(\"accept\", \"int\")\n",
    "        detected = ForwardVariableDef(\"detected\", \"int\")\n",
    "        ntrials = ForwardVariableDef(\"ntrials\", \"int\")\n",
    "        prob = ForwardVariableDef(\"prob\", \"simplex[2]\")\n",
    "        \n",
    "        event = ForwardArrayDef(\"event\", \"unit_vector[3]\", N_str)\n",
    "        Nex_sim = ForwardVariableDef(\"Nex_sim\", \"real\")\n",
    "        \n",
    "        Nex_sim << Nex\n",
    "\n",
    "        with ForLoopContext(1, N, \"i\") as i:\n",
    "            \n",
    "            lam[i] << FunctionCall([w_exposure], \"categorical_rng\")\n",
    "            \n",
    "            accept << 0\n",
    "            detected << 0\n",
    "            ntrials << 0\n",
    "            \n",
    "            with WhileLoopContext([StringExpression([accept != 1])]):\n",
    "\n",
    "                # Sample position\n",
    "                with IfBlockContext([StringExpression([lam[i], \" <= \", Ns])]):\n",
    "                    omega << varpi[lam[i]]\n",
    "                with ElseIfBlockContext([StringExpression([lam[i], \" == \", Ns+1])]):\n",
    "                    omega << FunctionCall([1, v_lim], \"sphere_lim_rng\")             \n",
    "                with ElseIfBlockContext([StringExpression([lam[i], \" == \", Ns+2])]):\n",
    "                    atmo_index << FunctionCall([atmo_weights], \"categorical_rng\")\n",
    "                    omega << atmo_directions[atmo_index]\n",
    "                \n",
    "                cosz[i] << FunctionCall([FunctionCall([omega], \"omega_to_zenith\")], \n",
    "                                        \"cos\") \n",
    "                # Sample energy\n",
    "                with IfBlockContext([StringExpression([lam[i], \" <= \" , Ns+1])]):\n",
    "                    Esrc[i] << spectrum_rng(alpha, Esrc_min, Esrc_max)\n",
    "                    E[i] << Esrc[i] / (1 + z[lam[i]])\n",
    "                with ElseIfBlockContext([StringExpression([lam[i], \" == \", Ns+2])]):\n",
    "                    E[i] << atmo_energies[atmo_index]\n",
    "                \n",
    "                # Test against Aeff\n",
    "                with IfBlockContext([StringExpression([cosz[i], \">= 0.1\"])]):\n",
    "                    Pdet[i] << 0\n",
    "                with ElseBlockContext():\n",
    "                    Pdet[i] << ntd_pdf.effective_area(E[i], omega) / aeff_max\n",
    "                \n",
    "                Edet[i] << 10**ntd_rng.energy_resolution(E[i])\n",
    "\n",
    "                prob[1] << Pdet[i]\n",
    "                prob[2] << 1 - Pdet[i]\n",
    "                StringExpression([ntrials, \" += \", 1])\n",
    "                \n",
    "                with IfBlockContext([StringExpression([ntrials, \"< 1000000\"])]):\n",
    "                    detected << FunctionCall([prob], \"categorical_rng\")\n",
    "                    with IfBlockContext([StringExpression([\"(\", Edet[i], \" >= \",\n",
    "                                                           Edet_min, \") && (\", \n",
    "                                                           detected == 1, \")\"])]):\n",
    "                        accept << 1        \n",
    "                with ElseBlockContext():\n",
    "                    accept << 1\n",
    "                    StringExpression([\"print(\\\"problem component: \\\", \",\n",
    "                                      lam[i], \");\\n\"])                    \n",
    "                #accept << StringExpression([\"categorical_rng(\", prob, \")\"])\n",
    "            \n",
    "            # Detection effects\n",
    "            event[i] << ntd_rng.angular_resolution(E[i], omega)\n",
    "            \n",
    "    sim = sim_gen.generate_single_file()"
   ]
  },
  {
   "cell_type": "code",
   "execution_count": 15,
   "metadata": {},
   "outputs": [
    {
     "name": "stdout",
     "output_type": "stream",
     "text": [
      "Using cached StanModel\n",
      "Using cached StanModel\n"
     ]
    }
   ],
   "source": [
    "# Compile\n",
    "this_dir = os.path.abspath('')\n",
    "include_paths = [os.path.join(this_dir, \"stan_files/\")]\n",
    "atmo = stan_utility.compile_model(filename=atmo_gen.filename, \n",
    "                                  include_paths=include_paths, \n",
    "                                  model_name=\"atmo\")\n",
    "sim = stan_utility.compile_model(filename=sim_gen.filename, \n",
    "                                 include_paths=include_paths, \n",
    "                                 model_name=\"sim\")"
   ]
  },
  {
   "cell_type": "markdown",
   "metadata": {},
   "source": [
    "## Simulation\n",
    "First run atmo sim to generate a large sample of atmospheric events, then use these as inputs to the main sim."
   ]
  },
  {
   "cell_type": "markdown",
   "metadata": {},
   "source": [
    "#### Atmospheric events"
   ]
  },
  {
   "cell_type": "code",
   "execution_count": 16,
   "metadata": {},
   "outputs": [],
   "source": [
    "atmo_inputs = {}\n",
    "atmo_inputs[\"Edet_min\"] = 1e5 # GeV\n",
    "atmo_inputs[\"Esrc_max\"] = 1e8 # GeV\n",
    "atmo_inputs[\"cosz_min\"] = min(exposure_integral.effective_area._cosz_bin_edges)\n",
    "atmo_inputs[\"cosz_max\"] = max(exposure_integral.effective_area._cosz_bin_edges)\n",
    "atmo_sim = atmo.sampling(data=atmo_inputs, iter=1000, chains=1, \n",
    "                         algorithm=\"NUTS\")"
   ]
  },
  {
   "cell_type": "code",
   "execution_count": 17,
   "metadata": {},
   "outputs": [],
   "source": [
    "atmo_energies = atmo_sim.extract([\"energy\"])[\"energy\"]\n",
    "atmo_directions = atmo_sim.extract([\"omega\"])[\"omega\"]"
   ]
  },
  {
   "cell_type": "code",
   "execution_count": 18,
   "metadata": {},
   "outputs": [
    {
     "data": {
      "image/png": "[encoded data removed]",
      "text/plain": [
       "<Figure size 720x288 with 2 Axes>"
      ]
     },
     "metadata": {
      "needs_background": "light"
     },
     "output_type": "display_data"
    }
   ],
   "source": [
    "# Check outputs\n",
    "fig, ax = plt.subplots(1, 2, figsize=(10, 4))\n",
    "ax[0].hist(np.log10(atmo_energies), alpha=0.5)\n",
    "ax[0].set_yscale(\"log\")\n",
    "ax[1].hist(np.cos(np.pi - np.arccos(atmo_directions.T[2])));"
   ]
  },
  {
   "cell_type": "markdown",
   "metadata": {},
   "source": [
    "#### Full simulation"
   ]
  },
  {
   "cell_type": "code",
   "execution_count": 19,
   "metadata": {},
   "outputs": [],
   "source": [
    "from python.source.cosmology import luminosity_distance\n",
    "from python.source.simple_source import icrs_to_uv, Direction"
   ]
  },
  {
   "cell_type": "code",
   "execution_count": 20,
   "metadata": {},
   "outputs": [],
   "source": [
    "# Preparing some useful inputs\n",
    "redshift = [source_list.sources[i].redshift for i in range(source_list.N-1)]\n",
    "lum_dist = [luminosity_distance(_).value for _ in redshift]\n",
    "varpi_in = np.asarray([icrs_to_uv(source_list.sources[i].dec.value,\n",
    "                                   source_list.sources[i].ra.value) for i in \n",
    "                       range(source_list.N-2)])"
   ]
  },
  {
   "cell_type": "code",
   "execution_count": 21,
   "metadata": {},
   "outputs": [],
   "source": [
    "# Inputs \n",
    "sim_inputs = {}\n",
    "sim_inputs['Ns'] = source_list.N-2\n",
    "\n",
    "sim_inputs['z'] = redshift\n",
    "sim_inputs['D'] = lum_dist[:-1]\n",
    "sim_inputs['varpi'] = varpi_in\n",
    "\n",
    "sim_inputs['Ngrid'] = len(exposure_integral.par_grids[\"index\"])\n",
    "sim_inputs['alpha_grid'] = exposure_integral.par_grids[\"index\"]\n",
    "sim_inputs['integral_grid'] = [_.value for _ in exposure_integral.integral_grid]\n",
    "sim_inputs[\"atmo_integ_val\"] = exposure_integral.integral_fixed_vals[0].value\n",
    "sim_inputs[\"T\"] =  (8 * u.year).to(u.s) \n",
    "\n",
    "sim_inputs[\"N_atmo\"] = len(atmo_energies)\n",
    "sim_inputs[\"atmo_energies\"] = atmo_energies\n",
    "sim_inputs[\"atmo_directions\"] = atmo_directions\n",
    "sim_inputs[\"atmo_weights\"] = np.tile(1.0/len(atmo_energies), len(atmo_energies))\n",
    "sim_inputs['alpha'] = index.value\n",
    "sim_inputs['Edet_min'] = 1e5 # GeV\n",
    "sim_inputs[\"Esrc_min\"] = 1e5 # GeV\n",
    "sim_inputs[\"Esrc_max\"] = 1e8 # GeV\n",
    "\n",
    "# Set maximum based on Esrc_max to speed up rejection sampling\n",
    "# Could improve this with HMC sampling?\n",
    "lbe = exposure_integral.effective_area._tE_bin_edges[:-1]\n",
    "Esrc_max = sim_inputs[\"Esrc_max\"]\n",
    "aeff_max = np.max(exposure_integral.effective_area._eff_area[lbe < Esrc_max][:])\n",
    "sim_inputs['aeff_max'] = 1e4 #aeff_max"
   ]
  },
  {
   "cell_type": "code",
   "execution_count": 22,
   "metadata": {},
   "outputs": [],
   "source": [
    "# Only sample from Northern hemisphere\n",
    "sim_inputs[\"v_lim\"] = (np.cos(np.pi - np.arccos(atmo_inputs[\"cosz_max\"])) + 1) / 2\n",
    "\n",
    "sim_inputs[\"F_diff\"] = diffuse_bg.flux_model.total_flux_int.value # m^-2 s^-1\n",
    "sim_inputs[\"F_atmo\"] = atmo_bg.flux_model.total_flux_int.value \n",
    "sim_inputs['L'] = source_list.sources[0].luminosity.to(u.GeV/u.s).value"
   ]
  },
  {
   "cell_type": "code",
   "execution_count": 23,
   "metadata": {},
   "outputs": [],
   "source": [
    "# Simulate\n",
    "simulation = sim.sampling(data=sim_inputs, iter=1, chains=1, \n",
    "                         algorithm=\"Fixed_param\")"
   ]
  },
  {
   "cell_type": "markdown",
   "metadata": {},
   "source": [
    "#### Plot output"
   ]
  },
  {
   "cell_type": "code",
   "execution_count": 24,
   "metadata": {},
   "outputs": [],
   "source": [
    "# Energies\n",
    "Esrc = simulation.extract(['Esrc'])['Esrc'][0]\n",
    "E = simulation.extract(['E'])['E'][0]\n",
    "Edet_sim = simulation.extract(['Edet'])['Edet'][0]\n",
    "\n",
    "# Arrival directions\n",
    "event = simulation.extract(['event'])['event'][0]\n",
    "event = Direction(event)\n",
    "e_ra = event.d.icrs.ra.rad\n",
    "e_dec = event.d.icrs.dec.rad\n",
    "\n",
    "true_dir = simulation.extract(['omega'])['omega'][0]\n",
    "true_dir = Direction(true_dir)\n",
    "e_t_ra = true_dir.d.icrs.ra.rad\n",
    "e_t_dec = true_dir.d.icrs.dec.rad\n",
    "\n",
    "source = Direction(varpi_in)\n",
    "s_ra = source.d.icrs.ra.rad\n",
    "s_dec = source.d.icrs.dec.rad\n",
    "\n",
    "# event type\n",
    "#event_type = simulation.extract(['event_type'])['event_type'][0]\n",
    "#zenith = simulation.extract(['zenith'])['zenith'][0]"
   ]
  },
  {
   "cell_type": "code",
   "execution_count": 25,
   "metadata": {},
   "outputs": [
    {
     "name": "stdout",
     "output_type": "stream",
     "text": [
      "Nsrc:  17\n",
      "Nbg:  7\n",
      "w_bg:  0.2916666666666667\n"
     ]
    }
   ],
   "source": [
    "lam = simulation.extract(['Lambda'])['Lambda'][0] - 1\n",
    "Nc = sim_inputs['Ns']\n",
    "label_cmap = plt.cm.get_cmap('plasma', Nc+2)\n",
    "\n",
    "lam = list(lam)\n",
    "Nsrc = sum([lam.count(_) for _ in range(int(Nc))])\n",
    "Nbg = lam.count(Nc) + lam.count(Nc+1)\n",
    "print('Nsrc: ', Nsrc)\n",
    "print('Nbg: ', Nbg)\n",
    "print('w_bg: ', Nbg / (Nbg+Nsrc))"
   ]
  },
  {
   "cell_type": "code",
   "execution_count": 26,
   "metadata": {},
   "outputs": [],
   "source": [
    "import matplotlib.patches as mpatches\n",
    "from matplotlib.collections import PatchCollection\n",
    "from matplotlib.colors import LinearSegmentedColormap"
   ]
  },
  {
   "cell_type": "code",
   "execution_count": 27,
   "metadata": {},
   "outputs": [
    {
     "data": {
      "text/plain": [
       "<matplotlib.lines.Line2D at 0x13cc39340>"
      ]
     },
     "execution_count": 27,
     "metadata": {},
     "output_type": "execute_result"
    },
    {
     "data": {
      "image/png": "[encoded data removed]",
      "text/plain": [
       "<Figure size 720x576 with 1 Axes>"
      ]
     },
     "metadata": {
      "needs_background": "light"
     },
     "output_type": "display_data"
    }
   ],
   "source": [
    "fig = plt.figure()\n",
    "fig.set_size_inches((10, 8))\n",
    "ax = fig.add_subplot(111, projection='hammer')\n",
    "\n",
    "circles = []\n",
    "for r, d, l in zip(e_ra, e_dec, lam):\n",
    "    color = label_cmap.colors[int(l)]\n",
    "    circles.append(mpatches.Circle((r-np.pi,d), 0.05, color=color, alpha=0.7))\n",
    "collection = PatchCollection(circles, match_original=True)    \n",
    "ax.add_collection(collection)   \n",
    "\n",
    "circles = []\n",
    "norm = max([1 - _/zth for _ in redshift])\n",
    "for r, d, z in zip(s_ra, s_dec, redshift):\n",
    "    circles.append(mpatches.Circle((r-np.pi,d), 0.05, color='k', alpha=(1-z/zth)/norm))\n",
    "collection = PatchCollection(circles, match_original=True)\n",
    "ax.add_collection(collection)\n",
    "ax.axhline(np.deg2rad(-5), color='k', linestyle=\":\")"
   ]
  },
  {
   "cell_type": "code",
   "execution_count": 28,
   "metadata": {},
   "outputs": [
    {
     "data": {
      "image/png": "[encoded data removed]",
      "text/plain": [
       "<Figure size 432x288 with 1 Axes>"
      ]
     },
     "metadata": {
      "needs_background": "light"
     },
     "output_type": "display_data"
    }
   ],
   "source": [
    "# Plot energies\n",
    "Edet_min = sim_inputs['Edet_min']\n",
    "bins = np.logspace(np.log(Edet_min/1000), np.log(1E+4*Edet_min), base = np.e)\n",
    "\n",
    "fig, ax = plt.subplots()\n",
    "ax.hist(E, bins=bins, label='$\\\\tilde{E}$', alpha=0.7);\n",
    "ax.hist(Edet_sim, bins=bins, label='$\\hat{E}$', alpha=0.7);\n",
    "ax.axvline(sim_inputs[\"Edet_min\"], color='k')\n",
    "ax.set_xscale('log')\n",
    "ax.set_yscale('log')\n",
    "ax.set_xlabel('$E$ / GeV')\n",
    "ax.legend();"
   ]
  },
  {
   "cell_type": "code",
   "execution_count": 29,
   "metadata": {},
   "outputs": [],
   "source": [
    "# save to file\n",
    "with h5py.File(\"output/test_data.h5\", 'w') as f:\n",
    "    f.create_dataset(\"Edet\", data=Edet_sim)\n",
    "    f.create_dataset(\"omega_det\", data=event.unit_vector)\n",
    "    for key, value in sim_inputs.items():\n",
    "        f.create_dataset(key, data=value)"
   ]
  },
  {
   "cell_type": "markdown",
   "metadata": {},
   "source": [
    "## Generate Stan code for fit (under testing)"
   ]
  },
  {
   "cell_type": "code",
   "execution_count": 33,
   "metadata": {},
   "outputs": [],
   "source": [
    "from python.backend.stan_generator import ParametersContext, TransformedParametersContext, ModelContext\n",
    "from python.backend.variable_definitions import ParameterDef, ParameterVectorDef"
   ]
  },
  {
   "cell_type": "code",
   "execution_count": 34,
   "metadata": {},
   "outputs": [
    {
     "name": "stderr",
     "output_type": "stream",
     "text": [
      "INFO:python.backend.code_generator:Object of type <python.backend.stan_generator.FunctionsContext object at 0x13ce9f1f0> already on stack\n",
      "INFO:python.backend.code_generator:Object of type <python.backend.stan_generator.FunctionsContext object at 0x13ce9f880> already on stack\n",
      "INFO:python.backend.code_generator:Object of type <python.backend.stan_generator.FunctionsContext object at 0x13ce9fd30> already on stack\n",
      "INFO:python.backend.code_generator:Object of type <python.backend.stan_generator.DefinitionContext object at 0x13ce9f850> already on stack\n",
      "INFO:python.backend.code_generator:Object of type <python.backend.stan_generator.DefinitionContext object at 0x13ce9fb80> already on stack\n",
      "INFO:python.backend.code_generator:Object of type <python.backend.stan_generator.DefinitionContext object at 0x13ce9f670> already on stack\n",
      "INFO:python.backend.code_generator:Object of type <python.backend.stan_generator.DefinitionContext object at 0x13ce9f490> already on stack\n",
      "INFO:python.backend.code_generator:Object of type <python.backend.stan_generator.FunctionsContext object at 0x13cf47340> already on stack\n",
      "INFO:python.backend.code_generator:Object of type <python.backend.stan_generator.FunctionsContext object at 0x13ce9f4c0> already on stack\n",
      "INFO:python.backend.code_generator:Object of type <python.backend.stan_generator.DefinitionContext object at 0x13cf476a0> already on stack\n",
      "INFO:python.backend.code_generator:Object of type <python.backend.stan_generator.DefinitionContext object at 0x13cf47580> already on stack\n",
      "INFO:python.backend.code_generator:Object of type <python.backend.stan_generator.FunctionsContext object at 0x13cea1af0> already on stack\n",
      "INFO:python.backend.code_generator:Object of type <python.backend.stan_generator.DefinitionContext object at 0x13cf47400> already on stack\n",
      "INFO:python.backend.code_generator:Object of type <python.backend.stan_generator.FunctionsContext object at 0x13cf13340> already on stack\n",
      "INFO:python.backend.code_generator:Object of type <python.backend.stan_generator.DefinitionContext object at 0x13cf13580> already on stack\n",
      "INFO:python.backend.code_generator:Object of type <python.backend.stan_generator.FunctionsContext object at 0x13cf13d00> already on stack\n",
      "INFO:python.backend.code_generator:Object of type <python.backend.stan_generator.DefinitionContext object at 0x13cf13e50> already on stack\n",
      "INFO:python.backend.code_generator:Object of type <python.backend.stan_generator.DefinitionContext object at 0x13cf13eb0> already on stack\n",
      "INFO:python.backend.code_generator:Object of type <python.backend.stan_generator.DefinitionContext object at 0x13ceb7190> already on stack\n",
      "INFO:python.backend.code_generator:Object of type <python.backend.stan_generator.DefinitionContext object at 0x13ceb7220> already on stack\n",
      "INFO:python.backend.code_generator:Object of type <python.backend.stan_generator.DefinitionContext object at 0x13ceb77f0> already on stack\n",
      "INFO:python.backend.code_generator:Object of type <python.backend.stan_generator.DefinitionContext object at 0x13ceb7850> already on stack\n",
      "INFO:python.backend.code_generator:Object of type <python.backend.stan_generator.DefinitionContext object at 0x13ceb78b0> already on stack\n",
      "INFO:python.backend.code_generator:Object of type <python.backend.stan_generator.DefinitionContext object at 0x13ceb7a30> already on stack\n",
      "INFO:python.backend.code_generator:Object of type <python.backend.stan_generator.DefinitionContext object at 0x13ceb79a0> already on stack\n",
      "INFO:python.backend.code_generator:Object of type <python.backend.stan_generator.DefinitionContext object at 0x13ceb78e0> already on stack\n",
      "INFO:python.backend.code_generator:Object of type <python.backend.stan_generator.DefinitionContext object at 0x13ceb7d30> already on stack\n",
      "INFO:python.backend.code_generator:Object of type <python.backend.stan_generator.DefinitionContext object at 0x13ceb7910> already on stack\n",
      "INFO:python.backend.code_generator:Object of type <python.backend.stan_generator.DefinitionContext object at 0x13ceb7bb0> already on stack\n",
      "INFO:python.backend.code_generator:Object of type <python.backend.stan_generator.DefinitionContext object at 0x13ceb7ee0> already on stack\n",
      "INFO:python.backend.code_generator:Object of type <python.backend.stan_generator.DefinitionContext object at 0x13ceb7d60> already on stack\n",
      "INFO:python.backend.code_generator:Object of type <python.backend.stan_generator.DefinitionContext object at 0x13ceb7940> already on stack\n",
      "INFO:python.backend.code_generator:Object of type <python.backend.stan_generator.DefinitionContext object at 0x13ceb73a0> already on stack\n",
      "INFO:python.backend.code_generator:Object of type <python.backend.stan_generator.DefinitionContext object at 0x13ceb7fa0> already on stack\n",
      "INFO:python.backend.code_generator:Object of type <python.backend.stan_generator.DefinitionContext object at 0x13ceb7c70> already on stack\n",
      "INFO:python.backend.code_generator:Object of type <python.backend.stan_generator.DefinitionContext object at 0x13ceb7fd0> already on stack\n",
      "INFO:python.backend.code_generator:Object of type <python.backend.stan_generator.DefinitionContext object at 0x13ceb8250> already on stack\n",
      "INFO:python.backend.code_generator:Object of type <python.backend.stan_generator.DefinitionContext object at 0x13ceb8130> already on stack\n",
      "INFO:python.backend.code_generator:Object of type <python.backend.stan_generator.DefinitionContext object at 0x13ceb8190> already on stack\n",
      "INFO:python.backend.code_generator:Object of type <python.backend.stan_generator.DefinitionContext object at 0x13ceb8520> already on stack\n",
      "INFO:python.backend.code_generator:Object of type <python.backend.stan_generator.DefinitionContext object at 0x13ceb8280> already on stack\n",
      "INFO:python.backend.code_generator:Object of type <python.backend.stan_generator.DefinitionContext object at 0x13ceb8790> already on stack\n",
      "INFO:python.backend.code_generator:Object of type <python.backend.stan_generator.DefinitionContext object at 0x13ceb85b0> already on stack\n",
      "INFO:python.backend.code_generator:Object of type <python.backend.stan_generator.DefinitionContext object at 0x13ceb8970> already on stack\n",
      "INFO:python.backend.code_generator:Object of type <python.backend.stan_generator.DefinitionContext object at 0x13ceb8850> already on stack\n",
      "INFO:python.backend.code_generator:Object of type <python.backend.stan_generator.DefinitionContext object at 0x13ceb8a60> already on stack\n",
      "INFO:python.backend.code_generator:Object of type <python.backend.stan_generator.DefinitionContext object at 0x13ceb8670> already on stack\n",
      "INFO:python.backend.code_generator:Object of type <python.backend.stan_generator.DefinitionContext object at 0x13ceb8c40> already on stack\n",
      "INFO:python.backend.code_generator:Object of type <python.backend.stan_generator.DefinitionContext object at 0x13ceb87c0> already on stack\n",
      "INFO:python.backend.code_generator:Object of type <python.backend.stan_generator.DefinitionContext object at 0x13ceb8a90> already on stack\n",
      "INFO:python.backend.code_generator:Object of type <python.backend.stan_generator.DefinitionContext object at 0x13ceb8df0> already on stack\n",
      "INFO:python.backend.code_generator:Object of type <python.backend.stan_generator.DefinitionContext object at 0x13ceb8c70> already on stack\n",
      "INFO:python.backend.code_generator:Object of type <python.backend.stan_generator.DefinitionContext object at 0x13ceb8a30> already on stack\n"
     ]
    }
   ],
   "source": [
    "with StanFileGenerator(\"stan_files/model_code\") as fit_gen:\n",
    "\n",
    "    with FunctionsContext() as fc:\n",
    "        _ = Include(\"utils.stan\")\n",
    "        _ = Include(\"vMF.stan\")\n",
    "        _ = Include(\"interpolation.stan\")\n",
    "        _ = Include(\"sim_functions.stan\")\n",
    "        ntd = NorthernTracksDetectorModel()\n",
    "        \n",
    "        flux_fac = source_list[0].flux_model.spectral_shape.make_stan_flux_conv_func(\"flux_conv\")\n",
    "        spectrum_lpdf = source_list[0].flux_model.spectral_shape.make_stan_lpdf_func(\"spectrum_logpdf\")\n",
    "        \n",
    "        atmu_nu_flux = atmo_bg_flux.make_stan_function(theta_points=30)\n",
    "        \n",
    "    with DataContext() as dc:\n",
    "        \n",
    "        # Neutrinos\n",
    "        N = ForwardVariableDef(\"N\", \"int\")\n",
    "        N_str = [\"[\", N, \"]\"]\n",
    "        omega_det = ForwardArrayDef(\"omega_det\", \"unit_vector[3]\", N_str)\n",
    "        Edet = ForwardVariableDef(\"Edet\", \"vector[N]\")\n",
    "        Esrc_min = ForwardVariableDef(\"Esrc_min\", \"real\")\n",
    "        Esrc_max = ForwardVariableDef(\"Esrc_max\", \"real\")\n",
    "        \n",
    "        # Sources\n",
    "        Ns = ForwardVariableDef(\"Ns\", \"int\")\n",
    "        Ns_str = [\"[\", Ns, \"]\"]\n",
    "        Ns_1p_str = [\"[\", Ns, \"+1]\"]\n",
    "        Ns_2p_str = [\"[\", Ns, \"+2]\"]\n",
    "        \n",
    "        varpi = ForwardArrayDef(\"varpi\", \"unit_vector[3]\", Ns_str)\n",
    "        D = ForwardVariableDef(\"D\", \"vector[Ns]\")\n",
    "        z = ForwardVariableDef(\"z\", \"vector[Ns+1]\")\n",
    "\n",
    "        # Precomputed quantities\n",
    "        Ngrid = ForwardVariableDef(\"Ngrid\", \"int\")\n",
    "        alpha_grid = ForwardVariableDef(\"alpha_grid\", \"vector[Ngrid]\")\n",
    "        integral_grid = ForwardArrayDef(\"integral_grid\", \n",
    "                                        \"vector[Ngrid]\", Ns_1p_str)\n",
    "        atmo_integ_val = ForwardVariableDef(\"atmo_integ_val\", \"real\")\n",
    "        Eg = ForwardVariableDef(\"E_grid\", \"vector[Ngrid]\")\n",
    "        Pg = ForwardArrayDef(\"Pdet_grid\", \"vector[Ngrid]\", Ns_2p_str)\n",
    "        \n",
    "        # Inputs\n",
    "        T = ForwardVariableDef(\"T\", \"real\")\n",
    "        \n",
    "        # Debugging\n",
    "        L_scale = ForwardVariableDef(\"L_scale\", \"real\")\n",
    "        F_diff_scale = ForwardVariableDef(\"F_diff_scale\", \"real\")\n",
    "        F_atmo_scale = ForwardVariableDef(\"F_atmo_scale\", \"real\")\n",
    "        F_tot_scale = ForwardVariableDef(\"F_tot_scale\", \"real\")\n",
    "        \n",
    "    with TransformedDataContext() as tdc:\n",
    "        \n",
    "        # Just to use it\n",
    "        StringExpression([\"print(\", Ngrid, \")\"])\n",
    "        #StringExpression([\"print(\", Eg, \")\"])  \n",
    "        #StringExpression([\"print(\", Pg, \")\"])  \n",
    "            \n",
    "    with ParametersContext() as pc:\n",
    "        \n",
    "        L = ParameterDef(\"L\", \"real\", 0.0, 1e55)\n",
    "        F_diff = ParameterDef(\"F_diff\", \"real\", 0.0, 1e-7)\n",
    "        F_atmo = ParameterDef(\"F_atmo\", \"real\", 0.0, 1e-7)\n",
    "        \n",
    "        alpha = ParameterDef(\"alpha\", \"real\", 1.0, 4.0)\n",
    "        \n",
    "        Esrc = ParameterVectorDef(\"Esrc\", \"vector\", N_str, Esrc_min, Esrc_max)\n",
    "        \n",
    "    with TransformedParametersContext() as tpc:\n",
    "        \n",
    "        Fsrc = ForwardVariableDef(\"Fsrc\", \"real\")\n",
    "        F = ForwardVariableDef(\"F\", \"vector[Ns+2]\")\n",
    "        eps = ForwardVariableDef(\"eps\", \"vector[Ns+2]\")\n",
    "        \n",
    "        f = ParameterDef(\"f\", \"real\", 0, 1)\n",
    "        Ftot = ParameterDef(\"Ftot\", \"real\", 0)\n",
    "        \n",
    "        lp = ForwardArrayDef(\"lp\", \"vector[Ns+2]\", N_str)\n",
    "        logF = ForwardVariableDef(\"logF\", \"vector[Ns+2]\")\n",
    "        Nex = ForwardVariableDef(\"Nex\", \"real\")\n",
    "        E = ForwardVariableDef(\"E\", \"vector[N]\")       \n",
    "        \n",
    "        # Debugging\n",
    "        diff = ForwardVariableDef(\"diff\", \"real\")\n",
    "        atmo = ForwardVariableDef(\"atmo\", \"real\")\n",
    "        \n",
    "        Fsrc << 0.0\n",
    "        with ForLoopContext(1, Ns, \"k\") as k:\n",
    "            F[k] << StringExpression([L, \"/ (4 * pi() * pow(\", \n",
    "                                      D[k], \" * \", 3.086e22, \", 2))\"])\n",
    "            StringExpression([F[k], \"*=\",  flux_fac(alpha, Esrc_min, Esrc_max)])\n",
    "            StringExpression([Fsrc, \"+=\", F[k]])   \n",
    "            \n",
    "        StringExpression(\"F[Ns+1]\") << F_diff\n",
    "        StringExpression(\"F[Ns+2]\") << F_atmo\n",
    "        \n",
    "        Ftot << F_diff + F_atmo + Fsrc\n",
    "        \n",
    "        f << StringExpression([Fsrc, \" / \", Ftot]) \n",
    "        \n",
    "        logF << StringExpression([\"log(\", F, \")\"])\n",
    "        \n",
    "        with ForLoopContext(1, N, \"i\") as i:\n",
    "            lp[i] << logF \n",
    "\n",
    "            with ForLoopContext(1, \"Ns+2\", \"k\") as k:\n",
    "                \n",
    "                # Point source components\n",
    "                with IfBlockContext([StringExpression([k, \" < \", Ns+1])]):\n",
    "                    StringExpression([lp[i][k], \" += \", \n",
    "                                      spectrum_lpdf(Esrc[i], alpha, \n",
    "                                                    Esrc_min, Esrc_max)])\n",
    "                    E[i] << StringExpression([Esrc[i], \" / (\",  1+z[k], \")\"])\n",
    "                    StringExpression([lp[i][k], \" += \", \n",
    "                                      ntd.angular_resolution(E[i], varpi[k],\n",
    "                                                             omega_det[i])])\n",
    "                \n",
    "                # Diffuse component\n",
    "                with ElseIfBlockContext([StringExpression([k, \" == \", Ns+1])]):\n",
    "                    diff << ( spectrum_lpdf(Esrc[i], alpha, Esrc_min, Esrc_max) \n",
    "                             + np.log(1/(4*np.pi)) )\n",
    "                    E[i] << StringExpression([Esrc[i], \" / (\",  1+z[k], \")\"])\n",
    "                    StringExpression([lp[i][k], \" += \", diff])\n",
    "                    #StringExpression([\"print(\\\"diff = \\\", \", diff, \")\"])\n",
    "                \n",
    "                # Atmospheric component\n",
    "                with ElseIfBlockContext([StringExpression([k, \" == \", Ns+2])]):\n",
    "                    atmo << FunctionCall([atmu_nu_flux( Esrc[i], omega_det[i])], \"log\")\n",
    "                    StringExpression([lp[i][k], \" += \", atmo])\n",
    "                    E[i] << Esrc[i]\n",
    "                    #StringExpression([\"print(\\\"atmo = \\\", \", atmo, \")\"])\n",
    "\n",
    "\n",
    "                \n",
    "                # Detection effects\n",
    "                StringExpression([lp[i][k], \" += \", \n",
    "                                  ntd.energy_resolution(E[i], Edet[i])])\n",
    "                StringExpression([lp[i][k], \" += log(interpolate(\", \n",
    "                                  Eg, \", \", Pg[k], \", \", E[i], \"))\"])\n",
    "        \n",
    "        eps << FunctionCall([alpha, alpha_grid, integral_grid, \n",
    "                             atmo_integ_val, T, Ns], \"get_exposure_factor\")\n",
    "        Nex << FunctionCall([F, eps], \"get_Nex\")\n",
    "        \n",
    "    with ModelContext() as mc:\n",
    "        \n",
    "        with ForLoopContext(1, N, \"i\") as i:\n",
    "            StringExpression([\"target += log_sum_exp(\", lp[i], \")\"])\n",
    "        StringExpression([\"target += -\", Nex])\n",
    "        \n",
    "        StringExpression([L, \" ~ normal(0, \", L_scale, \")\"])\n",
    "        StringExpression([F_diff, \" ~ normal(0, \", F_diff_scale, \")\"])\n",
    "        StringExpression([F_atmo, \" ~ \", FunctionCall([F_atmo_scale, 0.1*F_atmo_scale],\n",
    "                                                      \"normal\")])\n",
    "        StringExpression([Ftot, \" ~ \", FunctionCall([F_tot_scale, 0.5*F_tot_scale],\n",
    "                                                      \"normal\")])\n",
    "        StringExpression([alpha, \" ~ normal(2.0, 2.0)\"])\n",
    "        \n",
    "    model = fit_gen.generate_single_file()"
   ]
  },
  {
   "cell_type": "code",
   "execution_count": 35,
   "metadata": {},
   "outputs": [
    {
     "name": "stdout",
     "output_type": "stream",
     "text": [
      "Using cached StanModel\n"
     ]
    }
   ],
   "source": [
    "# Compile\n",
    "this_dir = os.path.abspath('')\n",
    "include_paths = [os.path.join(this_dir, \"stan_files/\")]\n",
    "model = stan_utility.compile_model(filename=fit_gen.filename,\n",
    "                                   include_paths=include_paths, \n",
    "                                   model_name=\"fit\")"
   ]
  },
  {
   "cell_type": "code",
   "execution_count": 36,
   "metadata": {},
   "outputs": [],
   "source": [
    "inputs = {}\n",
    "inputs[\"N\"] = len(Edet_sim)\n",
    "inputs[\"omega_det\"] = event.unit_vector\n",
    "inputs[\"Edet\"] = Edet_sim\n",
    "inputs[\"Ns\"] = source_list.N - 2\n",
    "\n",
    "inputs[\"z\"] = redshift\n",
    "inputs[\"D\"] = lum_dist[:-1]\n",
    "inputs[\"varpi\"] = varpi_in\n",
    "\n",
    "inputs[\"Edet_min\"] = sim_inputs[\"Edet_min\"]\n",
    "inputs[\"Esrc_min\"] = sim_inputs[\"Esrc_min\"]\n",
    "inputs[\"Esrc_max\"] = sim_inputs[\"Esrc_max\"]\n",
    "\n",
    "inputs[\"Ngrid\"] = sim_inputs[\"Ngrid\"]\n",
    "inputs[\"alpha_grid\"] = sim_inputs[\"alpha_grid\"]\n",
    "inputs[\"integral_grid\"] = sim_inputs[\"integral_grid\"]\n",
    "inputs[\"atmo_integ_val\"] = sim_inputs[\"atmo_integ_val\"]\n",
    "inputs[\"E_grid\"] = exposure_integral.energy_grid.value\n",
    "inputs[\"Pdet_grid\"] = np.array(exposure_integral.pdet_grid) + 1e-20\n",
    "inputs[\"L_scale\"] = sim_inputs[\"L\"]\n",
    "inputs[\"F_diff_scale\"] = sim_inputs[\"F_diff\"]\n",
    "inputs[\"F_atmo_scale\"] = sim_inputs[\"F_atmo\"]\n",
    "inputs[\"F_tot_scale\"] = sum(source_ints).value\n",
    "inputs[\"T\"] = sim_inputs[\"T\"]"
   ]
  },
  {
   "cell_type": "code",
   "execution_count": null,
   "metadata": {},
   "outputs": [],
   "source": [
    "# fit\n",
    "fit = model.sampling(data=inputs, iter=1000, chains=1, algorithm=\"NUTS\")"
   ]
  },
  {
   "cell_type": "code",
   "execution_count": null,
   "metadata": {},
   "outputs": [],
   "source": [
    "#fit"
   ]
  },
  {
   "cell_type": "code",
   "execution_count": null,
   "metadata": {},
   "outputs": [],
   "source": [
    "# View chains\n",
    "fig = fit.plot([r'L', r'F_diff', r'F_atmo', r'f', r'alpha', r'F', r\"Nex\"]);\n",
    "fig.set_size_inches(20, 16)\n",
    "fig.tight_layout()"
   ]
  },
  {
   "cell_type": "code",
   "execution_count": null,
   "metadata": {},
   "outputs": [],
   "source": [
    "# View corner plot\n",
    "chain = fit.extract(permuted = True)\n",
    "key_list = ['F_diff', 'F_atmo', 'L', 'Ftot', 'f', 'alpha']\n",
    "labels = [r'F_diff', 'F_atmo', r'L', r'Ftot', r'f', 'alpha']\n",
    "truths = [np.log10(sim_inputs['F_diff']), np.log10(sim_inputs['F_atmo']), \n",
    "          np.log10(sim_inputs['L']), np.log10((sum(source_ints)).value), \n",
    "          (sum(source_ints[:-2]) / sum(source_ints)).value, \n",
    "          sim_inputs['alpha']]\n",
    "\n",
    "corner.corner(np.column_stack([np.log10(chain['F_diff']), np.log10(chain['F_atmo']), \n",
    "                               np.log10(chain['L']), np.log10(chain['Ftot']), \n",
    "                               chain['f'], chain['alpha']]),\n",
    "              labels = labels, truths = truths);"
   ]
  },
  {
   "cell_type": "code",
   "execution_count": null,
   "metadata": {},
   "outputs": [],
   "source": [
    "#chain = fit.extract(permuted = True)\n",
    "logprob = chain['lp'].transpose(1, 2, 0)\n",
    "N = np.shape(logprob)[0]\n",
    "\n",
    "# Account for background components\n",
    "Ns = np.shape(logprob)[1] - 2\n",
    "labels = [\"src\", \"diff\", \"atmo\"]"
   ]
  },
  {
   "cell_type": "code",
   "execution_count": null,
   "metadata": {},
   "outputs": [],
   "source": [
    "# Calculate association probabilities for each source-neutrino combo\n",
    "nu_p = []\n",
    "for lp in logprob:\n",
    "    lps = []\n",
    "    for src in range(Ns+2):\n",
    "        lps.append(np.mean(np.exp(lp[src])))\n",
    "\n",
    "    norm = sum(lps)\n",
    "    ps = []\n",
    "    for src in range(Ns+2):\n",
    "        ps.append(lps[src] / norm)\n",
    "    nu_p.append(ps)\n",
    "\n",
    "# Normalise line weights\n",
    "pmax = max(max(nu_p))"
   ]
  },
  {
   "cell_type": "code",
   "execution_count": null,
   "metadata": {},
   "outputs": [],
   "source": [
    "# Check individual event classifications\n",
    "counter = 0\n",
    "wrong = []\n",
    "for i in range(len(nu_p)):\n",
    "    classified = np.where(nu_p[i] == np.max(nu_p[i]))[0][0] == int(lam[i])\n",
    "    #print(lam[i])\n",
    "    #print(\"Classification is\", classified)\n",
    "    if not classified:\n",
    "        counter += 1\n",
    "        wrong.append(i)\n",
    "        print(\"P(src) =\", nu_p[i][0])\n",
    "        print(\"P(diff) =\", nu_p[i][1])\n",
    "        print(\"P(atmo) =\", nu_p[i][2])\n",
    "        print(\"Actual component is\", labels[int(lam[i])])\n",
    "print(\"\")\n",
    "print(counter, \"events out of\", len(nu_p), \"misclassified\")"
   ]
  },
  {
   "cell_type": "code",
   "execution_count": null,
   "metadata": {},
   "outputs": [],
   "source": []
  }
 ],
 "metadata": {
  "kernelspec": {
   "display_name": "bayes",
   "language": "python",
   "name": "bayes"
  },
  "language_info": {
   "codemirror_mode": {
    "name": "ipython",
    "version": 3
   },
   "file_extension": ".py",
   "mimetype": "text/x-python",
   "name": "python",
   "nbconvert_exporter": "python",
   "pygments_lexer": "ipython3",
   "version": "3.8.5"
  }
 },
 "nbformat": 4,
 "nbformat_minor": 4
}
