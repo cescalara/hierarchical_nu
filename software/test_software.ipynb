{
 "cells": [
  {
   "cell_type": "markdown",
   "metadata": {},
   "source": [
    "# Testing software"
   ]
  },
  {
   "cell_type": "code",
   "execution_count": 1,
   "metadata": {
    "ExecuteTime": {
     "end_time": "2020-08-27T14:45:31.715996Z",
     "start_time": "2020-08-27T14:45:28.960443Z"
    }
   },
   "outputs": [],
   "source": [
    "import numpy as np\n",
    "from matplotlib import pyplot as plt\n",
    "import os\n",
    "import stan_utility\n",
    "import astropy.units as u\n",
    "%load_ext autoreload\n",
    "%autoreload 2\n",
    "import seaborn as sns\n",
    "from scipy.integrate import quad"
   ]
  },
  {
   "cell_type": "markdown",
   "metadata": {},
   "source": [
    "## Sources"
   ]
  },
  {
   "cell_type": "code",
   "execution_count": 2,
   "metadata": {
    "ExecuteTime": {
     "end_time": "2020-08-27T14:45:31.912626Z",
     "start_time": "2020-08-27T14:45:31.762850Z"
    }
   },
   "outputs": [],
   "source": [
    "from python.source.simple_source import PointSource, DiffuseSource, TestSourceList\n",
    "from python.source.flux_model import PowerLawSpectrum, IsotropicDiffuseBG\n",
    "from python.source.parameter import Parameter\n",
    "Parameter.clear_registry()\n",
    "from python.source.atmospheric_flux import AtmosphericNuMuFlux\n",
    "from python.backend.stan_generator import ParametersContext, TransformedParametersContext, ModelContext\n",
    "from python.backend.variable_definitions import ParameterDef, ParameterVectorDef"
   ]
  },
  {
   "cell_type": "code",
   "execution_count": 3,
   "metadata": {
    "ExecuteTime": {
     "end_time": "2020-08-27T14:45:32.088580Z",
     "start_time": "2020-08-27T14:45:31.915863Z"
    }
   },
   "outputs": [
    {
     "data": {
      "text/latex": [
       "$0.30188677 \\; \\mathrm{\\frac{1}{s\\,m^{2}}}$"
      ],
      "text/plain": [
       "<Quantity 0.30188677 1 / (m2 s)>"
      ]
     },
     "execution_count": 3,
     "metadata": {},
     "output_type": "execute_result"
    }
   ],
   "source": [
    "atmo_bg_flux = AtmosphericNuMuFlux(1E2 * u.GeV, 1E9 * u.GeV)\n",
    "atmo_bg_flux.total_flux_int"
   ]
  },
  {
   "cell_type": "code",
   "execution_count": 4,
   "metadata": {
    "ExecuteTime": {
     "end_time": "2020-08-27T14:45:33.749246Z",
     "start_time": "2020-08-27T14:45:33.712952Z"
    }
   },
   "outputs": [
    {
     "name": "stdout",
     "output_type": "stream",
     "text": [
      "1.0000000000000001e+55 erg / s\n",
      "Parameter test_norm = 6.242457975475833e-08 1 / (GeV m2 s)\n"
     ]
    }
   ],
   "source": [
    "source = PointSource.make_powerlaw_source(\n",
    "    \"test\", 0*u.rad, 0*u.rad, 1E55*u.erg/u.s, 2.2, 1, 1E2*u.GeV, 1E9*u.GeV)\n",
    "print(source.luminosity)\n",
    "print(source.parameters[\"norm\"])"
   ]
  },
  {
   "cell_type": "code",
   "execution_count": 5,
   "metadata": {
    "ExecuteTime": {
     "end_time": "2020-08-27T14:45:38.034733Z",
     "start_time": "2020-08-27T14:45:37.409206Z"
    }
   },
   "outputs": [],
   "source": [
    "# Loading from file\n",
    "source_file = '../dev/statistical_model/data/test_SFR_pop.h5'\n",
    "\n",
    "ps_norm = Parameter(0.5*1E-11 /u.GeV/u.m**2/u.s, \"ps_norm\", fixed=True, par_range=(0, np.inf))\n",
    "index = Parameter(2.1, \"index\", fixed=False, par_range=(1.1, 4))\n",
    "diffuse_norm = Parameter(1.44E-14 /u.GeV/u.m**2/u.s, \"diffuse_norm\", fixed=True, par_range=(0, np.inf))\n",
    "\n",
    "source_list = TestSourceList(source_file, spectral_shape=PowerLawSpectrum(ps_norm, 1E3*u.GeV, index, lower_energy=1E2*u.GeV, upper_energy=1E9*u.GeV))\n",
    "\n",
    "# Select sources below zth = 1\n",
    "zth = 1.0\n",
    "source_list.select_below_redshift(zth)\n",
    "\n",
    "# Add a diffuse background at z = 1\n",
    "\n",
    "diffuse_flux_model = IsotropicDiffuseBG(PowerLawSpectrum(diffuse_norm, 1E5*u.GeV, index, lower_energy=1E2*u.GeV, upper_energy=1E9*u.GeV))\n",
    "\n",
    "diffuse_bg = DiffuseSource('diffuse_bg', zth, flux_model=diffuse_flux_model)\n",
    "source_list.add(diffuse_bg)\n",
    "\n",
    "atmo_bg = DiffuseSource('atmo_bg', 0, flux_model=atmo_bg_flux)\n",
    "source_list.add(atmo_bg)"
   ]
  },
  {
   "cell_type": "code",
   "execution_count": 6,
   "metadata": {
    "ExecuteTime": {
     "end_time": "2020-08-27T14:45:38.215939Z",
     "start_time": "2020-08-27T14:45:38.037052Z"
    }
   },
   "outputs": [
    {
     "data": {
      "text/latex": [
       "$0.30188677 \\; \\mathrm{\\frac{1}{s\\,m^{2}}}$"
      ],
      "text/plain": [
       "<Quantity 0.30188677 1 / (m2 s)>"
      ]
     },
     "execution_count": 6,
     "metadata": {},
     "output_type": "execute_result"
    }
   ],
   "source": [
    "source_list[-1].flux_model.total_flux_int"
   ]
  },
  {
   "cell_type": "code",
   "execution_count": 7,
   "metadata": {
    "ExecuteTime": {
     "end_time": "2020-08-27T14:45:38.256283Z",
     "start_time": "2020-08-27T14:45:38.219441Z"
    }
   },
   "outputs": [
    {
     "data": {
      "text/latex": [
       "$2.6119797 \\times 10^{-6} \\; \\mathrm{\\frac{1}{s\\,m^{2}}}$"
      ],
      "text/plain": [
       "<Quantity 2.61197971e-06 1 / (m2 s)>"
      ]
     },
     "execution_count": 7,
     "metadata": {},
     "output_type": "execute_result"
    }
   ],
   "source": [
    "source_list[-2].flux_model.total_flux_int"
   ]
  },
  {
   "cell_type": "code",
   "execution_count": 8,
   "metadata": {
    "ExecuteTime": {
     "end_time": "2020-08-27T14:45:38.514854Z",
     "start_time": "2020-08-27T14:45:38.258903Z"
    }
   },
   "outputs": [],
   "source": [
    "source_ints = [source.flux_model.total_flux_int for source in source_list]"
   ]
  },
  {
   "cell_type": "code",
   "execution_count": 9,
   "metadata": {
    "ExecuteTime": {
     "end_time": "2020-08-27T14:45:38.552835Z",
     "start_time": "2020-08-27T14:45:38.517885Z"
    }
   },
   "outputs": [
    {
     "name": "stdout",
     "output_type": "stream",
     "text": [
      "0.4476983973700852\n"
     ]
    }
   ],
   "source": [
    "f = sum(source_ints[:-2]) / sum(source_ints[:-1])\n",
    "print(f)"
   ]
  },
  {
   "cell_type": "code",
   "execution_count": 10,
   "metadata": {
    "ExecuteTime": {
     "end_time": "2020-08-27T14:45:38.595137Z",
     "start_time": "2020-08-27T14:45:38.555679Z"
    }
   },
   "outputs": [
    {
     "name": "stdout",
     "output_type": "stream",
     "text": [
      "5e-12 1 / (GeV m2 s)\n",
      "1.6458997692407433e+46 erg / s\n"
     ]
    }
   ],
   "source": [
    "source_list.sources[0].parameters[\"index\"].value = 3\n",
    "print(source_list.sources[1].parameters[\"norm\"].value)\n",
    "print(source_list.sources[0].luminosity)"
   ]
  },
  {
   "cell_type": "markdown",
   "metadata": {},
   "source": [
    "## Precomputation"
   ]
  },
  {
   "cell_type": "code",
   "execution_count": 11,
   "metadata": {
    "ExecuteTime": {
     "end_time": "2020-08-27T14:45:39.421344Z",
     "start_time": "2020-08-27T14:45:39.390724Z"
    }
   },
   "outputs": [],
   "source": [
    "from python.precomputation import ExposureIntegral\n",
    "from python.detector_model import NorthernTracksDetectorModel"
   ]
  },
  {
   "cell_type": "code",
   "execution_count": 12,
   "metadata": {
    "ExecuteTime": {
     "end_time": "2020-08-27T14:45:45.567843Z",
     "start_time": "2020-08-27T14:45:40.331357Z"
    }
   },
   "outputs": [
    {
     "name": "stderr",
     "output_type": "stream",
     "text": [
      "INFO:python.backend.code_generator:Object of type <python.backend.stan_generator.FunctionsContext object at 0x1221a0b90> already on stack\n",
      "INFO:python.backend.code_generator:Object of type <python.backend.stan_generator.FunctionsContext object at 0x1221a6710> already on stack\n",
      "INFO:python.backend.code_generator:Object of type <python.backend.stan_generator.DefinitionContext object at 0x1221a6050> already on stack\n",
      "INFO:python.backend.code_generator:Object of type <python.backend.stan_generator.DefinitionContext object at 0x1221a6c50> already on stack\n",
      "INFO:python.backend.code_generator:Object of type <python.backend.stan_generator.DefinitionContext object at 0x1221a6650> already on stack\n",
      "INFO:python.backend.code_generator:Object of type <python.backend.stan_generator.DefinitionContext object at 0x1221a6dd0> already on stack\n",
      "INFO:python.backend.code_generator:Object of type <python.backend.stan_generator.FunctionsContext object at 0x1217e2590> already on stack\n",
      "INFO:python.backend.code_generator:Object of type <python.backend.stan_generator.FunctionsContext object at 0x1217e2710> already on stack\n",
      "INFO:python.backend.code_generator:Object of type <python.backend.stan_generator.DefinitionContext object at 0x122185850> already on stack\n",
      "INFO:python.backend.code_generator:Object of type <python.backend.stan_generator.DefinitionContext object at 0x122185cd0> already on stack\n"
     ]
    }
   ],
   "source": [
    "time = 8 * u.year # years -> not used rn\n",
    "Edet_min = 1.0e4 * u.GeV # GeV\n",
    "\n",
    "exposure_integral = ExposureIntegral(source_list, NorthernTracksDetectorModel, \n",
    "                                     time, Edet_min)\n",
    "\n",
    "exposure_integral()"
   ]
  },
  {
   "cell_type": "code",
   "execution_count": 13,
   "metadata": {
    "ExecuteTime": {
     "end_time": "2020-08-27T14:46:43.441817Z",
     "start_time": "2020-08-27T14:45:45.570794Z"
    }
   },
   "outputs": [
    {
     "data": {
      "text/latex": [
       "$140.5425 \\; \\mathrm{\\frac{1}{yr}}$"
      ],
      "text/plain": [
       "<Quantity 140.54250079 1 / yr>"
      ]
     },
     "execution_count": 13,
     "metadata": {},
     "output_type": "execute_result"
    }
   ],
   "source": [
    "exposure_integral.calculate_rate(source_list[-1]).to(1 / u.yr)"
   ]
  },
  {
   "cell_type": "code",
   "execution_count": 14,
   "metadata": {
    "ExecuteTime": {
     "end_time": "2020-08-27T14:46:43.769908Z",
     "start_time": "2020-08-27T14:46:43.444674Z"
    }
   },
   "outputs": [
    {
     "data": {
      "image/png": "[encoded data removed]",
      "text/plain": [
       "<Figure size 432x288 with 1 Axes>"
      ]
     },
     "metadata": {
      "needs_background": "light"
     },
     "output_type": "display_data"
    }
   ],
   "source": [
    "fig, ax = plt.subplots()\n",
    "for _ in exposure_integral.integral_grid:\n",
    "    ax.plot(exposure_integral.par_grids[\"index\"], _)"
   ]
  },
  {
   "cell_type": "code",
   "execution_count": 62,
   "metadata": {
    "ExecuteTime": {
     "end_time": "2020-08-27T16:00:51.192224Z",
     "start_time": "2020-08-27T16:00:51.156170Z"
    }
   },
   "outputs": [
    {
     "data": {
      "text/latex": [
       "$0 \\; \\mathrm{\\frac{m^{2}\\,s}{GeV}}$"
      ],
      "text/plain": [
       "<Quantity 0. m2 s / GeV>"
      ]
     },
     "execution_count": 62,
     "metadata": {},
     "output_type": "execute_result"
    }
   ],
   "source": [
    "exposure_integral.integral_grid[0][0]"
   ]
  },
  {
   "cell_type": "markdown",
   "metadata": {},
   "source": [
    "## Generate Stan code for simulation\n"
   ]
  },
  {
   "cell_type": "code",
   "execution_count": 26,
   "metadata": {
    "ExecuteTime": {
     "end_time": "2020-08-27T14:56:32.012108Z",
     "start_time": "2020-08-27T14:56:31.976595Z"
    }
   },
   "outputs": [],
   "source": [
    "from python.detector_model import NorthernTracksDetectorModel\n",
    "from python.backend.stan_generator import (\n",
    "    StanGenerator, GeneratedQuantitiesContext, DataContext, TransformedDataContext,\n",
    "    FunctionsContext, Include, ForLoopContext, StanFileGenerator, WhileLoopContext, FunctionCall, ModelContext, IfBlockContext, ElseIfBlockContext, ElseBlockContext)\n",
    "from python.backend.variable_definitions import ForwardVariableDef, ForwardArrayDef\n",
    "from python.backend.expression import StringExpression\n",
    "from python.backend.parameterizations import DistributionMode\n",
    "import logging\n",
    "logging.basicConfig(level=logging.WARN)"
   ]
  },
  {
   "cell_type": "markdown",
   "metadata": {},
   "source": [
    "### Test sampling functions"
   ]
  },
  {
   "cell_type": "code",
   "execution_count": 52,
   "metadata": {
    "ExecuteTime": {
     "end_time": "2020-08-27T15:31:19.124750Z",
     "start_time": "2020-08-27T15:31:19.030731Z"
    }
   },
   "outputs": [
    {
     "name": "stderr",
     "output_type": "stream",
     "text": [
      "INFO:python.backend.code_generator:Object of type <python.backend.stan_generator.FunctionsContext object at 0x12603b410> already on stack\n",
      "INFO:python.backend.code_generator:Object of type <python.backend.stan_generator.DefinitionContext object at 0x125a45e50> already on stack\n",
      "INFO:python.backend.code_generator:Object of type <python.backend.stan_generator.FunctionsContext object at 0x1248a1810> already on stack\n",
      "INFO:python.backend.code_generator:Object of type <python.backend.stan_generator.DefinitionContext object at 0x1248a14d0> already on stack\n",
      "INFO:python.backend.code_generator:Object of type <python.backend.stan_generator.FunctionsContext object at 0x125145410> already on stack\n",
      "INFO:python.backend.code_generator:Object of type <python.backend.stan_generator.FunctionsContext object at 0x12584aa10> already on stack\n",
      "INFO:python.backend.code_generator:Object of type <python.backend.stan_generator.DefinitionContext object at 0x110ae21d0> already on stack\n",
      "INFO:python.backend.code_generator:Object of type <python.backend.stan_generator.DefinitionContext object at 0x125e5ac10> already on stack\n",
      "INFO:python.backend.code_generator:Object of type <python.backend.stan_generator.DefinitionContext object at 0x125b99b50> already on stack\n",
      "INFO:python.backend.code_generator:Object of type <python.backend.stan_generator.DefinitionContext object at 0x1250db090> already on stack\n",
      "INFO:python.backend.code_generator:Object of type <python.backend.stan_generator.DefinitionContext object at 0x121fdf890> already on stack\n",
      "INFO:python.backend.code_generator:Object of type <python.backend.stan_generator.DefinitionContext object at 0x1257cda10> already on stack\n",
      "INFO:python.backend.code_generator:Object of type <python.backend.stan_generator.DefinitionContext object at 0x1257cd390> already on stack\n",
      "INFO:python.backend.code_generator:Object of type <python.backend.stan_generator.DefinitionContext object at 0x1257cd750> already on stack\n"
     ]
    }
   ],
   "source": [
    "Ns = 100000\n",
    "with StanFileGenerator(\"stan_files/test\") as cg:\n",
    "    with FunctionsContext() as fc:\n",
    "        _ = Include(\"utils.stan\")\n",
    "        _ = Include(\"interpolation.stan\")\n",
    "    \n",
    "    \n",
    "    spectrum_rng = source.flux_model.spectral_shape.make_stan_sampling_func(\"spectrum_rng\")\n",
    "    diffuse_flux_rng = diffuse_flux_model.make_stan_sampling_func(\"diffuse_bg_rng\")\n",
    "    atmu_nu_flux = atmo_bg_flux.make_stan_function(theta_points=20)\n",
    "        \n",
    "    with ParametersContext():\n",
    "        energy = ParameterDef(\"energy\", \"real\", 1E2, 1E9)\n",
    "        coszen = ParameterDef(\"coszen\", \"real\", -1, 1) \n",
    "        \n",
    "    with TransformedParametersContext():\n",
    "        omega = ForwardVariableDef(\"omega\", \"vector[3]\")\n",
    "        zen = ForwardVariableDef(\"zen\", \"real\")\n",
    "        sinzen = ForwardVariableDef(\"sinzen\", \"real\")\n",
    "        \n",
    "        zen << FunctionCall([coszen], \"acos\")\n",
    "        sinzen  << FunctionCall([zen], \"sin\")\n",
    "        \n",
    "        omega[1] << sinzen\n",
    "        omega[2] << 0\n",
    "        omega[3] << coszen\n",
    "        \n",
    "    with ModelContext():\n",
    "        \n",
    "        logflux = FunctionCall([atmu_nu_flux(energy, omega)], \"log\")\n",
    "        StringExpression([\"target += \", logflux])\n",
    "        \n",
    "    with GeneratedQuantitiesContext():\n",
    "        pl_samples = ForwardVariableDef(\"pl_samples\", \"real\")\n",
    "        diffuse_events = ForwardVariableDef(\"diffuse_events\", \"vector[3]\") \n",
    "\n",
    "        #with ForLoopContext(1, Ns, \"i\") as i:\n",
    "        pl_samples << spectrum_rng(2, 1E2, 1E9)\n",
    "        diffuse_events << diffuse_flux_rng(2, 1E2, 1E9)\n",
    "        \n",
    "model = cg.generate_single_file()"
   ]
  },
  {
   "cell_type": "code",
   "execution_count": 53,
   "metadata": {
    "ExecuteTime": {
     "end_time": "2020-08-27T15:33:31.485686Z",
     "start_time": "2020-08-27T15:31:19.559123Z"
    }
   },
   "outputs": [
    {
     "name": "stderr",
     "output_type": "stream",
     "text": [
      "INFO:pystan:COMPILING THE C++ CODE FOR MODEL test_4c5f4c066a4dfb9ae47ac72cf5635b62 NOW.\n"
     ]
    }
   ],
   "source": [
    "# Compile\n",
    "this_dir = os.path.abspath('')\n",
    "include_paths = [os.path.join(this_dir, \n",
    "                              \"../dev/statistical_model/4_tracks_and_cascades/stan/\")]\n",
    "\n",
    "sm = stan_utility.compile_model(filename=cg.filename, include_paths=include_paths, \n",
    "                                model_name=\"test\")"
   ]
  },
  {
   "cell_type": "code",
   "execution_count": 54,
   "metadata": {
    "ExecuteTime": {
     "end_time": "2020-08-27T15:34:26.151068Z",
     "start_time": "2020-08-27T15:34:25.484474Z"
    }
   },
   "outputs": [
    {
     "name": "stderr",
     "output_type": "stream",
     "text": [
      "WARNING:pystan:n_eff / iter below 0.001 indicates that the effective sample size has likely been overestimated\n",
      "WARNING:pystan:Rhat above 1.1 or below 0.9 indicates that the chains very likely have not mixed\n"
     ]
    }
   ],
   "source": [
    "simulation = sm.sampling(data={}, iter=1000, chains=1, \n",
    "                         algorithm=\"NUTS\")"
   ]
  },
  {
   "cell_type": "markdown",
   "metadata": {},
   "source": [
    "#### Diffuse events"
   ]
  },
  {
   "cell_type": "code",
   "execution_count": 55,
   "metadata": {
    "ExecuteTime": {
     "end_time": "2020-08-27T15:34:27.641436Z",
     "start_time": "2020-08-27T15:34:26.879951Z"
    }
   },
   "outputs": [
    {
     "data": {
      "image/png": "[encoded data removed]",
      "text/plain": [
       "<Figure size 720x288 with 2 Axes>"
      ]
     },
     "metadata": {
      "needs_background": "light"
     },
     "output_type": "display_data"
    }
   ],
   "source": [
    "events = simulation.extract([\"diffuse_events\"])[\"diffuse_events\"]\n",
    "fig, axs = plt.subplots(1, 2, figsize=(10, 4))\n",
    "sns.distplot(np.log10(events[:, 0]), kde=False, ax = axs[0])\n",
    "axs[0].set_yscale(\"log\")\n",
    "axs[0].set_xlabel(\"log10(Energy / GeV)\")\n",
    "axs[1].set_xlabel(\"sin(dec)\")\n",
    "sns.distplot(np.sin(events[:, 1]), kde=False, ax = axs[1])\n",
    "plt.tight_layout()"
   ]
  },
  {
   "cell_type": "markdown",
   "metadata": {},
   "source": [
    "#### Atmo events"
   ]
  },
  {
   "cell_type": "code",
   "execution_count": 56,
   "metadata": {
    "ExecuteTime": {
     "end_time": "2020-08-27T15:34:30.002238Z",
     "start_time": "2020-08-27T15:34:29.067942Z"
    }
   },
   "outputs": [
    {
     "data": {
      "text/plain": [
       "[]"
      ]
     },
     "execution_count": 56,
     "metadata": {},
     "output_type": "execute_result"
    },
    {
     "data": {
      "image/png": "[encoded data removed]",
      "text/plain": [
       "<Figure size 720x288 with 2 Axes>"
      ]
     },
     "metadata": {
      "needs_background": "light"
     },
     "output_type": "display_data"
    }
   ],
   "source": [
    "atmo_events = simulation.extract([\"energy\", \"coszen\"])\n",
    "fig, axs = plt.subplots(1, 2, figsize=(10, 4))\n",
    "sns.distplot(np.log10(atmo_events[\"energy\"]), kde=False, ax = axs[0])\n",
    "axs[0].set_yscale(\"log\")\n",
    "axs[0].set_xlabel(\"log10(Energy / GeV)\")\n",
    "axs[1].set_xlabel(\"cos(zen)\")\n",
    "sns.distplot(atmo_events[\"coszen\"], kde=False, ax = axs[1])\n",
    "plt.tight_layout()\n",
    "plt.semilogy()"
   ]
  },
  {
   "cell_type": "markdown",
   "metadata": {},
   "source": [
    "#### Compare sampled energies to true spectrum integrated over dOmega"
   ]
  },
  {
   "cell_type": "code",
   "execution_count": 57,
   "metadata": {
    "ExecuteTime": {
     "end_time": "2020-08-27T15:34:32.245329Z",
     "start_time": "2020-08-27T15:34:32.215283Z"
    }
   },
   "outputs": [
    {
     "data": {
      "text/plain": [
       "-1.0"
      ]
     },
     "execution_count": 57,
     "metadata": {},
     "output_type": "execute_result"
    }
   ],
   "source": [
    "np.sin(-np.pi/2)"
   ]
  },
  {
   "cell_type": "code",
   "execution_count": 58,
   "metadata": {
    "ExecuteTime": {
     "end_time": "2020-08-27T15:34:34.979212Z",
     "start_time": "2020-08-27T15:34:33.367283Z"
    }
   },
   "outputs": [
    {
     "data": {
      "text/plain": [
       "[]"
      ]
     },
     "execution_count": 58,
     "metadata": {},
     "output_type": "execute_result"
    },
    {
     "data": {
      "image/png": "[encoded data removed]",
      "text/plain": [
       "<Figure size 432x288 with 1 Axes>"
      ]
     },
     "metadata": {
      "needs_background": "light"
     },
     "output_type": "display_data"
    },
    {
     "data": {
      "image/png": "[encoded data removed]",
      "text/plain": [
       "<Figure size 432x288 with 1 Axes>"
      ]
     },
     "metadata": {
      "needs_background": "light"
     },
     "output_type": "display_data"
    }
   ],
   "source": [
    "energies = np.logspace(2, 9, 50)\n",
    "coszens = np.linspace(-1, 1, 100)\n",
    "\n",
    "dec = -np.arcsin(coszens)\n",
    "for e in energies[:10]:\n",
    "    plt.plot(coszens, atmo_bg_flux(e * u.GeV, dec * u.rad, 0*u.rad))\n",
    "plt.semilogy()\n",
    "plt.figure()\n",
    "\n",
    "plt.plot(energies, atmo_bg_flux.total_flux(energies * u.GeV))\n",
    "plt.loglog()\n",
    "\n"
   ]
  },
  {
   "cell_type": "code",
   "execution_count": 59,
   "metadata": {
    "ExecuteTime": {
     "end_time": "2020-08-27T15:34:39.835036Z",
     "start_time": "2020-08-27T15:34:35.655925Z"
    }
   },
   "outputs": [
    {
     "data": {
      "text/plain": [
       "Text(0, 0.5, 'Prob. per log bin')"
      ]
     },
     "execution_count": 59,
     "metadata": {},
     "output_type": "execute_result"
    },
    {
     "data": {
      "image/png": "[encoded data removed]",
      "text/plain": [
       "<Figure size 432x288 with 1 Axes>"
      ]
     },
     "metadata": {
      "needs_background": "light"
     },
     "output_type": "display_data"
    }
   ],
   "source": [
    "energies = np.logspace(2, 9, 100) << u.GeV\n",
    "log_bins = np.linspace(2, 4, 50) \n",
    "\n",
    "integrate_per_log = atmo_bg_flux.integral(\n",
    "    10**log_bins[:-1] * u.GeV, 10**log_bins[1:] * u.GeV,\n",
    "    (-np.pi/2) * u.rad, (np.pi/2) * u.rad,\n",
    "    0 * u.rad, 2*np.pi * u.rad) / np.diff(log_bins) / atmo_bg_flux.total_flux_int\n",
    "\n",
    "fluxes = atmo_bg_flux.total_flux(energies) / atmo_bg_flux.total_flux_int\n",
    "\n",
    "sns.distplot(np.log10(atmo_events[\"energy\"]), kde=False, norm_hist=True, label=\"Energy Samples\")\n",
    "plt.step(log_bins, np.append(integrate_per_log, integrate_per_log[-1]), where=\"post\", label=\"True Spectrum\")\n",
    "plt.semilogy()\n",
    "plt.legend()\n",
    "plt.xlabel(\"log10(Energy / GeV)\")\n",
    "plt.ylabel(\"Prob. per log bin\")"
   ]
  },
  {
   "cell_type": "markdown",
   "metadata": {},
   "source": [
    "## Old simulation"
   ]
  },
  {
   "cell_type": "code",
   "execution_count": 84,
   "metadata": {
    "ExecuteTime": {
     "end_time": "2020-08-27T16:30:09.771030Z",
     "start_time": "2020-08-27T16:30:09.569621Z"
    }
   },
   "outputs": [
    {
     "name": "stderr",
     "output_type": "stream",
     "text": [
      "INFO:python.backend.code_generator:Object of type <python.backend.stan_generator.DefinitionContext object at 0x12694d050> already on stack\n",
      "INFO:python.backend.code_generator:Object of type <python.backend.stan_generator.DefinitionContext object at 0x12694d7d0> already on stack\n",
      "INFO:python.backend.code_generator:Object of type <python.backend.stan_generator.DefinitionContext object at 0x12694d710> already on stack\n",
      "INFO:python.backend.code_generator:Object of type <python.backend.stan_generator.DefinitionContext object at 0x12694d250> already on stack\n",
      "INFO:python.backend.code_generator:Object of type <python.backend.stan_generator.DefinitionContext object at 0x12694d4d0> already on stack\n",
      "INFO:python.backend.code_generator:Object of type <python.backend.stan_generator.DefinitionContext object at 0x12694d290> already on stack\n",
      "INFO:python.backend.code_generator:Object of type <python.backend.stan_generator.DefinitionContext object at 0x12694d590> already on stack\n",
      "INFO:python.backend.code_generator:Object of type <python.backend.stan_generator.DefinitionContext object at 0x12694d690> already on stack\n",
      "INFO:python.backend.code_generator:Object of type <python.backend.stan_generator.DefinitionContext object at 0x12694d550> already on stack\n",
      "INFO:python.backend.code_generator:Object of type <python.backend.stan_generator.DefinitionContext object at 0x12694d090> already on stack\n",
      "INFO:python.backend.code_generator:Object of type <python.backend.stan_generator.DefinitionContext object at 0x12694d190> already on stack\n",
      "INFO:python.backend.code_generator:Object of type <python.backend.stan_generator.DefinitionContext object at 0x12592f990> already on stack\n",
      "INFO:python.backend.code_generator:Object of type <python.backend.stan_generator.DefinitionContext object at 0x12592f890> already on stack\n",
      "INFO:python.backend.code_generator:Object of type <python.backend.stan_generator.DefinitionContext object at 0x12592f190> already on stack\n",
      "INFO:python.backend.code_generator:Object of type <python.backend.stan_generator.DefinitionContext object at 0x12592f7d0> already on stack\n",
      "INFO:python.backend.code_generator:Object of type <python.backend.stan_generator.DefinitionContext object at 0x12592f850> already on stack\n",
      "INFO:python.backend.code_generator:Object of type <python.backend.stan_generator.DefinitionContext object at 0x12592f510> already on stack\n",
      "INFO:python.backend.code_generator:Object of type <python.backend.stan_generator.DefinitionContext object at 0x12592f2d0> already on stack\n",
      "INFO:python.backend.code_generator:Object of type <python.backend.stan_generator.FunctionsContext object at 0x126f35e90> already on stack\n",
      "INFO:python.backend.code_generator:Object of type <python.backend.stan_generator.FunctionsContext object at 0x126f35490> already on stack\n",
      "INFO:python.backend.code_generator:Object of type <python.backend.stan_generator.FunctionsContext object at 0x124e8de10> already on stack\n",
      "INFO:python.backend.code_generator:Object of type <python.backend.stan_generator.DefinitionContext object at 0x12592b810> already on stack\n",
      "INFO:python.backend.code_generator:Object of type <python.backend.stan_generator.DefinitionContext object at 0x12592b550> already on stack\n",
      "INFO:python.backend.code_generator:Object of type <python.backend.stan_generator.DefinitionContext object at 0x12592b310> already on stack\n",
      "INFO:python.backend.code_generator:Object of type <python.backend.stan_generator.DefinitionContext object at 0x12592b210> already on stack\n",
      "INFO:python.backend.code_generator:Object of type <python.backend.stan_generator.FunctionsContext object at 0x12592bf10> already on stack\n",
      "INFO:python.backend.code_generator:Object of type <python.backend.stan_generator.FunctionsContext object at 0x124e8d450> already on stack\n",
      "INFO:python.backend.code_generator:Object of type <python.backend.stan_generator.FunctionsContext object at 0x126f2f4d0> already on stack\n",
      "INFO:python.backend.code_generator:Object of type <python.backend.stan_generator.DefinitionContext object at 0x121e854d0> already on stack\n",
      "INFO:python.backend.code_generator:Object of type <python.backend.stan_generator.DefinitionContext object at 0x121d39990> already on stack\n",
      "INFO:python.backend.code_generator:Object of type <python.backend.stan_generator.DefinitionContext object at 0x12604cd50> already on stack\n",
      "INFO:python.backend.code_generator:Object of type <python.backend.stan_generator.DefinitionContext object at 0x126f2ffd0> already on stack\n",
      "INFO:python.backend.code_generator:Object of type <python.backend.stan_generator.FunctionsContext object at 0x124e71690> already on stack\n",
      "INFO:python.backend.code_generator:Object of type <python.backend.stan_generator.FunctionsContext object at 0x124e71cd0> already on stack\n",
      "INFO:python.backend.code_generator:Object of type <python.backend.stan_generator.DefinitionContext object at 0x121fc6e50> already on stack\n",
      "INFO:python.backend.code_generator:Object of type <python.backend.stan_generator.DefinitionContext object at 0x121fc66d0> already on stack\n",
      "INFO:python.backend.code_generator:Object of type <python.backend.stan_generator.DefinitionContext object at 0x121fc69d0> already on stack\n",
      "INFO:python.backend.code_generator:Object of type <python.backend.stan_generator.DefinitionContext object at 0x121fc6ad0> already on stack\n",
      "INFO:python.backend.code_generator:Object of type <python.backend.stan_generator.DefinitionContext object at 0x121fc6210> already on stack\n",
      "INFO:python.backend.code_generator:Object of type <python.backend.stan_generator.DefinitionContext object at 0x121fc6e90> already on stack\n",
      "INFO:python.backend.code_generator:Object of type <python.backend.stan_generator.DefinitionContext object at 0x121fc6610> already on stack\n",
      "INFO:python.backend.code_generator:Object of type <python.backend.stan_generator.DefinitionContext object at 0x121fc6ed0> already on stack\n",
      "INFO:python.backend.code_generator:Object of type <python.backend.stan_generator.DefinitionContext object at 0x1260577d0> already on stack\n",
      "INFO:python.backend.code_generator:Object of type <python.backend.stan_generator.DefinitionContext object at 0x126057890> already on stack\n",
      "INFO:python.backend.code_generator:Object of type <python.backend.stan_generator.DefinitionContext object at 0x1260578d0> already on stack\n",
      "INFO:python.backend.code_generator:Object of type <python.backend.stan_generator.DefinitionContext object at 0x126057150> already on stack\n",
      "INFO:python.backend.code_generator:Object of type <python.backend.stan_generator.DefinitionContext object at 0x126057bd0> already on stack\n"
     ]
    }
   ],
   "source": [
    "with StanFileGenerator(\"stan_files/sim_code\") as cg:\n",
    "    \n",
    "    with FunctionsContext() as fc:\n",
    "        _ = Include(\"utils.stan\")\n",
    "        _ = Include(\"vMF.stan\")\n",
    "        _ = Include(\"interpolation.stan\")\n",
    "        _ = Include(\"sim_functions.stan\")\n",
    "        _ = Include(\"energy_spectrum.stan\")\n",
    "            \n",
    "    with DataContext() as dc:\n",
    "        \n",
    "        # Sources\n",
    "        Ns = ForwardVariableDef(\"Ns\", \"int\")\n",
    "        Ns_str = [\"[\", Ns, \"]\"]\n",
    "        Ns_1p_str = [\"[\", Ns, \"+1]\"]\n",
    "        \n",
    "        varpi = ForwardArrayDef(\"varpi\", \"unit_vector[3]\", Ns_str)\n",
    "        D = ForwardVariableDef(\"D\", \"vector[Ns]\")\n",
    "        z = ForwardVariableDef(\"z\", \"vector[Ns+1]\")\n",
    "        \n",
    "        # Energies\n",
    "        alpha = ForwardVariableDef(\"alpha\", \"real\")\n",
    "        Emin = ForwardVariableDef(\"Emin\", \"real\")\n",
    "        \n",
    "        # Luminosity/ diffuse flux\n",
    "        L = ForwardVariableDef(\"L\", \"real\")\n",
    "        F0 = ForwardVariableDef(\"F0\", \"real\")\n",
    "        \n",
    "        # Precomputed quantities\n",
    "        Ngrid = ForwardVariableDef(\"Ngrid\", \"int\")\n",
    "        Ngrid_str = [\"[\", Ngrid, \"]\"]\n",
    "        alpha_grid = ForwardVariableDef(\"alpha_grid\", \"vector[Ngrid]\")\n",
    "        integral_grid = ForwardArrayDef(\"integral_grid\", \n",
    "                                        \"vector[Ngrid]\", Ns_1p_str)\n",
    "        aeff_max = ForwardVariableDef(\"aeff_max\", \"real\")\n",
    "        \n",
    "    with TransformedDataContext() as tdc:\n",
    "        F = ForwardVariableDef(\"F\", \"vector[Ns+1]\")\n",
    "        FT = ForwardVariableDef(\"FT\", \"real\")\n",
    "        Fs = ForwardVariableDef(\"Fs\", \"real\")\n",
    "        f = ForwardVariableDef(\"f\", \"real\")\n",
    "        w_exposure = ForwardVariableDef(\"w_exposure\", \"simplex[Ns+1]\")\n",
    "        Nex = ForwardVariableDef(\"Nex\", \"real\")\n",
    "        N = ForwardVariableDef(\"N\", \"int\")\n",
    "        eps = ForwardVariableDef(\"eps\", \"vector[Ns+1]\")\n",
    "        \n",
    "        with ForLoopContext(1, Ns, \"k\") as k:\n",
    "            F[k] << StringExpression([L, \"/ (4 * pi() * pow(\", \n",
    "                                         D[k], \" * \", 3.086e22, \", 2))\"])\n",
    "            StringExpression([Fs,\" += \", F[k]])\n",
    "        \n",
    "        StringExpression(\"F[Ns+1]\") << F0\n",
    "        \n",
    "        FT << Fs + FT\n",
    "        f << StringExpression([Fs, \"/\", FT])\n",
    "        \n",
    "        eps << StringExpression([\"get_exposure_factor(\", alpha, \n",
    "                                 \", \", alpha_grid, \", \", integral_grid, \", \", Ns, \")\"])\n",
    "        Nex << StringExpression([\"get_Nex(\", F, \", \", eps, \")\"])\n",
    "        w_exposure << StringExpression([\"get_exposure_weights(\", F, \", \", \n",
    "                                              eps, \")\"])\n",
    "        N << StringExpression([\"poisson_rng(\", Nex, \")\"])\n",
    "        StringExpression([\"print(\", w_exposure, \")\"])\n",
    "        StringExpression([\"print(\", Ngrid, \")\"])\n",
    "        StringExpression([\"print(\", Nex, \")\"])\n",
    "        StringExpression([\"print(\", N, \")\"])\n",
    "        \n",
    "    with GeneratedQuantitiesContext() as gqc:\n",
    "        ntd_rng = NorthernTracksDetectorModel(mode=DistributionMode.RNG)\n",
    "        ntd_pdf = NorthernTracksDetectorModel(mode=DistributionMode.PDF) \n",
    "        \n",
    "        N_str = [\"[\", N, \"]\"]\n",
    "        lam = ForwardArrayDef(\"Lambda\", \"int\", N_str)\n",
    "        omega = ForwardVariableDef(\"omega\", \"unit_vector[3]\")\n",
    "        \n",
    "        Esrc = ForwardVariableDef(\"Esrc\", \"vector[N]\")\n",
    "        E = ForwardVariableDef(\"E\", \"vector[N]\")\n",
    "        Edet = ForwardVariableDef(\"Edet\", \"vector[N]\")\n",
    "        \n",
    "        cosz = ForwardArrayDef(\"cosz\", \"real\", N_str)\n",
    "        Pdet = ForwardArrayDef(\"Pdet\", \"real\", N_str)\n",
    "        accept = ForwardVariableDef(\"accept\", \"int\")\n",
    "        ntrials = ForwardVariableDef(\"ntrials\", \"int\")\n",
    "        prob = ForwardVariableDef(\"prob\", \"simplex[2]\")\n",
    "        \n",
    "        event = ForwardArrayDef(\"event\", \"unit_vector[3]\", N_str)\n",
    "        Nex_sim = ForwardVariableDef(\"Nex_sim\", \"real\")\n",
    "        \n",
    "        Nex_sim << Nex\n",
    "\n",
    "        with ForLoopContext(1, N, \"i\") as i:\n",
    "            \n",
    "            lam[i] << StringExpression([\"categorical_rng(\", w_exposure,\")\"])\n",
    "            \n",
    "            accept << 0\n",
    "            ntrials << 0\n",
    "            \n",
    "            with WhileLoopContext([accept != 1]):\n",
    "                with IfBlockContext([StringExpression([lam[i], \"<\", Ns + 1])]):\n",
    "                    omega << varpi[lam[i]]\n",
    "                with ElseIfBlockContext([lam[i] == Ns + 1]):\n",
    "                    omega << FunctionCall([1], \"sphere_rng\")\n",
    "                cosz[i] << FunctionCall([FunctionCall([omega], \"omega_to_zenith\")], \"cos\")\n",
    "\n",
    "                # Sample energy\n",
    "\n",
    "                Esrc[i] << FunctionCall([alpha, Emin *\n",
    "                                         (1 + z[lam[i]])], \"spectrum_rng\")\n",
    "                E[i] << Esrc[i] / (1 + z[lam[i]])\n",
    "\n",
    "                # Test against Aeff\n",
    "                with IfBlockContext([StringExpression([cosz[i], \">= 0.1\"])]):\n",
    "                    Pdet[i] << 0\n",
    "                with ElseBlockContext():\n",
    "                    Pdet[i] << ntd_pdf.effective_area(E[i], omega) / aeff_max\n",
    "\n",
    "                prob[1] << Pdet[i]\n",
    "                prob[2] << 1 - Pdet[i]\n",
    "                StringExpression([ntrials, \" += \", 1])\n",
    "                # StringExpression([\"print(\", Pdet[i], \")\"])\n",
    "                with IfBlockContext([StringExpression([ntrials, \"< 10000\"])]):\n",
    "                    accept << FunctionCall([prob], \"categorical_rng\")\n",
    "                with ElseBlockContext():\n",
    "                    accept << 1\n",
    "                    StringExpression([\"print(\\\"problem component: \\\", \", lam[i], \");\\n\"])\n",
    "\n",
    "                #accept << StringExpression([\"categorical_rng(\", prob, \")\"])\n",
    "            \n",
    "            # Detection effects\n",
    "            event[i] << ntd_rng.angular_resolution(E[i], omega)\n",
    "            Edet[i] << ntd_rng.energy_resolution(E[i])\n",
    "\n",
    "\n",
    "    sim = cg.generate_single_file()"
   ]
  },
  {
   "cell_type": "code",
   "execution_count": 85,
   "metadata": {
    "ExecuteTime": {
     "end_time": "2020-08-27T16:32:37.952689Z",
     "start_time": "2020-08-27T16:30:10.240418Z"
    }
   },
   "outputs": [
    {
     "name": "stderr",
     "output_type": "stream",
     "text": [
      "INFO:pystan:COMPILING THE C++ CODE FOR MODEL sim_1fb670af2bff8eddc269d1f1b4f8bf45 NOW.\n"
     ]
    }
   ],
   "source": [
    "# Compile\n",
    "this_dir = os.path.abspath('')\n",
    "include_paths = [os.path.join(this_dir, \n",
    "                              \"../dev/statistical_model/4_tracks_and_cascades/stan/\")]\n",
    "\n",
    "sm = stan_utility.compile_model(filename=cg.filename, include_paths=include_paths, \n",
    "                                model_name=\"sim\")"
   ]
  },
  {
   "cell_type": "markdown",
   "metadata": {},
   "source": [
    "## Simulation"
   ]
  },
  {
   "cell_type": "code",
   "execution_count": 86,
   "metadata": {
    "ExecuteTime": {
     "end_time": "2020-08-27T16:32:37.992673Z",
     "start_time": "2020-08-27T16:32:37.956348Z"
    }
   },
   "outputs": [],
   "source": [
    "from python.source.cosmology import luminosity_distance"
   ]
  },
  {
   "cell_type": "code",
   "execution_count": 87,
   "metadata": {
    "ExecuteTime": {
     "end_time": "2020-08-27T16:32:38.031267Z",
     "start_time": "2020-08-27T16:32:37.996051Z"
    }
   },
   "outputs": [],
   "source": [
    "def to_unit_vector(dec, ra):\n",
    "    theta = dec + np.pi/2\n",
    "    x = np.sin(theta) * np.cos(ra)\n",
    "    y = np.sin(theta) * np.sin(ra)\n",
    "    z = np.cos(theta)\n",
    "    return [x, y, z]"
   ]
  },
  {
   "cell_type": "code",
   "execution_count": 88,
   "metadata": {
    "ExecuteTime": {
     "end_time": "2020-08-27T16:32:40.024873Z",
     "start_time": "2020-08-27T16:32:39.987106Z"
    }
   },
   "outputs": [],
   "source": [
    "redshift = [source_list.sources[i].redshift for i in range(source_list.N)]\n",
    "lum_dist = [luminosity_distance(_) for _ in redshift]\n",
    "varpi_in = np.asarray([to_unit_vector(source_list.sources[i].dec.value,\n",
    "                                   source_list.sources[i].ra.value) for i in range(source_list.N-2)])"
   ]
  },
  {
   "cell_type": "code",
   "execution_count": 90,
   "metadata": {
    "ExecuteTime": {
     "end_time": "2020-08-27T16:32:43.841553Z",
     "start_time": "2020-08-27T16:32:43.810128Z"
    }
   },
   "outputs": [],
   "source": [
    "# Inputs \n",
    "sim_inputs = {}\n",
    "sim_inputs['Ns'] = source_list.N-1\n",
    "\n",
    "sim_inputs['z'] = redshift\n",
    "sim_inputs['D'] = lum_dist[:-1]\n",
    "sim_inputs['varpi'] = varpi_in\n",
    "\n",
    "sim_inputs['Ngrid'] = len(exposure_integral.par_grids[\"index\"])\n",
    "sim_inputs['alpha_grid'] = exposure_integral.par_grids[\"index\"]\n",
    "sim_inputs['integral_grid'] = exposure_integral.integral_grid\n",
    "\n",
    "sim_inputs['aeff_max'] = np.max(exposure_integral.effective_area._eff_area)\n",
    "#inputs['aeff_max'] = 1e4"
   ]
  },
  {
   "cell_type": "code",
   "execution_count": 95,
   "metadata": {
    "ExecuteTime": {
     "end_time": "2020-08-27T16:34:33.239082Z",
     "start_time": "2020-08-27T16:34:33.004023Z"
    }
   },
   "outputs": [],
   "source": [
    "sim_inputs['alpha'] = 2.0\n",
    "sim_inputs['Edet_min'] = 1e5 # GeV\n",
    "\n",
    "total_flux = source_list.total_flux_int() # m^-2 s^-1\n",
    "\n",
    "#inputs['F0'] = ((1 - frac) * total_flux) # m^-2 yr^-1\n",
    "#inputs['L'] = "
   ]
  },
  {
   "cell_type": "code",
   "execution_count": 93,
   "metadata": {
    "ExecuteTime": {
     "end_time": "2020-08-27T16:34:07.677267Z",
     "start_time": "2020-08-27T16:34:07.647691Z"
    }
   },
   "outputs": [
    {
     "data": {
      "text/latex": [
       "$0.78194844 \\; \\mathrm{\\frac{1}{s\\,m^{2}}}$"
      ],
      "text/plain": [
       "<Quantity 0.78194844 1 / (m2 s)>"
      ]
     },
     "execution_count": 93,
     "metadata": {},
     "output_type": "execute_result"
    }
   ],
   "source": [
    "total_flux"
   ]
  },
  {
   "cell_type": "code",
   "execution_count": null,
   "metadata": {
    "ExecuteTime": {
     "end_time": "2020-08-14T15:51:20.886713Z",
     "start_time": "2020-08-14T15:51:08.694189Z"
    }
   },
   "outputs": [],
   "source": [
    "# Simulate\n",
    "simulation = sm.sampling(data=sim_inputs, iter=1, chains=1, \n",
    "                         algorithm=\"Fixed_param\")"
   ]
  },
  {
   "cell_type": "code",
   "execution_count": null,
   "metadata": {
    "ExecuteTime": {
     "end_time": "2020-08-14T15:51:23.073069Z",
     "start_time": "2020-08-14T15:51:23.065302Z"
    }
   },
   "outputs": [],
   "source": [
    "from astropy.coordinates import SkyCoord\n",
    "from astropy import units as u\n",
    "\n",
    "class Direction():\n",
    "    \"\"\"\n",
    "    Input the unit vector vMF samples and\n",
    "    store x, y, and z and galactic coordinates\n",
    "    of direction in Mpc.\n",
    "    \"\"\"\n",
    "\n",
    "    def __init__(self, unit_vector_3d):\n",
    "        \"\"\"\n",
    "        Input the unit vector samples and\n",
    "        store x, y, and z and galactic coordinates\n",
    "        of direction in Mpc.\n",
    "\n",
    "        :param unit_vector_3d: a 3-dimensional unit vector.\n",
    "        \"\"\"\n",
    "\n",
    "        self.unit_vector = unit_vector_3d\n",
    "        transposed_uv = np.transpose(self.unit_vector)\n",
    "        self.x = transposed_uv[0]\n",
    "        self.y = transposed_uv[1]\n",
    "        self.z = transposed_uv[2]\n",
    "        self.d = SkyCoord(self.x, self.y, self.z,\n",
    "                          unit = 'mpc',\n",
    "                          representation_type = 'cartesian',\n",
    "                          frame = 'icrs')\n",
    "        self.d.representation_type = 'spherical'\n",
    "        self.lons = self.d.galactic.l.wrap_at(360 * u.deg).deg\n",
    "        self.lats = self.d.galactic.b.wrap_at(180 * u.deg).deg"
   ]
  },
  {
   "cell_type": "code",
   "execution_count": null,
   "metadata": {
    "ExecuteTime": {
     "end_time": "2020-08-14T15:51:23.438049Z",
     "start_time": "2020-08-14T15:51:23.384757Z"
    }
   },
   "outputs": [],
   "source": [
    "# Energies\n",
    "Esrc = simulation.extract(['Esrc'])['Esrc'][0]\n",
    "E = simulation.extract(['E'])['E'][0]\n",
    "Edet_sim = simulation.extract(['Edet'])['Edet'][0]\n",
    "\n",
    "# Arrival directions\n",
    "event = simulation.extract(['event'])['event'][0]\n",
    "event = Direction(event)\n",
    "e_ra = event.d.icrs.ra.rad\n",
    "e_dec = event.d.icrs.dec.rad\n",
    "\n",
    "\n",
    "true_dir = simulation.extract(['omega'])['omega'][0]\n",
    "true_dir = Direction(true_dir)\n",
    "e_t_ra = true_dir.d.icrs.ra.rad\n",
    "e_t_dec = true_dir.d.icrs.dec.rad\n",
    "\n",
    "source = Direction(varpi_in)\n",
    "s_ra = source.d.icrs.ra.rad\n",
    "s_dec = source.d.icrs.dec.rad\n",
    "\n",
    "# event type\n",
    "#event_type = simulation.extract(['event_type'])['event_type'][0]\n",
    "#zenith = simulation.extract(['zenith'])['zenith'][0]"
   ]
  },
  {
   "cell_type": "code",
   "execution_count": null,
   "metadata": {
    "ExecuteTime": {
     "end_time": "2020-08-14T15:51:23.844078Z",
     "start_time": "2020-08-14T15:51:23.833130Z"
    }
   },
   "outputs": [],
   "source": [
    "lam = simulation.extract(['Lambda'])['Lambda'][0] - 1\n",
    "Nc = sim_inputs['Ns']\n",
    "label_cmap = plt.cm.get_cmap('plasma', Nc+1)\n",
    "\n",
    "lam = list(lam)\n",
    "Nsrc = sum([lam.count(_) for _ in range(int(Nc))])\n",
    "Nbg = lam.count(Nc)\n",
    "print('Nsrc: ', Nsrc)\n",
    "print('Nbg: ', Nbg)\n",
    "print('w_bg: ', Nbg / (Nbg+Nsrc))"
   ]
  },
  {
   "cell_type": "code",
   "execution_count": null,
   "metadata": {
    "ExecuteTime": {
     "end_time": "2020-08-14T15:51:25.548726Z",
     "start_time": "2020-08-14T15:51:25.545719Z"
    }
   },
   "outputs": [],
   "source": [
    "import matplotlib.patches as mpatches\n",
    "from matplotlib.collections import PatchCollection\n",
    "from matplotlib.colors import LinearSegmentedColormap"
   ]
  },
  {
   "cell_type": "code",
   "execution_count": null,
   "metadata": {
    "ExecuteTime": {
     "end_time": "2020-08-14T15:51:28.715140Z",
     "start_time": "2020-08-14T15:51:27.209422Z"
    }
   },
   "outputs": [],
   "source": [
    "fig = plt.figure()\n",
    "fig.set_size_inches((10, 8))\n",
    "ax = fig.add_subplot(111, projection='hammer')\n",
    "\n",
    "circles = []\n",
    "for r, d, l in zip(e_ra, e_dec, lam):\n",
    "    color = label_cmap.colors[int(l)]\n",
    "    circles.append(mpatches.Circle((r-np.pi,d), 0.05, color=color, alpha=0.7))\n",
    "collection = PatchCollection(circles, match_original=True)    \n",
    "ax.add_collection(collection)   \n",
    "\n",
    "circles = []\n",
    "norm = max([1 - _/zth for _ in redshift])\n",
    "for r, d, z in zip(s_ra, s_dec, redshift):\n",
    "    circles.append(mpatches.Circle((r-np.pi,d), 0.05, color='k', alpha=(1-z/zth)/norm))\n",
    "collection = PatchCollection(circles, match_original=True)\n",
    "ax.add_collection(collection)\n",
    "ax.axhline(np.deg2rad(-5), color='k', linestyle=\":\")"
   ]
  },
  {
   "cell_type": "code",
   "execution_count": null,
   "metadata": {
    "ExecuteTime": {
     "end_time": "2020-08-14T15:51:32.453997Z",
     "start_time": "2020-08-14T15:51:30.889831Z"
    }
   },
   "outputs": [],
   "source": [
    "# Plot energies\n",
    "Emin_cascades = sim_inputs['Emin']\n",
    "bins = np.logspace(np.log(Emin_cascades/1000), np.log(1E+4*Emin_cascades), base = np.e)\n",
    "\n",
    "fig, ax = plt.subplots()\n",
    "ax.hist(Esrc, bins=bins, label='$\\\\tilde{E}$', alpha=0.7);\n",
    "ax.hist(Edet_sim, bins=bins, label='$\\hat{E}$', alpha=0.7);\n",
    "ax.axvline(sim_inputs[\"Emin\"])\n",
    "ax.set_xscale('log')\n",
    "ax.set_yscale('log')\n",
    "ax.set_xlabel('$E$ / GeV')\n",
    "ax.legend();"
   ]
  },
  {
   "cell_type": "markdown",
   "metadata": {},
   "source": [
    "## Generate Stan code for fit"
   ]
  },
  {
   "cell_type": "code",
   "execution_count": null,
   "metadata": {
    "ExecuteTime": {
     "end_time": "2020-08-14T15:51:32.460179Z",
     "start_time": "2020-08-14T15:51:32.456742Z"
    }
   },
   "outputs": [],
   "source": [
    "from python.backend.stan_generator import ParametersContext, TransformedParametersContext, ModelContext\n",
    "from python.backend.variable_definitions import ParameterDef, ParameterVectorDef"
   ]
  },
  {
   "cell_type": "code",
   "execution_count": null,
   "metadata": {
    "ExecuteTime": {
     "end_time": "2020-08-14T15:51:34.257595Z",
     "start_time": "2020-08-14T15:51:34.137836Z"
    }
   },
   "outputs": [],
   "source": [
    "with StanFileGenerator(\"stan_files/model_code\") as cg:\n",
    "\n",
    "    with FunctionsContext() as fc:\n",
    "        _ = Include(\"utils.stan\")\n",
    "        _ = Include(\"vMF.stan\")\n",
    "        _ = Include(\"interpolation.stan\")\n",
    "        _ = Include(\"energy_spectrum.stan\")\n",
    "        _ = Include(\"sim_functions.stan\")\n",
    "        ntd = NorthernTracksDetectorModel()\n",
    "        \n",
    "    with DataContext() as dc:\n",
    "        \n",
    "        # Neutrinos\n",
    "        N = ForwardVariableDef(\"N\", \"int\")\n",
    "        N_str = [\"[\", N, \"]\"]\n",
    "        omega_det = ForwardArrayDef(\"omega_det\", \"unit_vector[3]\", N_str)\n",
    "        Edet = ForwardVariableDef(\"Edet\", \"vector[N]\")\n",
    "        Emin = ForwardVariableDef(\"Emin\", \"real\")\n",
    "        \n",
    "         # Sources\n",
    "        Ns = ForwardVariableDef(\"Ns\", \"int\")\n",
    "        Ns_str = [\"[\", Ns, \"]\"]\n",
    "        Ns_1p_str = [\"[\", Ns, \"+1]\"]\n",
    "        \n",
    "        varpi = ForwardArrayDef(\"varpi\", \"unit_vector[3]\", Ns_str)\n",
    "        D = ForwardVariableDef(\"D\", \"vector[Ns]\")\n",
    "        z = ForwardVariableDef(\"z\", \"vector[Ns+1]\")\n",
    "\n",
    "        # Precomputed quantities\n",
    "        Ngrid = ForwardVariableDef(\"Ngrid\", \"int\")\n",
    "        alpha_grid = ForwardVariableDef(\"alpha_grid\", \"vector[Ngrid]\")\n",
    "        integral_grid = ForwardArrayDef(\"integral_grid\", \n",
    "                                        \"vector[Ngrid]\", Ns_1p_str)\n",
    "        Eg = ForwardVariableDef(\"E_grid\", \"vector[Ngrid]\")\n",
    "        Pg = ForwardArrayDef(\"Pdet_grid\", \"vector[Ngrid]\", Ns_1p_str)\n",
    "        \n",
    "        # Inputs\n",
    "        T = ForwardVariableDef(\"T\", \"real\")\n",
    "        \n",
    "        # Debugging\n",
    "        Q_scale = ForwardVariableDef(\"Q_scale\", \"real\")\n",
    "        F0_scale = ForwardVariableDef(\"F0_scale\", \"real\")\n",
    "        \n",
    "        \n",
    "    with TransformedDataContext() as tdc:\n",
    "        \n",
    "        zenith = ForwardVariableDef(\"zenith\", \"vector[N]\")\n",
    "        \n",
    "        with ForLoopContext(1, N, \"i\") as i:\n",
    "            zenith[i] << StringExpression([\"pi() - acos(\", omega_det[i][3], \")\"])\n",
    "        \n",
    "        StringExpression([\"print(\", Ngrid, \")\"])\n",
    "            \n",
    "    with ParametersContext() as pc:\n",
    "        \n",
    "        Q = ParameterDef(\"Q\", \"real\", 0.0, 1e60)\n",
    "        F0 = ParameterDef(\"F0\", \"real\", 0.0, 500)\n",
    "        \n",
    "        alpha = ParameterDef(\"alpha\", \"real\", 1.5, 3.5)\n",
    "        \n",
    "        Esrc = ParameterVectorDef(\"Esrc\", \"vector\", N_str, Emin, 1e8)\n",
    "        \n",
    "    with TransformedParametersContext() as tpc:\n",
    "        \n",
    "        Fs = ParameterDef(\"Fs\", \"real\", 0.0)\n",
    "        \n",
    "        F = ForwardVariableDef(\"F\", \"vector[Ns]\")\n",
    "        allF = ForwardVariableDef(\"allF\", \"vector[Ns+1]\")\n",
    "        eps = ForwardVariableDef(\"eps\", \"vector[Ns+1]\")\n",
    "        \n",
    "        f = ParameterDef(\"f\", \"real\", 0, 1)\n",
    "        FT = ParameterDef(\"FT\", \"real\", 0)\n",
    "        \n",
    "        lp = ForwardArrayDef(\"lp\", \"vector[Ns+1]\", N_str)\n",
    "        logF = ForwardVariableDef(\"logF\", \"vector[Ns+1]\")\n",
    "        Nex = ForwardVariableDef(\"Nex\", \"real\")\n",
    "        E = ForwardVariableDef(\"E\", \"vector[N]\")       \n",
    "        \n",
    "        Fs << 0\n",
    "        with ForLoopContext(1, Ns, \"k\") as k:\n",
    "            F[k] << StringExpression([Q, \"/ (4 * pi() * pow(\", \n",
    "                                      D[k], \" * \", 3.086e22, \", 2))\"])\n",
    "            allF[k] << F[k]\n",
    "            StringExpression([Fs,\" += \", F[k]])\n",
    "        StringExpression(\"allF[Ns+1]\") << F0\n",
    "        FT << F0 + Fs\n",
    "        f << StringExpression([Fs, \" / \", FT]) \n",
    "        \n",
    "        logF << StringExpression([\"log(\", allF, \")\"])\n",
    "        \n",
    "        with ForLoopContext(1, N, \"i\") as i:\n",
    "            lp[i] << logF \n",
    "            with ForLoopContext(1, \"Ns+1\", \"k\") as k:\n",
    "                StringExpression([lp[i][k], \" += pareto_lpdf(\", Esrc[i], \n",
    "                                  \" | \", Emin, \" , \", alpha-1, \")\"])\n",
    "                E[i] << StringExpression([Esrc[i], \" / (\",  1+z[k], \")\"]) \n",
    "                \n",
    "                StringExpression([\"if (\", k ,\" < Ns+1) {\\n\", \n",
    "                                  lp[i][k], \" += \", \n",
    "                                  ntd.angular_resolution(E[i], \n",
    "                                                         varpi[k], omega_det[i]),\n",
    "                                  \";\\n}\\n\", \"else if (\", k, \" == Ns+1) {\\n\", \n",
    "                                  lp[i][k], \" += \", np.log(1/(4*np.pi)), \n",
    "                                  \";\\n}\"])\n",
    "                \n",
    "                StringExpression([lp[i][k], \" += \", \n",
    "                                  ntd.energy_resolution(E[i], Edet[i])])\n",
    "                StringExpression([lp[i][k], \" += log(interpolate(\", \n",
    "                                  Eg, \", \", Pg[k], \", \", E[i], \"))\"])\n",
    "                       \n",
    "        eps << StringExpression([\"get_exposure_factor(\", T, \", \", Emin, \", \", \n",
    "                                 alpha, \", \", alpha_grid, \", \", \n",
    "                                 integral_grid, \", \", Ns, \")\"])  \n",
    "        Nex << StringExpression([\"get_Nex(\", allF, \", \", eps, \")\"])\n",
    "    \n",
    "    with ModelContext() as mc:\n",
    "        \n",
    "        with ForLoopContext(1, N, \"i\") as i:\n",
    "            StringExpression([\"target += log_sum_exp(\", lp[i], \")\"])\n",
    "        StringExpression([\"target += -\", Nex])\n",
    "        \n",
    "        StringExpression([Q, \" ~ normal(0, \", Q_scale, \")\"])\n",
    "        StringExpression([F0, \" ~ normal(0, \", F0_scale, \")\"])\n",
    "        StringExpression([alpha, \" ~ normal(2.0, 2.0)\"])\n",
    "        \n",
    "    model = cg.generate_single_file()"
   ]
  },
  {
   "cell_type": "code",
   "execution_count": null,
   "metadata": {
    "ExecuteTime": {
     "end_time": "2020-08-14T15:51:35.037741Z",
     "start_time": "2020-08-14T15:51:34.793639Z"
    }
   },
   "outputs": [],
   "source": [
    "# Compile\n",
    "this_dir = os.path.abspath('')\n",
    "include_paths = [os.path.join(this_dir, \n",
    "                              \"../dev/statistical_model/4_tracks_and_cascades/stan/\")]\n",
    "\n",
    "sm = stan_utility.compile_model(filename=cg.filename, include_paths=include_paths, \n",
    "                                model_name=\"model\")"
   ]
  },
  {
   "cell_type": "code",
   "execution_count": null,
   "metadata": {
    "ExecuteTime": {
     "end_time": "2020-08-14T15:51:35.249450Z",
     "start_time": "2020-08-14T15:51:35.241687Z"
    }
   },
   "outputs": [],
   "source": [
    "inputs = {}\n",
    "inputs[\"N\"] = len(Edet_sim)\n",
    "inputs[\"omega_det\"] = event.unit_vector\n",
    "inputs[\"Edet\"] = Edet_sim\n",
    "inputs[\"Ns\"] = source_list.N - 1\n",
    "\n",
    "inputs['z'] = redshift\n",
    "inputs['D'] = lum_dist[:-1]\n",
    "inputs['varpi'] = varpi_in\n",
    "\n",
    "inputs[\"Emin\"] = 1e5 # GeV\n",
    "\n",
    "inputs['Ngrid'] = len(exposure_integral.alpha_grid)\n",
    "inputs['alpha_grid'] = exposure_integral.alpha_grid\n",
    "inputs['integral_grid'] = exposure_integral.integral_grid\n",
    "inputs[\"E_grid\"] = E_grid\n",
    "inputs[\"Pdet_grid\"] = Pdet_grid\n",
    "inputs[\"Q_scale\"] = sim_inputs[\"Q\"]\n",
    "inputs[\"F0_scale\"] = sim_inputs[\"F0\"]\n",
    "inputs[\"T\"] = 1"
   ]
  },
  {
   "cell_type": "code",
   "execution_count": null,
   "metadata": {
    "ExecuteTime": {
     "end_time": "2020-08-14T15:57:02.916039Z",
     "start_time": "2020-08-14T15:51:35.770241Z"
    }
   },
   "outputs": [],
   "source": [
    "# fit\n",
    "fit = sm.sampling(data=inputs, iter=500, chains=4)"
   ]
  },
  {
   "cell_type": "code",
   "execution_count": null,
   "metadata": {
    "ExecuteTime": {
     "end_time": "2020-08-14T15:57:45.670687Z",
     "start_time": "2020-08-14T15:57:43.260630Z"
    }
   },
   "outputs": [],
   "source": [
    "# View chains\n",
    "fig = fit.plot([r'Q', r'F0', r'f', r'alpha', r'F', r\"Nex\"]);\n",
    "fig.set_size_inches(20, 16)\n",
    "fig.tight_layout()"
   ]
  },
  {
   "cell_type": "code",
   "execution_count": null,
   "metadata": {
    "ExecuteTime": {
     "end_time": "2020-08-14T15:57:53.261495Z",
     "start_time": "2020-08-14T15:57:51.163993Z"
    }
   },
   "outputs": [],
   "source": [
    "# View corner plot\n",
    "chain = fit.extract(permuted = True)\n",
    "key_list = ['F0', 'Q', 'FT', 'f', 'alpha']\n",
    "labels = [r'$F_0$', r'Q', r'FT', r'f', 'alpha']\n",
    "truths = [sim_inputs['F0'], sim_inputs['Q'], total_flux, 0.5, sim_inputs['alpha']]\n",
    "\n",
    "corner.corner(np.nan_to_num(np.column_stack([chain[key] for key in key_list])),\n",
    "              labels = labels, truths = truths);"
   ]
  },
  {
   "cell_type": "code",
   "execution_count": null,
   "metadata": {},
   "outputs": [],
   "source": []
  }
 ],
 "metadata": {
  "kernelspec": {
   "display_name": "bayes",
   "language": "python",
   "name": "bayes"
  },
  "language_info": {
   "codemirror_mode": {
    "name": "ipython",
    "version": 3
   },
   "file_extension": ".py",
   "mimetype": "text/x-python",
   "name": "python",
   "nbconvert_exporter": "python",
   "pygments_lexer": "ipython3",
   "version": "3.7.6"
  }
 },
 "nbformat": 4,
 "nbformat_minor": 4
}
