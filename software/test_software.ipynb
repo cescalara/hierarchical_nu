{
 "cells": [
  {
   "cell_type": "markdown",
   "metadata": {},
   "source": [
    "# Testing software"
   ]
  },
  {
   "cell_type": "code",
   "execution_count": 1,
   "metadata": {
    "ExecuteTime": {
     "end_time": "2020-09-22T14:55:08.484865Z",
     "start_time": "2020-09-22T14:55:06.472225Z"
    }
   },
   "outputs": [],
   "source": [
    "import numpy as np\n",
    "from matplotlib import pyplot as plt\n",
    "import os\n",
    "import stan_utility\n",
    "import astropy.units as u\n",
    "%load_ext autoreload\n",
    "%autoreload 2\n",
    "import seaborn as sns"
   ]
  },
  {
   "cell_type": "markdown",
   "metadata": {},
   "source": [
    "## Sources"
   ]
  },
  {
   "cell_type": "code",
   "execution_count": 2,
   "metadata": {
    "ExecuteTime": {
     "end_time": "2020-09-22T14:55:09.016901Z",
     "start_time": "2020-09-22T14:55:08.487677Z"
    }
   },
   "outputs": [],
   "source": [
    "from python.source.simple_source import PointSource, DiffuseSource, TestSourceList\n",
    "from python.source.flux_model import PowerLawSpectrum, IsotropicDiffuseBG\n",
    "from python.source.parameter import Parameter\n",
    "Parameter.clear_registry()\n",
    "from python.source.atmospheric_flux import AtmosphericNuMuFlux\n",
    "from python.backend.stan_generator import ParametersContext, TransformedParametersContext, ModelContext\n",
    "from python.backend.variable_definitions import ParameterDef, ParameterVectorDef"
   ]
  },
  {
   "cell_type": "code",
   "execution_count": 3,
   "metadata": {
    "ExecuteTime": {
     "end_time": "2020-09-22T14:55:09.047106Z",
     "start_time": "2020-09-22T14:55:09.019047Z"
    }
   },
   "outputs": [],
   "source": [
    "# Define point source params\n",
    "index = Parameter(2.2, \"index\", fixed=False, par_range=(1.1, 4))\n",
    "luminosity = Parameter(6E46 * (u.erg / u.s), \"luminosity\", fixed=True, \n",
    "                       par_range=(0, 1E60))\n",
    "\n",
    "# Define diffuse flux inputs\n",
    "diffuse_norm = Parameter(1.44E-14 /u.GeV/u.m**2/u.s, \"diffuse_norm\", fixed=True, \n",
    "                         par_range=(0, np.inf))\n",
    "diffuse_flux_model = IsotropicDiffuseBG(PowerLawSpectrum(diffuse_norm, 1E5*u.GeV, \n",
    "                                                         index, lower_energy=1E5*u.GeV, \n",
    "                                                         upper_energy=1E8*u.GeV))"
   ]
  },
  {
   "cell_type": "code",
   "execution_count": 4,
   "metadata": {
    "ExecuteTime": {
     "end_time": "2020-09-22T14:55:09.240253Z",
     "start_time": "2020-09-22T14:55:09.108106Z"
    }
   },
   "outputs": [
    {
     "data": {
      "text/latex": [
       "$1.8071376 \\times 10^{-8} \\; \\mathrm{\\frac{1}{s\\,m^{2}}}$"
      ],
      "text/plain": [
       "<Quantity 1.80713759e-08 1 / (m2 s)>"
      ]
     },
     "execution_count": 4,
     "metadata": {},
     "output_type": "execute_result"
    }
   ],
   "source": [
    "# Define atmo_bg_flux\n",
    "atmo_bg_flux = AtmosphericNuMuFlux(1E5 * u.GeV, 1E8 * u.GeV)\n",
    "atmo_bg_flux.total_flux_int"
   ]
  },
  {
   "cell_type": "code",
   "execution_count": 5,
   "metadata": {
    "ExecuteTime": {
     "end_time": "2020-09-22T14:55:10.965686Z",
     "start_time": "2020-09-22T14:55:09.863513Z"
    }
   },
   "outputs": [],
   "source": [
    "# Loading from file\n",
    "source_file = '../dev/statistical_model/data/test_SFR_pop.h5'\n",
    "source_list = TestSourceList(source_file, luminosity, index, 1E5 * u.GeV, 1E8 * u.GeV)\n",
    "\n",
    "# Select sources below zth = 1\n",
    "zth = 1.0\n",
    "source_list.select_below_redshift(zth)\n",
    "\n",
    "# Add a diffuse background at z = 1\n",
    "diffuse_bg = DiffuseSource('diffuse_bg', zth, flux_model=diffuse_flux_model)\n",
    "source_list.add(diffuse_bg)\n",
    "\n",
    "# Add an atmospheric background component\n",
    "atmo_bg = DiffuseSource('atmo_bg', 0, flux_model=atmo_bg_flux)\n",
    "source_list.add(atmo_bg)"
   ]
  },
  {
   "cell_type": "code",
   "execution_count": 6,
   "metadata": {
    "ExecuteTime": {
     "end_time": "2020-09-22T14:55:11.129374Z",
     "start_time": "2020-09-22T14:55:10.968399Z"
    }
   },
   "outputs": [
    {
     "name": "stdout",
     "output_type": "stream",
     "text": [
      "0.4212347911821191\n"
     ]
    }
   ],
   "source": [
    "# Associated fraction of our sources\n",
    "source_ints = [source.flux_model.total_flux_int for source in source_list]\n",
    "f = sum(source_ints[:-2]) / sum(source_ints)\n",
    "print(f)"
   ]
  },
  {
   "cell_type": "markdown",
   "metadata": {},
   "source": [
    "## Precomputation"
   ]
  },
  {
   "cell_type": "code",
   "execution_count": 7,
   "metadata": {
    "ExecuteTime": {
     "end_time": "2020-09-22T14:55:11.157034Z",
     "start_time": "2020-09-22T14:55:11.132550Z"
    }
   },
   "outputs": [],
   "source": [
    "from python.precomputation import ExposureIntegral\n",
    "from python.detector_model import NorthernTracksDetectorModel"
   ]
  },
  {
   "cell_type": "code",
   "execution_count": 8,
   "metadata": {
    "ExecuteTime": {
     "end_time": "2020-09-22T14:55:58.751444Z",
     "start_time": "2020-09-22T14:55:11.247766Z"
    }
   },
   "outputs": [
    {
     "name": "stderr",
     "output_type": "stream",
     "text": [
      "INFO:python.backend.code_generator:Object of type <python.backend.stan_generator.FunctionsContext object at 0x1352cd8b0> already on stack\n",
      "INFO:python.backend.code_generator:Object of type <python.backend.stan_generator.FunctionsContext object at 0x1352cd850> already on stack\n",
      "INFO:python.backend.code_generator:Object of type <python.backend.stan_generator.DefinitionContext object at 0x135290790> already on stack\n",
      "INFO:python.backend.code_generator:Object of type <python.backend.stan_generator.DefinitionContext object at 0x135290c40> already on stack\n",
      "INFO:python.backend.code_generator:Object of type <python.backend.stan_generator.DefinitionContext object at 0x135290940> already on stack\n",
      "INFO:python.backend.code_generator:Object of type <python.backend.stan_generator.DefinitionContext object at 0x1352903d0> already on stack\n",
      "INFO:python.backend.code_generator:Object of type <python.backend.stan_generator.FunctionsContext object at 0x1352809a0> already on stack\n",
      "INFO:python.backend.code_generator:Object of type <python.backend.stan_generator.FunctionsContext object at 0x135280670> already on stack\n",
      "INFO:python.backend.code_generator:Object of type <python.backend.stan_generator.DefinitionContext object at 0x135290be0> already on stack\n",
      "INFO:python.backend.code_generator:Object of type <python.backend.stan_generator.DefinitionContext object at 0x13551fb50> already on stack\n"
     ]
    }
   ],
   "source": [
    "time = 8 * u.year # years -> not used rn\n",
    "Emin_det = 1.0e5 * u.GeV # GeV\n",
    "\n",
    "exposure_integral = ExposureIntegral(source_list, NorthernTracksDetectorModel, \n",
    "                                     time, Emin_det)\n",
    "\n",
    "exposure_integral()"
   ]
  },
  {
   "cell_type": "code",
   "execution_count": 9,
   "metadata": {
    "ExecuteTime": {
     "end_time": "2020-09-22T14:55:58.935664Z",
     "start_time": "2020-09-22T14:55:58.753185Z"
    }
   },
   "outputs": [
    {
     "data": {
      "text/plain": [
       "<matplotlib.lines.Line2D at 0x135520130>"
      ]
     },
     "execution_count": 9,
     "metadata": {},
     "output_type": "execute_result"
    },
    {
     "data": {
      "image/png": "[encoded data removed]",
      "text/plain": [
       "<Figure size 432x288 with 1 Axes>"
      ]
     },
     "metadata": {
      "needs_background": "light"
     },
     "output_type": "display_data"
    }
   ],
   "source": [
    "fig, ax = plt.subplots()\n",
    "for _ in exposure_integral.integral_grid:\n",
    "    ax.plot(exposure_integral.par_grids[\"index\"], _)\n",
    "ax.axhline(exposure_integral.integral_fixed_vals[0].value)"
   ]
  },
  {
   "cell_type": "markdown",
   "metadata": {},
   "source": [
    "## Generate Stan code for simulation\n"
   ]
  },
  {
   "cell_type": "code",
   "execution_count": 10,
   "metadata": {
    "ExecuteTime": {
     "end_time": "2020-09-22T14:55:58.960742Z",
     "start_time": "2020-09-22T14:55:58.938904Z"
    }
   },
   "outputs": [],
   "source": [
    "from python.detector_model import NorthernTracksDetectorModel\n",
    "from python.backend.stan_generator import (\n",
    "    StanGenerator, GeneratedQuantitiesContext, DataContext, TransformedDataContext,\n",
    "    FunctionsContext, Include, ForLoopContext, StanFileGenerator, WhileLoopContext, FunctionCall, ModelContext, IfBlockContext, ElseIfBlockContext, ElseBlockContext)\n",
    "from python.backend.variable_definitions import ForwardVariableDef, ForwardArrayDef\n",
    "from python.backend.expression import StringExpression\n",
    "from python.backend.parameterizations import DistributionMode\n",
    "import logging\n",
    "logging.basicConfig(level=logging.WARN)"
   ]
  },
  {
   "cell_type": "markdown",
   "metadata": {},
   "source": [
    "### Code to generate atmo events"
   ]
  },
  {
   "cell_type": "code",
   "execution_count": 11,
   "metadata": {
    "ExecuteTime": {
     "end_time": "2020-09-22T14:55:59.028414Z",
     "start_time": "2020-09-22T14:55:58.962857Z"
    }
   },
   "outputs": [
    {
     "name": "stderr",
     "output_type": "stream",
     "text": [
      "INFO:python.backend.code_generator:Object of type <python.backend.stan_generator.FunctionsContext object at 0x1352fe760> already on stack\n",
      "INFO:python.backend.code_generator:Object of type <python.backend.stan_generator.DefinitionContext object at 0x1352fe370> already on stack\n",
      "INFO:python.backend.code_generator:Object of type <python.backend.stan_generator.DefinitionContext object at 0x1352fe6a0> already on stack\n",
      "INFO:python.backend.code_generator:Object of type <python.backend.stan_generator.DefinitionContext object at 0x1352f6b20> already on stack\n",
      "INFO:python.backend.code_generator:Object of type <python.backend.stan_generator.DefinitionContext object at 0x1352f62e0> already on stack\n",
      "INFO:python.backend.code_generator:Object of type <python.backend.stan_generator.DefinitionContext object at 0x1352f2640> already on stack\n",
      "INFO:python.backend.code_generator:Object of type <python.backend.stan_generator.DefinitionContext object at 0x135350ac0> already on stack\n",
      "INFO:python.backend.code_generator:Object of type <python.backend.stan_generator.DefinitionContext object at 0x1352f6310> already on stack\n",
      "INFO:python.backend.code_generator:Object of type <python.backend.stan_generator.DefinitionContext object at 0x135344190> already on stack\n",
      "INFO:python.backend.code_generator:Object of type <python.backend.stan_generator.DefinitionContext object at 0x135344370> already on stack\n",
      "INFO:python.backend.code_generator:Object of type <python.backend.stan_generator.DefinitionContext object at 0x1353448b0> already on stack\n",
      "INFO:python.backend.code_generator:Object of type <python.backend.stan_generator.DefinitionContext object at 0x135344fa0> already on stack\n"
     ]
    }
   ],
   "source": [
    "with StanFileGenerator(\"stan_files/atmo_gen\") as atmo_gen:\n",
    "    with FunctionsContext() as fc:\n",
    "        _ = Include(\"utils.stan\")\n",
    "        _ = Include(\"interpolation.stan\")\n",
    "    \n",
    "    # Increasing theta points too much makes compilation very slow\n",
    "    # Could switch to passing array as data if problematic\n",
    "    atmu_nu_flux = atmo_bg_flux.make_stan_function(theta_points=30)\n",
    "    \n",
    "    with DataContext():\n",
    "        Edet_min = ForwardVariableDef(\"Edet_min\", \"real\")\n",
    "        Esrc_max = ForwardVariableDef(\"Esrc_max\", \"real\")\n",
    "        \n",
    "        cosz_min = ForwardVariableDef(\"cosz_min\", \"real\")\n",
    "        cosz_max = ForwardVariableDef(\"cosz_max\", \"real\")\n",
    "    \n",
    "    with TransformedDataContext():\n",
    "        # If not used pop up in Stan file, blocking compilation...\n",
    "        # Needs fixing\n",
    "        StringExpression([\"print(\", Edet_min, \")\"])\n",
    "        StringExpression([\"print(\", Esrc_max, \")\"])\n",
    "        StringExpression([\"print(\", cosz_min, \")\"])\n",
    "        StringExpression([\"print(\", cosz_max, \")\"])\n",
    "    \n",
    "    with ParametersContext():\n",
    "        # Simulate from Edet_min and cosz bounds for efficiency \n",
    "        energy = ParameterDef(\"energy\", \"real\", Edet_min, Esrc_max)\n",
    "        coszen = ParameterDef(\"coszen\", \"real\", cosz_min, cosz_max) \n",
    "        phi = ParameterDef(\"phi\", \"real\", 0, 2*np.pi)\n",
    "        \n",
    "    with TransformedParametersContext():\n",
    "        omega = ForwardVariableDef(\"omega\", \"vector[3]\")\n",
    "        zen = ForwardVariableDef(\"zen\", \"real\")\n",
    "        theta = ForwardVariableDef(\"theta\", \"real\")     \n",
    "        \n",
    "        zen << FunctionCall([coszen], \"acos\")\n",
    "        theta << FunctionCall([], \"pi\") - zen\n",
    "        \n",
    "        omega[1] << FunctionCall([theta], \"sin\") * FunctionCall([phi], \"cos\")\n",
    "        omega[2] << FunctionCall([theta], \"sin\") * FunctionCall([phi], \"sin\")\n",
    "        omega[3] << FunctionCall([theta], \"cos\")\n",
    "        \n",
    "    with ModelContext():\n",
    "        \n",
    "        logflux = FunctionCall([atmu_nu_flux(energy, omega)], \"log\")\n",
    "        StringExpression([\"target += \", logflux])\n",
    "        \n",
    "model = atmo_gen.generate_single_file()"
   ]
  },
  {
   "cell_type": "markdown",
   "metadata": {},
   "source": [
    "### Main sim code"
   ]
  },
  {
   "cell_type": "code",
   "execution_count": 12,
   "metadata": {
    "ExecuteTime": {
     "end_time": "2020-09-22T14:55:59.164509Z",
     "start_time": "2020-09-22T14:55:59.030246Z"
    },
    "code_folding": []
   },
   "outputs": [
    {
     "name": "stderr",
     "output_type": "stream",
     "text": [
      "INFO:python.backend.code_generator:Object of type <python.backend.stan_generator.FunctionsContext object at 0x1351804f0> already on stack\n",
      "INFO:python.backend.code_generator:Object of type <python.backend.stan_generator.DefinitionContext object at 0x1351808e0> already on stack\n",
      "INFO:python.backend.code_generator:Object of type <python.backend.stan_generator.FunctionsContext object at 0x135180fa0> already on stack\n",
      "INFO:python.backend.code_generator:Object of type <python.backend.stan_generator.DefinitionContext object at 0x135180b20> already on stack\n",
      "INFO:python.backend.code_generator:Object of type <python.backend.stan_generator.FunctionsContext object at 0x135178640> already on stack\n",
      "INFO:python.backend.code_generator:Object of type <python.backend.stan_generator.FunctionsContext object at 0x135178bb0> already on stack\n",
      "INFO:python.backend.code_generator:Object of type <python.backend.stan_generator.DefinitionContext object at 0x135178df0> already on stack\n",
      "INFO:python.backend.code_generator:Object of type <python.backend.stan_generator.DefinitionContext object at 0x13515e940> already on stack\n",
      "INFO:python.backend.code_generator:Object of type <python.backend.stan_generator.DefinitionContext object at 0x135178f40> already on stack\n",
      "INFO:python.backend.code_generator:Object of type <python.backend.stan_generator.DefinitionContext object at 0x13515e9a0> already on stack\n",
      "INFO:python.backend.code_generator:Object of type <python.backend.stan_generator.DefinitionContext object at 0x13515ebb0> already on stack\n",
      "INFO:python.backend.code_generator:Object of type <python.backend.stan_generator.DefinitionContext object at 0x13515eaf0> already on stack\n",
      "INFO:python.backend.code_generator:Object of type <python.backend.stan_generator.DefinitionContext object at 0x13515eb50> already on stack\n",
      "INFO:python.backend.code_generator:Object of type <python.backend.stan_generator.DefinitionContext object at 0x13515eb20> already on stack\n",
      "INFO:python.backend.code_generator:Object of type <python.backend.stan_generator.DefinitionContext object at 0x13515ec10> already on stack\n",
      "INFO:python.backend.code_generator:Object of type <python.backend.stan_generator.DefinitionContext object at 0x13515ebe0> already on stack\n",
      "INFO:python.backend.code_generator:Object of type <python.backend.stan_generator.DefinitionContext object at 0x13515efd0> already on stack\n",
      "INFO:python.backend.code_generator:Object of type <python.backend.stan_generator.DefinitionContext object at 0x13515ecd0> already on stack\n",
      "INFO:python.backend.code_generator:Object of type <python.backend.stan_generator.DefinitionContext object at 0x13515ed90> already on stack\n",
      "INFO:python.backend.code_generator:Object of type <python.backend.stan_generator.DefinitionContext object at 0x13515eca0> already on stack\n",
      "INFO:python.backend.code_generator:Object of type <python.backend.stan_generator.DefinitionContext object at 0x13515ef10> already on stack\n",
      "INFO:python.backend.code_generator:Object of type <python.backend.stan_generator.DefinitionContext object at 0x13548a1c0> already on stack\n",
      "INFO:python.backend.code_generator:Object of type <python.backend.stan_generator.DefinitionContext object at 0x13548a040> already on stack\n",
      "INFO:python.backend.code_generator:Object of type <python.backend.stan_generator.DefinitionContext object at 0x13548a190> already on stack\n",
      "INFO:python.backend.code_generator:Object of type <python.backend.stan_generator.DefinitionContext object at 0x13548a1f0> already on stack\n",
      "INFO:python.backend.code_generator:Object of type <python.backend.stan_generator.DefinitionContext object at 0x13548a580> already on stack\n",
      "INFO:python.backend.code_generator:Object of type <python.backend.stan_generator.DefinitionContext object at 0x13548a370> already on stack\n",
      "INFO:python.backend.code_generator:Object of type <python.backend.stan_generator.DefinitionContext object at 0x13548a4c0> already on stack\n",
      "INFO:python.backend.code_generator:Object of type <python.backend.stan_generator.DefinitionContext object at 0x13548a610> already on stack\n",
      "INFO:python.backend.code_generator:Object of type <python.backend.stan_generator.DefinitionContext object at 0x13548a820> already on stack\n",
      "INFO:python.backend.code_generator:Object of type <python.backend.stan_generator.DefinitionContext object at 0x1352cdd60> already on stack\n",
      "INFO:python.backend.code_generator:Object of type <python.backend.stan_generator.DefinitionContext object at 0x13548a520> already on stack\n",
      "INFO:python.backend.code_generator:Object of type <python.backend.stan_generator.DefinitionContext object at 0x13548a970> already on stack\n",
      "INFO:python.backend.code_generator:Object of type <python.backend.stan_generator.DefinitionContext object at 0x13548a850> already on stack\n",
      "INFO:python.backend.code_generator:Object of type <python.backend.stan_generator.FunctionsContext object at 0x135481490> already on stack\n",
      "INFO:python.backend.code_generator:Object of type <python.backend.stan_generator.FunctionsContext object at 0x1354817f0> already on stack\n",
      "INFO:python.backend.code_generator:Object of type <python.backend.stan_generator.FunctionsContext object at 0x135481eb0> already on stack\n",
      "INFO:python.backend.code_generator:Object of type <python.backend.stan_generator.DefinitionContext object at 0x1354790a0> already on stack\n",
      "INFO:python.backend.code_generator:Object of type <python.backend.stan_generator.DefinitionContext object at 0x135481bb0> already on stack\n",
      "INFO:python.backend.code_generator:Object of type <python.backend.stan_generator.DefinitionContext object at 0x135479250> already on stack\n",
      "INFO:python.backend.code_generator:Object of type <python.backend.stan_generator.DefinitionContext object at 0x1354790d0> already on stack\n",
      "INFO:python.backend.code_generator:Object of type <python.backend.stan_generator.FunctionsContext object at 0x135479820> already on stack\n",
      "INFO:python.backend.code_generator:Object of type <python.backend.stan_generator.FunctionsContext object at 0x135479400> already on stack\n",
      "INFO:python.backend.code_generator:Object of type <python.backend.stan_generator.FunctionsContext object at 0x13546d4f0> already on stack\n",
      "INFO:python.backend.code_generator:Object of type <python.backend.stan_generator.DefinitionContext object at 0x13546d430> already on stack\n",
      "INFO:python.backend.code_generator:Object of type <python.backend.stan_generator.DefinitionContext object at 0x13546d7f0> already on stack\n",
      "INFO:python.backend.code_generator:Object of type <python.backend.stan_generator.DefinitionContext object at 0x13546d8b0> already on stack\n",
      "INFO:python.backend.code_generator:Object of type <python.backend.stan_generator.DefinitionContext object at 0x13546d340> already on stack\n",
      "INFO:python.backend.code_generator:Object of type <python.backend.stan_generator.FunctionsContext object at 0x135479a30> already on stack\n",
      "INFO:python.backend.code_generator:Object of type <python.backend.stan_generator.FunctionsContext object at 0x135479a90> already on stack\n",
      "INFO:python.backend.code_generator:Object of type <python.backend.stan_generator.DefinitionContext object at 0x135479b80> already on stack\n",
      "INFO:python.backend.code_generator:Object of type <python.backend.stan_generator.DefinitionContext object at 0x135479880> already on stack\n",
      "INFO:python.backend.code_generator:Object of type <python.backend.stan_generator.DefinitionContext object at 0x1354817c0> already on stack\n",
      "INFO:python.backend.code_generator:Object of type <python.backend.stan_generator.DefinitionContext object at 0x135481280> already on stack\n",
      "INFO:python.backend.code_generator:Object of type <python.backend.stan_generator.DefinitionContext object at 0x135481820> already on stack\n",
      "INFO:python.backend.code_generator:Object of type <python.backend.stan_generator.DefinitionContext object at 0x135481700> already on stack\n",
      "INFO:python.backend.code_generator:Object of type <python.backend.stan_generator.DefinitionContext object at 0x1354818b0> already on stack\n",
      "INFO:python.backend.code_generator:Object of type <python.backend.stan_generator.DefinitionContext object at 0x13546d640> already on stack\n",
      "INFO:python.backend.code_generator:Object of type <python.backend.stan_generator.DefinitionContext object at 0x13546d790> already on stack\n",
      "INFO:python.backend.code_generator:Object of type <python.backend.stan_generator.DefinitionContext object at 0x13546d040> already on stack\n"
     ]
    },
    {
     "name": "stderr",
     "output_type": "stream",
     "text": [
      "INFO:python.backend.code_generator:Object of type <python.backend.stan_generator.DefinitionContext object at 0x13546dc10> already on stack\n",
      "INFO:python.backend.code_generator:Object of type <python.backend.stan_generator.DefinitionContext object at 0x13546db80> already on stack\n",
      "INFO:python.backend.code_generator:Object of type <python.backend.stan_generator.DefinitionContext object at 0x13546dc70> already on stack\n",
      "INFO:python.backend.code_generator:Object of type <python.backend.stan_generator.DefinitionContext object at 0x13546dd90> already on stack\n",
      "INFO:python.backend.code_generator:Object of type <python.backend.stan_generator.DefinitionContext object at 0x13546d0a0> already on stack\n"
     ]
    }
   ],
   "source": [
    "with StanFileGenerator(\"stan_files/sim_code\") as sim_gen:\n",
    "    \n",
    "    with FunctionsContext() as fc:\n",
    "        _ = Include(\"utils.stan\")\n",
    "        _ = Include(\"vMF.stan\")\n",
    "        _ = Include(\"interpolation.stan\")\n",
    "        _ = Include(\"sim_functions.stan\")\n",
    "\n",
    "        spectrum_rng = source_list[0].flux_model.spectral_shape.make_stan_sampling_func(\"spectrum_rng\")\n",
    "        diffuse_flux_rng = diffuse_flux_model.make_stan_sampling_func(\"diffuse_bg_rng\")\n",
    "        \n",
    "        flux_fac = source_list[0].flux_model.spectral_shape.make_stan_flux_conv_func(\"flux_conv\")\n",
    "            \n",
    "    with DataContext() as dc:\n",
    "        \n",
    "        # Sources\n",
    "        Ns = ForwardVariableDef(\"Ns\", \"int\")\n",
    "        Ns_str = [\"[\", Ns, \"]\"]\n",
    "        Ns_1p_str = [\"[\", Ns, \"+1]\"]\n",
    "        \n",
    "        varpi = ForwardArrayDef(\"varpi\", \"unit_vector[3]\", Ns_str)\n",
    "        D = ForwardVariableDef(\"D\", \"vector[Ns]\")\n",
    "        z = ForwardVariableDef(\"z\", \"vector[Ns+1]\")\n",
    "        \n",
    "        # Energies\n",
    "        alpha = ForwardVariableDef(\"alpha\", \"real\")\n",
    "        Edet_min = ForwardVariableDef(\"Edet_min\", \"real\")\n",
    "        Esrc_min = ForwardVariableDef(\"Esrc_min\", \"real\")\n",
    "        Esrc_max = ForwardVariableDef(\"Esrc_max\", \"real\")\n",
    "        \n",
    "        # Luminosity/ diffuse flux\n",
    "        L = ForwardVariableDef(\"L\", \"real\")\n",
    "        F_diff = ForwardVariableDef(\"F_diff\", \"real\")\n",
    "        F_atmo = ForwardVariableDef(\"F_atmo\", \"real\")\n",
    "        \n",
    "        # Precomputed quantities\n",
    "        Ngrid = ForwardVariableDef(\"Ngrid\", \"int\")\n",
    "        alpha_grid = ForwardVariableDef(\"alpha_grid\", \"vector[Ngrid]\")\n",
    "        integral_grid = ForwardArrayDef(\"integral_grid\", \n",
    "                                        \"vector[Ngrid]\", Ns_1p_str)\n",
    "        atmo_integ_val = ForwardVariableDef(\"atmo_integ_val\", \"real\")\n",
    "        aeff_max = ForwardVariableDef(\"aeff_max\", \"real\")\n",
    "        \n",
    "        v_lim = ForwardVariableDef(\"v_lim\", \"real\")\n",
    "        \n",
    "        # Atmo samples\n",
    "        N_atmo = ForwardVariableDef(\"N_atmo\", \"int\")\n",
    "        N_atmo_str = [\"[\", N_atmo, \"]\"]\n",
    "        atmo_directions = ForwardArrayDef(\"atmo_directions\", \"unit_vector[3]\", \n",
    "                                             N_atmo_str)\n",
    "        atmo_energies = ForwardVariableDef(\"atmo_energies\", \"vector[N_atmo]\")\n",
    "        atmo_weights = ForwardVariableDef(\"atmo_weights\", \"simplex[N_atmo]\")\n",
    "        \n",
    "    with TransformedDataContext() as tdc:\n",
    "        F = ForwardVariableDef(\"F\", \"vector[Ns+2]\")\n",
    "        Ftot = ForwardVariableDef(\"Ftot\", \"real\")\n",
    "        Fsrc = ForwardVariableDef(\"Fs\", \"real\")\n",
    "        f = ForwardVariableDef(\"f\", \"real\")\n",
    "        w_exposure = ForwardVariableDef(\"w_exposure\", \"simplex[Ns+2]\")\n",
    "        Nex = ForwardVariableDef(\"Nex\", \"real\")\n",
    "        N = ForwardVariableDef(\"N\", \"int\")\n",
    "        eps = ForwardVariableDef(\"eps\", \"vector[Ns+2]\")\n",
    "        \n",
    "        Fsrc << 0.0\n",
    "        with ForLoopContext(1, Ns, \"k\") as k:\n",
    "            F[k] << StringExpression([L, \"/ (4 * pi() * pow(\", \n",
    "                                         D[k], \" * \", 3.086e22, \", 2))\"])\n",
    "            StringExpression([F[k], \"*=\",  flux_fac(alpha, Esrc_min, Esrc_max)])\n",
    "            StringExpression([Fsrc,\" += \", F[k]])\n",
    "        \n",
    "        StringExpression(\"F[Ns+1]\") << F_diff\n",
    "        StringExpression(\"F[Ns+2]\") << F_atmo\n",
    "        \n",
    "        Ftot << Fsrc + F_diff + F_atmo\n",
    "        f << StringExpression([Fsrc, \"/\", Ftot])\n",
    "        StringExpression([\"print(\\\"f: \\\", \", f, \")\"])\n",
    "        \n",
    "        eps << StringExpression([\"get_exposure_factor(\", alpha, \n",
    "                                 \", \", alpha_grid, \", \", integral_grid, \", \", \n",
    "                                 atmo_integ_val, \", \",\n",
    "                                 Ns, \")\"])\n",
    "        Nex << StringExpression([\"get_Nex(\", F, \", \", eps, \")\"])\n",
    "        w_exposure << StringExpression([\"get_exposure_weights(\", F, \", \", \n",
    "                                              eps, \")\"])\n",
    "        N << StringExpression([\"poisson_rng(\", Nex, \")\"])\n",
    "        StringExpression([\"print(\", w_exposure, \")\"])\n",
    "        StringExpression([\"print(\", Ngrid, \")\"])\n",
    "        StringExpression([\"print(\", Nex, \")\"])\n",
    "        StringExpression([\"print(\", N, \")\"])\n",
    "        \n",
    "    with GeneratedQuantitiesContext() as gqc:\n",
    "        ntd_rng = NorthernTracksDetectorModel(mode=DistributionMode.RNG)\n",
    "        ntd_pdf = NorthernTracksDetectorModel(mode=DistributionMode.PDF) \n",
    "        \n",
    "        N_str = [\"[\", N, \"]\"]\n",
    "        lam = ForwardArrayDef(\"Lambda\", \"int\", N_str)\n",
    "        omega = ForwardVariableDef(\"omega\", \"unit_vector[3]\")\n",
    "        \n",
    "        Esrc = ForwardVariableDef(\"Esrc\", \"vector[N]\")\n",
    "        E = ForwardVariableDef(\"E\", \"vector[N]\")\n",
    "        Edet = ForwardVariableDef(\"Edet\", \"vector[N]\")\n",
    "        \n",
    "        atmo_index = ForwardVariableDef(\"atmo_index\", \"int\")\n",
    "        cosz = ForwardArrayDef(\"cosz\", \"real\", N_str)\n",
    "        Pdet = ForwardArrayDef(\"Pdet\", \"real\", N_str)\n",
    "        accept = ForwardVariableDef(\"accept\", \"int\")\n",
    "        detected = ForwardVariableDef(\"detected\", \"int\")\n",
    "        ntrials = ForwardVariableDef(\"ntrials\", \"int\")\n",
    "        prob = ForwardVariableDef(\"prob\", \"simplex[2]\")\n",
    "        \n",
    "        event = ForwardArrayDef(\"event\", \"unit_vector[3]\", N_str)\n",
    "        Nex_sim = ForwardVariableDef(\"Nex_sim\", \"real\")\n",
    "        \n",
    "        Nex_sim << Nex\n",
    "\n",
    "        with ForLoopContext(1, N, \"i\") as i:\n",
    "            \n",
    "            lam[i] << FunctionCall([w_exposure], \"categorical_rng\")\n",
    "            \n",
    "            accept << 0\n",
    "            detected << 0\n",
    "            ntrials << 0\n",
    "            \n",
    "            with WhileLoopContext([StringExpression([accept != 1])]):\n",
    "\n",
    "                # Sample position\n",
    "                with IfBlockContext([StringExpression([lam[i], \" <= \", Ns])]):\n",
    "                    omega << varpi[lam[i]]\n",
    "                with ElseIfBlockContext([StringExpression([lam[i], \" == \", Ns+1])]):\n",
    "                    omega << FunctionCall([1, v_lim], \"sphere_lim_rng\")             \n",
    "                with ElseIfBlockContext([StringExpression([lam[i], \" == \", Ns+2])]):\n",
    "                    atmo_index << FunctionCall([atmo_weights], \"categorical_rng\")\n",
    "                    omega << atmo_directions[atmo_index]\n",
    "                \n",
    "                cosz[i] << FunctionCall([FunctionCall([omega], \"omega_to_zenith\")], \n",
    "                                        \"cos\") \n",
    "                # Sample energy\n",
    "                with IfBlockContext([StringExpression([lam[i], \" <= \" , Ns+1])]):\n",
    "                    Esrc[i] << spectrum_rng(alpha, Edet_min*(1 + z[lam[i]]), Esrc_max)\n",
    "                    E[i] << Esrc[i] / (1 + z[lam[i]])\n",
    "                with ElseIfBlockContext([StringExpression([lam[i], \" > \", Ns + 1])]):\n",
    "                    E[i] << atmo_energies[atmo_index]\n",
    "                \n",
    "                # Test against Aeff\n",
    "                with IfBlockContext([StringExpression([cosz[i], \">= 0.1\"])]):\n",
    "                    Pdet[i] << 0\n",
    "                with ElseBlockContext():\n",
    "                    Pdet[i] << ntd_pdf.effective_area(E[i], omega) / aeff_max\n",
    "                \n",
    "                Edet[i] << 10**ntd_rng.energy_resolution(E[i])\n",
    "\n",
    "                prob[1] << Pdet[i]\n",
    "                prob[2] << 1 - Pdet[i]\n",
    "                StringExpression([ntrials, \" += \", 1])\n",
    "                \n",
    "                with IfBlockContext([StringExpression([ntrials, \"< 1000000\"])]):\n",
    "                    detected << FunctionCall([prob], \"categorical_rng\")\n",
    "                    with IfBlockContext([StringExpression([\"(\", Edet[i], \" >= \",\n",
    "                                                           Edet_min, \") && (\", \n",
    "                                                           detected == 1, \")\"])]):\n",
    "                        accept << 1        \n",
    "                with ElseBlockContext():\n",
    "                    accept << 1\n",
    "                    StringExpression([\"print(\\\"problem component: \\\", \",\n",
    "                                      lam[i], \");\\n\"])                    \n",
    "                #accept << StringExpression([\"categorical_rng(\", prob, \")\"])\n",
    "            \n",
    "            # Detection effects\n",
    "            event[i] << ntd_rng.angular_resolution(E[i], omega)\n",
    "            \n",
    "    sim = sim_gen.generate_single_file()"
   ]
  },
  {
   "cell_type": "code",
   "execution_count": 13,
   "metadata": {
    "ExecuteTime": {
     "end_time": "2020-09-22T14:55:59.583774Z",
     "start_time": "2020-09-22T14:55:59.165981Z"
    }
   },
   "outputs": [
    {
     "name": "stdout",
     "output_type": "stream",
     "text": [
      "Using cached StanModel\n",
      "Using cached StanModel\n"
     ]
    }
   ],
   "source": [
    "# Compile\n",
    "this_dir = os.path.abspath('')\n",
    "include_paths = [os.path.join(this_dir, \"stan_files/\")]\n",
    "atmo = stan_utility.compile_model(filename=atmo_gen.filename, \n",
    "                                  include_paths=include_paths, \n",
    "                                  model_name=\"atmo\")\n",
    "sim = stan_utility.compile_model(filename=sim_gen.filename, \n",
    "                                 include_paths=include_paths, \n",
    "                                 model_name=\"sim\")"
   ]
  },
  {
   "cell_type": "markdown",
   "metadata": {},
   "source": [
    "## Simulation\n",
    "First run atmo sim to generate a large sample of atmospheric events, then use these as inputs to the main sim."
   ]
  },
  {
   "cell_type": "markdown",
   "metadata": {},
   "source": [
    "#### Atmospheric events"
   ]
  },
  {
   "cell_type": "code",
   "execution_count": 14,
   "metadata": {
    "ExecuteTime": {
     "end_time": "2020-09-22T14:56:00.291034Z",
     "start_time": "2020-09-22T14:55:59.585824Z"
    }
   },
   "outputs": [],
   "source": [
    "atmo_inputs = {}\n",
    "atmo_inputs[\"Edet_min\"] = 1e5 # GeV\n",
    "atmo_inputs[\"Esrc_max\"] = 1e8 # GeV\n",
    "atmo_inputs[\"cosz_min\"] = min(exposure_integral.effective_area._cosz_bin_edges)\n",
    "atmo_inputs[\"cosz_max\"] = max(exposure_integral.effective_area._cosz_bin_edges)\n",
    "atmo_sim = atmo.sampling(data=atmo_inputs, iter=1000, chains=1, \n",
    "                         algorithm=\"NUTS\")"
   ]
  },
  {
   "cell_type": "code",
   "execution_count": 15,
   "metadata": {
    "ExecuteTime": {
     "end_time": "2020-09-22T14:56:00.322889Z",
     "start_time": "2020-09-22T14:56:00.294657Z"
    }
   },
   "outputs": [],
   "source": [
    "atmo_energies = atmo_sim.extract([\"energy\"])[\"energy\"]\n",
    "atmo_directions = atmo_sim.extract([\"omega\"])[\"omega\"]"
   ]
  },
  {
   "cell_type": "code",
   "execution_count": 16,
   "metadata": {
    "ExecuteTime": {
     "end_time": "2020-09-22T14:56:00.873497Z",
     "start_time": "2020-09-22T14:56:00.325697Z"
    }
   },
   "outputs": [
    {
     "data": {
      "image/png": "[encoded data removed]",
      "text/plain": [
       "<Figure size 720x288 with 2 Axes>"
      ]
     },
     "metadata": {
      "needs_background": "light"
     },
     "output_type": "display_data"
    }
   ],
   "source": [
    "# Check outputs\n",
    "fig, ax = plt.subplots(1, 2, figsize=(10, 4))\n",
    "ax[0].hist(np.log10(atmo_energies), alpha=0.5)\n",
    "ax[0].set_yscale(\"log\")\n",
    "ax[1].hist(np.cos(np.pi - np.arccos(atmo_directions.T[2])));"
   ]
  },
  {
   "cell_type": "markdown",
   "metadata": {},
   "source": [
    "#### Full simulation"
   ]
  },
  {
   "cell_type": "code",
   "execution_count": 17,
   "metadata": {
    "ExecuteTime": {
     "end_time": "2020-09-22T14:56:00.898997Z",
     "start_time": "2020-09-22T14:56:00.876210Z"
    }
   },
   "outputs": [],
   "source": [
    "from python.source.cosmology import luminosity_distance\n",
    "from python.source.simple_source import icrs_to_uv, Direction"
   ]
  },
  {
   "cell_type": "code",
   "execution_count": 18,
   "metadata": {
    "ExecuteTime": {
     "end_time": "2020-09-22T14:56:00.930953Z",
     "start_time": "2020-09-22T14:56:00.900585Z"
    }
   },
   "outputs": [],
   "source": [
    "# Preparing some useful inputs\n",
    "redshift = [source_list.sources[i].redshift for i in range(source_list.N-1)]\n",
    "lum_dist = [luminosity_distance(_).value for _ in redshift]\n",
    "varpi_in = np.asarray([icrs_to_uv(source_list.sources[i].dec.value,\n",
    "                                   source_list.sources[i].ra.value) for i in \n",
    "                       range(source_list.N-2)])"
   ]
  },
  {
   "cell_type": "code",
   "execution_count": 19,
   "metadata": {
    "ExecuteTime": {
     "end_time": "2020-09-22T14:56:00.960365Z",
     "start_time": "2020-09-22T14:56:00.932627Z"
    }
   },
   "outputs": [],
   "source": [
    "# Inputs \n",
    "sim_inputs = {}\n",
    "sim_inputs['Ns'] = source_list.N-2\n",
    "\n",
    "sim_inputs['z'] = redshift\n",
    "sim_inputs['D'] = lum_dist[:-1]\n",
    "sim_inputs['varpi'] = varpi_in\n",
    "\n",
    "sim_inputs['Ngrid'] = len(exposure_integral.par_grids[\"index\"])\n",
    "sim_inputs['alpha_grid'] = exposure_integral.par_grids[\"index\"]\n",
    "sim_inputs['integral_grid'] = [_.value for _ in exposure_integral.integral_grid]\n",
    "sim_inputs[\"atmo_integ_val\"] = exposure_integral.integral_fixed_vals[0].value\n",
    "\n",
    "sim_inputs[\"N_atmo\"] = len(atmo_energies)\n",
    "sim_inputs[\"atmo_energies\"] = atmo_energies\n",
    "sim_inputs[\"atmo_directions\"] = atmo_directions\n",
    "sim_inputs[\"atmo_weights\"] = np.tile(1.0/len(atmo_energies), len(atmo_energies))\n",
    "sim_inputs['alpha'] = index.value\n",
    "sim_inputs['Edet_min'] = 1e5 # GeV\n",
    "sim_inputs[\"Esrc_min\"] = 1e5 # GeV\n",
    "sim_inputs[\"Esrc_max\"] = 1e8 # GeV\n",
    "\n",
    "# Set maximum based on Esrc_max to speed up rejection sampling\n",
    "# Could improve this with HMC sampling?\n",
    "lbe = exposure_integral.effective_area._tE_bin_edges[:-1]\n",
    "Esrc_max = sim_inputs[\"Esrc_max\"]\n",
    "aeff_max = np.max(exposure_integral.effective_area._eff_area[lbe < Esrc_max][:])\n",
    "sim_inputs['aeff_max'] = aeff_max"
   ]
  },
  {
   "cell_type": "code",
   "execution_count": 20,
   "metadata": {
    "ExecuteTime": {
     "end_time": "2020-09-22T14:56:01.091168Z",
     "start_time": "2020-09-22T14:56:00.961808Z"
    }
   },
   "outputs": [],
   "source": [
    "# Only sample from Northern hemisphere\n",
    "sim_inputs[\"v_lim\"] = (np.cos(np.pi - np.arccos(atmo_inputs[\"cosz_max\"])) + 1) / 2\n",
    "\n",
    "sim_inputs[\"F_diff\"] = diffuse_bg.flux_model.total_flux_int.value # m^-2 yr^-1\n",
    "sim_inputs[\"F_atmo\"] = atmo_bg.flux_model.total_flux_int.value \n",
    "sim_inputs['L'] = source_list.sources[0].luminosity.to(u.GeV/u.s).value"
   ]
  },
  {
   "cell_type": "code",
   "execution_count": 21,
   "metadata": {
    "ExecuteTime": {
     "end_time": "2020-09-22T14:56:34.684705Z",
     "start_time": "2020-09-22T14:56:01.092987Z"
    }
   },
   "outputs": [],
   "source": [
    "# Simulate\n",
    "simulation = sim.sampling(data=sim_inputs, iter=1, chains=1, \n",
    "                         algorithm=\"Fixed_param\")"
   ]
  },
  {
   "cell_type": "markdown",
   "metadata": {},
   "source": [
    "#### Plot output"
   ]
  },
  {
   "cell_type": "code",
   "execution_count": 22,
   "metadata": {
    "ExecuteTime": {
     "end_time": "2020-09-22T14:56:34.740699Z",
     "start_time": "2020-09-22T14:56:34.685967Z"
    }
   },
   "outputs": [],
   "source": [
    "# Energies\n",
    "Esrc = simulation.extract(['Esrc'])['Esrc'][0]\n",
    "E = simulation.extract(['E'])['E'][0]\n",
    "Edet_sim = simulation.extract(['Edet'])['Edet'][0]\n",
    "\n",
    "# Arrival directions\n",
    "event = simulation.extract(['event'])['event'][0]\n",
    "event = Direction(event)\n",
    "e_ra = event.d.icrs.ra.rad\n",
    "e_dec = event.d.icrs.dec.rad\n",
    "\n",
    "true_dir = simulation.extract(['omega'])['omega'][0]\n",
    "true_dir = Direction(true_dir)\n",
    "e_t_ra = true_dir.d.icrs.ra.rad\n",
    "e_t_dec = true_dir.d.icrs.dec.rad\n",
    "\n",
    "source = Direction(varpi_in)\n",
    "s_ra = source.d.icrs.ra.rad\n",
    "s_dec = source.d.icrs.dec.rad\n",
    "\n",
    "# event type\n",
    "#event_type = simulation.extract(['event_type'])['event_type'][0]\n",
    "#zenith = simulation.extract(['zenith'])['zenith'][0]"
   ]
  },
  {
   "cell_type": "code",
   "execution_count": 23,
   "metadata": {
    "ExecuteTime": {
     "end_time": "2020-09-22T14:56:34.771455Z",
     "start_time": "2020-09-22T14:56:34.742204Z"
    }
   },
   "outputs": [
    {
     "name": "stdout",
     "output_type": "stream",
     "text": [
      "Nsrc:  23\n",
      "Nbg:  8\n",
      "w_bg:  0.25806451612903225\n"
     ]
    }
   ],
   "source": [
    "lam = simulation.extract(['Lambda'])['Lambda'][0] - 1\n",
    "Nc = sim_inputs['Ns']\n",
    "label_cmap = plt.cm.get_cmap('plasma', Nc+2)\n",
    "\n",
    "lam = list(lam)\n",
    "Nsrc = sum([lam.count(_) for _ in range(int(Nc))])\n",
    "Nbg = lam.count(Nc) + lam.count(Nc+1)\n",
    "print('Nsrc: ', Nsrc)\n",
    "print('Nbg: ', Nbg)\n",
    "print('w_bg: ', Nbg / (Nbg+Nsrc))"
   ]
  },
  {
   "cell_type": "code",
   "execution_count": 24,
   "metadata": {
    "ExecuteTime": {
     "end_time": "2020-09-22T14:56:34.798484Z",
     "start_time": "2020-09-22T14:56:34.773250Z"
    }
   },
   "outputs": [],
   "source": [
    "import matplotlib.patches as mpatches\n",
    "from matplotlib.collections import PatchCollection\n",
    "from matplotlib.colors import LinearSegmentedColormap"
   ]
  },
  {
   "cell_type": "code",
   "execution_count": 25,
   "metadata": {
    "ExecuteTime": {
     "end_time": "2020-09-22T14:56:35.199793Z",
     "start_time": "2020-09-22T14:56:34.800227Z"
    }
   },
   "outputs": [
    {
     "data": {
      "text/plain": [
       "<matplotlib.lines.Line2D at 0x135fd2bb0>"
      ]
     },
     "execution_count": 25,
     "metadata": {},
     "output_type": "execute_result"
    },
    {
     "data": {
      "image/png": "[encoded data removed]",
      "text/plain": [
       "<Figure size 720x576 with 1 Axes>"
      ]
     },
     "metadata": {
      "needs_background": "light"
     },
     "output_type": "display_data"
    }
   ],
   "source": [
    "fig = plt.figure()\n",
    "fig.set_size_inches((10, 8))\n",
    "ax = fig.add_subplot(111, projection='hammer')\n",
    "\n",
    "circles = []\n",
    "for r, d, l in zip(e_ra, e_dec, lam):\n",
    "    color = label_cmap.colors[int(l)]\n",
    "    circles.append(mpatches.Circle((r-np.pi,d), 0.05, color=color, alpha=0.7))\n",
    "collection = PatchCollection(circles, match_original=True)    \n",
    "ax.add_collection(collection)   \n",
    "\n",
    "circles = []\n",
    "norm = max([1 - _/zth for _ in redshift])\n",
    "for r, d, z in zip(s_ra, s_dec, redshift):\n",
    "    circles.append(mpatches.Circle((r-np.pi,d), 0.05, color='k', alpha=(1-z/zth)/norm))\n",
    "collection = PatchCollection(circles, match_original=True)\n",
    "ax.add_collection(collection)\n",
    "ax.axhline(np.deg2rad(-5), color='k', linestyle=\":\")"
   ]
  },
  {
   "cell_type": "code",
   "execution_count": 26,
   "metadata": {
    "ExecuteTime": {
     "end_time": "2020-09-22T14:56:36.172549Z",
     "start_time": "2020-09-22T14:56:35.202763Z"
    }
   },
   "outputs": [
    {
     "data": {
      "image/png": "[encoded data removed]",
      "text/plain": [
       "<Figure size 432x288 with 1 Axes>"
      ]
     },
     "metadata": {
      "needs_background": "light"
     },
     "output_type": "display_data"
    }
   ],
   "source": [
    "# Plot energies\n",
    "Edet_min = sim_inputs['Edet_min']\n",
    "bins = np.logspace(np.log(Edet_min/1000), np.log(1E+4*Edet_min), base = np.e)\n",
    "\n",
    "fig, ax = plt.subplots()\n",
    "ax.hist(E, bins=bins, label='$\\\\tilde{E}$', alpha=0.7);\n",
    "ax.hist(Edet_sim, bins=bins, label='$\\hat{E}$', alpha=0.7);\n",
    "ax.axvline(sim_inputs[\"Edet_min\"], color='k')\n",
    "ax.set_xscale('log')\n",
    "ax.set_yscale('log')\n",
    "ax.set_xlabel('$E$ / GeV')\n",
    "ax.legend();"
   ]
  },
  {
   "cell_type": "markdown",
   "metadata": {},
   "source": [
    "## Generate Stan code for fit (under testing)"
   ]
  },
  {
   "cell_type": "code",
   "execution_count": 27,
   "metadata": {
    "ExecuteTime": {
     "end_time": "2020-09-22T14:56:36.197879Z",
     "start_time": "2020-09-22T14:56:36.174871Z"
    }
   },
   "outputs": [],
   "source": [
    "from python.backend.stan_generator import ParametersContext, TransformedParametersContext, ModelContext\n",
    "from python.backend.variable_definitions import ParameterDef, ParameterVectorDef"
   ]
  },
  {
   "cell_type": "code",
   "execution_count": 46,
   "metadata": {
    "ExecuteTime": {
     "end_time": "2020-09-22T15:10:08.276514Z",
     "start_time": "2020-09-22T15:10:08.056274Z"
    },
    "collapsed": true
   },
   "outputs": [
    {
     "name": "stderr",
     "output_type": "stream",
     "text": [
      "INFO:python.backend.code_generator:Object of type <python.backend.stan_generator.FunctionsContext object at 0x137cbe160> already on stack\n",
      "INFO:python.backend.code_generator:Object of type <python.backend.stan_generator.FunctionsContext object at 0x137cbe4f0> already on stack\n",
      "INFO:python.backend.code_generator:Object of type <python.backend.stan_generator.FunctionsContext object at 0x137cbec70> already on stack\n",
      "INFO:python.backend.code_generator:Object of type <python.backend.stan_generator.DefinitionContext object at 0x137c930a0> already on stack\n",
      "INFO:python.backend.code_generator:Object of type <python.backend.stan_generator.DefinitionContext object at 0x137cbee80> already on stack\n",
      "INFO:python.backend.code_generator:Object of type <python.backend.stan_generator.DefinitionContext object at 0x137c931f0> already on stack\n",
      "INFO:python.backend.code_generator:Object of type <python.backend.stan_generator.DefinitionContext object at 0x137c93370> already on stack\n",
      "INFO:python.backend.code_generator:Object of type <python.backend.stan_generator.FunctionsContext object at 0x137c937f0> already on stack\n",
      "INFO:python.backend.code_generator:Object of type <python.backend.stan_generator.FunctionsContext object at 0x137c93880> already on stack\n",
      "INFO:python.backend.code_generator:Object of type <python.backend.stan_generator.DefinitionContext object at 0x137cbea00> already on stack\n",
      "INFO:python.backend.code_generator:Object of type <python.backend.stan_generator.DefinitionContext object at 0x137cbe640> already on stack\n",
      "INFO:python.backend.code_generator:Object of type <python.backend.stan_generator.FunctionsContext object at 0x137cacb20> already on stack\n",
      "INFO:python.backend.code_generator:Object of type <python.backend.stan_generator.DefinitionContext object at 0x137cbe310> already on stack\n",
      "INFO:python.backend.code_generator:Object of type <python.backend.stan_generator.FunctionsContext object at 0x137b0b5e0> already on stack\n",
      "INFO:python.backend.code_generator:Object of type <python.backend.stan_generator.DefinitionContext object at 0x137b0b400> already on stack\n",
      "INFO:python.backend.code_generator:Object of type <python.backend.stan_generator.DefinitionContext object at 0x137b22460> already on stack\n",
      "INFO:python.backend.code_generator:Object of type <python.backend.stan_generator.DefinitionContext object at 0x137b22100> already on stack\n",
      "INFO:python.backend.code_generator:Object of type <python.backend.stan_generator.DefinitionContext object at 0x137b22580> already on stack\n",
      "INFO:python.backend.code_generator:Object of type <python.backend.stan_generator.DefinitionContext object at 0x137b22340> already on stack\n",
      "INFO:python.backend.code_generator:Object of type <python.backend.stan_generator.DefinitionContext object at 0x137b22040> already on stack\n",
      "INFO:python.backend.code_generator:Object of type <python.backend.stan_generator.DefinitionContext object at 0x137b22af0> already on stack\n",
      "INFO:python.backend.code_generator:Object of type <python.backend.stan_generator.DefinitionContext object at 0x137b22bb0> already on stack\n",
      "INFO:python.backend.code_generator:Object of type <python.backend.stan_generator.DefinitionContext object at 0x137b227f0> already on stack\n",
      "INFO:python.backend.code_generator:Object of type <python.backend.stan_generator.DefinitionContext object at 0x137b22a00> already on stack\n",
      "INFO:python.backend.code_generator:Object of type <python.backend.stan_generator.DefinitionContext object at 0x137b22310> already on stack\n",
      "INFO:python.backend.code_generator:Object of type <python.backend.stan_generator.DefinitionContext object at 0x137b22490> already on stack\n",
      "INFO:python.backend.code_generator:Object of type <python.backend.stan_generator.DefinitionContext object at 0x137b22610> already on stack\n",
      "INFO:python.backend.code_generator:Object of type <python.backend.stan_generator.DefinitionContext object at 0x137a468e0> already on stack\n",
      "INFO:python.backend.code_generator:Object of type <python.backend.stan_generator.DefinitionContext object at 0x137a46ac0> already on stack\n",
      "INFO:python.backend.code_generator:Object of type <python.backend.stan_generator.DefinitionContext object at 0x137a46d00> already on stack\n",
      "INFO:python.backend.code_generator:Object of type <python.backend.stan_generator.DefinitionContext object at 0x137a46130> already on stack\n",
      "INFO:python.backend.code_generator:Object of type <python.backend.stan_generator.DefinitionContext object at 0x137a46eb0> already on stack\n",
      "INFO:python.backend.code_generator:Object of type <python.backend.stan_generator.DefinitionContext object at 0x137a46550> already on stack\n",
      "INFO:python.backend.code_generator:Object of type <python.backend.stan_generator.DefinitionContext object at 0x137a46670> already on stack\n",
      "INFO:python.backend.code_generator:Object of type <python.backend.stan_generator.DefinitionContext object at 0x137a464c0> already on stack\n",
      "INFO:python.backend.code_generator:Object of type <python.backend.stan_generator.DefinitionContext object at 0x137a46580> already on stack\n",
      "INFO:python.backend.code_generator:Object of type <python.backend.stan_generator.DefinitionContext object at 0x137a46370> already on stack\n",
      "INFO:python.backend.code_generator:Object of type <python.backend.stan_generator.DefinitionContext object at 0x137a460d0> already on stack\n",
      "INFO:python.backend.code_generator:Object of type <python.backend.stan_generator.DefinitionContext object at 0x137a46040> already on stack\n",
      "INFO:python.backend.code_generator:Object of type <python.backend.stan_generator.DefinitionContext object at 0x137a464f0> already on stack\n",
      "INFO:python.backend.code_generator:Object of type <python.backend.stan_generator.DefinitionContext object at 0x137a734f0> already on stack\n",
      "INFO:python.backend.code_generator:Object of type <python.backend.stan_generator.DefinitionContext object at 0x137a73550> already on stack\n",
      "INFO:python.backend.code_generator:Object of type <python.backend.stan_generator.DefinitionContext object at 0x137a73580> already on stack\n",
      "INFO:python.backend.code_generator:Object of type <python.backend.stan_generator.DefinitionContext object at 0x137a734c0> already on stack\n",
      "INFO:python.backend.code_generator:Object of type <python.backend.stan_generator.DefinitionContext object at 0x137a73880> already on stack\n"
     ]
    }
   ],
   "source": [
    "with StanFileGenerator(\"stan_files/model_code\") as fit_gen:\n",
    "\n",
    "    with FunctionsContext() as fc:\n",
    "        _ = Include(\"utils.stan\")\n",
    "        _ = Include(\"vMF.stan\")\n",
    "        _ = Include(\"interpolation.stan\")\n",
    "        _ = Include(\"sim_functions.stan\")\n",
    "        ntd = NorthernTracksDetectorModel()\n",
    "        \n",
    "        flux_fac = source_list[0].flux_model.spectral_shape.make_stan_flux_conv_func(\"flux_conv\")\n",
    "        spectrum_lpdf = source_list[0].flux_model.spectral_shape.make_stan_lpdf_func(\"spectrum_lpdf\")\n",
    "        \n",
    "    with DataContext() as dc:\n",
    "        \n",
    "        # Neutrinos\n",
    "        N = ForwardVariableDef(\"N\", \"int\")\n",
    "        N_str = [\"[\", N, \"]\"]\n",
    "        omega_det = ForwardArrayDef(\"omega_det\", \"unit_vector[3]\", N_str)\n",
    "        Edet = ForwardVariableDef(\"Edet\", \"vector[N]\")\n",
    "        Edet_min = ForwardVariableDef(\"Edet_min\", \"real\")\n",
    "        Esrc_min = ForwardVariableDef(\"Esrc_min\", \"real\")\n",
    "        Esrc_max = ForwardVariableDef(\"Edet_max\", \"real\")\n",
    "        \n",
    "        # Sources\n",
    "        Ns = ForwardVariableDef(\"Ns\", \"int\")\n",
    "        Ns_str = [\"[\", Ns, \"]\"]\n",
    "        Ns_1p_str = [\"[\", Ns, \"+1]\"]\n",
    "        \n",
    "        varpi = ForwardArrayDef(\"varpi\", \"unit_vector[3]\", Ns_str)\n",
    "        D = ForwardVariableDef(\"D\", \"vector[Ns]\")\n",
    "        z = ForwardVariableDef(\"z\", \"vector[Ns+1]\")\n",
    "\n",
    "        # Precomputed quantities\n",
    "        Ngrid = ForwardVariableDef(\"Ngrid\", \"int\")\n",
    "        alpha_grid = ForwardVariableDef(\"alpha_grid\", \"vector[Ngrid]\")\n",
    "        integral_grid = ForwardArrayDef(\"integral_grid\", \n",
    "                                        \"vector[Ngrid]\", Ns_1p_str)\n",
    "        atmo_integ_val = ForwardVariableDef(\"atmo_integ_val\", \"real\")\n",
    "        Eg = ForwardVariableDef(\"E_grid\", \"vector[Ngrid]\")\n",
    "        Pg = ForwardArrayDef(\"Pdet_grid\", \"vector[Ngrid]\", Ns_1p_str)\n",
    "        \n",
    "        # Inputs\n",
    "        #T = ForwardVariableDef(\"T\", \"real\")\n",
    "        \n",
    "        # Debugging\n",
    "        L_scale = ForwardVariableDef(\"L_scale\", \"real\")\n",
    "        F_diff_scale = ForwardVariableDef(\"F_diff_scale\", \"real\")\n",
    "        F_atmo_scale = ForwardVariableDef(\"F_atmo_scale\", \"real\")\n",
    "        \n",
    "    with TransformedDataContext() as tdc:\n",
    "        \n",
    "        zenith = ForwardVariableDef(\"zenith\", \"vector[N]\")\n",
    "        \n",
    "        with ForLoopContext(1, N, \"i\") as i:\n",
    "            zenith[i] << StringExpression([\"pi() - acos(\", omega_det[i][3], \")\"])\n",
    "        \n",
    "        # Just to use it\n",
    "        StringExpression([\"print(\", Ngrid, \")\"])\n",
    "        StringExpression([\"print(\", Edet_min, \")\"])\n",
    "            \n",
    "    with ParametersContext() as pc:\n",
    "        \n",
    "        L = ParameterDef(\"L\", \"real\", 0.0, 1e60)\n",
    "        F_diff = ParameterDef(\"F_diff\", \"real\", 0.0, 500)\n",
    "        F_atmo = ParameterDef(\"F_atmo\", \"real\", 0.0, 500)\n",
    "        \n",
    "        alpha = ParameterDef(\"alpha\", \"real\", 1.0, 4.0)\n",
    "        \n",
    "        Esrc = ParameterVectorDef(\"Esrc\", \"vector\", N_str, Esrc_min, 1e8)\n",
    "        \n",
    "    with TransformedParametersContext() as tpc:\n",
    "        \n",
    "        Fsrc = ForwardVariableDef(\"Fsrc\", \"real\")\n",
    "        F = ForwardVariableDef(\"F\", \"vector[Ns+2]\")\n",
    "        eps = ForwardVariableDef(\"eps\", \"vector[Ns+2]\")\n",
    "        \n",
    "        f = ParameterDef(\"f\", \"real\", 0, 1)\n",
    "        Ftot = ParameterDef(\"Ftot\", \"real\", 0)\n",
    "        \n",
    "        lp = ForwardArrayDef(\"lp\", \"vector[Ns+2]\", N_str)\n",
    "        logF = ForwardVariableDef(\"logF\", \"vector[Ns+2]\")\n",
    "        Nex = ForwardVariableDef(\"Nex\", \"real\")\n",
    "        E = ForwardVariableDef(\"E\", \"vector[N]\")       \n",
    "        \n",
    "        with ForLoopContext(1, Ns, \"k\") as k:\n",
    "            F[k] << StringExpression([L, \"/ (4 * pi() * pow(\", \n",
    "                                      D[k], \" * \", 3.086e22, \", 2))\"])\n",
    "            StringExpression([F[k], \"*=\",  flux_fac(alpha, Esrc_min, Esrc_max)])\n",
    "            StringExpression([Fsrc, \"+=\", F[k]])   \n",
    "            \n",
    "        StringExpression(\"F[Ns+1]\") << F_diff\n",
    "        StringExpression(\"F[Ns+2]\") << F_atmo\n",
    "        \n",
    "        Ftot << F_diff + F_atmo + Fsrc\n",
    "        f << StringExpression([Fsrc, \" / \", Ftot]) \n",
    "        \n",
    "        logF << StringExpression([\"log(\", F, \")\"])\n",
    "        \n",
    "        with ForLoopContext(1, N, \"i\") as i:\n",
    "            lp[i] << logF \n",
    "            with ForLoopContext(1, \"Ns+1\", \"k\") as k:\n",
    "                StringExpression([lp[i][k], \" += pareto_lpdf(\", Esrc[i], \n",
    "                                  \" | \", Esrc_min, \" , \", alpha-1, \")\"])\n",
    "                E[i] << StringExpression([Esrc[i], \" / (\",  1+z[k], \")\"]) \n",
    "                \n",
    "                StringExpression([\"if (\", k ,\" < Ns+1) {\\n\", \n",
    "                                  lp[i][k], \" += \", \n",
    "                                  ntd.angular_resolution(E[i], \n",
    "                                                         varpi[k], omega_det[i]),\n",
    "                                  \";\\n}\\n\", \"else if (\", k, \" == Ns+1) {\\n\", \n",
    "                                  lp[i][k], \" += \", np.log(1/(4*np.pi)), \n",
    "                                  \";\\n}\"])\n",
    "                \n",
    "                StringExpression([lp[i][k], \" += \", \n",
    "                                  ntd.energy_resolution(E[i], Edet[i])])\n",
    "                StringExpression([lp[i][k], \" += log(interpolate(\", \n",
    "                                  Eg, \", \", Pg[k], \", \", E[i], \"))\"])\n",
    "                       \n",
    "        eps << FunctionCall([alpha, alpha_grid, integral_grid, \n",
    "                             atmo_integ_val, Ns], \"get_exposure_factor\")\n",
    "        Nex << FunctionCall([F, eps], \"get_Nex\")\n",
    "    \n",
    "    with ModelContext() as mc:\n",
    "        \n",
    "        with ForLoopContext(1, N, \"i\") as i:\n",
    "            StringExpression([\"target += log_sum_exp(\", lp[i], \")\"])\n",
    "        StringExpression([\"target += -\", Nex])\n",
    "        \n",
    "        StringExpression([L, \" ~ normal(0, \", L_scale, \")\"])\n",
    "        StringExpression([F_diff, \" ~ normal(0, \", F_diff_scale, \")\"])\n",
    "        StringExpression([F_atmo, \" ~ normal(0, \", F_atmo_scale, \")\"])\n",
    "        StringExpression([alpha, \" ~ normal(2.0, 2.0)\"])\n",
    "        \n",
    "    model = fit_gen.generate_single_file()"
   ]
  },
  {
   "cell_type": "code",
   "execution_count": 47,
   "metadata": {
    "ExecuteTime": {
     "end_time": "2020-09-22T15:11:03.257522Z",
     "start_time": "2020-09-22T15:10:18.260525Z"
    }
   },
   "outputs": [
    {
     "name": "stderr",
     "output_type": "stream",
     "text": [
      "INFO:pystan:COMPILING THE C++ CODE FOR MODEL model_83563035d22d112f616955821f3ec6e6 NOW.\n"
     ]
    }
   ],
   "source": [
    "# Compile\n",
    "this_dir = os.path.abspath('')\n",
    "include_paths = [os.path.join(this_dir, \"stan_files/\")]\n",
    "sm = stan_utility.compile_model(filename=cg.filename, include_paths=include_paths, \n",
    "                                model_name=\"model\")"
   ]
  },
  {
   "cell_type": "code",
   "execution_count": null,
   "metadata": {
    "ExecuteTime": {
     "end_time": "2020-08-14T15:51:35.249450Z",
     "start_time": "2020-08-14T15:51:35.241687Z"
    }
   },
   "outputs": [],
   "source": [
    "inputs = {}\n",
    "inputs[\"N\"] = len(Edet_sim)\n",
    "inputs[\"omega_det\"] = event.unit_vector\n",
    "inputs[\"Edet\"] = Edet_sim\n",
    "inputs[\"Ns\"] = source_list.N - 1\n",
    "\n",
    "inputs['z'] = redshift\n",
    "inputs['D'] = lum_dist[:-1]\n",
    "inputs['varpi'] = varpi_in\n",
    "\n",
    "inputs[\"Emin\"] = 1e5 # GeV\n",
    "\n",
    "inputs['Ngrid'] = len(exposure_integral.alpha_grid)\n",
    "inputs['alpha_grid'] = exposure_integral.alpha_grid\n",
    "inputs['integral_grid'] = exposure_integral.integral_grid\n",
    "inputs[\"E_grid\"] = E_grid\n",
    "inputs[\"Pdet_grid\"] = Pdet_grid\n",
    "inputs[\"Q_scale\"] = sim_inputs[\"Q\"]\n",
    "inputs[\"F0_scale\"] = sim_inputs[\"F0\"]\n",
    "inputs[\"T\"] = 1"
   ]
  },
  {
   "cell_type": "code",
   "execution_count": null,
   "metadata": {
    "ExecuteTime": {
     "end_time": "2020-08-14T15:57:02.916039Z",
     "start_time": "2020-08-14T15:51:35.770241Z"
    }
   },
   "outputs": [],
   "source": [
    "# fit\n",
    "fit = sm.sampling(data=inputs, iter=500, chains=4)"
   ]
  },
  {
   "cell_type": "code",
   "execution_count": null,
   "metadata": {
    "ExecuteTime": {
     "end_time": "2020-08-14T15:57:45.670687Z",
     "start_time": "2020-08-14T15:57:43.260630Z"
    }
   },
   "outputs": [],
   "source": [
    "# View chains\n",
    "fig = fit.plot([r'Q', r'F0', r'f', r'alpha', r'F', r\"Nex\"]);\n",
    "fig.set_size_inches(20, 16)\n",
    "fig.tight_layout()"
   ]
  },
  {
   "cell_type": "code",
   "execution_count": null,
   "metadata": {
    "ExecuteTime": {
     "end_time": "2020-08-14T15:57:53.261495Z",
     "start_time": "2020-08-14T15:57:51.163993Z"
    }
   },
   "outputs": [],
   "source": [
    "# View corner plot\n",
    "chain = fit.extract(permuted = True)\n",
    "key_list = ['F0', 'Q', 'FT', 'f', 'alpha']\n",
    "labels = [r'$F_0$', r'Q', r'FT', r'f', 'alpha']\n",
    "truths = [sim_inputs['F0'], sim_inputs['Q'], total_flux, 0.5, sim_inputs['alpha']]\n",
    "\n",
    "corner.corner(np.nan_to_num(np.column_stack([chain[key] for key in key_list])),\n",
    "              labels = labels, truths = truths);"
   ]
  },
  {
   "cell_type": "code",
   "execution_count": null,
   "metadata": {},
   "outputs": [],
   "source": []
  }
 ],
 "metadata": {
  "kernelspec": {
   "display_name": "bayes",
   "language": "python",
   "name": "bayes"
  },
  "language_info": {
   "codemirror_mode": {
    "name": "ipython",
    "version": 3
   },
   "file_extension": ".py",
   "mimetype": "text/x-python",
   "name": "python",
   "nbconvert_exporter": "python",
   "pygments_lexer": "ipython3",
   "version": "3.8.5"
  }
 },
 "nbformat": 4,
 "nbformat_minor": 4
}
