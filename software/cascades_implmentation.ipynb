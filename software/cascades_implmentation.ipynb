{
 "cells": [
  {
   "cell_type": "code",
   "execution_count": 22,
   "metadata": {
    "ExecuteTime": {
     "end_time": "2021-01-14T16:49:09.750449Z",
     "start_time": "2021-01-14T16:49:09.720746Z"
    }
   },
   "outputs": [
    {
     "name": "stdout",
     "output_type": "stream",
     "text": [
      "The autoreload extension is already loaded. To reload it, use:\n",
      "  %reload_ext autoreload\n"
     ]
    }
   ],
   "source": [
    "import numpy as np\n",
    "from matplotlib import pyplot as plt\n",
    "from astropy import units as u\n",
    "%load_ext autoreload\n",
    "%autoreload 2\n",
    "from python.detector.cascades import CascadesEffectiveArea, CascadesEnergyResolution\n",
    "from python.detector.cascades import CascadesAngularResolution\n",
    "from python.detector.northern_tracks import NorthernTracksEffectiveArea\n",
    "from python.detector.northern_tracks import NorthernTracksEnergyResolution\n",
    "from python.detector.northern_tracks import NorthernTracksAngularResolution\n",
    "from python.backend.stan_generator import StanGenerator"
   ]
  },
  {
   "cell_type": "code",
   "execution_count": 31,
   "metadata": {
    "ExecuteTime": {
     "end_time": "2021-01-14T16:56:54.589890Z",
     "start_time": "2021-01-14T16:56:54.552325Z"
    }
   },
   "outputs": [],
   "source": [
    "with StanGenerator():\n",
    "    aeff = CascadesEffectiveArea()\n",
    "    #aeff = NorthernTracksEffectiveArea()\n",
    "    \n",
    "    eres = CascadesEnergyResolution()\n",
    "    #eres = NorthernTracksEnergyResolution()\n",
    "    \n",
    "    #ares = NorthernTracksAngularResolution()\n",
    "    #ares = CascadesAngularResolution()"
   ]
  },
  {
   "cell_type": "code",
   "execution_count": 32,
   "metadata": {
    "ExecuteTime": {
     "end_time": "2021-01-14T16:56:54.939029Z",
     "start_time": "2021-01-14T16:56:54.913589Z"
    }
   },
   "outputs": [],
   "source": [
    "aeff.set_energy_range(3e4*u.GeV, 1e8*u.GeV)"
   ]
  },
  {
   "cell_type": "code",
   "execution_count": 25,
   "metadata": {
    "ExecuteTime": {
     "end_time": "2021-01-14T16:49:11.297144Z",
     "start_time": "2021-01-14T16:49:11.271813Z"
    }
   },
   "outputs": [],
   "source": [
    "aeff.set_cosz_range(-0.8, 0.0)"
   ]
  },
  {
   "cell_type": "code",
   "execution_count": 33,
   "metadata": {
    "ExecuteTime": {
     "end_time": "2021-01-14T16:57:00.582777Z",
     "start_time": "2021-01-14T16:57:00.440376Z"
    }
   },
   "outputs": [
    {
     "data": {
      "text/plain": [
       "<matplotlib.lines.Line2D at 0x13896cc40>"
      ]
     },
     "execution_count": 33,
     "metadata": {},
     "output_type": "execute_result"
    },
    {
     "data": {
      "image/png": "[encoded data removed]",
      "text/plain": [
       "<Figure size 432x288 with 1 Axes>"
      ]
     },
     "metadata": {
      "needs_background": "light"
     },
     "output_type": "display_data"
    }
   ],
   "source": [
    "Egrid = 10**np.linspace(3, 8) * u.GeV\n",
    "P = eres.prob_Edet_above_threshold(Egrid, 6e4 * u.GeV)\n",
    "fig, ax = plt.subplots()\n",
    "ax.plot(np.log10(Egrid.value), P)\n",
    "ax.axvline(np.log10(3.5e4))"
   ]
  },
  {
   "cell_type": "code",
   "execution_count": 53,
   "metadata": {
    "ExecuteTime": {
     "end_time": "2021-01-14T17:28:16.250053Z",
     "start_time": "2021-01-14T17:28:16.221521Z"
    }
   },
   "outputs": [],
   "source": [
    "filename=\"/Users/fran/Desktop/effective_area.nu_e.txt\"\n",
    "out = np.loadtxt(filename).T\n",
    "e_low = out[0]\n",
    "e_high = out[1]\n",
    "cz_low = out[2]\n",
    "cz_high = out[3]\n",
    "aeff = out[4]"
   ]
  },
  {
   "cell_type": "code",
   "execution_count": 54,
   "metadata": {
    "ExecuteTime": {
     "end_time": "2021-01-14T17:28:16.481138Z",
     "start_time": "2021-01-14T17:28:16.454510Z"
    }
   },
   "outputs": [
    {
     "data": {
      "text/plain": [
       "71.13"
      ]
     },
     "execution_count": 54,
     "metadata": {},
     "output_type": "execute_result"
    }
   ],
   "source": [
    "np.max(aeff[e_high<1e7])"
   ]
  },
  {
   "cell_type": "markdown",
   "metadata": {},
   "source": [
    "#### Eres parametrisation"
   ]
  },
  {
   "cell_type": "code",
   "execution_count": 16,
   "metadata": {},
   "outputs": [],
   "source": [
    "import numpy as np\n",
    "import h5py\n",
    "from scipy.stats import norm, skewnorm\n",
    "from scipy.optimize import curve_fit"
   ]
  },
  {
   "cell_type": "code",
   "execution_count": 17,
   "metadata": {},
   "outputs": [],
   "source": [
    "with h5py.File(\"input/cascades/cascade_detector_model_test.h5\", \"r\") as f:\n",
    "    eres = f[\"eres/eres\"][()]\n",
    "    tE_bins = f[\"eres/tE_bin_edges\"][()]\n",
    "    rE_bins = f[\"eres/rE_bin_edges\"][()]\n",
    "rE_binc = 0.5 * (rE_bins[:-1] + rE_bins[1:]) "
   ]
  },
  {
   "cell_type": "code",
   "execution_count": 18,
   "metadata": {},
   "outputs": [
    {
     "data": {
      "text/plain": [
       "[<matplotlib.lines.Line2D at 0x13e220220>]"
      ]
     },
     "execution_count": 18,
     "metadata": {},
     "output_type": "execute_result"
    },
    {
     "data": {
      "image/png": "[encoded data removed]",
      "text/plain": [
       "<Figure size 432x288 with 1 Axes>"
      ]
     },
     "metadata": {
      "needs_background": "light"
     },
     "output_type": "display_data"
    }
   ],
   "source": [
    "x = np.linspace(3, 7)\n",
    "fig, ax = plt.subplots()\n",
    "ax.plot(x, norm(loc=6, scale=0.1).pdf(x), color='k', linestyle=':')\n",
    "ax.plot(x, skewnorm(loc=6, a=-4).pdf(x), color='k', linestyle=':')\n",
    "ax.plot(np.log10(rE_binc), eres[30])"
   ]
  },
  {
   "cell_type": "code",
   "execution_count": 19,
   "metadata": {},
   "outputs": [],
   "source": [
    "def my_fit_func(x, loc, scale, a, w):\n",
    "    t = loc*1.03\n",
    "    n = np.zeros_like(x)\n",
    "    n[x<=t] = norm(loc=loc, scale=scale).pdf(x[x<=t])\n",
    "    n[x>t] = 0\n",
    "    sn = np.zeros_like(x)\n",
    "    sn[x<=t] = skewnorm(loc=loc, a=a).pdf(x[x<=t])\n",
    "    sn[x>t] = 0\n",
    "    return (w*n) + ((1-w)*sn)"
   ]
  },
  {
   "cell_type": "code",
   "execution_count": 20,
   "metadata": {},
   "outputs": [],
   "source": [
    "i =20\n",
    "p0 = [5.5, 0.1, -4, 1.0]\n",
    "bounds = ([3, 0, -10, 0], [7, 10, 0, 10])\n",
    "popt, pcov = curve_fit(my_fit_func, np.log10(rE_binc), eres[i], p0=p0, bounds=bounds)"
   ]
  },
  {
   "cell_type": "code",
   "execution_count": 21,
   "metadata": {},
   "outputs": [
    {
     "data": {
      "text/plain": [
       "[<matplotlib.lines.Line2D at 0x13e8aa610>]"
      ]
     },
     "execution_count": 21,
     "metadata": {},
     "output_type": "execute_result"
    },
    {
     "data": {
      "image/png": "[encoded data removed]",
      "text/plain": [
       "<Figure size 432x288 with 1 Axes>"
      ]
     },
     "metadata": {
      "needs_background": "light"
     },
     "output_type": "display_data"
    }
   ],
   "source": [
    "fig, ax = plt.subplots()\n",
    "ax.plot(np.log10(rE_binc), eres[i])\n",
    "ax.plot(np.log10(rE_binc), my_fit_func(np.log10(rE_binc), *popt), \n",
    "        color='k', linestyle=':')\n",
    "#ax.set_yscale(\"log\")\n",
    "#ax.set_ylim(1e-5)"
   ]
  },
  {
   "cell_type": "code",
   "execution_count": null,
   "metadata": {},
   "outputs": [],
   "source": []
  }
 ],
 "metadata": {
  "kernelspec": {
   "display_name": "bayes",
   "language": "python",
   "name": "bayes"
  },
  "language_info": {
   "codemirror_mode": {
    "name": "ipython",
    "version": 3
   },
   "file_extension": ".py",
   "mimetype": "text/x-python",
   "name": "python",
   "nbconvert_exporter": "python",
   "pygments_lexer": "ipython3",
   "version": "3.8.5"
  }
 },
 "nbformat": 4,
 "nbformat_minor": 4
}
