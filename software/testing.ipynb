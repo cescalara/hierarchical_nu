{
 "cells": [
  {
   "cell_type": "markdown",
   "metadata": {},
   "source": [
    "# Testing software"
   ]
  },
  {
   "cell_type": "code",
   "execution_count": 1,
   "metadata": {
    "ExecuteTime": {
     "end_time": "2019-10-04T18:23:07.172411Z",
     "start_time": "2019-10-04T18:23:06.867766Z"
    }
   },
   "outputs": [],
   "source": [
    "import numpy as np\n",
    "from matplotlib import pyplot as plt"
   ]
  },
  {
   "cell_type": "markdown",
   "metadata": {},
   "source": [
    "## Sources\n",
    "\n",
    "Decided to go with the astromodels package as python3 branch is working well.\n",
    "\n",
    "To install: \n",
    "```\n",
    "pip install git+https://github.com/giacomov/astromodels.git@py2to3\n",
    "```"
   ]
  },
  {
   "cell_type": "code",
   "execution_count": 2,
   "metadata": {
    "ExecuteTime": {
     "end_time": "2019-10-04T18:23:08.773501Z",
     "start_time": "2019-10-04T18:23:07.482774Z"
    }
   },
   "outputs": [],
   "source": [
    "from source.source import *\n",
    "from astromodels.functions.functions import Powerlaw\n",
    "from astromodels import Model"
   ]
  },
  {
   "cell_type": "code",
   "execution_count": 3,
   "metadata": {
    "ExecuteTime": {
     "end_time": "2019-10-04T18:23:08.784182Z",
     "start_time": "2019-10-04T18:23:08.776234Z"
    }
   },
   "outputs": [
    {
     "data": {
      "text/plain": [
       "0.1"
      ]
     },
     "execution_count": 3,
     "metadata": {},
     "output_type": "execute_result"
    }
   ],
   "source": [
    "# Single source\n",
    "source = PointSource('point', ra=123, dec=-30, redshift=0.1, spectral_shape=Powerlaw())\n",
    "source.position.get_ra()\n",
    "source.redshift"
   ]
  },
  {
   "cell_type": "code",
   "execution_count": 4,
   "metadata": {
    "ExecuteTime": {
     "end_time": "2019-10-04T18:23:09.026686Z",
     "start_time": "2019-10-04T18:23:08.786940Z"
    }
   },
   "outputs": [],
   "source": [
    "# Loading from file\n",
    "source_file = '../dev/statistical_model/data/test_SFR_pop.h5'\n",
    "source_list = TestSourceList(source_file, spectral_shape=Powerlaw())\n",
    "\n",
    "# Select sources below zth = 1\n",
    "zth = 1.0\n",
    "source_list.select_below_redshift(zth)\n",
    "\n",
    "# Add a diffuse background at z = 1\n",
    "diffuse_bg = DiffuseSource('diffuse_bg', zth, spectral_shape=Powerlaw())\n",
    "source_list.add(diffuse_bg)"
   ]
  },
  {
   "cell_type": "code",
   "execution_count": 5,
   "metadata": {
    "ExecuteTime": {
     "end_time": "2019-10-04T18:23:09.033893Z",
     "start_time": "2019-10-04T18:23:09.029455Z"
    }
   },
   "outputs": [
    {
     "data": {
      "text/plain": [
       "38"
      ]
     },
     "execution_count": 5,
     "metadata": {},
     "output_type": "execute_result"
    }
   ],
   "source": [
    "source_list.sources[-1].redshift\n",
    "source_list.N"
   ]
  },
  {
   "cell_type": "code",
   "execution_count": 6,
   "metadata": {
    "ExecuteTime": {
     "end_time": "2019-10-04T18:23:17.753848Z",
     "start_time": "2019-10-04T18:23:17.749654Z"
    }
   },
   "outputs": [],
   "source": [
    "# Could also use an astrmodels model\n",
    "model = Model(*source_list.sources)"
   ]
  },
  {
   "cell_type": "markdown",
   "metadata": {},
   "source": [
    "## Effective area"
   ]
  },
  {
   "cell_type": "code",
   "execution_count": null,
   "metadata": {
    "ExecuteTime": {
     "end_time": "2019-10-04T15:37:27.532146Z",
     "start_time": "2019-10-04T15:37:27.529313Z"
    }
   },
   "outputs": [],
   "source": [
    "from detector_model import NorthernTracksEnergyResolution, NorthernTracksEffectiveArea"
   ]
  },
  {
   "cell_type": "code",
   "execution_count": null,
   "metadata": {},
   "outputs": [],
   "source": [
    "# do cool stuff"
   ]
  }
 ],
 "metadata": {
  "kernelspec": {
   "display_name": "bayes",
   "language": "python",
   "name": "bayes"
  },
  "language_info": {
   "codemirror_mode": {
    "name": "ipython",
    "version": 3
   },
   "file_extension": ".py",
   "mimetype": "text/x-python",
   "name": "python",
   "nbconvert_exporter": "python",
   "pygments_lexer": "ipython3",
   "version": "3.7.3"
  }
 },
 "nbformat": 4,
 "nbformat_minor": 2
}
