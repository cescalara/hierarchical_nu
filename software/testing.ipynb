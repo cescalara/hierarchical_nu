{
 "cells": [
  {
   "cell_type": "markdown",
   "metadata": {},
   "source": [
    "# Testing software"
   ]
  },
  {
   "cell_type": "code",
   "execution_count": 1,
   "metadata": {
    "ExecuteTime": {
     "end_time": "2019-11-12T17:23:22.986112Z",
     "start_time": "2019-11-12T17:23:22.675538Z"
    }
   },
   "outputs": [],
   "source": [
    "import numpy as np\n",
    "from matplotlib import pyplot as plt"
   ]
  },
  {
   "cell_type": "markdown",
   "metadata": {},
   "source": [
    "## Sources\n",
    "\n",
    "Decided to go with the astromodels package as python3 branch is working well.\n",
    "\n",
    "To install: \n",
    "```\n",
    "pip install git+https://github.com/giacomov/astromodels.git@py2to3\n",
    "```"
   ]
  },
  {
   "cell_type": "code",
   "execution_count": 2,
   "metadata": {
    "ExecuteTime": {
     "end_time": "2019-11-12T17:23:24.446524Z",
     "start_time": "2019-11-12T17:23:23.115229Z"
    }
   },
   "outputs": [],
   "source": [
    "from source.source import *\n",
    "from astromodels.functions.functions import Powerlaw\n",
    "from astromodels import Model"
   ]
  },
  {
   "cell_type": "code",
   "execution_count": 3,
   "metadata": {
    "ExecuteTime": {
     "end_time": "2019-11-12T17:23:24.457761Z",
     "start_time": "2019-11-12T17:23:24.449067Z"
    }
   },
   "outputs": [
    {
     "data": {
      "text/plain": [
       "0.1"
      ]
     },
     "execution_count": 3,
     "metadata": {},
     "output_type": "execute_result"
    }
   ],
   "source": [
    "# Single source\n",
    "source = PointSource('point', ra=123, dec=-30, redshift=0.1, spectral_shape=Powerlaw())\n",
    "source.position.get_ra()\n",
    "source.redshift"
   ]
  },
  {
   "cell_type": "code",
   "execution_count": 4,
   "metadata": {
    "ExecuteTime": {
     "end_time": "2019-11-12T17:23:24.692909Z",
     "start_time": "2019-11-12T17:23:24.460748Z"
    }
   },
   "outputs": [],
   "source": [
    "# Loading from file\n",
    "source_file = '../dev/statistical_model/data/test_SFR_pop.h5'\n",
    "source_list = TestSourceList(source_file, spectral_shape=Powerlaw())\n",
    "\n",
    "# Select sources below zth = 1\n",
    "zth = 1.0\n",
    "source_list.select_below_redshift(zth)\n",
    "\n",
    "# Add a diffuse background at z = 1\n",
    "diffuse_bg = DiffuseSource('diffuse_bg', zth, spectral_shape=Powerlaw())\n",
    "source_list.add(diffuse_bg)"
   ]
  },
  {
   "cell_type": "code",
   "execution_count": 5,
   "metadata": {
    "ExecuteTime": {
     "end_time": "2019-11-12T17:23:24.700346Z",
     "start_time": "2019-11-12T17:23:24.695993Z"
    }
   },
   "outputs": [
    {
     "data": {
      "text/plain": [
       "-19.438230205811653"
      ]
     },
     "execution_count": 5,
     "metadata": {},
     "output_type": "execute_result"
    }
   ],
   "source": [
    "source_list.sources[0].position.dec.value"
   ]
  },
  {
   "cell_type": "code",
   "execution_count": 6,
   "metadata": {
    "ExecuteTime": {
     "end_time": "2019-11-12T17:23:24.708781Z",
     "start_time": "2019-11-12T17:23:24.703129Z"
    }
   },
   "outputs": [
    {
     "data": {
      "text/plain": [
       "38"
      ]
     },
     "execution_count": 6,
     "metadata": {},
     "output_type": "execute_result"
    }
   ],
   "source": [
    "source_list.sources[-1].redshift\n",
    "source_list.N"
   ]
  },
  {
   "cell_type": "code",
   "execution_count": 7,
   "metadata": {
    "ExecuteTime": {
     "end_time": "2019-11-12T17:23:24.863172Z",
     "start_time": "2019-11-12T17:23:24.859474Z"
    }
   },
   "outputs": [],
   "source": [
    "# Could also use an astromodels model\n",
    "source_model = Model(*source_list.sources)"
   ]
  },
  {
   "cell_type": "markdown",
   "metadata": {},
   "source": [
    "## Effective area"
   ]
  },
  {
   "cell_type": "code",
   "execution_count": 27,
   "metadata": {
    "ExecuteTime": {
     "end_time": "2019-11-12T17:25:16.499945Z",
     "start_time": "2019-11-12T17:25:16.496288Z"
    }
   },
   "outputs": [],
   "source": [
    "from detector_model import NorthernTracksDetectorModel, NorthernTracksEffectiveArea\n",
    "from backend.stan_generator import (StanFileGenerator, \n",
    "                                    StanGenerator, \n",
    "                                    FunctionsContext, Include, \n",
    "                                    DataContext, TransformedDataContext,\n",
    "                                    StringExpression, ForLoopContext)\n",
    "from backend.variable_definitions import ForwardVariableDef, ForwardArrayDef"
   ]
  },
  {
   "cell_type": "code",
   "execution_count": 9,
   "metadata": {
    "ExecuteTime": {
     "end_time": "2019-11-12T17:23:25.990039Z",
     "start_time": "2019-11-12T17:23:25.986332Z"
    }
   },
   "outputs": [],
   "source": [
    "# helper functions\n",
    "def power_law_integral(Emin, Emax, alpha):\n",
    "    return np.power(Emax, 1-alpha) - np.power(Emin, 1-alpha)"
   ]
  },
  {
   "cell_type": "code",
   "execution_count": 10,
   "metadata": {
    "ExecuteTime": {
     "end_time": "2019-11-12T17:23:26.526089Z",
     "start_time": "2019-11-12T17:23:26.435428Z"
    }
   },
   "outputs": [],
   "source": [
    "# Precomputation of eps(alpha)\n",
    "with StanGenerator() as cg:\n",
    "    ntAeff = NorthernTracksEffectiveArea()\n",
    "    Aeff = ntAeff._eff_area\n",
    "    tE_bin_edges = ntAeff._tE_bin_edges\n",
    "    cosz_bin_edges = ntAeff._cosz_bin_edges"
   ]
  },
  {
   "cell_type": "code",
   "execution_count": 15,
   "metadata": {
    "ExecuteTime": {
     "end_time": "2019-11-12T17:24:18.881385Z",
     "start_time": "2019-11-12T17:24:10.006636Z"
    }
   },
   "outputs": [],
   "source": [
    "alpha_grid = np.linspace(1, 4)\n",
    "Emin = 1e5 # GeV\n",
    "m_to_cm = 100 # cm\n",
    "\n",
    "eps_grid = []\n",
    "for source in source_list.sources:\n",
    "    z = source.redshift\n",
    "    eps_grid_i = np.zeros(len(alpha_grid))\n",
    "\n",
    "    for i, alpha in enumerate(alpha_grid):\n",
    "        \n",
    "        if isinstance(source, PointSource):\n",
    "\n",
    "            dec = source.position.dec.value\n",
    "            cosz = -np.sin(dec)\n",
    "                \n",
    "            j = 0 \n",
    "            for Em, EM in zip(tE_bin_edges[:-1], tE_bin_edges[1:]):\n",
    "                integ = power_law_integral(Em, EM, alpha) * (1+z) * (1/Emin**2)\n",
    "                if cosz < cosz_bin_edges[0] or cosz > cosz_bin_edges[-1]:\n",
    "                    aeff = 0\n",
    "                else:\n",
    "                    aeff = Aeff[j][np.digitize(cosz, cosz_bin_edges)-1] * m_to_cm**2\n",
    "                eps_grid_i[i] += integ * aeff\n",
    "                j += 1\n",
    "\n",
    "        if isinstance(source, DiffuseSource):\n",
    "            \n",
    "            j = 0\n",
    "            k = 0\n",
    "            for Em, EM in zip(tE_bin_edges[:-1], tE_bin_edges[1:]):\n",
    "                for czm, czM in zip(cosz_bin_edges[:-1], cosz_bin_edges[1:]): \n",
    "                    E_integ = power_law_integral(Em, EM, alpha) * (1+z) * (1/Emin**2)\n",
    "                    ang_integ = (czM - czm) * 2*np.pi\n",
    "                    aeff = Aeff[j][k] * m_to_cm**2\n",
    "                    eps_grid_i[i] += E_integ * ang_integ * aeff\n",
    "                    \n",
    "        eps_grid.append(eps_grid_i)\n",
    "                "
   ]
  },
  {
   "cell_type": "code",
   "execution_count": 16,
   "metadata": {
    "ExecuteTime": {
     "end_time": "2019-11-12T17:24:19.510968Z",
     "start_time": "2019-11-12T17:24:19.505396Z"
    }
   },
   "outputs": [
    {
     "data": {
      "text/plain": [
       "(1900, 50)"
      ]
     },
     "execution_count": 16,
     "metadata": {},
     "output_type": "execute_result"
    }
   ],
   "source": [
    "np.shape(eps_grid)"
   ]
  },
  {
   "cell_type": "code",
   "execution_count": 17,
   "metadata": {
    "ExecuteTime": {
     "end_time": "2019-11-12T17:24:20.828341Z",
     "start_time": "2019-11-12T17:24:20.777937Z"
    }
   },
   "outputs": [],
   "source": [
    "# Generate functions that can be included\n",
    "with StanFileGenerator(\"stan_files/detector_model_test\") as cg:   \n",
    "    ntd = NorthernTracksDetectorModel()    \n",
    "    cg.generate_files()"
   ]
  },
  {
   "cell_type": "code",
   "execution_count": 18,
   "metadata": {
    "ExecuteTime": {
     "end_time": "2019-11-12T17:24:21.604603Z",
     "start_time": "2019-11-12T17:24:21.377854Z"
    }
   },
   "outputs": [
    {
     "name": "stderr",
     "output_type": "stream",
     "text": [
      "/Users/fran/.virtualenvs/bayes/lib/python3.7/site-packages/ipykernel_launcher.py:10: RuntimeWarning: divide by zero encountered in log10\n",
      "  # Remove the CWD from sys.path while we load stuff.\n"
     ]
    },
    {
     "data": {
      "text/plain": [
       "<matplotlib.image.AxesImage at 0x117b6b080>"
      ]
     },
     "execution_count": 18,
     "metadata": {},
     "output_type": "execute_result"
    },
    {
     "data": {
      "image/png": "[encoded data removed]",
      "text/plain": [
       "<Figure size 360x360 with 1 Axes>"
      ]
     },
     "metadata": {
      "needs_background": "light"
     },
     "output_type": "display_data"
    }
   ],
   "source": [
    "def test_thing(my_input):\n",
    "    with StanGenerator() as cg:\n",
    "        Aeff = my_input()\n",
    "        Aeff_vals = Aeff._eff_area\n",
    "    return Aeff_vals\n",
    "\n",
    "aeff_vals = test_thing(NorthernTracksEffectiveArea)\n",
    "fig, ax = plt.subplots()\n",
    "fig.set_size_inches((5, 5))\n",
    "ax.imshow(np.log10(aeff_vals), aspect='auto')"
   ]
  },
  {
   "cell_type": "markdown",
   "metadata": {},
   "source": [
    "## Generate Stan code for simulation\n"
   ]
  },
  {
   "cell_type": "code",
   "execution_count": 28,
   "metadata": {
    "ExecuteTime": {
     "end_time": "2019-11-12T17:25:19.217477Z",
     "start_time": "2019-11-12T17:25:19.160946Z"
    }
   },
   "outputs": [],
   "source": [
    "e_true_name = \"e_trues\"\n",
    "e_reco_name = \"e_recos\"\n",
    "true_dir_name = \"true_dirs\"\n",
    "reco_zenith_name = \"reco_zeniths\"\n",
    "\n",
    "with StanGenerator() as cg:\n",
    "\n",
    "    with FunctionsContext() as fc:\n",
    "        _ = Include(\"utils.stan\")\n",
    "        _ = Include(\"vMF.stan\")\n",
    "        ntd = NorthernTracksDetectorModel()\n",
    "            \n",
    "    with DataContext() as dc:\n",
    "        \n",
    "        # Sources\n",
    "        Nsrc = ForwardVariableDef(\"Ns\", \"int\")\n",
    "        Nsrc_1p = ForwardVariableDef(\"Ns+1\", \"int\")\n",
    "        Nsrc_str = [\"[\", Nsrc, \"]\"]\n",
    "        Nsrc_1p_str = [\"[\", Nsrc_1p, \"]\"]\n",
    "        \n",
    "        varpi = ForwardArrayDef(\"varpi\", \"unit_vector[3]\", Nsrc_str)\n",
    "        distance = ForwardArrayDef(\"D\", \"vector\", Nsrc_str)\n",
    "        redshift = ForwardArrayDef(\"z\", \"vector\", Nsrc_1p_str)\n",
    "        \n",
    "        # Energies\n",
    "        alpha = ForwardVariableDef(\"alpha\", \"real\")\n",
    "        Emin_tracks = ForwardVariableDef(\"Emin_tracks\", \"real\")\n",
    "        \n",
    "        # Flux\n",
    "        source_luminosity = ForwardVariableDef(\"Q\", \"real\")\n",
    "        background_flux = ForwardVariableDef(\"F0\", \"real\")\n",
    "        \n",
    "    with TransformedDataContext() as tdc:\n",
    "        flux = ForwardArrayDef(\"F\", \"vector\", Nsrc_1p_str)\n",
    "        total_flux = ForwardVariableDef(\"FT\", \"real\")\n",
    "        associated_fraction = ForwardVariableDef(\"f\", \"real\")\n",
    "        exposure_weights = ForwardArrayDef(\"w_exposure\", \"simplex\", Nsrc_1p_str)\n",
    "        expected_number = ForwardVariableDef(\"Nex\", \"real\")\n",
    "        number = ForwardVariableDef(\"N\", \"int\")\n",
    "        exposure_factor = ForwardArrayDef(\"eps\", \"vector\", Nsrc_1p_str)\n",
    "        \n",
    "        Mpc_to_m = ForwardVariableDef(\"Mpc_to_m\", \"real\")\n",
    "        Mpc_to_m << StringExpression(\"3.086e22\")\n",
    "        \n",
    "        with ForLoopContext(1, Nsrc, \"k\") as k:\n",
    "            flux[k] << StringExpression([\"4 * pi() * pow(\", \n",
    "                                         distance[k], \" * \", Mpc_to_m, \", 2)\"])\n",
    "            "
   ]
  },
  {
   "cell_type": "code",
   "execution_count": null,
   "metadata": {},
   "outputs": [],
   "source": []
  }
 ],
 "metadata": {
  "kernelspec": {
   "display_name": "bayes",
   "language": "python",
   "name": "bayes"
  },
  "language_info": {
   "codemirror_mode": {
    "name": "ipython",
    "version": 3
   },
   "file_extension": ".py",
   "mimetype": "text/x-python",
   "name": "python",
   "nbconvert_exporter": "python",
   "pygments_lexer": "ipython3",
   "version": "3.7.3"
  }
 },
 "nbformat": 4,
 "nbformat_minor": 2
}
