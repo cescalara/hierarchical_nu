{
 "cells": [
  {
   "cell_type": "code",
   "execution_count": 91,
   "metadata": {
    "ExecuteTime": {
     "end_time": "2021-01-04T18:05:38.212661Z",
     "start_time": "2021-01-04T18:05:38.209788Z"
    }
   },
   "outputs": [],
   "source": [
    "import numpy as np\n",
    "from matplotlib import pyplot as plt\n",
    "import pandas as pd\n",
    "import os"
   ]
  },
  {
   "cell_type": "markdown",
   "metadata": {},
   "source": [
    "## HESE Aeffs from cascade model"
   ]
  },
  {
   "cell_type": "code",
   "execution_count": 141,
   "metadata": {
    "ExecuteTime": {
     "end_time": "2021-01-04T18:31:06.839667Z",
     "start_time": "2021-01-04T18:31:06.836627Z"
    }
   },
   "outputs": [],
   "source": [
    "path = \"../../cascade_model/aeff_HESE/\"\n",
    "names = os.listdir(path)"
   ]
  },
  {
   "cell_type": "code",
   "execution_count": 142,
   "metadata": {
    "ExecuteTime": {
     "end_time": "2021-01-04T18:31:07.136782Z",
     "start_time": "2021-01-04T18:31:07.100559Z"
    }
   },
   "outputs": [],
   "source": [
    "aeffs = []\n",
    "for name in names:  \n",
    "    df = pd.read_csv(path+name, sep=\" \")\n",
    "    ebin_cen = (df.ebin_low.unique() + df.ebin_high.unique())/2\n",
    "    costhbin_cen = (df.costhbin_low.unique() + df.costhbin_high.unique())/2\n",
    "    aeff = df.aeff.values.reshape(len(ebin_cen), len(costhbin_cen))\n",
    "    aeffs.append(aeff)"
   ]
  },
  {
   "cell_type": "code",
   "execution_count": 143,
   "metadata": {
    "ExecuteTime": {
     "end_time": "2021-01-04T18:31:07.402502Z",
     "start_time": "2021-01-04T18:31:07.399435Z"
    }
   },
   "outputs": [],
   "source": [
    "# sum\n",
    "total_aeff = np.zeros_like(aeffs[0])\n",
    "for aeff in aeffs:\n",
    "    total_aeff += aeff"
   ]
  },
  {
   "cell_type": "code",
   "execution_count": 144,
   "metadata": {
    "ExecuteTime": {
     "end_time": "2021-01-04T18:31:08.015487Z",
     "start_time": "2021-01-04T18:31:07.852561Z"
    }
   },
   "outputs": [
    {
     "data": {
      "text/plain": [
       "<matplotlib.contour.QuadContourSet at 0x1362988b0>"
      ]
     },
     "execution_count": 144,
     "metadata": {},
     "output_type": "execute_result"
    },
    {
     "data": {
      "image/png": "[encoded data removed]",
      "text/plain": [
       "<Figure size 432x288 with 1 Axes>"
      ]
     },
     "metadata": {
      "needs_background": "light"
     },
     "output_type": "display_data"
    }
   ],
   "source": [
    "fig, ax = plt.subplots()\n",
    "ax.contourf(ebin_cen, costhbin_cen, total_aeff.T,\n",
    "            levels=20)"
   ]
  },
  {
   "cell_type": "code",
   "execution_count": 145,
   "metadata": {
    "ExecuteTime": {
     "end_time": "2021-01-04T18:31:09.233147Z",
     "start_time": "2021-01-04T18:31:09.229173Z"
    }
   },
   "outputs": [
    {
     "data": {
      "text/plain": [
       "13.00824896983286"
      ]
     },
     "execution_count": 145,
     "metadata": {},
     "output_type": "execute_result"
    }
   ],
   "source": [
    "np.max(aeffs[names==\"effective_area.HESE.nue.CC.txt\"])"
   ]
  },
  {
   "cell_type": "code",
   "execution_count": 146,
   "metadata": {
    "ExecuteTime": {
     "end_time": "2021-01-04T18:31:12.356626Z",
     "start_time": "2021-01-04T18:31:12.352740Z"
    }
   },
   "outputs": [
    {
     "data": {
      "text/plain": [
       "181.19080029648822"
      ]
     },
     "execution_count": 146,
     "metadata": {},
     "output_type": "execute_result"
    }
   ],
   "source": [
    "np.max(total_aeff) # units?"
   ]
  },
  {
   "cell_type": "markdown",
   "metadata": {},
   "source": [
    "## Compare with current version of CascadeDetectorModel"
   ]
  },
  {
   "cell_type": "code",
   "execution_count": 147,
   "metadata": {
    "ExecuteTime": {
     "end_time": "2021-01-04T18:31:12.999995Z",
     "start_time": "2021-01-04T18:31:12.997281Z"
    }
   },
   "outputs": [],
   "source": [
    "from python.detector_model import CascadesDetectorModel\n",
    "from python.backend.stan_generator import StanGenerator"
   ]
  },
  {
   "cell_type": "code",
   "execution_count": 148,
   "metadata": {
    "ExecuteTime": {
     "end_time": "2021-01-04T18:31:13.411294Z",
     "start_time": "2021-01-04T18:31:13.348247Z"
    }
   },
   "outputs": [],
   "source": [
    "with StanGenerator():\n",
    "        dm = CascadesDetectorModel()\n",
    "        effective_area = dm.effective_area\n",
    "        energy_resolution = dm.energy_resolution"
   ]
  },
  {
   "cell_type": "code",
   "execution_count": 149,
   "metadata": {
    "ExecuteTime": {
     "end_time": "2021-01-04T18:31:13.743478Z",
     "start_time": "2021-01-04T18:31:13.740223Z"
    }
   },
   "outputs": [],
   "source": [
    "ebin_edges = effective_area._tE_bin_edges\n",
    "cosz_edges = effective_area._cosz_bin_edges\n",
    "ebin_cen = (ebin_edges[:-1] + ebin_edges[1:])/2\n",
    "cosz_cen = (cosz_edges[:-1] + cosz_edges[1:])/2"
   ]
  },
  {
   "cell_type": "code",
   "execution_count": 150,
   "metadata": {
    "ExecuteTime": {
     "end_time": "2021-01-04T18:31:22.652491Z",
     "start_time": "2021-01-04T18:31:22.495732Z"
    }
   },
   "outputs": [
    {
     "data": {
      "text/plain": [
       "(3.0, 7.0)"
      ]
     },
     "execution_count": 150,
     "metadata": {},
     "output_type": "execute_result"
    },
    {
     "data": {
      "image/png": "[encoded data removed]",
      "text/plain": [
       "<Figure size 432x288 with 1 Axes>"
      ]
     },
     "metadata": {
      "needs_background": "light"
     },
     "output_type": "display_data"
    }
   ],
   "source": [
    "fig, ax = plt.subplots()\n",
    "ax.contourf(np.log10(ebin_cen), cosz_cen, effective_area._eff_area.T, levels=20)\n",
    "ax.set_xlim(3, 7)"
   ]
  },
  {
   "cell_type": "code",
   "execution_count": 151,
   "metadata": {
    "ExecuteTime": {
     "end_time": "2021-01-04T18:31:31.602521Z",
     "start_time": "2021-01-04T18:31:31.598516Z"
    }
   },
   "outputs": [
    {
     "data": {
      "text/plain": [
       "145.08302545007166"
      ]
     },
     "execution_count": 151,
     "metadata": {},
     "output_type": "execute_result"
    }
   ],
   "source": [
    "np.max(effective_area._eff_area)"
   ]
  },
  {
   "cell_type": "code",
   "execution_count": 152,
   "metadata": {
    "ExecuteTime": {
     "end_time": "2021-01-04T18:31:34.424550Z",
     "start_time": "2021-01-04T18:31:34.422001Z"
    }
   },
   "outputs": [],
   "source": [
    "import h5py"
   ]
  },
  {
   "cell_type": "code",
   "execution_count": 153,
   "metadata": {
    "ExecuteTime": {
     "end_time": "2021-01-04T18:31:42.171135Z",
     "start_time": "2021-01-04T18:31:42.166674Z"
    }
   },
   "outputs": [
    {
     "name": "stdout",
     "output_type": "stream",
     "text": [
      "aeff\n",
      "cosz_edges\n",
      "rE_edges\n",
      "tE_edges\n"
     ]
    }
   ],
   "source": [
    "with h5py.File(\"input/cascades/effective_area_HESE_nue_CC.h5\", \"r\") as f:\n",
    "    for key in f:\n",
    "        print(key)"
   ]
  },
  {
   "cell_type": "code",
   "execution_count": null,
   "metadata": {},
   "outputs": [],
   "source": []
  }
 ],
 "metadata": {
  "kernelspec": {
   "display_name": "bayes",
   "language": "python",
   "name": "bayes"
  },
  "language_info": {
   "codemirror_mode": {
    "name": "ipython",
    "version": 3
   },
   "file_extension": ".py",
   "mimetype": "text/x-python",
   "name": "python",
   "nbconvert_exporter": "python",
   "pygments_lexer": "ipython3",
   "version": "3.8.5"
  }
 },
 "nbformat": 4,
 "nbformat_minor": 4
}
