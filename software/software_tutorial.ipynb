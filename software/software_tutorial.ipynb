{
 "cells": [
  {
   "cell_type": "markdown",
   "metadata": {},
   "source": [
    "# Software tutorial"
   ]
  },
  {
   "cell_type": "code",
   "execution_count": 1,
   "metadata": {
    "ExecuteTime": {
     "end_time": "2020-10-15T14:06:11.413014Z",
     "start_time": "2020-10-15T14:06:11.121180Z"
    }
   },
   "outputs": [],
   "source": [
    "import numpy as np\n",
    "from astropy import units as u"
   ]
  },
  {
   "cell_type": "markdown",
   "metadata": {},
   "source": [
    "## Defining sources"
   ]
  },
  {
   "cell_type": "code",
   "execution_count": 2,
   "metadata": {
    "ExecuteTime": {
     "end_time": "2020-10-15T14:06:12.466728Z",
     "start_time": "2020-10-15T14:06:11.928139Z"
    }
   },
   "outputs": [],
   "source": [
    "from python.source.parameter import Parameter\n",
    "from python.source.source import Sources, PointSource"
   ]
  },
  {
   "cell_type": "markdown",
   "metadata": {},
   "source": [
    "We can start by defining the high-level source parameters, these are essentially the hyperparameters of the hierarchical model."
   ]
  },
  {
   "cell_type": "code",
   "execution_count": 3,
   "metadata": {
    "ExecuteTime": {
     "end_time": "2020-10-15T14:06:12.677112Z",
     "start_time": "2020-10-15T14:06:12.671896Z"
    }
   },
   "outputs": [],
   "source": [
    "Parameter.clear_registry()\n",
    "index = Parameter(2.4, \"index\", fixed=False, par_range=(1.0, 4))\n",
    "L = Parameter(1E47 * (u.erg / u.s), \"luminosity\", fixed=True, par_range=(0, 1E60))\n",
    "diffuse_norm = Parameter(1.44E-14 /u.GeV/u.m**2/u.s, \"diffuse_norm\", fixed=True, \n",
    "                         par_range=(0, np.inf))\n",
    "Enorm = Parameter(1E5 * u.GeV, \"Enorm\", fixed=True)\n",
    "Emin = Parameter(1E5 * u.GeV, \"Emin\", fixed=True)\n",
    "Emax = Parameter(1E8 * u.GeV, \"Emax\", fixed=True)"
   ]
  },
  {
   "cell_type": "markdown",
   "metadata": {},
   "source": [
    "Point sources can be defined either manually or from an HDF5 file. We can use the `Sources` container to keep track of sources and pass them around the software."
   ]
  },
  {
   "cell_type": "code",
   "execution_count": 4,
   "metadata": {
    "ExecuteTime": {
     "end_time": "2020-10-15T14:06:13.365393Z",
     "start_time": "2020-10-15T14:06:13.358333Z"
    }
   },
   "outputs": [],
   "source": [
    "point_source = PointSource.make_powerlaw_source(\"test\", np.deg2rad(20)*u.rad,\n",
    "                                                np.pi*u.rad, \n",
    "                                                L, index, 0.5, Emin, Emax)\n",
    "my_sources = Sources()\n",
    "my_sources.add(point_source) # single point source"
   ]
  },
  {
   "cell_type": "code",
   "execution_count": 5,
   "metadata": {
    "ExecuteTime": {
     "end_time": "2020-10-15T14:06:14.958278Z",
     "start_time": "2020-10-15T14:06:13.841916Z"
    }
   },
   "outputs": [],
   "source": [
    "# alternatively load point sources from file\n",
    "my_sources = Sources()\n",
    "source_file = \"../dev/statistical_model/data/test_SFR_pop.h5\"\n",
    "point_sources = PointSource.make_powerlaw_sources_from_file(source_file, L, \n",
    "                                                            index, Emin, Emax)\n",
    "my_sources.add(point_sources)\n",
    "my_sources.select_below_redshift(0.46)"
   ]
  },
  {
   "cell_type": "markdown",
   "metadata": {},
   "source": [
    "There are helper methods to automatically set the diffuse and atmospheric components based on the definition of the point sources. "
   ]
  },
  {
   "cell_type": "code",
   "execution_count": 6,
   "metadata": {
    "ExecuteTime": {
     "end_time": "2020-10-15T14:06:15.078157Z",
     "start_time": "2020-10-15T14:06:15.067366Z"
    }
   },
   "outputs": [],
   "source": [
    "my_sources.add_diffuse_component(diffuse_norm, Enorm.value) # auto diffuse component \n",
    "my_sources.add_atmospheric_component() # auto atmo component"
   ]
  },
  {
   "cell_type": "markdown",
   "metadata": {},
   "source": [
    "We can now check some useful properties of our sources..."
   ]
  },
  {
   "cell_type": "code",
   "execution_count": 7,
   "metadata": {
    "ExecuteTime": {
     "end_time": "2020-10-15T14:06:16.920377Z",
     "start_time": "2020-10-15T14:06:16.801458Z"
    }
   },
   "outputs": [
    {
     "data": {
      "text/latex": [
       "$2.204219 \\times 10^{-8} \\; \\mathrm{\\frac{1}{s\\,m^{2}}}$"
      ],
      "text/plain": [
       "<Quantity 2.20421896e-08 1 / (m2 s)>"
      ]
     },
     "execution_count": 7,
     "metadata": {},
     "output_type": "execute_result"
    }
   ],
   "source": [
    "my_sources.total_flux_int()"
   ]
  },
  {
   "cell_type": "code",
   "execution_count": 8,
   "metadata": {
    "ExecuteTime": {
     "end_time": "2020-10-15T14:06:17.221825Z",
     "start_time": "2020-10-15T14:06:17.103168Z"
    }
   },
   "outputs": [
    {
     "data": {
      "text/latex": [
       "$0.13348525 \\; \\mathrm{}$"
      ],
      "text/plain": [
       "<Quantity 0.13348525>"
      ]
     },
     "execution_count": 8,
     "metadata": {},
     "output_type": "execute_result"
    }
   ],
   "source": [
    "my_sources.associated_fraction()"
   ]
  },
  {
   "cell_type": "code",
   "execution_count": null,
   "metadata": {},
   "outputs": [],
   "source": []
  }
 ],
 "metadata": {
  "kernelspec": {
   "display_name": "bayes",
   "language": "python",
   "name": "bayes"
  },
  "language_info": {
   "codemirror_mode": {
    "name": "ipython",
    "version": 3
   },
   "file_extension": ".py",
   "mimetype": "text/x-python",
   "name": "python",
   "nbconvert_exporter": "python",
   "pygments_lexer": "ipython3",
   "version": "3.8.5"
  }
 },
 "nbformat": 4,
 "nbformat_minor": 4
}
