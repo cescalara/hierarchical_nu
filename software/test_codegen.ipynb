{
 "cells": [
  {
   "cell_type": "code",
   "execution_count": 49,
   "metadata": {},
   "outputs": [],
   "source": [
    "from detector_model import NorthernTracksDetectorModel\n",
    "from backend.stan_generator import (\n",
    "    StanGenerator, GeneratedQuantitiesContext, DataContext,\n",
    "    FunctionsContext, Include, ForLoopContext, StanFileGenerator)\n",
    "from backend.operations import AssignValue, FunctionCall\n",
    "from backend.variable_definitions import ForwardVariableDef, ForwardArrayDef\n",
    "from backend.parameterizations import LogParameterization\n",
    "from backend.expression import StringExpression\n",
    "import logging\n",
    "logging.basicConfig(level=logging.WARN)\n",
    "import pystan\n",
    "import numpy as np\n",
    "import os\n",
    "import matplotlib.pyplot as plt\n",
    "from matplotlib.colors import LogNorm\n",
    "import scipy.stats\n"
   ]
  },
  {
   "cell_type": "markdown",
   "metadata": {},
   "source": [
    "# Create stan files for the detector model"
   ]
  },
  {
   "cell_type": "code",
   "execution_count": 2,
   "metadata": {},
   "outputs": [],
   "source": [
    "with StanFileGenerator(\"stan_files/detector_model_test\") as cg:   \n",
    "    ntd = NorthernTracksDetectorModel()    \n",
    "    cg.generate_files()\n",
    "    "
   ]
  },
  {
   "cell_type": "markdown",
   "metadata": {},
   "source": [
    "# Plot detector model distributions"
   ]
  },
  {
   "cell_type": "code",
   "execution_count": 55,
   "metadata": {},
   "outputs": [],
   "source": [
    "e_true_name = \"e_trues\"\n",
    "e_reco_name = \"e_recos\"\n",
    "true_dir_name = \"true_dirs\"\n",
    "reco_zenith_name = \"reco_zeniths\"\n",
    "\n",
    "with StanGenerator() as cg:\n",
    "\n",
    "    with FunctionsContext() as fc:\n",
    "        _ = Include(\"utils.stan\")\n",
    "        _ = Include(\"vMF.stan\")\n",
    "\n",
    "    with DataContext() as dc:\n",
    "        array_length = ForwardVariableDef(\"n\", \"int\")\n",
    "        array_length_str = [\"[\", array_length, \"]\"]\n",
    "        \n",
    "        e_trues = ForwardArrayDef(e_true_name, \"real\", array_length_str)\n",
    "        e_recos = ForwardArrayDef(e_reco_name, \"real\", array_length_str)\n",
    "        true_dirs = ForwardArrayDef(true_dir_name, \"vector[3]\", array_length_str)\n",
    "        reco_zenith = ForwardArrayDef(reco_zenith_name, \"real\", array_length_str)\n",
    "\n",
    "    with GeneratedQuantitiesContext() as gq:\n",
    "        ntd = NorthernTracksDetectorModel()\n",
    "\n",
    "        array_length_2d_str = [\"[\", array_length, \",\", array_length, \"]\"]\n",
    "        e_res_result = ForwardArrayDef(\"e_res\", \"real\", array_length_2d_str)\n",
    "        eff_area_result = ForwardArrayDef(\"eff_area\", \"real\", array_length_2d_str)\n",
    "        ang_res_result = ForwardArrayDef(\"ang_res\", \"real\", array_length_2d_str)\n",
    "\n",
    "        \n",
    "        reco_dir_ang_res = ForwardVariableDef(\"reco_dir\", \"vector[3]\")        \n",
    "        true_dir_ang_res = ForwardVariableDef(\"true_dir\", \"vector[3]\")\n",
    "        true_dir_ang_res << StringExpression(\"[sin(pi()/2), 0, cos(pi()/2)]'\")\n",
    "        \n",
    "        with ForLoopContext(1, array_length, \"i\") as i:\n",
    "            with ForLoopContext(1, array_length, \"j\") as j:\n",
    "                eff_area_result[i][j] << ntd.effective_area(e_trues[i], true_dirs[j])       \n",
    "                e_res_result[i][j] << ntd.energy_resolution(e_trues[i], e_recos[j])\n",
    "                reco_dir_ang_res << StringExpression([\"[sin(\", reco_zenith[j], \"), 0, cos(\", reco_zenith[j],\")]'\"])\n",
    "                ang_res_result[i][j] << ntd.angular_resolution(e_trues[i], true_dir_ang_res, reco_dir_ang_res)\n",
    "    model = cg.generate()"
   ]
  },
  {
   "cell_type": "code",
   "execution_count": null,
   "metadata": {},
   "outputs": [],
   "source": [
    "this_dir = os.path.abspath('')\n",
    "sm = pystan.StanModel(\n",
    "    model_code=model,\n",
    "    include_paths=[os.path.join(this_dir, \"../dev/statistical_model/4_tracks_and_cascades/stan/\")],\n",
    "    verbose=False)"
   ]
  },
  {
   "cell_type": "code",
   "execution_count": null,
   "metadata": {},
   "outputs": [],
   "source": [
    "n = 100\n",
    "e_reco = np.logspace(2, 9, n)\n",
    "e_true = np.logspace(2, 7, n)\n",
    "reco_zeniths = np.radians(np.linspace(0, 180, n))\n",
    "zeniths = np.radians(np.linspace(85, 180, n, endpoint=False))\n",
    "true_dir = np.asarray([np.sin(zeniths), np.zeros_like(zeniths), np.cos(zeniths)]).T\n",
    "\n",
    "true_dir_name\n",
    "\n",
    "data = {\n",
    "    e_true_name: e_reco,\n",
    "    e_reco_name: e_true,\n",
    "    true_dir_name: true_dir,\n",
    "    reco_zenith_name: reco_zeniths,\n",
    "    \"n\": n\n",
    "    #\"reco_dir\": dir2\n",
    "}\n",
    "fit = sm.sampling(data=data, iter=1, chains=1, algorithm=\"Fixed_param\")\n"
   ]
  },
  {
   "cell_type": "code",
   "execution_count": null,
   "metadata": {},
   "outputs": [],
   "source": [
    "plt.pcolormesh(e_true, np.cos(zeniths), fit.extract()[\"eff_area\"].squeeze().T,\n",
    "              norm=LogNorm())\n",
    "plt.colorbar()\n",
    "plt.semilogx()\n",
    "plt.figure()\n",
    "_ =plt.plot(e_reco, np.exp(fit.extract()[\"e_res\"].squeeze()))\n",
    "plt.semilogx()\n",
    "\n",
    "plt.figure()\n",
    "_ =plt.plot(np.degrees(reco_zeniths), np.exp(fit.extract()[\"ang_res\"].squeeze()))"
   ]
  },
  {
   "cell_type": "code",
   "execution_count": null,
   "metadata": {},
   "outputs": [],
   "source": []
  }
 ],
 "metadata": {
  "kernelspec": {
   "display_name": "Python 3",
   "language": "python",
   "name": "python3"
  },
  "language_info": {
   "codemirror_mode": {
    "name": "ipython",
    "version": 3
   },
   "file_extension": ".py",
   "mimetype": "text/x-python",
   "name": "python",
   "nbconvert_exporter": "python",
   "pygments_lexer": "ipython3",
   "version": "3.7.3"
  }
 },
 "nbformat": 4,
 "nbformat_minor": 4
}
