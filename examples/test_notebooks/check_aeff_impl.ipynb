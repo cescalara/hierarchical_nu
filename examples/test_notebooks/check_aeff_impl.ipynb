{
 "cells": [
  {
   "cell_type": "markdown",
   "metadata": {},
   "source": [
    "## Checking Aeff implementation"
   ]
  },
  {
   "cell_type": "code",
   "execution_count": 15,
   "metadata": {
    "ExecuteTime": {
     "end_time": "2020-08-06T10:39:15.072214Z",
     "start_time": "2020-08-06T10:39:14.918994Z"
    }
   },
   "outputs": [],
   "source": [
    "import numpy as np\n",
    "from matplotlib import pyplot as plt\n",
    "from Precomputation import ExposureIntegral\n",
    "from detector_model import NorthernTracksEffectiveArea\n",
    "from astromodels.functions.functions import Powerlaw\n",
    "from source.source import *"
   ]
  },
  {
   "cell_type": "code",
   "execution_count": 10,
   "metadata": {
    "ExecuteTime": {
     "end_time": "2020-08-06T10:38:33.286025Z",
     "start_time": "2020-08-06T10:38:33.282633Z"
    }
   },
   "outputs": [],
   "source": [
    "# Check F * eps for a single source at the horizon (dec = 0) with this flux model\n",
    "flux = lambda energy: 1E-12* 1/(1E-4) * (energy/1E3)**-2 * 1E-3 # GeV^-1 m^-2 s^-1"
   ]
  },
  {
   "cell_type": "markdown",
   "metadata": {},
   "source": [
    "$$\n",
    "\\phi = 10^{-12} \\frac{10^{-3}}{10^{-4}} \\Bigg( \\frac{E}{10^3} \\Bigg)^{-2} \\ \\mathrm{GeV}^{-1} \\mathrm{m}^{-2} \\mathrm{s}^{-1}\n",
    "$$"
   ]
  },
  {
   "cell_type": "code",
   "execution_count": 42,
   "metadata": {
    "ExecuteTime": {
     "end_time": "2020-08-06T13:04:14.275621Z",
     "start_time": "2020-08-06T13:04:14.272070Z"
    }
   },
   "outputs": [],
   "source": [
    "scaled_flux = 1e-12 * (1e-3/1e-4) * 1e6 * (1/103)**2 # GeV^-1 m^-2 s^-1\n",
    "scaled_flux = scaled_flux * 3.154e7 # GeV^-1 m^-2 yr^-1"
   ]
  },
  {
   "cell_type": "code",
   "execution_count": 43,
   "metadata": {
    "ExecuteTime": {
     "end_time": "2020-08-06T13:04:14.710543Z",
     "start_time": "2020-08-06T13:04:14.705715Z"
    }
   },
   "outputs": [],
   "source": [
    "source = PointSource('point', ra=0.0, dec=0.0, redshift=0.0, unit_vector = [1, 0, 0], spectral_shape=Powerlaw())\n",
    "source_list = ManualSourceList([source])"
   ]
  },
  {
   "cell_type": "code",
   "execution_count": 44,
   "metadata": {
    "ExecuteTime": {
     "end_time": "2020-08-06T13:04:16.117944Z",
     "start_time": "2020-08-06T13:04:15.674845Z"
    }
   },
   "outputs": [],
   "source": [
    "time = 10 # years\n",
    "Emin = 103 # GeV\n",
    "\n",
    "exposure_integral = ExposureIntegral(source_list, NorthernTracksEffectiveArea, \n",
    "                                     time, Emin)\n",
    "exposure_integral()"
   ]
  },
  {
   "cell_type": "code",
   "execution_count": 45,
   "metadata": {
    "ExecuteTime": {
     "end_time": "2020-08-06T13:04:16.710094Z",
     "start_time": "2020-08-06T13:04:16.536341Z"
    }
   },
   "outputs": [
    {
     "data": {
      "image/png": "[encoded data removed]",
      "text/plain": [
       "<Figure size 432x288 with 1 Axes>"
      ]
     },
     "metadata": {
      "needs_background": "light"
     },
     "output_type": "display_data"
    }
   ],
   "source": [
    "fig, ax = plt.subplots()\n",
    "for _ in exposure_integral.integral_grid:\n",
    "    ax.plot(exposure_integral.alpha_grid, _)"
   ]
  },
  {
   "cell_type": "code",
   "execution_count": 48,
   "metadata": {
    "ExecuteTime": {
     "end_time": "2020-08-06T13:04:34.686534Z",
     "start_time": "2020-08-06T13:04:34.683119Z"
    }
   },
   "outputs": [],
   "source": [
    "eps = np.interp(2.0, exposure_integral.alpha_grid, exposure_integral.integral_grid[0])"
   ]
  },
  {
   "cell_type": "code",
   "execution_count": 49,
   "metadata": {
    "ExecuteTime": {
     "end_time": "2020-08-06T13:04:35.203286Z",
     "start_time": "2020-08-06T13:04:35.198797Z"
    }
   },
   "outputs": [
    {
     "data": {
      "text/plain": [
       "8.71852730577121"
      ]
     },
     "execution_count": 49,
     "metadata": {},
     "output_type": "execute_result"
    }
   ],
   "source": [
    "alpha = 2\n",
    "scaled_flux * eps * 10"
   ]
  },
  {
   "cell_type": "code",
   "execution_count": null,
   "metadata": {},
   "outputs": [],
   "source": []
  }
 ],
 "metadata": {
  "kernelspec": {
   "display_name": "bayes",
   "language": "python",
   "name": "bayes"
  },
  "language_info": {
   "codemirror_mode": {
    "name": "ipython",
    "version": 3
   },
   "file_extension": ".py",
   "mimetype": "text/x-python",
   "name": "python",
   "nbconvert_exporter": "python",
   "pygments_lexer": "ipython3",
   "version": "3.7.6"
  }
 },
 "nbformat": 4,
 "nbformat_minor": 2
}
