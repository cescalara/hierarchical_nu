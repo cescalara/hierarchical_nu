{
 "cells": [
  {
   "cell_type": "code",
   "execution_count": 1,
   "metadata": {},
   "outputs": [],
   "source": [
    "from MCEq.core import config, MCEqRun\n",
    "import crflux.models as crf\n",
    "# matplotlib used plotting. Not required to run the code.\n",
    "import matplotlib.pyplot as plt\n",
    "import numpy as np\n",
    "from matplotlib.colors import LogNorm\n",
    "import scipy\n",
    "import pickle\n",
    "\n",
    "import sys\n",
    "sys.path.append(\"/home/chrhck/repos/hierarchical_nu/software/\")\n",
    "\n",
    "from python.source.flux_model import FluxModel\n",
    "\n",
    "from python.backend.stan_generator import (\n",
    "    StanGenerator, GeneratedQuantitiesContext, DataContext,\n",
    "    FunctionsContext, Include, ForLoopContext, StanFileGenerator)\n",
    "from python.backend.operations import FunctionCall\n",
    "from python.backend.variable_definitions import ForwardVariableDef, ForwardArrayDef\n",
    "from python.backend.parameterizations import LogParameterization\n",
    "from python.backend.expression import StringExpression\n",
    "from python.backend.parameterizations import DistributionMode\n",
    "import logging\n",
    "logging.basicConfig(level=logging.WARN)\n",
    "import pystan\n",
    "\n",
    "from python.source.atmospheric_flux import AtmosphericNuMuFlux\n",
    "import os\n",
    "from python.cache import Cache\n",
    "# Cache.clear_cache(dry_run=False)\n",
    "from astropy import units as u\n"
   ]
  },
  {
   "cell_type": "code",
   "execution_count": 2,
   "metadata": {},
   "outputs": [
    {
     "name": "stdout",
     "output_type": "stream",
     "text": [
      "MCEqRun::set_interaction_model(): SIBYLL23C\n",
      "ParticleManager::_init_default_tracking(): Initializing default tracking categories (pi, K, mu)\n",
      "MCEqRun::set_density_model(): Setting density profile to CORSIKA ('BK_USStd', None)\n",
      "MCEqRun::set_primary_model(): HillasGaisser2012 H3a\n"
     ]
    },
    {
     "name": "stderr",
     "output_type": "stream",
     "text": [
      "/mnt/c/repos/hierarchical_nu/software/python/source/atmospheric_flux.py:144: RuntimeWarning: invalid value encountered in log10\n",
      "  self._flux_spline = splined_flux\n"
     ]
    }
   ],
   "source": [
    "atmo_flux = AtmosphericNuMuFlux(1E2 * u.GeV, 1E9 * u.GeV)"
   ]
  },
  {
   "cell_type": "code",
   "execution_count": 3,
   "metadata": {},
   "outputs": [],
   "source": [
    "e_true_name = \"e_trues\"\n",
    "true_dir_name = \"true_dirs\"\n",
    "\n",
    "with StanGenerator() as cg:\n",
    "\n",
    "    with FunctionsContext() as fc:\n",
    "        _ = Include(\"utils.stan\")\n",
    "        _ = Include(\"vMF.stan\")\n",
    "        _ = Include(\"interpolation.stan\")\n",
    "\n",
    "    with DataContext() as dc:\n",
    "        array_length = ForwardVariableDef(\"n\", \"int\")\n",
    "        array_length_str = [\"[\", array_length, \"]\"]\n",
    "        \n",
    "        e_trues = ForwardArrayDef(e_true_name, \"real\", array_length_str)       \n",
    "        true_dirs = ForwardArrayDef(true_dir_name, \"vector[3]\", array_length_str)\n",
    "\n",
    "\n",
    "    with GeneratedQuantitiesContext() as gq:\n",
    "        atmo_flux_stan = atmo_flux.make_stan_function()\n",
    "\n",
    "        array_length_2d_str = [\"[\", array_length, \",\", array_length, \"]\"]\n",
    "        atmo_flux_result = ForwardArrayDef(\"atmo_flux_result\", \"real\", array_length_2d_str)\n",
    "\n",
    "        with ForLoopContext(1, array_length, \"i\") as i:\n",
    "            with ForLoopContext(1, array_length, \"j\") as j:\n",
    "                atmo_flux_result[i][j] << atmo_flux_stan(e_trues[i], true_dirs[j])       \n",
    "               \n",
    "    model = cg.generate()"
   ]
  },
  {
   "cell_type": "code",
   "execution_count": 4,
   "metadata": {},
   "outputs": [],
   "source": [
    "this_dir = os.path.abspath('')\n",
    "sm = pystan.StanModel(\n",
    "    model_code=model,\n",
    "    include_paths=[os.path.join(this_dir, \"../dev/statistical_model/4_tracks_and_cascades/stan/\")],\n",
    "    verbose=False)"
   ]
  },
  {
   "cell_type": "code",
   "execution_count": 12,
   "metadata": {},
   "outputs": [],
   "source": [
    "n = 100\n",
    "e_reco = np.logspace(2, 9, n)\n",
    "thetas = np.pi - np.radians(np.linspace(0, 180, n, endpoint=False))\n",
    "true_dir = np.asarray([np.sin(thetas), np.zeros_like(thetas), np.cos(thetas)]).T\n",
    "\n",
    "data = {\n",
    "    e_true_name: e_reco,\n",
    "    true_dir_name: true_dir,\n",
    "    \"n\": n\n",
    "    #\"reco_dir\": dir2\n",
    "}\n",
    "fit = sm.sampling(data=data, iter=1, chains=1, algorithm=\"Fixed_param\")\n"
   ]
  },
  {
   "cell_type": "code",
   "execution_count": 13,
   "metadata": {},
   "outputs": [
    {
     "data": {
      "text/plain": [
       "[]"
      ]
     },
     "execution_count": 13,
     "metadata": {},
     "output_type": "execute_result"
    },
    {
     "data": {
      "image/png": "[encoded data removed]",
      "text/plain": [
       "<Figure size 432x288 with 1 Axes>"
      ]
     },
     "metadata": {
      "needs_background": "light"
     },
     "output_type": "display_data"
    },
    {
     "data": {
      "image/png": "[encoded data removed]",
      "text/plain": [
       "<Figure size 432x288 with 1 Axes>"
      ]
     },
     "metadata": {
      "needs_background": "light"
     },
     "output_type": "display_data"
    },
    {
     "data": {
      "image/png": "[encoded data removed]",
      "text/plain": [
       "<Figure size 432x288 with 2 Axes>"
      ]
     },
     "metadata": {
      "needs_background": "light"
     },
     "output_type": "display_data"
    }
   ],
   "source": [
    "flux_arr = np.empty((n, n))\n",
    "\n",
    "for i, theta in enumerate(thetas):\n",
    "    flux_arr[i] = atmo_flux(e_reco * u.GeV, theta * u.rad - np.pi/2 * u.rad, 0 * u.rad)\n",
    "    \n",
    "    \n",
    "\n",
    "plt.pcolormesh(e_reco, thetas, flux_arr)\n",
    "plt.semilogx()\n",
    "plt.figure()\n",
    "plt.pcolormesh(e_reco, thetas, fit.extract()[\"atmo_flux_result\"].squeeze().T)\n",
    "#plt.plot(e_reco, fit.extract()[\"atmo_flux_result\"].squeeze().T[0]+ 3*np.log10(e_reco))\n",
    "\n",
    "#energies = np.linspace(1, 9, 100)\n",
    "#plt.plot(10**energies, atmo_flux.spectrum(10**energies, 0) + 3*energies)\n",
    "plt.semilogx()\n",
    "plt.figure()\n",
    "plt.pcolormesh(e_reco, thetas, np.log10((fit.extract()[\"atmo_flux_result\"].squeeze().T / flux_arr)), vmin=-1, vmax=1)\n",
    "plt.colorbar()\n",
    "plt.semilogx()"
   ]
  },
  {
   "cell_type": "code",
   "execution_count": 14,
   "metadata": {},
   "outputs": [
    {
     "data": {
      "text/plain": [
       "[<matplotlib.lines.Line2D at 0x7fbf8efe0550>]"
      ]
     },
     "execution_count": 14,
     "metadata": {},
     "output_type": "execute_result"
    },
    {
     "data": {
      "image/png": "[encoded data removed]",
      "text/plain": [
       "<Figure size 432x288 with 1 Axes>"
      ]
     },
     "metadata": {
      "needs_background": "light"
     },
     "output_type": "display_data"
    }
   ],
   "source": [
    "plt.plot(np.degrees(thetas), fit.extract()[\"atmo_flux_result\"].squeeze().T[:,30])\n",
    "plt.plot(np.degrees(thetas), flux_arr[:,30])\n"
   ]
  },
  {
   "cell_type": "code",
   "execution_count": 8,
   "metadata": {},
   "outputs": [
    {
     "ename": "AttributeError",
     "evalue": "'AtmosphericNuMuFlux' object has no attribute 'spectrum'",
     "output_type": "error",
     "traceback": [
      "\u001b[0;31m---------------------------------------------------------------------------\u001b[0m",
      "\u001b[0;31mAttributeError\u001b[0m                            Traceback (most recent call last)",
      "\u001b[0;32m<ipython-input-8-2f0003febcb8>\u001b[0m in \u001b[0;36m<module>\u001b[0;34m\u001b[0m\n\u001b[1;32m      1\u001b[0m \u001b[0menergies\u001b[0m \u001b[0;34m=\u001b[0m \u001b[0mnp\u001b[0m\u001b[0;34m.\u001b[0m\u001b[0mlinspace\u001b[0m\u001b[0;34m(\u001b[0m\u001b[0;36m1\u001b[0m\u001b[0;34m,\u001b[0m \u001b[0;36m9\u001b[0m\u001b[0;34m,\u001b[0m \u001b[0;36m100\u001b[0m\u001b[0;34m)\u001b[0m\u001b[0;34m\u001b[0m\u001b[0;34m\u001b[0m\u001b[0m\n\u001b[0;32m----> 2\u001b[0;31m \u001b[0mplt\u001b[0m\u001b[0;34m.\u001b[0m\u001b[0mplot\u001b[0m\u001b[0;34m(\u001b[0m\u001b[0menergies\u001b[0m\u001b[0;34m,\u001b[0m \u001b[0matmo_flux\u001b[0m\u001b[0;34m.\u001b[0m\u001b[0mspectrum\u001b[0m\u001b[0;34m(\u001b[0m\u001b[0;36m10\u001b[0m\u001b[0;34m**\u001b[0m\u001b[0menergies\u001b[0m\u001b[0;34m,\u001b[0m \u001b[0;36m0\u001b[0m\u001b[0;34m)\u001b[0m \u001b[0;34m+\u001b[0m \u001b[0;36m3\u001b[0m\u001b[0;34m*\u001b[0m\u001b[0menergies\u001b[0m\u001b[0;34m)\u001b[0m\u001b[0;34m\u001b[0m\u001b[0;34m\u001b[0m\u001b[0m\n\u001b[0m\u001b[1;32m      3\u001b[0m \u001b[0mplt\u001b[0m\u001b[0;34m.\u001b[0m\u001b[0mplot\u001b[0m\u001b[0;34m(\u001b[0m\u001b[0menergies\u001b[0m\u001b[0;34m,\u001b[0m \u001b[0matmo_flux\u001b[0m\u001b[0;34m.\u001b[0m\u001b[0mspectrum\u001b[0m\u001b[0;34m(\u001b[0m\u001b[0;36m10\u001b[0m\u001b[0;34m**\u001b[0m\u001b[0menergies\u001b[0m\u001b[0;34m,\u001b[0m \u001b[0mnp\u001b[0m\u001b[0;34m.\u001b[0m\u001b[0mpi\u001b[0m\u001b[0;34m/\u001b[0m\u001b[0;36m4\u001b[0m\u001b[0;34m)\u001b[0m \u001b[0;34m+\u001b[0m \u001b[0;36m3\u001b[0m\u001b[0;34m*\u001b[0m\u001b[0menergies\u001b[0m\u001b[0;34m)\u001b[0m\u001b[0;34m\u001b[0m\u001b[0;34m\u001b[0m\u001b[0m\n\u001b[1;32m      4\u001b[0m \u001b[0mplt\u001b[0m\u001b[0;34m.\u001b[0m\u001b[0mxlabel\u001b[0m\u001b[0;34m(\u001b[0m\u001b[0;34m\"log10(Energy / GeV)\"\u001b[0m\u001b[0;34m)\u001b[0m\u001b[0;34m\u001b[0m\u001b[0;34m\u001b[0m\u001b[0m\n\u001b[1;32m      5\u001b[0m \u001b[0mplt\u001b[0m\u001b[0;34m.\u001b[0m\u001b[0mylabel\u001b[0m\u001b[0;34m(\u001b[0m\u001b[0;34m\"E^3 * Flux\"\u001b[0m\u001b[0;34m)\u001b[0m\u001b[0;34m\u001b[0m\u001b[0;34m\u001b[0m\u001b[0m\n",
      "\u001b[0;31mAttributeError\u001b[0m: 'AtmosphericNuMuFlux' object has no attribute 'spectrum'"
     ]
    }
   ],
   "source": [
    "energies = np.linspace(1, 9, 100)\n",
    "plt.plot(energies, atmo_flux.spectrum(10**energies, 0) + 3*energies)\n",
    "plt.plot(energies, atmo_flux.spectrum(10**energies, np.pi/4) + 3*energies)\n",
    "plt.xlabel(\"log10(Energy / GeV)\")\n",
    "plt.ylabel(\"E^3 * Flux\")\n",
    "zeniths = np.linspace(-90, 0, 100)\n",
    "plt.figure()\n",
    "plt.plot(zeniths, atmo_flux.spectrum(1E5, np.radians(zeniths)) + 3*5)\n",
    "plt.ylabel(\"E^3 * Flux @ 100TeV\")\n",
    "plt.xlabel(\"Declination [deg]\")"
   ]
  },
  {
   "cell_type": "code",
   "execution_count": 9,
   "metadata": {},
   "outputs": [
    {
     "name": "stdout",
     "output_type": "stream",
     "text": [
      "MCEqRun::set_interaction_model(): SIBYLL23C\n",
      "ParticleManager::_init_default_tracking(): Initializing default tracking categories (pi, K, mu)\n",
      "MCEqRun::set_density_model(): Setting density profile to CORSIKA ('BK_USStd', None)\n",
      "MCEqRun::set_primary_model(): HillasGaisser2012 H3a\n"
     ]
    }
   ],
   "source": [
    "mceq = MCEqRun(\n",
    "    # High-energy hadronic interaction model\n",
    "    interaction_model='SIBYLL23C',\n",
    "\n",
    "    # cosmic ray flux at the top of the atmosphere\n",
    "    primary_model = (crf.HillasGaisser2012, 'H3a'),\n",
    "\n",
    "    # zenith angle\n",
    "    theta_deg = 0., \n",
    "    )\n",
    "\n",
    "theta = 7\n",
    "mceq.set_theta_deg(theta)\n",
    "mceq.solve()\n",
    "flux = (mceq.get_solution('numu') +\n",
    "        mceq.get_solution('antinumu'))\n",
    "\n",
    "e_mask = (mceq.e_grid > 1) & (mceq.e_grid < 1E9)\n",
    "erange_lim = mceq.e_grid[e_mask]\n",
    "flux_spline = atmo_flux.spectrum(erange_lim, np.pi/2 -np.radians(theta))\n"
   ]
  },
  {
   "cell_type": "code",
   "execution_count": 10,
   "metadata": {},
   "outputs": [],
   "source": [
    "flux_spline = atmo_flux.spectrum(erange_lim, np.pi/2 -np.radians(theta))"
   ]
  },
  {
   "cell_type": "code",
   "execution_count": 11,
   "metadata": {},
   "outputs": [
    {
     "data": {
      "text/plain": [
       "<matplotlib.lines.Line2D at 0x7f1ce003ecd0>"
      ]
     },
     "execution_count": 11,
     "metadata": {},
     "output_type": "execute_result"
    },
    {
     "data": {
      "image/png": "[encoded data removed]",
      "text/plain": [
       "<Figure size 576x432 with 2 Axes>"
      ]
     },
     "metadata": {
      "needs_background": "light"
     },
     "output_type": "display_data"
    }
   ],
   "source": [
    "from matplotlib import gridspec as gs\n",
    "\n",
    "grid = gs.GridSpec(2, 1, height_ratios = [3, 1])\n",
    "fig = plt.figure(figsize=(8, 6))\n",
    "\n",
    "ax1 = fig.add_subplot(grid[0])\n",
    "ax2 = fig.add_subplot(grid[1])\n",
    "\n",
    "ax1.plot(mceq.e_grid, flux*mceq.e_grid**3)\n",
    "ax1.plot(erange_lim, 10**flux_spline*erange_lim**3)\n",
    "ax1.set_xscale(\"log\")\n",
    "ax1.set_yscale(\"log\")\n",
    "ax2.set_xscale(\"log\")\n",
    "ax2.plot(erange_lim, flux[e_mask]/10**flux_spline)\n",
    "\n",
    "ax2.set_ylim(0.999, 1.001)\n",
    "ax1.set_ylim(1E-6, 1E-1)\n",
    "ax2.set_xlabel(\"Energy [GeV]\")\n",
    "ax1.set_ylabel(r\"$E^3 \\cdot$ Flux [$ Gev^2/cm^{-2}s^{-1}sr^{-1}]$\")\n",
    "ax2.set_ylabel(\"MCeq / Spline\")\n",
    "plt.tight_layout()\n",
    "ax2.axhline(1, ls=\"--\", color=\"k\")\n"
   ]
  },
  {
   "cell_type": "markdown",
   "metadata": {},
   "source": []
  },
  {
   "cell_type": "code",
   "execution_count": 8,
   "metadata": {},
   "outputs": [],
   "source": [
    "flux_spline = atmo_flux.spectrum(erange_lim, np.pi/2 -np.radians(theta))"
   ]
  },
  {
   "cell_type": "code",
   "execution_count": 16,
   "metadata": {},
   "outputs": [
    {
     "data": {
      "text/plain": [
       "[]"
      ]
     },
     "execution_count": 16,
     "metadata": {},
     "output_type": "execute_result"
    },
    {
     "data": {
      "image/png": "[encoded data removed]",
      "text/plain": [
       "<Figure size 432x288 with 1 Axes>"
      ]
     },
     "metadata": {
      "needs_background": "light"
     },
     "output_type": "display_data"
    }
   ],
   "source": [
    "fit = np.polyfit(np.log10(erange_lim), flux_spline, 9)\n",
    "plt.plot(erange_lim, 10**flux_spline*erange_lim**3)\n",
    "plt.plot(erange_lim, 10**np.poly1d(fit)(np.log10(erange_lim))*erange_lim**3)\n",
    "plt.loglog()"
   ]
  },
  {
   "cell_type": "code",
   "execution_count": 17,
   "metadata": {},
   "outputs": [
    {
     "data": {
      "text/plain": [
       "0.0"
      ]
     },
     "execution_count": 17,
     "metadata": {},
     "output_type": "execute_result"
    }
   ],
   "source": [
    "np.arccos(1)"
   ]
  },
  {
   "cell_type": "code",
   "execution_count": 4,
   "metadata": {},
   "outputs": [
    {
     "ename": "TypeError",
     "evalue": "_set_units() takes 1 positional argument but 4 were given",
     "output_type": "error",
     "traceback": [
      "\u001b[0;31m---------------------------------------------------------------------------\u001b[0m",
      "\u001b[0;31mTypeError\u001b[0m                                 Traceback (most recent call last)",
      "\u001b[0;32m<ipython-input-4-4245c0dec5f7>\u001b[0m in \u001b[0;36m<module>\u001b[0;34m\u001b[0m\n\u001b[1;32m      1\u001b[0m \u001b[0matmo_spectrum\u001b[0m \u001b[0;34m=\u001b[0m \u001b[0mAtmosphericNuMuSpectrum\u001b[0m\u001b[0;34m(\u001b[0m\u001b[0;34m)\u001b[0m\u001b[0;34m\u001b[0m\u001b[0;34m\u001b[0m\u001b[0m\n\u001b[1;32m      2\u001b[0m \u001b[0;32mfrom\u001b[0m \u001b[0mpython\u001b[0m\u001b[0;34m.\u001b[0m\u001b[0msource\u001b[0m\u001b[0;34m.\u001b[0m\u001b[0msource\u001b[0m \u001b[0;32mimport\u001b[0m \u001b[0mDiffuseZenithDepSource\u001b[0m\u001b[0;34m\u001b[0m\u001b[0;34m\u001b[0m\u001b[0m\n\u001b[0;32m----> 3\u001b[0;31m \u001b[0mDiffuseZenithDepSource\u001b[0m\u001b[0;34m(\u001b[0m\u001b[0;34m\"atmo\"\u001b[0m\u001b[0;34m,\u001b[0m \u001b[0;36m0\u001b[0m\u001b[0;34m,\u001b[0m \u001b[0mspectral_shape\u001b[0m\u001b[0;34m=\u001b[0m\u001b[0matmo_spectrum\u001b[0m\u001b[0;34m)\u001b[0m\u001b[0;34m\u001b[0m\u001b[0;34m\u001b[0m\u001b[0m\n\u001b[0m",
      "\u001b[0;32m~/repos/hierarchical_nu/software/python/source/source.py\u001b[0m in \u001b[0;36m__init__\u001b[0;34m(self, source_name, redshift, spectral_shape, components)\u001b[0m\n\u001b[1;32m    178\u001b[0m         \u001b[0;32mfor\u001b[0m \u001b[0mcomponent\u001b[0m \u001b[0;32min\u001b[0m \u001b[0mself\u001b[0m\u001b[0;34m.\u001b[0m\u001b[0m_components\u001b[0m\u001b[0;34m.\u001b[0m\u001b[0mvalues\u001b[0m\u001b[0;34m(\u001b[0m\u001b[0;34m)\u001b[0m\u001b[0;34m:\u001b[0m\u001b[0;34m\u001b[0m\u001b[0;34m\u001b[0m\u001b[0m\n\u001b[1;32m    179\u001b[0m \u001b[0;34m\u001b[0m\u001b[0m\n\u001b[0;32m--> 180\u001b[0;31m             \u001b[0mcomponent\u001b[0m\u001b[0;34m.\u001b[0m\u001b[0mshape\u001b[0m\u001b[0;34m.\u001b[0m\u001b[0mset_units\u001b[0m\u001b[0;34m(\u001b[0m\u001b[0mx_unit\u001b[0m\u001b[0;34m,\u001b[0m \u001b[0my_unit\u001b[0m\u001b[0;34m,\u001b[0m \u001b[0mz_unit\u001b[0m\u001b[0;34m)\u001b[0m\u001b[0;34m\u001b[0m\u001b[0;34m\u001b[0m\u001b[0m\n\u001b[0m\u001b[1;32m    181\u001b[0m \u001b[0;34m\u001b[0m\u001b[0m\n\u001b[1;32m    182\u001b[0m     \u001b[0;34m@\u001b[0m\u001b[0mproperty\u001b[0m\u001b[0;34m\u001b[0m\u001b[0;34m\u001b[0m\u001b[0m\n",
      "\u001b[0;32m~/miniconda3/envs/hierarchical_nu/lib/python3.7/site-packages/astromodels/functions/function.py\u001b[0m in \u001b[0;36mset_units\u001b[0;34m(self, in_x_unit, in_y_unit, in_z_unit)\u001b[0m\n\u001b[1;32m   1070\u001b[0m \u001b[0;34m\u001b[0m\u001b[0m\n\u001b[1;32m   1071\u001b[0m         \u001b[0;31m# Now call the underlying method to set units, which is defined by each function\u001b[0m\u001b[0;34m\u001b[0m\u001b[0;34m\u001b[0m\u001b[0;34m\u001b[0m\u001b[0m\n\u001b[0;32m-> 1072\u001b[0;31m         \u001b[0mself\u001b[0m\u001b[0;34m.\u001b[0m\u001b[0m_set_units\u001b[0m\u001b[0;34m(\u001b[0m\u001b[0mself\u001b[0m\u001b[0;34m.\u001b[0m\u001b[0m_x_unit\u001b[0m\u001b[0;34m,\u001b[0m \u001b[0mself\u001b[0m\u001b[0;34m.\u001b[0m\u001b[0m_y_unit\u001b[0m\u001b[0;34m,\u001b[0m \u001b[0mself\u001b[0m\u001b[0;34m.\u001b[0m\u001b[0m_z_unit\u001b[0m\u001b[0;34m)\u001b[0m\u001b[0;34m\u001b[0m\u001b[0;34m\u001b[0m\u001b[0m\n\u001b[0m\u001b[1;32m   1073\u001b[0m \u001b[0;34m\u001b[0m\u001b[0m\n\u001b[1;32m   1074\u001b[0m     \u001b[0;32mdef\u001b[0m \u001b[0m_set_units\u001b[0m\u001b[0;34m(\u001b[0m\u001b[0mself\u001b[0m\u001b[0;34m,\u001b[0m \u001b[0mx_unit\u001b[0m\u001b[0;34m,\u001b[0m \u001b[0my_unit\u001b[0m\u001b[0;34m,\u001b[0m \u001b[0mz_unit\u001b[0m\u001b[0;34m)\u001b[0m\u001b[0;34m:\u001b[0m  \u001b[0;31m# pragma: no cover\u001b[0m\u001b[0;34m\u001b[0m\u001b[0;34m\u001b[0m\u001b[0m\n",
      "\u001b[0;31mTypeError\u001b[0m: _set_units() takes 1 positional argument but 4 were given"
     ]
    }
   ],
   "source": [
    "atmo_spectrum = AtmosphericNuMuSpectrum()\n",
    "from python.source.source import DiffuseZenithDepSource\n",
    "DiffuseZenithDepSource(\"atmo\", 0, spectral_shape=atmo_spectrum)"
   ]
  },
  {
   "cell_type": "code",
   "execution_count": 5,
   "metadata": {},
   "outputs": [
    {
     "ename": "TypeError",
     "evalue": "set_units() missing 3 required positional arguments: 'in_x_unit', 'in_y_unit', and 'in_z_unit'",
     "output_type": "error",
     "traceback": [
      "\u001b[0;31m---------------------------------------------------------------------------\u001b[0m",
      "\u001b[0;31mTypeError\u001b[0m                                 Traceback (most recent call last)",
      "\u001b[0;32m<ipython-input-5-3bfa8613a6ac>\u001b[0m in \u001b[0;36m<module>\u001b[0;34m\u001b[0m\n\u001b[0;32m----> 1\u001b[0;31m \u001b[0matmo_spectrum\u001b[0m\u001b[0;34m.\u001b[0m\u001b[0mset_units\u001b[0m\u001b[0;34m(\u001b[0m\u001b[0;34m)\u001b[0m\u001b[0;34m\u001b[0m\u001b[0;34m\u001b[0m\u001b[0m\n\u001b[0m",
      "\u001b[0;31mTypeError\u001b[0m: set_units() missing 3 required positional arguments: 'in_x_unit', 'in_y_unit', and 'in_z_unit'"
     ]
    }
   ],
   "source": [
    "atmo_spectrum.set_units()"
   ]
  },
  {
   "cell_type": "code",
   "execution_count": 12,
   "metadata": {},
   "outputs": [
    {
     "ename": "TypeError",
     "evalue": "set_units() missing 1 required positional argument: 'in_z_unit'",
     "output_type": "error",
     "traceback": [
      "\u001b[0;31m---------------------------------------------------------------------------\u001b[0m",
      "\u001b[0;31mTypeError\u001b[0m                                 Traceback (most recent call last)",
      "\u001b[0;32m<ipython-input-12-0f776ebfae32>\u001b[0m in \u001b[0;36m<module>\u001b[0;34m\u001b[0m\n\u001b[0;32m----> 1\u001b[0;31m \u001b[0mDiffuseSource\u001b[0m\u001b[0;34m(\u001b[0m\u001b[0;34m\"atmo\"\u001b[0m\u001b[0;34m,\u001b[0m \u001b[0;36m0\u001b[0m\u001b[0;34m,\u001b[0m \u001b[0mspectral_shape\u001b[0m\u001b[0;34m=\u001b[0m\u001b[0matmo_spectrum\u001b[0m\u001b[0;34m)\u001b[0m\u001b[0;34m\u001b[0m\u001b[0;34m\u001b[0m\u001b[0m\n\u001b[0m",
      "\u001b[0;32m~/repos/hierarchical_nu/software/python/source/source.py\u001b[0m in \u001b[0;36m__init__\u001b[0;34m(self, source_name, redshift, spectral_shape, components)\u001b[0m\n\u001b[1;32m    122\u001b[0m         \u001b[0;32mfor\u001b[0m \u001b[0mcomponent\u001b[0m \u001b[0;32min\u001b[0m \u001b[0mself\u001b[0m\u001b[0;34m.\u001b[0m\u001b[0m_components\u001b[0m\u001b[0;34m.\u001b[0m\u001b[0mvalues\u001b[0m\u001b[0;34m(\u001b[0m\u001b[0;34m)\u001b[0m\u001b[0;34m:\u001b[0m\u001b[0;34m\u001b[0m\u001b[0;34m\u001b[0m\u001b[0m\n\u001b[1;32m    123\u001b[0m \u001b[0;34m\u001b[0m\u001b[0m\n\u001b[0;32m--> 124\u001b[0;31m             \u001b[0mcomponent\u001b[0m\u001b[0;34m.\u001b[0m\u001b[0mshape\u001b[0m\u001b[0;34m.\u001b[0m\u001b[0mset_units\u001b[0m\u001b[0;34m(\u001b[0m\u001b[0mx_unit\u001b[0m\u001b[0;34m,\u001b[0m \u001b[0my_unit\u001b[0m\u001b[0;34m)\u001b[0m\u001b[0;34m\u001b[0m\u001b[0;34m\u001b[0m\u001b[0m\n\u001b[0m\u001b[1;32m    125\u001b[0m \u001b[0;34m\u001b[0m\u001b[0m\n\u001b[1;32m    126\u001b[0m     \u001b[0;34m@\u001b[0m\u001b[0mproperty\u001b[0m\u001b[0;34m\u001b[0m\u001b[0;34m\u001b[0m\u001b[0m\n",
      "\u001b[0;31mTypeError\u001b[0m: set_units() missing 1 required positional argument: 'in_z_unit'"
     ]
    }
   ],
   "source": []
  },
  {
   "cell_type": "code",
   "execution_count": null,
   "metadata": {},
   "outputs": [],
   "source": []
  }
 ],
 "metadata": {
  "kernelspec": {
   "display_name": "Python 3",
   "language": "python",
   "name": "python3"
  },
  "language_info": {
   "codemirror_mode": {
    "name": "ipython",
    "version": 3
   },
   "file_extension": ".py",
   "mimetype": "text/x-python",
   "name": "python",
   "nbconvert_exporter": "python",
   "pygments_lexer": "ipython3",
   "version": "3.7.7"
  }
 },
 "nbformat": 4,
 "nbformat_minor": 4
}
