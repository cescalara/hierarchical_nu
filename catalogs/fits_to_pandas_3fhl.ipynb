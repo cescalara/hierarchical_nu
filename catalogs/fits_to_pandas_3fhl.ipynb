{
 "cells": [
  {
   "cell_type": "code",
   "execution_count": 1,
   "metadata": {},
   "outputs": [],
   "source": [
    "import pandas as pd\n",
    "import numpy as np\n",
    "from astropy.io import fits\n",
    "import seaborn as sns"
   ]
  },
  {
   "cell_type": "markdown",
   "metadata": {},
   "source": [
    "# 3FHL catalog\n",
    "from http://www.ssdc.asi.it/fermi3fhl/\n",
    "(you can also download it as txt file .... I just noticed that too late)\n",
    "\n",
    "citation https://arxiv.org/abs/1702.00664"
   ]
  },
  {
   "cell_type": "code",
   "execution_count": 2,
   "metadata": {},
   "outputs": [],
   "source": [
    "with fits.open(\"gll_psch_v13.fit\") as f:\n",
    "    #single out the redshift, if wanted\n",
    "    #redshifts = f[1].data[\"Redshift\"]\n",
    "    \n",
    "    #define some column names to be loaded from file\n",
    "    # columns can be looked at with:\n",
    "    # print(f[1].data.dtype.names)\n",
    "    # warning: some of the columns contain arrays, which then don't play nice with the pandas table\n",
    "    # but they are not in this list below\n",
    "    df_cols = ['Source_Name', 'RAJ2000', 'DEJ2000', 'Redshift', 'Pivot_Energy', 'Flux_Density', 'Unc_Flux_Density', \n",
    "               'Flux', 'Unc_Flux', 'Energy_Flux', 'Unc_Energy_Flux',\n",
    "               'Signif_Curve', 'SpectrumType', 'Spectral_Index', 'Unc_Spectral_Index', 'beta', 'Unc_beta', \n",
    "               'PowerLaw_Index', 'Unc_PowerLaw_Index',\n",
    "               'CLASS'\n",
    "              ]\n",
    "    # separate catalog into data with and without redshift information\n",
    "    threeFHL_rs = pd.DataFrame(columns = df_cols)\n",
    "    threeFHL = pd.DataFrame(columns = df_cols)\n",
    "    for d in f[1].data:\n",
    "        # redshift not NaN\n",
    "        if np.isfinite(d[\"Redshift\"]): \n",
    "            # get all entries for all columns\n",
    "            xdata = [d[atr] for atr in df_cols]    \n",
    "            threeFHL_rs = threeFHL_rs.append(pd.Series(xdata, index=df_cols), \n",
    "                               ignore_index=True)\n",
    "        else:\n",
    "            xdata = [d[atr] for atr in df_cols]    \n",
    "            threeFHL = threeFHL.append(pd.Series(xdata, index=df_cols), \n",
    "                               ignore_index=True)"
   ]
  },
  {
   "cell_type": "code",
   "execution_count": 5,
   "metadata": {},
   "outputs": [
    {
     "data": {
      "text/html": [
       "<div>\n",
       "<style scoped>\n",
       "    .dataframe tbody tr th:only-of-type {\n",
       "        vertical-align: middle;\n",
       "    }\n",
       "\n",
       "    .dataframe tbody tr th {\n",
       "        vertical-align: top;\n",
       "    }\n",
       "\n",
       "    .dataframe thead th {\n",
       "        text-align: right;\n",
       "    }\n",
       "</style>\n",
       "<table border=\"1\" class=\"dataframe\">\n",
       "  <thead>\n",
       "    <tr style=\"text-align: right;\">\n",
       "      <th></th>\n",
       "      <th>Source_Name</th>\n",
       "      <th>RAJ2000</th>\n",
       "      <th>DEJ2000</th>\n",
       "      <th>Redshift</th>\n",
       "      <th>Pivot_Energy</th>\n",
       "      <th>Flux_Density</th>\n",
       "      <th>Unc_Flux_Density</th>\n",
       "      <th>Flux</th>\n",
       "      <th>Unc_Flux</th>\n",
       "      <th>Energy_Flux</th>\n",
       "      <th>Unc_Energy_Flux</th>\n",
       "      <th>Signif_Curve</th>\n",
       "      <th>SpectrumType</th>\n",
       "      <th>Spectral_Index</th>\n",
       "      <th>Unc_Spectral_Index</th>\n",
       "      <th>beta</th>\n",
       "      <th>Unc_beta</th>\n",
       "      <th>PowerLaw_Index</th>\n",
       "      <th>Unc_PowerLaw_Index</th>\n",
       "      <th>CLASS</th>\n",
       "    </tr>\n",
       "  </thead>\n",
       "  <tbody>\n",
       "    <tr>\n",
       "      <th>209</th>\n",
       "      <td>3FHL J0509.4+0542</td>\n",
       "      <td>77.363625</td>\n",
       "      <td>5.706592</td>\n",
       "      <td>NaN</td>\n",
       "      <td>21.446362</td>\n",
       "      <td>9.024403e-12</td>\n",
       "      <td>8.929053e-13</td>\n",
       "      <td>4.007241e-10</td>\n",
       "      <td>3.965564e-11</td>\n",
       "      <td>2.017411e-11</td>\n",
       "      <td>3.283848e-12</td>\n",
       "      <td>1.206573</td>\n",
       "      <td>PowerLaw</td>\n",
       "      <td>2.16159</td>\n",
       "      <td>0.211574</td>\n",
       "      <td>0.161166</td>\n",
       "      <td>0.144337</td>\n",
       "      <td>2.333805</td>\n",
       "      <td>0.133023</td>\n",
       "      <td>bll</td>\n",
       "    </tr>\n",
       "  </tbody>\n",
       "</table>\n",
       "</div>"
      ],
      "text/plain": [
       "           Source_Name    RAJ2000   DEJ2000  Redshift  Pivot_Energy  \\\n",
       "209  3FHL J0509.4+0542  77.363625  5.706592       NaN     21.446362   \n",
       "\n",
       "     Flux_Density  Unc_Flux_Density          Flux      Unc_Flux   Energy_Flux  \\\n",
       "209  9.024403e-12      8.929053e-13  4.007241e-10  3.965564e-11  2.017411e-11   \n",
       "\n",
       "     Unc_Energy_Flux  Signif_Curve SpectrumType  Spectral_Index  \\\n",
       "209     3.283848e-12      1.206573     PowerLaw         2.16159   \n",
       "\n",
       "     Unc_Spectral_Index      beta  Unc_beta  PowerLaw_Index  \\\n",
       "209            0.211574  0.161166  0.144337        2.333805   \n",
       "\n",
       "     Unc_PowerLaw_Index CLASS  \n",
       "209            0.133023   bll  "
      ]
     },
     "execution_count": 5,
     "metadata": {},
     "output_type": "execute_result"
    }
   ],
   "source": [
    "# TXS 0506+056\n",
    "threeFHL[threeFHL.Source_Name==\"3FHL J0509.4+0542\"]"
   ]
  },
  {
   "cell_type": "code",
   "execution_count": 6,
   "metadata": {},
   "outputs": [
    {
     "data": {
      "text/plain": [
       "array([[<matplotlib.axes._subplots.AxesSubplot object at 0x000001C2C60048D0>]],\n",
       "      dtype=object)"
      ]
     },
     "execution_count": 6,
     "metadata": {},
     "output_type": "execute_result"
    },
    {
     "data": {
      "image/png": "[encoded data removed]",
      "text/plain": [
       "<Figure size 432x288 with 1 Axes>"
      ]
     },
     "metadata": {
      "needs_background": "light"
     },
     "output_type": "display_data"
    }
   ],
   "source": [
    "threeFHL_rs.hist(\"Redshift\")"
   ]
  },
  {
   "cell_type": "markdown",
   "metadata": {},
   "source": [
    "# swift-BOB catalog \n",
    "from https://swift.gsfc.nasa.gov/results/bs105mon/\n",
    "\n"
   ]
  },
  {
   "cell_type": "code",
   "execution_count": 7,
   "metadata": {},
   "outputs": [],
   "source": [
    "bat = pd.read_csv(\"BAT_105m_catalog_07jul2019.txt\", sep=\"|\", skipinitialspace=True, comment=\"#\") # it has a nasty style of separation"
   ]
  },
  {
   "cell_type": "code",
   "execution_count": 8,
   "metadata": {},
   "outputs": [
    {
     "data": {
      "image/png": "[encoded data removed]",
      "text/plain": [
       "<Figure size 432x288 with 1 Axes>"
      ]
     },
     "metadata": {
      "needs_background": "light"
     },
     "output_type": "display_data"
    }
   ],
   "source": [
    "ax = bat.hist(\"REDSHIF\") # REDSHIF   .... T .... :D\n",
    "ax[0][0].set_yscale(\"log\")"
   ]
  },
  {
   "cell_type": "markdown",
   "metadata": {},
   "source": [
    "# Star Bob Galaxies  \n",
    "downloaded from https://iopscience.iop.org/article/10.1088/0004-637X/755/2/164#apj435974t1\n",
    "\n",
    "citation https://arxiv.org/abs/1206.1346\n",
    "\n",
    "used also in Auger anisotropy analysis https://arxiv.org/abs/1801.06160"
   ]
  },
  {
   "cell_type": "code",
   "execution_count": 9,
   "metadata": {},
   "outputs": [],
   "source": [
    "sbg = pd.read_csv(\"SBG_apj435974t1_ascii.txt\", skiprows=3, sep=\"\\t\", skipfooter=2, engine=\"python\", comment=\"#\")"
   ]
  },
  {
   "cell_type": "code",
   "execution_count": 11,
   "metadata": {},
   "outputs": [
    {
     "data": {
      "text/plain": [
       "Text(0.5, 0, 'Distance [Mpc]')"
      ]
     },
     "execution_count": 11,
     "metadata": {},
     "output_type": "execute_result"
    },
    {
     "data": {
      "image/png": "[encoded data removed]",
      "text/plain": [
       "<Figure size 432x288 with 1 Axes>"
      ]
     },
     "metadata": {
      "needs_background": "light"
     },
     "output_type": "display_data"
    }
   ],
   "source": [
    "ax = sbg.hist(\"D\")\n",
    "ax[0][0].set_yscale(\"log\")\n",
    "ax[0][0].set_xlabel(\"Distance [Mpc]\")"
   ]
  },
  {
   "cell_type": "markdown",
   "metadata": {},
   "source": [
    "# Bob infrared Galaxy sample\n",
    "downloaded from http://vizier.cfa.harvard.edu/viz-bin/VizieR?-source=J/AJ/126/1607\n",
    "\n",
    "citation https://arxiv.org/abs/astro-ph/0306263\n",
    "\n",
    "also look at http://goals.ipac.caltech.edu/ ??"
   ]
  },
  {
   "cell_type": "code",
   "execution_count": 12,
   "metadata": {},
   "outputs": [],
   "source": [
    "bigs = pd.read_csv(\"bright_infrared_galaxies.tsv\", comment=\"#\", sep=\"\\t\") \n",
    "# there is also a lot of information in the file as a comment, such as units in line below column name"
   ]
  },
  {
   "cell_type": "code",
   "execution_count": 13,
   "metadata": {},
   "outputs": [
    {
     "name": "stdout",
     "output_type": "stream",
     "text": [
      "<class 'pandas.core.frame.DataFrame'>\n",
      "RangeIndex: 629 entries, 0 to 628\n",
      "Data columns (total 48 columns):\n",
      "_RAJ2000    629 non-null float64\n",
      "_DEJ2000    629 non-null float64\n",
      "Name        629 non-null object\n",
      "n_Name      629 non-null object\n",
      "f_Name      629 non-null object\n",
      "IRAS        629 non-null object\n",
      "f_IRAS      629 non-null object\n",
      "RAJ2000     629 non-null object\n",
      "DEJ2000     629 non-null object\n",
      "GLON        629 non-null float64\n",
      "GLAT        629 non-null float64\n",
      "HR          629 non-null object\n",
      "l_F12um     629 non-null object\n",
      "F12um       629 non-null float64\n",
      "u_F12um     629 non-null object\n",
      "e_F12um     629 non-null object\n",
      "S12um       629 non-null object\n",
      "M12um       629 non-null object\n",
      "C12um       629 non-null object\n",
      "F25um       629 non-null float64\n",
      "u_F25um     629 non-null object\n",
      "e_F25um     629 non-null object\n",
      "S25um       629 non-null object\n",
      "M25um       629 non-null object\n",
      "C25um       629 non-null object\n",
      "F60um       629 non-null float64\n",
      "u_F60um     629 non-null object\n",
      "e_F60um     629 non-null object\n",
      "S60um       629 non-null object\n",
      "M60um       629 non-null object\n",
      "C60um       629 non-null object\n",
      "F100um      629 non-null object\n",
      "u_F100um    629 non-null object\n",
      "e_F100um    629 non-null object\n",
      "S100um      629 non-null object\n",
      "M100um      629 non-null object\n",
      "C100um      629 non-null object\n",
      "cz          629 non-null int64\n",
      "Dist        629 non-null float64\n",
      "f_Dist      629 non-null object\n",
      "LogIR1      629 non-null float64\n",
      "u_LogIR1    629 non-null object\n",
      "LogIR2      629 non-null float64\n",
      "u_LogIR2    629 non-null object\n",
      "Rank        629 non-null int64\n",
      "OName       629 non-null object\n",
      "Simbad      629 non-null object\n",
      "NED         629 non-null object\n",
      "dtypes: float64(10), int64(2), object(36)\n",
      "memory usage: 236.0+ KB\n"
     ]
    }
   ],
   "source": [
    "bigs.info()"
   ]
  },
  {
   "cell_type": "code",
   "execution_count": 18,
   "metadata": {},
   "outputs": [
    {
     "data": {
      "image/png": "[encoded data removed]",
      "text/plain": [
       "<Figure size 432x288 with 1 Axes>"
      ]
     },
     "metadata": {
      "needs_background": "light"
     },
     "output_type": "display_data"
    }
   ],
   "source": [
    "ax = bigs.hist(\"Dist\")[0][0]\n",
    "ax.set_xlabel(\"Proper distance in Mpc\")\n",
    "ax.set_yscale(\"log\")"
   ]
  },
  {
   "cell_type": "code",
   "execution_count": 21,
   "metadata": {},
   "outputs": [
    {
     "data": {
      "text/plain": [
       "Text(0.5, 0, 'Proper distance in Mpc')"
      ]
     },
     "execution_count": 21,
     "metadata": {},
     "output_type": "execute_result"
    },
    {
     "data": {
      "image/png": "[encoded data removed]",
      "text/plain": [
       "<Figure size 432x288 with 1 Axes>"
      ]
     },
     "metadata": {
      "needs_background": "light"
     },
     "output_type": "display_data"
    }
   ],
   "source": [
    "# select 20 brightest objects\n",
    "ax = bigs[bigs.Rank<20].hist(\"Dist\")[0][0]\n",
    "ax.set_xlabel(\"Proper distance in Mpc\")\n"
   ]
  },
  {
   "cell_type": "code",
   "execution_count": null,
   "metadata": {},
   "outputs": [],
   "source": []
  }
 ],
 "metadata": {
  "kernelspec": {
   "display_name": "Python 3",
   "language": "python",
   "name": "python3"
  },
  "language_info": {
   "codemirror_mode": {
    "name": "ipython",
    "version": 3
   },
   "file_extension": ".py",
   "mimetype": "text/x-python",
   "name": "python",
   "nbconvert_exporter": "python",
   "pygments_lexer": "ipython3",
   "version": "3.7.3"
  }
 },
 "nbformat": 4,
 "nbformat_minor": 2
}
